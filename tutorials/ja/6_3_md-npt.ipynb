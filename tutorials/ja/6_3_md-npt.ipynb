{
 "cells": [
  {
   "cell_type": "markdown",
   "id": "b830ba41-6e25-42cf-8d01-0ed24d4eb02e",
   "metadata": {},
   "source": [
    "# 等圧等温（NPT）アンサンブル\n",
    "\n",
    "## TL;DR\n",
    "\n",
    "- NPT-MDシミュレーションでは圧力と温度が一定に制御される手法で、圧力制御（barostat）に関してASEではParrinello-Rahman法、Berendsen法の2種類の一般的な手法が存在。\n",
    "- 用途としては固体や流体の熱膨張、相転移、加圧状態のシミュレーション等\n",
    "- Parrinello-Rahman法ではシミュレーションのセルの自由度が全て可変。pfactorを適切に設定する必要があり。\n",
    "- Berendsen barostatではBerendsen thermostatと同様、非常に効率的に収束性良く制御可能。Berendsen barostatはセルの角度は固定して各セル長を独立に可変、もしくは各セル長の比率を固定する2つのモードで計算可能。compressibilityを入力パラメーターとして適切に設定が必要。\n",
    "\n",
    "\n",
    "本節では圧力と温度の両方が一定となるような平衡状態を作る計算手法について説明します。一般に圧力制御の仕組みはbarostatと呼ばれ、一般に6-2節で出てきた熱浴法（thermostat）と同時に用いることで等温等圧アンサンブル（isothermal-isobaric ensemble、またはNPT）と呼ばれる状態分布を生成することを目的としてます。NPT-MDシミュレーションで（原理的に）検討可能な現象には\n",
    "\n",
    "- 固体の熱膨張率\n",
    "- 融点の予測\n",
    "- 固体の相転移\n",
    "- 流体（ガス、液体）の密度予測\n",
    "\n",
    "etc.\n",
    "\n",
    "が考えられます。*原理的*にという枕詞がついている理由は、これらの現象の再現性は計算に用いる力場の精度に大きく依存するためで、特に小さなエネルギー差に依存する分子間力や流体の状態予測は非常に難しいことが知られているからです。本チュートリアルでは比較的精度が高いと考えられる固体の事例を通してNPT-MDについて学んでいきます。\n",
    "\n",
    "まずは本チュートリアルで利用する[ASEに実装されているNPT-MDの手法](https://wiki.fysik.dtu.dk/ase/ase/md.html#module-ase.md.npt)について確認します。2022年6月現在、ASEで標準的に利用可能な実装は以下の3種類が存在します。\n",
    "\n",
    "| クラス名 | ensemble | パラメーター | 熱浴 | 圧力制御 | コメント |\n",
    "|----------|----------|-------------|------|------|----------|\n",
    "| NPT | NPT | 時定数($\\tau_t$),圧力因子(*pfactor*) | Nosé–Hoover|Parrinello-Rahman| セルの全自由度が可変、制御可能 |\n",
    "| NPTBerendsen | NPT | $\\tau_t$,$\\tau_P$,$\\beta_T$ | Berendsen|Berendsen| セル形状は維持し体積変化のみ|\n",
    "| InhomogeneousBerendsen | NPT | $\\tau_t$,$\\tau_P$,$\\beta_T$ | Berendsen|Berendsen| セル角度は保持するが、圧力の異方性は考慮可能|\n",
    "\n",
    "表中の２番目と３番目の手法はBerendsen barostatで本質的に同じものです。（ちなみに3番目の手法であるInhomogeneousBerendsenはASEのマニュアルで記載はないのですが、NPTBerendsenとともにASEのなかでクラスが定義されています。）したがって、ASEのフレームワーク内で使える機能としてはParrinello-Rahman法とBerendsen法の２種類のみになります。熱浴自体は6-2節で解説した手法が用いられているので、これらの熱浴法の特徴をよく考慮する必要があります。\n",
    "\n",
    "それではまず、系の自由度と汎用性が比較的高いParrinnello-Rahman法を見てみましょう。"
   ]
  },
  {
   "cell_type": "markdown",
   "id": "feb0b802-0fb9-49a7-b148-c0648e56f89c",
   "metadata": {},
   "source": [
    "## Parrinello-Rahman法の運動方程式\n",
    "\n",
    "Parrinello-Rahman法はいわゆる拡張系の計算手法で、Nosé–Hoover熱浴法の時のように、計算対象の系が仮想的に外部の一定温度、一定圧力の系と接続されていることを仮定します。この場合の運動方程式は下記のように記述されます。（導出の詳細については参考文献[1-3]をご確認ください。）\n",
    "\n",
    "$$ \\dot{\\mathbf{x}_i} = \\mathbf{p}_i/m_i + \\eta(\\mathbf{x}_i-\\mathbf{R}_o) $$\n",
    "\n",
    "$$ \\dot{\\mathbf{p}_i} = \\mathbf{F_i}-(\\eta+\\zeta)\\mathbf{p}_i $$\n",
    "\n",
    "$$ \\dot{\\zeta} = \\frac{1}{\\tau_T^2}\\left(\\frac{T(t)}{T_o}-1\\right)-3\\eta\\zeta $$\n",
    "\n",
    "$$ \\dot{s} = 3(N-1) s\\zeta $$\n",
    "\n",
    "$$ \\dot{\\mathbf{\\eta}} = \\frac{V}{\\tau_P^2Nk_BT_o}\\left(\\mathbf{P(t)}-P_o\\mathbf{I}\\right)+3\\frac{\\tau_T^2}{\\tau_P^2}\\zeta^2\\mathbf{I}$$\n",
    "\n",
    "$$ \\dot{\\mathbf{h}}=\\mathbf{\\eta}\\mathbf{h} $$\n",
    "\n",
    "\n",
    "ここでNosé–Hoover熱浴以外の項に限定すると、圧力制御の時定数$\\tau_P$、系の重心$R_o$, 目標の外圧$P_o$,シミュレーションセル体積$V$があります。$\\eta$が圧力制御自由度を表す変数になっています。$\\mathbf{h} = (\\mathbf{a}, \\mathbf{b}, \\mathbf{c})$で$\\mathbf{a},\\mathbf{b},\\mathbf{c}$はそれぞれシミュレーションセルの各辺を定義するセルベクトルです。\n",
    "\n",
    "上記の方程式で温度$T_o$や圧力$P_o$以外にユーザーが設定しなければいけない値は$\\tau_T$と$\\tau_P$の2つがあります。それではまず、単純に$\\tau_T$と$\\tau_P$にを任意の値に設定した場合を以下に示します。ここで$\\tau_T$を20 fsecとしています。$\\tau_P$を直接指定しませんが、pfactorと呼ばれる値が$\\tau_P^2B$となります。$B$はbulk modulusを指しており、この値をあらかじめ計算して指定する必要があります。しかし、$\\tau_P$自体の正確な値が事前にわからないのでpfactorを特定する術がありません。また$B$の値も異方性を示す構造や異なるタイプの物質が混在する際は計算しようがありません。したがって、pfactorそのものの概ねの値を設定してbarostatの挙動を調べます。以下の例でも言及しますが、少なくとも金属の結晶系では約10$^6$  GPa$\\cdot$fs$^2$ から10$^7$  GPa$\\cdot$fs$^2$ のオーダーの値を用いると計算が安定して収束性も良いようです。それ以外の材料となる場合は、念のため事前検討として、pfactorの値を振ってみて体積変化の様子を確認しておくことをオススメします。"
   ]
  },
  {
   "cell_type": "markdown",
   "id": "011ba02a-6065-4431-ac09-efea2237dd1f",
   "metadata": {},
   "source": [
    "## 計算事例：熱膨張係数の計算\n",
    "\n",
    "それではNPTアンサンブルの計算事例としてNosé–Hoover thermostatとParrinello-Rahman barostat（[ASEのNPTクラス](https://wiki.fysik.dtu.dk/ase/ase/md.html#module-ase.md.npt)）を使って固体の熱膨張係数を計算してみます。温度を変化させながら熱平衡状態を作り出し、その時の格子定数の平均値から各温度における熱膨張係数を算出します。\n",
    "\n",
    "今回は簡単のためfcc-Cuを用いて計算を行います。計算に用いられるスクリプトは以下のとおりです。温度は200 Kから1000 Kまで100 K刻み、外圧は1 barとします。対象の構造はfcc-Cuを3x3x3 unit cellsに拡張して108原子で計算を行います。以下では高速性のためASAP3-EMT力場を用いていますが、PFPで計算する場合も全く同様です。時間ステップは1 fsで20 psのシミュレーションで十分に平衡状態に達します。"
   ]
  },
  {
   "cell_type": "code",
   "execution_count": 1,
   "id": "b7a9212a-63ed-4925-a558-b544cfcd274a",
   "metadata": {
    "tags": []
   },
   "outputs": [
    {
     "name": "stdout",
     "output_type": "stream",
     "text": [
      "atoms_in =  Atoms(symbols='Cu108', pbc=True, cell=[10.83, 10.83, 10.83])\n",
      "i,temperature =  0 200\n",
      "sigma = 1.0e+00 bar\n",
      "ttime = 20.000 fs\n",
      "pfactor = 2000000.000 GPa*fs^2\n",
      "log_filename =  ./output/ch6/fcc-Cu_3x3x3_NPT_EMT_0200K.log\n",
      "traj_filename =  ./output/ch6/fcc-Cu_3x3x3_NPT_EMT_0200K.traj\n",
      "    imd     Etot(eV)    T(K)    stress(mean,xx,yy,zz,yz,xz,xy)(GPa)  elapsed_time(sec)\n",
      "  1000   3.978    166.23    0.80  0.81  0.76  0.83  -0.01  0.27  0.04    1.133\n",
      "  2000   4.698    164.97    0.67  0.61  0.63  0.77  -0.09  0.19  0.04    2.063\n",
      "  3000   5.725    201.32    0.13  -0.12  0.25  0.28  0.08  -0.07  -0.02    3.005\n",
      "  4000   6.272    209.89    -0.60  -0.85  -0.19  -0.74  0.09  -0.14  -0.14    3.898\n",
      "  5000   4.987    194.84    -0.32  -0.15  -0.25  -0.55  0.07  0.02  0.06    4.764\n",
      "  6000   5.138    194.18    -0.03  0.16  -0.35  0.08  0.18  -0.01  0.43    5.630\n",
      "  7000   6.007    192.54    0.12  0.35  -0.45  0.45  0.54  -0.11  0.41    6.510\n",
      "  8000   5.714    213.34    0.58  0.50  0.45  0.78  0.49  -0.06  0.25    7.411\n",
      "  9000   4.851    187.68    0.19  0.12  0.35  0.09  0.11  -0.44  0.06    8.289\n",
      "  10000   5.044    185.88    -0.53  -0.64  -0.18  -0.77  0.11  -0.61  -0.23    9.174\n",
      "  11000   6.226    212.41    -0.88  -0.97  -0.86  -0.82  -0.10  -0.16  -0.12    10.012\n",
      "  12000   5.503    187.05    0.19  0.22  0.03  0.33  0.16  -0.49  0.11    10.836\n",
      "  13000   5.462    217.03    0.78  0.72  0.77  0.84  0.09  -0.43  0.15    11.658\n",
      "  14000   5.579    195.67    0.18  -0.09  0.43  0.20  0.19  -0.51  -0.08    12.468\n",
      "  15000   5.650    214.89    -0.43  -0.54  -0.08  -0.66  0.22  -0.47  0.17    13.278\n",
      "  16000   5.339    170.60    -0.73  -0.83  -0.65  -0.70  0.28  -0.49  -0.01    14.089\n",
      "  17000   4.925    187.46    0.20  0.18  -0.04  0.45  -0.15  -0.30  -0.06    14.897\n",
      "  18000   4.952    175.70    0.72  0.63  0.45  1.06  -0.17  0.01  -0.04    15.708\n",
      "  19000   4.997    176.19    0.58  0.54  0.63  0.57  -0.14  -0.38  -0.04    16.517\n",
      "  20000   4.938    185.59    0.02  0.01  0.18  -0.14  -0.38  -0.44  0.34    17.355\n",
      "i,temperature =  1 300\n",
      "sigma = 1.0e+00 bar\n",
      "ttime = 20.000 fs\n",
      "pfactor = 2000000.000 GPa*fs^2\n",
      "log_filename =  ./output/ch6/fcc-Cu_3x3x3_NPT_EMT_0300K.log\n",
      "traj_filename =  ./output/ch6/fcc-Cu_3x3x3_NPT_EMT_0300K.traj\n",
      "    imd     Etot(eV)    T(K)    stress(mean,xx,yy,zz,yz,xz,xy)(GPa)  elapsed_time(sec)\n",
      "  1000   7.654    299.88    -0.07  0.33  -0.11  -0.43  -0.16  0.12  -0.51    0.832\n",
      "  2000   9.322    332.30    0.81  1.18  0.62  0.64  -0.09  0.02  0.14    1.652\n",
      "  3000   7.319    249.97    2.00  2.24  1.63  2.14  -0.04  -0.13  -0.12    2.472\n",
      "  4000   7.429    277.97    1.04  1.16  0.74  1.23  -0.05  -0.13  0.04    3.299\n",
      "  5000   7.835    316.40    -0.59  -0.60  -0.77  -0.42  0.44  0.01  0.48    4.118\n",
      "  6000   7.766    289.53    -1.38  -1.40  -1.20  -1.54  0.39  -0.21  0.73    4.932\n",
      "  7000   9.249    312.54    -1.00  -0.94  -0.79  -1.26  0.11  0.33  0.73    5.749\n",
      "  8000   9.578    325.69    0.45  0.21  0.60  0.54  0.14  -0.09  0.54    6.571\n",
      "  9000   9.292    293.75    1.21  0.79  1.50  1.33  -0.13  -0.71  0.76    7.387\n",
      "  10000   8.428    301.90    1.00  0.84  1.15  1.01  0.03  -0.07  0.75    8.232\n",
      "  11000   7.516    282.29    -0.30  0.02  -0.47  -0.45  -0.16  0.12  0.45    9.052\n",
      "  12000   8.321    304.88    -1.49  -1.19  -1.47  -1.80  -0.05  -0.50  0.26    9.872\n",
      "  13000   8.785    295.99    -1.28  -1.41  -1.31  -1.12  0.06  -0.26  0.18    10.691\n",
      "  14000   7.991    272.72    0.55  0.01  0.72  0.91  -0.10  -0.33  0.21    11.508\n",
      "  15000   8.030    281.03    1.53  1.22  1.58  1.78  -0.20  -0.10  0.09    12.327\n",
      "  16000   8.779    318.99    0.96  0.98  0.94  0.94  -0.61  -0.36  0.04    13.153\n",
      "  17000   7.856    280.24    -0.14  0.29  -0.33  -0.39  -0.77  -0.05  -0.35    14.034\n",
      "  18000   8.726    356.50    -1.18  -1.16  -1.17  -1.21  -0.49  0.14  0.16    14.862\n",
      "  19000   9.173    328.31    -1.50  -1.84  -1.40  -1.27  -0.60  0.01  0.14    15.749\n",
      "  20000   7.327    267.16    0.47  -0.02  0.60  0.82  -0.23  -0.34  -0.13    16.770\n",
      "i,temperature =  2 400\n",
      "sigma = 1.0e+00 bar\n",
      "ttime = 20.000 fs\n",
      "pfactor = 2000000.000 GPa*fs^2\n",
      "log_filename =  ./output/ch6/fcc-Cu_3x3x3_NPT_EMT_0400K.log\n",
      "traj_filename =  ./output/ch6/fcc-Cu_3x3x3_NPT_EMT_0400K.traj\n",
      "    imd     Etot(eV)    T(K)    stress(mean,xx,yy,zz,yz,xz,xy)(GPa)  elapsed_time(sec)\n",
      "  1000   10.098    397.37    -1.39  -1.40  -1.59  -1.17  0.40  0.01  0.18    1.230\n",
      "  2000   10.254    405.68    1.08  0.95  1.01  1.28  0.13  -0.22  0.04    2.132\n",
      "  3000   10.624    380.96    3.05  2.86  3.07  3.20  0.40  0.22  0.31    3.247\n",
      "  4000   11.342    354.85    3.15  3.24  3.27  2.94  0.19  0.50  0.19    4.358\n",
      "  5000   10.732    357.70    1.49  1.68  1.32  1.48  0.29  0.08  -0.17    5.202\n",
      "  6000   11.075    429.36    -1.11  -0.78  -1.23  -1.32  0.67  -0.12  0.19    6.050\n",
      "  7000   10.846    382.45    -3.32  -3.71  -2.82  -3.44  0.59  0.49  0.21    6.884\n",
      "  8000   10.633    392.35    -2.98  -3.51  -2.75  -2.67  0.54  0.10  0.52    7.717\n",
      "  9000   10.706    436.02    -0.44  -0.67  -0.28  -0.36  0.26  0.01  0.35    8.542\n",
      "  10000   10.366    363.55    2.09  2.27  1.74  2.26  0.08  -0.18  0.76    9.368\n",
      "  11000   11.086    365.36    3.19  3.37  3.03  3.18  0.21  -0.38  0.18    10.199\n",
      "  12000   11.349    384.52    2.52  2.57  2.77  2.22  0.17  -0.34  -0.12    11.028\n",
      "  13000   11.061    369.82    -0.09  -0.59  0.15  0.18  -0.30  -0.66  0.42    11.850\n",
      "  14000   11.056    423.24    -2.49  -2.83  -2.21  -2.45  0.13  -0.56  0.62    12.674\n",
      "  15000   11.261    383.06    -3.35  -3.01  -3.48  -3.56  0.38  -0.49  0.33    13.494\n",
      "  16000   10.551    376.12    -1.44  -1.12  -1.75  -1.45  0.32  -0.16  0.65    14.317\n",
      "  17000   11.942    434.60    0.54  0.55  0.57  0.52  -0.12  -0.28  -0.09    15.137\n",
      "  18000   12.471    435.71    2.31  2.00  2.75  2.19  0.45  -0.53  -0.36    15.985\n",
      "  19000   12.968    409.56    1.98  1.67  2.15  2.14  -0.44  -0.24  -0.01    16.822\n",
      "  20000   10.564    354.54    1.47  1.72  1.24  1.46  -0.39  -0.45  0.02    17.654\n",
      "i,temperature =  3 500\n",
      "sigma = 1.0e+00 bar\n",
      "ttime = 20.000 fs\n",
      "pfactor = 2000000.000 GPa*fs^2\n",
      "log_filename =  ./output/ch6/fcc-Cu_3x3x3_NPT_EMT_0500K.log\n",
      "traj_filename =  ./output/ch6/fcc-Cu_3x3x3_NPT_EMT_0500K.traj\n",
      "    imd     Etot(eV)    T(K)    stress(mean,xx,yy,zz,yz,xz,xy)(GPa)  elapsed_time(sec)\n",
      "  1000   14.673    520.26    -3.31  -3.38  -3.53  -3.03  -0.11  0.31  0.39    0.824\n",
      "  2000   14.639    536.98    -1.21  -1.35  -1.42  -0.86  -0.04  -0.14  0.01    1.753\n",
      "  3000   13.517    458.72    1.10  0.64  1.27  1.39  0.10  -0.17  0.04    2.687\n",
      "  4000   14.045    478.80    2.65  2.58  2.85  2.52  0.41  0.05  0.00    3.598\n",
      "  5000   15.437    484.76    2.34  2.45  2.13  2.45  -0.24  0.16  -0.48    4.469\n",
      "  6000   15.525    516.64    1.79  2.26  1.21  1.91  0.39  -0.09  0.41    5.300\n",
      "  7000   13.855    471.34    0.77  1.16  0.31  0.84  0.72  0.16  -0.58    6.141\n",
      "  8000   13.553    484.43    -1.06  -1.28  -1.09  -0.81  0.86  0.70  -0.07    6.970\n",
      "  9000   14.460    530.01    -2.49  -2.74  -2.32  -2.42  0.69  0.89  -0.44    7.797\n",
      "  10000   14.742    534.49    -2.72  -2.71  -2.65  -2.81  1.05  0.24  -0.85    8.624\n",
      "  11000   13.574    465.51    -1.36  -1.33  -1.50  -1.26  0.35  0.33  -0.30    9.451\n",
      "  12000   14.380    504.15    0.38  0.17  0.60  0.36  0.46  0.49  -0.72    10.281\n",
      "  13000   14.959    464.34    1.59  1.41  1.75  1.60  0.00  0.42  -0.23    11.106\n",
      "  14000   13.694    435.18    2.74  3.18  2.46  2.56  -0.14  0.67  -0.29    11.948\n",
      "  15000   14.828    468.54    1.60  1.77  1.33  1.72  -0.38  0.57  -0.43    12.771\n",
      "  16000   14.646    498.14    0.30  0.43  0.42  0.05  0.32  0.14  -0.47    13.649\n",
      "  17000   13.559    495.21    -0.86  -0.78  -0.58  -1.20  0.33  0.75  -0.63    14.475\n",
      "  18000   14.272    518.76    -2.41  -2.63  -2.26  -2.35  -0.06  0.67  -0.53    15.338\n",
      "  19000   12.809    504.62    -1.59  -1.63  -1.70  -1.45  -0.58  1.07  -0.71    16.204\n",
      "  20000   14.694    505.54    -1.32  -1.44  -1.41  -1.10  -0.14  1.15  0.53    17.087\n",
      "i,temperature =  4 600\n",
      "sigma = 1.0e+00 bar\n",
      "ttime = 20.000 fs\n",
      "pfactor = 2000000.000 GPa*fs^2\n",
      "log_filename =  ./output/ch6/fcc-Cu_3x3x3_NPT_EMT_0600K.log\n",
      "traj_filename =  ./output/ch6/fcc-Cu_3x3x3_NPT_EMT_0600K.traj\n",
      "    imd     Etot(eV)    T(K)    stress(mean,xx,yy,zz,yz,xz,xy)(GPa)  elapsed_time(sec)\n",
      "  1000   14.309    488.11    -3.44  -3.10  -4.03  -3.19  -0.34  -0.01  -0.08    0.927\n",
      "  2000   15.377    533.39    -3.38  -3.23  -3.69  -3.22  -0.11  0.38  -0.01    1.764\n",
      "  3000   14.439    503.41    -1.09  -1.79  -0.48  -1.02  0.18  0.90  0.26    2.596\n",
      "  4000   17.430    671.39    0.15  0.32  0.15  -0.02  -0.36  -0.20  0.44    3.425\n",
      "  5000   15.922    538.48    2.68  2.79  2.95  2.30  0.18  0.39  -0.05    4.251\n",
      "  6000   16.884    523.87    3.28  3.55  3.29  2.99  0.15  0.45  -0.19    5.078\n",
      "  7000   17.547    560.94    3.75  3.28  3.94  4.03  0.35  0.51  0.09    5.905\n",
      "  8000   19.650    613.92    2.91  2.38  3.60  2.73  0.24  0.97  -0.31    6.727\n",
      "  9000   17.656    558.54    2.59  2.58  2.40  2.78  1.23  1.02  -0.19    7.577\n",
      "  10000   17.574    631.69    1.78  2.24  0.86  2.22  0.38  1.09  0.27    8.410\n",
      "  11000   17.762    636.11    -0.50  -0.71  -0.65  -0.15  0.30  1.19  0.27    9.253\n",
      "  12000   13.458    461.03    -1.11  -1.54  -0.12  -1.67  0.20  1.09  0.47    10.191\n",
      "  13000   14.940    555.56    -1.93  -1.88  -1.31  -2.59  -0.80  1.23  0.49    11.024\n",
      "  14000   15.085    534.58    -2.66  -2.55  -3.09  -2.34  -0.57  1.17  0.58    11.866\n",
      "  15000   16.737    591.48    -3.02  -2.98  -3.28  -2.80  -0.62  1.10  0.62    12.738\n",
      "  16000   16.577    595.75    -1.98  -1.66  -1.85  -2.42  -0.14  0.34  0.62    13.611\n",
      "  17000   17.616    640.28    -0.82  -0.38  -0.33  -1.74  0.49  0.66  0.44    14.444\n",
      "  18000   15.836    530.52    0.90  1.28  0.55  0.86  -0.09  0.30  -0.37    15.278\n",
      "  19000   16.765    574.35    2.02  1.37  1.98  2.72  -0.35  0.62  0.32    16.114\n",
      "  20000   17.810    631.17    2.75  2.65  2.65  2.94  0.13  0.36  -0.19    16.981\n",
      "i,temperature =  5 700\n",
      "sigma = 1.0e+00 bar\n",
      "ttime = 20.000 fs\n",
      "pfactor = 2000000.000 GPa*fs^2\n",
      "log_filename =  ./output/ch6/fcc-Cu_3x3x3_NPT_EMT_0700K.log\n",
      "traj_filename =  ./output/ch6/fcc-Cu_3x3x3_NPT_EMT_0700K.traj\n",
      "    imd     Etot(eV)    T(K)    stress(mean,xx,yy,zz,yz,xz,xy)(GPa)  elapsed_time(sec)\n",
      "  1000   20.594    818.34    -7.78  -7.91  -7.12  -8.30  -0.17  -0.88  1.03    0.869\n",
      "  2000   18.389    640.07    -7.07  -7.01  -7.39  -6.80  -0.19  -1.83  1.51    1.709\n",
      "  3000   18.585    717.27    -6.12  -6.24  -6.68  -5.43  -0.54  -1.84  0.99    2.546\n",
      "  4000   18.007    598.71    -6.10  -6.54  -5.32  -6.44  -0.23  -1.68  1.43    3.380\n",
      "  5000   19.528    697.28    -5.77  -6.63  -5.48  -5.19  -0.24  -1.36  0.96    4.221\n",
      "  6000   19.696    727.41    -5.21  -5.57  -5.03  -5.02  -0.49  -1.55  0.33    5.055\n",
      "  7000   21.996    754.22    -5.51  -5.01  -5.78  -5.75  0.26  -1.33  0.52    6.081\n",
      "  8000   20.226    752.49    -3.93  -3.80  -4.07  -3.92  -0.78  -0.37  -0.32    6.965\n",
      "  9000   18.830    660.58    -2.78  -2.97  -2.73  -2.63  -0.77  0.39  0.26    7.896\n",
      "  10000   20.346    803.03    -0.99  -0.97  -1.24  -0.77  -0.93  0.02  0.18    8.749\n",
      "  11000   19.890    763.27    -1.02  -0.08  -1.38  -1.60  -1.22  -0.42  1.06    9.595\n",
      "  12000   18.734    664.62    0.07  0.88  0.04  -0.73  -1.97  -0.02  0.78    10.430\n",
      "  13000   19.332    621.22    0.40  0.20  1.26  -0.27  -1.37  -0.82  0.14    11.315\n",
      "  14000   20.502    657.99    1.07  0.34  0.92  1.96  -1.80  -0.38  -0.47    12.160\n",
      "  15000   20.546    633.89    1.32  1.56  1.12  1.28  -1.03  -1.55  -0.50    13.000\n",
      "  16000   21.013    661.66    2.10  2.82  1.65  1.82  -1.78  -0.52  -0.29    13.839\n",
      "  17000   22.299    711.83    2.18  2.66  2.39  1.51  -1.58  -1.63  0.06    14.751\n",
      "  18000   23.074    760.55    1.93  1.80  2.15  1.84  -0.76  -1.42  0.95    15.653\n",
      "  19000   22.322    730.21    1.86  2.19  1.40  2.00  -0.66  -0.96  -0.12    16.504\n",
      "  20000   21.319    685.32    1.59  1.71  1.81  1.26  -0.85  -1.59  -0.00    17.343\n",
      "i,temperature =  6 800\n",
      "sigma = 1.0e+00 bar\n",
      "ttime = 20.000 fs\n",
      "pfactor = 2000000.000 GPa*fs^2\n",
      "log_filename =  ./output/ch6/fcc-Cu_3x3x3_NPT_EMT_0800K.log\n",
      "traj_filename =  ./output/ch6/fcc-Cu_3x3x3_NPT_EMT_0800K.traj\n",
      "    imd     Etot(eV)    T(K)    stress(mean,xx,yy,zz,yz,xz,xy)(GPa)  elapsed_time(sec)\n",
      "  1000   19.615    699.02    -7.17  -7.17  -7.03  -7.30  0.45  0.60  1.00    0.838\n",
      "  2000   22.314    737.39    -7.19  -6.79  -7.49  -7.29  -0.19  0.42  1.92    1.670\n",
      "  3000   22.217    905.76    -5.00  -5.64  -4.91  -4.44  -0.83  1.62  2.00    2.499\n",
      "  4000   21.086    766.84    -3.02  -2.85  -2.47  -3.76  -0.50  0.63  2.62    3.329\n",
      "  5000   19.333    691.99    -1.10  -0.48  -1.21  -1.60  -1.02  1.20  2.26    4.160\n",
      "  6000   22.632    769.16    -0.51  -1.08  -0.34  -0.10  -0.29  1.13  1.81    5.005\n",
      "  7000   22.952    749.84    0.28  0.31  -0.18  0.71  -0.33  0.67  1.51    5.835\n",
      "  8000   22.408    679.48    0.24  -0.03  0.45  0.29  -0.44  -0.01  1.50    6.693\n",
      "  9000   25.025    887.54    -0.93  -1.40  -0.56  -0.82  -0.13  0.31  1.59    7.587\n",
      "  10000   23.422    848.35    0.64  0.89  0.68  0.36  0.86  0.94  0.33    8.528\n",
      "  11000   26.432    840.75    0.59  0.19  0.09  1.50  0.92  0.73  -1.06    9.393\n",
      "  12000   23.960    769.43    1.35  0.90  1.32  1.84  1.39  0.82  -0.92    10.238\n",
      "  13000   23.571    869.00    1.94  1.60  2.73  1.50  1.45  0.25  0.01    11.074\n",
      "  14000   22.455    755.61    1.09  1.35  0.76  1.17  0.82  -0.78  -0.08    11.911\n",
      "  15000   24.966    841.11    0.45  0.46  0.02  0.88  -0.05  -0.92  -0.30    12.793\n",
      "  16000   23.094    776.38    1.10  0.93  1.01  1.36  0.61  -0.83  -0.08    13.680\n",
      "  17000   25.367    860.67    0.45  1.32  -0.10  0.13  -0.55  -0.23  0.19    14.569\n",
      "  18000   24.627    821.41    1.38  1.82  1.07  1.24  -1.23  -0.52  0.40    15.541\n",
      "  19000   23.767    761.80    1.47  1.25  2.39  0.77  0.13  -0.34  1.33    16.403\n",
      "  20000   24.721    787.23    1.39  0.82  1.37  1.99  0.09  0.48  0.51    17.277\n",
      "i,temperature =  7 900\n",
      "sigma = 1.0e+00 bar\n",
      "ttime = 20.000 fs\n",
      "pfactor = 2000000.000 GPa*fs^2\n",
      "log_filename =  ./output/ch6/fcc-Cu_3x3x3_NPT_EMT_0900K.log\n",
      "traj_filename =  ./output/ch6/fcc-Cu_3x3x3_NPT_EMT_0900K.traj\n",
      "    imd     Etot(eV)    T(K)    stress(mean,xx,yy,zz,yz,xz,xy)(GPa)  elapsed_time(sec)\n",
      "  1000   23.834    788.37    -7.03  -6.71  -7.68  -6.70  -1.12  -1.30  0.58    0.857\n",
      "  2000   26.979    841.52    -0.89  -0.63  -0.05  -1.98  -2.60  -1.04  0.28    1.708\n",
      "  3000   31.115    1010.60    0.63  -0.16  1.30  0.76  -2.05  -1.11  0.44    2.555\n",
      "  4000   30.643    915.34    0.85  0.83  0.33  1.39  -1.24  -1.05  -0.06    3.400\n",
      "  5000   29.591    901.35    1.41  1.80  1.77  0.66  -0.50  -0.96  -0.77    4.329\n",
      "  6000   27.527    1016.01    2.52  2.98  2.27  2.32  -0.35  -0.64  -0.24    5.236\n",
      "  7000   28.071    781.00    1.04  1.12  -0.68  2.68  -0.18  0.70  0.68    6.089\n",
      "  8000   28.884    959.52    2.75  2.16  2.90  3.18  1.21  1.19  0.80    6.966\n",
      "  9000   28.956    965.19    1.74  2.36  2.11  0.73  0.42  0.93  0.73    7.818\n",
      "  10000   26.964    861.06    1.83  2.50  1.01  1.99  0.33  1.58  0.91    8.665\n",
      "  11000   28.701    938.36    0.05  -0.23  -0.47  0.84  0.40  2.28  -0.96    9.514\n",
      "  12000   25.423    881.77    -0.39  -1.31  1.33  -1.19  -0.86  0.08  -0.66    10.365\n",
      "  13000   26.335    872.98    -1.40  -0.45  -1.51  -2.25  -0.75  -0.35  -0.18    11.210\n",
      "  14000   26.152    860.34    -0.32  -0.27  -1.10  0.40  -1.12  -0.53  -1.35    12.049\n",
      "  15000   25.269    843.19    -0.70  -0.51  -0.51  -1.08  -0.71  -1.39  -0.26    12.887\n",
      "  16000   25.793    881.28    -2.06  -1.22  -2.18  -2.79  0.16  -0.10  -0.66    13.724\n",
      "  17000   24.458    860.41    0.58  0.25  0.37  1.11  0.85  0.41  0.13    14.565\n",
      "  18000   27.555    958.01    0.51  0.37  0.55  0.62  0.07  0.03  0.36    15.405\n",
      "  19000   26.487    922.41    0.65  1.34  0.28  0.32  0.63  0.11  0.67    16.242\n",
      "  20000   28.488    960.88    1.55  2.10  1.33  1.22  -0.17  -0.58  0.39    17.079\n",
      "i,temperature =  8 1000\n",
      "sigma = 1.0e+00 bar\n",
      "ttime = 20.000 fs\n",
      "pfactor = 2000000.000 GPa*fs^2\n",
      "log_filename =  ./output/ch6/fcc-Cu_3x3x3_NPT_EMT_1000K.log\n",
      "traj_filename =  ./output/ch6/fcc-Cu_3x3x3_NPT_EMT_1000K.traj\n",
      "    imd     Etot(eV)    T(K)    stress(mean,xx,yy,zz,yz,xz,xy)(GPa)  elapsed_time(sec)\n",
      "  1000   29.100    1014.78    -2.97  -3.23  -2.36  -3.33  -0.16  -1.28  1.33    0.834\n",
      "  2000   31.246    909.61    2.51  2.59  2.62  2.30  -1.70  -1.09  0.62    1.666\n",
      "  3000   34.402    1067.05    3.76  4.51  3.11  3.66  -0.66  -0.25  0.16    2.510\n",
      "  4000   30.820    979.53    2.29  1.83  2.25  2.80  0.12  0.32  -1.23    3.348\n",
      "  5000   29.635    930.94    -0.98  -1.81  -0.37  -0.78  0.71  1.13  -0.77    4.195\n",
      "  6000   28.940    932.28    -3.34  -3.73  -3.81  -2.47  1.75  2.05  -0.25    5.026\n",
      "  7000   28.848    1049.14    -3.11  -2.61  -3.32  -3.40  1.30  0.51  -0.26    5.861\n",
      "  8000   26.307    1015.33    -0.34  -0.90  0.64  -0.76  0.31  0.33  -0.50    6.697\n",
      "  9000   29.778    1009.50    -0.18  0.07  -1.00  0.40  -0.01  -0.30  0.50    7.530\n",
      "  10000   28.630    941.93    1.81  2.49  1.19  1.75  0.57  -0.08  1.06    8.362\n",
      "  11000   29.936    1045.13    2.83  2.71  2.02  3.75  0.45  -0.36  0.79    9.224\n",
      "  12000   28.866    958.14    2.02  1.38  2.35  2.32  0.77  0.58  1.12    10.061\n",
      "  13000   28.790    993.03    -0.65  -0.76  -0.44  -0.75  -0.24  0.65  -0.15    10.895\n",
      "  14000   30.622    1030.82    -0.46  1.57  -1.53  -1.42  -0.07  0.71  0.29    11.730\n",
      "  15000   29.641    1020.87    -0.54  -1.40  0.12  -0.34  -0.80  -0.08  -0.12    12.572\n",
      "  16000   30.512    999.98    0.61  -0.51  0.64  1.71  -0.16  -1.61  -0.52    13.431\n",
      "  17000   31.112    994.90    0.81  1.41  0.32  0.71  0.49  -1.65  -0.79    14.266\n",
      "  18000   30.148    973.65    0.01  1.02  0.15  -1.14  2.06  -1.40  0.54    15.118\n",
      "  19000   31.246    1096.26    -1.39  -3.01  -1.26  0.10  0.68  -0.28  2.50    16.034\n",
      "  20000   29.739    1111.59    -0.95  -1.34  -1.12  -0.37  2.73  1.02  1.12    16.936\n"
     ]
    }
   ],
   "source": [
    "import ase\n",
    "from ase.build import bulk\n",
    "from ase.md.velocitydistribution import MaxwellBoltzmannDistribution,Stationary\n",
    "from ase.md.npt import NPT\n",
    "from ase.md import MDLogger\n",
    "from ase import units\n",
    "from time import perf_counter\n",
    "\n",
    "calc_type = \"EMT\"\n",
    "# calc_type = \"PFP\"\n",
    "\n",
    "if calc_type == \"EMT\":\n",
    "    # ASAP3-EMT calculator\n",
    "    from asap3 import EMT\n",
    "    calculator = EMT()\n",
    "elif calc_type == \"PFP\":\n",
    "    # PFP calculator\n",
    "    from pfp_api_client.pfp.estimator import Estimator, EstimatorCalcMode\n",
    "    from pfp_api_client.pfp.calculators.ase_calculator import ASECalculator\n",
    "    estimator = Estimator(model_version=\"v2.0.0\",calc_mode=EstimatorCalcMode.CRYSTAL_U0)\n",
    "    calculator = ASECalculator(estimator)\n",
    "else:\n",
    "    raise ValueError(f\"Wrong calc_type = {calc_type}!\")\n",
    "\n",
    "\n",
    "# Set up a crystal\n",
    "atoms_in = bulk(\"Cu\",cubic=True)\n",
    "atoms_in *= 3\n",
    "atoms_in.pbc = True\n",
    "print(\"atoms_in = \",atoms_in)\n",
    "\n",
    "# input parameters\n",
    "time_step    = 1.0    # fsec\n",
    "#temperature = 300    # Kelvin\n",
    "num_md_steps = 20000 \n",
    "num_interval = 10\n",
    "\n",
    "sigma   = 1.0     # External pressure in bar\n",
    "ttime   = 20.0    # Time constant in fs\n",
    "pfactor = 2e6     # Barostat parameter in GPa\n",
    "temperature_list = [200,300,400,500,600,700,800,900,1000]\n",
    "\n",
    "# Print statements\n",
    "def print_dyn():\n",
    "    imd = dyn.get_number_of_steps()\n",
    "    etot  = atoms.get_total_energy()\n",
    "    temp_K = atoms.get_temperature()\n",
    "    stress = atoms.get_stress(include_ideal_gas=True)/units.GPa\n",
    "    stress_ave = (stress[0]+stress[1]+stress[2])/3.0 \n",
    "    elapsed_time = perf_counter() - start_time\n",
    "    print(f\"  {imd: >3}   {etot:.3f}    {temp_K:.2f}    {stress_ave:.2f}  {stress[0]:.2f}  {stress[1]:.2f}  {stress[2]:.2f}  {stress[3]:.2f}  {stress[4]:.2f}  {stress[5]:.2f}    {elapsed_time:.3f}\")\n",
    "\n",
    "    \n",
    "# run MD\n",
    "for i,temperature in enumerate(temperature_list):\n",
    "    print(\"i,temperature = \",i,temperature)\n",
    "\n",
    "    print(f\"sigma = {sigma:.1e} bar\")\n",
    "    print(f\"ttime = {ttime:.3f} fs\")\n",
    "    print(f\"pfactor = {pfactor:.3f} GPa*fs^2\")\n",
    "\n",
    "    temperature_str = str(int(temperature)).zfill(4)\n",
    "    output_filename = f\"./output/ch6/fcc-Cu_3x3x3_NPT_{calc_type}_{temperature_str}K\"\n",
    "    log_filename = output_filename + \".log\"\n",
    "    traj_filename = output_filename + \".traj\"\n",
    "    print(\"log_filename = \",log_filename)\n",
    "    print(\"traj_filename = \",traj_filename)\n",
    "    \n",
    "    atoms = atoms_in.copy()\n",
    "    atoms.calc = calculator\n",
    "    \n",
    "    # Set the momenta corresponding to T=300K\n",
    "    MaxwellBoltzmannDistribution(atoms, temperature_K=temperature,force_temp=True)\n",
    "    Stationary(atoms)\n",
    "    \n",
    "    dyn = NPT(atoms,\n",
    "          time_step*units.fs,\n",
    "          temperature_K = temperature,\n",
    "          externalstress = sigma*units.bar,\n",
    "          ttime = ttime*units.fs,\n",
    "          pfactor = pfactor*units.GPa*(units.fs**2),\n",
    "          logfile = log_filename,\n",
    "          trajectory = traj_filename,\n",
    "          loginterval=num_interval\n",
    "          )\n",
    "    \n",
    "    print_interval = 1000 if calc_type == \"EMT\" else num_interval\n",
    "    dyn.attach(print_dyn, interval=print_interval)\n",
    "    dyn.attach(MDLogger(dyn, atoms, log_filename, header=True, stress=True, peratom=True, mode=\"a\"), interval=num_interval)\n",
    "\n",
    "    # Now run the dynamics\n",
    "    start_time = perf_counter()\n",
    "    print(f\"    imd     Etot(eV)    T(K)    stress(mean,xx,yy,zz,yz,xz,xy)(GPa)  elapsed_time(sec)\")\n",
    "    dyn.run(num_md_steps)"
   ]
  },
  {
   "cell_type": "markdown",
   "id": "1c61adce-aaa4-4920-8ec2-a91418dbf541",
   "metadata": {},
   "source": [
    "結果を可視化してみると以下のようになります。\n",
    "\n",
    "ここでは`read`関数に `index=\"::100\"` を指定することでTrajectoryファイルから間隔を間引いた結果に対して可視化しています。\n",
    "Cuは固体の構造を保っており、大きく動いているわけではありませんが、振動の動きによりセルサイズに変化があることがわかります。"
   ]
  },
  {
   "cell_type": "code",
   "execution_count": 2,
   "id": "1d2a53cc-7656-42ce-8953-045263e158a3",
   "metadata": {},
   "outputs": [
    {
     "name": "stderr",
     "output_type": "stream",
     "text": [
      "[Parallel(n_jobs=16)]: Using backend ThreadingBackend with 16 concurrent workers.\n",
      "[Parallel(n_jobs=16)]: Done  10 out of  20 | elapsed:    8.9s remaining:    8.9s\n",
      "[Parallel(n_jobs=16)]: Done  20 out of  20 | elapsed:   10.9s finished\n"
     ]
    },
    {
     "data": {
      "text/html": [
       "<img src=\"output/ch6/Fig6-3_fcc-Cu_3x3x3_NPT_EMT_0900K.png\"/>"
      ],
      "text/plain": [
       "<IPython.core.display.Image object>"
      ]
     },
     "execution_count": 2,
     "metadata": {},
     "output_type": "execute_result"
    }
   ],
   "source": [
    "from ase.io import Trajectory, read\n",
    "from pfcc_extras.visualize.povray import traj_to_apng\n",
    "from IPython.display import Image\n",
    "\n",
    "\n",
    "traj = read(\"./output/ch6/fcc-Cu_3x3x3_NPT_EMT_0900K.traj\", index=\"::100\")\n",
    "traj_to_apng(traj, f\"output/ch6/Fig6-3_fcc-Cu_3x3x3_NPT_EMT_0900K.png\", rotation=\"10x,-10y,0z\", clean=True, n_jobs=16)\n",
    "\n",
    "Image(url=\"output/ch6/Fig6-3_fcc-Cu_3x3x3_NPT_EMT_0900K.png\")"
   ]
  },
  {
   "cell_type": "code",
   "execution_count": 3,
   "id": "4ae97fec-dd87-45ab-805d-ddf2d23fe9d8",
   "metadata": {},
   "outputs": [
    {
     "data": {
      "application/vnd.jupyter.widget-view+json": {
       "model_id": "5219a6c105c940f49b016f57c3bcff6d",
       "version_major": 2,
       "version_minor": 0
      },
      "text/plain": []
     },
     "metadata": {},
     "output_type": "display_data"
    },
    {
     "data": {
      "application/vnd.jupyter.widget-view+json": {
       "model_id": "850c1573b31244c7938dffbbd5635e98",
       "version_major": 2,
       "version_minor": 0
      },
      "text/plain": [
       "HBox(children=(NGLWidget(max_frame=19), VBox(children=(Dropdown(description='Show', options=('All', 'Cu'), val…"
      ]
     },
     "metadata": {},
     "output_type": "display_data"
    }
   ],
   "source": [
    "from ase.io import Trajectory, read\n",
    "from pfcc_extras.visualize.view import view_ngl\n",
    "\n",
    "\n",
    "traj = read(\"./output/ch6/fcc-Cu_3x3x3_NPT_EMT_0900K.traj\", index=\"::100\")\n",
    "view_ngl(traj, replace_structure=True)"
   ]
  },
  {
   "cell_type": "markdown",
   "id": "3aab7852-b89d-4664-b52c-8484571156e1",
   "metadata": {},
   "source": [
    "熱浴の時定数$\\tau_t$は20 fs、圧力制御パラメーターであるpfactorは2e6 GPa$\\cdot$fs$^2$としています。上記の計算条件で熱平衡状態にするため300 Kで20 psのNPT-MDシミュレーションを行った際のセル体積の時間変化の様子を確認してみましょう。以下のようなコードで特定温度におけるMDシミュレーションの結果であるtrajファイルを解析出来ます。"
   ]
  },
  {
   "cell_type": "code",
   "execution_count": 4,
   "id": "dfd92f27-a42f-48cf-bbd7-5d94613137b6",
   "metadata": {},
   "outputs": [
    {
     "data": {
      "image/png": "[encoded data removed]",
      "text/plain": [
       "<Figure size 800x300 with 1 Axes>"
      ]
     },
     "metadata": {},
     "output_type": "display_data"
    }
   ],
   "source": [
    "import matplotlib.pyplot as plt\n",
    "from pathlib import Path\n",
    "from ase.io import read,Trajectory\n",
    "\n",
    "time_step = 0.01  # Time step size in ps between each snapshots recorded in traj\n",
    "traj = Trajectory(\"./output/ch6/fcc-Cu_3x3x3_NPT_EMT_0300K.traj\")\n",
    "\n",
    "time = [ i*time_step for i in range(len(traj)) ]\n",
    "volume = [ atoms.get_volume() for atoms in traj ]\n",
    "\n",
    "# Create graph\n",
    "fig = plt.figure(figsize=(8,3))\n",
    "ax = fig.add_subplot(1, 1, 1)\n",
    "ax.set_xlabel('time (ps)')  # x axis label\n",
    "ax.set_ylabel('Cell volume (Å^3)')  # y axis label\n",
    "ax.plot(time,volume, alpha=0.5)\n",
    "ax.set_ylim([1100,1400])\n",
    "#plt.savefig(\"filename.png\")  # Set filename to be saved\n",
    "plt.show()"
   ]
  },
  {
   "cell_type": "markdown",
   "id": "eefbfdca-a97c-4484-96ff-48418c7a7a62",
   "metadata": {},
   "source": [
    "上記コードを実行すると、以下のような解析結果が得られます。"
   ]
  },
  {
   "cell_type": "markdown",
   "id": "6495d421-b047-4839-8097-480fc1c3b414",
   "metadata": {},
   "source": [
    "<figure style=\"text-align: center\">\n",
    "    <img src=\"../assets/ch6/Fig6-3_fcc-Cu_3x3x3_EMT_NPT_vol_vs_t.png\"/>\n",
    "    <figcaption align = \"center\">Fig.6-3a. Time evolution of cell volume. (fcc-Cu_3x3x3, @300 K and 1 bar)</figcaption>\n",
    "</figure>\n",
    "</br>"
   ]
  },
  {
   "cell_type": "markdown",
   "id": "e899b896-3495-4765-9c04-46b3e579f69c",
   "metadata": {},
   "source": [
    "NPTアンサンブルで計算することでセル体積が約4%程の範囲で振動することが見て取れます。今回の計算対象は立方晶であるため、この体積の幾何平均から結晶の格子定数を計算出来ます。200 Kから1000 Kまで実行し、その各温度での規格化した格子定数の平均値をプロットすると以下の結果が得られます。（平衡状態に達したあとの格子定数を計算したいため、`np.mean(vol[int(len(vol)/2):])**(1/3)` の部分では、Trajectoryの後半半分のみを使用して、体積から格子定数を計算しています。）"
   ]
  },
  {
   "cell_type": "code",
   "execution_count": 5,
   "id": "4c71ebbe-2029-476b-8796-9aad95e1ea8f",
   "metadata": {},
   "outputs": [
    {
     "name": "stdout",
     "output_type": "stream",
     "text": [
      "temperature =  [200.0, 300.0, 400.0, 500.0, 600.0, 700.0, 800.0, 900.0, 1000.0]\n",
      "path = output/ch6/fcc-Cu_3x3x3_NPT_EMT_0200K.traj\n",
      "path = output/ch6/fcc-Cu_3x3x3_NPT_EMT_0300K.traj\n",
      "path = output/ch6/fcc-Cu_3x3x3_NPT_EMT_0400K.traj\n",
      "path = output/ch6/fcc-Cu_3x3x3_NPT_EMT_0500K.traj\n",
      "path = output/ch6/fcc-Cu_3x3x3_NPT_EMT_0600K.traj\n",
      "path = output/ch6/fcc-Cu_3x3x3_NPT_EMT_0700K.traj\n",
      "path = output/ch6/fcc-Cu_3x3x3_NPT_EMT_0800K.traj\n",
      "path = output/ch6/fcc-Cu_3x3x3_NPT_EMT_0900K.traj\n",
      "path = output/ch6/fcc-Cu_3x3x3_NPT_EMT_1000K.traj\n",
      "lat_a =  [10.821572832083033, 10.842619005347451, 10.867506249620094, 10.88752168215781, 10.910928969034376, 10.938882785804418, 10.96019451392851, 10.990325464402156, 11.01840205198354]\n",
      "norm_lat_a =  [0.99805894 1.         1.00229532 1.00414131 1.00630014 1.00887828\n",
      " 1.01084383 1.01362277 1.01621223]\n"
     ]
    },
    {
     "data": {
      "text/plain": [
       "<matplotlib.legend.Legend at 0x7f4475de0e10>"
      ]
     },
     "execution_count": 5,
     "metadata": {},
     "output_type": "execute_result"
    },
    {
     "data": {
      "image/png": "[encoded data removed]",
      "text/plain": [
       "<Figure size 400x400 with 1 Axes>"
      ]
     },
     "metadata": {},
     "output_type": "display_data"
    }
   ],
   "source": [
    "import matplotlib.pyplot as plt\n",
    "import numpy as np\n",
    "from pathlib import Path\n",
    "from ase.io import read,Trajectory\n",
    "\n",
    "time_step = 10.0  # Time step size between each snapshots recorded in traj\n",
    "paths = Path(\"./output/ch6/\").glob(f\"**/fcc-Cu_3x3x3_NPT_{calc_type}_*K.traj\")\n",
    "path_list = sorted([ p for p in paths ])\n",
    "\n",
    "# Temperature list extracted from the filename\n",
    "temperature = [ float(p.stem.split(\"_\")[-1].replace(\"K\",\"\")) for p in path_list ]\n",
    "print(\"temperature = \",temperature)\n",
    "\n",
    "# Compute lattice parameter\n",
    "lat_a = []\n",
    "for path in path_list:\n",
    "    print(f\"path = {path}\")\n",
    "    traj = Trajectory(path)\n",
    "    vol = [ atoms.get_volume() for atoms in traj ]\n",
    "    lat_a.append(np.mean(vol[int(len(vol)/2):])**(1/3))\n",
    "    \n",
    "print(\"lat_a = \",lat_a)\n",
    "\n",
    "# Normalize relative to the value at 300 K\n",
    "norm_lat_a = lat_a/lat_a[1]\n",
    "print(\"norm_lat_a = \",norm_lat_a)\n",
    "\n",
    "# Plot\n",
    "fig = plt.figure(figsize=(4,4))\n",
    "ax = fig.add_subplot(1, 1, 1)\n",
    "ax.set_xlabel('Temperature (K)')  # x axis label\n",
    "ax.set_ylabel('Normalized lattice parameter')  # y axis label\n",
    "ax.scatter(temperature[:len(norm_lat_a)],norm_lat_a, alpha=0.5,label=calc_type.lower())\n",
    "ax.legend(loc=\"upper left\")"
   ]
  },
  {
   "cell_type": "markdown",
   "id": "e6988231-1ad7-4da4-8b00-965cdddd1f0a",
   "metadata": {},
   "source": [
    "上記のコードを実行すると以下のようなプロットが得られます。"
   ]
  },
  {
   "cell_type": "markdown",
   "id": "38fe2985-b668-474e-887d-379b5bbd4acf",
   "metadata": {},
   "source": [
    "<figure style=\"text-align: center\">\n",
    "    <img src=\"../assets/ch6/Fig6-3_fcc-Cu_3x3x3_NPT_a_vs_T.png\"/>\n",
    "    <figcaption align = \"center\">Fig.6-3b. Normalized lattice parameter as a function of temperature.</figcaption>\n",
    "    <figcaption align = \"center\">          Experimental data is taken from Reference [4].</figcaption>\n",
    "</figure>\n",
    "</br>"
   ]
  },
  {
   "cell_type": "markdown",
   "id": "5be7824e-458c-477b-b1f9-f978ec582b4f",
   "metadata": {},
   "source": [
    "この結果にはさらにPFPを用いた計算結果、および参考までに実験値を比較対象としています。EMTおよびPFPのデータ共に非常に良い一致を示しており、小さな差ではありますがPFPはより実験値に近い傾向を示しています。\n",
    "\n",
    "この規格化した格子定数の温度依存性から線熱膨張係数（CTE、$\\alpha$）を以下の関係式をもちいて算出します。\n",
    "\n",
    "$$\n",
    "\\frac{a(T)}{a_{RT}} = 1 + \\alpha \\cdot T\n",
    "$$\n",
    "\n",
    "ここで$\\alpha$が線熱膨張係数で、$a(T)$と$a_{RT}$は温度$T$と室温における格子定数です。以下がASAP3-EMT、PFP、実験値[4]のサマリーです。\n",
    "\n",
    "||$\\alpha$ ( $10^{-5}$ /K)|\n",
    "|--|--|\n",
    "|emt|2.23|\n",
    "|pfp|2.13|\n",
    "|exp|1.74|\n",
    "\n",
    "計算誤差を考えると、いずれの計算結果も実験値とリーズナブルな範囲で一致していると考えてよいと思います。\n",
    "\n",
    "このような手法でNPTアンサンブルのMDシミュレーションを用いることによって熱膨張係数を算出することが可能です。\n",
    "\n",
    "最後に補足として言及しますと、「液体や気体の熱膨張も同様の手法で再現できるのでは？」と考えるかと思います。原理的には確かにその通りなのですが、現時点では再現性の良いモデルというのは限定的と思われます。古典力場で特定の液体や気体のみに特化したモデルは存在するのかもしれませんが、第一原理計算を用いた場合、液体や気体では固体に比べて非常に小さい分子間相互作用の精度が重要になり、現在ではそのような精度の量子化学計算自体が非常に困難です。特にNNPを作成する際には膨大な計算データが必要になり、高精度な量子化学計算を多量に行うのは現時点であまり現実的ではありません。従って今後この領域での精度が高いモデルの開発が期待されるところです。"
   ]
  },
  {
   "cell_type": "markdown",
   "id": "6e1586c2-1864-48e3-be33-0ce43a3057df",
   "metadata": {},
   "source": [
    "## [Advanced] Parrinello-Rahman barostatのパラメーター依存性\n",
    "\n",
    "NPTアンサンブルでのMDシミュレーションを行う際にpfactorというパラメーターを設定する必要があり、適切な値の範囲が\n",
    "10$^6$ GPa$\\cdot$fs$^2$から10$^7$ GPa$\\cdot$fs$^2$付近という説明がありました。ご参考までにpfactorの値を変化し際の結果を以下に示します。計算対象は上記と同じfcc-Cuの3x3x3 unit cellsで、温度は300 Kです。"
   ]
  },
  {
   "cell_type": "markdown",
   "id": "b462dae4-ee1a-4121-bf16-4758e8e8a68d",
   "metadata": {},
   "source": [
    "<figure style=\"text-align: center\">\n",
    "    <img src=\"../assets/ch6/Fig6-3_fcc-Cu_3x3x3_EMT_NPT_vol_vs_t_pfactor.png\"/>\n",
    "    <figcaption align = \"center\">Fig.6-3c. Time evolution of cell volume as a function of pfactor.</figcaption>\n",
    "</figure>\n",
    "</br>"
   ]
  },
  {
   "cell_type": "markdown",
   "id": "19bf2e2a-693b-4e71-8b72-529e8cc080ba",
   "metadata": {},
   "source": [
    "pfactorが小さい領域では高速でセル体積が振動しており、高周波と低周波の振動が混在していて挙動が不安定な領域もあるのであまり好ましくありません。pfactorが大きくなるにつれて振動の周期が徐々に長くなり、小さなpfactorの計算初期で起きるの大きなセル体積の変化も殆ど見られません。明確にpfactorのどの値から使うと良いという指標があるわけではないですが、10$^6$ Ga$\\cdot$fsec$^2$以上であれば小さな振動は確認できるものの中央値は相変わらず安定しているようです。上限についても同様で明確な基準はなく、pfactorが大きいと振動周期が長くなり扱いづらいので、上記の例に関していえば10$^6$から10$^7$ぐらいが妥当な領域かと考えます。"
   ]
  },
  {
   "cell_type": "markdown",
   "id": "59501dfd-e993-4ede-8a9c-cf0cf729ed0d",
   "metadata": {},
   "source": [
    "##  [Advanced] Berendsen barostatのパラメーター依存性\n",
    "\n",
    "Berendsen barostatを用いた計算方法について説明します。Berendsen barostatは以下の方程式に従って圧力の時間発展が計算されます。（導出の詳細は参考文献[5]をご覧ください。）\n",
    "\n",
    "$$\n",
    "\\frac{d\\mathbf{P}}{dt}=\\frac{\\mathbf{P}_o-\\mathbf{P}}{\\tau_P}\n",
    "$$\n",
    "\n",
    "上式から明らかなように、Berendsen圧力制御法では指数関数的に系の各瞬間における圧力を外圧$\\mathbf{P}_o$に近づけていきます。その速度は時定数$\\tau_P$により制御されます。\n",
    "\n",
    "各MDステップ毎に、各原子の座標とセルベクトルは以下の式で表される係数でスケーリングされます。\n",
    "\n",
    "$$\n",
    "\\mu_{ij}=\\delta_{ij}-\\frac{\\Delta t}{3\\tau_P}\\beta_{ij}\\big\\{ P_{oij} - P_{ij}(t) \\big\\}\n",
    "$$\n",
    "\n",
    "熱浴のコントロールの際に$\\tau_T$が時定数だったように、圧力制御法でも適切な時定数${\\tau_P}$を設定してやる必要があります。それでは実際の計算事例を見てみましょう。\n",
    "\n",
    "ASEの機能である[NPTBerendsenクラス](https://wiki.fysik.dtu.dk/ase/ase/md.html#module-ase.md.npt)を用いるとdynamicsを定義するオブジェクトは以下の形で記述されます。"
   ]
  },
  {
   "cell_type": "code",
   "execution_count": 6,
   "id": "6f721253-4955-4cb0-9dae-723d19c689b8",
   "metadata": {},
   "outputs": [],
   "source": [
    "from ase.md.nptberendsen import NPTBerendsen\n",
    "\n",
    "dyn = NPTBerendsen(\n",
    "    atoms,\n",
    "    time_step*units.fs,\n",
    "    temperature_K = temperature,\n",
    "    pressure_au = 1.0 * units.bar,\n",
    "    taut = 5.0 * units.fs,\n",
    "    taup = 500.0 * units.fs,\n",
    "    compressibility_au = 5e-7 / units.bar,\n",
    "    logfile = log_filename,\n",
    "    trajectory = traj_filename,\n",
    "    loginterval=num_interval\n",
    ")"
   ]
  },
  {
   "cell_type": "markdown",
   "id": "15bbc978-ce3d-47c6-a447-375e0c1a77fe",
   "metadata": {},
   "source": [
    "圧力の異方性を考慮できる`Inhomogeneous_NPTBerendsen`もほぼ同様の設定です。（クラス名を`NPTBerendsen`から`Inhomogeneous_NPTBerendsen`とすることで利用可能です。）１点異なるのはmaskが設定でき、`mask=(1, 1, 1)`とするとa,b,c方向全て独立して変化可能です。このtupleの要素を0と設定することでその方向でcellが固定されます。\n",
    "\n",
    "いずれのBerendsen barostatでも注意が必要なのは温度、圧力のような計算条件以外に、圧力制御時定数(`taup`、$\\tau_P$）や圧縮率（`compressibility`、$\\beta_T$）と呼ばれるパラメーターを設定する必要があることです。それぞれの値に対するセル体積の時間変化の依存性を300 Kにおけるfcc-Cuの例を用いて確認します。まずは$\\tau_P$の方からみてみます。"
   ]
  },
  {
   "cell_type": "markdown",
   "id": "3ee9361b-4aaf-46c0-ba2d-8ec908cead64",
   "metadata": {},
   "source": [
    "<figure style=\"text-align: center\">\n",
    "    <img src=\"../assets/ch6/Fig6-3_fcc-Cu_3x3x3_EMT_NPTBerendsen_vol_vs_t_taup.png\"/>\n",
    "    <figcaption align = \"center\">Fig.6-3d. Time evolution of cell volume as a function of $\\tau_P$.</figcaption>\n",
    "</figure>\n",
    "</br>"
   ]
  },
  {
   "cell_type": "markdown",
   "id": "00a38619-5d07-444b-8a69-ae6caef8ed8d",
   "metadata": {},
   "source": [
    "時定数が小さいほど振動の周期が不安定で大きく暴れ、逆にあまり大きくとりすぎると変化があまりに緩やかで平衡に至るまでの時間がかかります。この辺りは熱浴法の時定数と同じ考え方です。力学的にfcc-Cuと類似の系に関しては体積変化の安定性と収束性から$\\tau_P$は10$^2$ fsから10$^3$ fs付近が適切なようです。\n",
    "\n",
    "次に$\\beta_T$に対する依存性です。結果は以下のとおりです。"
   ]
  },
  {
   "cell_type": "markdown",
   "id": "17c8161c-cc9a-488d-bb8f-db3e0af8a7aa",
   "metadata": {},
   "source": [
    "<figure style=\"text-align: center\">\n",
    "    <img src=\"../assets/ch6/Fig6-3_fcc-Cu_3x3x3_EMT_NPTBerendsen_vol_vs_t_comp.png\"/>\n",
    "    <figcaption align = \"center\">Fig.6-3e. Time evolution of cell volume as a function of $\\beta_T$.</figcaption>\n",
    "</figure>\n",
    "</br>"
   ]
  },
  {
   "cell_type": "markdown",
   "id": "f7928bfa-bdfa-458d-b5bf-a36998957189",
   "metadata": {},
   "source": [
    "$\\beta_T$が小さいほど収束が非常に遅く、高い値にあるほど不安定になっていく様子がうかがえます。グラフの傾向から$\\beta_T$は10$^{-7}$から10$^{-6}$fs位が良さそうです。\n",
    "\n",
    "$\\tau_P$と$\\beta_T$に関してはいずれも厳密に正しい値というものは無く、おおよそ桁で値を変えた時にこの程度傾向が変化するということを理解しておけば概ね問題はなさそうです。\n",
    "\n",
    "最後に補足すると、これらの数値はあくまでfcc-Cuのような金属で密な構造を持つ物質について適用出来ますが、もし全く異なる系統の物質（例えばポリマー、液体、気体等）をNPTで扱いたいとなれば事前検討でこれらの適切な値の領域を確認しておく必要があります。手間を惜しんで事前検討を省くと意図しない結果が得られて余計に時間がかかるなどになりかねないので、通常、新しい材料系に取り組む際は注意されることをお勧めします。"
   ]
  },
  {
   "cell_type": "markdown",
   "id": "14fedb4e-5863-4c77-84d7-bfab48ac4437",
   "metadata": {},
   "source": [
    "## 参考文献"
   ]
  },
  {
   "cell_type": "markdown",
   "id": "bdc22697-68cd-445f-9915-59d98a0fcc81",
   "metadata": {},
   "source": [
    "[1] M.E. Tuckerman, \"Statistical mechanics: Theory and molecular simulation\", Oxford University Press (2010) ISBN 978-0-19-852526-4. https://global.oup.com/academic/product/statistical-mechanics-9780198525264?q=Statistical%20mechanics:%20Theory%20and%20molecular%20simulation&cc=gb&lang=en#\n",
    "\n",
    "[2] Melchionna S. (2000) \"Constrained systems and statistical distribution\", Physical Review E 61 (6) 6165\n",
    "https://journals.aps.org/pre/abstract/10.1103/PhysRevE.61.6165\n",
    "\n",
    "[3] S. Melchionna, G. Ciccotti, B.L. Holian, \"Hoover NPT dynamics for systems varying in shape and size\", Molecular Physics, (1993) 78 (3) 533\n",
    "https://doi.org/10.1080/00268979300100371\n",
    "\n",
    "[4] F.C. Nix, D. MacNair, \"NIST:The Thermal Expansion of Pure Metals: Copper, Gold, Aluminum, Nickel, and Iron\"\n",
    "https://materialsdata.nist.gov/handle/11256/32\n",
    "\n",
    "[5] H. J. C. Berendsen, J. P. M. Postma, W. F. van Gunsteren, A. DiNola, and J. R. Haak, \"Molecular dynamics with coupling to an external bath\", J. Chem. Phys. (1984) 81 3684\n",
    "https://aip.scitation.org/doi/10.1063/1.448118"
   ]
  }
 ],
 "metadata": {
  "kernelspec": {
   "display_name": "Python 3.8",
   "language": "python",
   "name": "python38"
  },
  "language_info": {
   "codemirror_mode": {
    "name": "ipython",
    "version": 3
   },
   "file_extension": ".py",
   "mimetype": "text/x-python",
   "name": "python",
   "nbconvert_exporter": "python",
   "pygments_lexer": "ipython3",
   "version": "3.8.13"
  },
  "widgets": {
   "application/vnd.jupyter.widget-state+json": {
    "state": {
     "05253be02a92463faef38a7ba7b277c4": {
      "model_module": "@jupyter-widgets/controls",
      "model_module_version": "1.5.0",
      "model_name": "DescriptionStyleModel",
      "state": {
       "description_width": ""
      }
     },
     "1bed383a17aa483bb8fd32840fd4d2f8": {
      "model_module": "@jupyter-widgets/controls",
      "model_module_version": "1.5.0",
      "model_name": "DescriptionStyleModel",
      "state": {
       "description_width": ""
      }
     },
     "1dfd1679807c4958a15338555414401d": {
      "model_module": "@jupyter-widgets/controls",
      "model_module_version": "1.5.0",
      "model_name": "SliderStyleModel",
      "state": {
       "description_width": ""
      }
     },
     "260ace3649214182b44c97d60271f97f": {
      "model_module": "@jupyter-widgets/controls",
      "model_module_version": "1.5.0",
      "model_name": "CheckboxModel",
      "state": {
       "description": "Show force",
       "disabled": false,
       "layout": "IPY_MODEL_6f7f3c1926d24e37977a0102bf47943a",
       "style": "IPY_MODEL_654d9acafc2240ef91a4f4f755712f72",
       "value": false
      }
     },
     "2627e81f5b05484c86fbba79caac987c": {
      "model_module": "@jupyter-widgets/base",
      "model_module_version": "1.2.0",
      "model_name": "LayoutModel",
      "state": {}
     },
     "27484e48f8eb4533a808957b911faa6a": {
      "model_module": "@jupyter-widgets/controls",
      "model_module_version": "1.5.0",
      "model_name": "FloatSliderModel",
      "state": {
       "description": "Charge scale",
       "layout": "IPY_MODEL_4c01457ac37444eb8f78e72897a87635",
       "step": 0.1,
       "style": "IPY_MODEL_1dfd1679807c4958a15338555414401d",
       "value": 1
      }
     },
     "30d86ac40be54de2aa4a1f4aaa4799dc": {
      "model_module": "@jupyter-widgets/base",
      "model_module_version": "1.2.0",
      "model_name": "LayoutModel",
      "state": {}
     },
     "3961f71503e84c47a7c06a3b9753d21b": {
      "model_module": "@jupyter-widgets/base",
      "model_module_version": "1.2.0",
      "model_name": "LayoutModel",
      "state": {}
     },
     "39c18f126c7747cfaef74d01dcdd0330": {
      "model_module": "@jupyter-widgets/controls",
      "model_module_version": "1.5.0",
      "model_name": "ButtonModel",
      "state": {
       "icon": "compress",
       "layout": "IPY_MODEL_4be6c4eb2a4d4bccb5c688e112631e4e",
       "style": "IPY_MODEL_a372ba080b8d4d79bbece6f885d17ad1"
      }
     },
     "3a86bc0da1ae485bba4275a50cb7ae12": {
      "model_module": "@jupyter-widgets/controls",
      "model_module_version": "1.5.0",
      "model_name": "HBoxModel",
      "state": {
       "children": [
        "IPY_MODEL_473bd1dc78204d9a845b02bd0c3ad13a",
        "IPY_MODEL_7f7154f802e143e5b28a6ca8b74e792e"
       ],
       "layout": "IPY_MODEL_9c02ada783e445ec8d9b07e5b4ab6739"
      }
     },
     "41963b25526e4b66be8843dfcea0d020": {
      "model_module": "@jupyter-widgets/controls",
      "model_module_version": "1.5.0",
      "model_name": "DropdownModel",
      "state": {
       "_options_labels": [
        "All",
        "Cu"
       ],
       "description": "Show",
       "index": 0,
       "layout": "IPY_MODEL_834cc44481d743df9f4cf4e0c01c42b7",
       "style": "IPY_MODEL_05253be02a92463faef38a7ba7b277c4"
      }
     },
     "45f465929eba46d594a3461c42e47632": {
      "model_module": "@jupyter-widgets/controls",
      "model_module_version": "1.5.0",
      "model_name": "SliderStyleModel",
      "state": {
       "description_width": ""
      }
     },
     "45f4af47915a4e06afdf1c1f21404351": {
      "model_module": "@jupyter-widgets/controls",
      "model_module_version": "1.5.0",
      "model_name": "FloatSliderModel",
      "state": {
       "description": "Ball size",
       "layout": "IPY_MODEL_2627e81f5b05484c86fbba79caac987c",
       "max": 1.5,
       "step": 0.01,
       "style": "IPY_MODEL_f7c723dc2f164c1baecdc289937ac4d0",
       "value": 0.5
      }
     },
     "473bd1dc78204d9a845b02bd0c3ad13a": {
      "model_module": "@jupyter-widgets/controls",
      "model_module_version": "1.5.0",
      "model_name": "ButtonModel",
      "state": {
       "description": "Download image",
       "layout": "IPY_MODEL_3961f71503e84c47a7c06a3b9753d21b",
       "style": "IPY_MODEL_5717d5b9f3fe484d871421f488e272de",
       "tooltip": "Download current frame to your local PC"
      }
     },
     "4be6c4eb2a4d4bccb5c688e112631e4e": {
      "model_module": "@jupyter-widgets/base",
      "model_module_version": "1.2.0",
      "model_name": "LayoutModel",
      "state": {
       "width": "34px"
      }
     },
     "4c01457ac37444eb8f78e72897a87635": {
      "model_module": "@jupyter-widgets/base",
      "model_module_version": "1.2.0",
      "model_name": "LayoutModel",
      "state": {}
     },
     "5219a6c105c940f49b016f57c3bcff6d": {
      "model_module": "nglview-js-widgets",
      "model_module_version": "3.0.1",
      "model_name": "ColormakerRegistryModel",
      "state": {
       "_msg_ar": [],
       "_msg_q": [],
       "_ready": true,
       "layout": "IPY_MODEL_9a2dbef3f9fc4b93a30777fe78f0fee0"
      }
     },
     "5717d5b9f3fe484d871421f488e272de": {
      "model_module": "@jupyter-widgets/controls",
      "model_module_version": "1.5.0",
      "model_name": "ButtonStyleModel",
      "state": {}
     },
     "654d9acafc2240ef91a4f4f755712f72": {
      "model_module": "@jupyter-widgets/controls",
      "model_module_version": "1.5.0",
      "model_name": "DescriptionStyleModel",
      "state": {
       "description_width": ""
      }
     },
     "66f40e9e2d214845a121e760d410c40f": {
      "model_module": "@jupyter-widgets/base",
      "model_module_version": "1.2.0",
      "model_name": "LayoutModel",
      "state": {}
     },
     "69aff502549c4e2b86c8dc5cffd8201b": {
      "model_module": "@jupyter-widgets/base",
      "model_module_version": "1.2.0",
      "model_name": "LayoutModel",
      "state": {}
     },
     "6a6e769dde17415e8b1f08fdd164d235": {
      "model_module": "@jupyter-widgets/controls",
      "model_module_version": "1.5.0",
      "model_name": "LinkModel",
      "state": {
       "source": [
        "IPY_MODEL_74b65fabd5d54c6a9eb321576edf202f",
        "max"
       ],
       "target": [
        "IPY_MODEL_c20252aa4a094c5f897433dc3103124b",
        "max_frame"
       ]
      }
     },
     "6f7f3c1926d24e37977a0102bf47943a": {
      "model_module": "@jupyter-widgets/base",
      "model_module_version": "1.2.0",
      "model_name": "LayoutModel",
      "state": {}
     },
     "701661a199fd46129e9aca348aa4a1e4": {
      "model_module": "@jupyter-widgets/output",
      "model_module_version": "1.0.0",
      "model_name": "OutputModel",
      "state": {
       "layout": "IPY_MODEL_91af596dc2fd4f37a67c59884b4d1892"
      }
     },
     "703f41bee8334e8799f9db3be1036a62": {
      "model_module": "@jupyter-widgets/controls",
      "model_module_version": "1.5.0",
      "model_name": "HBoxModel",
      "state": {
       "children": [
        "IPY_MODEL_74b65fabd5d54c6a9eb321576edf202f",
        "IPY_MODEL_84c600727a504e4aa11de4fd76947dea"
       ],
       "layout": "IPY_MODEL_7b3158c01cbf41b9a7900aca7f87aaa9"
      }
     },
     "74b65fabd5d54c6a9eb321576edf202f": {
      "model_module": "@jupyter-widgets/controls",
      "model_module_version": "1.5.0",
      "model_name": "PlayModel",
      "state": {
       "layout": "IPY_MODEL_f99661042da34ed58d9be4a346e5c3e5",
       "max": 19,
       "style": "IPY_MODEL_ceabb50539944b529f11f6105cb929fd",
       "value": 19
      }
     },
     "7b3158c01cbf41b9a7900aca7f87aaa9": {
      "model_module": "@jupyter-widgets/base",
      "model_module_version": "1.2.0",
      "model_name": "LayoutModel",
      "state": {}
     },
     "7f7154f802e143e5b28a6ca8b74e792e": {
      "model_module": "@jupyter-widgets/controls",
      "model_module_version": "1.5.0",
      "model_name": "ButtonModel",
      "state": {
       "description": "Save image",
       "layout": "IPY_MODEL_8754f847f2544cdb891f0c797dc72abe",
       "style": "IPY_MODEL_9566e1ed0b6748d68225090bb4d546df",
       "tooltip": "Save current frame to file.\nCurrently .png and .html are supported.\nIt takes a bit time, please be patient."
      }
     },
     "81f302af996c45069f6b68f1b096eb35": {
      "model_module": "@jupyter-widgets/controls",
      "model_module_version": "1.5.0",
      "model_name": "SliderStyleModel",
      "state": {
       "description_width": ""
      }
     },
     "834cc44481d743df9f4cf4e0c01c42b7": {
      "model_module": "@jupyter-widgets/base",
      "model_module_version": "1.2.0",
      "model_name": "LayoutModel",
      "state": {}
     },
     "84c600727a504e4aa11de4fd76947dea": {
      "model_module": "@jupyter-widgets/controls",
      "model_module_version": "1.5.0",
      "model_name": "IntSliderModel",
      "state": {
       "layout": "IPY_MODEL_ca270f4a25f541c986073fda381862b6",
       "max": 19,
       "style": "IPY_MODEL_45f465929eba46d594a3461c42e47632",
       "value": 19
      }
     },
     "850c1573b31244c7938dffbbd5635e98": {
      "model_module": "@jupyter-widgets/controls",
      "model_module_version": "1.5.0",
      "model_name": "HBoxModel",
      "state": {
       "children": [
        "IPY_MODEL_c20252aa4a094c5f897433dc3103124b",
        "IPY_MODEL_f6a44ed009c24a64a3292c7c334c68a9"
       ],
       "layout": "IPY_MODEL_c8c1d743df404c6886868272c1fc1cb1"
      }
     },
     "8754f847f2544cdb891f0c797dc72abe": {
      "model_module": "@jupyter-widgets/base",
      "model_module_version": "1.2.0",
      "model_name": "LayoutModel",
      "state": {}
     },
     "8a38249096424028b2db3e5a097e10a0": {
      "model_module": "@jupyter-widgets/controls",
      "model_module_version": "1.5.0",
      "model_name": "ImageModel",
      "state": {
       "layout": "IPY_MODEL_c872d1949b5e46c4aaee38655977d481",
       "width": "900.0"
      }
     },
     "91af596dc2fd4f37a67c59884b4d1892": {
      "model_module": "@jupyter-widgets/base",
      "model_module_version": "1.2.0",
      "model_name": "LayoutModel",
      "state": {
       "border": "0px solid black"
      }
     },
     "940169e682524f4d9337ebae2a412d0d": {
      "model_module": "@jupyter-widgets/controls",
      "model_module_version": "1.5.0",
      "model_name": "LinkModel",
      "state": {
       "source": [
        "IPY_MODEL_84c600727a504e4aa11de4fd76947dea",
        "max"
       ],
       "target": [
        "IPY_MODEL_c20252aa4a094c5f897433dc3103124b",
        "max_frame"
       ]
      }
     },
     "9566e1ed0b6748d68225090bb4d546df": {
      "model_module": "@jupyter-widgets/controls",
      "model_module_version": "1.5.0",
      "model_name": "ButtonStyleModel",
      "state": {}
     },
     "979806c2eb1d4183bc54f3107b53b0d8": {
      "model_module": "@jupyter-widgets/controls",
      "model_module_version": "1.5.0",
      "model_name": "IntSliderModel",
      "state": {
       "layout": "IPY_MODEL_66f40e9e2d214845a121e760d410c40f",
       "max": 19,
       "style": "IPY_MODEL_81f302af996c45069f6b68f1b096eb35"
      }
     },
     "9a2dbef3f9fc4b93a30777fe78f0fee0": {
      "model_module": "@jupyter-widgets/base",
      "model_module_version": "1.2.0",
      "model_name": "LayoutModel",
      "state": {}
     },
     "9c02ada783e445ec8d9b07e5b4ab6739": {
      "model_module": "@jupyter-widgets/base",
      "model_module_version": "1.2.0",
      "model_name": "LayoutModel",
      "state": {}
     },
     "a372ba080b8d4d79bbece6f885d17ad1": {
      "model_module": "@jupyter-widgets/controls",
      "model_module_version": "1.5.0",
      "model_name": "ButtonStyleModel",
      "state": {}
     },
     "b5e10bba46164ed4951f6e6cadcf1155": {
      "model_module": "@jupyter-widgets/controls",
      "model_module_version": "1.5.0",
      "model_name": "DropdownModel",
      "state": {
       "_options_labels": [
        " ",
        "picking",
        "random",
        "uniform",
        "atomindex",
        "residueindex",
        "chainindex",
        "modelindex",
        "sstruc",
        "element",
        "resname",
        "bfactor",
        "hydrophobicity",
        "value",
        "volume",
        "occupancy"
       ],
       "description": "Color scheme",
       "index": 9,
       "layout": "IPY_MODEL_bf92e2e611f44c0ea1096e8989bc6be1",
       "style": "IPY_MODEL_1bed383a17aa483bb8fd32840fd4d2f8"
      }
     },
     "b979b42a63a149dbbe186d04c770e184": {
      "model_module": "@jupyter-widgets/base",
      "model_module_version": "1.2.0",
      "model_name": "LayoutModel",
      "state": {}
     },
     "bf92e2e611f44c0ea1096e8989bc6be1": {
      "model_module": "@jupyter-widgets/base",
      "model_module_version": "1.2.0",
      "model_name": "LayoutModel",
      "state": {}
     },
     "bfed353a8198428a9f51bccfff93e9b3": {
      "model_module": "@jupyter-widgets/controls",
      "model_module_version": "1.5.0",
      "model_name": "CheckboxModel",
      "state": {
       "description": "Show charge",
       "disabled": false,
       "layout": "IPY_MODEL_b979b42a63a149dbbe186d04c770e184",
       "style": "IPY_MODEL_de5e1af1030c485bae6535c8cf73d6ea",
       "value": false
      }
     },
     "c20252aa4a094c5f897433dc3103124b": {
      "model_module": "nglview-js-widgets",
      "model_module_version": "3.0.1",
      "model_name": "NGLModel",
      "state": {
       "_camera_orientation": [
        19.05327691451927,
        0,
        0,
        0,
        0,
        19.05327691451927,
        0,
        0,
        0,
        0,
        19.05327691451927,
        0,
        -4.516999946907163,
        -4.524999831803143,
        -4.500499935820699,
        1
       ],
       "_camera_str": "orthographic",
       "_gui_theme": null,
       "_ibtn_fullscreen": "IPY_MODEL_39c18f126c7747cfaef74d01dcdd0330",
       "_igui": null,
       "_iplayer": "IPY_MODEL_703f41bee8334e8799f9db3be1036a62",
       "_ngl_color_dict": {},
       "_ngl_coordinate_resource": {},
       "_ngl_full_stage_parameters": {
        "ambientColor": 14540253,
        "ambientIntensity": 0.2,
        "backgroundColor": "white",
        "cameraEyeSep": 0.3,
        "cameraFov": 40,
        "cameraType": "orthographic",
        "clipDist": 0,
        "clipFar": 100,
        "clipNear": 0,
        "fogFar": 100,
        "fogNear": 50,
        "hoverTimeout": 0,
        "impostor": true,
        "lightColor": 14540253,
        "lightIntensity": 1,
        "mousePreset": "default",
        "panSpeed": 1,
        "quality": "medium",
        "rotateSpeed": 2,
        "sampleLevel": 0,
        "tooltip": true,
        "workerDefault": true,
        "zoomSpeed": 1.2
       },
       "_ngl_msg_archive": [
        {
         "args": [
          {
           "binary": false,
           "data": "CRYST1   10.830   10.830   10.830  90.00  90.00  90.00 P 1\nMODEL     1\nATOM      1   Cu MOL     1      -0.037   0.003  -0.029  1.00  0.00          CU  \nATOM      2   Cu MOL     1      -0.027   1.855   1.806  1.00  0.00          CU  \nATOM      3   Cu MOL     1       1.774  -0.013   1.820  1.00  0.00          CU  \nATOM      4   Cu MOL     1       1.827   1.820   0.049  1.00  0.00          CU  \nATOM      5   Cu MOL     1       0.039   0.021   3.587  1.00  0.00          CU  \nATOM      6   Cu MOL     1      -0.034   1.802   5.411  1.00  0.00          CU  \nATOM      7   Cu MOL     1       1.882   0.006   5.408  1.00  0.00          CU  \nATOM      8   Cu MOL     1       1.766   1.780   3.625  1.00  0.00          CU  \nATOM      9   Cu MOL     1       0.011   0.031   7.248  1.00  0.00          CU  \nATOM     10   Cu MOL     1      -0.025   1.857   8.990  1.00  0.00          CU  \nATOM     11   Cu MOL     1       1.823   0.003   8.987  1.00  0.00          CU  \nATOM     12   Cu MOL     1       1.884   1.742   7.266  1.00  0.00          CU  \nATOM     13   Cu MOL     1      -0.028   3.655   0.028  1.00  0.00          CU  \nATOM     14   Cu MOL     1       0.030   5.393   1.781  1.00  0.00          CU  \nATOM     15   Cu MOL     1       1.817   3.618   1.823  1.00  0.00          CU  \nATOM     16   Cu MOL     1       1.793   5.467  -0.060  1.00  0.00          CU  \nATOM     17   Cu MOL     1       0.044   3.624   3.592  1.00  0.00          CU  \nATOM     18   Cu MOL     1      -0.020   5.411   5.475  1.00  0.00          CU  \nATOM     19   Cu MOL     1       1.807   3.623   5.409  1.00  0.00          CU  \nATOM     20   Cu MOL     1       1.808   5.409   3.608  1.00  0.00          CU  \nATOM     21   Cu MOL     1       0.055   3.606   7.252  1.00  0.00          CU  \nATOM     22   Cu MOL     1       0.020   5.446   9.054  1.00  0.00          CU  \nATOM     23   Cu MOL     1       1.836   3.613   9.015  1.00  0.00          CU  \nATOM     24   Cu MOL     1       1.805   5.417   7.230  1.00  0.00          CU  \nATOM     25   Cu MOL     1       0.003   7.237  -0.007  1.00  0.00          CU  \nATOM     26   Cu MOL     1      -0.035   9.034   1.759  1.00  0.00          CU  \nATOM     27   Cu MOL     1       1.797   7.253   1.788  1.00  0.00          CU  \nATOM     28   Cu MOL     1       1.777   9.041  -0.031  1.00  0.00          CU  \nATOM     29   Cu MOL     1      -0.000   7.280   3.563  1.00  0.00          CU  \nATOM     30   Cu MOL     1      -0.025   9.006   5.430  1.00  0.00          CU  \nATOM     31   Cu MOL     1       1.852   7.190   5.439  1.00  0.00          CU  \nATOM     32   Cu MOL     1       1.818   9.026   3.595  1.00  0.00          CU  \nATOM     33   Cu MOL     1       0.042   7.208   7.302  1.00  0.00          CU  \nATOM     34   Cu MOL     1      -0.053   9.017   9.057  1.00  0.00          CU  \nATOM     35   Cu MOL     1       1.795   7.213   9.052  1.00  0.00          CU  \nATOM     36   Cu MOL     1       1.762   9.059   7.250  1.00  0.00          CU  \nATOM     37   Cu MOL     1       3.594   0.023  -0.011  1.00  0.00          CU  \nATOM     38   Cu MOL     1       3.591   1.846   1.813  1.00  0.00          CU  \nATOM     39   Cu MOL     1       5.370  -0.012   1.800  1.00  0.00          CU  \nATOM     40   Cu MOL     1       5.399   1.813  -0.004  1.00  0.00          CU  \nATOM     41   Cu MOL     1       3.563   0.011   3.573  1.00  0.00          CU  \nATOM     42   Cu MOL     1       3.610   1.763   5.434  1.00  0.00          CU  \nATOM     43   Cu MOL     1       5.422   0.007   5.394  1.00  0.00          CU  \nATOM     44   Cu MOL     1       5.398   1.806   3.550  1.00  0.00          CU  \nATOM     45   Cu MOL     1       3.576   0.085   7.193  1.00  0.00          CU  \nATOM     46   Cu MOL     1       3.655   1.817   9.061  1.00  0.00          CU  \nATOM     47   Cu MOL     1       5.468   0.002   9.035  1.00  0.00          CU  \nATOM     48   Cu MOL     1       5.464   1.734   7.237  1.00  0.00          CU  \nATOM     49   Cu MOL     1       3.624   3.612   0.025  1.00  0.00          CU  \nATOM     50   Cu MOL     1       3.613   5.398   1.780  1.00  0.00          CU  \nATOM     51   Cu MOL     1       5.446   3.652   1.776  1.00  0.00          CU  \nATOM     52   Cu MOL     1       5.428   5.407  -0.030  1.00  0.00          CU  \nATOM     53   Cu MOL     1       3.604   3.567   3.571  1.00  0.00          CU  \nATOM     54   Cu MOL     1       3.596   5.411   5.407  1.00  0.00          CU  \nATOM     55   Cu MOL     1       5.399   3.643   5.391  1.00  0.00          CU  \nATOM     56   Cu MOL     1       5.378   5.464   3.595  1.00  0.00          CU  \nATOM     57   Cu MOL     1       3.565   3.638   7.187  1.00  0.00          CU  \nATOM     58   Cu MOL     1       3.623   5.422   9.052  1.00  0.00          CU  \nATOM     59   Cu MOL     1       5.393   3.550   9.054  1.00  0.00          CU  \nATOM     60   Cu MOL     1       5.382   5.374   7.160  1.00  0.00          CU  \nATOM     61   Cu MOL     1       3.651   7.238   0.021  1.00  0.00          CU  \nATOM     62   Cu MOL     1       3.605   9.034   1.849  1.00  0.00          CU  \nATOM     63   Cu MOL     1       5.370   7.203   1.792  1.00  0.00          CU  \nATOM     64   Cu MOL     1       5.455   8.993   0.038  1.00  0.00          CU  \nATOM     65   Cu MOL     1       3.583   7.241   3.625  1.00  0.00          CU  \nATOM     66   Cu MOL     1       3.611   8.987   5.332  1.00  0.00          CU  \nATOM     67   Cu MOL     1       5.387   7.204   5.444  1.00  0.00          CU  \nATOM     68   Cu MOL     1       5.504   9.021   3.681  1.00  0.00          CU  \nATOM     69   Cu MOL     1       3.595   7.198   7.228  1.00  0.00          CU  \nATOM     70   Cu MOL     1       3.658   9.014   9.054  1.00  0.00          CU  \nATOM     71   Cu MOL     1       5.422   7.203   8.924  1.00  0.00          CU  \nATOM     72   Cu MOL     1       5.388   9.009   7.172  1.00  0.00          CU  \nATOM     73   Cu MOL     1       7.135  -0.024  -0.052  1.00  0.00          CU  \nATOM     74   Cu MOL     1       7.208   1.770   1.778  1.00  0.00          CU  \nATOM     75   Cu MOL     1       8.989  -0.024   1.816  1.00  0.00          CU  \nATOM     76   Cu MOL     1       9.006   1.756   0.043  1.00  0.00          CU  \nATOM     77   Cu MOL     1       7.258   0.011   3.555  1.00  0.00          CU  \nATOM     78   Cu MOL     1       7.201   1.760   5.460  1.00  0.00          CU  \nATOM     79   Cu MOL     1       8.984   0.042   5.348  1.00  0.00          CU  \nATOM     80   Cu MOL     1       9.007   1.811   3.644  1.00  0.00          CU  \nATOM     81   Cu MOL     1       7.222  -0.027   7.202  1.00  0.00          CU  \nATOM     82   Cu MOL     1       7.220   1.824   9.019  1.00  0.00          CU  \nATOM     83   Cu MOL     1       9.019   0.008   9.057  1.00  0.00          CU  \nATOM     84   Cu MOL     1       9.070   1.800   7.246  1.00  0.00          CU  \nATOM     85   Cu MOL     1       7.196   3.587   0.030  1.00  0.00          CU  \nATOM     86   Cu MOL     1       7.247   5.443   1.785  1.00  0.00          CU  \nATOM     87   Cu MOL     1       8.961   3.598   1.781  1.00  0.00          CU  \nATOM     88   Cu MOL     1       9.021   5.409   0.067  1.00  0.00          CU  \nATOM     89   Cu MOL     1       7.279   3.602   3.679  1.00  0.00          CU  \nATOM     90   Cu MOL     1       7.229   5.406   5.440  1.00  0.00          CU  \nATOM     91   Cu MOL     1       9.083   3.578   5.435  1.00  0.00          CU  \nATOM     92   Cu MOL     1       8.979   5.404   3.554  1.00  0.00          CU  \nATOM     93   Cu MOL     1       7.256   3.572   7.196  1.00  0.00          CU  \nATOM     94   Cu MOL     1       7.265   5.352   9.026  1.00  0.00          CU  \nATOM     95   Cu MOL     1       9.062   3.645   9.036  1.00  0.00          CU  \nATOM     96   Cu MOL     1       9.087   5.364   7.174  1.00  0.00          CU  \nATOM     97   Cu MOL     1       7.201   7.213   0.058  1.00  0.00          CU  \nATOM     98   Cu MOL     1       7.233   8.989   1.798  1.00  0.00          CU  \nATOM     99   Cu MOL     1       9.022   7.287   1.803  1.00  0.00          CU  \nATOM    100   Cu MOL     1       9.049   9.031   0.029  1.00  0.00          CU  \nATOM    101   Cu MOL     1       7.193   7.239   3.652  1.00  0.00          CU  \nATOM    102   Cu MOL     1       7.254   9.077   5.431  1.00  0.00          CU  \nATOM    103   Cu MOL     1       8.956   7.201   5.374  1.00  0.00          CU  \nATOM    104   Cu MOL     1       9.021   8.969   3.584  1.00  0.00          CU  \nATOM    105   Cu MOL     1       7.280   7.232   7.267  1.00  0.00          CU  \nATOM    106   Cu MOL     1       7.150   9.059   9.019  1.00  0.00          CU  \nATOM    107   Cu MOL     1       9.035   7.217   9.027  1.00  0.00          CU  \nATOM    108   Cu MOL     1       8.998   9.026   7.209  1.00  0.00          CU  \nENDMDL\n",
           "type": "blob"
          }
         ],
         "kwargs": {
          "defaultRepresentation": false,
          "ext": "pdb"
         },
         "methodName": "loadFile",
         "reconstruc_color_scheme": false,
         "target": "Stage",
         "type": "call_method"
        },
        {
         "args": [
          "500px",
          "500px"
         ],
         "kwargs": {},
         "methodName": "setSize",
         "reconstruc_color_scheme": false,
         "target": "Widget",
         "type": "call_method"
        },
        {
         "args": [
          "unitcell"
         ],
         "component_index": 0,
         "kwargs": {
          "sele": "all"
         },
         "methodName": "addRepresentation",
         "reconstruc_color_scheme": false,
         "target": "compList",
         "type": "call_method"
        },
        {
         "args": [
          "spacefill"
         ],
         "component_index": 0,
         "kwargs": {
          "sele": "all"
         },
         "methodName": "addRepresentation",
         "reconstruc_color_scheme": false,
         "target": "compList",
         "type": "call_method"
        },
        {
         "args": [],
         "kwargs": {
          "cameraType": "orthographic"
         },
         "methodName": "setParameters",
         "reconstruc_color_scheme": false,
         "target": "Stage",
         "type": "call_method"
        },
        {
         "args": [
          {
           "clipDist": 0
          }
         ],
         "kwargs": {},
         "methodName": "setParameters",
         "reconstruc_color_scheme": false,
         "target": "Widget",
         "type": "call_method"
        },
        {
         "args": [
          "spacefill",
          0
         ],
         "kwargs": {
          "colorScale": "rainbow",
          "colorScheme": "element",
          "radiusScale": 0.5,
          "radiusType": "covalent"
         },
         "methodName": "updateRepresentationsByName",
         "reconstruc_color_scheme": false,
         "target": "Widget",
         "type": "call_method"
        },
        {
         "args": [
          "this._Q = [[0.9999999999516052, -3.9136969652278385e-06, 9.026203896998562e-06], [3.913718983893144e-06, 0.9999999999893661, -2.4393995273462124e-06], [-9.02619434983205e-06, 2.439434853253703e-06, 0.9999999999562885]]\n    var tooltip = document.createElement('div');\n    Object.assign(tooltip.style, {\n      display: 'none',\n      position: 'fixed',\n      zIndex: 10,\n      pointerEvents: 'none',\n      backgroundColor: 'rgba( 0, 0, 0, 0.6 )',\n      color: 'lightgrey',\n      padding: '8px',\n      fontFamily: 'sans-serif'\n    });\n    document.body.appendChild(tooltip);\n\n    var that = this;\n    this.stage.mouseControls.remove('hoverPick');\n    this.stage.signals.hovered.add(function (pickingProxy) {\n      if (pickingProxy && (pickingProxy.atom || pickingProxy.bond)) {\n        var atom = pickingProxy.atom || pickingProxy.closestBondAtom\n        var mp = pickingProxy.mouse.position\n        //tooltip.innerText = atom.element + ' i=' + atom.index + ' (' + atom.x.toFixed(2) +  ', ' + atom.y.toFixed(2) +  ', ' + atom.z.toFixed(2) + ')'\n        //var pos = that._atoms_pos[atom.index]\n        var Q = that._Q\n        var pos_x = Q[0][0] * atom.x + Q[0][1] * atom.y + Q[0][2] * atom.z \n        var pos_y = Q[1][0] * atom.x + Q[1][1] * atom.y + Q[1][2] * atom.z\n        var pos_z = Q[2][0] * atom.x + Q[2][1] * atom.y + Q[2][2] * atom.z\n        tooltip.innerText = 'i=' + atom.index + ' ' + atom.element + ' (' + pos_x.toFixed(2) +  ', ' + pos_y.toFixed(2) +  ', ' + pos_z.toFixed(2) + ')'\n        tooltip.style.bottom = window.innerHeight - mp.y + 3 + 'px'\n        tooltip.style.left = mp.x + 3 + 'px'\n        tooltip.style.display = 'block'\n      } else {\n        tooltip.style.display = 'none'\n      }\n    });\n    this.stage.tooltip = tooltip;\n    "
         ],
         "kwargs": {},
         "methodName": "executeCode",
         "reconstruc_color_scheme": false,
         "target": "Widget",
         "type": "call_method"
        },
        {
         "args": [
          {
           "data": "CRYST1   10.880   10.629   10.755  91.06  91.29  89.42 P 1\nMODEL     1\nATOM      1   Cu MOL     1      -0.151  -0.062   0.037  1.00  0.00          CU  \nATOM      2   Cu MOL     1      -0.002   1.684   1.673  1.00  0.00          CU  \nATOM      3   Cu MOL     1       1.791  -0.077   1.890  1.00  0.00          CU  \nATOM      4   Cu MOL     1       1.839   1.851  -0.079  1.00  0.00          CU  \nATOM      5   Cu MOL     1      -0.028   0.095   3.729  1.00  0.00          CU  \nATOM      6   Cu MOL     1      -0.171   1.803   5.446  1.00  0.00          CU  \nATOM      7   Cu MOL     1       1.761  -0.080   5.472  1.00  0.00          CU  \nATOM      8   Cu MOL     1       1.715   1.770   3.733  1.00  0.00          CU  \nATOM      9   Cu MOL     1      -0.305  -0.253   7.049  1.00  0.00          CU  \nATOM     10   Cu MOL     1      -0.190   1.563   8.881  1.00  0.00          CU  \nATOM     11   Cu MOL     1       1.617  -0.108   8.749  1.00  0.00          CU  \nATOM     12   Cu MOL     1       1.629   1.685   7.078  1.00  0.00          CU  \nATOM     13   Cu MOL     1       0.058   3.499  -0.046  1.00  0.00          CU  \nATOM     14   Cu MOL     1       0.092   5.236   1.929  1.00  0.00          CU  \nATOM     15   Cu MOL     1       2.016   3.410   1.853  1.00  0.00          CU  \nATOM     16   Cu MOL     1       1.675   5.414   0.062  1.00  0.00          CU  \nATOM     17   Cu MOL     1      -0.164   3.312   3.554  1.00  0.00          CU  \nATOM     18   Cu MOL     1      -0.182   5.213   5.484  1.00  0.00          CU  \nATOM     19   Cu MOL     1       1.994   3.436   5.275  1.00  0.00          CU  \nATOM     20   Cu MOL     1       1.577   5.100   3.645  1.00  0.00          CU  \nATOM     21   Cu MOL     1       0.012   3.475   7.093  1.00  0.00          CU  \nATOM     22   Cu MOL     1      -0.180   5.199   9.027  1.00  0.00          CU  \nATOM     23   Cu MOL     1       1.509   3.512   8.898  1.00  0.00          CU  \nATOM     24   Cu MOL     1       1.590   5.292   7.320  1.00  0.00          CU  \nATOM     25   Cu MOL     1       0.195   7.205  -0.003  1.00  0.00          CU  \nATOM     26   Cu MOL     1       0.181   8.823   1.905  1.00  0.00          CU  \nATOM     27   Cu MOL     1       1.742   7.058   2.122  1.00  0.00          CU  \nATOM     28   Cu MOL     1       1.761   8.976   0.151  1.00  0.00          CU  \nATOM     29   Cu MOL     1      -0.046   6.916   3.724  1.00  0.00          CU  \nATOM     30   Cu MOL     1      -0.165   8.718   5.298  1.00  0.00          CU  \nATOM     31   Cu MOL     1       1.679   7.055   5.474  1.00  0.00          CU  \nATOM     32   Cu MOL     1       1.873   8.893   3.714  1.00  0.00          CU  \nATOM     33   Cu MOL     1      -0.133   6.920   7.090  1.00  0.00          CU  \nATOM     34   Cu MOL     1      -0.114   8.859   8.899  1.00  0.00          CU  \nATOM     35   Cu MOL     1       1.662   7.024   8.694  1.00  0.00          CU  \nATOM     36   Cu MOL     1       1.827   8.836   7.101  1.00  0.00          CU  \nATOM     37   Cu MOL     1       3.738   0.200   0.112  1.00  0.00          CU  \nATOM     38   Cu MOL     1       3.558   1.784   1.833  1.00  0.00          CU  \nATOM     39   Cu MOL     1       5.431  -0.241   1.802  1.00  0.00          CU  \nATOM     40   Cu MOL     1       5.344   1.826  -0.030  1.00  0.00          CU  \nATOM     41   Cu MOL     1       3.549   0.068   3.633  1.00  0.00          CU  \nATOM     42   Cu MOL     1       3.522   1.770   5.246  1.00  0.00          CU  \nATOM     43   Cu MOL     1       5.459  -0.198   5.362  1.00  0.00          CU  \nATOM     44   Cu MOL     1       5.402   1.513   3.648  1.00  0.00          CU  \nATOM     45   Cu MOL     1       3.507  -0.015   7.045  1.00  0.00          CU  \nATOM     46   Cu MOL     1       3.447   1.842   8.841  1.00  0.00          CU  \nATOM     47   Cu MOL     1       5.214   0.083   8.763  1.00  0.00          CU  \nATOM     48   Cu MOL     1       5.294   1.710   7.226  1.00  0.00          CU  \nATOM     49   Cu MOL     1       3.532   3.600  -0.047  1.00  0.00          CU  \nATOM     50   Cu MOL     1       3.487   5.357   1.720  1.00  0.00          CU  \nATOM     51   Cu MOL     1       5.320   3.264   1.850  1.00  0.00          CU  \nATOM     52   Cu MOL     1       5.314   5.276  -0.057  1.00  0.00          CU  \nATOM     53   Cu MOL     1       3.522   3.478   3.583  1.00  0.00          CU  \nATOM     54   Cu MOL     1       3.649   5.326   5.088  1.00  0.00          CU  \nATOM     55   Cu MOL     1       5.476   3.471   5.373  1.00  0.00          CU  \nATOM     56   Cu MOL     1       5.444   5.233   3.643  1.00  0.00          CU  \nATOM     57   Cu MOL     1       3.594   3.428   7.106  1.00  0.00          CU  \nATOM     58   Cu MOL     1       3.653   5.265   8.726  1.00  0.00          CU  \nATOM     59   Cu MOL     1       5.407   3.162   8.971  1.00  0.00          CU  \nATOM     60   Cu MOL     1       5.551   5.255   6.983  1.00  0.00          CU  \nATOM     61   Cu MOL     1       3.449   6.975   0.005  1.00  0.00          CU  \nATOM     62   Cu MOL     1       3.642   8.934   1.737  1.00  0.00          CU  \nATOM     63   Cu MOL     1       5.418   6.716   1.797  1.00  0.00          CU  \nATOM     64   Cu MOL     1       5.572   8.864  -0.133  1.00  0.00          CU  \nATOM     65   Cu MOL     1       3.593   7.163   3.637  1.00  0.00          CU  \nATOM     66   Cu MOL     1       3.814   8.852   5.327  1.00  0.00          CU  \nATOM     67   Cu MOL     1       5.512   7.040   5.315  1.00  0.00          CU  \nATOM     68   Cu MOL     1       5.435   8.755   3.477  1.00  0.00          CU  \nATOM     69   Cu MOL     1       3.605   7.131   7.017  1.00  0.00          CU  \nATOM     70   Cu MOL     1       3.462   8.819   8.853  1.00  0.00          CU  \nATOM     71   Cu MOL     1       5.407   6.668   9.240  1.00  0.00          CU  \nATOM     72   Cu MOL     1       5.336   8.737   7.179  1.00  0.00          CU  \nATOM     73   Cu MOL     1       6.945   0.194  -0.084  1.00  0.00          CU  \nATOM     74   Cu MOL     1       7.136   1.764   1.913  1.00  0.00          CU  \nATOM     75   Cu MOL     1       8.883   0.194   1.820  1.00  0.00          CU  \nATOM     76   Cu MOL     1       9.181   1.762  -0.177  1.00  0.00          CU  \nATOM     77   Cu MOL     1       7.199  -0.280   3.511  1.00  0.00          CU  \nATOM     78   Cu MOL     1       7.152   1.550   5.399  1.00  0.00          CU  \nATOM     79   Cu MOL     1       8.820  -0.190   5.379  1.00  0.00          CU  \nATOM     80   Cu MOL     1       9.002   1.676   3.694  1.00  0.00          CU  \nATOM     81   Cu MOL     1       6.964  -0.266   7.188  1.00  0.00          CU  \nATOM     82   Cu MOL     1       7.144   1.611   8.898  1.00  0.00          CU  \nATOM     83   Cu MOL     1       8.999  -0.322   8.953  1.00  0.00          CU  \nATOM     84   Cu MOL     1       8.924   1.561   7.235  1.00  0.00          CU  \nATOM     85   Cu MOL     1       7.221   3.551   0.178  1.00  0.00          CU  \nATOM     86   Cu MOL     1       7.283   5.193   1.839  1.00  0.00          CU  \nATOM     87   Cu MOL     1       9.172   3.387   1.757  1.00  0.00          CU  \nATOM     88   Cu MOL     1       9.390   5.388  -0.052  1.00  0.00          CU  \nATOM     89   Cu MOL     1       7.169   3.471   3.419  1.00  0.00          CU  \nATOM     90   Cu MOL     1       7.238   5.218   5.346  1.00  0.00          CU  \nATOM     91   Cu MOL     1       8.910   3.312   5.263  1.00  0.00          CU  \nATOM     92   Cu MOL     1       8.961   5.295   3.449  1.00  0.00          CU  \nATOM     93   Cu MOL     1       7.163   3.343   7.216  1.00  0.00          CU  \nATOM     94   Cu MOL     1       7.095   4.955   9.054  1.00  0.00          CU  \nATOM     95   Cu MOL     1       9.086   3.435   8.822  1.00  0.00          CU  \nATOM     96   Cu MOL     1       9.056   5.126   7.269  1.00  0.00          CU  \nATOM     97   Cu MOL     1       7.325   6.807   0.106  1.00  0.00          CU  \nATOM     98   Cu MOL     1       7.271   8.393   1.782  1.00  0.00          CU  \nATOM     99   Cu MOL     1       9.330   7.078   1.889  1.00  0.00          CU  \nATOM    100   Cu MOL     1       9.140   9.028   0.130  1.00  0.00          CU  \nATOM    101   Cu MOL     1       7.160   7.068   3.746  1.00  0.00          CU  \nATOM    102   Cu MOL     1       7.399   8.656   5.295  1.00  0.00          CU  \nATOM    103   Cu MOL     1       9.069   7.046   5.365  1.00  0.00          CU  \nATOM    104   Cu MOL     1       9.086   8.872   3.375  1.00  0.00          CU  \nATOM    105   Cu MOL     1       7.209   6.994   7.377  1.00  0.00          CU  \nATOM    106   Cu MOL     1       6.974   8.715   9.134  1.00  0.00          CU  \nATOM    107   Cu MOL     1       8.847   6.954   9.217  1.00  0.00          CU  \nATOM    108   Cu MOL     1       8.997   8.566   7.254  1.00  0.00          CU  \nENDMDL\n",
           "ext": "pdb"
          }
         ],
         "kwargs": {},
         "methodName": "replaceStructure",
         "reconstruc_color_scheme": false,
         "target": "Widget",
         "type": "call_method"
        },
        {
         "args": [
          "this._Q = [[0.9997012685708506, 0.009636412846599132, -0.022461370512100197], [-0.010047183273746003, 0.9997830210887905, -0.018247324484283036], [0.0222806581163058, 0.01846754694107628, 0.9995811732840327]]"
         ],
         "kwargs": {},
         "methodName": "executeCode",
         "reconstruc_color_scheme": false,
         "target": "Widget",
         "type": "call_method"
        },
        {
         "args": [
          {
           "data": "CRYST1   11.006   10.998   11.166  91.41  90.67  90.49 P 1\nMODEL     1\nATOM      1   Cu MOL     1       0.254  -0.061  -0.143  1.00  0.00          CU  \nATOM      2   Cu MOL     1      -0.301   1.739   1.608  1.00  0.00          CU  \nATOM      3   Cu MOL     1       1.537  -0.139   2.134  1.00  0.00          CU  \nATOM      4   Cu MOL     1       1.839   1.961  -0.108  1.00  0.00          CU  \nATOM      5   Cu MOL     1      -0.121  -0.045   3.642  1.00  0.00          CU  \nATOM      6   Cu MOL     1       0.053   1.886   5.309  1.00  0.00          CU  \nATOM      7   Cu MOL     1       1.714  -0.006   5.835  1.00  0.00          CU  \nATOM      8   Cu MOL     1       1.655   2.037   3.478  1.00  0.00          CU  \nATOM      9   Cu MOL     1      -0.006  -0.021   7.418  1.00  0.00          CU  \nATOM     10   Cu MOL     1      -0.154   1.450   9.235  1.00  0.00          CU  \nATOM     11   Cu MOL     1       1.623  -0.282   9.182  1.00  0.00          CU  \nATOM     12   Cu MOL     1       2.184   1.439   7.421  1.00  0.00          CU  \nATOM     13   Cu MOL     1      -0.098   3.844   0.052  1.00  0.00          CU  \nATOM     14   Cu MOL     1       0.002   5.677   1.640  1.00  0.00          CU  \nATOM     15   Cu MOL     1       1.731   3.726   1.849  1.00  0.00          CU  \nATOM     16   Cu MOL     1       2.001   5.541  -0.237  1.00  0.00          CU  \nATOM     17   Cu MOL     1      -0.164   3.767   3.715  1.00  0.00          CU  \nATOM     18   Cu MOL     1      -0.168   5.383   5.760  1.00  0.00          CU  \nATOM     19   Cu MOL     1       1.695   3.470   5.490  1.00  0.00          CU  \nATOM     20   Cu MOL     1       1.707   5.081   3.682  1.00  0.00          CU  \nATOM     21   Cu MOL     1      -0.303   3.796   7.678  1.00  0.00          CU  \nATOM     22   Cu MOL     1      -0.072   5.191   9.362  1.00  0.00          CU  \nATOM     23   Cu MOL     1       1.769   3.466   9.279  1.00  0.00          CU  \nATOM     24   Cu MOL     1       1.676   5.325   7.523  1.00  0.00          CU  \nATOM     25   Cu MOL     1      -0.128   7.440  -0.002  1.00  0.00          CU  \nATOM     26   Cu MOL     1       0.109   8.967   1.913  1.00  0.00          CU  \nATOM     27   Cu MOL     1       1.817   7.209   1.677  1.00  0.00          CU  \nATOM     28   Cu MOL     1       2.092   8.938   0.325  1.00  0.00          CU  \nATOM     29   Cu MOL     1       0.189   7.312   3.611  1.00  0.00          CU  \nATOM     30   Cu MOL     1      -0.103   8.705   5.633  1.00  0.00          CU  \nATOM     31   Cu MOL     1       1.683   7.032   5.655  1.00  0.00          CU  \nATOM     32   Cu MOL     1       1.809   8.969   3.777  1.00  0.00          CU  \nATOM     33   Cu MOL     1      -0.028   7.168   7.704  1.00  0.00          CU  \nATOM     34   Cu MOL     1      -0.145   9.076   9.254  1.00  0.00          CU  \nATOM     35   Cu MOL     1       1.542   7.139   9.347  1.00  0.00          CU  \nATOM     36   Cu MOL     1       1.683   8.821   7.321  1.00  0.00          CU  \nATOM     37   Cu MOL     1       3.612   0.145   0.161  1.00  0.00          CU  \nATOM     38   Cu MOL     1       3.515   1.875   1.802  1.00  0.00          CU  \nATOM     39   Cu MOL     1       5.692  -0.172   1.965  1.00  0.00          CU  \nATOM     40   Cu MOL     1       5.864   1.746  -0.106  1.00  0.00          CU  \nATOM     41   Cu MOL     1       3.532   0.082   3.778  1.00  0.00          CU  \nATOM     42   Cu MOL     1       3.668   1.948   5.509  1.00  0.00          CU  \nATOM     43   Cu MOL     1       5.463  -0.297   5.405  1.00  0.00          CU  \nATOM     44   Cu MOL     1       5.337   1.712   3.858  1.00  0.00          CU  \nATOM     45   Cu MOL     1       3.522  -0.521   7.622  1.00  0.00          CU  \nATOM     46   Cu MOL     1       3.636   1.391   9.423  1.00  0.00          CU  \nATOM     47   Cu MOL     1       5.616  -0.245   9.512  1.00  0.00          CU  \nATOM     48   Cu MOL     1       4.990   1.354   7.366  1.00  0.00          CU  \nATOM     49   Cu MOL     1       3.804   3.841  -0.162  1.00  0.00          CU  \nATOM     50   Cu MOL     1       3.425   5.412   1.572  1.00  0.00          CU  \nATOM     51   Cu MOL     1       5.267   3.876   1.852  1.00  0.00          CU  \nATOM     52   Cu MOL     1       5.549   5.955  -0.058  1.00  0.00          CU  \nATOM     53   Cu MOL     1       3.535   3.636   3.712  1.00  0.00          CU  \nATOM     54   Cu MOL     1       3.317   5.424   5.611  1.00  0.00          CU  \nATOM     55   Cu MOL     1       5.418   3.558   5.799  1.00  0.00          CU  \nATOM     56   Cu MOL     1       5.543   5.425   3.859  1.00  0.00          CU  \nATOM     57   Cu MOL     1       3.617   3.451   7.385  1.00  0.00          CU  \nATOM     58   Cu MOL     1       3.787   5.134   9.323  1.00  0.00          CU  \nATOM     59   Cu MOL     1       5.429   3.300   9.128  1.00  0.00          CU  \nATOM     60   Cu MOL     1       5.477   5.142   7.521  1.00  0.00          CU  \nATOM     61   Cu MOL     1       3.829   7.456  -0.338  1.00  0.00          CU  \nATOM     62   Cu MOL     1       3.584   9.120   2.082  1.00  0.00          CU  \nATOM     63   Cu MOL     1       5.246   7.074   2.052  1.00  0.00          CU  \nATOM     64   Cu MOL     1       5.282   9.062   0.058  1.00  0.00          CU  \nATOM     65   Cu MOL     1       3.401   7.182   3.764  1.00  0.00          CU  \nATOM     66   Cu MOL     1       3.286   9.242   5.410  1.00  0.00          CU  \nATOM     67   Cu MOL     1       5.156   7.158   5.538  1.00  0.00          CU  \nATOM     68   Cu MOL     1       5.459   8.767   3.594  1.00  0.00          CU  \nATOM     69   Cu MOL     1       3.455   7.108   7.609  1.00  0.00          CU  \nATOM     70   Cu MOL     1       3.524   9.158   9.449  1.00  0.00          CU  \nATOM     71   Cu MOL     1       5.534   7.126   9.182  1.00  0.00          CU  \nATOM     72   Cu MOL     1       5.032   8.964   7.393  1.00  0.00          CU  \nATOM     73   Cu MOL     1       7.353   0.027   0.005  1.00  0.00          CU  \nATOM     74   Cu MOL     1       7.109   1.972   2.117  1.00  0.00          CU  \nATOM     75   Cu MOL     1       9.127   0.092   1.886  1.00  0.00          CU  \nATOM     76   Cu MOL     1       8.968   1.893  -0.275  1.00  0.00          CU  \nATOM     77   Cu MOL     1       7.423  -0.259   3.769  1.00  0.00          CU  \nATOM     78   Cu MOL     1       7.009   1.502   5.684  1.00  0.00          CU  \nATOM     79   Cu MOL     1       9.144   0.074   5.642  1.00  0.00          CU  \nATOM     80   Cu MOL     1       9.166   1.858   3.832  1.00  0.00          CU  \nATOM     81   Cu MOL     1       7.178  -0.451   7.289  1.00  0.00          CU  \nATOM     82   Cu MOL     1       7.155   1.491   8.857  1.00  0.00          CU  \nATOM     83   Cu MOL     1       9.069  -0.295   9.490  1.00  0.00          CU  \nATOM     84   Cu MOL     1       8.999   1.492   7.488  1.00  0.00          CU  \nATOM     85   Cu MOL     1       7.202   3.714   0.073  1.00  0.00          CU  \nATOM     86   Cu MOL     1       7.372   5.380   1.783  1.00  0.00          CU  \nATOM     87   Cu MOL     1       9.225   3.916   2.016  1.00  0.00          CU  \nATOM     88   Cu MOL     1       8.957   5.454  -0.029  1.00  0.00          CU  \nATOM     89   Cu MOL     1       7.326   3.696   3.855  1.00  0.00          CU  \nATOM     90   Cu MOL     1       7.281   5.530   5.563  1.00  0.00          CU  \nATOM     91   Cu MOL     1       9.176   3.535   5.646  1.00  0.00          CU  \nATOM     92   Cu MOL     1       9.101   5.541   3.967  1.00  0.00          CU  \nATOM     93   Cu MOL     1       7.214   3.295   7.175  1.00  0.00          CU  \nATOM     94   Cu MOL     1       6.974   5.274   9.359  1.00  0.00          CU  \nATOM     95   Cu MOL     1       8.922   3.477   9.369  1.00  0.00          CU  \nATOM     96   Cu MOL     1       8.725   5.333   7.491  1.00  0.00          CU  \nATOM     97   Cu MOL     1       7.124   7.575  -0.088  1.00  0.00          CU  \nATOM     98   Cu MOL     1       7.433   9.014   1.766  1.00  0.00          CU  \nATOM     99   Cu MOL     1       9.217   7.415   2.040  1.00  0.00          CU  \nATOM    100   Cu MOL     1       9.276   9.194  -0.107  1.00  0.00          CU  \nATOM    101   Cu MOL     1       7.298   7.190   3.583  1.00  0.00          CU  \nATOM    102   Cu MOL     1       6.945   8.871   5.442  1.00  0.00          CU  \nATOM    103   Cu MOL     1       9.095   7.142   5.616  1.00  0.00          CU  \nATOM    104   Cu MOL     1       8.942   9.037   4.077  1.00  0.00          CU  \nATOM    105   Cu MOL     1       7.169   7.088   7.340  1.00  0.00          CU  \nATOM    106   Cu MOL     1       7.192   8.919   9.133  1.00  0.00          CU  \nATOM    107   Cu MOL     1       9.081   6.955   9.267  1.00  0.00          CU  \nATOM    108   Cu MOL     1       9.226   8.979   7.528  1.00  0.00          CU  \nENDMDL\n",
           "ext": "pdb"
          }
         ],
         "kwargs": {},
         "methodName": "replaceStructure",
         "reconstruc_color_scheme": false,
         "target": "Widget",
         "type": "call_method"
        },
        {
         "args": [
          "this._Q = [[0.9998922829941237, -0.008797493308196512, -0.011748468848821343], [0.008505891230003839, 0.9996601062339684, -0.024643900232596355], [0.01196128016488334, 0.02454131446730302, 0.999627256361607]]"
         ],
         "kwargs": {},
         "methodName": "executeCode",
         "reconstruc_color_scheme": false,
         "target": "Widget",
         "type": "call_method"
        },
        {
         "args": [
          {
           "data": "CRYST1   11.350   11.218   10.645  89.99  89.13  89.29 P 1\nMODEL     1\nATOM      1   Cu MOL     1       0.119   0.013   0.149  1.00  0.00          CU  \nATOM      2   Cu MOL     1       0.156   1.995   1.596  1.00  0.00          CU  \nATOM      3   Cu MOL     1       2.011  -0.161   1.842  1.00  0.00          CU  \nATOM      4   Cu MOL     1       2.125   1.880   0.088  1.00  0.00          CU  \nATOM      5   Cu MOL     1       0.154  -0.038   3.269  1.00  0.00          CU  \nATOM      6   Cu MOL     1       0.147   1.616   5.104  1.00  0.00          CU  \nATOM      7   Cu MOL     1       2.007   0.114   5.141  1.00  0.00          CU  \nATOM      8   Cu MOL     1       1.965   1.799   3.340  1.00  0.00          CU  \nATOM      9   Cu MOL     1       0.024  -0.350   7.105  1.00  0.00          CU  \nATOM     10   Cu MOL     1       0.176   1.756   8.964  1.00  0.00          CU  \nATOM     11   Cu MOL     1       2.108  -0.198   8.896  1.00  0.00          CU  \nATOM     12   Cu MOL     1       1.965   1.702   7.089  1.00  0.00          CU  \nATOM     13   Cu MOL     1      -0.111   3.503  -0.079  1.00  0.00          CU  \nATOM     14   Cu MOL     1       0.091   5.598   1.638  1.00  0.00          CU  \nATOM     15   Cu MOL     1       1.997   4.037   1.764  1.00  0.00          CU  \nATOM     16   Cu MOL     1       2.111   5.536  -0.132  1.00  0.00          CU  \nATOM     17   Cu MOL     1       0.122   3.657   3.535  1.00  0.00          CU  \nATOM     18   Cu MOL     1      -0.122   5.533   5.377  1.00  0.00          CU  \nATOM     19   Cu MOL     1       1.988   3.463   5.224  1.00  0.00          CU  \nATOM     20   Cu MOL     1       1.929   5.759   3.656  1.00  0.00          CU  \nATOM     21   Cu MOL     1       0.085   3.551   6.995  1.00  0.00          CU  \nATOM     22   Cu MOL     1       0.229   5.554   8.901  1.00  0.00          CU  \nATOM     23   Cu MOL     1       2.197   3.596   8.891  1.00  0.00          CU  \nATOM     24   Cu MOL     1       1.888   5.247   6.915  1.00  0.00          CU  \nATOM     25   Cu MOL     1      -0.063   7.320  -0.027  1.00  0.00          CU  \nATOM     26   Cu MOL     1       0.104   9.259   1.614  1.00  0.00          CU  \nATOM     27   Cu MOL     1       1.838   7.356   1.756  1.00  0.00          CU  \nATOM     28   Cu MOL     1       1.728   9.075   0.037  1.00  0.00          CU  \nATOM     29   Cu MOL     1       0.218   7.551   3.365  1.00  0.00          CU  \nATOM     30   Cu MOL     1       0.128   9.366   5.199  1.00  0.00          CU  \nATOM     31   Cu MOL     1       2.070   7.687   5.236  1.00  0.00          CU  \nATOM     32   Cu MOL     1       1.902   9.328   3.375  1.00  0.00          CU  \nATOM     33   Cu MOL     1       0.270   7.497   6.997  1.00  0.00          CU  \nATOM     34   Cu MOL     1       0.223   9.137   8.762  1.00  0.00          CU  \nATOM     35   Cu MOL     1       1.909   7.711   8.755  1.00  0.00          CU  \nATOM     36   Cu MOL     1       2.018   9.315   6.782  1.00  0.00          CU  \nATOM     37   Cu MOL     1       4.052   0.113  -0.062  1.00  0.00          CU  \nATOM     38   Cu MOL     1       3.889   1.923   2.018  1.00  0.00          CU  \nATOM     39   Cu MOL     1       5.679   0.092   1.784  1.00  0.00          CU  \nATOM     40   Cu MOL     1       5.697   2.006  -0.160  1.00  0.00          CU  \nATOM     41   Cu MOL     1       3.943  -0.056   3.464  1.00  0.00          CU  \nATOM     42   Cu MOL     1       3.931   1.720   5.362  1.00  0.00          CU  \nATOM     43   Cu MOL     1       5.668  -0.286   5.359  1.00  0.00          CU  \nATOM     44   Cu MOL     1       5.990   1.710   3.621  1.00  0.00          CU  \nATOM     45   Cu MOL     1       3.674  -0.147   6.855  1.00  0.00          CU  \nATOM     46   Cu MOL     1       3.986   1.691   8.682  1.00  0.00          CU  \nATOM     47   Cu MOL     1       5.800  -0.080   8.762  1.00  0.00          CU  \nATOM     48   Cu MOL     1       5.746   1.585   6.985  1.00  0.00          CU  \nATOM     49   Cu MOL     1       3.955   3.722   0.122  1.00  0.00          CU  \nATOM     50   Cu MOL     1       3.810   5.657   1.733  1.00  0.00          CU  \nATOM     51   Cu MOL     1       5.671   4.143   1.864  1.00  0.00          CU  \nATOM     52   Cu MOL     1       5.519   5.532  -0.219  1.00  0.00          CU  \nATOM     53   Cu MOL     1       3.868   4.120   3.577  1.00  0.00          CU  \nATOM     54   Cu MOL     1       3.744   6.032   5.755  1.00  0.00          CU  \nATOM     55   Cu MOL     1       5.607   3.653   5.322  1.00  0.00          CU  \nATOM     56   Cu MOL     1       5.779   5.664   4.073  1.00  0.00          CU  \nATOM     57   Cu MOL     1       3.968   3.618   6.914  1.00  0.00          CU  \nATOM     58   Cu MOL     1       4.023   5.700   8.373  1.00  0.00          CU  \nATOM     59   Cu MOL     1       6.002   3.702   8.744  1.00  0.00          CU  \nATOM     60   Cu MOL     1       6.052   5.505   6.871  1.00  0.00          CU  \nATOM     61   Cu MOL     1       4.047   7.540   0.014  1.00  0.00          CU  \nATOM     62   Cu MOL     1       4.050   9.383   1.818  1.00  0.00          CU  \nATOM     63   Cu MOL     1       5.769   7.604   1.892  1.00  0.00          CU  \nATOM     64   Cu MOL     1       6.007   9.437   0.375  1.00  0.00          CU  \nATOM     65   Cu MOL     1       3.832   7.523   3.577  1.00  0.00          CU  \nATOM     66   Cu MOL     1       3.849   9.412   5.140  1.00  0.00          CU  \nATOM     67   Cu MOL     1       5.830   7.863   5.428  1.00  0.00          CU  \nATOM     68   Cu MOL     1       5.931   9.504   3.580  1.00  0.00          CU  \nATOM     69   Cu MOL     1       4.133   7.801   7.195  1.00  0.00          CU  \nATOM     70   Cu MOL     1       4.006   9.222   9.092  1.00  0.00          CU  \nATOM     71   Cu MOL     1       5.993   7.532   9.210  1.00  0.00          CU  \nATOM     72   Cu MOL     1       6.063   9.302   7.358  1.00  0.00          CU  \nATOM     73   Cu MOL     1       7.445   0.190   0.347  1.00  0.00          CU  \nATOM     74   Cu MOL     1       7.549   2.132   1.911  1.00  0.00          CU  \nATOM     75   Cu MOL     1       9.635   0.012   1.904  1.00  0.00          CU  \nATOM     76   Cu MOL     1       9.480   1.860  -0.156  1.00  0.00          CU  \nATOM     77   Cu MOL     1       7.490  -0.000   3.703  1.00  0.00          CU  \nATOM     78   Cu MOL     1       7.887   1.913   5.316  1.00  0.00          CU  \nATOM     79   Cu MOL     1       9.526  -0.153   5.373  1.00  0.00          CU  \nATOM     80   Cu MOL     1       9.474   1.964   3.549  1.00  0.00          CU  \nATOM     81   Cu MOL     1       7.688   0.070   7.232  1.00  0.00          CU  \nATOM     82   Cu MOL     1       7.715   1.905   8.930  1.00  0.00          CU  \nATOM     83   Cu MOL     1       9.570   0.085   9.032  1.00  0.00          CU  \nATOM     84   Cu MOL     1       9.697   1.685   6.981  1.00  0.00          CU  \nATOM     85   Cu MOL     1       7.770   4.153  -0.038  1.00  0.00          CU  \nATOM     86   Cu MOL     1       7.648   5.594   1.951  1.00  0.00          CU  \nATOM     87   Cu MOL     1       9.570   3.973   1.701  1.00  0.00          CU  \nATOM     88   Cu MOL     1       9.586   5.641  -0.039  1.00  0.00          CU  \nATOM     89   Cu MOL     1       7.295   3.859   3.615  1.00  0.00          CU  \nATOM     90   Cu MOL     1       8.006   5.599   5.392  1.00  0.00          CU  \nATOM     91   Cu MOL     1       9.430   3.736   5.304  1.00  0.00          CU  \nATOM     92   Cu MOL     1       9.679   5.659   3.542  1.00  0.00          CU  \nATOM     93   Cu MOL     1       7.634   3.642   7.089  1.00  0.00          CU  \nATOM     94   Cu MOL     1       7.623   5.775   8.665  1.00  0.00          CU  \nATOM     95   Cu MOL     1       9.829   3.467   8.732  1.00  0.00          CU  \nATOM     96   Cu MOL     1       9.684   5.414   7.199  1.00  0.00          CU  \nATOM     97   Cu MOL     1       7.559   7.180   0.120  1.00  0.00          CU  \nATOM     98   Cu MOL     1       7.809   9.478   1.884  1.00  0.00          CU  \nATOM     99   Cu MOL     1       9.624   7.563   1.629  1.00  0.00          CU  \nATOM    100   Cu MOL     1       9.507   9.555  -0.110  1.00  0.00          CU  \nATOM    101   Cu MOL     1       7.820   7.653   3.706  1.00  0.00          CU  \nATOM    102   Cu MOL     1       7.731   9.348   5.638  1.00  0.00          CU  \nATOM    103   Cu MOL     1       9.678   7.397   5.415  1.00  0.00          CU  \nATOM    104   Cu MOL     1       9.586   9.391   3.539  1.00  0.00          CU  \nATOM    105   Cu MOL     1       7.721   7.645   7.061  1.00  0.00          CU  \nATOM    106   Cu MOL     1       7.902   9.484   9.009  1.00  0.00          CU  \nATOM    107   Cu MOL     1       9.495   7.358   9.046  1.00  0.00          CU  \nATOM    108   Cu MOL     1       9.667   9.318   7.223  1.00  0.00          CU  \nENDMDL\n",
           "ext": "pdb"
          }
         ],
         "kwargs": {},
         "methodName": "replaceStructure",
         "reconstruc_color_scheme": false,
         "target": "Widget",
         "type": "call_method"
        },
        {
         "args": [
          "this._Q = [[0.9998085861529209, 0.012381935791443808, 0.015148555078094936], [-0.012382101822271941, 0.9999233354077467, -8.283422751339758e-05], [-0.015148419368383056, -0.00010475257954202677, 0.9998852506250588]]"
         ],
         "kwargs": {},
         "methodName": "executeCode",
         "reconstruc_color_scheme": false,
         "target": "Widget",
         "type": "call_method"
        },
        {
         "args": [
          {
           "data": "CRYST1   11.260   10.810   11.120  89.95  88.58  89.31 P 1\nMODEL     1\nATOM      1   Cu MOL     1      -0.080  -0.047  -0.033  1.00  0.00          CU  \nATOM      2   Cu MOL     1       0.148   1.852   1.546  1.00  0.00          CU  \nATOM      3   Cu MOL     1       1.744   0.083   1.767  1.00  0.00          CU  \nATOM      4   Cu MOL     1       1.998   1.871  -0.170  1.00  0.00          CU  \nATOM      5   Cu MOL     1       0.211  -0.010   3.785  1.00  0.00          CU  \nATOM      6   Cu MOL     1       0.196   1.982   5.487  1.00  0.00          CU  \nATOM      7   Cu MOL     1       2.251  -0.187   5.620  1.00  0.00          CU  \nATOM      8   Cu MOL     1       2.170   1.645   3.834  1.00  0.00          CU  \nATOM      9   Cu MOL     1       0.198   0.345   7.449  1.00  0.00          CU  \nATOM     10   Cu MOL     1       0.482   1.784   9.406  1.00  0.00          CU  \nATOM     11   Cu MOL     1       2.097  -0.153   9.379  1.00  0.00          CU  \nATOM     12   Cu MOL     1       2.159   1.799   7.501  1.00  0.00          CU  \nATOM     13   Cu MOL     1       0.095   3.600  -0.180  1.00  0.00          CU  \nATOM     14   Cu MOL     1       0.104   5.446   1.932  1.00  0.00          CU  \nATOM     15   Cu MOL     1       1.857   3.616   1.983  1.00  0.00          CU  \nATOM     16   Cu MOL     1       1.996   5.263   0.044  1.00  0.00          CU  \nATOM     17   Cu MOL     1       0.086   3.901   3.638  1.00  0.00          CU  \nATOM     18   Cu MOL     1       0.063   5.503   5.592  1.00  0.00          CU  \nATOM     19   Cu MOL     1       1.978   3.369   5.437  1.00  0.00          CU  \nATOM     20   Cu MOL     1       2.048   5.251   3.903  1.00  0.00          CU  \nATOM     21   Cu MOL     1       0.072   3.494   7.509  1.00  0.00          CU  \nATOM     22   Cu MOL     1       0.596   5.578   9.122  1.00  0.00          CU  \nATOM     23   Cu MOL     1       2.227   3.645   8.999  1.00  0.00          CU  \nATOM     24   Cu MOL     1       2.007   5.422   7.238  1.00  0.00          CU  \nATOM     25   Cu MOL     1       0.047   7.129  -0.240  1.00  0.00          CU  \nATOM     26   Cu MOL     1       0.023   8.958   1.562  1.00  0.00          CU  \nATOM     27   Cu MOL     1       2.205   7.234   1.737  1.00  0.00          CU  \nATOM     28   Cu MOL     1       1.960   8.995   0.103  1.00  0.00          CU  \nATOM     29   Cu MOL     1       0.063   7.245   3.920  1.00  0.00          CU  \nATOM     30   Cu MOL     1       0.044   9.166   5.474  1.00  0.00          CU  \nATOM     31   Cu MOL     1       1.973   7.232   5.545  1.00  0.00          CU  \nATOM     32   Cu MOL     1       2.133   9.037   3.703  1.00  0.00          CU  \nATOM     33   Cu MOL     1       0.109   7.249   7.420  1.00  0.00          CU  \nATOM     34   Cu MOL     1       0.191   8.988   9.354  1.00  0.00          CU  \nATOM     35   Cu MOL     1       2.340   7.426   9.194  1.00  0.00          CU  \nATOM     36   Cu MOL     1       1.669   9.041   7.516  1.00  0.00          CU  \nATOM     37   Cu MOL     1       3.719   0.171   0.200  1.00  0.00          CU  \nATOM     38   Cu MOL     1       3.655   1.684   1.969  1.00  0.00          CU  \nATOM     39   Cu MOL     1       5.686  -0.129   1.668  1.00  0.00          CU  \nATOM     40   Cu MOL     1       5.702   1.979   0.102  1.00  0.00          CU  \nATOM     41   Cu MOL     1       3.757  -0.132   3.635  1.00  0.00          CU  \nATOM     42   Cu MOL     1       4.029   1.793   5.681  1.00  0.00          CU  \nATOM     43   Cu MOL     1       5.720   0.028   5.633  1.00  0.00          CU  \nATOM     44   Cu MOL     1       5.614   1.545   3.585  1.00  0.00          CU  \nATOM     45   Cu MOL     1       3.864  -0.088   7.366  1.00  0.00          CU  \nATOM     46   Cu MOL     1       4.021   1.724   9.429  1.00  0.00          CU  \nATOM     47   Cu MOL     1       5.626  -0.058   9.424  1.00  0.00          CU  \nATOM     48   Cu MOL     1       5.884   1.768   7.428  1.00  0.00          CU  \nATOM     49   Cu MOL     1       3.751   3.449   0.009  1.00  0.00          CU  \nATOM     50   Cu MOL     1       3.996   5.585   2.058  1.00  0.00          CU  \nATOM     51   Cu MOL     1       5.959   3.553   2.014  1.00  0.00          CU  \nATOM     52   Cu MOL     1       5.760   5.169   0.110  1.00  0.00          CU  \nATOM     53   Cu MOL     1       3.911   3.637   3.946  1.00  0.00          CU  \nATOM     54   Cu MOL     1       4.046   5.545   5.597  1.00  0.00          CU  \nATOM     55   Cu MOL     1       5.699   3.561   5.559  1.00  0.00          CU  \nATOM     56   Cu MOL     1       5.833   5.454   3.833  1.00  0.00          CU  \nATOM     57   Cu MOL     1       3.888   3.694   7.232  1.00  0.00          CU  \nATOM     58   Cu MOL     1       3.982   5.572   9.086  1.00  0.00          CU  \nATOM     59   Cu MOL     1       5.905   3.696   9.243  1.00  0.00          CU  \nATOM     60   Cu MOL     1       5.593   5.300   7.234  1.00  0.00          CU  \nATOM     61   Cu MOL     1       3.866   7.175   0.008  1.00  0.00          CU  \nATOM     62   Cu MOL     1       3.797   9.032   1.855  1.00  0.00          CU  \nATOM     63   Cu MOL     1       5.954   7.132   1.741  1.00  0.00          CU  \nATOM     64   Cu MOL     1       6.003   8.752   0.004  1.00  0.00          CU  \nATOM     65   Cu MOL     1       3.875   7.347   3.544  1.00  0.00          CU  \nATOM     66   Cu MOL     1       4.024   9.030   5.483  1.00  0.00          CU  \nATOM     67   Cu MOL     1       5.846   7.396   5.264  1.00  0.00          CU  \nATOM     68   Cu MOL     1       5.683   8.993   3.689  1.00  0.00          CU  \nATOM     69   Cu MOL     1       3.976   7.286   7.286  1.00  0.00          CU  \nATOM     70   Cu MOL     1       4.259   8.904   9.320  1.00  0.00          CU  \nATOM     71   Cu MOL     1       5.977   7.092   9.186  1.00  0.00          CU  \nATOM     72   Cu MOL     1       5.994   9.181   7.211  1.00  0.00          CU  \nATOM     73   Cu MOL     1       7.329  -0.049   0.059  1.00  0.00          CU  \nATOM     74   Cu MOL     1       7.470   1.731   1.806  1.00  0.00          CU  \nATOM     75   Cu MOL     1       9.453  -0.131   1.756  1.00  0.00          CU  \nATOM     76   Cu MOL     1       9.392   1.688   0.151  1.00  0.00          CU  \nATOM     77   Cu MOL     1       7.461  -0.233   3.876  1.00  0.00          CU  \nATOM     78   Cu MOL     1       7.665   1.912   5.407  1.00  0.00          CU  \nATOM     79   Cu MOL     1       9.547   0.453   5.757  1.00  0.00          CU  \nATOM     80   Cu MOL     1       9.393   1.563   3.532  1.00  0.00          CU  \nATOM     81   Cu MOL     1       7.624   0.044   7.239  1.00  0.00          CU  \nATOM     82   Cu MOL     1       7.666   1.785   9.501  1.00  0.00          CU  \nATOM     83   Cu MOL     1       9.591   0.095   9.341  1.00  0.00          CU  \nATOM     84   Cu MOL     1       9.545   1.912   7.539  1.00  0.00          CU  \nATOM     85   Cu MOL     1       7.750   3.612   0.072  1.00  0.00          CU  \nATOM     86   Cu MOL     1       7.802   5.424   1.819  1.00  0.00          CU  \nATOM     87   Cu MOL     1       9.586   3.731   1.784  1.00  0.00          CU  \nATOM     88   Cu MOL     1       9.581   5.364   0.165  1.00  0.00          CU  \nATOM     89   Cu MOL     1       7.678   3.673   3.856  1.00  0.00          CU  \nATOM     90   Cu MOL     1       7.670   5.443   5.793  1.00  0.00          CU  \nATOM     91   Cu MOL     1       9.529   3.727   5.582  1.00  0.00          CU  \nATOM     92   Cu MOL     1       9.471   5.389   3.754  1.00  0.00          CU  \nATOM     93   Cu MOL     1       7.916   3.354   7.601  1.00  0.00          CU  \nATOM     94   Cu MOL     1       7.763   5.268   9.160  1.00  0.00          CU  \nATOM     95   Cu MOL     1       9.923   3.761   9.238  1.00  0.00          CU  \nATOM     96   Cu MOL     1       9.624   5.317   7.349  1.00  0.00          CU  \nATOM     97   Cu MOL     1       7.839   6.892  -0.167  1.00  0.00          CU  \nATOM     98   Cu MOL     1       7.732   9.098   1.866  1.00  0.00          CU  \nATOM     99   Cu MOL     1       9.437   7.293   2.005  1.00  0.00          CU  \nATOM    100   Cu MOL     1       9.447   8.736  -0.046  1.00  0.00          CU  \nATOM    101   Cu MOL     1       7.740   7.332   3.787  1.00  0.00          CU  \nATOM    102   Cu MOL     1       7.898   9.036   5.612  1.00  0.00          CU  \nATOM    103   Cu MOL     1       9.546   7.326   5.499  1.00  0.00          CU  \nATOM    104   Cu MOL     1       9.708   9.108   3.604  1.00  0.00          CU  \nATOM    105   Cu MOL     1       7.751   7.255   7.338  1.00  0.00          CU  \nATOM    106   Cu MOL     1       7.679   9.036   9.340  1.00  0.00          CU  \nATOM    107   Cu MOL     1       9.783   6.955   9.132  1.00  0.00          CU  \nATOM    108   Cu MOL     1       9.725   9.250   7.428  1.00  0.00          CU  \nENDMDL\n",
           "ext": "pdb"
          }
         ],
         "kwargs": {},
         "methodName": "replaceStructure",
         "reconstruc_color_scheme": false,
         "target": "Widget",
         "type": "call_method"
        },
        {
         "args": [
          "this._Q = [[0.9996184685791185, 0.012046385843266205, 0.02485562036347564], [-0.012065101956451144, 0.9999270320946949, 0.0006031592458629846], [-0.024846540811922058, -0.0009028147155350694, 0.9996908693867674]]"
         ],
         "kwargs": {},
         "methodName": "executeCode",
         "reconstruc_color_scheme": false,
         "target": "Widget",
         "type": "call_method"
        },
        {
         "args": [
          {
           "data": "CRYST1   10.872   11.322   10.725  90.41  89.40  90.57 P 1\nMODEL     1\nATOM      1   Cu MOL     1      -0.139   0.171  -0.069  1.00  0.00          CU  \nATOM      2   Cu MOL     1      -0.003   2.081   1.836  1.00  0.00          CU  \nATOM      3   Cu MOL     1       2.031  -0.134   1.851  1.00  0.00          CU  \nATOM      4   Cu MOL     1       1.689   1.948   0.031  1.00  0.00          CU  \nATOM      5   Cu MOL     1       0.330   0.189   3.663  1.00  0.00          CU  \nATOM      6   Cu MOL     1       0.011   1.717   5.603  1.00  0.00          CU  \nATOM      7   Cu MOL     1       1.980  -0.160   5.252  1.00  0.00          CU  \nATOM      8   Cu MOL     1       1.767   2.154   3.779  1.00  0.00          CU  \nATOM      9   Cu MOL     1       0.167  -0.131   7.192  1.00  0.00          CU  \nATOM     10   Cu MOL     1       0.126   1.994   8.821  1.00  0.00          CU  \nATOM     11   Cu MOL     1       2.150   0.029   9.002  1.00  0.00          CU  \nATOM     12   Cu MOL     1       1.975   1.947   7.250  1.00  0.00          CU  \nATOM     13   Cu MOL     1       0.139   3.683  -0.110  1.00  0.00          CU  \nATOM     14   Cu MOL     1      -0.242   5.451   1.756  1.00  0.00          CU  \nATOM     15   Cu MOL     1       1.729   3.976   1.618  1.00  0.00          CU  \nATOM     16   Cu MOL     1       1.573   5.576  -0.260  1.00  0.00          CU  \nATOM     17   Cu MOL     1       0.001   3.728   3.535  1.00  0.00          CU  \nATOM     18   Cu MOL     1       0.005   5.877   5.467  1.00  0.00          CU  \nATOM     19   Cu MOL     1       1.779   3.668   5.534  1.00  0.00          CU  \nATOM     20   Cu MOL     1       1.655   5.493   3.541  1.00  0.00          CU  \nATOM     21   Cu MOL     1      -0.166   3.796   6.965  1.00  0.00          CU  \nATOM     22   Cu MOL     1      -0.100   5.528   8.954  1.00  0.00          CU  \nATOM     23   Cu MOL     1       1.885   3.734   8.687  1.00  0.00          CU  \nATOM     24   Cu MOL     1       1.823   5.701   7.003  1.00  0.00          CU  \nATOM     25   Cu MOL     1      -0.084   7.233  -0.057  1.00  0.00          CU  \nATOM     26   Cu MOL     1       0.008   9.675   1.890  1.00  0.00          CU  \nATOM     27   Cu MOL     1       1.740   7.645   1.619  1.00  0.00          CU  \nATOM     28   Cu MOL     1       1.388   9.642   0.106  1.00  0.00          CU  \nATOM     29   Cu MOL     1      -0.205   7.695   3.459  1.00  0.00          CU  \nATOM     30   Cu MOL     1      -0.034   9.238   5.468  1.00  0.00          CU  \nATOM     31   Cu MOL     1       1.624   7.490   5.190  1.00  0.00          CU  \nATOM     32   Cu MOL     1       1.705   9.295   3.458  1.00  0.00          CU  \nATOM     33   Cu MOL     1      -0.021   7.444   7.346  1.00  0.00          CU  \nATOM     34   Cu MOL     1      -0.020   9.356   8.921  1.00  0.00          CU  \nATOM     35   Cu MOL     1       2.144   7.507   8.984  1.00  0.00          CU  \nATOM     36   Cu MOL     1       1.806   9.466   7.040  1.00  0.00          CU  \nATOM     37   Cu MOL     1       3.414   0.348   0.085  1.00  0.00          CU  \nATOM     38   Cu MOL     1       3.377   1.950   1.967  1.00  0.00          CU  \nATOM     39   Cu MOL     1       5.135  -0.015   1.696  1.00  0.00          CU  \nATOM     40   Cu MOL     1       5.349   1.871   0.137  1.00  0.00          CU  \nATOM     41   Cu MOL     1       3.662  -0.221   3.570  1.00  0.00          CU  \nATOM     42   Cu MOL     1       3.584   1.732   5.307  1.00  0.00          CU  \nATOM     43   Cu MOL     1       5.526   0.014   5.364  1.00  0.00          CU  \nATOM     44   Cu MOL     1       5.379   1.610   3.445  1.00  0.00          CU  \nATOM     45   Cu MOL     1       3.829  -0.083   7.128  1.00  0.00          CU  \nATOM     46   Cu MOL     1       3.828   1.892   8.965  1.00  0.00          CU  \nATOM     47   Cu MOL     1       5.428  -0.036   9.143  1.00  0.00          CU  \nATOM     48   Cu MOL     1       5.405   1.711   7.141  1.00  0.00          CU  \nATOM     49   Cu MOL     1       3.494   3.790  -0.126  1.00  0.00          CU  \nATOM     50   Cu MOL     1       3.430   5.572   1.625  1.00  0.00          CU  \nATOM     51   Cu MOL     1       5.473   3.785   1.867  1.00  0.00          CU  \nATOM     52   Cu MOL     1       5.298   5.609  -0.159  1.00  0.00          CU  \nATOM     53   Cu MOL     1       3.534   3.654   3.494  1.00  0.00          CU  \nATOM     54   Cu MOL     1       3.784   5.362   5.416  1.00  0.00          CU  \nATOM     55   Cu MOL     1       5.346   3.458   5.063  1.00  0.00          CU  \nATOM     56   Cu MOL     1       5.440   5.702   3.550  1.00  0.00          CU  \nATOM     57   Cu MOL     1       3.762   3.748   7.145  1.00  0.00          CU  \nATOM     58   Cu MOL     1       3.506   5.618   8.995  1.00  0.00          CU  \nATOM     59   Cu MOL     1       5.467   3.712   8.906  1.00  0.00          CU  \nATOM     60   Cu MOL     1       5.571   5.828   7.306  1.00  0.00          CU  \nATOM     61   Cu MOL     1       3.523   7.552  -0.093  1.00  0.00          CU  \nATOM     62   Cu MOL     1       3.462   9.337   1.576  1.00  0.00          CU  \nATOM     63   Cu MOL     1       5.424   7.410   1.791  1.00  0.00          CU  \nATOM     64   Cu MOL     1       5.287   9.238   0.067  1.00  0.00          CU  \nATOM     65   Cu MOL     1       3.547   7.378   3.451  1.00  0.00          CU  \nATOM     66   Cu MOL     1       3.682   9.467   5.339  1.00  0.00          CU  \nATOM     67   Cu MOL     1       5.246   7.624   5.208  1.00  0.00          CU  \nATOM     68   Cu MOL     1       5.176   9.522   3.315  1.00  0.00          CU  \nATOM     69   Cu MOL     1       3.730   7.352   7.086  1.00  0.00          CU  \nATOM     70   Cu MOL     1       3.673   9.324   8.977  1.00  0.00          CU  \nATOM     71   Cu MOL     1       5.785   7.629   8.845  1.00  0.00          CU  \nATOM     72   Cu MOL     1       5.495   9.239   7.080  1.00  0.00          CU  \nATOM     73   Cu MOL     1       7.202  -0.194   0.124  1.00  0.00          CU  \nATOM     74   Cu MOL     1       7.162   1.779   1.883  1.00  0.00          CU  \nATOM     75   Cu MOL     1       9.120   0.123   1.798  1.00  0.00          CU  \nATOM     76   Cu MOL     1       8.817   2.009  -0.081  1.00  0.00          CU  \nATOM     77   Cu MOL     1       7.404  -0.038   3.708  1.00  0.00          CU  \nATOM     78   Cu MOL     1       7.226   1.905   5.390  1.00  0.00          CU  \nATOM     79   Cu MOL     1       9.018   0.085   5.514  1.00  0.00          CU  \nATOM     80   Cu MOL     1       9.283   1.832   3.727  1.00  0.00          CU  \nATOM     81   Cu MOL     1       7.257   0.084   7.200  1.00  0.00          CU  \nATOM     82   Cu MOL     1       7.206   1.556   9.067  1.00  0.00          CU  \nATOM     83   Cu MOL     1       9.060  -0.055   8.999  1.00  0.00          CU  \nATOM     84   Cu MOL     1       9.047   1.909   7.223  1.00  0.00          CU  \nATOM     85   Cu MOL     1       7.098   3.616   0.071  1.00  0.00          CU  \nATOM     86   Cu MOL     1       7.371   5.717   1.803  1.00  0.00          CU  \nATOM     87   Cu MOL     1       9.036   3.656   1.684  1.00  0.00          CU  \nATOM     88   Cu MOL     1       8.968   5.715   0.020  1.00  0.00          CU  \nATOM     89   Cu MOL     1       7.352   3.677   3.542  1.00  0.00          CU  \nATOM     90   Cu MOL     1       7.302   5.559   5.367  1.00  0.00          CU  \nATOM     91   Cu MOL     1       9.103   3.528   5.310  1.00  0.00          CU  \nATOM     92   Cu MOL     1       9.125   5.548   3.826  1.00  0.00          CU  \nATOM     93   Cu MOL     1       7.372   3.701   7.193  1.00  0.00          CU  \nATOM     94   Cu MOL     1       7.572   5.593   8.912  1.00  0.00          CU  \nATOM     95   Cu MOL     1       9.200   3.760   9.052  1.00  0.00          CU  \nATOM     96   Cu MOL     1       9.116   5.537   6.872  1.00  0.00          CU  \nATOM     97   Cu MOL     1       7.170   7.633   0.102  1.00  0.00          CU  \nATOM     98   Cu MOL     1       7.306   9.509   2.086  1.00  0.00          CU  \nATOM     99   Cu MOL     1       8.966   7.680   1.728  1.00  0.00          CU  \nATOM    100   Cu MOL     1       9.206   9.420  -0.126  1.00  0.00          CU  \nATOM    101   Cu MOL     1       7.257   7.580   3.640  1.00  0.00          CU  \nATOM    102   Cu MOL     1       7.347   9.414   5.413  1.00  0.00          CU  \nATOM    103   Cu MOL     1       9.012   7.562   5.219  1.00  0.00          CU  \nATOM    104   Cu MOL     1       9.091   9.585   3.538  1.00  0.00          CU  \nATOM    105   Cu MOL     1       7.431   7.467   7.234  1.00  0.00          CU  \nATOM    106   Cu MOL     1       7.496   9.411   9.242  1.00  0.00          CU  \nATOM    107   Cu MOL     1       9.167   7.494   9.076  1.00  0.00          CU  \nATOM    108   Cu MOL     1       9.101   9.296   7.248  1.00  0.00          CU  \nENDMDL\n",
           "ext": "pdb"
          }
         ],
         "kwargs": {},
         "methodName": "replaceStructure",
         "reconstruc_color_scheme": false,
         "target": "Widget",
         "type": "call_method"
        },
        {
         "args": [
          "this._Q = [[0.9998972152819277, -0.009821256264902236, 0.010445180554949682], [0.009895583353195545, 0.9999259146430978, -0.00708820536268458], [-0.010374791638695187, 0.007190837958315419, 0.9999203245998708]]"
         ],
         "kwargs": {},
         "methodName": "executeCode",
         "reconstruc_color_scheme": false,
         "target": "Widget",
         "type": "call_method"
        },
        {
         "args": [
          {
           "data": "CRYST1   11.036   10.736   11.183  91.32  91.01  90.90 P 1\nMODEL     1\nATOM      1   Cu MOL     1      -0.069   0.149  -0.065  1.00  0.00          CU  \nATOM      2   Cu MOL     1      -0.314   1.676   2.000  1.00  0.00          CU  \nATOM      3   Cu MOL     1       1.694  -0.155   1.713  1.00  0.00          CU  \nATOM      4   Cu MOL     1       1.679   2.025  -0.024  1.00  0.00          CU  \nATOM      5   Cu MOL     1      -0.118  -0.093   3.756  1.00  0.00          CU  \nATOM      6   Cu MOL     1      -0.034   1.731   5.545  1.00  0.00          CU  \nATOM      7   Cu MOL     1       1.743   0.034   5.683  1.00  0.00          CU  \nATOM      8   Cu MOL     1       1.709   1.530   3.836  1.00  0.00          CU  \nATOM      9   Cu MOL     1      -0.020  -0.135   7.643  1.00  0.00          CU  \nATOM     10   Cu MOL     1      -0.204   1.664   9.308  1.00  0.00          CU  \nATOM     11   Cu MOL     1       1.853  -0.129   9.243  1.00  0.00          CU  \nATOM     12   Cu MOL     1       1.718   1.989   7.341  1.00  0.00          CU  \nATOM     13   Cu MOL     1      -0.126   3.567   0.158  1.00  0.00          CU  \nATOM     14   Cu MOL     1      -0.092   5.250   1.887  1.00  0.00          CU  \nATOM     15   Cu MOL     1       1.603   3.513   2.068  1.00  0.00          CU  \nATOM     16   Cu MOL     1       1.566   5.149   0.080  1.00  0.00          CU  \nATOM     17   Cu MOL     1      -0.228   3.583   3.767  1.00  0.00          CU  \nATOM     18   Cu MOL     1      -0.298   5.355   5.610  1.00  0.00          CU  \nATOM     19   Cu MOL     1       1.746   3.744   5.479  1.00  0.00          CU  \nATOM     20   Cu MOL     1       1.710   5.439   3.712  1.00  0.00          CU  \nATOM     21   Cu MOL     1      -0.119   3.468   7.197  1.00  0.00          CU  \nATOM     22   Cu MOL     1      -0.302   5.211   9.222  1.00  0.00          CU  \nATOM     23   Cu MOL     1       1.673   3.504   9.074  1.00  0.00          CU  \nATOM     24   Cu MOL     1       1.618   5.265   7.378  1.00  0.00          CU  \nATOM     25   Cu MOL     1      -0.312   6.998   0.057  1.00  0.00          CU  \nATOM     26   Cu MOL     1      -0.346   8.955   1.792  1.00  0.00          CU  \nATOM     27   Cu MOL     1       1.355   7.326   1.700  1.00  0.00          CU  \nATOM     28   Cu MOL     1       1.590   8.921  -0.147  1.00  0.00          CU  \nATOM     29   Cu MOL     1      -0.162   7.047   3.748  1.00  0.00          CU  \nATOM     30   Cu MOL     1      -0.265   8.828   5.518  1.00  0.00          CU  \nATOM     31   Cu MOL     1       1.534   7.060   5.676  1.00  0.00          CU  \nATOM     32   Cu MOL     1       1.486   8.882   3.794  1.00  0.00          CU  \nATOM     33   Cu MOL     1      -0.305   7.065   7.434  1.00  0.00          CU  \nATOM     34   Cu MOL     1      -0.321   8.550   9.430  1.00  0.00          CU  \nATOM     35   Cu MOL     1       1.504   6.822   9.485  1.00  0.00          CU  \nATOM     36   Cu MOL     1       1.630   8.778   7.648  1.00  0.00          CU  \nATOM     37   Cu MOL     1       3.847  -0.342   0.113  1.00  0.00          CU  \nATOM     38   Cu MOL     1       3.422   1.580   1.838  1.00  0.00          CU  \nATOM     39   Cu MOL     1       5.549   0.016   1.825  1.00  0.00          CU  \nATOM     40   Cu MOL     1       5.404   1.718   0.007  1.00  0.00          CU  \nATOM     41   Cu MOL     1       3.915  -0.184   3.680  1.00  0.00          CU  \nATOM     42   Cu MOL     1       3.745   1.659   5.543  1.00  0.00          CU  \nATOM     43   Cu MOL     1       5.476  -0.152   5.502  1.00  0.00          CU  \nATOM     44   Cu MOL     1       5.189   1.672   3.613  1.00  0.00          CU  \nATOM     45   Cu MOL     1       3.426   0.080   7.253  1.00  0.00          CU  \nATOM     46   Cu MOL     1       3.703   1.472   9.346  1.00  0.00          CU  \nATOM     47   Cu MOL     1       5.226  -0.451   9.682  1.00  0.00          CU  \nATOM     48   Cu MOL     1       5.711   1.672   7.100  1.00  0.00          CU  \nATOM     49   Cu MOL     1       3.695   3.501   0.002  1.00  0.00          CU  \nATOM     50   Cu MOL     1       3.346   5.243   1.958  1.00  0.00          CU  \nATOM     51   Cu MOL     1       5.283   3.595   1.765  1.00  0.00          CU  \nATOM     52   Cu MOL     1       5.425   5.462  -0.221  1.00  0.00          CU  \nATOM     53   Cu MOL     1       3.451   3.459   3.700  1.00  0.00          CU  \nATOM     54   Cu MOL     1       3.575   5.331   5.363  1.00  0.00          CU  \nATOM     55   Cu MOL     1       5.331   3.539   5.400  1.00  0.00          CU  \nATOM     56   Cu MOL     1       5.485   5.380   3.607  1.00  0.00          CU  \nATOM     57   Cu MOL     1       3.663   3.385   7.491  1.00  0.00          CU  \nATOM     58   Cu MOL     1       3.669   5.192   9.103  1.00  0.00          CU  \nATOM     59   Cu MOL     1       5.444   3.216   9.244  1.00  0.00          CU  \nATOM     60   Cu MOL     1       5.214   5.179   7.249  1.00  0.00          CU  \nATOM     61   Cu MOL     1       3.555   6.951   0.268  1.00  0.00          CU  \nATOM     62   Cu MOL     1       3.722   8.702   1.964  1.00  0.00          CU  \nATOM     63   Cu MOL     1       5.522   6.976   1.990  1.00  0.00          CU  \nATOM     64   Cu MOL     1       5.382   8.770   0.168  1.00  0.00          CU  \nATOM     65   Cu MOL     1       3.346   7.207   3.826  1.00  0.00          CU  \nATOM     66   Cu MOL     1       3.630   8.896   5.549  1.00  0.00          CU  \nATOM     67   Cu MOL     1       5.314   7.143   5.697  1.00  0.00          CU  \nATOM     68   Cu MOL     1       5.446   8.880   3.875  1.00  0.00          CU  \nATOM     69   Cu MOL     1       3.377   6.891   7.438  1.00  0.00          CU  \nATOM     70   Cu MOL     1       3.555   8.331   9.307  1.00  0.00          CU  \nATOM     71   Cu MOL     1       5.529   6.990   8.868  1.00  0.00          CU  \nATOM     72   Cu MOL     1       5.015   8.957   7.581  1.00  0.00          CU  \nATOM     73   Cu MOL     1       7.318  -0.056   0.166  1.00  0.00          CU  \nATOM     74   Cu MOL     1       7.498   1.896   1.808  1.00  0.00          CU  \nATOM     75   Cu MOL     1       8.992  -0.305   1.812  1.00  0.00          CU  \nATOM     76   Cu MOL     1       9.187   1.565  -0.030  1.00  0.00          CU  \nATOM     77   Cu MOL     1       7.198   0.034   3.805  1.00  0.00          CU  \nATOM     78   Cu MOL     1       7.337   1.857   5.407  1.00  0.00          CU  \nATOM     79   Cu MOL     1       9.151  -0.235   5.661  1.00  0.00          CU  \nATOM     80   Cu MOL     1       9.228   1.789   3.701  1.00  0.00          CU  \nATOM     81   Cu MOL     1       7.340  -0.260   7.483  1.00  0.00          CU  \nATOM     82   Cu MOL     1       7.363   1.365   9.426  1.00  0.00          CU  \nATOM     83   Cu MOL     1       9.161  -0.301   9.174  1.00  0.00          CU  \nATOM     84   Cu MOL     1       8.975   1.661   7.558  1.00  0.00          CU  \nATOM     85   Cu MOL     1       7.250   3.697   0.004  1.00  0.00          CU  \nATOM     86   Cu MOL     1       7.238   5.394   2.007  1.00  0.00          CU  \nATOM     87   Cu MOL     1       9.217   3.644   1.916  1.00  0.00          CU  \nATOM     88   Cu MOL     1       8.859   5.220   0.064  1.00  0.00          CU  \nATOM     89   Cu MOL     1       7.064   3.527   3.494  1.00  0.00          CU  \nATOM     90   Cu MOL     1       7.298   5.346   5.689  1.00  0.00          CU  \nATOM     91   Cu MOL     1       8.953   3.518   5.489  1.00  0.00          CU  \nATOM     92   Cu MOL     1       8.896   5.248   3.774  1.00  0.00          CU  \nATOM     93   Cu MOL     1       7.230   3.579   7.580  1.00  0.00          CU  \nATOM     94   Cu MOL     1       7.125   5.251   9.314  1.00  0.00          CU  \nATOM     95   Cu MOL     1       9.060   3.302   9.286  1.00  0.00          CU  \nATOM     96   Cu MOL     1       9.037   5.379   7.318  1.00  0.00          CU  \nATOM     97   Cu MOL     1       7.178   7.165   0.045  1.00  0.00          CU  \nATOM     98   Cu MOL     1       6.995   8.675   1.980  1.00  0.00          CU  \nATOM     99   Cu MOL     1       9.013   6.921   2.026  1.00  0.00          CU  \nATOM    100   Cu MOL     1       9.181   8.689   0.211  1.00  0.00          CU  \nATOM    101   Cu MOL     1       7.274   6.920   3.941  1.00  0.00          CU  \nATOM    102   Cu MOL     1       7.108   8.832   5.565  1.00  0.00          CU  \nATOM    103   Cu MOL     1       8.904   7.108   5.647  1.00  0.00          CU  \nATOM    104   Cu MOL     1       8.781   8.779   3.699  1.00  0.00          CU  \nATOM    105   Cu MOL     1       7.165   7.301   7.416  1.00  0.00          CU  \nATOM    106   Cu MOL     1       7.324   8.756   9.388  1.00  0.00          CU  \nATOM    107   Cu MOL     1       8.815   6.880   9.336  1.00  0.00          CU  \nATOM    108   Cu MOL     1       9.104   8.759   7.421  1.00  0.00          CU  \nENDMDL\n",
           "ext": "pdb"
          }
         ],
         "kwargs": {},
         "methodName": "replaceStructure",
         "reconstruc_color_scheme": false,
         "target": "Widget",
         "type": "call_method"
        },
        {
         "args": [
          "this._Q = [[0.9997151531016564, -0.016183381963638603, -0.01754168769390953], [0.01577375022934455, 0.9996053754460622, -0.023243970896545292], [0.017910931372598495, 0.022960651723245327, 0.9995759135802592]]"
         ],
         "kwargs": {},
         "methodName": "executeCode",
         "reconstruc_color_scheme": false,
         "target": "Widget",
         "type": "call_method"
        },
        {
         "args": [
          {
           "data": "CRYST1   11.043   11.003   10.842  90.60  91.42  90.64 P 1\nMODEL     1\nATOM      1   Cu MOL     1      -0.026   0.015   0.099  1.00  0.00          CU  \nATOM      2   Cu MOL     1      -0.166   1.813   1.706  1.00  0.00          CU  \nATOM      3   Cu MOL     1       1.913  -0.135   1.859  1.00  0.00          CU  \nATOM      4   Cu MOL     1       1.717   1.938   0.176  1.00  0.00          CU  \nATOM      5   Cu MOL     1       0.094   0.010   3.417  1.00  0.00          CU  \nATOM      6   Cu MOL     1       0.106   1.624   5.454  1.00  0.00          CU  \nATOM      7   Cu MOL     1       1.827   0.075   5.413  1.00  0.00          CU  \nATOM      8   Cu MOL     1       1.672   1.770   3.477  1.00  0.00          CU  \nATOM      9   Cu MOL     1      -0.297   0.123   7.282  1.00  0.00          CU  \nATOM     10   Cu MOL     1      -0.125   1.743   9.164  1.00  0.00          CU  \nATOM     11   Cu MOL     1       1.610  -0.085   9.046  1.00  0.00          CU  \nATOM     12   Cu MOL     1       1.720   1.669   7.397  1.00  0.00          CU  \nATOM     13   Cu MOL     1       0.060   3.695   0.019  1.00  0.00          CU  \nATOM     14   Cu MOL     1      -0.017   5.472   1.765  1.00  0.00          CU  \nATOM     15   Cu MOL     1       1.705   3.800   1.824  1.00  0.00          CU  \nATOM     16   Cu MOL     1       1.783   5.686   0.037  1.00  0.00          CU  \nATOM     17   Cu MOL     1      -0.272   3.572   3.581  1.00  0.00          CU  \nATOM     18   Cu MOL     1      -0.237   5.428   5.402  1.00  0.00          CU  \nATOM     19   Cu MOL     1       1.673   3.650   5.494  1.00  0.00          CU  \nATOM     20   Cu MOL     1       1.646   5.309   3.974  1.00  0.00          CU  \nATOM     21   Cu MOL     1      -0.127   3.593   7.297  1.00  0.00          CU  \nATOM     22   Cu MOL     1      -0.265   5.327   8.915  1.00  0.00          CU  \nATOM     23   Cu MOL     1       1.567   3.529   8.893  1.00  0.00          CU  \nATOM     24   Cu MOL     1       1.531   5.511   7.402  1.00  0.00          CU  \nATOM     25   Cu MOL     1      -0.099   7.374  -0.125  1.00  0.00          CU  \nATOM     26   Cu MOL     1       0.042   9.148   1.784  1.00  0.00          CU  \nATOM     27   Cu MOL     1       1.593   7.409   1.860  1.00  0.00          CU  \nATOM     28   Cu MOL     1       1.673   9.292   0.084  1.00  0.00          CU  \nATOM     29   Cu MOL     1      -0.305   7.147   3.529  1.00  0.00          CU  \nATOM     30   Cu MOL     1      -0.172   8.973   5.163  1.00  0.00          CU  \nATOM     31   Cu MOL     1       1.624   7.300   5.672  1.00  0.00          CU  \nATOM     32   Cu MOL     1       1.765   9.214   3.933  1.00  0.00          CU  \nATOM     33   Cu MOL     1      -0.407   7.360   7.506  1.00  0.00          CU  \nATOM     34   Cu MOL     1      -0.412   9.149   9.105  1.00  0.00          CU  \nATOM     35   Cu MOL     1       1.421   7.396   8.903  1.00  0.00          CU  \nATOM     36   Cu MOL     1       1.435   9.292   7.287  1.00  0.00          CU  \nATOM     37   Cu MOL     1       3.594   0.100  -0.160  1.00  0.00          CU  \nATOM     38   Cu MOL     1       3.573   1.783   1.886  1.00  0.00          CU  \nATOM     39   Cu MOL     1       5.446  -0.184   1.874  1.00  0.00          CU  \nATOM     40   Cu MOL     1       5.522   1.921  -0.082  1.00  0.00          CU  \nATOM     41   Cu MOL     1       3.580  -0.120   3.702  1.00  0.00          CU  \nATOM     42   Cu MOL     1       3.651   1.766   5.396  1.00  0.00          CU  \nATOM     43   Cu MOL     1       5.291  -0.022   5.347  1.00  0.00          CU  \nATOM     44   Cu MOL     1       5.351   1.925   3.497  1.00  0.00          CU  \nATOM     45   Cu MOL     1       3.535   0.052   7.321  1.00  0.00          CU  \nATOM     46   Cu MOL     1       3.547   1.669   9.078  1.00  0.00          CU  \nATOM     47   Cu MOL     1       5.168  -0.430   9.129  1.00  0.00          CU  \nATOM     48   Cu MOL     1       5.409   1.799   6.943  1.00  0.00          CU  \nATOM     49   Cu MOL     1       3.704   3.478  -0.053  1.00  0.00          CU  \nATOM     50   Cu MOL     1       3.431   5.332   2.187  1.00  0.00          CU  \nATOM     51   Cu MOL     1       5.497   3.711   1.741  1.00  0.00          CU  \nATOM     52   Cu MOL     1       5.027   5.477   0.209  1.00  0.00          CU  \nATOM     53   Cu MOL     1       3.434   3.427   3.802  1.00  0.00          CU  \nATOM     54   Cu MOL     1       3.479   5.421   5.467  1.00  0.00          CU  \nATOM     55   Cu MOL     1       5.267   3.475   5.356  1.00  0.00          CU  \nATOM     56   Cu MOL     1       5.099   5.166   3.609  1.00  0.00          CU  \nATOM     57   Cu MOL     1       3.404   3.695   7.207  1.00  0.00          CU  \nATOM     58   Cu MOL     1       3.403   5.510   9.055  1.00  0.00          CU  \nATOM     59   Cu MOL     1       4.980   3.490   9.140  1.00  0.00          CU  \nATOM     60   Cu MOL     1       5.196   5.305   7.289  1.00  0.00          CU  \nATOM     61   Cu MOL     1       3.455   7.442  -0.040  1.00  0.00          CU  \nATOM     62   Cu MOL     1       3.563   9.032   1.971  1.00  0.00          CU  \nATOM     63   Cu MOL     1       5.390   7.449   1.866  1.00  0.00          CU  \nATOM     64   Cu MOL     1       5.596   9.072  -0.045  1.00  0.00          CU  \nATOM     65   Cu MOL     1       3.232   7.364   3.808  1.00  0.00          CU  \nATOM     66   Cu MOL     1       3.575   9.044   5.440  1.00  0.00          CU  \nATOM     67   Cu MOL     1       5.354   6.978   5.120  1.00  0.00          CU  \nATOM     68   Cu MOL     1       5.271   8.866   3.643  1.00  0.00          CU  \nATOM     69   Cu MOL     1       3.457   7.190   7.242  1.00  0.00          CU  \nATOM     70   Cu MOL     1       3.357   8.923   8.653  1.00  0.00          CU  \nATOM     71   Cu MOL     1       5.198   7.252   9.090  1.00  0.00          CU  \nATOM     72   Cu MOL     1       5.320   9.120   6.940  1.00  0.00          CU  \nATOM     73   Cu MOL     1       7.145   0.306  -0.080  1.00  0.00          CU  \nATOM     74   Cu MOL     1       7.265   1.849   1.992  1.00  0.00          CU  \nATOM     75   Cu MOL     1       9.143   0.187   1.712  1.00  0.00          CU  \nATOM     76   Cu MOL     1       9.103   1.983  -0.141  1.00  0.00          CU  \nATOM     77   Cu MOL     1       7.257  -0.183   3.654  1.00  0.00          CU  \nATOM     78   Cu MOL     1       7.342   1.760   5.281  1.00  0.00          CU  \nATOM     79   Cu MOL     1       9.153  -0.274   5.286  1.00  0.00          CU  \nATOM     80   Cu MOL     1       9.377   1.575   3.559  1.00  0.00          CU  \nATOM     81   Cu MOL     1       7.123   0.005   7.081  1.00  0.00          CU  \nATOM     82   Cu MOL     1       7.112   1.753   9.010  1.00  0.00          CU  \nATOM     83   Cu MOL     1       8.794  -0.135   8.966  1.00  0.00          CU  \nATOM     84   Cu MOL     1       9.057   1.801   7.451  1.00  0.00          CU  \nATOM     85   Cu MOL     1       7.221   3.844  -0.135  1.00  0.00          CU  \nATOM     86   Cu MOL     1       7.394   5.523   1.899  1.00  0.00          CU  \nATOM     87   Cu MOL     1       9.044   3.602   1.623  1.00  0.00          CU  \nATOM     88   Cu MOL     1       9.182   5.495  -0.075  1.00  0.00          CU  \nATOM     89   Cu MOL     1       7.137   3.771   3.572  1.00  0.00          CU  \nATOM     90   Cu MOL     1       7.175   5.608   5.593  1.00  0.00          CU  \nATOM     91   Cu MOL     1       8.929   3.650   5.415  1.00  0.00          CU  \nATOM     92   Cu MOL     1       8.973   5.478   3.773  1.00  0.00          CU  \nATOM     93   Cu MOL     1       7.311   3.537   7.236  1.00  0.00          CU  \nATOM     94   Cu MOL     1       7.160   5.175   9.003  1.00  0.00          CU  \nATOM     95   Cu MOL     1       9.094   3.497   9.059  1.00  0.00          CU  \nATOM     96   Cu MOL     1       9.127   5.516   7.170  1.00  0.00          CU  \nATOM     97   Cu MOL     1       7.548   7.368  -0.201  1.00  0.00          CU  \nATOM     98   Cu MOL     1       7.412   9.106   1.777  1.00  0.00          CU  \nATOM     99   Cu MOL     1       9.306   7.291   1.643  1.00  0.00          CU  \nATOM    100   Cu MOL     1       9.308   9.330  -0.016  1.00  0.00          CU  \nATOM    101   Cu MOL     1       7.456   7.297   3.576  1.00  0.00          CU  \nATOM    102   Cu MOL     1       7.197   8.912   5.191  1.00  0.00          CU  \nATOM    103   Cu MOL     1       9.016   7.250   5.399  1.00  0.00          CU  \nATOM    104   Cu MOL     1       9.221   9.171   3.514  1.00  0.00          CU  \nATOM    105   Cu MOL     1       6.920   7.306   7.248  1.00  0.00          CU  \nATOM    106   Cu MOL     1       6.987   9.162   8.998  1.00  0.00          CU  \nATOM    107   Cu MOL     1       8.880   7.329   8.978  1.00  0.00          CU  \nATOM    108   Cu MOL     1       8.869   9.361   7.289  1.00  0.00          CU  \nENDMDL\n",
           "ext": "pdb"
          }
         ],
         "kwargs": {},
         "methodName": "replaceStructure",
         "reconstruc_color_scheme": false,
         "target": "Widget",
         "type": "call_method"
        },
        {
         "args": [
          "this._Q = [[0.9996285017177928, -0.011378048373021614, -0.02476688451666662], [0.01111535849918018, 0.9998807746903828, -0.010718451846910535], [0.02488588674078992, 0.010439177160150944, 0.9996357917868606]]"
         ],
         "kwargs": {},
         "methodName": "executeCode",
         "reconstruc_color_scheme": false,
         "target": "Widget",
         "type": "call_method"
        },
        {
         "args": [
          {
           "data": "CRYST1   11.063   10.936   10.753  89.67  89.91  90.79 P 1\nMODEL     1\nATOM      1   Cu MOL     1      -0.100  -0.023  -0.018  1.00  0.00          CU  \nATOM      2   Cu MOL     1      -0.168   1.939   1.755  1.00  0.00          CU  \nATOM      3   Cu MOL     1       1.805   0.009   1.839  1.00  0.00          CU  \nATOM      4   Cu MOL     1       1.783   1.613   0.104  1.00  0.00          CU  \nATOM      5   Cu MOL     1      -0.220   0.013   3.604  1.00  0.00          CU  \nATOM      6   Cu MOL     1      -0.285   2.007   5.530  1.00  0.00          CU  \nATOM      7   Cu MOL     1       1.698  -0.066   5.272  1.00  0.00          CU  \nATOM      8   Cu MOL     1       1.576   1.851   3.531  1.00  0.00          CU  \nATOM      9   Cu MOL     1      -0.140   0.032   7.310  1.00  0.00          CU  \nATOM     10   Cu MOL     1      -0.016   1.712   8.816  1.00  0.00          CU  \nATOM     11   Cu MOL     1       1.867  -0.088   9.237  1.00  0.00          CU  \nATOM     12   Cu MOL     1       1.866   1.633   6.910  1.00  0.00          CU  \nATOM     13   Cu MOL     1       0.012   3.504  -0.250  1.00  0.00          CU  \nATOM     14   Cu MOL     1       0.006   5.168   1.672  1.00  0.00          CU  \nATOM     15   Cu MOL     1       1.672   3.475   1.628  1.00  0.00          CU  \nATOM     16   Cu MOL     1       1.993   5.365   0.014  1.00  0.00          CU  \nATOM     17   Cu MOL     1      -0.180   3.429   3.656  1.00  0.00          CU  \nATOM     18   Cu MOL     1       0.123   5.526   5.336  1.00  0.00          CU  \nATOM     19   Cu MOL     1       1.866   3.847   5.077  1.00  0.00          CU  \nATOM     20   Cu MOL     1       1.846   5.681   3.526  1.00  0.00          CU  \nATOM     21   Cu MOL     1      -0.039   3.545   7.291  1.00  0.00          CU  \nATOM     22   Cu MOL     1      -0.070   5.642   9.087  1.00  0.00          CU  \nATOM     23   Cu MOL     1       1.878   3.645   8.857  1.00  0.00          CU  \nATOM     24   Cu MOL     1       1.763   5.511   7.155  1.00  0.00          CU  \nATOM     25   Cu MOL     1      -0.272   7.291   0.235  1.00  0.00          CU  \nATOM     26   Cu MOL     1      -0.246   9.209   1.910  1.00  0.00          CU  \nATOM     27   Cu MOL     1       1.829   7.063   1.550  1.00  0.00          CU  \nATOM     28   Cu MOL     1       1.638   9.062   0.022  1.00  0.00          CU  \nATOM     29   Cu MOL     1      -0.001   7.296   3.449  1.00  0.00          CU  \nATOM     30   Cu MOL     1      -0.112   8.942   5.246  1.00  0.00          CU  \nATOM     31   Cu MOL     1       1.778   7.331   5.234  1.00  0.00          CU  \nATOM     32   Cu MOL     1       1.860   9.212   3.614  1.00  0.00          CU  \nATOM     33   Cu MOL     1      -0.046   7.532   7.203  1.00  0.00          CU  \nATOM     34   Cu MOL     1      -0.181   9.014   9.110  1.00  0.00          CU  \nATOM     35   Cu MOL     1       1.609   7.196   9.340  1.00  0.00          CU  \nATOM     36   Cu MOL     1       1.713   9.223   6.971  1.00  0.00          CU  \nATOM     37   Cu MOL     1       3.704   0.039   0.040  1.00  0.00          CU  \nATOM     38   Cu MOL     1       3.408   1.814   1.761  1.00  0.00          CU  \nATOM     39   Cu MOL     1       5.462   0.087   1.821  1.00  0.00          CU  \nATOM     40   Cu MOL     1       5.437   1.932   0.078  1.00  0.00          CU  \nATOM     41   Cu MOL     1       3.715  -0.030   3.622  1.00  0.00          CU  \nATOM     42   Cu MOL     1       3.772   1.857   5.207  1.00  0.00          CU  \nATOM     43   Cu MOL     1       5.431   0.060   5.286  1.00  0.00          CU  \nATOM     44   Cu MOL     1       5.520   1.960   3.565  1.00  0.00          CU  \nATOM     45   Cu MOL     1       3.609   0.010   7.300  1.00  0.00          CU  \nATOM     46   Cu MOL     1       3.584   1.866   8.905  1.00  0.00          CU  \nATOM     47   Cu MOL     1       5.547   0.128   8.993  1.00  0.00          CU  \nATOM     48   Cu MOL     1       5.544   1.822   7.121  1.00  0.00          CU  \nATOM     49   Cu MOL     1       3.571   3.433  -0.076  1.00  0.00          CU  \nATOM     50   Cu MOL     1       3.737   5.334   1.616  1.00  0.00          CU  \nATOM     51   Cu MOL     1       5.329   3.751   1.802  1.00  0.00          CU  \nATOM     52   Cu MOL     1       5.623   5.398   0.006  1.00  0.00          CU  \nATOM     53   Cu MOL     1       3.591   3.612   3.507  1.00  0.00          CU  \nATOM     54   Cu MOL     1       3.769   5.687   5.553  1.00  0.00          CU  \nATOM     55   Cu MOL     1       5.605   3.866   5.402  1.00  0.00          CU  \nATOM     56   Cu MOL     1       5.515   5.564   3.789  1.00  0.00          CU  \nATOM     57   Cu MOL     1       3.597   3.707   7.063  1.00  0.00          CU  \nATOM     58   Cu MOL     1       3.578   5.498   8.953  1.00  0.00          CU  \nATOM     59   Cu MOL     1       5.352   3.748   8.836  1.00  0.00          CU  \nATOM     60   Cu MOL     1       5.592   5.610   7.219  1.00  0.00          CU  \nATOM     61   Cu MOL     1       3.786   7.268  -0.041  1.00  0.00          CU  \nATOM     62   Cu MOL     1       3.464   9.148   1.822  1.00  0.00          CU  \nATOM     63   Cu MOL     1       5.432   7.322   1.823  1.00  0.00          CU  \nATOM     64   Cu MOL     1       5.403   9.004  -0.023  1.00  0.00          CU  \nATOM     65   Cu MOL     1       3.389   7.394   3.171  1.00  0.00          CU  \nATOM     66   Cu MOL     1       3.505   9.178   5.273  1.00  0.00          CU  \nATOM     67   Cu MOL     1       5.543   7.506   5.414  1.00  0.00          CU  \nATOM     68   Cu MOL     1       5.351   9.159   3.448  1.00  0.00          CU  \nATOM     69   Cu MOL     1       3.611   7.325   7.180  1.00  0.00          CU  \nATOM     70   Cu MOL     1       3.655   9.057   8.969  1.00  0.00          CU  \nATOM     71   Cu MOL     1       5.420   7.447   8.948  1.00  0.00          CU  \nATOM     72   Cu MOL     1       5.373   9.083   7.206  1.00  0.00          CU  \nATOM     73   Cu MOL     1       7.259  -0.116  -0.031  1.00  0.00          CU  \nATOM     74   Cu MOL     1       7.361   1.831   1.863  1.00  0.00          CU  \nATOM     75   Cu MOL     1       9.167   0.123   1.793  1.00  0.00          CU  \nATOM     76   Cu MOL     1       9.189   1.710  -0.127  1.00  0.00          CU  \nATOM     77   Cu MOL     1       7.357   0.044   3.675  1.00  0.00          CU  \nATOM     78   Cu MOL     1       7.486   1.996   5.600  1.00  0.00          CU  \nATOM     79   Cu MOL     1       9.140   0.143   5.515  1.00  0.00          CU  \nATOM     80   Cu MOL     1       9.380   1.746   3.528  1.00  0.00          CU  \nATOM     81   Cu MOL     1       7.302  -0.016   6.982  1.00  0.00          CU  \nATOM     82   Cu MOL     1       7.468   1.892   9.122  1.00  0.00          CU  \nATOM     83   Cu MOL     1       9.287  -0.049   9.016  1.00  0.00          CU  \nATOM     84   Cu MOL     1       9.138   1.850   7.443  1.00  0.00          CU  \nATOM     85   Cu MOL     1       7.514   3.658  -0.016  1.00  0.00          CU  \nATOM     86   Cu MOL     1       7.213   5.487   1.509  1.00  0.00          CU  \nATOM     87   Cu MOL     1       9.203   3.525   1.550  1.00  0.00          CU  \nATOM     88   Cu MOL     1       9.214   5.500   0.138  1.00  0.00          CU  \nATOM     89   Cu MOL     1       7.466   3.775   3.332  1.00  0.00          CU  \nATOM     90   Cu MOL     1       7.238   5.456   5.341  1.00  0.00          CU  \nATOM     91   Cu MOL     1       9.273   3.896   5.473  1.00  0.00          CU  \nATOM     92   Cu MOL     1       9.343   5.235   3.349  1.00  0.00          CU  \nATOM     93   Cu MOL     1       7.506   3.967   7.264  1.00  0.00          CU  \nATOM     94   Cu MOL     1       7.255   5.653   9.127  1.00  0.00          CU  \nATOM     95   Cu MOL     1       9.172   3.778   8.945  1.00  0.00          CU  \nATOM     96   Cu MOL     1       9.344   5.653   7.242  1.00  0.00          CU  \nATOM     97   Cu MOL     1       7.473   7.423   0.420  1.00  0.00          CU  \nATOM     98   Cu MOL     1       7.317   9.207   1.832  1.00  0.00          CU  \nATOM     99   Cu MOL     1       9.099   7.302   2.119  1.00  0.00          CU  \nATOM    100   Cu MOL     1       9.085   9.225  -0.012  1.00  0.00          CU  \nATOM    101   Cu MOL     1       7.288   7.427   3.562  1.00  0.00          CU  \nATOM    102   Cu MOL     1       7.368   9.032   5.303  1.00  0.00          CU  \nATOM    103   Cu MOL     1       9.399   7.187   5.306  1.00  0.00          CU  \nATOM    104   Cu MOL     1       9.005   9.282   3.608  1.00  0.00          CU  \nATOM    105   Cu MOL     1       7.452   7.044   7.097  1.00  0.00          CU  \nATOM    106   Cu MOL     1       7.224   9.362   9.008  1.00  0.00          CU  \nATOM    107   Cu MOL     1       9.157   7.355   9.205  1.00  0.00          CU  \nATOM    108   Cu MOL     1       9.048   9.290   7.398  1.00  0.00          CU  \nENDMDL\n",
           "ext": "pdb"
          }
         ],
         "kwargs": {},
         "methodName": "replaceStructure",
         "reconstruc_color_scheme": false,
         "target": "Widget",
         "type": "call_method"
        },
        {
         "args": [
          "this._Q = [[0.9999042059989476, -0.013751753451734423, 0.0015710196105057923], [0.013742500443878241, 0.9998889991369743, 0.005756134676125978], [-0.0016500021708742596, -0.005733993535260039, 0.9999821992470534]]"
         ],
         "kwargs": {},
         "methodName": "executeCode",
         "reconstruc_color_scheme": false,
         "target": "Widget",
         "type": "call_method"
        },
        {
         "args": [
          {
           "data": "CRYST1   10.973   10.961   10.978  89.79  89.10  89.91 P 1\nMODEL     1\nATOM      1   Cu MOL     1      -0.072   0.025   0.028  1.00  0.00          CU  \nATOM      2   Cu MOL     1       0.131   1.932   1.946  1.00  0.00          CU  \nATOM      3   Cu MOL     1       1.979   0.155   1.788  1.00  0.00          CU  \nATOM      4   Cu MOL     1       1.799   1.762  -0.020  1.00  0.00          CU  \nATOM      5   Cu MOL     1       0.067   0.080   3.353  1.00  0.00          CU  \nATOM      6   Cu MOL     1       0.217   1.761   5.639  1.00  0.00          CU  \nATOM      7   Cu MOL     1       2.032   0.019   5.617  1.00  0.00          CU  \nATOM      8   Cu MOL     1       1.920   1.763   3.567  1.00  0.00          CU  \nATOM      9   Cu MOL     1       0.222   0.043   7.465  1.00  0.00          CU  \nATOM     10   Cu MOL     1       0.124   1.907   8.949  1.00  0.00          CU  \nATOM     11   Cu MOL     1       1.888   0.152   9.294  1.00  0.00          CU  \nATOM     12   Cu MOL     1       1.889   1.778   7.317  1.00  0.00          CU  \nATOM     13   Cu MOL     1      -0.051   3.552  -0.087  1.00  0.00          CU  \nATOM     14   Cu MOL     1       0.056   5.334   1.758  1.00  0.00          CU  \nATOM     15   Cu MOL     1       2.134   3.588   2.006  1.00  0.00          CU  \nATOM     16   Cu MOL     1       1.817   5.591   0.114  1.00  0.00          CU  \nATOM     17   Cu MOL     1       0.100   3.689   3.695  1.00  0.00          CU  \nATOM     18   Cu MOL     1       0.187   5.572   5.716  1.00  0.00          CU  \nATOM     19   Cu MOL     1       1.941   3.692   5.527  1.00  0.00          CU  \nATOM     20   Cu MOL     1       1.818   5.560   3.790  1.00  0.00          CU  \nATOM     21   Cu MOL     1       0.260   3.691   7.183  1.00  0.00          CU  \nATOM     22   Cu MOL     1       0.198   5.681   8.855  1.00  0.00          CU  \nATOM     23   Cu MOL     1       1.817   3.842   9.227  1.00  0.00          CU  \nATOM     24   Cu MOL     1       1.881   5.645   7.188  1.00  0.00          CU  \nATOM     25   Cu MOL     1       0.104   7.503   0.104  1.00  0.00          CU  \nATOM     26   Cu MOL     1       0.297   9.225   1.654  1.00  0.00          CU  \nATOM     27   Cu MOL     1       1.837   7.184   1.764  1.00  0.00          CU  \nATOM     28   Cu MOL     1       2.079   9.187   0.080  1.00  0.00          CU  \nATOM     29   Cu MOL     1       0.015   7.472   3.612  1.00  0.00          CU  \nATOM     30   Cu MOL     1       0.085   9.524   5.398  1.00  0.00          CU  \nATOM     31   Cu MOL     1       1.821   7.390   5.469  1.00  0.00          CU  \nATOM     32   Cu MOL     1       1.728   9.004   3.727  1.00  0.00          CU  \nATOM     33   Cu MOL     1       0.065   7.525   7.158  1.00  0.00          CU  \nATOM     34   Cu MOL     1       0.026   9.243   9.242  1.00  0.00          CU  \nATOM     35   Cu MOL     1       1.881   7.410   9.130  1.00  0.00          CU  \nATOM     36   Cu MOL     1       1.711   9.010   7.354  1.00  0.00          CU  \nATOM     37   Cu MOL     1       3.652   0.017  -0.202  1.00  0.00          CU  \nATOM     38   Cu MOL     1       3.653   1.773   1.884  1.00  0.00          CU  \nATOM     39   Cu MOL     1       5.366   0.063   1.869  1.00  0.00          CU  \nATOM     40   Cu MOL     1       5.600   1.954  -0.002  1.00  0.00          CU  \nATOM     41   Cu MOL     1       3.735   0.070   3.776  1.00  0.00          CU  \nATOM     42   Cu MOL     1       3.660   1.789   5.525  1.00  0.00          CU  \nATOM     43   Cu MOL     1       5.536  -0.349   5.409  1.00  0.00          CU  \nATOM     44   Cu MOL     1       5.774   1.768   3.779  1.00  0.00          CU  \nATOM     45   Cu MOL     1       3.663   0.146   7.418  1.00  0.00          CU  \nATOM     46   Cu MOL     1       3.769   1.852   9.204  1.00  0.00          CU  \nATOM     47   Cu MOL     1       5.804   0.089   9.020  1.00  0.00          CU  \nATOM     48   Cu MOL     1       5.508   1.896   7.350  1.00  0.00          CU  \nATOM     49   Cu MOL     1       3.701   3.501   0.076  1.00  0.00          CU  \nATOM     50   Cu MOL     1       3.694   5.388   1.707  1.00  0.00          CU  \nATOM     51   Cu MOL     1       5.639   3.554   1.819  1.00  0.00          CU  \nATOM     52   Cu MOL     1       5.539   5.597  -0.040  1.00  0.00          CU  \nATOM     53   Cu MOL     1       3.605   3.673   3.547  1.00  0.00          CU  \nATOM     54   Cu MOL     1       3.657   5.488   5.740  1.00  0.00          CU  \nATOM     55   Cu MOL     1       5.376   3.671   5.604  1.00  0.00          CU  \nATOM     56   Cu MOL     1       5.461   5.227   3.763  1.00  0.00          CU  \nATOM     57   Cu MOL     1       3.487   3.560   7.483  1.00  0.00          CU  \nATOM     58   Cu MOL     1       3.524   5.604   9.172  1.00  0.00          CU  \nATOM     59   Cu MOL     1       5.726   3.813   9.383  1.00  0.00          CU  \nATOM     60   Cu MOL     1       5.782   5.511   7.404  1.00  0.00          CU  \nATOM     61   Cu MOL     1       3.642   7.257   0.276  1.00  0.00          CU  \nATOM     62   Cu MOL     1       4.061   9.121   1.845  1.00  0.00          CU  \nATOM     63   Cu MOL     1       5.265   7.152   1.852  1.00  0.00          CU  \nATOM     64   Cu MOL     1       5.346   9.150  -0.196  1.00  0.00          CU  \nATOM     65   Cu MOL     1       3.847   6.973   3.932  1.00  0.00          CU  \nATOM     66   Cu MOL     1       3.681   9.229   5.641  1.00  0.00          CU  \nATOM     67   Cu MOL     1       5.525   7.074   5.611  1.00  0.00          CU  \nATOM     68   Cu MOL     1       5.619   8.972   3.776  1.00  0.00          CU  \nATOM     69   Cu MOL     1       3.712   7.370   7.114  1.00  0.00          CU  \nATOM     70   Cu MOL     1       3.800   9.116   8.966  1.00  0.00          CU  \nATOM     71   Cu MOL     1       5.704   7.433   8.954  1.00  0.00          CU  \nATOM     72   Cu MOL     1       5.604   9.046   7.207  1.00  0.00          CU  \nATOM     73   Cu MOL     1       7.162   0.061   0.125  1.00  0.00          CU  \nATOM     74   Cu MOL     1       7.333   1.900   1.754  1.00  0.00          CU  \nATOM     75   Cu MOL     1       9.080   0.045   1.715  1.00  0.00          CU  \nATOM     76   Cu MOL     1       9.201   1.925   0.186  1.00  0.00          CU  \nATOM     77   Cu MOL     1       7.392   0.080   3.478  1.00  0.00          CU  \nATOM     78   Cu MOL     1       7.373   1.821   5.560  1.00  0.00          CU  \nATOM     79   Cu MOL     1       9.177  -0.113   5.337  1.00  0.00          CU  \nATOM     80   Cu MOL     1       9.151   1.752   3.661  1.00  0.00          CU  \nATOM     81   Cu MOL     1       7.659   0.004   7.324  1.00  0.00          CU  \nATOM     82   Cu MOL     1       7.574   1.942   8.988  1.00  0.00          CU  \nATOM     83   Cu MOL     1       9.264   0.130   9.459  1.00  0.00          CU  \nATOM     84   Cu MOL     1       9.358   1.580   7.160  1.00  0.00          CU  \nATOM     85   Cu MOL     1       7.553   3.678  -0.127  1.00  0.00          CU  \nATOM     86   Cu MOL     1       7.377   5.322   1.728  1.00  0.00          CU  \nATOM     87   Cu MOL     1       9.165   3.556   2.095  1.00  0.00          CU  \nATOM     88   Cu MOL     1       9.230   5.528   0.019  1.00  0.00          CU  \nATOM     89   Cu MOL     1       7.354   3.666   3.656  1.00  0.00          CU  \nATOM     90   Cu MOL     1       7.374   5.414   5.512  1.00  0.00          CU  \nATOM     91   Cu MOL     1       9.325   3.610   5.632  1.00  0.00          CU  \nATOM     92   Cu MOL     1       9.378   5.440   3.586  1.00  0.00          CU  \nATOM     93   Cu MOL     1       7.292   3.787   7.315  1.00  0.00          CU  \nATOM     94   Cu MOL     1       7.585   5.496   9.080  1.00  0.00          CU  \nATOM     95   Cu MOL     1       9.430   3.792   8.951  1.00  0.00          CU  \nATOM     96   Cu MOL     1       9.233   5.471   7.337  1.00  0.00          CU  \nATOM     97   Cu MOL     1       7.356   7.129   0.157  1.00  0.00          CU  \nATOM     98   Cu MOL     1       7.117   9.140   1.711  1.00  0.00          CU  \nATOM     99   Cu MOL     1       9.124   7.397   1.867  1.00  0.00          CU  \nATOM    100   Cu MOL     1       8.976   9.407  -0.036  1.00  0.00          CU  \nATOM    101   Cu MOL     1       7.206   7.139   3.441  1.00  0.00          CU  \nATOM    102   Cu MOL     1       7.594   9.060   5.503  1.00  0.00          CU  \nATOM    103   Cu MOL     1       9.374   7.296   5.445  1.00  0.00          CU  \nATOM    104   Cu MOL     1       9.228   9.042   3.633  1.00  0.00          CU  \nATOM    105   Cu MOL     1       7.475   7.337   7.024  1.00  0.00          CU  \nATOM    106   Cu MOL     1       7.455   9.157   8.877  1.00  0.00          CU  \nATOM    107   Cu MOL     1       9.327   7.447   9.028  1.00  0.00          CU  \nATOM    108   Cu MOL     1       9.330   9.534   7.493  1.00  0.00          CU  \nENDMDL\n",
           "ext": "pdb"
          }
         ],
         "kwargs": {},
         "methodName": "replaceStructure",
         "reconstruc_color_scheme": false,
         "target": "Widget",
         "type": "call_method"
        },
        {
         "args": [
          "this._Q = [[0.999875763012049, 0.0014983162020497033, 0.015691194652782285], [-0.0015549321399326763, 0.9999923234561595, 0.0035965559625152355], [-0.01568568542056841, -0.0036205078801150063, 0.9998704172019377]]"
         ],
         "kwargs": {},
         "methodName": "executeCode",
         "reconstruc_color_scheme": false,
         "target": "Widget",
         "type": "call_method"
        },
        {
         "args": [
          {
           "data": "CRYST1   10.952   10.976   11.071  89.63  89.69  89.99 P 1\nMODEL     1\nATOM      1   Cu MOL     1      -0.026  -0.022  -0.021  1.00  0.00          CU  \nATOM      2   Cu MOL     1       0.125   1.760   1.536  1.00  0.00          CU  \nATOM      3   Cu MOL     1       2.000  -0.065   1.893  1.00  0.00          CU  \nATOM      4   Cu MOL     1       1.923   1.718   0.001  1.00  0.00          CU  \nATOM      5   Cu MOL     1       0.168   0.063   3.374  1.00  0.00          CU  \nATOM      6   Cu MOL     1       0.055   2.134   5.137  1.00  0.00          CU  \nATOM      7   Cu MOL     1       1.736  -0.108   5.435  1.00  0.00          CU  \nATOM      8   Cu MOL     1       2.055   1.881   3.614  1.00  0.00          CU  \nATOM      9   Cu MOL     1       0.106   0.277   7.487  1.00  0.00          CU  \nATOM     10   Cu MOL     1       0.006   2.055   9.434  1.00  0.00          CU  \nATOM     11   Cu MOL     1       1.812   0.057   9.448  1.00  0.00          CU  \nATOM     12   Cu MOL     1       1.891   1.720   7.493  1.00  0.00          CU  \nATOM     13   Cu MOL     1       0.078   3.748   0.005  1.00  0.00          CU  \nATOM     14   Cu MOL     1       0.030   5.415   1.744  1.00  0.00          CU  \nATOM     15   Cu MOL     1       1.732   3.470   1.912  1.00  0.00          CU  \nATOM     16   Cu MOL     1       1.772   5.321  -0.197  1.00  0.00          CU  \nATOM     17   Cu MOL     1      -0.078   3.804   3.569  1.00  0.00          CU  \nATOM     18   Cu MOL     1      -0.030   5.618   5.554  1.00  0.00          CU  \nATOM     19   Cu MOL     1       1.902   3.727   5.484  1.00  0.00          CU  \nATOM     20   Cu MOL     1       1.769   5.526   3.879  1.00  0.00          CU  \nATOM     21   Cu MOL     1       0.033   3.553   7.439  1.00  0.00          CU  \nATOM     22   Cu MOL     1      -0.141   5.529   9.135  1.00  0.00          CU  \nATOM     23   Cu MOL     1       1.807   3.679   8.983  1.00  0.00          CU  \nATOM     24   Cu MOL     1       1.930   5.593   7.112  1.00  0.00          CU  \nATOM     25   Cu MOL     1       0.021   7.128  -0.185  1.00  0.00          CU  \nATOM     26   Cu MOL     1      -0.041   9.103   1.864  1.00  0.00          CU  \nATOM     27   Cu MOL     1       1.675   7.599   2.062  1.00  0.00          CU  \nATOM     28   Cu MOL     1       1.629   9.051   0.018  1.00  0.00          CU  \nATOM     29   Cu MOL     1      -0.015   7.159   3.721  1.00  0.00          CU  \nATOM     30   Cu MOL     1      -0.128   9.112   5.505  1.00  0.00          CU  \nATOM     31   Cu MOL     1       1.881   7.584   5.790  1.00  0.00          CU  \nATOM     32   Cu MOL     1       1.868   9.253   3.714  1.00  0.00          CU  \nATOM     33   Cu MOL     1      -0.016   7.194   7.265  1.00  0.00          CU  \nATOM     34   Cu MOL     1       0.022   9.178   9.133  1.00  0.00          CU  \nATOM     35   Cu MOL     1       1.744   7.279   9.156  1.00  0.00          CU  \nATOM     36   Cu MOL     1       1.856   9.206   7.616  1.00  0.00          CU  \nATOM     37   Cu MOL     1       3.552   0.184   0.021  1.00  0.00          CU  \nATOM     38   Cu MOL     1       3.603   2.033   1.776  1.00  0.00          CU  \nATOM     39   Cu MOL     1       5.287   0.005   1.740  1.00  0.00          CU  \nATOM     40   Cu MOL     1       5.594   1.846  -0.063  1.00  0.00          CU  \nATOM     41   Cu MOL     1       3.784   0.038   3.642  1.00  0.00          CU  \nATOM     42   Cu MOL     1       3.675   1.698   5.423  1.00  0.00          CU  \nATOM     43   Cu MOL     1       5.521  -0.015   5.686  1.00  0.00          CU  \nATOM     44   Cu MOL     1       5.498   1.835   3.697  1.00  0.00          CU  \nATOM     45   Cu MOL     1       3.550  -0.075   7.521  1.00  0.00          CU  \nATOM     46   Cu MOL     1       3.657   1.853   9.296  1.00  0.00          CU  \nATOM     47   Cu MOL     1       5.511  -0.043   9.428  1.00  0.00          CU  \nATOM     48   Cu MOL     1       5.374   1.786   7.311  1.00  0.00          CU  \nATOM     49   Cu MOL     1       3.546   3.710   0.016  1.00  0.00          CU  \nATOM     50   Cu MOL     1       3.631   5.618   2.041  1.00  0.00          CU  \nATOM     51   Cu MOL     1       5.677   3.650   1.857  1.00  0.00          CU  \nATOM     52   Cu MOL     1       5.238   5.429   0.043  1.00  0.00          CU  \nATOM     53   Cu MOL     1       3.799   3.776   3.510  1.00  0.00          CU  \nATOM     54   Cu MOL     1       3.740   5.372   5.345  1.00  0.00          CU  \nATOM     55   Cu MOL     1       5.590   3.666   5.501  1.00  0.00          CU  \nATOM     56   Cu MOL     1       5.535   5.622   3.697  1.00  0.00          CU  \nATOM     57   Cu MOL     1       3.879   3.779   7.287  1.00  0.00          CU  \nATOM     58   Cu MOL     1       3.699   5.507   9.197  1.00  0.00          CU  \nATOM     59   Cu MOL     1       5.493   3.663   9.068  1.00  0.00          CU  \nATOM     60   Cu MOL     1       5.754   5.615   7.498  1.00  0.00          CU  \nATOM     61   Cu MOL     1       3.426   7.238  -0.115  1.00  0.00          CU  \nATOM     62   Cu MOL     1       3.828   9.108   1.611  1.00  0.00          CU  \nATOM     63   Cu MOL     1       5.581   7.178   1.952  1.00  0.00          CU  \nATOM     64   Cu MOL     1       5.670   9.185   0.259  1.00  0.00          CU  \nATOM     65   Cu MOL     1       3.495   7.406   3.753  1.00  0.00          CU  \nATOM     66   Cu MOL     1       3.801   9.066   5.464  1.00  0.00          CU  \nATOM     67   Cu MOL     1       5.545   7.375   5.551  1.00  0.00          CU  \nATOM     68   Cu MOL     1       5.625   9.047   3.406  1.00  0.00          CU  \nATOM     69   Cu MOL     1       3.980   7.136   7.264  1.00  0.00          CU  \nATOM     70   Cu MOL     1       3.711   9.223   9.428  1.00  0.00          CU  \nATOM     71   Cu MOL     1       5.529   7.438   9.533  1.00  0.00          CU  \nATOM     72   Cu MOL     1       5.765   9.265   7.631  1.00  0.00          CU  \nATOM     73   Cu MOL     1       7.232  -0.141   0.155  1.00  0.00          CU  \nATOM     74   Cu MOL     1       7.274   1.596   1.800  1.00  0.00          CU  \nATOM     75   Cu MOL     1       9.154  -0.013   1.786  1.00  0.00          CU  \nATOM     76   Cu MOL     1       8.903   1.882   0.138  1.00  0.00          CU  \nATOM     77   Cu MOL     1       7.087  -0.182   3.872  1.00  0.00          CU  \nATOM     78   Cu MOL     1       7.235   1.710   5.377  1.00  0.00          CU  \nATOM     79   Cu MOL     1       9.340   0.118   5.691  1.00  0.00          CU  \nATOM     80   Cu MOL     1       9.044   1.623   3.610  1.00  0.00          CU  \nATOM     81   Cu MOL     1       7.576   0.367   7.467  1.00  0.00          CU  \nATOM     82   Cu MOL     1       7.280   1.851   9.212  1.00  0.00          CU  \nATOM     83   Cu MOL     1       9.220   0.396   9.197  1.00  0.00          CU  \nATOM     84   Cu MOL     1       9.248   1.989   7.132  1.00  0.00          CU  \nATOM     85   Cu MOL     1       7.155   3.752  -0.255  1.00  0.00          CU  \nATOM     86   Cu MOL     1       7.280   5.501   1.772  1.00  0.00          CU  \nATOM     87   Cu MOL     1       8.852   3.505   1.830  1.00  0.00          CU  \nATOM     88   Cu MOL     1       9.094   5.493  -0.091  1.00  0.00          CU  \nATOM     89   Cu MOL     1       7.238   3.785   3.729  1.00  0.00          CU  \nATOM     90   Cu MOL     1       7.344   5.620   5.753  1.00  0.00          CU  \nATOM     91   Cu MOL     1       9.199   3.811   5.449  1.00  0.00          CU  \nATOM     92   Cu MOL     1       8.883   5.613   3.756  1.00  0.00          CU  \nATOM     93   Cu MOL     1       7.188   3.668   7.233  1.00  0.00          CU  \nATOM     94   Cu MOL     1       7.304   5.821   9.217  1.00  0.00          CU  \nATOM     95   Cu MOL     1       9.115   3.766   9.323  1.00  0.00          CU  \nATOM     96   Cu MOL     1       8.952   5.505   7.290  1.00  0.00          CU  \nATOM     97   Cu MOL     1       7.416   7.207   0.022  1.00  0.00          CU  \nATOM     98   Cu MOL     1       7.401   9.326   1.753  1.00  0.00          CU  \nATOM     99   Cu MOL     1       9.099   7.297   2.049  1.00  0.00          CU  \nATOM    100   Cu MOL     1       9.337   8.985   0.054  1.00  0.00          CU  \nATOM    101   Cu MOL     1       7.335   7.376   3.669  1.00  0.00          CU  \nATOM    102   Cu MOL     1       7.552   9.204   5.753  1.00  0.00          CU  \nATOM    103   Cu MOL     1       9.267   7.377   5.436  1.00  0.00          CU  \nATOM    104   Cu MOL     1       9.243   9.195   3.857  1.00  0.00          CU  \nATOM    105   Cu MOL     1       7.432   7.403   7.437  1.00  0.00          CU  \nATOM    106   Cu MOL     1       7.502   9.197   9.435  1.00  0.00          CU  \nATOM    107   Cu MOL     1       9.332   7.397   9.190  1.00  0.00          CU  \nATOM    108   Cu MOL     1       9.225   9.635   7.698  1.00  0.00          CU  \nENDMDL\n",
           "ext": "pdb"
          }
         ],
         "kwargs": {},
         "methodName": "replaceStructure",
         "reconstruc_color_scheme": false,
         "target": "Widget",
         "type": "call_method"
        },
        {
         "args": [
          "this._Q = [[0.9999853411847135, 0.00017307958423352273, 0.005411788904789456], [-0.00020796758631881813, 0.9999791977418813, 0.006446769189790781], [-0.005410560523228756, -0.006447800164468228, 0.9999645752264744]]"
         ],
         "kwargs": {},
         "methodName": "executeCode",
         "reconstruc_color_scheme": false,
         "target": "Widget",
         "type": "call_method"
        },
        {
         "args": [
          {
           "data": "CRYST1   11.051   11.045   10.904  89.65  89.89  89.55 P 1\nMODEL     1\nATOM      1   Cu MOL     1       0.215  -0.004  -0.090  1.00  0.00          CU  \nATOM      2   Cu MOL     1       0.040   2.059   1.588  1.00  0.00          CU  \nATOM      3   Cu MOL     1       1.431  -0.061   1.898  1.00  0.00          CU  \nATOM      4   Cu MOL     1       1.945   1.901  -0.187  1.00  0.00          CU  \nATOM      5   Cu MOL     1       0.053   0.107   3.903  1.00  0.00          CU  \nATOM      6   Cu MOL     1       0.191   1.938   5.576  1.00  0.00          CU  \nATOM      7   Cu MOL     1       1.974  -0.052   5.676  1.00  0.00          CU  \nATOM      8   Cu MOL     1       1.864   1.619   3.629  1.00  0.00          CU  \nATOM      9   Cu MOL     1      -0.163   0.058   7.294  1.00  0.00          CU  \nATOM     10   Cu MOL     1       0.058   1.913   9.007  1.00  0.00          CU  \nATOM     11   Cu MOL     1       1.802  -0.144   9.012  1.00  0.00          CU  \nATOM     12   Cu MOL     1       2.088   1.877   7.508  1.00  0.00          CU  \nATOM     13   Cu MOL     1      -0.043   3.934  -0.195  1.00  0.00          CU  \nATOM     14   Cu MOL     1       0.069   5.521   1.816  1.00  0.00          CU  \nATOM     15   Cu MOL     1       1.908   3.864   1.882  1.00  0.00          CU  \nATOM     16   Cu MOL     1       1.913   5.709  -0.116  1.00  0.00          CU  \nATOM     17   Cu MOL     1       0.205   3.599   3.736  1.00  0.00          CU  \nATOM     18   Cu MOL     1       0.229   5.310   5.552  1.00  0.00          CU  \nATOM     19   Cu MOL     1       1.984   3.818   5.374  1.00  0.00          CU  \nATOM     20   Cu MOL     1       1.987   5.654   3.582  1.00  0.00          CU  \nATOM     21   Cu MOL     1       0.163   3.623   7.288  1.00  0.00          CU  \nATOM     22   Cu MOL     1      -0.065   5.559   8.911  1.00  0.00          CU  \nATOM     23   Cu MOL     1       1.975   3.739   9.124  1.00  0.00          CU  \nATOM     24   Cu MOL     1       2.007   5.478   7.375  1.00  0.00          CU  \nATOM     25   Cu MOL     1       0.070   7.320  -0.089  1.00  0.00          CU  \nATOM     26   Cu MOL     1       0.024   8.974   1.924  1.00  0.00          CU  \nATOM     27   Cu MOL     1       1.925   7.337   1.840  1.00  0.00          CU  \nATOM     28   Cu MOL     1       1.952   8.987   0.035  1.00  0.00          CU  \nATOM     29   Cu MOL     1       0.108   7.304   3.744  1.00  0.00          CU  \nATOM     30   Cu MOL     1      -0.043   9.335   5.530  1.00  0.00          CU  \nATOM     31   Cu MOL     1       1.840   7.357   5.421  1.00  0.00          CU  \nATOM     32   Cu MOL     1       1.688   9.371   3.753  1.00  0.00          CU  \nATOM     33   Cu MOL     1       0.074   7.406   7.003  1.00  0.00          CU  \nATOM     34   Cu MOL     1       0.146   9.237   9.051  1.00  0.00          CU  \nATOM     35   Cu MOL     1       2.020   7.490   9.007  1.00  0.00          CU  \nATOM     36   Cu MOL     1       2.100   9.211   7.253  1.00  0.00          CU  \nATOM     37   Cu MOL     1       3.323   0.007   0.256  1.00  0.00          CU  \nATOM     38   Cu MOL     1       3.649   1.876   1.773  1.00  0.00          CU  \nATOM     39   Cu MOL     1       5.660   0.070   1.783  1.00  0.00          CU  \nATOM     40   Cu MOL     1       5.853   1.820   0.101  1.00  0.00          CU  \nATOM     41   Cu MOL     1       3.419  -0.149   3.287  1.00  0.00          CU  \nATOM     42   Cu MOL     1       3.659   1.858   5.361  1.00  0.00          CU  \nATOM     43   Cu MOL     1       5.292  -0.019   5.379  1.00  0.00          CU  \nATOM     44   Cu MOL     1       5.506   1.809   3.608  1.00  0.00          CU  \nATOM     45   Cu MOL     1       3.774   0.232   7.263  1.00  0.00          CU  \nATOM     46   Cu MOL     1       4.031   2.086   9.297  1.00  0.00          CU  \nATOM     47   Cu MOL     1       5.402   0.027   9.161  1.00  0.00          CU  \nATOM     48   Cu MOL     1       5.411   2.007   7.141  1.00  0.00          CU  \nATOM     49   Cu MOL     1       3.805   4.015  -0.056  1.00  0.00          CU  \nATOM     50   Cu MOL     1       3.756   5.466   1.841  1.00  0.00          CU  \nATOM     51   Cu MOL     1       5.488   3.496   1.827  1.00  0.00          CU  \nATOM     52   Cu MOL     1       5.486   5.551   0.103  1.00  0.00          CU  \nATOM     53   Cu MOL     1       3.772   3.727   3.528  1.00  0.00          CU  \nATOM     54   Cu MOL     1       3.801   5.671   5.499  1.00  0.00          CU  \nATOM     55   Cu MOL     1       5.427   3.692   5.496  1.00  0.00          CU  \nATOM     56   Cu MOL     1       5.396   5.588   3.645  1.00  0.00          CU  \nATOM     57   Cu MOL     1       3.588   3.671   7.152  1.00  0.00          CU  \nATOM     58   Cu MOL     1       3.866   5.610   8.959  1.00  0.00          CU  \nATOM     59   Cu MOL     1       5.911   3.856   9.100  1.00  0.00          CU  \nATOM     60   Cu MOL     1       5.471   5.396   7.227  1.00  0.00          CU  \nATOM     61   Cu MOL     1       3.784   7.086   0.019  1.00  0.00          CU  \nATOM     62   Cu MOL     1       3.694   9.288   1.842  1.00  0.00          CU  \nATOM     63   Cu MOL     1       5.565   7.434   1.846  1.00  0.00          CU  \nATOM     64   Cu MOL     1       5.396   8.971  -0.102  1.00  0.00          CU  \nATOM     65   Cu MOL     1       3.755   7.536   3.742  1.00  0.00          CU  \nATOM     66   Cu MOL     1       3.635   9.227   5.374  1.00  0.00          CU  \nATOM     67   Cu MOL     1       5.587   7.415   5.442  1.00  0.00          CU  \nATOM     68   Cu MOL     1       5.585   9.320   3.582  1.00  0.00          CU  \nATOM     69   Cu MOL     1       3.774   7.507   7.197  1.00  0.00          CU  \nATOM     70   Cu MOL     1       3.931   9.174   9.120  1.00  0.00          CU  \nATOM     71   Cu MOL     1       5.568   7.268   9.034  1.00  0.00          CU  \nATOM     72   Cu MOL     1       5.527   9.351   7.357  1.00  0.00          CU  \nATOM     73   Cu MOL     1       7.325  -0.110  -0.073  1.00  0.00          CU  \nATOM     74   Cu MOL     1       7.657   1.808   1.913  1.00  0.00          CU  \nATOM     75   Cu MOL     1       9.264   0.110   1.661  1.00  0.00          CU  \nATOM     76   Cu MOL     1       9.450   2.248  -0.109  1.00  0.00          CU  \nATOM     77   Cu MOL     1       7.402   0.079   3.634  1.00  0.00          CU  \nATOM     78   Cu MOL     1       7.218   1.835   5.400  1.00  0.00          CU  \nATOM     79   Cu MOL     1       9.103  -0.007   5.669  1.00  0.00          CU  \nATOM     80   Cu MOL     1       9.240   1.638   3.648  1.00  0.00          CU  \nATOM     81   Cu MOL     1       7.263   0.001   7.420  1.00  0.00          CU  \nATOM     82   Cu MOL     1       7.580   1.722   9.180  1.00  0.00          CU  \nATOM     83   Cu MOL     1       9.216  -0.086   9.072  1.00  0.00          CU  \nATOM     84   Cu MOL     1       9.332   1.873   7.268  1.00  0.00          CU  \nATOM     85   Cu MOL     1       7.481   3.687   0.052  1.00  0.00          CU  \nATOM     86   Cu MOL     1       7.038   5.502   1.994  1.00  0.00          CU  \nATOM     87   Cu MOL     1       8.941   3.811   2.101  1.00  0.00          CU  \nATOM     88   Cu MOL     1       9.264   5.611   0.145  1.00  0.00          CU  \nATOM     89   Cu MOL     1       7.167   3.514   3.804  1.00  0.00          CU  \nATOM     90   Cu MOL     1       7.484   5.781   5.578  1.00  0.00          CU  \nATOM     91   Cu MOL     1       9.471   3.388   5.315  1.00  0.00          CU  \nATOM     92   Cu MOL     1       9.004   5.516   3.579  1.00  0.00          CU  \nATOM     93   Cu MOL     1       7.550   4.003   7.200  1.00  0.00          CU  \nATOM     94   Cu MOL     1       7.828   5.533   8.846  1.00  0.00          CU  \nATOM     95   Cu MOL     1       9.177   3.679   8.975  1.00  0.00          CU  \nATOM     96   Cu MOL     1       9.482   5.479   7.027  1.00  0.00          CU  \nATOM     97   Cu MOL     1       7.459   7.427  -0.106  1.00  0.00          CU  \nATOM     98   Cu MOL     1       7.411   9.492   1.867  1.00  0.00          CU  \nATOM     99   Cu MOL     1       9.277   7.354   1.840  1.00  0.00          CU  \nATOM    100   Cu MOL     1       9.395   9.133  -0.227  1.00  0.00          CU  \nATOM    101   Cu MOL     1       7.306   7.409   3.618  1.00  0.00          CU  \nATOM    102   Cu MOL     1       7.367   9.354   5.388  1.00  0.00          CU  \nATOM    103   Cu MOL     1       9.243   7.384   5.418  1.00  0.00          CU  \nATOM    104   Cu MOL     1       9.058   9.277   3.831  1.00  0.00          CU  \nATOM    105   Cu MOL     1       7.422   7.456   7.342  1.00  0.00          CU  \nATOM    106   Cu MOL     1       7.209   9.313   9.017  1.00  0.00          CU  \nATOM    107   Cu MOL     1       9.329   7.340   9.073  1.00  0.00          CU  \nATOM    108   Cu MOL     1       9.384   9.109   7.500  1.00  0.00          CU  \nENDMDL\n",
           "ext": "pdb"
          }
         ],
         "kwargs": {},
         "methodName": "replaceStructure",
         "reconstruc_color_scheme": false,
         "target": "Widget",
         "type": "call_method"
        },
        {
         "args": [
          "this._Q = [[0.9999680373535356, 0.00777672183961065, 0.0018565744658954777], [-0.007787786893276072, 0.999951499517307, 0.006029012223758477], [-0.001809598470105944, -0.006043278126864131, 0.9999801018734614]]"
         ],
         "kwargs": {},
         "methodName": "executeCode",
         "reconstruc_color_scheme": false,
         "target": "Widget",
         "type": "call_method"
        }
       ],
       "_ngl_original_stage_parameters": {
        "ambientColor": 14540253,
        "ambientIntensity": 0.2,
        "backgroundColor": "white",
        "cameraEyeSep": 0.3,
        "cameraFov": 40,
        "cameraType": "perspective",
        "clipDist": 10,
        "clipFar": 100,
        "clipNear": 0,
        "fogFar": 100,
        "fogNear": 50,
        "hoverTimeout": 0,
        "impostor": true,
        "lightColor": 14540253,
        "lightIntensity": 1,
        "mousePreset": "default",
        "panSpeed": 1,
        "quality": "medium",
        "rotateSpeed": 2,
        "sampleLevel": 0,
        "tooltip": true,
        "workerDefault": true,
        "zoomSpeed": 1.2
       },
       "_ngl_repr_dict": {
        "0": {
         "0": {
          "params": {
           "clipCenter": {
            "x": 0,
            "y": 0,
            "z": 0
           },
           "clipNear": 0,
           "clipRadius": 0,
           "colorMode": "hcl",
           "colorReverse": false,
           "colorScale": "",
           "colorScheme": "element",
           "colorValue": "orange",
           "defaultAssembly": "",
           "depthWrite": true,
           "diffuse": 16777215,
           "diffuseInterior": false,
           "disableImpostor": false,
           "disablePicking": false,
           "flatShaded": false,
           "interiorColor": 2236962,
           "interiorDarkening": 0,
           "lazy": false,
           "matrix": {
            "elements": [
             1,
             0,
             0,
             0,
             0,
             1,
             0,
             0,
             0,
             0,
             1,
             0,
             0,
             0,
             0,
             1
            ]
           },
           "metalness": 0,
           "opacity": 1,
           "quality": "medium",
           "radialSegments": 10,
           "radiusData": {},
           "radiusScale": 1,
           "radiusSize": 0.05414999762302539,
           "radiusType": "vdw",
           "roughness": 0.4,
           "sele": "all",
           "side": "double",
           "sphereDetail": 1,
           "useInteriorColor": true,
           "visible": true,
           "wireframe": false
          },
          "type": "unitcell"
         },
         "1": {
          "params": {
           "assembly": "default",
           "clipCenter": {
            "x": 0,
            "y": 0,
            "z": 0
           },
           "clipNear": 0,
           "clipRadius": 0,
           "colorMode": "hcl",
           "colorReverse": false,
           "colorScale": "rainbow",
           "colorScheme": "element",
           "colorValue": 9474192,
           "defaultAssembly": "",
           "depthWrite": true,
           "diffuse": 16777215,
           "diffuseInterior": false,
           "disableImpostor": false,
           "disablePicking": false,
           "flatShaded": false,
           "interiorColor": 2236962,
           "interiorDarkening": 0,
           "lazy": false,
           "matrix": {
            "elements": [
             1,
             0,
             0,
             0,
             0,
             1,
             0,
             0,
             0,
             0,
             1,
             0,
             0,
             0,
             0,
             1
            ]
           },
           "metalness": 0,
           "opacity": 1,
           "quality": "medium",
           "radiusData": {},
           "radiusScale": 0.5,
           "radiusSize": 1,
           "radiusType": "covalent",
           "roughness": 0.4,
           "sele": "all",
           "side": "double",
           "sphereDetail": 1,
           "useInteriorColor": true,
           "visible": true,
           "wireframe": false
          },
          "type": "spacefill"
         }
        }
       },
       "_ngl_serialize": false,
       "_ngl_version": "2.0.0-dev.36",
       "_ngl_view_id": [
        "8E8219B1-46F2-418A-8666-55D07F906380"
       ],
       "_player_dict": {},
       "_scene_position": {},
       "_scene_rotation": {},
       "_synced_model_ids": [],
       "_synced_repr_model_ids": [],
       "_view_height": "",
       "_view_width": "",
       "background": "white",
       "frame": 19,
       "gui_style": null,
       "layout": "IPY_MODEL_69aff502549c4e2b86c8dc5cffd8201b",
       "max_frame": 19,
       "n_components": 1,
       "picked": {}
      }
     },
     "c8505fc37eeb401bb3bd575a117c3993": {
      "model_module": "@jupyter-widgets/controls",
      "model_module_version": "1.5.0",
      "model_name": "SliderStyleModel",
      "state": {
       "description_width": ""
      }
     },
     "c872d1949b5e46c4aaee38655977d481": {
      "model_module": "@jupyter-widgets/base",
      "model_module_version": "1.2.0",
      "model_name": "LayoutModel",
      "state": {}
     },
     "c8c1d743df404c6886868272c1fc1cb1": {
      "model_module": "@jupyter-widgets/base",
      "model_module_version": "1.2.0",
      "model_name": "LayoutModel",
      "state": {}
     },
     "ca270f4a25f541c986073fda381862b6": {
      "model_module": "@jupyter-widgets/base",
      "model_module_version": "1.2.0",
      "model_name": "LayoutModel",
      "state": {}
     },
     "ca699efe51c14bd881670ba05fef5416": {
      "model_module": "@jupyter-widgets/base",
      "model_module_version": "1.2.0",
      "model_name": "LayoutModel",
      "state": {}
     },
     "ceabb50539944b529f11f6105cb929fd": {
      "model_module": "@jupyter-widgets/controls",
      "model_module_version": "1.5.0",
      "model_name": "DescriptionStyleModel",
      "state": {
       "description_width": ""
      }
     },
     "d4b0853d81be4f4cac59a78af21b78a9": {
      "model_module": "@jupyter-widgets/controls",
      "model_module_version": "1.5.0",
      "model_name": "TextModel",
      "state": {
       "description": "Filename: ",
       "layout": "IPY_MODEL_de1f87e9330943228807560b92d00f57",
       "style": "IPY_MODEL_d83a408da8a94653844b7a4965575974",
       "value": "screenshot.png"
      }
     },
     "d83a408da8a94653844b7a4965575974": {
      "model_module": "@jupyter-widgets/controls",
      "model_module_version": "1.5.0",
      "model_name": "DescriptionStyleModel",
      "state": {
       "description_width": ""
      }
     },
     "d84b79caee5246258a54eb5f413e844a": {
      "model_module": "@jupyter-widgets/controls",
      "model_module_version": "1.5.0",
      "model_name": "LinkModel",
      "state": {
       "source": [
        "IPY_MODEL_74b65fabd5d54c6a9eb321576edf202f",
        "value"
       ],
       "target": [
        "IPY_MODEL_84c600727a504e4aa11de4fd76947dea",
        "value"
       ]
      }
     },
     "de1f87e9330943228807560b92d00f57": {
      "model_module": "@jupyter-widgets/base",
      "model_module_version": "1.2.0",
      "model_name": "LayoutModel",
      "state": {}
     },
     "de5e1af1030c485bae6535c8cf73d6ea": {
      "model_module": "@jupyter-widgets/controls",
      "model_module_version": "1.5.0",
      "model_name": "DescriptionStyleModel",
      "state": {
       "description_width": ""
      }
     },
     "ef17c77207d147a8be634b10999dc865": {
      "model_module": "@jupyter-widgets/controls",
      "model_module_version": "1.5.0",
      "model_name": "LinkModel",
      "state": {
       "source": [
        "IPY_MODEL_74b65fabd5d54c6a9eb321576edf202f",
        "value"
       ],
       "target": [
        "IPY_MODEL_c20252aa4a094c5f897433dc3103124b",
        "frame"
       ]
      }
     },
     "f6a44ed009c24a64a3292c7c334c68a9": {
      "model_module": "@jupyter-widgets/controls",
      "model_module_version": "1.5.0",
      "model_name": "VBoxModel",
      "state": {
       "children": [
        "IPY_MODEL_41963b25526e4b66be8843dfcea0d020",
        "IPY_MODEL_b5e10bba46164ed4951f6e6cadcf1155",
        "IPY_MODEL_45f4af47915a4e06afdf1c1f21404351",
        "IPY_MODEL_979806c2eb1d4183bc54f3107b53b0d8",
        "IPY_MODEL_d4b0853d81be4f4cac59a78af21b78a9",
        "IPY_MODEL_3a86bc0da1ae485bba4275a50cb7ae12",
        "IPY_MODEL_260ace3649214182b44c97d60271f97f",
        "IPY_MODEL_fec5e364a33d4d729577d172b0108bc6",
        "IPY_MODEL_bfed353a8198428a9f51bccfff93e9b3",
        "IPY_MODEL_27484e48f8eb4533a808957b911faa6a",
        "IPY_MODEL_701661a199fd46129e9aca348aa4a1e4"
       ],
       "layout": "IPY_MODEL_ca699efe51c14bd881670ba05fef5416"
      }
     },
     "f7c723dc2f164c1baecdc289937ac4d0": {
      "model_module": "@jupyter-widgets/controls",
      "model_module_version": "1.5.0",
      "model_name": "SliderStyleModel",
      "state": {
       "description_width": ""
      }
     },
     "f99661042da34ed58d9be4a346e5c3e5": {
      "model_module": "@jupyter-widgets/base",
      "model_module_version": "1.2.0",
      "model_name": "LayoutModel",
      "state": {}
     },
     "fec5e364a33d4d729577d172b0108bc6": {
      "model_module": "@jupyter-widgets/controls",
      "model_module_version": "1.5.0",
      "model_name": "FloatSliderModel",
      "state": {
       "description": "Force scale",
       "layout": "IPY_MODEL_30d86ac40be54de2aa4a1f4aaa4799dc",
       "step": 0.1,
       "style": "IPY_MODEL_c8505fc37eeb401bb3bd575a117c3993",
       "value": 0.5
      }
     }
    },
    "version_major": 2,
    "version_minor": 0
   }
  }
 },
 "nbformat": 4,
 "nbformat_minor": 5
}
