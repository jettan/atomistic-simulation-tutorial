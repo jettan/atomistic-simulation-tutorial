{
 "cells": [
  {
   "cell_type": "markdown",
   "id": "78d97d80-562f-4837-9f04-a5379198ef45",
   "metadata": {},
   "source": [
    "# おわりに\n",
    "\n",
    "ここまでの学習をおつかれさまでした。\n",
    "本チュートリアルを通して、原子シミュレーションをどのように行い、どのようなことを解析できるのか理解が深まり、\n",
    "さらに実践に進んでいく手助けとなれば幸いです。\n",
    "\n",
    "コンテンツはこれからも拡充予定です。<br/>\n",
    "より幅広いトピック・材料領域をカバーし、様々な計算手法を紹介していきたいと思っています。\n",
    "\n",
    "このtutorialでは、Matlantisの機能紹介ではなく、原子シミュレーションを学ぶことにフォーカスをしており、\n",
    "意図的に計算の流れがつかめるようにコードを書きました。<br/>\n",
    "Matlantisの製品を使用する場合、\n",
    "[Matlantis 製品ページ](https://matlantis.com/ja/product#features)の\"物性計算ライブラリ\"でも紹介されているように、\n",
    "製品の提供するライブラリを使用することで、より簡単に様々な物性値計算を行うことも可能です。\n",
    "\n",
    "## Further reading\n",
    "\n",
    "Tutorialの内容を理解した方は、以下のような応用例を読み進めていくと、最先端の材料探索に対する原子シミュレーション方法の理解が深まるでしょう。\n",
    "\n",
    " - [Matlantis 計算事例](https://matlantis.com/ja/cases#calculation): Matlantisを用いた計算事例を紹介しています。\n",
    " - [matlantis-pfcc/matlantis-contrib](https://github.com/matlantis-pfcc/matlantis-contrib): Matlantisを用いた計算コードを公開しています。\n",
    " - [Matlantisを用いた論文](https://matlantis.com/ja/cases#used): Matlantisを用いて書かれた論文リストです。\n"
   ]
  }
 ],
 "metadata": {
  "kernelspec": {
   "display_name": "Python 3.8",
   "language": "python",
   "name": "python38"
  },
  "language_info": {
   "codemirror_mode": {
    "name": "ipython",
    "version": 3
   },
   "file_extension": ".py",
   "mimetype": "text/x-python",
   "name": "python",
   "nbconvert_exporter": "python",
   "pygments_lexer": "ipython3",
   "version": "3.8.13"
  },
  "widgets": {
   "application/vnd.jupyter.widget-state+json": {
    "state": {},
    "version_major": 2,
    "version_minor": 0
   }
  }
 },
 "nbformat": 4,
 "nbformat_minor": 5
}
