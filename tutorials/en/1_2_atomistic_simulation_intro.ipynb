{
 "cells": [
  {
   "cell_type": "markdown",
   "id": "0930deac-1fc8-454c-8344-3400c163e4e7",
   "metadata": {},
   "source": [
    "# Atomistic simulation introduction\n",
    "\n",
    "What is \"atomistic simulation\", and what can be done with it?\n",
    "This section provides an overview.\n",
    "\n",
    "Various properties of materials can be explained at the atomic level. \n",
    "For example, mechanical properties (elastic constants, Young's modulus, etc.), thermophysical properties (specific heat, etc.), viscosity, chemical reactions, etc.\n",
    "Atomistic simulations can be used to reproduce how atoms move or to analyze how atoms are arranged in nature.\n",
    "\n",
    "We will explain the detail gradually, but for now, let's start with the following code."
   ]
  },
  {
   "cell_type": "markdown",
   "id": "9c06760a-fe73-4460-a8e3-fe5e35f01a55",
   "metadata": {},
   "source": [
    "## Initial setup"
   ]
  },
  {
   "cell_type": "markdown",
   "id": "e8df94b6-8839-4a6f-933b-f64e22a22ba4",
   "metadata": {},
   "source": [
    "The libraries required to run this tutorial can be installed by executing the following command in the Matlantis system.\n",
    "\n",
    " - `pfp-api-client`\n",
    " - `matlantis-features`\n",
    " - `pfcc-extras`\n",
    "\n",
    "are provided only inside Matlantis system.\n",
    "\n",
    "※For `pfcc-extras`, please copy the package from \"package launcher\", and install it by following the README.md located inside.<br/>\n",
    "※After installing these libraries, you may need to restart the kernel to reflect the installation. If the subsequent import fails despite the installation succeeded log, try restarting the kernel by selecting \"Restart kernel...\" from the top tab."
   ]
  },
  {
   "cell_type": "code",
   "execution_count": null,
   "id": "5d1a40be-42ed-4586-af6b-c17b1b0a0cfc",
   "metadata": {},
   "outputs": [],
   "source": [
    "!pip install -U pfp-api-client matlantis-features\n",
    "# !pip install -e ../pfcc-extras  # please specify the path"
   ]
  },
  {
   "cell_type": "markdown",
   "id": "941130d4-dd99-4f07-b870-2478553510a4",
   "metadata": {},
   "source": [
    "## Executing simple MD simulation example\n",
    "\n",
    "This is a sample MD (Molecular Dynamics) simulation for silicon dioxide (SiO2 crystal), a major component of the earth's surface.\n",
    "At this point, you do not need to understand the code at all. <br/>\n",
    "Seeing is believing, so let's run it and visualize it first. <br/>\n",
    "(By the end of this tutorial, you will be able to easily understand what this code is doing.)\n"
   ]
  },
  {
   "cell_type": "markdown",
   "id": "b1114ec2-116d-4109-9a2e-564348f2e352",
   "metadata": {},
   "source": [
    "Input cif file is from  \n",
    "A. Jain*, S.P. Ong*, G. Hautier, W. Chen, W.D. Richards, S. Dacek, S. Cholia, D. Gunter, D. Skinner, G. Ceder, K.A. Persson (*=equal contributions)  \n",
    "The Materials Project: A materials genome approach to accelerating materials innovation\n",
    "APL Materials, 2013, 1(1), 011002.  \n",
    "[doi:10.1063/1.4812323](http://dx.doi.org/10.1063/1.4812323)  \n",
    "[[bibtex]](https://materialsproject.org/static/docs/jain_ong2013.349ca3156250.bib)  \n",
    "Licensed under [CC BY 4.0](https://creativecommons.org/licenses/by/4.0/)  "
   ]
  },
  {
   "cell_type": "code",
   "execution_count": 2,
   "id": "779bcaa3-b8fb-4c5e-8495-e8bc652ce4a8",
   "metadata": {},
   "outputs": [
    {
     "name": "stdout",
     "output_type": "stream",
     "text": [
      "      Step     Time          Energy         fmax\n",
      "BFGS:    0 01:47:51      -57.136946        0.0206\n",
      "Dyn  step:   0, energy: -1523.124\n",
      "Dyn  step:  10, energy: -1523.067\n",
      "Dyn  step:  20, energy: -1523.070\n",
      "Dyn  step:  30, energy: -1523.098\n",
      "Dyn  step:  40, energy: -1523.075\n",
      "Dyn  step:  50, energy: -1523.080\n",
      "Dyn  step:  60, energy: -1523.089\n",
      "Dyn  step:  70, energy: -1523.081\n",
      "Dyn  step:  80, energy: -1523.082\n",
      "Dyn  step:  90, energy: -1523.083\n",
      "Dyn  step: 100, energy: -1523.088\n"
     ]
    },
    {
     "data": {
      "text/plain": [
       "True"
      ]
     },
     "execution_count": 2,
     "metadata": {},
     "output_type": "execute_result"
    }
   ],
   "source": [
    "from ase.md.velocitydistribution import MaxwellBoltzmannDistribution, Stationary\n",
    "from ase.md.verlet import VelocityVerlet\n",
    "from ase.optimize import BFGS\n",
    "from ase.io import Trajectory, read\n",
    "from ase import units\n",
    "\n",
    "from pfp_api_client.pfp.calculators.ase_calculator import ASECalculator\n",
    "from pfp_api_client.pfp.estimator import Estimator\n",
    "\n",
    "estimator = Estimator()\n",
    "calculator = ASECalculator(estimator)\n",
    "\n",
    "atoms = read(\"../input/SiO2_mp-6930_conventional_standard.cif\")\n",
    "atoms.calc = calculator\n",
    "\n",
    "\n",
    "opt = BFGS(atoms)\n",
    "opt.run()\n",
    "\n",
    "atoms = atoms * (3, 3, 3)\n",
    "atoms.calc = calculator\n",
    "# Set the momenta corresponding to T=700K.\n",
    "MaxwellBoltzmannDistribution(atoms, temperature_K=700.0)\n",
    "# Sets the center-of-mass momentum to zero.\n",
    "Stationary(atoms)\n",
    "# Run MD using the VelocityVerlet algorithm\n",
    "dyn = VelocityVerlet(atoms, 1.0 * units.fs, trajectory=\"output/dyn.traj\")\n",
    "\n",
    "def print_dyn():\n",
    "    print(f\"Dyn  step: {dyn.get_number_of_steps(): >3}, energy: {atoms.get_total_energy():.3f}\")\n",
    "\n",
    "dyn.attach(print_dyn, interval=10)\n",
    "dyn.run(100)"
   ]
  },
  {
   "cell_type": "code",
   "execution_count": 3,
   "id": "0991f16d-f335-469b-bc08-824099459ad0",
   "metadata": {},
   "outputs": [
    {
     "data": {
      "application/vnd.jupyter.widget-view+json": {
       "model_id": "f6cf55703d1b4ce196185ffd402c8021",
       "version_major": 2,
       "version_minor": 0
      },
      "text/plain": []
     },
     "metadata": {},
     "output_type": "display_data"
    },
    {
     "data": {
      "application/vnd.jupyter.widget-view+json": {
       "model_id": "1c5f5752aca8498ca30a48deb1112943",
       "version_major": 2,
       "version_minor": 0
      },
      "text/plain": [
       "HBox(children=(NGLWidget(max_frame=20), VBox(children=(Dropdown(description='Show', options=('All', 'Si', 'O')…"
      ]
     },
     "metadata": {},
     "output_type": "display_data"
    }
   ],
   "source": [
    "from pfcc_extras.visualize.view import view_ngl\n",
    "\n",
    "traj = Trajectory(\"output/dyn.traj\")[::5]\n",
    "view_ngl(traj, representations=[\"ball+stick\"])"
   ]
  },
  {
   "cell_type": "code",
   "execution_count": 4,
   "id": "8f040070-a0b7-45d1-8cde-7f4058377278",
   "metadata": {},
   "outputs": [
    {
     "name": "stderr",
     "output_type": "stream",
     "text": [
      "[Parallel(n_jobs=16)]: Using backend ThreadingBackend with 16 concurrent workers.\n",
      "[Parallel(n_jobs=16)]: Done  12 out of  21 | elapsed:   38.8s remaining:   29.1s\n",
      "[Parallel(n_jobs=16)]: Done  21 out of  21 | elapsed:   48.8s finished\n"
     ]
    },
    {
     "data": {
      "text/html": [
       "<img src=\"output/sio2-md.png\"/>"
      ],
      "text/plain": [
       "<IPython.core.display.Image object>"
      ]
     },
     "execution_count": 4,
     "metadata": {},
     "output_type": "execute_result"
    }
   ],
   "source": [
    "from pfcc_extras.visualize.povray import traj_to_gif, traj_to_apng\n",
    "from IPython.display import Image\n",
    "\n",
    "\n",
    "traj_to_apng(traj, \"output/sio2-md.png\", rotation=\"30x,30y,30z\", clean=True, n_jobs=16, width=600)\n",
    "Image(url=\"output/sio2-md.png\")  # , width=150"
   ]
  },
  {
   "cell_type": "markdown",
   "id": "972e33bc-af91-4ca3-8d32-8e1eb9393947",
   "metadata": {},
   "source": [
    "A technique called molecular dynamics is used to study the dynamics of atoms in SiO2 crystals at 700K.\n",
    "\n",
    "In the above example, we simulated 243 atoms.\n",
    "The volume is about $3 \\times 10^{-27}$m, and the length scale is about 15Å = ($15 \\times 10^{-10}$m) for each axis, which is many orders of magnitude smaller than the 1m scale that we deal with in our daily lives."
   ]
  },
  {
   "cell_type": "markdown",
   "id": "867a8658-125c-4ff2-93dc-e577338c55b1",
   "metadata": {},
   "source": [
    "One thing to consider here is that we cannot simulate on a computer the entire material we are dealing with on the same scale as it is.\n",
    "Even materials on the order of grams have [Avogadro’s number](https://en.wikipedia.org/wiki/Avogadro_constant), i.e., atoms on the order of $10^{23}$, and the computer cannot handle such a large number of atoms.\n",
    "\n",
    "Therefore, in atomistic simulations, it is necessary to perform appropriate **modeling** according to the phenomenon to create a simplified system that can be analyzed on a computer by extracting only the necessary elements to reproduce the desired phenomenon, rather than creating something exactly the same as the natural world.<br/>\n",
    "There are various methods for modeling, and you will be able to do them by learning through this tutorial.\n",
    "\n",
    "[Column] Modeling\n",
    "\n",
    "For example, if you want to simulate the Earth, if you are interested in weather, you would need to focus your modeling on the Earth's surface atmosphere. \n",
    "On the other hand, if you are interested in earthquakes, you would need to concentrate your modeling on the Earth's internal structure rather than the atmosphere. \n",
    "If you want to simulate the environment on the surface of the earth, you might consider cutting out only a portion of a continent rather than the entire planet."
   ]
  },
  {
   "cell_type": "markdown",
   "id": "e23406f7-4fc4-43f2-b024-fedf0ba48445",
   "metadata": {
    "tags": []
   },
   "source": [
    "Again, let's look at the simulation results. The ones that appear here include the following.\n",
    "\n",
    "- Atom\n",
    "   - Each atom is specified by **element number**, has an **xyz coordinate value**, and has a **velocity**.\n",
    "- **Cell**.\n",
    "   - The box is represented by the cube in the above figure. It allows us to deal with systems in which this cell follows the **periodic boundary condition** indefinitely.\n",
    "\n",
    "When dealing with a molecule floating in a vacuum, \n",
    "the cell periodic boundary condition is not necessary.\n",
    "For systems such as solids, which have a regular structure, the **periodic boundary condition** allows us to treat structures that extend infinitely in each of the x, y, and z axes (strictly speaking, the a, b, and c axes, which are the crystal axes).\n",
    "\n",
    "The cell & periodic boundary condition are artificial concepts for the convenience of computation and modeling.\n",
    "In reality, a crystal structure is considered to have a regular structure in the interior followed by another structure on the surface.\n",
    "However the surface is in a very different state compared to interior and has special characteristics, making computation difficult in some cases.\n",
    "Therefore, by artificially limiting our simulation to the world of cells and imposing the periodic boundary condition that the right end and the left end are connected, we can create a world that has no surface and continues repeatedly, so that we can deal with problems."
   ]
  },
  {
   "cell_type": "markdown",
   "id": "22f0b403-8bab-4d41-a501-aef1768ad4c1",
   "metadata": {},
   "source": [
    "In the next section, we will learn how to handle these structures with Python programs and perform atomistic simulations."
   ]
  }
 ],
 "metadata": {
  "kernelspec": {
   "display_name": "Python 3.8",
   "language": "python",
   "name": "python38"
  },
  "language_info": {
   "codemirror_mode": {
    "name": "ipython",
    "version": 3
   },
   "file_extension": ".py",
   "mimetype": "text/x-python",
   "name": "python",
   "nbconvert_exporter": "python",
   "pygments_lexer": "ipython3",
   "version": "3.8.13"
  },
  "widgets": {
   "application/vnd.jupyter.widget-state+json": {
    "state": {
     "0085ac698fe649eeb5ccfd0a86cdfcf5": {
      "model_module": "@jupyter-widgets/base",
      "model_module_version": "1.2.0",
      "model_name": "LayoutModel",
      "state": {}
     },
     "13f18f0f8b534cd79362b68da8933844": {
      "model_module": "@jupyter-widgets/base",
      "model_module_version": "1.2.0",
      "model_name": "LayoutModel",
      "state": {}
     },
     "141b8eddb6404b5f8af0a626e75de31c": {
      "model_module": "@jupyter-widgets/base",
      "model_module_version": "1.2.0",
      "model_name": "LayoutModel",
      "state": {
       "width": "34px"
      }
     },
     "14ceb8f052744faebabbc9868eb5daa7": {
      "model_module": "@jupyter-widgets/controls",
      "model_module_version": "1.5.0",
      "model_name": "ButtonModel",
      "state": {
       "icon": "compress",
       "layout": "IPY_MODEL_141b8eddb6404b5f8af0a626e75de31c",
       "style": "IPY_MODEL_4355be6a78e446fb872518551d753ba6"
      }
     },
     "190996a395ee4349a2e8fdf926c0cabd": {
      "model_module": "@jupyter-widgets/base",
      "model_module_version": "1.2.0",
      "model_name": "LayoutModel",
      "state": {}
     },
     "1c5f5752aca8498ca30a48deb1112943": {
      "model_module": "@jupyter-widgets/controls",
      "model_module_version": "1.5.0",
      "model_name": "HBoxModel",
      "state": {
       "children": [
        "IPY_MODEL_de3b40ad07d240fa9d18243717707b75",
        "IPY_MODEL_9ad9976d564b4e989379a407d2cb2baa"
       ],
       "layout": "IPY_MODEL_38bffbd5d65f4e0796e7523db4c5d284"
      }
     },
     "38bffbd5d65f4e0796e7523db4c5d284": {
      "model_module": "@jupyter-widgets/base",
      "model_module_version": "1.2.0",
      "model_name": "LayoutModel",
      "state": {}
     },
     "396d3a66efb747a9bb12f4162a85b1ca": {
      "model_module": "@jupyter-widgets/base",
      "model_module_version": "1.2.0",
      "model_name": "LayoutModel",
      "state": {}
     },
     "42ad9e05b3ab41c8ba027ba1027ab7e5": {
      "model_module": "@jupyter-widgets/controls",
      "model_module_version": "1.5.0",
      "model_name": "SliderStyleModel",
      "state": {
       "description_width": ""
      }
     },
     "4355be6a78e446fb872518551d753ba6": {
      "model_module": "@jupyter-widgets/controls",
      "model_module_version": "1.5.0",
      "model_name": "ButtonStyleModel",
      "state": {}
     },
     "437c1a4345054edfa7a5f79579dd36b1": {
      "model_module": "@jupyter-widgets/controls",
      "model_module_version": "1.5.0",
      "model_name": "DropdownModel",
      "state": {
       "_options_labels": [
        "All",
        "Si",
        "O"
       ],
       "description": "Show",
       "index": 0,
       "layout": "IPY_MODEL_9522ab6a7c034908bf8db5b124a80798",
       "style": "IPY_MODEL_d63ed389188f45bd8d75e45538549afd"
      }
     },
     "44b6773a616843cf9e4b2e965b1700e1": {
      "model_module": "@jupyter-widgets/base",
      "model_module_version": "1.2.0",
      "model_name": "LayoutModel",
      "state": {}
     },
     "4e8fc6247b0745f3875e80118c29dbee": {
      "model_module": "@jupyter-widgets/base",
      "model_module_version": "1.2.0",
      "model_name": "LayoutModel",
      "state": {}
     },
     "5215ad4f60db467e831cd8dd84af2a42": {
      "model_module": "@jupyter-widgets/controls",
      "model_module_version": "1.5.0",
      "model_name": "ButtonStyleModel",
      "state": {}
     },
     "57f7a0fc2ffd45a0896ecf6ab8208224": {
      "model_module": "@jupyter-widgets/controls",
      "model_module_version": "1.5.0",
      "model_name": "FloatSliderModel",
      "state": {
       "description": "Charge scale",
       "layout": "IPY_MODEL_89901abf191a420e9a309a926bdf5a26",
       "step": 0.1,
       "style": "IPY_MODEL_dce7b36ab3864084b02464874322d541",
       "value": 1
      }
     },
     "5b10f5d01ac24ef9a1fde9e8ead1e864": {
      "model_module": "@jupyter-widgets/output",
      "model_module_version": "1.0.0",
      "model_name": "OutputModel",
      "state": {
       "layout": "IPY_MODEL_b89d02fc255c4b228c0b5e4fb509656f"
      }
     },
     "5b6f7b764a764099b1317ff6798cc9a3": {
      "model_module": "@jupyter-widgets/controls",
      "model_module_version": "1.5.0",
      "model_name": "DescriptionStyleModel",
      "state": {
       "description_width": ""
      }
     },
     "617ecddf249d4eb9adf0c0eb9162b5d1": {
      "model_module": "@jupyter-widgets/base",
      "model_module_version": "1.2.0",
      "model_name": "LayoutModel",
      "state": {}
     },
     "65a0588f4aff419d9f4f0b358a8f0a52": {
      "model_module": "@jupyter-widgets/controls",
      "model_module_version": "1.5.0",
      "model_name": "ButtonStyleModel",
      "state": {}
     },
     "734279e31cea4569af1825cc0cc6b2b9": {
      "model_module": "@jupyter-widgets/base",
      "model_module_version": "1.2.0",
      "model_name": "LayoutModel",
      "state": {}
     },
     "7528347e973648beb113f5057c2ef28a": {
      "model_module": "@jupyter-widgets/controls",
      "model_module_version": "1.5.0",
      "model_name": "IntSliderModel",
      "state": {
       "layout": "IPY_MODEL_4e8fc6247b0745f3875e80118c29dbee",
       "max": 20,
       "style": "IPY_MODEL_f0d1c5b2b8854fc4bb7a50a85eb026e8"
      }
     },
     "78531d1011f04ca48de858fda7be5286": {
      "model_module": "@jupyter-widgets/base",
      "model_module_version": "1.2.0",
      "model_name": "LayoutModel",
      "state": {}
     },
     "7d138ebfb4824eae9555b806e57928f9": {
      "model_module": "@jupyter-widgets/controls",
      "model_module_version": "1.5.0",
      "model_name": "DropdownModel",
      "state": {
       "_options_labels": [
        " ",
        "picking",
        "random",
        "uniform",
        "atomindex",
        "residueindex",
        "chainindex",
        "modelindex",
        "sstruc",
        "element",
        "resname",
        "bfactor",
        "hydrophobicity",
        "value",
        "volume",
        "occupancy"
       ],
       "description": "Color scheme",
       "index": 9,
       "layout": "IPY_MODEL_396d3a66efb747a9bb12f4162a85b1ca",
       "style": "IPY_MODEL_5b6f7b764a764099b1317ff6798cc9a3"
      }
     },
     "7e3223d74a1a4b2588d21634a41e8c77": {
      "model_module": "@jupyter-widgets/controls",
      "model_module_version": "1.5.0",
      "model_name": "PlayModel",
      "state": {
       "layout": "IPY_MODEL_0085ac698fe649eeb5ccfd0a86cdfcf5",
       "max": 20,
       "style": "IPY_MODEL_876f304fd7624469a797d8952f997e6b"
      }
     },
     "876f304fd7624469a797d8952f997e6b": {
      "model_module": "@jupyter-widgets/controls",
      "model_module_version": "1.5.0",
      "model_name": "DescriptionStyleModel",
      "state": {
       "description_width": ""
      }
     },
     "88898a4cb2fd4135998a0a2051c472aa": {
      "model_module": "@jupyter-widgets/base",
      "model_module_version": "1.2.0",
      "model_name": "LayoutModel",
      "state": {}
     },
     "89901abf191a420e9a309a926bdf5a26": {
      "model_module": "@jupyter-widgets/base",
      "model_module_version": "1.2.0",
      "model_name": "LayoutModel",
      "state": {}
     },
     "9522ab6a7c034908bf8db5b124a80798": {
      "model_module": "@jupyter-widgets/base",
      "model_module_version": "1.2.0",
      "model_name": "LayoutModel",
      "state": {}
     },
     "97b7e55c994c4b43ba73d058af2f320a": {
      "model_module": "@jupyter-widgets/controls",
      "model_module_version": "1.5.0",
      "model_name": "ButtonModel",
      "state": {
       "description": "Save image",
       "layout": "IPY_MODEL_a163b3ba07a842df97042a25c41267c7",
       "style": "IPY_MODEL_5215ad4f60db467e831cd8dd84af2a42",
       "tooltip": "Save current frame to file.\nCurrently .png and .html are supported.\nIt takes a bit time, please be patient."
      }
     },
     "9ad9976d564b4e989379a407d2cb2baa": {
      "model_module": "@jupyter-widgets/controls",
      "model_module_version": "1.5.0",
      "model_name": "VBoxModel",
      "state": {
       "children": [
        "IPY_MODEL_437c1a4345054edfa7a5f79579dd36b1",
        "IPY_MODEL_7d138ebfb4824eae9555b806e57928f9",
        "IPY_MODEL_dd8d7fa66a8342859bf2aa91ebb10d2e",
        "IPY_MODEL_b4fede6ace3f46d9a83c722c76e13d5b",
        "IPY_MODEL_d3af7cbc2bb8496ab440916ca682a067",
        "IPY_MODEL_ec6942265b33488f87e6c134c5e4c3f6",
        "IPY_MODEL_b084f1b641094becb908b0f6d13f94fa",
        "IPY_MODEL_cdbd2810d7f14fdcab24d9b5f751cf40",
        "IPY_MODEL_aa15de51ffe7466093332c8602118884",
        "IPY_MODEL_57f7a0fc2ffd45a0896ecf6ab8208224",
        "IPY_MODEL_5b10f5d01ac24ef9a1fde9e8ead1e864"
       ],
       "layout": "IPY_MODEL_78531d1011f04ca48de858fda7be5286"
      }
     },
     "9adbf70591cf48f790752ce67b89ee3e": {
      "model_module": "@jupyter-widgets/base",
      "model_module_version": "1.2.0",
      "model_name": "LayoutModel",
      "state": {}
     },
     "a163b3ba07a842df97042a25c41267c7": {
      "model_module": "@jupyter-widgets/base",
      "model_module_version": "1.2.0",
      "model_name": "LayoutModel",
      "state": {}
     },
     "a1fe3bcd8ec14b3eb8c196430fc595b2": {
      "model_module": "@jupyter-widgets/controls",
      "model_module_version": "1.5.0",
      "model_name": "LinkModel",
      "state": {
       "source": [
        "IPY_MODEL_7528347e973648beb113f5057c2ef28a",
        "max"
       ],
       "target": [
        "IPY_MODEL_de3b40ad07d240fa9d18243717707b75",
        "max_frame"
       ]
      }
     },
     "a44b572f816c4037979cab4d532ed8a6": {
      "model_module": "@jupyter-widgets/controls",
      "model_module_version": "1.5.0",
      "model_name": "DescriptionStyleModel",
      "state": {
       "description_width": ""
      }
     },
     "a5ea5f8d3fcc4f6994994550913c8929": {
      "model_module": "@jupyter-widgets/controls",
      "model_module_version": "1.5.0",
      "model_name": "SliderStyleModel",
      "state": {
       "description_width": ""
      }
     },
     "a6268a1dd8b649e3a306d63169516d1d": {
      "model_module": "@jupyter-widgets/controls",
      "model_module_version": "1.5.0",
      "model_name": "DescriptionStyleModel",
      "state": {
       "description_width": ""
      }
     },
     "a95fda6ad04743abad709d44a48d6f41": {
      "model_module": "@jupyter-widgets/controls",
      "model_module_version": "1.5.0",
      "model_name": "ButtonModel",
      "state": {
       "description": "Download image",
       "layout": "IPY_MODEL_beffd4e3e2ab4f43b04a664aefdd5329",
       "style": "IPY_MODEL_65a0588f4aff419d9f4f0b358a8f0a52",
       "tooltip": "Download current frame to your local PC"
      }
     },
     "aa15de51ffe7466093332c8602118884": {
      "model_module": "@jupyter-widgets/controls",
      "model_module_version": "1.5.0",
      "model_name": "CheckboxModel",
      "state": {
       "description": "Show charge",
       "disabled": false,
       "layout": "IPY_MODEL_9adbf70591cf48f790752ce67b89ee3e",
       "style": "IPY_MODEL_a44b572f816c4037979cab4d532ed8a6",
       "value": false
      }
     },
     "aedd79df6b9b4369bf61056b0de14e3d": {
      "model_module": "@jupyter-widgets/controls",
      "model_module_version": "1.5.0",
      "model_name": "LinkModel",
      "state": {
       "source": [
        "IPY_MODEL_7e3223d74a1a4b2588d21634a41e8c77",
        "value"
       ],
       "target": [
        "IPY_MODEL_de3b40ad07d240fa9d18243717707b75",
        "frame"
       ]
      }
     },
     "b084f1b641094becb908b0f6d13f94fa": {
      "model_module": "@jupyter-widgets/controls",
      "model_module_version": "1.5.0",
      "model_name": "CheckboxModel",
      "state": {
       "description": "Show force",
       "disabled": false,
       "layout": "IPY_MODEL_88898a4cb2fd4135998a0a2051c472aa",
       "style": "IPY_MODEL_a6268a1dd8b649e3a306d63169516d1d",
       "value": false
      }
     },
     "b4fede6ace3f46d9a83c722c76e13d5b": {
      "model_module": "@jupyter-widgets/controls",
      "model_module_version": "1.5.0",
      "model_name": "IntSliderModel",
      "state": {
       "layout": "IPY_MODEL_13f18f0f8b534cd79362b68da8933844",
       "max": 20,
       "style": "IPY_MODEL_42ad9e05b3ab41c8ba027ba1027ab7e5"
      }
     },
     "b89d02fc255c4b228c0b5e4fb509656f": {
      "model_module": "@jupyter-widgets/base",
      "model_module_version": "1.2.0",
      "model_name": "LayoutModel",
      "state": {
       "border": "0px solid black"
      }
     },
     "beffd4e3e2ab4f43b04a664aefdd5329": {
      "model_module": "@jupyter-widgets/base",
      "model_module_version": "1.2.0",
      "model_name": "LayoutModel",
      "state": {}
     },
     "bfdbe49048a44bdd91b319e37a1200a6": {
      "model_module": "@jupyter-widgets/controls",
      "model_module_version": "1.5.0",
      "model_name": "LinkModel",
      "state": {
       "source": [
        "IPY_MODEL_7e3223d74a1a4b2588d21634a41e8c77",
        "value"
       ],
       "target": [
        "IPY_MODEL_7528347e973648beb113f5057c2ef28a",
        "value"
       ]
      }
     },
     "c43c8f08a30f43ba943389ba6e4bb40c": {
      "model_module": "@jupyter-widgets/controls",
      "model_module_version": "1.5.0",
      "model_name": "ImageModel",
      "state": {
       "layout": "IPY_MODEL_fd7524c33d2a4fe9b8a20640df79701d",
       "width": "900.0"
      }
     },
     "cafc11e902fb4ec3b3b6cebf1f9774c0": {
      "model_module": "@jupyter-widgets/base",
      "model_module_version": "1.2.0",
      "model_name": "LayoutModel",
      "state": {}
     },
     "cd56cc424a124447a85c0befa9d5e588": {
      "model_module": "@jupyter-widgets/controls",
      "model_module_version": "1.5.0",
      "model_name": "DescriptionStyleModel",
      "state": {
       "description_width": ""
      }
     },
     "cdbd2810d7f14fdcab24d9b5f751cf40": {
      "model_module": "@jupyter-widgets/controls",
      "model_module_version": "1.5.0",
      "model_name": "FloatSliderModel",
      "state": {
       "description": "Force scale",
       "layout": "IPY_MODEL_190996a395ee4349a2e8fdf926c0cabd",
       "step": 0.1,
       "style": "IPY_MODEL_e4acebf0251949a79e2d2aa8057edf87",
       "value": 0.5
      }
     },
     "d0431fb273a04bea93712e58663e3540": {
      "model_module": "@jupyter-widgets/base",
      "model_module_version": "1.2.0",
      "model_name": "LayoutModel",
      "state": {}
     },
     "d3af7cbc2bb8496ab440916ca682a067": {
      "model_module": "@jupyter-widgets/controls",
      "model_module_version": "1.5.0",
      "model_name": "TextModel",
      "state": {
       "description": "Filename: ",
       "layout": "IPY_MODEL_efdd993bd0c742199935a72e41961e8b",
       "style": "IPY_MODEL_cd56cc424a124447a85c0befa9d5e588",
       "value": "screenshot.png"
      }
     },
     "d63ed389188f45bd8d75e45538549afd": {
      "model_module": "@jupyter-widgets/controls",
      "model_module_version": "1.5.0",
      "model_name": "DescriptionStyleModel",
      "state": {
       "description_width": ""
      }
     },
     "dce7b36ab3864084b02464874322d541": {
      "model_module": "@jupyter-widgets/controls",
      "model_module_version": "1.5.0",
      "model_name": "SliderStyleModel",
      "state": {
       "description_width": ""
      }
     },
     "dd8d7fa66a8342859bf2aa91ebb10d2e": {
      "model_module": "@jupyter-widgets/controls",
      "model_module_version": "1.5.0",
      "model_name": "FloatSliderModel",
      "state": {
       "description": "Ball size",
       "layout": "IPY_MODEL_734279e31cea4569af1825cc0cc6b2b9",
       "max": 1.5,
       "step": 0.01,
       "style": "IPY_MODEL_a5ea5f8d3fcc4f6994994550913c8929",
       "value": 0.5
      }
     },
     "de3b40ad07d240fa9d18243717707b75": {
      "model_module": "nglview-js-widgets",
      "model_module_version": "3.0.1",
      "model_name": "NGLModel",
      "state": {
       "_camera_orientation": [
        34.13789706421969,
        0.6876789321143174,
        3.756484195189832,
        0,
        -3.7957472631338622,
        9.825885137227287,
        32.69593821522901,
        0,
        -0.4199744477902054,
        -32.908345001625186,
        9.840962478683753,
        0,
        -3.894500255584717,
        -6.18149995803833,
        -7.921500205993652,
        1
       ],
       "_camera_str": "orthographic",
       "_gui_theme": null,
       "_ibtn_fullscreen": "IPY_MODEL_14ceb8f052744faebabbc9868eb5daa7",
       "_igui": null,
       "_iplayer": "IPY_MODEL_e2f18d2e66324a269e51da159b6d4bf3",
       "_ngl_color_dict": {},
       "_ngl_coordinate_resource": {},
       "_ngl_full_stage_parameters": {
        "ambientColor": 14540253,
        "ambientIntensity": 0.2,
        "backgroundColor": "white",
        "cameraEyeSep": 0.3,
        "cameraFov": 40,
        "cameraType": "orthographic",
        "clipDist": 0,
        "clipFar": 100,
        "clipNear": 0,
        "fogFar": 100,
        "fogNear": 50,
        "hoverTimeout": 0,
        "impostor": true,
        "lightColor": 14540253,
        "lightIntensity": 1,
        "mousePreset": "default",
        "panSpeed": 1,
        "quality": "medium",
        "rotateSpeed": 2,
        "sampleLevel": 0,
        "tooltip": true,
        "workerDefault": true,
        "zoomSpeed": 1.2
       },
       "_ngl_msg_archive": [
        {
         "args": [
          {
           "binary": false,
           "data": "CRYST1   15.083   15.083   16.557  90.00  90.00 120.00 P 1\nMODEL     1\nATOM      1   Si MOL     1       1.314   2.276   0.000  1.00  0.00          SI  \nATOM      2   Si MOL     1       2.400   0.000   3.679  1.00  0.00          SI  \nATOM      3   Si MOL     1       3.828   2.078   1.840  1.00  0.00          SI  \nATOM      4    O MOL     1       0.831   3.654   4.805  1.00  0.00           O  \nATOM      5    O MOL     1      -1.066   3.247   2.966  1.00  0.00           O  \nATOM      6    O MOL     1       0.235   1.807   1.126  1.00  0.00           O  \nATOM      7    O MOL     1       2.749   2.547   0.714  1.00  0.00           O  \nATOM      8    O MOL     1       3.345   0.700   2.553  1.00  0.00           O  \nATOM      9    O MOL     1       1.447   1.107   4.393  1.00  0.00           O  \nATOM     10   Si MOL     1       1.314   2.276   5.519  1.00  0.00          SI  \nATOM     11   Si MOL     1       2.400   0.000   9.198  1.00  0.00          SI  \nATOM     12   Si MOL     1       3.828   2.078   7.359  1.00  0.00          SI  \nATOM     13    O MOL     1       0.831   3.654  10.324  1.00  0.00           O  \nATOM     14    O MOL     1      -1.066   3.247   8.484  1.00  0.00           O  \nATOM     15    O MOL     1       0.235   1.807   6.645  1.00  0.00           O  \nATOM     16    O MOL     1       2.749   2.547   6.233  1.00  0.00           O  \nATOM     17    O MOL     1       3.345   0.700   8.072  1.00  0.00           O  \nATOM     18    O MOL     1       1.447   1.107   9.912  1.00  0.00           O  \nATOM     19   Si MOL     1       1.314   2.276  11.038  1.00  0.00          SI  \nATOM     20   Si MOL     1       2.400   0.000  14.717  1.00  0.00          SI  \nATOM     21   Si MOL     1       3.828   2.078  12.877  1.00  0.00          SI  \nATOM     22    O MOL     1       0.831   3.654  15.843  1.00  0.00           O  \nATOM     23    O MOL     1      -1.066   3.247  14.003  1.00  0.00           O  \nATOM     24    O MOL     1       0.235   1.807  12.164  1.00  0.00           O  \nATOM     25    O MOL     1       2.749   2.547  11.752  1.00  0.00           O  \nATOM     26    O MOL     1       3.345   0.700  13.591  1.00  0.00           O  \nATOM     27    O MOL     1       1.447   1.107  15.431  1.00  0.00           O  \nATOM     28   Si MOL     1      -1.200   6.630   0.000  1.00  0.00          SI  \nATOM     29   Si MOL     1      -0.114   4.354   3.679  1.00  0.00          SI  \nATOM     30   Si MOL     1       1.314   6.432   1.840  1.00  0.00          SI  \nATOM     31    O MOL     1      -1.683   8.008   4.805  1.00  0.00           O  \nATOM     32    O MOL     1      -3.580   7.601   2.966  1.00  0.00           O  \nATOM     33    O MOL     1      -2.279   6.161   1.126  1.00  0.00           O  \nATOM     34    O MOL     1       0.235   6.901   0.714  1.00  0.00           O  \nATOM     35    O MOL     1       0.831   5.054   2.553  1.00  0.00           O  \nATOM     36    O MOL     1      -1.066   5.461   4.393  1.00  0.00           O  \nATOM     37   Si MOL     1      -1.200   6.630   5.519  1.00  0.00          SI  \nATOM     38   Si MOL     1      -0.114   4.354   9.198  1.00  0.00          SI  \nATOM     39   Si MOL     1       1.314   6.432   7.359  1.00  0.00          SI  \nATOM     40    O MOL     1      -1.683   8.008  10.324  1.00  0.00           O  \nATOM     41    O MOL     1      -3.580   7.601   8.484  1.00  0.00           O  \nATOM     42    O MOL     1      -2.279   6.161   6.645  1.00  0.00           O  \nATOM     43    O MOL     1       0.235   6.901   6.233  1.00  0.00           O  \nATOM     44    O MOL     1       0.831   5.054   8.072  1.00  0.00           O  \nATOM     45    O MOL     1      -1.066   5.461   9.912  1.00  0.00           O  \nATOM     46   Si MOL     1      -1.200   6.630  11.038  1.00  0.00          SI  \nATOM     47   Si MOL     1      -0.114   4.354  14.717  1.00  0.00          SI  \nATOM     48   Si MOL     1       1.314   6.432  12.877  1.00  0.00          SI  \nATOM     49    O MOL     1      -1.683   8.008  15.843  1.00  0.00           O  \nATOM     50    O MOL     1      -3.580   7.601  14.003  1.00  0.00           O  \nATOM     51    O MOL     1      -2.279   6.161  12.164  1.00  0.00           O  \nATOM     52    O MOL     1       0.235   6.901  11.752  1.00  0.00           O  \nATOM     53    O MOL     1       0.831   5.054  13.591  1.00  0.00           O  \nATOM     54    O MOL     1      -1.066   5.461  15.431  1.00  0.00           O  \nATOM     55   Si MOL     1      -3.714  10.984   0.000  1.00  0.00          SI  \nATOM     56   Si MOL     1      -2.628   8.708   3.679  1.00  0.00          SI  \nATOM     57   Si MOL     1      -1.200  10.787   1.840  1.00  0.00          SI  \nATOM     58    O MOL     1      -4.197  12.363   4.805  1.00  0.00           O  \nATOM     59    O MOL     1      -6.094  11.955   2.966  1.00  0.00           O  \nATOM     60    O MOL     1      -4.793  10.516   1.126  1.00  0.00           O  \nATOM     61    O MOL     1      -2.279  11.255   0.714  1.00  0.00           O  \nATOM     62    O MOL     1      -1.683   9.408   2.553  1.00  0.00           O  \nATOM     63    O MOL     1      -3.580   9.816   4.393  1.00  0.00           O  \nATOM     64   Si MOL     1      -3.714  10.984   5.519  1.00  0.00          SI  \nATOM     65   Si MOL     1      -2.628   8.708   9.198  1.00  0.00          SI  \nATOM     66   Si MOL     1      -1.200  10.787   7.359  1.00  0.00          SI  \nATOM     67    O MOL     1      -4.197  12.363  10.324  1.00  0.00           O  \nATOM     68    O MOL     1      -6.094  11.955   8.484  1.00  0.00           O  \nATOM     69    O MOL     1      -4.793  10.516   6.645  1.00  0.00           O  \nATOM     70    O MOL     1      -2.279  11.255   6.233  1.00  0.00           O  \nATOM     71    O MOL     1      -1.683   9.408   8.072  1.00  0.00           O  \nATOM     72    O MOL     1      -3.580   9.816   9.912  1.00  0.00           O  \nATOM     73   Si MOL     1      -3.714  10.984  11.038  1.00  0.00          SI  \nATOM     74   Si MOL     1      -2.628   8.708  14.717  1.00  0.00          SI  \nATOM     75   Si MOL     1      -1.200  10.787  12.877  1.00  0.00          SI  \nATOM     76    O MOL     1      -4.197  12.363  15.843  1.00  0.00           O  \nATOM     77    O MOL     1      -6.094  11.955  14.003  1.00  0.00           O  \nATOM     78    O MOL     1      -4.793  10.516  12.164  1.00  0.00           O  \nATOM     79    O MOL     1      -2.279  11.255  11.752  1.00  0.00           O  \nATOM     80    O MOL     1      -1.683   9.408  13.591  1.00  0.00           O  \nATOM     81    O MOL     1      -3.580   9.816  15.431  1.00  0.00           O  \nATOM     82   Si MOL     1       6.342   2.276   0.000  1.00  0.00          SI  \nATOM     83   Si MOL     1       7.427   0.000   3.679  1.00  0.00          SI  \nATOM     84   Si MOL     1       8.856   2.078   1.840  1.00  0.00          SI  \nATOM     85    O MOL     1       5.859   3.654   4.805  1.00  0.00           O  \nATOM     86    O MOL     1       3.961   3.247   2.966  1.00  0.00           O  \nATOM     87    O MOL     1       5.263   1.807   1.126  1.00  0.00           O  \nATOM     88    O MOL     1       7.777   2.547   0.714  1.00  0.00           O  \nATOM     89    O MOL     1       8.373   0.700   2.553  1.00  0.00           O  \nATOM     90    O MOL     1       6.475   1.107   4.393  1.00  0.00           O  \nATOM     91   Si MOL     1       6.342   2.276   5.519  1.00  0.00          SI  \nATOM     92   Si MOL     1       7.427   0.000   9.198  1.00  0.00          SI  \nATOM     93   Si MOL     1       8.856   2.078   7.359  1.00  0.00          SI  \nATOM     94    O MOL     1       5.859   3.654  10.324  1.00  0.00           O  \nATOM     95    O MOL     1       3.961   3.247   8.484  1.00  0.00           O  \nATOM     96    O MOL     1       5.263   1.807   6.645  1.00  0.00           O  \nATOM     97    O MOL     1       7.777   2.547   6.233  1.00  0.00           O  \nATOM     98    O MOL     1       8.373   0.700   8.072  1.00  0.00           O  \nATOM     99    O MOL     1       6.475   1.107   9.912  1.00  0.00           O  \nATOM    100   Si MOL     1       6.342   2.276  11.038  1.00  0.00          SI  \nATOM    101   Si MOL     1       7.427   0.000  14.717  1.00  0.00          SI  \nATOM    102   Si MOL     1       8.856   2.078  12.877  1.00  0.00          SI  \nATOM    103    O MOL     1       5.859   3.654  15.843  1.00  0.00           O  \nATOM    104    O MOL     1       3.961   3.247  14.003  1.00  0.00           O  \nATOM    105    O MOL     1       5.263   1.807  12.164  1.00  0.00           O  \nATOM    106    O MOL     1       7.777   2.547  11.752  1.00  0.00           O  \nATOM    107    O MOL     1       8.373   0.700  13.591  1.00  0.00           O  \nATOM    108    O MOL     1       6.475   1.107  15.431  1.00  0.00           O  \nATOM    109   Si MOL     1       3.828   6.630   0.000  1.00  0.00          SI  \nATOM    110   Si MOL     1       4.914   4.354   3.679  1.00  0.00          SI  \nATOM    111   Si MOL     1       6.342   6.432   1.840  1.00  0.00          SI  \nATOM    112    O MOL     1       3.345   8.008   4.805  1.00  0.00           O  \nATOM    113    O MOL     1       1.447   7.601   2.966  1.00  0.00           O  \nATOM    114    O MOL     1       2.749   6.161   1.126  1.00  0.00           O  \nATOM    115    O MOL     1       5.263   6.901   0.714  1.00  0.00           O  \nATOM    116    O MOL     1       5.859   5.054   2.553  1.00  0.00           O  \nATOM    117    O MOL     1       3.961   5.461   4.393  1.00  0.00           O  \nATOM    118   Si MOL     1       3.828   6.630   5.519  1.00  0.00          SI  \nATOM    119   Si MOL     1       4.914   4.354   9.198  1.00  0.00          SI  \nATOM    120   Si MOL     1       6.342   6.432   7.359  1.00  0.00          SI  \nATOM    121    O MOL     1       3.345   8.008  10.324  1.00  0.00           O  \nATOM    122    O MOL     1       1.447   7.601   8.484  1.00  0.00           O  \nATOM    123    O MOL     1       2.749   6.161   6.645  1.00  0.00           O  \nATOM    124    O MOL     1       5.263   6.901   6.233  1.00  0.00           O  \nATOM    125    O MOL     1       5.859   5.054   8.072  1.00  0.00           O  \nATOM    126    O MOL     1       3.961   5.461   9.912  1.00  0.00           O  \nATOM    127   Si MOL     1       3.828   6.630  11.038  1.00  0.00          SI  \nATOM    128   Si MOL     1       4.914   4.354  14.717  1.00  0.00          SI  \nATOM    129   Si MOL     1       6.342   6.432  12.877  1.00  0.00          SI  \nATOM    130    O MOL     1       3.345   8.008  15.843  1.00  0.00           O  \nATOM    131    O MOL     1       1.447   7.601  14.003  1.00  0.00           O  \nATOM    132    O MOL     1       2.749   6.161  12.164  1.00  0.00           O  \nATOM    133    O MOL     1       5.263   6.901  11.752  1.00  0.00           O  \nATOM    134    O MOL     1       5.859   5.054  13.591  1.00  0.00           O  \nATOM    135    O MOL     1       3.961   5.461  15.431  1.00  0.00           O  \nATOM    136   Si MOL     1       1.314  10.984   0.000  1.00  0.00          SI  \nATOM    137   Si MOL     1       2.400   8.708   3.679  1.00  0.00          SI  \nATOM    138   Si MOL     1       3.828  10.787   1.840  1.00  0.00          SI  \nATOM    139    O MOL     1       0.831  12.363   4.805  1.00  0.00           O  \nATOM    140    O MOL     1      -1.066  11.955   2.966  1.00  0.00           O  \nATOM    141    O MOL     1       0.235  10.516   1.126  1.00  0.00           O  \nATOM    142    O MOL     1       2.749  11.255   0.714  1.00  0.00           O  \nATOM    143    O MOL     1       3.345   9.408   2.553  1.00  0.00           O  \nATOM    144    O MOL     1       1.447   9.816   4.393  1.00  0.00           O  \nATOM    145   Si MOL     1       1.314  10.984   5.519  1.00  0.00          SI  \nATOM    146   Si MOL     1       2.400   8.708   9.198  1.00  0.00          SI  \nATOM    147   Si MOL     1       3.828  10.787   7.359  1.00  0.00          SI  \nATOM    148    O MOL     1       0.831  12.363  10.324  1.00  0.00           O  \nATOM    149    O MOL     1      -1.066  11.955   8.484  1.00  0.00           O  \nATOM    150    O MOL     1       0.235  10.516   6.645  1.00  0.00           O  \nATOM    151    O MOL     1       2.749  11.255   6.233  1.00  0.00           O  \nATOM    152    O MOL     1       3.345   9.408   8.072  1.00  0.00           O  \nATOM    153    O MOL     1       1.447   9.816   9.912  1.00  0.00           O  \nATOM    154   Si MOL     1       1.314  10.984  11.038  1.00  0.00          SI  \nATOM    155   Si MOL     1       2.400   8.708  14.717  1.00  0.00          SI  \nATOM    156   Si MOL     1       3.828  10.787  12.877  1.00  0.00          SI  \nATOM    157    O MOL     1       0.831  12.363  15.843  1.00  0.00           O  \nATOM    158    O MOL     1      -1.066  11.955  14.003  1.00  0.00           O  \nATOM    159    O MOL     1       0.235  10.516  12.164  1.00  0.00           O  \nATOM    160    O MOL     1       2.749  11.255  11.752  1.00  0.00           O  \nATOM    161    O MOL     1       3.345   9.408  13.591  1.00  0.00           O  \nATOM    162    O MOL     1       1.447   9.816  15.431  1.00  0.00           O  \nATOM    163   Si MOL     1      11.370   2.276   0.000  1.00  0.00          SI  \nATOM    164   Si MOL     1      12.455   0.000   3.679  1.00  0.00          SI  \nATOM    165   Si MOL     1      13.883   2.078   1.840  1.00  0.00          SI  \nATOM    166    O MOL     1      10.887   3.654   4.805  1.00  0.00           O  \nATOM    167    O MOL     1       8.989   3.247   2.966  1.00  0.00           O  \nATOM    168    O MOL     1      10.291   1.807   1.126  1.00  0.00           O  \nATOM    169    O MOL     1      12.805   2.547   0.714  1.00  0.00           O  \nATOM    170    O MOL     1      13.401   0.700   2.553  1.00  0.00           O  \nATOM    171    O MOL     1      11.503   1.107   4.393  1.00  0.00           O  \nATOM    172   Si MOL     1      11.370   2.276   5.519  1.00  0.00          SI  \nATOM    173   Si MOL     1      12.455   0.000   9.198  1.00  0.00          SI  \nATOM    174   Si MOL     1      13.883   2.078   7.359  1.00  0.00          SI  \nATOM    175    O MOL     1      10.887   3.654  10.324  1.00  0.00           O  \nATOM    176    O MOL     1       8.989   3.247   8.484  1.00  0.00           O  \nATOM    177    O MOL     1      10.291   1.807   6.645  1.00  0.00           O  \nATOM    178    O MOL     1      12.805   2.547   6.233  1.00  0.00           O  \nATOM    179    O MOL     1      13.401   0.700   8.072  1.00  0.00           O  \nATOM    180    O MOL     1      11.503   1.107   9.912  1.00  0.00           O  \nATOM    181   Si MOL     1      11.370   2.276  11.038  1.00  0.00          SI  \nATOM    182   Si MOL     1      12.455   0.000  14.717  1.00  0.00          SI  \nATOM    183   Si MOL     1      13.883   2.078  12.877  1.00  0.00          SI  \nATOM    184    O MOL     1      10.887   3.654  15.843  1.00  0.00           O  \nATOM    185    O MOL     1       8.989   3.247  14.003  1.00  0.00           O  \nATOM    186    O MOL     1      10.291   1.807  12.164  1.00  0.00           O  \nATOM    187    O MOL     1      12.805   2.547  11.752  1.00  0.00           O  \nATOM    188    O MOL     1      13.401   0.700  13.591  1.00  0.00           O  \nATOM    189    O MOL     1      11.503   1.107  15.431  1.00  0.00           O  \nATOM    190   Si MOL     1       8.856   6.630   0.000  1.00  0.00          SI  \nATOM    191   Si MOL     1       9.941   4.354   3.679  1.00  0.00          SI  \nATOM    192   Si MOL     1      11.370   6.432   1.840  1.00  0.00          SI  \nATOM    193    O MOL     1       8.373   8.008   4.805  1.00  0.00           O  \nATOM    194    O MOL     1       6.475   7.601   2.966  1.00  0.00           O  \nATOM    195    O MOL     1       7.777   6.161   1.126  1.00  0.00           O  \nATOM    196    O MOL     1      10.291   6.901   0.714  1.00  0.00           O  \nATOM    197    O MOL     1      10.887   5.054   2.553  1.00  0.00           O  \nATOM    198    O MOL     1       8.989   5.461   4.393  1.00  0.00           O  \nATOM    199   Si MOL     1       8.856   6.630   5.519  1.00  0.00          SI  \nATOM    200   Si MOL     1       9.941   4.354   9.198  1.00  0.00          SI  \nATOM    201   Si MOL     1      11.370   6.432   7.359  1.00  0.00          SI  \nATOM    202    O MOL     1       8.373   8.008  10.324  1.00  0.00           O  \nATOM    203    O MOL     1       6.475   7.601   8.484  1.00  0.00           O  \nATOM    204    O MOL     1       7.777   6.161   6.645  1.00  0.00           O  \nATOM    205    O MOL     1      10.291   6.901   6.233  1.00  0.00           O  \nATOM    206    O MOL     1      10.887   5.054   8.072  1.00  0.00           O  \nATOM    207    O MOL     1       8.989   5.461   9.912  1.00  0.00           O  \nATOM    208   Si MOL     1       8.856   6.630  11.038  1.00  0.00          SI  \nATOM    209   Si MOL     1       9.941   4.354  14.717  1.00  0.00          SI  \nATOM    210   Si MOL     1      11.370   6.432  12.877  1.00  0.00          SI  \nATOM    211    O MOL     1       8.373   8.008  15.843  1.00  0.00           O  \nATOM    212    O MOL     1       6.475   7.601  14.003  1.00  0.00           O  \nATOM    213    O MOL     1       7.777   6.161  12.164  1.00  0.00           O  \nATOM    214    O MOL     1      10.291   6.901  11.752  1.00  0.00           O  \nATOM    215    O MOL     1      10.887   5.054  13.591  1.00  0.00           O  \nATOM    216    O MOL     1       8.989   5.461  15.431  1.00  0.00           O  \nATOM    217   Si MOL     1       6.342  10.984   0.000  1.00  0.00          SI  \nATOM    218   Si MOL     1       7.427   8.708   3.679  1.00  0.00          SI  \nATOM    219   Si MOL     1       8.856  10.787   1.840  1.00  0.00          SI  \nATOM    220    O MOL     1       5.859  12.363   4.805  1.00  0.00           O  \nATOM    221    O MOL     1       3.961  11.955   2.966  1.00  0.00           O  \nATOM    222    O MOL     1       5.263  10.516   1.126  1.00  0.00           O  \nATOM    223    O MOL     1       7.777  11.255   0.714  1.00  0.00           O  \nATOM    224    O MOL     1       8.373   9.408   2.553  1.00  0.00           O  \nATOM    225    O MOL     1       6.475   9.816   4.393  1.00  0.00           O  \nATOM    226   Si MOL     1       6.342  10.984   5.519  1.00  0.00          SI  \nATOM    227   Si MOL     1       7.427   8.708   9.198  1.00  0.00          SI  \nATOM    228   Si MOL     1       8.856  10.787   7.359  1.00  0.00          SI  \nATOM    229    O MOL     1       5.859  12.363  10.324  1.00  0.00           O  \nATOM    230    O MOL     1       3.961  11.955   8.484  1.00  0.00           O  \nATOM    231    O MOL     1       5.263  10.516   6.645  1.00  0.00           O  \nATOM    232    O MOL     1       7.777  11.255   6.233  1.00  0.00           O  \nATOM    233    O MOL     1       8.373   9.408   8.072  1.00  0.00           O  \nATOM    234    O MOL     1       6.475   9.816   9.912  1.00  0.00           O  \nATOM    235   Si MOL     1       6.342  10.984  11.038  1.00  0.00          SI  \nATOM    236   Si MOL     1       7.427   8.708  14.717  1.00  0.00          SI  \nATOM    237   Si MOL     1       8.856  10.787  12.877  1.00  0.00          SI  \nATOM    238    O MOL     1       5.859  12.363  15.843  1.00  0.00           O  \nATOM    239    O MOL     1       3.961  11.955  14.003  1.00  0.00           O  \nATOM    240    O MOL     1       5.263  10.516  12.164  1.00  0.00           O  \nATOM    241    O MOL     1       7.777  11.255  11.752  1.00  0.00           O  \nATOM    242    O MOL     1       8.373   9.408  13.591  1.00  0.00           O  \nATOM    243    O MOL     1       6.475   9.816  15.431  1.00  0.00           O  \nENDMDL\n",
           "type": "blob"
          }
         ],
         "kwargs": {
          "defaultRepresentation": false,
          "ext": "pdb"
         },
         "methodName": "loadFile",
         "reconstruc_color_scheme": false,
         "target": "Stage",
         "type": "call_method"
        },
        {
         "args": [
          "500px",
          "500px"
         ],
         "kwargs": {},
         "methodName": "setSize",
         "reconstruc_color_scheme": false,
         "target": "Widget",
         "type": "call_method"
        },
        {
         "args": [
          "unitcell"
         ],
         "component_index": 0,
         "kwargs": {
          "sele": "all"
         },
         "methodName": "addRepresentation",
         "reconstruc_color_scheme": false,
         "target": "compList",
         "type": "call_method"
        },
        {
         "args": [
          "spacefill"
         ],
         "component_index": 0,
         "kwargs": {
          "sele": "all"
         },
         "methodName": "addRepresentation",
         "reconstruc_color_scheme": false,
         "target": "compList",
         "type": "call_method"
        },
        {
         "args": [],
         "kwargs": {
          "cameraType": "orthographic"
         },
         "methodName": "setParameters",
         "reconstruc_color_scheme": false,
         "target": "Stage",
         "type": "call_method"
        },
        {
         "args": [
          {
           "clipDist": 0
          }
         ],
         "kwargs": {},
         "methodName": "setParameters",
         "reconstruc_color_scheme": false,
         "target": "Widget",
         "type": "call_method"
        },
        {
         "args": [
          "spacefill",
          0
         ],
         "kwargs": {
          "colorScale": "rainbow",
          "colorScheme": "element",
          "radiusScale": 0.5,
          "radiusType": "covalent"
         },
         "methodName": "updateRepresentationsByName",
         "reconstruc_color_scheme": false,
         "target": "Widget",
         "type": "call_method"
        },
        {
         "args": [
          "this._Q = [[1.0, 0.0, 0.0], [0.0, 1.0, 0.0], [0.0, 0.0, 1.0]]\n    var tooltip = document.createElement('div');\n    Object.assign(tooltip.style, {\n      display: 'none',\n      position: 'fixed',\n      zIndex: 10,\n      pointerEvents: 'none',\n      backgroundColor: 'rgba( 0, 0, 0, 0.6 )',\n      color: 'lightgrey',\n      padding: '8px',\n      fontFamily: 'sans-serif'\n    });\n    document.body.appendChild(tooltip);\n\n    var that = this;\n    this.stage.mouseControls.remove('hoverPick');\n    this.stage.signals.hovered.add(function (pickingProxy) {\n      if (pickingProxy && (pickingProxy.atom || pickingProxy.bond)) {\n        var atom = pickingProxy.atom || pickingProxy.closestBondAtom\n        var mp = pickingProxy.mouse.position\n        //tooltip.innerText = atom.element + ' i=' + atom.index + ' (' + atom.x.toFixed(2) +  ', ' + atom.y.toFixed(2) +  ', ' + atom.z.toFixed(2) + ')'\n        //var pos = that._atoms_pos[atom.index]\n        var Q = that._Q\n        var pos_x = Q[0][0] * atom.x + Q[0][1] * atom.y + Q[0][2] * atom.z \n        var pos_y = Q[1][0] * atom.x + Q[1][1] * atom.y + Q[1][2] * atom.z\n        var pos_z = Q[2][0] * atom.x + Q[2][1] * atom.y + Q[2][2] * atom.z\n        tooltip.innerText = 'i=' + atom.index + ' ' + atom.element + ' (' + pos_x.toFixed(2) +  ', ' + pos_y.toFixed(2) +  ', ' + pos_z.toFixed(2) + ')'\n        tooltip.style.bottom = window.innerHeight - mp.y + 3 + 'px'\n        tooltip.style.left = mp.x + 3 + 'px'\n        tooltip.style.display = 'block'\n      } else {\n        tooltip.style.display = 'none'\n      }\n    });\n    this.stage.tooltip = tooltip;\n    "
         ],
         "kwargs": {},
         "methodName": "executeCode",
         "reconstruc_color_scheme": false,
         "target": "Widget",
         "type": "call_method"
        },
        {
         "args": [
          "ball+stick"
         ],
         "component_index": 0,
         "kwargs": {
          "sele": "all"
         },
         "methodName": "addRepresentation",
         "reconstruc_color_scheme": false,
         "target": "compList",
         "type": "call_method"
        }
       ],
       "_ngl_original_stage_parameters": {
        "ambientColor": 14540253,
        "ambientIntensity": 0.2,
        "backgroundColor": "white",
        "cameraEyeSep": 0.3,
        "cameraFov": 40,
        "cameraType": "perspective",
        "clipDist": 10,
        "clipFar": 100,
        "clipNear": 0,
        "fogFar": 100,
        "fogNear": 50,
        "hoverTimeout": 0,
        "impostor": true,
        "lightColor": 14540253,
        "lightIntensity": 1,
        "mousePreset": "default",
        "panSpeed": 1,
        "quality": "medium",
        "rotateSpeed": 2,
        "sampleLevel": 0,
        "tooltip": true,
        "workerDefault": true,
        "zoomSpeed": 1.2
       },
       "_ngl_repr_dict": {
        "0": {
         "0": {
          "params": {
           "clipCenter": {
            "x": 0,
            "y": 0,
            "z": 0
           },
           "clipNear": 0,
           "clipRadius": 0,
           "colorMode": "hcl",
           "colorReverse": false,
           "colorScale": "",
           "colorScheme": "element",
           "colorValue": "orange",
           "defaultAssembly": "",
           "depthWrite": true,
           "diffuse": 16777215,
           "diffuseInterior": false,
           "disableImpostor": false,
           "disablePicking": false,
           "flatShaded": false,
           "interiorColor": 2236962,
           "interiorDarkening": 0,
           "lazy": false,
           "matrix": {
            "elements": [
             1,
             0,
             0,
             0,
             0,
             1,
             0,
             0,
             0,
             0,
             1,
             0,
             0,
             0,
             0,
             1
            ]
           },
           "metalness": 0,
           "opacity": 1,
           "quality": "medium",
           "radialSegments": 10,
           "radiusData": {},
           "radiusScale": 1,
           "radiusSize": 0.07415929071046808,
           "radiusType": "vdw",
           "roughness": 0.4,
           "sele": "all",
           "side": "double",
           "sphereDetail": 1,
           "useInteriorColor": true,
           "visible": true,
           "wireframe": false
          },
          "type": "unitcell"
         },
         "1": {
          "params": {
           "assembly": "default",
           "clipCenter": {
            "x": 0,
            "y": 0,
            "z": 0
           },
           "clipNear": 0,
           "clipRadius": 0,
           "colorMode": "hcl",
           "colorReverse": false,
           "colorScale": "rainbow",
           "colorScheme": "element",
           "colorValue": 9474192,
           "defaultAssembly": "",
           "depthWrite": true,
           "diffuse": 16777215,
           "diffuseInterior": false,
           "disableImpostor": false,
           "disablePicking": false,
           "flatShaded": false,
           "interiorColor": 2236962,
           "interiorDarkening": 0,
           "lazy": false,
           "matrix": {
            "elements": [
             1,
             0,
             0,
             0,
             0,
             1,
             0,
             0,
             0,
             0,
             1,
             0,
             0,
             0,
             0,
             1
            ]
           },
           "metalness": 0,
           "opacity": 1,
           "quality": "medium",
           "radiusData": {},
           "radiusScale": 0.5,
           "radiusSize": 1,
           "radiusType": "covalent",
           "roughness": 0.4,
           "sele": "all",
           "side": "double",
           "sphereDetail": 1,
           "useInteriorColor": true,
           "visible": true,
           "wireframe": false
          },
          "type": "spacefill"
         },
         "2": {
          "params": {
           "aspectRatio": 2,
           "assembly": "default",
           "bondScale": 0.4,
           "bondSpacing": 1,
           "clipCenter": {
            "x": 0,
            "y": 0,
            "z": 0
           },
           "clipNear": 0,
           "clipRadius": 0,
           "colorMode": "hcl",
           "colorReverse": false,
           "colorScale": "",
           "colorScheme": "element",
           "colorValue": 9474192,
           "cylinderOnly": false,
           "defaultAssembly": "",
           "depthWrite": true,
           "diffuse": 16777215,
           "diffuseInterior": false,
           "disableImpostor": false,
           "disablePicking": false,
           "flatShaded": false,
           "interiorColor": 2236962,
           "interiorDarkening": 0,
           "lazy": false,
           "lineOnly": false,
           "linewidth": 2,
           "matrix": {
            "elements": [
             1,
             0,
             0,
             0,
             0,
             1,
             0,
             0,
             0,
             0,
             1,
             0,
             0,
             0,
             0,
             1
            ]
           },
           "metalness": 0,
           "multipleBond": "off",
           "opacity": 1,
           "openEnded": true,
           "quality": "medium",
           "radialSegments": 10,
           "radiusData": {},
           "radiusScale": 1,
           "radiusSize": 0.15,
           "radiusType": "size",
           "roughness": 0.4,
           "sele": "all",
           "side": "double",
           "sphereDetail": 1,
           "useInteriorColor": true,
           "visible": true,
           "wireframe": false
          },
          "type": "ball+stick"
         }
        }
       },
       "_ngl_serialize": false,
       "_ngl_version": "2.0.0-dev.36",
       "_ngl_view_id": [
        "EDFC662A-9F39-4016-9181-4B8B8DFFC58C"
       ],
       "_player_dict": {},
       "_scene_position": {},
       "_scene_rotation": {},
       "_synced_model_ids": [],
       "_synced_repr_model_ids": [],
       "_view_height": "",
       "_view_width": "",
       "background": "white",
       "frame": 0,
       "gui_style": null,
       "layout": "IPY_MODEL_617ecddf249d4eb9adf0c0eb9162b5d1",
       "max_frame": 20,
       "n_components": 1,
       "picked": {}
      }
     },
     "e2f18d2e66324a269e51da159b6d4bf3": {
      "model_module": "@jupyter-widgets/controls",
      "model_module_version": "1.5.0",
      "model_name": "HBoxModel",
      "state": {
       "children": [
        "IPY_MODEL_7e3223d74a1a4b2588d21634a41e8c77",
        "IPY_MODEL_7528347e973648beb113f5057c2ef28a"
       ],
       "layout": "IPY_MODEL_44b6773a616843cf9e4b2e965b1700e1"
      }
     },
     "e4acebf0251949a79e2d2aa8057edf87": {
      "model_module": "@jupyter-widgets/controls",
      "model_module_version": "1.5.0",
      "model_name": "SliderStyleModel",
      "state": {
       "description_width": ""
      }
     },
     "ec6942265b33488f87e6c134c5e4c3f6": {
      "model_module": "@jupyter-widgets/controls",
      "model_module_version": "1.5.0",
      "model_name": "HBoxModel",
      "state": {
       "children": [
        "IPY_MODEL_a95fda6ad04743abad709d44a48d6f41",
        "IPY_MODEL_97b7e55c994c4b43ba73d058af2f320a"
       ],
       "layout": "IPY_MODEL_d0431fb273a04bea93712e58663e3540"
      }
     },
     "efdd993bd0c742199935a72e41961e8b": {
      "model_module": "@jupyter-widgets/base",
      "model_module_version": "1.2.0",
      "model_name": "LayoutModel",
      "state": {}
     },
     "f0d1c5b2b8854fc4bb7a50a85eb026e8": {
      "model_module": "@jupyter-widgets/controls",
      "model_module_version": "1.5.0",
      "model_name": "SliderStyleModel",
      "state": {
       "description_width": ""
      }
     },
     "f5edcc0995674135bcd026399552fb39": {
      "model_module": "@jupyter-widgets/controls",
      "model_module_version": "1.5.0",
      "model_name": "LinkModel",
      "state": {
       "source": [
        "IPY_MODEL_7e3223d74a1a4b2588d21634a41e8c77",
        "max"
       ],
       "target": [
        "IPY_MODEL_de3b40ad07d240fa9d18243717707b75",
        "max_frame"
       ]
      }
     },
     "f6cf55703d1b4ce196185ffd402c8021": {
      "model_module": "nglview-js-widgets",
      "model_module_version": "3.0.1",
      "model_name": "ColormakerRegistryModel",
      "state": {
       "_msg_ar": [],
       "_msg_q": [],
       "_ready": true,
       "layout": "IPY_MODEL_cafc11e902fb4ec3b3b6cebf1f9774c0"
      }
     },
     "fd7524c33d2a4fe9b8a20640df79701d": {
      "model_module": "@jupyter-widgets/base",
      "model_module_version": "1.2.0",
      "model_name": "LayoutModel",
      "state": {}
     }
    },
    "version_major": 2,
    "version_minor": 0
   }
  }
 },
 "nbformat": 4,
 "nbformat_minor": 5
}
