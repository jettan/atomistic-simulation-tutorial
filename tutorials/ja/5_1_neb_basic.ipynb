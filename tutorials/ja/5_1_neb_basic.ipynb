{
 "cells": [
  {
   "cell_type": "markdown",
   "id": "ea6faaf2-8a05-4ff4-b823-59a31022a529",
   "metadata": {},
   "source": [
    "# 反応経路解析 - Reaction Path Analysis\n",
    "\n",
    "前章まで安定構造付近の挙動を見ていましたが、いよいよ本章では、物質の反応を解析していきます。\n",
    "\n",
    "\n",
    "<figure style=\"width:450px\">\n",
    "    <img src=\"https://upload.wikimedia.org/wikipedia/commons/thumb/1/13/Activation_energy_ja.svg/600px-Activation_energy_ja.svg.png\"/>\n",
    "</figure>\n",
    "\n",
    "X→Yへの反応に伴う、活性化エネルギー $E_a$ と生成エンタルピー $\\Delta H$ の関係。\n",
    "[Wikipedia](https://ja.wikipedia.org/wiki/%E3%83%95%E3%82%A1%E3%82%A4%E3%83%AB:Activation_energy_ja.svg)より。\n",
    "\n",
    "<p></p>\n",
    "\n",
    "ある反応物Xから生成物Yができる反応過程において、その反応経路中でエネルギーが最大となる点を **遷移状態 (TS: Transition State)** と呼び、反応物・生成物から遷移状態までのエネルギー差を**活性化エネルギー (Activation energy)**  $E_a$ と呼びます。\n",
    "\n",
    "アレニウスの式によると、反応の速度定数 $k$ は、\n",
    "\n",
    "$$k = A \\exp \\left(- \\frac{E_a}{k_B T} \\right)$$\n",
    "\n",
    "で決まります。ここで、\n",
    "\n",
    " - $A$: 頻度因子(温度に無関係な定数)\n",
    " - $E_a$: 活性化エネルギー\n",
    " - $k_B$: ボルツマン定数\n",
    " - $T$: 絶対温度\n",
    "\n",
    "です。つまり、化学反応の起こりやすさは活性化エネルギー $E_a$ によって決まります。\n",
    "\n",
    "反応物・生成物のエネルギーが変わることはありませんが、活性化エネルギーは周辺環境、つまり触媒の存在によって反応経路が変わることで変わります。\n",
    "この活性化エネルギーが低くなるような触媒を見つけられれば、対象とする反応をより起こしやすくすることができます。\n",
    "\n",
    "\n",
    "参考文献\n",
    "\n",
    " - [活性化エネルギー - Wikipedia](https://ja.wikipedia.org/wiki/%E6%B4%BB%E6%80%A7%E5%8C%96%E3%82%A8%E3%83%8D%E3%83%AB%E3%82%AE%E3%83%BC)\n",
    " - [アレニウスの式 - Wikipedia](https://ja.wikipedia.org/wiki/%E3%82%A2%E3%83%AC%E3%83%8B%E3%82%A6%E3%82%B9%E3%81%AE%E5%BC%8F)\n",
    " - 「分子レベルで見た触媒の働き　反応はなぜ速く進むのか」 松本吉泰\n",
    " - 「熱力学で理解する化学反応のしくみ」 平山令明\n",
    "\n",
    "反応物X、生成物Yがわかっていたとしても、遷移状態を見つけることは自明ではありません。<br/>\n",
    "本節では、反応前後の構造がわかっているときにその反応途中の経路を探索するNEB (Nudged Elastic Band)法を用いて、活性化エネルギーの算出を行ってみます。\n",
    "\n",
    " - https://databases.fysik.dtu.dk/ase/ase/neb.html"
   ]
  },
  {
   "cell_type": "markdown",
   "id": "b7ab356e-a310-40ea-863e-9731b0fb4188",
   "metadata": {},
   "source": [
    "## NEB\n",
    "\n",
    "<figure style=\"width: 720px\">\n",
    "　　　　<img src=\"../assets/neb-small-720.png\" style=\"width: 720px\"/>\n",
    "  <figcaption>\n",
    "      NEB法のイメージ図: 初期配置として反応経路候補(赤線)を生成後、構造緩和を行い遷移状態を通るような反応経路(青線)を探索する\n",
    "  </figcaption>\n",
    "</figure>\n",
    "\n",
    "※ 以下の内容はMatlantis製品内に含まれるNEB Tutorialとほぼ同じ内容です。\n",
    "\n",
    "今回は、クルチウス転位と呼ばれる有機化学反応の一例を題材にします。\n",
    "\n",
    "NEB法では、ある注目したい反応についてその前後の構造からスタートしますが、今回は直接構造を書き下して構造を設定します。"
   ]
  },
  {
   "cell_type": "code",
   "execution_count": 1,
   "id": "d8c49891-d136-4f43-9d7e-7789b946e685",
   "metadata": {},
   "outputs": [],
   "source": [
    "import numpy as np\n",
    "from IPython.display import Image\n",
    "import matplotlib.pyplot as plt\n",
    "\n",
    "import ase\n",
    "from ase import Atoms\n",
    "from ase.visualize import view\n",
    "from ase.optimize import BFGS\n",
    "from ase.optimize import FIRE\n",
    "from ase.neb import NEB\n",
    "from ase.build.rotate import minimize_rotation_and_translation\n",
    "\n",
    "from pfp_api_client.pfp.calculators.ase_calculator import ASECalculator\n",
    "from pfp_api_client.pfp.estimator import Estimator\n",
    "from pfp_api_client.pfp.estimator import Estimator, EstimatorCalcMode\n",
    "\n",
    "\n",
    "estimator = Estimator(calc_mode=EstimatorCalcMode.CRYSTAL, model_version=\"v2.0.0\")\n",
    "calculator = ASECalculator(estimator)"
   ]
  },
  {
   "cell_type": "code",
   "execution_count": 2,
   "id": "484f304c-585f-49d7-9409-534cdab51241",
   "metadata": {},
   "outputs": [],
   "source": [
    "react = ase.Atoms(\n",
    "    symbols=\"C2NON2H3\",\n",
    "    positions = [\n",
    "        [ 2.12, -0.48,  0.00],\n",
    "        [ 0.76,  0.16, -0.00],\n",
    "        [-0.28, -0.79, -0.00],\n",
    "        [ 0.57,  1.35,  0.00],\n",
    "        [-1.42, -0.28,  0.00],\n",
    "        [-2.48,  0.07,  0.00],\n",
    "        [ 2.67, -0.14, -0.88],\n",
    "        [ 2.06, -1.57, -0.00],\n",
    "        [ 2.67, -0.14,  0.88],\n",
    "    ],\n",
    ")\n",
    "\n",
    "prod = ase.Atoms(\n",
    "    symbols=\"C2NON2H3\",\n",
    "    positions=[\n",
    "        [ 2.30, -0.87,  0.00],\n",
    "        [ 0.68,  0.92, -0.00],\n",
    "        [ 0.99, -0.25,  0.00],\n",
    "        [ 0.25,  2.03,  0.00],\n",
    "        [-2.34,  0.11,  0.00],\n",
    "        [-3.13, -0.67, -0.00],\n",
    "        [ 2.87, -0.57, -0.89],\n",
    "        [ 2.19, -1.96,  0.00],\n",
    "        [ 2.87, -0.57,  0.89],\n",
    "    ],\n",
    ")"
   ]
  },
  {
   "cell_type": "markdown",
   "id": "9a40b9ec-395a-4a00-8f0a-3aa35a9a4316",
   "metadata": {},
   "source": [
    "まずは構造最適化計算を行います。構造最適化計算のやり方は今までと同様です。\n",
    "\n",
    "また、後の作業のため、`minimize_rotation_and_translation` methodを用いて、反応前後の2つの構造がなるべく近くなるように位置を移動させておきます。"
   ]
  },
  {
   "cell_type": "code",
   "execution_count": 3,
   "id": "fc4670f6-022d-4b4c-9944-b345d0a46b67",
   "metadata": {},
   "outputs": [
    {
     "name": "stdout",
     "output_type": "stream",
     "text": [
      "      Step     Time          Energy         fmax\n",
      "BFGS:    0 07:11:23      -41.288279        3.3720\n",
      "BFGS:    1 07:11:23      -41.050347        9.2272\n",
      "BFGS:    2 07:11:24      -41.352632        0.9379\n",
      "BFGS:    3 07:11:24      -41.360422        0.8468\n",
      "BFGS:    4 07:11:24      -41.367067        0.4149\n",
      "BFGS:    5 07:11:24      -41.370915        0.2225\n",
      "BFGS:    6 07:11:25      -41.373628        0.1877\n",
      "BFGS:    7 07:11:25      -41.374702        0.1327\n",
      "BFGS:    8 07:11:25      -41.375998        0.1432\n",
      "BFGS:    9 07:11:25      -41.377709        0.1950\n",
      "BFGS:   10 07:11:26      -41.379433        0.1925\n",
      "BFGS:   11 07:11:26      -41.380617        0.1081\n",
      "BFGS:   12 07:11:26      -41.381467        0.0848\n",
      "BFGS:   13 07:11:27      -41.382043        0.0992\n",
      "BFGS:   14 07:11:27      -41.382362        0.0638\n",
      "BFGS:   15 07:11:27      -41.382599        0.0515\n",
      "BFGS:   16 07:11:27      -41.382840        0.0601\n",
      "BFGS:   17 07:11:28      -41.383157        0.0738\n",
      "BFGS:   18 07:11:28      -41.383481        0.0658\n",
      "BFGS:   19 07:11:28      -41.383667        0.0388\n",
      "BFGS:   20 07:11:28      -41.383759        0.0254\n",
      "BFGS:   21 07:11:29      -41.383802        0.0258\n",
      "BFGS:   22 07:11:29      -41.383865        0.0298\n",
      "BFGS:   23 07:11:29      -41.383911        0.0271\n",
      "BFGS:   24 07:11:29      -41.383936        0.0141\n",
      "BFGS:   25 07:11:30      -41.383955        0.0091\n",
      "      Step     Time          Energy         fmax\n",
      "BFGS:    0 07:11:30      -42.925378        0.7301\n",
      "BFGS:    1 07:11:30      -42.911607        1.6637\n",
      "BFGS:    2 07:11:30      -42.928921        0.2516\n",
      "BFGS:    3 07:11:31      -42.928744        0.5499\n",
      "BFGS:    4 07:11:31      -42.931010        0.2054\n",
      "BFGS:    5 07:11:31      -42.933623        0.2522\n",
      "BFGS:    6 07:11:32      -42.937579        0.4179\n",
      "BFGS:    7 07:11:32      -42.942069        0.4193\n",
      "BFGS:    8 07:11:32      -42.946957        0.2883\n",
      "BFGS:    9 07:11:32      -42.950890        0.1795\n",
      "BFGS:   10 07:11:33      -42.954245        0.2710\n",
      "BFGS:   11 07:11:33      -42.956652        0.2315\n",
      "BFGS:   12 07:11:33      -42.958064        0.1185\n",
      "BFGS:   13 07:11:34      -42.959282        0.1460\n",
      "BFGS:   14 07:11:34      -42.960218        0.1848\n",
      "BFGS:   15 07:11:34      -42.960760        0.1164\n",
      "BFGS:   16 07:11:34      -42.961065        0.0687\n",
      "BFGS:   17 07:11:34      -42.961415        0.1194\n",
      "BFGS:   18 07:11:35      -42.962055        0.2019\n",
      "BFGS:   19 07:11:35      -42.963172        0.2617\n",
      "BFGS:   20 07:11:35      -42.964888        0.2410\n",
      "BFGS:   21 07:11:36      -42.966962        0.1318\n",
      "BFGS:   22 07:11:36      -42.969055        0.1111\n",
      "BFGS:   23 07:11:36      -42.970605        0.1539\n",
      "BFGS:   24 07:11:36      -42.971380        0.1119\n",
      "BFGS:   25 07:11:36      -42.971683        0.0615\n",
      "BFGS:   26 07:11:37      -42.971868        0.0360\n",
      "BFGS:   27 07:11:37      -42.971954        0.0460\n",
      "BFGS:   28 07:11:37      -42.972000        0.0245\n",
      "BFGS:   29 07:11:37      -42.972008        0.0135\n",
      "BFGS:   30 07:11:38      -42.972006        0.0211\n",
      "BFGS:   31 07:11:38      -42.972034        0.0406\n",
      "BFGS:   32 07:11:38      -42.972068        0.0647\n",
      "BFGS:   33 07:11:38      -42.972157        0.0917\n",
      "BFGS:   34 07:11:39      -42.972297        0.0956\n",
      "BFGS:   35 07:11:39      -42.972386        0.0525\n",
      "BFGS:   36 07:11:39      -42.972556        0.0783\n",
      "BFGS:   37 07:11:39      -42.972755        0.1364\n",
      "BFGS:   38 07:11:40      -42.972918        0.1228\n",
      "BFGS:   39 07:11:40      -42.972963        0.1925\n",
      "BFGS:   40 07:11:40      -42.973029        0.0464\n",
      "BFGS:   41 07:11:41      -42.973089        0.0477\n",
      "BFGS:   42 07:11:41      -42.973177        0.0895\n",
      "BFGS:   43 07:11:41      -42.973234        0.0430\n",
      "BFGS:   44 07:11:41      -42.973260        0.0586\n",
      "BFGS:   45 07:11:42      -42.973297        0.0315\n",
      "BFGS:   46 07:11:42      -42.973299        0.0083\n"
     ]
    }
   ],
   "source": [
    "react.calc = calculator\n",
    "opt = BFGS(react)\n",
    "opt.run(fmax=0.01)\n",
    "\n",
    "prod.calc = calculator\n",
    "opt = BFGS(prod)\n",
    "opt.run(fmax=0.01)\n",
    "\n",
    "minimize_rotation_and_translation(react, prod)"
   ]
  },
  {
   "cell_type": "markdown",
   "id": "88e4b332-4215-4bd5-a92d-f318ed1f00ee",
   "metadata": {},
   "source": [
    "可視化を行い、反応前後の構造を確認します。"
   ]
  },
  {
   "cell_type": "code",
   "execution_count": 4,
   "id": "44d167b8-7364-4c6a-b59b-927a61ca1be9",
   "metadata": {},
   "outputs": [
    {
     "data": {
      "image/png": "[encoded data removed]",
      "text/plain": [
       "<Figure size 600x300 with 2 Axes>"
      ]
     },
     "metadata": {},
     "output_type": "display_data"
    }
   ],
   "source": [
    "from ase.io import write\n",
    "from IPython.display import Image\n",
    "import matplotlib.pyplot as plt\n",
    "import matplotlib.image as mpimg\n",
    "\n",
    "write(\"output/curtius_react.png\", react, rotation=\"0x,0y,0z\")\n",
    "write(\"output/curtius_prod.png\", prod, rotation=\"0x,0y,0z\")\n",
    "\n",
    "fig, axes = plt.subplots(1, 2, figsize=(6, 3))\n",
    "ax0, ax1 = axes\n",
    "ax0.imshow(mpimg.imread(\"output/curtius_react.png\"))\n",
    "ax0.set_axis_off()\n",
    "ax0.set_title(\"Reactant\")\n",
    "ax1.imshow(mpimg.imread(\"output/curtius_prod.png\"))\n",
    "ax1.set_axis_off()\n",
    "ax1.set_title(\"Product\")\n",
    "fig.show()"
   ]
  },
  {
   "cell_type": "code",
   "execution_count": 5,
   "id": "27d3e092-a09c-47cd-8206-3280dcddb859",
   "metadata": {},
   "outputs": [
    {
     "data": {
      "application/vnd.jupyter.widget-view+json": {
       "model_id": "b32e1a19d91941ec8ea69f6fefbe10c3",
       "version_major": 2,
       "version_minor": 0
      },
      "text/plain": []
     },
     "metadata": {},
     "output_type": "display_data"
    },
    {
     "data": {
      "application/vnd.jupyter.widget-view+json": {
       "model_id": "8deb9f32d54d4b81adc389ffc59d0540",
       "version_major": 2,
       "version_minor": 0
      },
      "text/plain": [
       "HBox(children=(NGLWidget(max_frame=1), VBox(children=(Dropdown(description='Show', options=('All', 'O', 'N', '…"
      ]
     },
     "metadata": {},
     "output_type": "display_data"
    }
   ],
   "source": [
    "from pfcc_extras.visualize.view import view_ngl\n",
    "\n",
    "view_ngl([react, prod], representations=[\"ball+stick\"], replace_structure=True)"
   ]
  },
  {
   "cell_type": "markdown",
   "id": "c3bf81ee-c740-43a1-9d13-7bba7a7eae71",
   "metadata": {},
   "source": [
    "ここからがNEB法の出番です。NEB法は、反応の前後の構造を離散的に補完した構造を多数用意し、それら複数の構造を位相空間上で互いに結合させつつ構造最適化を行うことで反応経路を探す手法です。\n",
    "\n",
    "中間点の補完やNEBの実行そのもののはASEの組み込みのものを使うことができます。<br/>\n",
    "以下の例のように、`allow_shared_calculator=False`を指定し、各 `image` に対して個別のCalculatorをセットすることで高速化が可能です。\n",
    "\n",
    "NEBは複数の構造を内部で使う手法のため、MD計算などと比較するとステップあたりの計算時間は大きくなります。<br/>\n",
    "従来、DFTなどの量子計算手法を用いる場合は数日から数ヶ月かかることもありますが、Matlantisでは本例では数分とかからずに終わらせることができます。"
   ]
  },
  {
   "cell_type": "markdown",
   "id": "02902a75-4f0d-4f40-b5f2-1731b315e72b",
   "metadata": {},
   "source": [
    "計算は以下のようなステップで行われています。\n",
    "\n",
    " - まず `images` としてASE Atomsのリストを作成します。\n",
    "   - 最初が反応物 `react`で、最後が生成物 `prod` になるようにします。\n",
    "   - 中間 `image` は後の `neb.interpolate()` で座標値が変更されるので、ここではコピーを作成しておきます。\n",
    "   - 今回は、中間 `image`を7つ、合計9つで `images` を作成しました。\n",
    " - それぞれの Atoms に対して `calculator` を作成し、セットします。\n",
    " - [NEBクラス](https://databases.fysik.dtu.dk/ase/ase/neb.html)を作成します。\n",
    "     - `k`が各 `images`をつなげるバネの強さを表すバネ定数です\n",
    "     - `climb=True` とすることで、Climbing Image NEB法と呼ばれる、遷移状態を見つけるためにエネルギー勾配を上る手法を用いています。\n",
    " - `neb.interpolate()`\n",
    "     - ここで `images` の線形補間をおこない、生成物から反応物へ座標が徐々に変わるようなリストを作成しています。\n",
    "     - この時点で生成された反応経路の初期配置(候補)は、コメントアウトしてある `view_ngl` の可視化を行うことで、確認できます。\n",
    " - FIREでopt\n",
    "     - 得られた反応経路候補をFIRE法を用いて最適化することで、適切な反応経路に修正していきます。"
   ]
  },
  {
   "cell_type": "code",
   "execution_count": 6,
   "id": "3d1f1742-0911-47ac-891e-9bfff0459a2f",
   "metadata": {},
   "outputs": [
    {
     "name": "stdout",
     "output_type": "stream",
     "text": [
      "      Step     Time          Energy         fmax\n",
      "*Force-consistent energies used in optimization.\n",
      "FIRE:    0 07:13:17      -38.199767*      23.4912\n",
      "FIRE:    1 07:13:17      -39.254614*       6.5052\n",
      "FIRE:    2 07:13:18      -39.008607*      11.1636\n",
      "FIRE:    3 07:13:18      -39.405843*       7.0572\n",
      "FIRE:    4 07:13:18      -39.450036*       6.9048\n",
      "FIRE:    5 07:13:18      -39.462446*       5.3536\n",
      "FIRE:    6 07:13:19      -39.478978*       3.7188\n",
      "FIRE:    7 07:13:19      -39.489785*       3.0161\n",
      "FIRE:    8 07:13:19      -39.491196*       2.8974\n",
      "FIRE:    9 07:13:20      -39.488352*       3.9156\n",
      "FIRE:   10 07:13:20      -39.488611*       4.0391\n",
      "FIRE:   11 07:13:20      -39.495302*       3.5124\n",
      "FIRE:   12 07:13:21      -39.507837*       2.8101\n",
      "FIRE:   13 07:13:21      -39.519245*       1.8177\n",
      "FIRE:   14 07:13:21      -39.525173*       3.2658\n",
      "FIRE:   15 07:13:21      -39.539541*       2.8926\n",
      "FIRE:   16 07:13:22      -39.572465*       1.9634\n",
      "FIRE:   17 07:13:22      -39.604970*       2.3038\n",
      "FIRE:   18 07:13:22      -39.606554*       2.0281\n",
      "FIRE:   19 07:13:23      -39.609300*       1.5137\n",
      "FIRE:   20 07:13:23      -39.612558*       0.9486\n",
      "FIRE:   21 07:13:23      -39.615882*       0.9099\n",
      "FIRE:   22 07:13:24      -39.619306*       1.1980\n",
      "FIRE:   23 07:13:24      -39.623187*       1.5334\n",
      "FIRE:   24 07:13:24      -39.627865*       1.5309\n",
      "FIRE:   25 07:13:24      -39.633946*       1.1657\n",
      "FIRE:   26 07:13:25      -39.641256*       0.7378\n",
      "FIRE:   27 07:13:25      -39.649407*       0.8005\n",
      "FIRE:   28 07:13:25      -39.658478*       1.2002\n",
      "FIRE:   29 07:13:26      -39.669462*       1.0858\n",
      "FIRE:   30 07:13:26      -39.682556*       0.6026\n",
      "FIRE:   31 07:13:26      -39.696465*       0.9078\n",
      "FIRE:   32 07:13:27      -39.710635*       1.0347\n",
      "FIRE:   33 07:13:27      -39.725172*       0.6204\n",
      "FIRE:   34 07:13:27      -39.737158*       1.1204\n",
      "FIRE:   35 07:13:27      -39.747343*       0.5140\n",
      "FIRE:   36 07:13:28      -39.752792*       1.0859\n",
      "FIRE:   37 07:13:28      -39.755747*       0.8419\n",
      "FIRE:   38 07:13:28      -39.753584*       0.5378\n",
      "FIRE:   39 07:13:29      -39.748985*       1.0645\n",
      "FIRE:   40 07:13:29      -39.752538*       0.4342\n",
      "FIRE:   41 07:13:29      -39.753741*       0.6426\n",
      "FIRE:   42 07:13:29      -39.754036*       0.5796\n",
      "FIRE:   43 07:13:30      -39.754571*       0.4683\n",
      "FIRE:   44 07:13:30      -39.755176*       0.3427\n",
      "FIRE:   45 07:13:30      -39.755772*       0.3333\n",
      "FIRE:   46 07:13:31      -39.756359*       0.3786\n",
      "FIRE:   47 07:13:31      -39.757009*       0.4330\n",
      "FIRE:   48 07:13:31      -39.757876*       0.4118\n",
      "FIRE:   49 07:13:32      -39.758968*       0.3195\n",
      "FIRE:   50 07:13:32      -39.760281*       0.2992\n",
      "FIRE:   51 07:13:32      -39.761587*       0.3999\n",
      "FIRE:   52 07:13:33      -39.762970*       0.4432\n",
      "FIRE:   53 07:13:33      -39.764575*       0.3677\n",
      "FIRE:   54 07:13:34      -39.766266*       0.2657\n",
      "FIRE:   55 07:13:34      -39.767656*       0.3065\n",
      "FIRE:   56 07:13:35      -39.768928*       0.2712\n",
      "FIRE:   57 07:13:35      -39.769798*       0.3823\n",
      "FIRE:   58 07:13:35      -39.770114*       0.2827\n",
      "FIRE:   59 07:13:36      -39.769901*       0.3204\n",
      "FIRE:   60 07:13:36      -39.769478*       0.2699\n",
      "FIRE:   61 07:13:37      -39.768488*       0.3123\n",
      "FIRE:   62 07:13:37      -39.768018*       0.3649\n",
      "FIRE:   63 07:13:37      -39.768416*       0.2041\n",
      "FIRE:   64 07:13:38      -39.768642*       0.2207\n",
      "FIRE:   65 07:13:38      -39.768710*       0.3374\n",
      "FIRE:   66 07:13:39      -39.769102*       0.2798\n",
      "FIRE:   67 07:13:39      -39.769614*       0.1618\n",
      "FIRE:   68 07:13:39      -39.769868*       0.2333\n",
      "FIRE:   69 07:13:40      -39.770150*       0.2230\n",
      "FIRE:   70 07:13:40      -39.770635*       0.1537\n",
      "FIRE:   71 07:13:41      -39.770827*       0.2656\n",
      "FIRE:   72 07:13:41      -39.771113*       0.1617\n",
      "FIRE:   73 07:13:42      -39.771178*       0.2339\n",
      "FIRE:   74 07:13:42      -39.771294*       0.1410\n",
      "FIRE:   75 07:13:42      -39.770918*       0.3239\n",
      "FIRE:   76 07:13:43      -39.771114*       0.2307\n",
      "FIRE:   77 07:13:43      -39.771130*       0.2419\n",
      "FIRE:   78 07:13:44      -39.770793*       0.3642\n",
      "FIRE:   79 07:13:44      -39.771259*       0.1196\n",
      "FIRE:   80 07:13:44      -39.771153*       0.2493\n",
      "FIRE:   81 07:13:45      -39.771224*       0.2040\n",
      "FIRE:   82 07:13:45      -39.771311*       0.1449\n",
      "FIRE:   83 07:13:46      -39.771377*       0.1116\n",
      "FIRE:   84 07:13:46      -39.771394*       0.1337\n",
      "FIRE:   85 07:13:46      -39.771365*       0.1640\n",
      "FIRE:   86 07:13:47      -39.771384*       0.1680\n",
      "FIRE:   87 07:13:47      -39.771443*       0.1443\n",
      "FIRE:   88 07:13:48      -39.771532*       0.1119\n",
      "FIRE:   89 07:13:48      -39.771601*       0.1236\n",
      "FIRE:   90 07:13:49      -39.771593*       0.1528\n",
      "FIRE:   91 07:13:49      -39.771657*       0.1381\n",
      "FIRE:   92 07:13:49      -39.771759*       0.1046\n",
      "FIRE:   93 07:13:50      -39.771788*       0.1323\n",
      "FIRE:   94 07:13:50      -39.771831*       0.1146\n",
      "FIRE:   95 07:13:51      -39.771917*       0.1162\n",
      "FIRE:   96 07:13:51      -39.771895*       0.1199\n",
      "FIRE:   97 07:13:51      -39.771969*       0.1137\n",
      "FIRE:   98 07:13:52      -39.771947*       0.1062\n",
      "FIRE:   99 07:13:52      -39.771940*       0.1201\n",
      "FIRE:  100 07:13:53      -39.772026*       0.1290\n",
      "FIRE:  101 07:13:53      -39.772065*       0.1533\n",
      "FIRE:  102 07:13:53      -39.772045*       0.2577\n",
      "FIRE:  103 07:13:54      -39.772143*       0.0641\n",
      "FIRE:  104 07:13:54      -39.772100*       0.2081\n",
      "FIRE:  105 07:13:55      -39.772121*       0.1670\n",
      "FIRE:  106 07:13:55      -39.772161*       0.0945\n",
      "FIRE:  107 07:13:55      -39.772160*       0.0595\n",
      "FIRE:  108 07:13:56      -39.772143*       0.1189\n",
      "FIRE:  109 07:13:56      -39.772150*       0.1140\n",
      "FIRE:  110 07:13:57      -39.772159*       0.1047\n",
      "FIRE:  111 07:13:57      -39.772169*       0.0916\n",
      "FIRE:  112 07:13:57      -39.772171*       0.0762\n",
      "FIRE:  113 07:13:58      -39.772176*       0.0630\n",
      "FIRE:  114 07:13:58      -39.772174*       0.0556\n",
      "FIRE:  115 07:13:59      -39.772165*       0.0558\n",
      "FIRE:  116 07:13:59      -39.772176*       0.0618\n",
      "FIRE:  117 07:13:59      -39.772177*       0.0688\n",
      "FIRE:  118 07:14:00      -39.772181*       0.0723\n",
      "FIRE:  119 07:14:00      -39.772179*       0.0695\n",
      "FIRE:  120 07:14:01      -39.772188*       0.0611\n",
      "FIRE:  121 07:14:01      -39.772200*       0.0539\n",
      "FIRE:  122 07:14:01      -39.772202*       0.0583\n",
      "FIRE:  123 07:14:02      -39.772204*       0.0673\n",
      "FIRE:  124 07:14:02      -39.772207*       0.0658\n",
      "FIRE:  125 07:14:03      -39.772225*       0.0539\n",
      "FIRE:  126 07:14:03      -39.772234*       0.0547\n",
      "FIRE:  127 07:14:04      -39.772249*       0.0589\n",
      "FIRE:  128 07:14:04      -39.772255*       0.0490\n"
     ]
    }
   ],
   "source": [
    "images = [react.copy()]\n",
    "images += [react.copy() for i in range (7)]\n",
    "images += [prod.copy()]\n",
    "for image in images:\n",
    "    estimator = Estimator(calc_mode=EstimatorCalcMode.CRYSTAL, model_version=\"v2.0.0\")\n",
    "    calculator = ASECalculator(estimator)\n",
    "    image.calc = calculator\n",
    "neb = NEB(images, k=0.1, climb=True, allow_shared_calculator=False, parallel=True)\n",
    "neb.interpolate()\n",
    "# Check interpolated images\n",
    "# view_ngl(images, representations=[\"ball+stick\"], replace_structure=True)\n",
    "opt = FIRE(neb)\n",
    "status = opt.run(fmax=0.05, steps=500)"
   ]
  },
  {
   "cell_type": "markdown",
   "id": "d6769050-0fb1-4c17-8a0d-4131e8f558cd",
   "metadata": {},
   "source": [
    "もしログを抑制したい場合は、`FIRE(neb, logfile=None)`のような指定をするとデフォルトのoptのログが表示されなくなります。\n",
    "\n",
    "結果を見てみましょう。以下はmatplotlibを用いてエネルギーの軌跡を可視化したものです。\n",
    "\n",
    "エネルギーが一度上がった後で下がる反応が見えていると思います。\n",
    "このエネルギーが最大の点(遷移状態、transition state)と左右の安定点それぞれとのエネルギー差が活性化エネルギーに相当します。"
   ]
  },
  {
   "cell_type": "code",
   "execution_count": 7,
   "id": "0dd571d7-7dc8-4d16-8b7e-d8247b4873d5",
   "metadata": {},
   "outputs": [
    {
     "data": {
      "image/png": "[encoded data removed]",
      "text/plain": [
       "<Figure size 640x480 with 1 Axes>"
      ]
     },
     "metadata": {},
     "output_type": "display_data"
    }
   ],
   "source": [
    "energies = np.array([image.get_total_energy() for image in images])\n",
    "\n",
    "fig = plt.figure()\n",
    "ax = fig.add_subplot(1, 1, 1)\n",
    "ax.plot(energies)\n",
    "ax.set_xlabel(\"replica\")\n",
    "ax.set_ylabel(\"energy\")\n",
    "fig.show()"
   ]
  },
  {
   "cell_type": "markdown",
   "id": "0dcd2243-19f6-4932-876e-77f5726ec709",
   "metadata": {},
   "source": [
    "活性化エネルギーは以下のように計算できます。\n",
    "\n",
    "ここでは、順反応X→Yにおける活性化エネルギーを `E_act_forward`、逆反応Y→Xにおける活性化エネルギーを `E_act_backward`としています。"
   ]
  },
  {
   "cell_type": "code",
   "execution_count": 8,
   "id": "4b02f3db-a3c4-4bd8-bb3c-5dfdad369e73",
   "metadata": {},
   "outputs": [
    {
     "name": "stdout",
     "output_type": "stream",
     "text": [
      "ts_index       = 2\n",
      "E_act_forward  = 1.61 eV\n",
      "E_act_backward = 3.20 eV\n"
     ]
    }
   ],
   "source": [
    "# Transition state takes maximum energy in the reaction path\n",
    "ts_index = np.argmax(energies)\n",
    "\n",
    "E_act_forward = energies[ts_index] - energies[0]\n",
    "E_act_backward = energies[ts_index] - energies[-1]\n",
    "\n",
    "print(f\"ts_index       = {ts_index}\")\n",
    "print(f\"E_act_forward  = {E_act_forward:.2f} eV\")\n",
    "print(f\"E_act_backward = {E_act_backward:.2f} eV\")"
   ]
  },
  {
   "cell_type": "markdown",
   "id": "1ed97616-98cb-4248-89c7-d659edc75577",
   "metadata": {},
   "source": [
    "結果を見てみましょう。構造についても同様にNotebookに可視化してもいいですが、画像をファイルとして保存することもできます。今回は試しにそちらを実行してみましょう。\n",
    "\n",
    "今回はNEBのため、結果は構造1つではなく一組の軌跡として出力されています。ASEからアニメーションGIFとして保存してみましょう。"
   ]
  },
  {
   "cell_type": "code",
   "execution_count": 9,
   "id": "ff993291-fea4-4be6-968d-69df4c45d4d3",
   "metadata": {},
   "outputs": [
    {
     "data": {
      "image/png": "[encoded data removed]",
      "text/plain": [
       "<Figure size 640x480 with 1 Axes>"
      ]
     },
     "metadata": {},
     "output_type": "display_data"
    }
   ],
   "source": [
    "fig = plt.figure(facecolor=\"white\")\n",
    "ax = fig.add_subplot()\n",
    "ase.io.write(\n",
    "    \"output/curtius_NEB.gif\",\n",
    "    images,\n",
    "    format=\"gif\",\n",
    "    ax=ax\n",
    ")"
   ]
  },
  {
   "cell_type": "markdown",
   "id": "36dd297e-7eb2-44af-8d1f-8112881f90df",
   "metadata": {},
   "source": [
    "上には最終構造の静止画が表示されていると思いますが、左のファイルビューアから\"curtius_NEB.gif\"をダブルクリックして開くと直接アニメーションGIFを見ることができます。\n",
    "\n",
    "以下のようにしてファイルの中身を表示することができます。"
   ]
  },
  {
   "cell_type": "code",
   "execution_count": 10,
   "id": "5abf5550-5f63-47a4-80a7-ed6ed280438a",
   "metadata": {},
   "outputs": [
    {
     "data": {
      "image/gif": "[encoded data removed]",
      "text/plain": [
       "<IPython.core.display.Image object>"
      ]
     },
     "execution_count": 10,
     "metadata": {},
     "output_type": "execute_result"
    }
   ],
   "source": [
    "Image(\"output/curtius_NEB.gif\", format=\"gif\")"
   ]
  },
  {
   "cell_type": "markdown",
   "id": "b4734894-df3f-48b3-9a50-f3cebda93c02",
   "metadata": {},
   "source": [
    "最後に追加で、NEB法により反応経路の最適化前後がどう変わったのかを比較してみましょう。\n",
    "\n",
    "`neb.interpolate()`関数を呼び、FIRE optを行う前の反応経路の候補構造 `interpolated_images` とNEB法で最適化された後の `images` のエネルギーを比べてみます。"
   ]
  },
  {
   "cell_type": "code",
   "execution_count": 11,
   "id": "a94ccf92-189e-40ab-a3f3-e3966d6071da",
   "metadata": {},
   "outputs": [],
   "source": [
    "_images = [react.copy()]\n",
    "_images += [react.copy() for i in range (7)]\n",
    "_images += [prod.copy()]\n",
    "for image in _images:\n",
    "    estimator = Estimator()\n",
    "    calculator = ASECalculator(estimator)\n",
    "    image.calc = calculator\n",
    "neb = NEB(_images, k=0.1, climb=True, allow_shared_calculator=False, parallel=True)\n",
    "neb.interpolate()\n",
    "interpolated_images = _images"
   ]
  },
  {
   "cell_type": "code",
   "execution_count": 12,
   "id": "879edb2d-54cb-48f1-aa3b-8d92a69278d9",
   "metadata": {},
   "outputs": [
    {
     "data": {
      "image/png": "[encoded data removed]",
      "text/plain": [
       "<Figure size 640x480 with 1 Axes>"
      ]
     },
     "metadata": {},
     "output_type": "display_data"
    }
   ],
   "source": [
    "initial_energies = [image.get_total_energy() for image in interpolated_images]\n",
    "opt_energies = [image.get_total_energy() for image in images]\n",
    "\n",
    "fig = plt.figure()\n",
    "ax = fig.add_subplot(1, 1, 1)\n",
    "ax.plot(initial_energies, label=\"neb interpolated\", color=\"red\")\n",
    "ax.plot(energies, label=\"after neb opt\")\n",
    "ax.set_xlabel(\"replica\")\n",
    "ax.set_ylabel(\"energy\")\n",
    "ax.legend()\n",
    "fig.show()"
   ]
  },
  {
   "cell_type": "markdown",
   "id": "828bc668-9731-4d5d-b9ad-2bb21232272c",
   "metadata": {},
   "source": [
    "上記図からもわかるように、NEBの反応経路探索により、反応経路の候補構造(赤線)よりも活性化エネルギーエネルギーが低くなる経路=遷移状態のエネルギーが低い経路(青線) が見つかったことがわかります。"
   ]
  },
  {
   "cell_type": "markdown",
   "id": "09b82d4d-c445-42aa-ab9e-d218530ca28a",
   "metadata": {},
   "source": [
    "## [コラム] 反応経路解析手法と分子動力学法の比較\n",
    "\n",
    "本節では、反応を見るために始状態・終状態を指定したNEB法により反応経路の探索を行いました。\n",
    "\n",
    "次章で説明するような分子動力学法では、原子の時間発展を追うことができますが、そのような形でシミュレーションを行い自然と反応が起きるまで待つというアプローチはどうでしょうか？<br/>\n",
    "この方法でも活性化エネルギーの解析ができる例はあり、以下のLi ionの拡散現象はそのような例となります。\n",
    "\n",
    " - [硫化物固体電解質中のLi拡散 | MATLANTIS](https://matlantis.com/ja/calculation/li-diffusion-in-li10gep2s12-sulfide-solid-electrolyte)\n",
    "\n",
    "しかし、一般的には**反応時間**が課題となります。<br/>\n",
    "反応というのはレアイベントです。<br/>\n",
    "アレニウスの式を見ても分かる通り、活性化エネルギー $E_a$ に対して指数関数的に発生頻度が変わる現象です。\n",
    "\n",
    "$$k = A \\exp \\left(- \\frac{E_a}{k_B T} \\right)$$\n",
    "\n",
    "そのため、活性化エネルギーがとても低い場合はMDでもその反応を見ることができますが、\n",
    "すこしでも高くなってくると、MDで扱える時間スケール (〜ns程度)ではその反応が起きず、効率的に見つけることはできません。\n",
    "さらに活性化エネルギーが高くなれば日常の世界でもおこらないような現象となります。\n",
    "\n",
    "\n",
    "参考までに、具体的な値を通して活性化エネルギーと現象の起こりやすさの関係を見てみましょう。ほぼ室温である300 Kでは、アレニウスの式の指数関数内部の分母にあたる$k_B T$の値はおおまかに0.026 eVとなります。これは、エネルギーが1 eV高い現象の起きやすさが$\\exp\\left(-1/0.026\\right)$倍、つまり$2\\times10^{-17}$倍に下がるということを意味します。これはマクロスケールと原子スケールの差を考慮してもなお大きな値であり、レアイベントとみなすことができます。\n",
    "同様に計算すると、温度が1000 Kおよび2000 Kの場合は$k_B T$はそれぞれ0.086 eV, 0.172 eVとなり、エネルギーが1 eV高い現象の起きやすさはそれぞれ約$9\\times10^{-6}$倍、 $0.003$倍となります。これは300 Kのときの値と比べると大幅に大きくなっており、マクロスケールでは頻繁に起きる現象とみなすことができます。このように、一般に現象の起きやすさは活性化エネルギーと温度に対して非常に鋭敏に変化するものであることが知られています。\n",
    "NEB法のような反応経路解析を使うことによって、このような指数関数スケールにまたがるレアイベントを効率的に分析することが可能となります。"
   ]
  },
  {
   "cell_type": "code",
   "execution_count": 13,
   "id": "8307430d-8ae1-4167-a80d-803ac45e238f",
   "metadata": {},
   "outputs": [
    {
     "name": "stdout",
     "output_type": "stream",
     "text": [
      "----- T = 300 K -----\n",
      "kB T : 0.026\n",
      "ratio: 1.59e-17\n",
      "----- T = 1000 K -----\n",
      "kB T : 0.086\n",
      "ratio: 9.12e-06\n",
      "----- T = 2000 K -----\n",
      "kB T : 0.172\n",
      "ratio: 3.02e-03\n"
     ]
    }
   ],
   "source": [
    "from ase.units import kB\n",
    "from math import exp\n",
    "\n",
    "for T in [300, 1000, 2000]:\n",
    "    kBT = kB * T\n",
    "    ratio = exp(-1 / (kBT))\n",
    "\n",
    "    print(f\"----- T = {T} K -----\")\n",
    "    print(f\"kB T : {kBT:.3f}\")\n",
    "    print(f\"ratio: {ratio:.2e}\")"
   ]
  },
  {
   "cell_type": "markdown",
   "id": "96494f1f-1020-4a41-982a-8b6c88ec11bc",
   "metadata": {},
   "source": [
    "このように、MDではみることが難しいような反応も、NEB法などを使うことで効率的に探索することができる可能性があります。\n",
    "\n",
    "この他、反応経路探索に関するいくつかのアプローチ方法を以下に記載します。\n",
    "\n",
    "<table>\n",
    "  <tr>\n",
    "    <th width=\"250\">アプローチ</th>\n",
    "    <th >特徴</th>\n",
    "    <th width=\"150\">手法例</th>\n",
    "  </tr>\n",
    "  <tr>\n",
    "    <td>特定の反応経路を対象とする反応経路探索</td>\n",
    "    <td>ある2つの安定構造をつなぐ経路を出発点として、近傍の最小エネルギー経路(MEP: Minimum Energy Path)を求める手法。比較的少ない計算コストでMEPおよび対応する遷移状態を見つけられるが、いわゆる局所探索のため、結果は探索前に想定した反応経路に強く依存する。</td>\n",
    "    <td>NEB法・String法など</td>\n",
    "  </tr>\n",
    "  <tr>\n",
    "    <td>反応経路を事前に想定しない反応経路探索</td>\n",
    "    <td>反応経路や反応後の構造を事前に仮定せずに、反応経路を1つ以上見つける方法。標準的なMDを行う方法以外に、効率的にエネルギー曲面を探索することを目的としたメタダイナミクス、局所的なエネルギー曲面の情報を使って探索する手法(ADDF)などがある。</td>\n",
    "      <td>MD、メタダイナミクス、ADDFなど</td>\n",
    "  </tr>\n",
    "</table>"
   ]
  },
  {
   "cell_type": "markdown",
   "id": "07758662-a8bd-4f36-958e-8abfc8e6ad31",
   "metadata": {},
   "source": [
    "## 参考文献\n",
    "\n",
    "反応経路探索手法についてさらに知りたい方は、以下の文献も参考になるでしょう。\n",
    "\n",
    " - [新しい材料を化学反応でつくる | HPCシステムズ・計算化学ソリューション](https://www.hpc.co.jp/chem/library/c_irc/)\n",
    " - [GRRM : Global Reaction Route Mapping](https://iqce.jp/GRRM/)"
   ]
  }
 ],
 "metadata": {
  "kernelspec": {
   "display_name": "Python 3.8",
   "language": "python",
   "name": "python38"
  },
  "language_info": {
   "codemirror_mode": {
    "name": "ipython",
    "version": 3
   },
   "file_extension": ".py",
   "mimetype": "text/x-python",
   "name": "python",
   "nbconvert_exporter": "python",
   "pygments_lexer": "ipython3",
   "version": "3.8.13"
  },
  "widgets": {
   "application/vnd.jupyter.widget-state+json": {
    "state": {
     "01b2f39f888741c0be628e59792951e8": {
      "model_module": "@jupyter-widgets/controls",
      "model_module_version": "1.5.0",
      "model_name": "DescriptionStyleModel",
      "state": {
       "description_width": ""
      }
     },
     "046b84cbd023450288e37d1ddcb21026": {
      "model_module": "@jupyter-widgets/controls",
      "model_module_version": "1.5.0",
      "model_name": "LinkModel",
      "state": {
       "source": [
        "IPY_MODEL_e87649fb2af848c7b93dd714c16c5883",
        "value"
       ],
       "target": [
        "IPY_MODEL_262f95891a364ccea92c32ff41c53dd2",
        "frame"
       ]
      }
     },
     "0814c6e5c26841089f67e139ffe2cede": {
      "model_module": "@jupyter-widgets/controls",
      "model_module_version": "1.5.0",
      "model_name": "LinkModel",
      "state": {
       "source": [
        "IPY_MODEL_e87649fb2af848c7b93dd714c16c5883",
        "max"
       ],
       "target": [
        "IPY_MODEL_262f95891a364ccea92c32ff41c53dd2",
        "max_frame"
       ]
      }
     },
     "096ce8d1eb864f3eaa5aa9047baaf47c": {
      "model_module": "@jupyter-widgets/base",
      "model_module_version": "1.2.0",
      "model_name": "LayoutModel",
      "state": {}
     },
     "0ccae37d159e4f5e9e0f7da721a302bc": {
      "model_module": "@jupyter-widgets/base",
      "model_module_version": "1.2.0",
      "model_name": "LayoutModel",
      "state": {}
     },
     "0f11ee9861624b12a73011ddd0db7f36": {
      "model_module": "@jupyter-widgets/controls",
      "model_module_version": "1.5.0",
      "model_name": "ButtonModel",
      "state": {
       "description": "Download image",
       "layout": "IPY_MODEL_35d5ffe8ab754e198d052b142dc4964b",
       "style": "IPY_MODEL_9602a08b8ad147338d9663b8321a001f",
       "tooltip": "Download current frame to your local PC"
      }
     },
     "0fa807db1c8043d7a93e80ee1bf8ae2f": {
      "model_module": "@jupyter-widgets/base",
      "model_module_version": "1.2.0",
      "model_name": "LayoutModel",
      "state": {}
     },
     "162dc3e677324ee3a2af794c8102fa0a": {
      "model_module": "@jupyter-widgets/controls",
      "model_module_version": "1.5.0",
      "model_name": "LinkModel",
      "state": {
       "source": [
        "IPY_MODEL_f9a2eff0dbcf4971ac16f2ee218c7099",
        "max"
       ],
       "target": [
        "IPY_MODEL_262f95891a364ccea92c32ff41c53dd2",
        "max_frame"
       ]
      }
     },
     "21c04e465daf498a863de9f606c5c8f6": {
      "model_module": "@jupyter-widgets/base",
      "model_module_version": "1.2.0",
      "model_name": "LayoutModel",
      "state": {}
     },
     "21dfb142ce7f40ada5e709fd97fec04c": {
      "model_module": "@jupyter-widgets/controls",
      "model_module_version": "1.5.0",
      "model_name": "FloatSliderModel",
      "state": {
       "description": "Force scale",
       "layout": "IPY_MODEL_096ce8d1eb864f3eaa5aa9047baaf47c",
       "step": 0.1,
       "style": "IPY_MODEL_3f6fa3da6e6f4a24b58af84638492f30",
       "value": 0.5
      }
     },
     "262f95891a364ccea92c32ff41c53dd2": {
      "model_module": "nglview-js-widgets",
      "model_module_version": "3.0.1",
      "model_name": "NGLModel",
      "state": {
       "_camera_orientation": [
        9.610689373535678,
        0,
        0,
        0,
        0,
        9.610689373535678,
        0,
        0,
        0,
        0,
        9.610689373535678,
        0,
        -0.0690000057220459,
        0.0820000171661377,
        0,
        1
       ],
       "_camera_str": "orthographic",
       "_gui_theme": null,
       "_ibtn_fullscreen": "IPY_MODEL_a8dd6536301c4703b7566fdcf4f1ed2f",
       "_igui": null,
       "_iplayer": "IPY_MODEL_92d125173998463b91f86fa3096c2a4e",
       "_ngl_color_dict": {},
       "_ngl_coordinate_resource": {},
       "_ngl_full_stage_parameters": {
        "ambientColor": 14540253,
        "ambientIntensity": 0.2,
        "backgroundColor": "white",
        "cameraEyeSep": 0.3,
        "cameraFov": 40,
        "cameraType": "orthographic",
        "clipDist": 0,
        "clipFar": 100,
        "clipNear": 0,
        "fogFar": 100,
        "fogNear": 50,
        "hoverTimeout": 0,
        "impostor": true,
        "lightColor": 14540253,
        "lightIntensity": 1,
        "mousePreset": "default",
        "panSpeed": 1,
        "quality": "medium",
        "rotateSpeed": 2,
        "sampleLevel": 0,
        "tooltip": true,
        "workerDefault": true,
        "zoomSpeed": 1.2
       },
       "_ngl_msg_archive": [
        {
         "args": [
          {
           "binary": false,
           "data": "MODEL     1\nATOM      1    C MOL     1       2.128  -0.489   0.000  1.00  0.00           C  \nATOM      2    C MOL     1       0.790   0.206   0.000  1.00  0.00           C  \nATOM      3    N MOL     1      -0.291  -0.749  -0.000  1.00  0.00           N  \nATOM      4    O MOL     1       0.630   1.415  -0.000  1.00  0.00           O  \nATOM      5    N MOL     1      -1.449  -0.302  -0.000  1.00  0.00           N  \nATOM      6    N MOL     1      -2.553  -0.002   0.000  1.00  0.00           N  \nATOM      7    H MOL     1       2.691  -0.160  -0.883  1.00  0.00           H  \nATOM      8    H MOL     1       2.032  -1.579  -0.000  1.00  0.00           H  \nATOM      9    H MOL     1       2.691  -0.160   0.883  1.00  0.00           H  \nENDMDL\n",
           "type": "blob"
          }
         ],
         "kwargs": {
          "defaultRepresentation": false,
          "ext": "pdb"
         },
         "methodName": "loadFile",
         "reconstruc_color_scheme": false,
         "target": "Stage",
         "type": "call_method"
        },
        {
         "args": [
          "500px",
          "500px"
         ],
         "kwargs": {},
         "methodName": "setSize",
         "reconstruc_color_scheme": false,
         "target": "Widget",
         "type": "call_method"
        },
        {
         "args": [
          "unitcell"
         ],
         "component_index": 0,
         "kwargs": {
          "sele": "all"
         },
         "methodName": "addRepresentation",
         "reconstruc_color_scheme": false,
         "target": "compList",
         "type": "call_method"
        },
        {
         "args": [
          "spacefill"
         ],
         "component_index": 0,
         "kwargs": {
          "sele": "all"
         },
         "methodName": "addRepresentation",
         "reconstruc_color_scheme": false,
         "target": "compList",
         "type": "call_method"
        },
        {
         "args": [],
         "kwargs": {
          "cameraType": "orthographic"
         },
         "methodName": "setParameters",
         "reconstruc_color_scheme": false,
         "target": "Stage",
         "type": "call_method"
        },
        {
         "args": [
          {
           "clipDist": 0
          }
         ],
         "kwargs": {},
         "methodName": "setParameters",
         "reconstruc_color_scheme": false,
         "target": "Widget",
         "type": "call_method"
        },
        {
         "args": [
          "spacefill",
          0
         ],
         "kwargs": {
          "colorScale": "rainbow",
          "colorScheme": "element",
          "radiusScale": 0.5,
          "radiusType": "covalent"
         },
         "methodName": "updateRepresentationsByName",
         "reconstruc_color_scheme": false,
         "target": "Widget",
         "type": "call_method"
        },
        {
         "args": [
          "this._Q = [[1.0, 0.0, 0.0], [0.0, 1.0, 0.0], [0.0, 0.0, 1.0]]\n    var tooltip = document.createElement('div');\n    Object.assign(tooltip.style, {\n      display: 'none',\n      position: 'fixed',\n      zIndex: 10,\n      pointerEvents: 'none',\n      backgroundColor: 'rgba( 0, 0, 0, 0.6 )',\n      color: 'lightgrey',\n      padding: '8px',\n      fontFamily: 'sans-serif'\n    });\n    document.body.appendChild(tooltip);\n\n    var that = this;\n    this.stage.mouseControls.remove('hoverPick');\n    this.stage.signals.hovered.add(function (pickingProxy) {\n      if (pickingProxy && (pickingProxy.atom || pickingProxy.bond)) {\n        var atom = pickingProxy.atom || pickingProxy.closestBondAtom\n        var mp = pickingProxy.mouse.position\n        //tooltip.innerText = atom.element + ' i=' + atom.index + ' (' + atom.x.toFixed(2) +  ', ' + atom.y.toFixed(2) +  ', ' + atom.z.toFixed(2) + ')'\n        //var pos = that._atoms_pos[atom.index]\n        var Q = that._Q\n        var pos_x = Q[0][0] * atom.x + Q[0][1] * atom.y + Q[0][2] * atom.z \n        var pos_y = Q[1][0] * atom.x + Q[1][1] * atom.y + Q[1][2] * atom.z\n        var pos_z = Q[2][0] * atom.x + Q[2][1] * atom.y + Q[2][2] * atom.z\n        tooltip.innerText = 'i=' + atom.index + ' ' + atom.element + ' (' + pos_x.toFixed(2) +  ', ' + pos_y.toFixed(2) +  ', ' + pos_z.toFixed(2) + ')'\n        tooltip.style.bottom = window.innerHeight - mp.y + 3 + 'px'\n        tooltip.style.left = mp.x + 3 + 'px'\n        tooltip.style.display = 'block'\n      } else {\n        tooltip.style.display = 'none'\n      }\n    });\n    this.stage.tooltip = tooltip;\n    "
         ],
         "kwargs": {},
         "methodName": "executeCode",
         "reconstruc_color_scheme": false,
         "target": "Widget",
         "type": "call_method"
        },
        {
         "args": [
          "ball+stick"
         ],
         "component_index": 0,
         "kwargs": {
          "sele": "all"
         },
         "methodName": "addRepresentation",
         "reconstruc_color_scheme": false,
         "target": "compList",
         "type": "call_method"
        }
       ],
       "_ngl_original_stage_parameters": {
        "ambientColor": 14540253,
        "ambientIntensity": 0.2,
        "backgroundColor": "white",
        "cameraEyeSep": 0.3,
        "cameraFov": 40,
        "cameraType": "perspective",
        "clipDist": 10,
        "clipFar": 100,
        "clipNear": 0,
        "fogFar": 100,
        "fogNear": 50,
        "hoverTimeout": 0,
        "impostor": true,
        "lightColor": 14540253,
        "lightIntensity": 1,
        "mousePreset": "default",
        "panSpeed": 1,
        "quality": "medium",
        "rotateSpeed": 2,
        "sampleLevel": 0,
        "tooltip": true,
        "workerDefault": true,
        "zoomSpeed": 1.2
       },
       "_ngl_repr_dict": {
        "0": {
         "0": {
          "params": {
           "clipCenter": {
            "x": 0,
            "y": 0,
            "z": 0
           },
           "clipNear": 0,
           "clipRadius": 0,
           "colorMode": "hcl",
           "colorReverse": false,
           "colorScale": "",
           "colorScheme": "element",
           "colorValue": "orange",
           "defaultAssembly": "",
           "depthWrite": true,
           "diffuse": 16777215,
           "diffuseInterior": false,
           "disableImpostor": false,
           "disablePicking": false,
           "flatShaded": false,
           "interiorColor": 2236962,
           "interiorDarkening": 0,
           "lazy": false,
           "matrix": {
            "elements": [
             1,
             0,
             0,
             0,
             0,
             1,
             0,
             0,
             0,
             0,
             1,
             0,
             0,
             0,
             0,
             1
            ]
           },
           "metalness": 0,
           "opacity": 1,
           "quality": "medium",
           "radialSegments": 10,
           "radiusData": {},
           "radiusScale": 1,
           "radiusSize": 0.5,
           "radiusType": "vdw",
           "roughness": 0.4,
           "sele": "all",
           "side": "double",
           "sphereDetail": 1,
           "useInteriorColor": true,
           "visible": true,
           "wireframe": false
          },
          "type": "unitcell"
         },
         "1": {
          "params": {
           "assembly": "default",
           "clipCenter": {
            "x": 0,
            "y": 0,
            "z": 0
           },
           "clipNear": 0,
           "clipRadius": 0,
           "colorMode": "hcl",
           "colorReverse": false,
           "colorScale": "rainbow",
           "colorScheme": "element",
           "colorValue": 9474192,
           "defaultAssembly": "",
           "depthWrite": true,
           "diffuse": 16777215,
           "diffuseInterior": false,
           "disableImpostor": false,
           "disablePicking": false,
           "flatShaded": false,
           "interiorColor": 2236962,
           "interiorDarkening": 0,
           "lazy": false,
           "matrix": {
            "elements": [
             1,
             0,
             0,
             0,
             0,
             1,
             0,
             0,
             0,
             0,
             1,
             0,
             0,
             0,
             0,
             1
            ]
           },
           "metalness": 0,
           "opacity": 1,
           "quality": "medium",
           "radiusData": {},
           "radiusScale": 0.5,
           "radiusSize": 1,
           "radiusType": "covalent",
           "roughness": 0.4,
           "sele": "all",
           "side": "double",
           "sphereDetail": 1,
           "useInteriorColor": true,
           "visible": true,
           "wireframe": false
          },
          "type": "spacefill"
         },
         "2": {
          "params": {
           "aspectRatio": 2,
           "assembly": "default",
           "bondScale": 0.4,
           "bondSpacing": 1,
           "clipCenter": {
            "x": 0,
            "y": 0,
            "z": 0
           },
           "clipNear": 0,
           "clipRadius": 0,
           "colorMode": "hcl",
           "colorReverse": false,
           "colorScale": "",
           "colorScheme": "element",
           "colorValue": 9474192,
           "cylinderOnly": false,
           "defaultAssembly": "",
           "depthWrite": true,
           "diffuse": 16777215,
           "diffuseInterior": false,
           "disableImpostor": false,
           "disablePicking": false,
           "flatShaded": false,
           "interiorColor": 2236962,
           "interiorDarkening": 0,
           "lazy": false,
           "lineOnly": false,
           "linewidth": 2,
           "matrix": {
            "elements": [
             1,
             0,
             0,
             0,
             0,
             1,
             0,
             0,
             0,
             0,
             1,
             0,
             0,
             0,
             0,
             1
            ]
           },
           "metalness": 0,
           "multipleBond": "off",
           "opacity": 1,
           "openEnded": true,
           "quality": "medium",
           "radialSegments": 10,
           "radiusData": {},
           "radiusScale": 1,
           "radiusSize": 0.15,
           "radiusType": "size",
           "roughness": 0.4,
           "sele": "all",
           "side": "double",
           "sphereDetail": 1,
           "useInteriorColor": true,
           "visible": true,
           "wireframe": false
          },
          "type": "ball+stick"
         }
        }
       },
       "_ngl_serialize": false,
       "_ngl_version": "2.0.0-dev.36",
       "_ngl_view_id": [
        "A5DFD523-58C9-4733-8233-FBD3113899C3"
       ],
       "_player_dict": {},
       "_scene_position": {},
       "_scene_rotation": {},
       "_synced_model_ids": [],
       "_synced_repr_model_ids": [],
       "_view_height": "",
       "_view_width": "",
       "background": "white",
       "frame": 0,
       "gui_style": null,
       "layout": "IPY_MODEL_5a9b75539a8f4754818dd8a551d36dc6",
       "max_frame": 1,
       "n_components": 1,
       "picked": {}
      }
     },
     "28c75cf333ce46eba3d0681301c8c565": {
      "model_module": "@jupyter-widgets/base",
      "model_module_version": "1.2.0",
      "model_name": "LayoutModel",
      "state": {}
     },
     "35060c1d7825481cb65b58b135e0c09b": {
      "model_module": "@jupyter-widgets/controls",
      "model_module_version": "1.5.0",
      "model_name": "CheckboxModel",
      "state": {
       "description": "Show force",
       "disabled": false,
       "layout": "IPY_MODEL_0fa807db1c8043d7a93e80ee1bf8ae2f",
       "style": "IPY_MODEL_77f1622a62284784ad137637ca0be992",
       "value": false
      }
     },
     "359f7263d8d347b7803bf3605b458f53": {
      "model_module": "@jupyter-widgets/base",
      "model_module_version": "1.2.0",
      "model_name": "LayoutModel",
      "state": {}
     },
     "35d5ffe8ab754e198d052b142dc4964b": {
      "model_module": "@jupyter-widgets/base",
      "model_module_version": "1.2.0",
      "model_name": "LayoutModel",
      "state": {}
     },
     "3f6fa3da6e6f4a24b58af84638492f30": {
      "model_module": "@jupyter-widgets/controls",
      "model_module_version": "1.5.0",
      "model_name": "SliderStyleModel",
      "state": {
       "description_width": ""
      }
     },
     "4abde59c9c204e9dbf8d3404fa00fd72": {
      "model_module": "@jupyter-widgets/controls",
      "model_module_version": "1.5.0",
      "model_name": "HBoxModel",
      "state": {
       "children": [
        "IPY_MODEL_0f11ee9861624b12a73011ddd0db7f36",
        "IPY_MODEL_f43b132681c34e038d04625a78c834e6"
       ],
       "layout": "IPY_MODEL_700897f773644bc9a4f60639cb04c9ee"
      }
     },
     "516894b2872841ff9a9a1e5f28a11122": {
      "model_module": "@jupyter-widgets/controls",
      "model_module_version": "1.5.0",
      "model_name": "FloatSliderModel",
      "state": {
       "description": "Ball size",
       "layout": "IPY_MODEL_d70ca523ced346fd8c58e56a8a2bff85",
       "max": 1.5,
       "step": 0.01,
       "style": "IPY_MODEL_9783fc8f32e7406b9455611d3ee45803",
       "value": 0.5
      }
     },
     "55ce86d6f3ec4fa18386e78bcc371313": {
      "model_module": "@jupyter-widgets/controls",
      "model_module_version": "1.5.0",
      "model_name": "DescriptionStyleModel",
      "state": {
       "description_width": ""
      }
     },
     "5a9b75539a8f4754818dd8a551d36dc6": {
      "model_module": "@jupyter-widgets/base",
      "model_module_version": "1.2.0",
      "model_name": "LayoutModel",
      "state": {}
     },
     "5f88c512ddc44d7bac67ecec7457d17f": {
      "model_module": "@jupyter-widgets/base",
      "model_module_version": "1.2.0",
      "model_name": "LayoutModel",
      "state": {}
     },
     "5fbb5180573446dc95ced06c71166e35": {
      "model_module": "@jupyter-widgets/controls",
      "model_module_version": "1.5.0",
      "model_name": "TextModel",
      "state": {
       "description": "Filename: ",
       "layout": "IPY_MODEL_7b73a1a5013b49588f5b1474afdfba83",
       "style": "IPY_MODEL_72d0c8479a674db0bad03720a19351cd",
       "value": "screenshot.png"
      }
     },
     "6976e45f99f34c84b52f2acd9d6499d9": {
      "model_module": "@jupyter-widgets/base",
      "model_module_version": "1.2.0",
      "model_name": "LayoutModel",
      "state": {}
     },
     "6997f2367481448dac7236c4e698faf4": {
      "model_module": "@jupyter-widgets/output",
      "model_module_version": "1.0.0",
      "model_name": "OutputModel",
      "state": {
       "layout": "IPY_MODEL_9c9bb2cf1091409f82548a9eb6d67c59"
      }
     },
     "6aa9e1c76855425b982fc902e5d812cf": {
      "model_module": "@jupyter-widgets/controls",
      "model_module_version": "1.5.0",
      "model_name": "FloatSliderModel",
      "state": {
       "description": "Charge scale",
       "layout": "IPY_MODEL_28c75cf333ce46eba3d0681301c8c565",
       "step": 0.1,
       "style": "IPY_MODEL_91162cc35ce345878b0357bec98a3f82",
       "value": 1
      }
     },
     "700897f773644bc9a4f60639cb04c9ee": {
      "model_module": "@jupyter-widgets/base",
      "model_module_version": "1.2.0",
      "model_name": "LayoutModel",
      "state": {}
     },
     "706ddcb90cd143829b06c724c7176776": {
      "model_module": "@jupyter-widgets/controls",
      "model_module_version": "1.5.0",
      "model_name": "DescriptionStyleModel",
      "state": {
       "description_width": ""
      }
     },
     "72d0c8479a674db0bad03720a19351cd": {
      "model_module": "@jupyter-widgets/controls",
      "model_module_version": "1.5.0",
      "model_name": "DescriptionStyleModel",
      "state": {
       "description_width": ""
      }
     },
     "732b7b23b8a14ea9b372a004d8b0e0a9": {
      "model_module": "@jupyter-widgets/base",
      "model_module_version": "1.2.0",
      "model_name": "LayoutModel",
      "state": {}
     },
     "77f1622a62284784ad137637ca0be992": {
      "model_module": "@jupyter-widgets/controls",
      "model_module_version": "1.5.0",
      "model_name": "DescriptionStyleModel",
      "state": {
       "description_width": ""
      }
     },
     "7b1ed2d4210c4375b4ffa3021175dd61": {
      "model_module": "@jupyter-widgets/controls",
      "model_module_version": "1.5.0",
      "model_name": "LinkModel",
      "state": {
       "source": [
        "IPY_MODEL_e87649fb2af848c7b93dd714c16c5883",
        "value"
       ],
       "target": [
        "IPY_MODEL_f9a2eff0dbcf4971ac16f2ee218c7099",
        "value"
       ]
      }
     },
     "7b73a1a5013b49588f5b1474afdfba83": {
      "model_module": "@jupyter-widgets/base",
      "model_module_version": "1.2.0",
      "model_name": "LayoutModel",
      "state": {}
     },
     "7b8fef2e37da441691d8ad184729c23a": {
      "model_module": "@jupyter-widgets/controls",
      "model_module_version": "1.5.0",
      "model_name": "SliderStyleModel",
      "state": {
       "description_width": ""
      }
     },
     "7ca2918b0b9242478db69eb0d4d6daeb": {
      "model_module": "@jupyter-widgets/controls",
      "model_module_version": "1.5.0",
      "model_name": "VBoxModel",
      "state": {
       "children": [
        "IPY_MODEL_918c3d0d227145008561938c32b6c67e",
        "IPY_MODEL_f1da2d1ed920491da0f11a7c029b73f3",
        "IPY_MODEL_516894b2872841ff9a9a1e5f28a11122",
        "IPY_MODEL_dd0340ef618841d596b23d50315fe264",
        "IPY_MODEL_5fbb5180573446dc95ced06c71166e35",
        "IPY_MODEL_4abde59c9c204e9dbf8d3404fa00fd72",
        "IPY_MODEL_35060c1d7825481cb65b58b135e0c09b",
        "IPY_MODEL_21dfb142ce7f40ada5e709fd97fec04c",
        "IPY_MODEL_d1d27eb6cec345b2bf1e53aa64d11b37",
        "IPY_MODEL_6aa9e1c76855425b982fc902e5d812cf",
        "IPY_MODEL_6997f2367481448dac7236c4e698faf4"
       ],
       "layout": "IPY_MODEL_a29c598fab3449f397c5030fdae4488f"
      }
     },
     "7d4b5ed9a5d7491aa77851b72a09852e": {
      "model_module": "@jupyter-widgets/controls",
      "model_module_version": "1.5.0",
      "model_name": "ButtonStyleModel",
      "state": {}
     },
     "7ebc8deab2fa4b51833ad41bec5de2ad": {
      "model_module": "@jupyter-widgets/controls",
      "model_module_version": "1.5.0",
      "model_name": "ButtonStyleModel",
      "state": {}
     },
     "859ce3a22b384c00805f6fb69b9fccf8": {
      "model_module": "@jupyter-widgets/base",
      "model_module_version": "1.2.0",
      "model_name": "LayoutModel",
      "state": {}
     },
     "8a6cfd3d35024d5cb601bdb2b93088ff": {
      "model_module": "@jupyter-widgets/base",
      "model_module_version": "1.2.0",
      "model_name": "LayoutModel",
      "state": {}
     },
     "8deb9f32d54d4b81adc389ffc59d0540": {
      "model_module": "@jupyter-widgets/controls",
      "model_module_version": "1.5.0",
      "model_name": "HBoxModel",
      "state": {
       "children": [
        "IPY_MODEL_262f95891a364ccea92c32ff41c53dd2",
        "IPY_MODEL_7ca2918b0b9242478db69eb0d4d6daeb"
       ],
       "layout": "IPY_MODEL_5f88c512ddc44d7bac67ecec7457d17f"
      }
     },
     "91162cc35ce345878b0357bec98a3f82": {
      "model_module": "@jupyter-widgets/controls",
      "model_module_version": "1.5.0",
      "model_name": "SliderStyleModel",
      "state": {
       "description_width": ""
      }
     },
     "918c3d0d227145008561938c32b6c67e": {
      "model_module": "@jupyter-widgets/controls",
      "model_module_version": "1.5.0",
      "model_name": "DropdownModel",
      "state": {
       "_options_labels": [
        "All",
        "O",
        "N",
        "C",
        "H"
       ],
       "description": "Show",
       "index": 0,
       "layout": "IPY_MODEL_0ccae37d159e4f5e9e0f7da721a302bc",
       "style": "IPY_MODEL_706ddcb90cd143829b06c724c7176776"
      }
     },
     "92d125173998463b91f86fa3096c2a4e": {
      "model_module": "@jupyter-widgets/controls",
      "model_module_version": "1.5.0",
      "model_name": "HBoxModel",
      "state": {
       "children": [
        "IPY_MODEL_e87649fb2af848c7b93dd714c16c5883",
        "IPY_MODEL_f9a2eff0dbcf4971ac16f2ee218c7099"
       ],
       "layout": "IPY_MODEL_732b7b23b8a14ea9b372a004d8b0e0a9"
      }
     },
     "9602a08b8ad147338d9663b8321a001f": {
      "model_module": "@jupyter-widgets/controls",
      "model_module_version": "1.5.0",
      "model_name": "ButtonStyleModel",
      "state": {}
     },
     "9783fc8f32e7406b9455611d3ee45803": {
      "model_module": "@jupyter-widgets/controls",
      "model_module_version": "1.5.0",
      "model_name": "SliderStyleModel",
      "state": {
       "description_width": ""
      }
     },
     "97bb85d764714ead8391e15138f0bc0c": {
      "model_module": "@jupyter-widgets/controls",
      "model_module_version": "1.5.0",
      "model_name": "SliderStyleModel",
      "state": {
       "description_width": ""
      }
     },
     "9c9bb2cf1091409f82548a9eb6d67c59": {
      "model_module": "@jupyter-widgets/base",
      "model_module_version": "1.2.0",
      "model_name": "LayoutModel",
      "state": {
       "border": "0px solid black"
      }
     },
     "a29c598fab3449f397c5030fdae4488f": {
      "model_module": "@jupyter-widgets/base",
      "model_module_version": "1.2.0",
      "model_name": "LayoutModel",
      "state": {}
     },
     "a70974d0732744bcb732f1ee8d606876": {
      "model_module": "@jupyter-widgets/base",
      "model_module_version": "1.2.0",
      "model_name": "LayoutModel",
      "state": {}
     },
     "a8dd6536301c4703b7566fdcf4f1ed2f": {
      "model_module": "@jupyter-widgets/controls",
      "model_module_version": "1.5.0",
      "model_name": "ButtonModel",
      "state": {
       "icon": "compress",
       "layout": "IPY_MODEL_f680f9de339844ca806b129ee83b4720",
       "style": "IPY_MODEL_7ebc8deab2fa4b51833ad41bec5de2ad"
      }
     },
     "ae641344585f444980ae7a0e9a17891d": {
      "model_module": "@jupyter-widgets/controls",
      "model_module_version": "1.5.0",
      "model_name": "ImageModel",
      "state": {
       "layout": "IPY_MODEL_6976e45f99f34c84b52f2acd9d6499d9",
       "width": "900.0"
      }
     },
     "b32e1a19d91941ec8ea69f6fefbe10c3": {
      "model_module": "nglview-js-widgets",
      "model_module_version": "3.0.1",
      "model_name": "ColormakerRegistryModel",
      "state": {
       "_msg_ar": [],
       "_msg_q": [],
       "_ready": true,
       "layout": "IPY_MODEL_a70974d0732744bcb732f1ee8d606876"
      }
     },
     "d17829fea0674dd0b72632568d446b8f": {
      "model_module": "@jupyter-widgets/controls",
      "model_module_version": "1.5.0",
      "model_name": "DescriptionStyleModel",
      "state": {
       "description_width": ""
      }
     },
     "d1d27eb6cec345b2bf1e53aa64d11b37": {
      "model_module": "@jupyter-widgets/controls",
      "model_module_version": "1.5.0",
      "model_name": "CheckboxModel",
      "state": {
       "description": "Show charge",
       "disabled": false,
       "layout": "IPY_MODEL_ed23892fe2aa4fcf8c8b3dcbb4a80be4",
       "style": "IPY_MODEL_d17829fea0674dd0b72632568d446b8f",
       "value": false
      }
     },
     "d70ca523ced346fd8c58e56a8a2bff85": {
      "model_module": "@jupyter-widgets/base",
      "model_module_version": "1.2.0",
      "model_name": "LayoutModel",
      "state": {}
     },
     "dd0340ef618841d596b23d50315fe264": {
      "model_module": "@jupyter-widgets/controls",
      "model_module_version": "1.5.0",
      "model_name": "IntSliderModel",
      "state": {
       "layout": "IPY_MODEL_359f7263d8d347b7803bf3605b458f53",
       "max": 1,
       "style": "IPY_MODEL_97bb85d764714ead8391e15138f0bc0c"
      }
     },
     "e2cba217e0bf4d54a9fe60c6d8bc3691": {
      "model_module": "@jupyter-widgets/base",
      "model_module_version": "1.2.0",
      "model_name": "LayoutModel",
      "state": {}
     },
     "e87649fb2af848c7b93dd714c16c5883": {
      "model_module": "@jupyter-widgets/controls",
      "model_module_version": "1.5.0",
      "model_name": "PlayModel",
      "state": {
       "layout": "IPY_MODEL_859ce3a22b384c00805f6fb69b9fccf8",
       "max": 1,
       "style": "IPY_MODEL_01b2f39f888741c0be628e59792951e8"
      }
     },
     "ed23892fe2aa4fcf8c8b3dcbb4a80be4": {
      "model_module": "@jupyter-widgets/base",
      "model_module_version": "1.2.0",
      "model_name": "LayoutModel",
      "state": {}
     },
     "f1da2d1ed920491da0f11a7c029b73f3": {
      "model_module": "@jupyter-widgets/controls",
      "model_module_version": "1.5.0",
      "model_name": "DropdownModel",
      "state": {
       "_options_labels": [
        " ",
        "picking",
        "random",
        "uniform",
        "atomindex",
        "residueindex",
        "chainindex",
        "modelindex",
        "sstruc",
        "element",
        "resname",
        "bfactor",
        "hydrophobicity",
        "value",
        "volume",
        "occupancy"
       ],
       "description": "Color scheme",
       "index": 9,
       "layout": "IPY_MODEL_8a6cfd3d35024d5cb601bdb2b93088ff",
       "style": "IPY_MODEL_55ce86d6f3ec4fa18386e78bcc371313"
      }
     },
     "f43b132681c34e038d04625a78c834e6": {
      "model_module": "@jupyter-widgets/controls",
      "model_module_version": "1.5.0",
      "model_name": "ButtonModel",
      "state": {
       "description": "Save image",
       "layout": "IPY_MODEL_21c04e465daf498a863de9f606c5c8f6",
       "style": "IPY_MODEL_7d4b5ed9a5d7491aa77851b72a09852e",
       "tooltip": "Save current frame to file.\nCurrently .png and .html are supported.\nIt takes a bit time, please be patient."
      }
     },
     "f680f9de339844ca806b129ee83b4720": {
      "model_module": "@jupyter-widgets/base",
      "model_module_version": "1.2.0",
      "model_name": "LayoutModel",
      "state": {
       "width": "34px"
      }
     },
     "f9a2eff0dbcf4971ac16f2ee218c7099": {
      "model_module": "@jupyter-widgets/controls",
      "model_module_version": "1.5.0",
      "model_name": "IntSliderModel",
      "state": {
       "layout": "IPY_MODEL_e2cba217e0bf4d54a9fe60c6d8bc3691",
       "max": 1,
       "style": "IPY_MODEL_7b8fef2e37da441691d8ad184729c23a"
      }
     }
    },
    "version_major": 2,
    "version_minor": 0
   }
  }
 },
 "nbformat": 4,
 "nbformat_minor": 5
}
