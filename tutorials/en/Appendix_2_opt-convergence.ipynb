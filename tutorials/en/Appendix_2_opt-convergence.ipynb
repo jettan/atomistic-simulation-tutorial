{
 "cells": [
  {
   "cell_type": "markdown",
   "id": "2dadfc18-5201-40ea-9c56-89354dc29a90",
   "metadata": {},
   "source": [
    "# Appendix 2: Opt algorithm fmax experiment"
   ]
  },
  {
   "cell_type": "markdown",
   "id": "52595534-f0dd-4beb-b56e-d5dba7d25a59",
   "metadata": {},
   "source": [
    "We survey the behavior of structural optimization parameter `fmax`."
   ]
  },
  {
   "cell_type": "code",
   "execution_count": null,
   "id": "1b962e17-9af2-4b35-99af-f610ca889031",
   "metadata": {},
   "outputs": [],
   "source": [
    "!pip install more_itertools"
   ]
  },
  {
   "cell_type": "code",
   "execution_count": 2,
   "id": "ba52f4ad-edc4-4186-a5a1-b4e4b9c4e1e9",
   "metadata": {},
   "outputs": [
    {
     "data": {
      "application/vnd.jupyter.widget-view+json": {
       "model_id": "04b526fb40944645903cb002a2f37339",
       "version_major": 2,
       "version_minor": 0
      },
      "text/plain": []
     },
     "metadata": {},
     "output_type": "display_data"
    },
    {
     "name": "stderr",
     "output_type": "stream",
     "text": [
      "/home/jovyan/.local/lib/python3.7/site-packages/matlantis_features/features/common/fire_lbfgs.py:12: FutureWarning: matlantis_features.features.common.fire_lbfgs is deprecated; use ase_ext.optimize\n",
      "  FutureWarning,\n"
     ]
    }
   ],
   "source": [
    "from ase import Atoms\n",
    "from ase.constraints import ExpCellFilter, FixAtoms\n",
    "from ase.build import bulk, molecule, add_adsorbate, surface\n",
    "from ase.optimize import FIRE\n",
    "from ase.units import kB\n",
    "import pandas as pd\n",
    "from tqdm.auto import tqdm\n",
    "import numpy as np\n",
    "from more_itertools import windowed\n",
    "import pfp_api_client\n",
    "from pfp_api_client.pfp.calculators.ase_calculator import ASECalculator\n",
    "from pfp_api_client.pfp.estimator import Estimator, EstimatorCalcMode\n",
    "from pfcc_extras.structure.ase_rdkit_converter import smiles_to_atoms, atoms_to_smiles\n",
    "from pfcc_extras.visualize.view import view_ngl\n",
    "from matlantis_features.features.common.fire_lbfgs import FIRELBFGS"
   ]
  },
  {
   "cell_type": "code",
   "execution_count": 3,
   "id": "2991576f-a681-496a-b454-a43af860ffd1",
   "metadata": {},
   "outputs": [],
   "source": [
    "def max_distance(atoms1: Atoms, atoms2: Atoms) -> float:\n",
    "    return float(np.max(np.linalg.norm(atoms1.positions - atoms2.positions, axis=1)))"
   ]
  },
  {
   "cell_type": "code",
   "execution_count": 4,
   "id": "948e42a0-dd35-455c-8a18-aaa5ab5259d2",
   "metadata": {},
   "outputs": [],
   "source": [
    "calc_mol = ASECalculator(Estimator(calc_mode=EstimatorCalcMode.MOLECULE, model_version=\"v2.0.0\"))\n",
    "calc = ASECalculator(Estimator(calc_mode=EstimatorCalcMode.CRYSTAL, model_version=\"v2.0.0\"))\n",
    "calc_d3 = ASECalculator(Estimator(calc_mode=EstimatorCalcMode.CRYSTAL_PLUS_D3, model_version=\"v2.0.0\"))"
   ]
  },
  {
   "cell_type": "markdown",
   "id": "4998da81-4d39-406d-985b-b26f9576369c",
   "metadata": {},
   "source": [
    "## Example where fmax=0.05eV/A is sufficient\n",
    "\n",
    "The default value of `fmax` is 0.05eV/A in ASE, which is accurate enough in many cases.\n",
    "\n",
    "Let's check this for molecular and solid examples, respectively.\n",
    "\n",
    "### Example of molecule"
   ]
  },
  {
   "cell_type": "code",
   "execution_count": 5,
   "id": "2d6156ec-abd9-4ec2-bdc8-e1c9cac80e04",
   "metadata": {},
   "outputs": [],
   "source": [
    "fmax_list = [0.05, 0.01, 0.001]"
   ]
  },
  {
   "cell_type": "code",
   "execution_count": 6,
   "id": "964f468f-83d9-4f3e-80fc-29276af4e063",
   "metadata": {},
   "outputs": [
    {
     "data": {
      "application/vnd.jupyter.widget-view+json": {
       "model_id": "3e3c92635ef14671b4f9c2bede53986a",
       "version_major": 2,
       "version_minor": 0
      },
      "text/plain": [
       "  0%|          | 0/3 [00:00<?, ?it/s]"
      ]
     },
     "metadata": {},
     "output_type": "display_data"
    }
   ],
   "source": [
    "atoms = molecule(\"C2H6\")\n",
    "atoms.rattle(stdev=0.1)\n",
    "atoms.calc = calc_mol\n",
    "images = []\n",
    "for fmax in tqdm(fmax_list):\n",
    "    with FIRE(atoms, logfile=None) as opt:\n",
    "        opt.run(fmax=fmax)\n",
    "        images.append(atoms.copy())"
   ]
  },
  {
   "cell_type": "code",
   "execution_count": 7,
   "id": "9d0c6363-863d-4a2e-85f4-bf60a1531742",
   "metadata": {},
   "outputs": [
    {
     "data": {
      "text/html": [
       "<div>\n",
       "<style scoped>\n",
       "    .dataframe tbody tr th:only-of-type {\n",
       "        vertical-align: middle;\n",
       "    }\n",
       "\n",
       "    .dataframe tbody tr th {\n",
       "        vertical-align: top;\n",
       "    }\n",
       "\n",
       "    .dataframe thead th {\n",
       "        text-align: right;\n",
       "    }\n",
       "</style>\n",
       "<table border=\"1\" class=\"dataframe\">\n",
       "  <thead>\n",
       "    <tr style=\"text-align: right;\">\n",
       "      <th></th>\n",
       "      <th>fmax</th>\n",
       "      <th>energy (eV)</th>\n",
       "      <th>distance (A)</th>\n",
       "    </tr>\n",
       "  </thead>\n",
       "  <tbody>\n",
       "    <tr>\n",
       "      <th>0</th>\n",
       "      <td>fmax 0.05-&gt;0.01</td>\n",
       "      <td>-0.002484</td>\n",
       "      <td>0.030840</td>\n",
       "    </tr>\n",
       "    <tr>\n",
       "      <th>1</th>\n",
       "      <td>fmax 0.01-&gt;0.001</td>\n",
       "      <td>-0.000402</td>\n",
       "      <td>0.017346</td>\n",
       "    </tr>\n",
       "  </tbody>\n",
       "</table>\n",
       "</div>"
      ],
      "text/plain": [
       "               fmax  energy (eV)  distance (A)\n",
       "0   fmax 0.05->0.01    -0.002484      0.030840\n",
       "1  fmax 0.01->0.001    -0.000402      0.017346"
      ]
     },
     "execution_count": 7,
     "metadata": {},
     "output_type": "execute_result"
    }
   ],
   "source": [
    "for atoms in images:\n",
    "    atoms.calc = calc_mol\n",
    "\n",
    "results = {\n",
    "    \"fmax\": [],\n",
    "    \"energy (eV)\": [],\n",
    "    \"distance (A)\": [],\n",
    "}\n",
    "for (fmax_old, old), (fmax_new, new) in windowed(zip(fmax_list, images), 2):\n",
    "    de = new.get_potential_energy() - old.get_potential_energy()\n",
    "    dx = max_distance(new, old)\n",
    "    results[\"energy (eV)\"].append(de)\n",
    "    results[\"distance (A)\"].append(dx)\n",
    "    results[\"fmax\"].append(f\"fmax {fmax_old}->{fmax_new}\")\n",
    "pd.DataFrame(results)"
   ]
  },
  {
   "cell_type": "markdown",
   "id": "e6082971-fe64-4ef8-9f30-2060724710cc",
   "metadata": {},
   "source": [
    "### Example of solid"
   ]
  },
  {
   "cell_type": "code",
   "execution_count": 8,
   "id": "29bb10d6-43e3-4ef7-9803-30ab8050cc4a",
   "metadata": {},
   "outputs": [],
   "source": [
    "fmax_list = [0.05, 0.01, 0.001]"
   ]
  },
  {
   "cell_type": "code",
   "execution_count": 9,
   "id": "5713fee3-5fa4-44c0-944a-1c069af7bfb9",
   "metadata": {},
   "outputs": [
    {
     "data": {
      "application/vnd.jupyter.widget-view+json": {
       "model_id": "5699b9015c194e01814674a4491aaec2",
       "version_major": 2,
       "version_minor": 0
      },
      "text/plain": [
       "  0%|          | 0/3 [00:00<?, ?it/s]"
      ]
     },
     "metadata": {},
     "output_type": "display_data"
    }
   ],
   "source": [
    "atoms = bulk(\"Pt\") * (4, 4, 4)\n",
    "atoms.rattle(stdev=0.1)\n",
    "atoms.calc = calc_mol\n",
    "images = []\n",
    "for fmax in tqdm(fmax_list):\n",
    "    with FIRE(atoms, logfile=None) as opt:\n",
    "        opt.run(fmax=fmax)\n",
    "        images.append(atoms.copy())"
   ]
  },
  {
   "cell_type": "code",
   "execution_count": 10,
   "id": "dcaaaa7d-bed8-4579-9c71-17d2fbd5ed4f",
   "metadata": {},
   "outputs": [
    {
     "data": {
      "text/html": [
       "<div>\n",
       "<style scoped>\n",
       "    .dataframe tbody tr th:only-of-type {\n",
       "        vertical-align: middle;\n",
       "    }\n",
       "\n",
       "    .dataframe tbody tr th {\n",
       "        vertical-align: top;\n",
       "    }\n",
       "\n",
       "    .dataframe thead th {\n",
       "        text-align: right;\n",
       "    }\n",
       "</style>\n",
       "<table border=\"1\" class=\"dataframe\">\n",
       "  <thead>\n",
       "    <tr style=\"text-align: right;\">\n",
       "      <th></th>\n",
       "      <th>fmax</th>\n",
       "      <th>energy (eV)</th>\n",
       "      <th>distance (A)</th>\n",
       "    </tr>\n",
       "  </thead>\n",
       "  <tbody>\n",
       "    <tr>\n",
       "      <th>0</th>\n",
       "      <td>fmax 0.05-&gt;0.01</td>\n",
       "      <td>-0.005323</td>\n",
       "      <td>0.016975</td>\n",
       "    </tr>\n",
       "    <tr>\n",
       "      <th>1</th>\n",
       "      <td>fmax 0.01-&gt;0.001</td>\n",
       "      <td>-0.001351</td>\n",
       "      <td>0.013533</td>\n",
       "    </tr>\n",
       "  </tbody>\n",
       "</table>\n",
       "</div>"
      ],
      "text/plain": [
       "               fmax  energy (eV)  distance (A)\n",
       "0   fmax 0.05->0.01    -0.005323      0.016975\n",
       "1  fmax 0.01->0.001    -0.001351      0.013533"
      ]
     },
     "execution_count": 10,
     "metadata": {},
     "output_type": "execute_result"
    }
   ],
   "source": [
    "for atoms in images:\n",
    "    atoms.calc = calc_mol\n",
    "\n",
    "results = {\n",
    "    \"fmax\": [],\n",
    "    \"energy (eV)\": [],\n",
    "    \"distance (A)\": [],\n",
    "}\n",
    "for (fmax_old, old), (fmax_new, new) in windowed(zip(fmax_list, images), 2):\n",
    "    de = new.get_potential_energy() - old.get_potential_energy()\n",
    "    dx = max_distance(new, old)\n",
    "    results[\"energy (eV)\"].append(de)\n",
    "    results[\"distance (A)\"].append(dx)\n",
    "    results[\"fmax\"].append(f\"fmax {fmax_old}->{fmax_new}\")\n",
    "pd.DataFrame(results)"
   ]
  },
  {
   "cell_type": "markdown",
   "id": "e8b574a0-0061-4f1e-a2bb-b29da9222459",
   "metadata": {},
   "source": [
    "In both cases, even the most mobile atom moved only about 0.01A and its energy changed only about 0.01eV.\n",
    "The energy difference of 0.01 eV is about 1.5 times the difference in existence ratio at 300 K. \n",
    "If you want to search for materials at room temperature, this value may be enough for the precision you want in your numerical calculations.\n",
    "\n",
    "In addition, the chemical accuracy, which is considered to correspond to the accuracy of experimental chemistry, is about 0.04 eV, but many numerical methods do not reach that accuracy, and in this sense, this accuracy is probably not necessary in many cases.\n",
    "\n",
    "The existence ratio at 300 K of two structures with an energy difference of 0.01 eV is obtained from the Boltzmann factor as follows"
   ]
  },
  {
   "cell_type": "code",
   "execution_count": 11,
   "id": "0115429b-dbbe-4b5e-aa93-f218487e9758",
   "metadata": {},
   "outputs": [
    {
     "data": {
      "text/plain": [
       "1.4722876299701386"
      ]
     },
     "execution_count": 11,
     "metadata": {},
     "output_type": "execute_result"
    }
   ],
   "source": [
    "np.exp(0.01 / (300 * kB))"
   ]
  },
  {
   "cell_type": "markdown",
   "id": "d695066b-3e31-4306-94c5-256f685a4866",
   "metadata": {},
   "source": [
    "## Example where fmax=0.05eV is insufficient\n",
    "\n",
    "### Examples of lack of precision with respect to energy\n",
    "\n",
    "This example is a little tricky, but let us consider an example where 2,3-Dimethyl-2-butene is loosely adsorbed on the Pt surface. In such an example, due to the gentle force acting on the molecule, the structural optimization stops halfway at fmax=0.05eV/A, resulting in a large energy difference compared to a further optimization.\n",
    "Since this kind of situation could occur, it would be better to use the smallest `fmax` possible for a more reliable structural optimization."
   ]
  },
  {
   "cell_type": "code",
   "execution_count": 12,
   "id": "244daaa9-9fdd-48b8-98c4-5d4a3ee5e85d",
   "metadata": {},
   "outputs": [],
   "source": [
    "bulk1111 = bulk(\"Pt\")\n",
    "bulk1111.calc = calc_d3\n",
    "with FIRELBFGS(ExpCellFilter(bulk1111), logfile=None) as opt:\n",
    "    opt.run(0.0001)"
   ]
  },
  {
   "cell_type": "code",
   "execution_count": 13,
   "id": "9f3bb3ef-c2f0-477b-81bf-9cc9d5df0b7f",
   "metadata": {},
   "outputs": [],
   "source": [
    "atoms = surface(bulk1111, (1, 1, 1), 4, vacuum=20.0) * (4, 4, 1)\n",
    "c = atoms.cell[2, 2] / 2\n",
    "atoms.constraints = [FixAtoms(mask=[atom.position[2] < c for atom in atoms])]\n",
    "atoms.rattle(stdev=0.1)\n",
    "ads = smiles_to_atoms(\"CC(=C(C)C)C\")\n",
    "v = (ads.positions[0] - ads.positions[1]) / 2\n",
    "p = (atoms.cell[0, :2] + atoms.cell[1, :2]) / 2\n",
    "add_adsorbate(atoms, ads, 4.0, position=tuple(p))\n",
    "atoms.positions[64:] = atoms.positions[64:] + v\n",
    "atoms.calc = calc_d3"
   ]
  },
  {
   "cell_type": "code",
   "execution_count": 14,
   "id": "ce23c753-3c99-4d4b-ab5d-5b7721db33d6",
   "metadata": {},
   "outputs": [
    {
     "data": {
      "application/vnd.jupyter.widget-view+json": {
       "model_id": "dbc9cadef5ac4b2ab19528ab5f201b62",
       "version_major": 2,
       "version_minor": 0
      },
      "text/plain": [
       "HBox(children=(NGLWidget(), VBox(children=(Dropdown(description='Show', options=('All', 'C', 'H', 'Pt'), value…"
      ]
     },
     "metadata": {},
     "output_type": "display_data"
    }
   ],
   "source": [
    "view_ngl(atoms, representations=[\"ball+stick\"])"
   ]
  },
  {
   "cell_type": "code",
   "execution_count": 15,
   "id": "ea3da008-651e-40c2-9c86-0976622a3731",
   "metadata": {},
   "outputs": [],
   "source": [
    "fmax_list = [0.05, 0.01, 0.001]"
   ]
  },
  {
   "cell_type": "code",
   "execution_count": 16,
   "id": "5a44e49f-c0a3-41b1-b09a-bfca7e32fe50",
   "metadata": {
    "tags": []
   },
   "outputs": [
    {
     "data": {
      "application/vnd.jupyter.widget-view+json": {
       "model_id": "94f39928162b4e21bbd249d8df32688c",
       "version_major": 2,
       "version_minor": 0
      },
      "text/plain": [
       "  0%|          | 0/3 [00:00<?, ?it/s]"
      ]
     },
     "metadata": {},
     "output_type": "display_data"
    }
   ],
   "source": [
    "images = []\n",
    "for fmax in tqdm(fmax_list):\n",
    "    with FIRELBFGS(atoms, logfile=None) as opt:\n",
    "        opt.run(fmax=fmax)\n",
    "        images.append(atoms.copy())"
   ]
  },
  {
   "cell_type": "code",
   "execution_count": 17,
   "id": "71c3e517-a8bc-4399-9fa1-6087c0802f20",
   "metadata": {},
   "outputs": [
    {
     "data": {
      "text/html": [
       "<div>\n",
       "<style scoped>\n",
       "    .dataframe tbody tr th:only-of-type {\n",
       "        vertical-align: middle;\n",
       "    }\n",
       "\n",
       "    .dataframe tbody tr th {\n",
       "        vertical-align: top;\n",
       "    }\n",
       "\n",
       "    .dataframe thead th {\n",
       "        text-align: right;\n",
       "    }\n",
       "</style>\n",
       "<table border=\"1\" class=\"dataframe\">\n",
       "  <thead>\n",
       "    <tr style=\"text-align: right;\">\n",
       "      <th></th>\n",
       "      <th>fmax</th>\n",
       "      <th>energy (eV)</th>\n",
       "      <th>distance (A)</th>\n",
       "    </tr>\n",
       "  </thead>\n",
       "  <tbody>\n",
       "    <tr>\n",
       "      <th>0</th>\n",
       "      <td>fmax 0.05-&gt;0.01</td>\n",
       "      <td>-0.213606</td>\n",
       "      <td>4.068967</td>\n",
       "    </tr>\n",
       "    <tr>\n",
       "      <th>1</th>\n",
       "      <td>fmax 0.01-&gt;0.001</td>\n",
       "      <td>-0.987591</td>\n",
       "      <td>2.578896</td>\n",
       "    </tr>\n",
       "  </tbody>\n",
       "</table>\n",
       "</div>"
      ],
      "text/plain": [
       "               fmax  energy (eV)  distance (A)\n",
       "0   fmax 0.05->0.01    -0.213606      4.068967\n",
       "1  fmax 0.01->0.001    -0.987591      2.578896"
      ]
     },
     "execution_count": 17,
     "metadata": {},
     "output_type": "execute_result"
    }
   ],
   "source": [
    "for atoms in images:\n",
    "    atoms.calc = calc_mol\n",
    "\n",
    "results = {\n",
    "    \"fmax\": [],\n",
    "    \"energy (eV)\": [],\n",
    "    \"distance (A)\": [],\n",
    "}\n",
    "for (fmax_old, old), (fmax_new, new) in windowed(zip(fmax_list, images), 2):\n",
    "    de = new.get_potential_energy() - old.get_potential_energy()\n",
    "    dx = max_distance(new, old)\n",
    "    results[\"energy (eV)\"].append(de)\n",
    "    results[\"distance (A)\"].append(dx)\n",
    "    results[\"fmax\"].append(f\"fmax {fmax_old}->{fmax_new}\")\n",
    "pd.DataFrame(results)"
   ]
  },
  {
   "cell_type": "code",
   "execution_count": 18,
   "id": "166f01df-023b-49b4-89f5-466325c2d4a4",
   "metadata": {},
   "outputs": [
    {
     "data": {
      "application/vnd.jupyter.widget-view+json": {
       "model_id": "818f7a931614457a8a9ff449ea5c92ed",
       "version_major": 2,
       "version_minor": 0
      },
      "text/plain": [
       "HBox(children=(NGLWidget(max_frame=2), VBox(children=(Dropdown(description='Show', options=('All', 'C', 'H', '…"
      ]
     },
     "metadata": {},
     "output_type": "display_data"
    }
   ],
   "source": [
    "view_ngl(images, representations=[\"ball+stick\"], replace_structure=True)"
   ]
  },
  {
   "cell_type": "markdown",
   "id": "3f49e101-a9a9-47b4-b76f-67e8f735b5dd",
   "metadata": {},
   "source": [
    "### Example of lack of precision with respect to structure (1)\n",
    "\n",
    "In the example of ethylene adsorbed on a Pt(111) surface, the structural optimization stops halfway at fmax=0.05eV."
   ]
  },
  {
   "cell_type": "code",
   "execution_count": 19,
   "id": "4389dcc2-970b-44dc-81c7-2dc741f3d5f5",
   "metadata": {
    "tags": []
   },
   "outputs": [],
   "source": [
    "bulk1111 = bulk(\"Pt\")\n",
    "bulk1111.calc = calc\n",
    "with FIRELBFGS(ExpCellFilter(bulk1111), logfile=None) as opt:\n",
    "    opt.run(0.0001)"
   ]
  },
  {
   "cell_type": "code",
   "execution_count": 20,
   "id": "85ea2cd2-a7ed-4116-b546-3b27296d7a9a",
   "metadata": {},
   "outputs": [],
   "source": [
    "atoms = surface(bulk1111, (1, 1, 1), 4, vacuum=20.0) * (4, 4, 1)\n",
    "c = atoms.cell[2, 2] / 2\n",
    "atoms.constraints = [FixAtoms(mask=[atom.position[2] < c for atom in atoms])]\n",
    "atoms.calc = calc\n",
    "atoms.rattle(stdev=0.1)\n",
    "add_adsorbate(atoms, smiles_to_atoms(\"C=C\"), 2.0, position=tuple((atoms.cell[0, :2] + atoms.cell[1, :2]) / 2))"
   ]
  },
  {
   "cell_type": "code",
   "execution_count": 21,
   "id": "15639190-986e-4c76-a2e6-4561e2b69b48",
   "metadata": {},
   "outputs": [
    {
     "data": {
      "application/vnd.jupyter.widget-view+json": {
       "model_id": "e6d305995d9948fdb166b9711b3a8b7d",
       "version_major": 2,
       "version_minor": 0
      },
      "text/plain": [
       "HBox(children=(NGLWidget(), VBox(children=(Dropdown(description='Show', options=('All', 'C', 'H', 'Pt'), value…"
      ]
     },
     "metadata": {},
     "output_type": "display_data"
    }
   ],
   "source": [
    "view_ngl(atoms, representations=[\"ball+stick\"])"
   ]
  },
  {
   "cell_type": "code",
   "execution_count": 22,
   "id": "f41a461d-db2f-47a3-9cd4-5e3259b33705",
   "metadata": {
    "tags": []
   },
   "outputs": [
    {
     "data": {
      "application/vnd.jupyter.widget-view+json": {
       "model_id": "849ca7ef6dd34d29bd50c9abd272d3a3",
       "version_major": 2,
       "version_minor": 0
      },
      "text/plain": [
       "  0%|          | 0/3 [00:00<?, ?it/s]"
      ]
     },
     "metadata": {},
     "output_type": "display_data"
    }
   ],
   "source": [
    "images = []\n",
    "for fmax in tqdm(fmax_list):\n",
    "    with FIRELBFGS(atoms, logfile=None) as opt:\n",
    "        opt.run(fmax=fmax)\n",
    "        images.append(atoms.copy())"
   ]
  },
  {
   "cell_type": "code",
   "execution_count": 23,
   "id": "f5673535-cf2a-4aa1-89b0-9199206990be",
   "metadata": {},
   "outputs": [
    {
     "data": {
      "text/html": [
       "<div>\n",
       "<style scoped>\n",
       "    .dataframe tbody tr th:only-of-type {\n",
       "        vertical-align: middle;\n",
       "    }\n",
       "\n",
       "    .dataframe tbody tr th {\n",
       "        vertical-align: top;\n",
       "    }\n",
       "\n",
       "    .dataframe thead th {\n",
       "        text-align: right;\n",
       "    }\n",
       "</style>\n",
       "<table border=\"1\" class=\"dataframe\">\n",
       "  <thead>\n",
       "    <tr style=\"text-align: right;\">\n",
       "      <th></th>\n",
       "      <th>fmax</th>\n",
       "      <th>energy (eV)</th>\n",
       "      <th>distance (A)</th>\n",
       "    </tr>\n",
       "  </thead>\n",
       "  <tbody>\n",
       "    <tr>\n",
       "      <th>0</th>\n",
       "      <td>fmax 0.05-&gt;0.01</td>\n",
       "      <td>-0.020390</td>\n",
       "      <td>0.285722</td>\n",
       "    </tr>\n",
       "    <tr>\n",
       "      <th>1</th>\n",
       "      <td>fmax 0.01-&gt;0.001</td>\n",
       "      <td>-0.001203</td>\n",
       "      <td>0.083779</td>\n",
       "    </tr>\n",
       "  </tbody>\n",
       "</table>\n",
       "</div>"
      ],
      "text/plain": [
       "               fmax  energy (eV)  distance (A)\n",
       "0   fmax 0.05->0.01    -0.020390      0.285722\n",
       "1  fmax 0.01->0.001    -0.001203      0.083779"
      ]
     },
     "execution_count": 23,
     "metadata": {},
     "output_type": "execute_result"
    }
   ],
   "source": [
    "for atoms in images:\n",
    "    atoms.calc = calc_mol\n",
    "\n",
    "results = {\n",
    "    \"fmax\": [],\n",
    "    \"energy (eV)\": [],\n",
    "    \"distance (A)\": [],\n",
    "}\n",
    "for (fmax_old, old), (fmax_new, new) in windowed(zip(fmax_list, images), 2):\n",
    "    de = new.get_potential_energy() - old.get_potential_energy()\n",
    "    dx = max_distance(new, old)\n",
    "    results[\"energy (eV)\"].append(de)\n",
    "    results[\"distance (A)\"].append(dx)\n",
    "    results[\"fmax\"].append(f\"fmax {fmax_old}->{fmax_new}\")\n",
    "pd.DataFrame(results)"
   ]
  },
  {
   "cell_type": "code",
   "execution_count": 24,
   "id": "9f9b04e7-6c4e-4f80-bbcd-ccbadd3515da",
   "metadata": {},
   "outputs": [
    {
     "data": {
      "application/vnd.jupyter.widget-view+json": {
       "model_id": "3b15f6b9740e4dbe8fcd46de74be1d36",
       "version_major": 2,
       "version_minor": 0
      },
      "text/plain": [
       "HBox(children=(NGLWidget(max_frame=2), VBox(children=(Dropdown(description='Show', options=('All', 'C', 'H', '…"
      ]
     },
     "metadata": {},
     "output_type": "display_data"
    }
   ],
   "source": [
    "view_ngl(images, representations=[\"ball+stick\"], replace_structure=True)"
   ]
  },
  {
   "cell_type": "markdown",
   "id": "b67ec50c-8de3-4ee4-9d61-95e1d48b7960",
   "metadata": {},
   "source": [
    "There is an obvious difference between the structure optimized halfway and one that fully relaxed. \n",
    "However, the energy difference is not so big in this example, so we may decide to ignore the difference in some cases."
   ]
  },
  {
   "cell_type": "markdown",
   "id": "1db303f8-91da-4773-a176-1aadac3b46c9",
   "metadata": {},
   "source": [
    "### Example of lack of precision with respect to structure (2)\n",
    "\n",
    "Let us try to rotate the methyl group of toluene, which is well known as a difficult system to optimize the structure."
   ]
  },
  {
   "cell_type": "code",
   "execution_count": 25,
   "id": "d6c6acdd-7ed7-42c3-ab76-25bb4331b36d",
   "metadata": {
    "tags": []
   },
   "outputs": [],
   "source": [
    "atoms = smiles_to_atoms(\"Cc1ccccc1\")\n",
    "tmp = atoms[7:10]\n",
    "tmp.rotate([1.0, 0.0, 0.0], 15.0)\n",
    "atoms.positions[7:10] = tmp.positions\n",
    "atoms.calc = calc_mol"
   ]
  },
  {
   "cell_type": "code",
   "execution_count": 26,
   "id": "59204b72-d8dc-4f3d-bf5c-4cc4e4f8f084",
   "metadata": {},
   "outputs": [
    {
     "data": {
      "application/vnd.jupyter.widget-view+json": {
       "model_id": "279d4843c23e481499344349d732a271",
       "version_major": 2,
       "version_minor": 0
      },
      "text/plain": [
       "HBox(children=(NGLWidget(), VBox(children=(Dropdown(description='Show', options=('All', 'C', 'H'), value='All'…"
      ]
     },
     "metadata": {},
     "output_type": "display_data"
    }
   ],
   "source": [
    "view_ngl(atoms, representations=[\"ball+stick\"])"
   ]
  },
  {
   "cell_type": "code",
   "execution_count": 27,
   "id": "55a93eed-31bf-4dfb-9673-f4074f5b48a1",
   "metadata": {
    "tags": []
   },
   "outputs": [
    {
     "data": {
      "application/vnd.jupyter.widget-view+json": {
       "model_id": "b4cd676de8f24fabb742ba54e6da4874",
       "version_major": 2,
       "version_minor": 0
      },
      "text/plain": [
       "  0%|          | 0/3 [00:00<?, ?it/s]"
      ]
     },
     "metadata": {},
     "output_type": "display_data"
    }
   ],
   "source": [
    "images = []\n",
    "for fmax in tqdm(fmax_list):\n",
    "    with FIRELBFGS(atoms, logfile=None) as opt:\n",
    "        opt.run(fmax=fmax)\n",
    "        images.append(atoms.copy())"
   ]
  },
  {
   "cell_type": "code",
   "execution_count": 28,
   "id": "e04acee2-6313-448e-9059-0bbb7c9405bf",
   "metadata": {},
   "outputs": [
    {
     "data": {
      "text/html": [
       "<div>\n",
       "<style scoped>\n",
       "    .dataframe tbody tr th:only-of-type {\n",
       "        vertical-align: middle;\n",
       "    }\n",
       "\n",
       "    .dataframe tbody tr th {\n",
       "        vertical-align: top;\n",
       "    }\n",
       "\n",
       "    .dataframe thead th {\n",
       "        text-align: right;\n",
       "    }\n",
       "</style>\n",
       "<table border=\"1\" class=\"dataframe\">\n",
       "  <thead>\n",
       "    <tr style=\"text-align: right;\">\n",
       "      <th></th>\n",
       "      <th>fmax</th>\n",
       "      <th>energy (eV)</th>\n",
       "      <th>distance (A)</th>\n",
       "    </tr>\n",
       "  </thead>\n",
       "  <tbody>\n",
       "    <tr>\n",
       "      <th>0</th>\n",
       "      <td>fmax 0.05-&gt;0.01</td>\n",
       "      <td>-0.001788</td>\n",
       "      <td>0.028956</td>\n",
       "    </tr>\n",
       "    <tr>\n",
       "      <th>1</th>\n",
       "      <td>fmax 0.01-&gt;0.001</td>\n",
       "      <td>-0.001723</td>\n",
       "      <td>0.260170</td>\n",
       "    </tr>\n",
       "  </tbody>\n",
       "</table>\n",
       "</div>"
      ],
      "text/plain": [
       "               fmax  energy (eV)  distance (A)\n",
       "0   fmax 0.05->0.01    -0.001788      0.028956\n",
       "1  fmax 0.01->0.001    -0.001723      0.260170"
      ]
     },
     "execution_count": 28,
     "metadata": {},
     "output_type": "execute_result"
    }
   ],
   "source": [
    "for atoms in images:\n",
    "    atoms.calc = calc_mol\n",
    "\n",
    "results = {\n",
    "    \"fmax\": [],\n",
    "    \"energy (eV)\": [],\n",
    "    \"distance (A)\": [],\n",
    "}\n",
    "for (fmax_old, old), (fmax_new, new) in windowed(zip(fmax_list, images), 2):\n",
    "    de = new.get_potential_energy() - old.get_potential_energy()\n",
    "    dx = max_distance(new, old)\n",
    "    results[\"energy (eV)\"].append(de)\n",
    "    results[\"distance (A)\"].append(dx)\n",
    "    results[\"fmax\"].append(f\"fmax {fmax_old}->{fmax_new}\")\n",
    "pd.DataFrame(results)"
   ]
  },
  {
   "cell_type": "code",
   "execution_count": 29,
   "id": "b397f32a-8726-4533-a82d-1c0da3c35ba2",
   "metadata": {},
   "outputs": [
    {
     "data": {
      "application/vnd.jupyter.widget-view+json": {
       "model_id": "8ec991133d9647bfac1e0b973c11c446",
       "version_major": 2,
       "version_minor": 0
      },
      "text/plain": [
       "HBox(children=(NGLWidget(max_frame=2), VBox(children=(Dropdown(description='Show', options=('All', 'C', 'H'), …"
      ]
     },
     "metadata": {},
     "output_type": "display_data"
    }
   ],
   "source": [
    "view_ngl(images, representations=[\"ball+stick\"], replace_structure=True)"
   ]
  },
  {
   "cell_type": "markdown",
   "id": "7499e7e7-bb8f-4cba-8969-08d7cb61e06a",
   "metadata": {},
   "source": [
    "You can see that the rotation of the methyl group of toluene does not change the energy difference much while the angle is changed.\n",
    "In such an example, we need to use a small `fmax` to predict the most stable structure.\n",
    "The energy difference of 0.002 eV has only an effect of 1.08 times the existence ratio at 300 K, so it is safe to say that it has almost no effect.\n",
    "Therefore, such a small energy difference can be ignored in some cases.\n",
    "However, if you want to perform an analysis where the energy is assumed to be extremely small, such as vibration analysis, it may have a negative impact on the analysis."
   ]
  },
  {
   "cell_type": "code",
   "execution_count": 30,
   "id": "b580d626-86be-40cc-9747-1a6114c93472",
   "metadata": {},
   "outputs": [
    {
     "data": {
      "text/plain": [
       "1.080434721876578"
      ]
     },
     "execution_count": 30,
     "metadata": {},
     "output_type": "execute_result"
    }
   ],
   "source": [
    "np.exp(0.002 / (300 * kB))"
   ]
  }
 ],
 "metadata": {
  "kernelspec": {
   "display_name": "Python 3.8",
   "language": "python",
   "name": "python38"
  },
  "language_info": {
   "codemirror_mode": {
    "name": "ipython",
    "version": 3
   },
   "file_extension": ".py",
   "mimetype": "text/x-python",
   "name": "python",
   "nbconvert_exporter": "python",
   "pygments_lexer": "ipython3",
   "version": "3.8.13"
  },
  "widgets": {
   "application/vnd.jupyter.widget-state+json": {
    "state": {
     "008e088f55f14a3a9ddd8b7812fc051c": {
      "model_module": "@jupyter-widgets/controls",
      "model_module_version": "1.5.0",
      "model_name": "CheckboxModel",
      "state": {
       "description": "Show force",
       "disabled": false,
       "layout": "IPY_MODEL_392972add61243719cd404407d0da93d",
       "style": "IPY_MODEL_14da2e2da97748c689fb633a7ad33127",
       "value": false
      }
     },
     "0309fb50ee7241ada4beef783240371a": {
      "model_module": "@jupyter-widgets/controls",
      "model_module_version": "1.5.0",
      "model_name": "PlayModel",
      "state": {
       "layout": "IPY_MODEL_044234b2ba984a82bacafe69511a0e62",
       "max": 2,
       "style": "IPY_MODEL_924dcec2502444c2b8cc4a305b194900"
      }
     },
     "03d223f012554d30b7d664c1056f3f0e": {
      "model_module": "@jupyter-widgets/controls",
      "model_module_version": "1.5.0",
      "model_name": "DescriptionStyleModel",
      "state": {
       "description_width": ""
      }
     },
     "03f7bdf7991d47dfb20daf87e222ff04": {
      "model_module": "@jupyter-widgets/controls",
      "model_module_version": "1.5.0",
      "model_name": "FloatSliderModel",
      "state": {
       "description": "Force scale",
       "layout": "IPY_MODEL_1f58c8435220458586443aa6ef5f2fa3",
       "step": 0.1,
       "style": "IPY_MODEL_dd3512f6b2e74c6db510fb1699353c5b",
       "value": 0.5
      }
     },
     "04392612ccda4cabb771dddd378865e5": {
      "model_module": "@jupyter-widgets/controls",
      "model_module_version": "1.5.0",
      "model_name": "ButtonModel",
      "state": {
       "description": "Save image",
       "layout": "IPY_MODEL_a3d2968c8c854334b0b55ba746e09613",
       "style": "IPY_MODEL_5e471f99bb7d44b784b7c53b52e056e7",
       "tooltip": "Save current frame to file.\nCurrently .png and .html are supported.\nIt takes a bit time, please be patient."
      }
     },
     "044234b2ba984a82bacafe69511a0e62": {
      "model_module": "@jupyter-widgets/base",
      "model_module_version": "1.2.0",
      "model_name": "LayoutModel",
      "state": {}
     },
     "04b526fb40944645903cb002a2f37339": {
      "model_module": "nglview-js-widgets",
      "model_module_version": "3.0.1",
      "model_name": "ColormakerRegistryModel",
      "state": {
       "_msg_ar": [],
       "_msg_q": [],
       "_ready": true,
       "layout": "IPY_MODEL_da4a0d0ef6e447c19604a4580b031c6b"
      }
     },
     "05b44d6f5cc3415f9e7fe11a3f7c5cff": {
      "model_module": "@jupyter-widgets/controls",
      "model_module_version": "1.5.0",
      "model_name": "SliderStyleModel",
      "state": {
       "description_width": ""
      }
     },
     "05f580fe7fb04f79938e35e95cfc7d79": {
      "model_module": "@jupyter-widgets/base",
      "model_module_version": "1.2.0",
      "model_name": "LayoutModel",
      "state": {}
     },
     "05fca858c2374ef59778e52c753886a5": {
      "model_module": "@jupyter-widgets/controls",
      "model_module_version": "1.5.0",
      "model_name": "ButtonModel",
      "state": {
       "description": "Download image",
       "layout": "IPY_MODEL_0d4bafcb8eb640e2a8bb62c98e317993",
       "style": "IPY_MODEL_6dd8a5b33f6b4bd8a187d702fd17200b",
       "tooltip": "Download current frame to your local PC"
      }
     },
     "090ebb8875c9420792fae5d1ca7dd1ef": {
      "model_module": "@jupyter-widgets/controls",
      "model_module_version": "1.5.0",
      "model_name": "FloatSliderModel",
      "state": {
       "description": "Force scale",
       "layout": "IPY_MODEL_aa344f27950f4a8cabcc57193ab91e6f",
       "step": 0.1,
       "style": "IPY_MODEL_99c4b88bed6c442d8261405fab0fdea8",
       "value": 0.5
      }
     },
     "0918474b46d74edeb496365d3dda34f2": {
      "model_module": "@jupyter-widgets/controls",
      "model_module_version": "1.5.0",
      "model_name": "DescriptionStyleModel",
      "state": {
       "description_width": ""
      }
     },
     "0982712dc6504081a644f8968502bc02": {
      "model_module": "@jupyter-widgets/controls",
      "model_module_version": "1.5.0",
      "model_name": "DescriptionStyleModel",
      "state": {
       "description_width": ""
      }
     },
     "098a669d1c1740e9aebd27dafcb22d3e": {
      "model_module": "@jupyter-widgets/output",
      "model_module_version": "1.0.0",
      "model_name": "OutputModel",
      "state": {
       "layout": "IPY_MODEL_2749a13efe2b47b88c5d65715f8db11b"
      }
     },
     "0b0e785d32644439a56dc5439cb3b1a7": {
      "model_module": "@jupyter-widgets/controls",
      "model_module_version": "1.5.0",
      "model_name": "DescriptionStyleModel",
      "state": {
       "description_width": ""
      }
     },
     "0b2e84cdf9cb4ac19b0d57ebf0ba4b84": {
      "model_module": "@jupyter-widgets/base",
      "model_module_version": "1.2.0",
      "model_name": "LayoutModel",
      "state": {}
     },
     "0b51f2d33f42488c83822d356aa71524": {
      "model_module": "@jupyter-widgets/controls",
      "model_module_version": "1.5.0",
      "model_name": "HBoxModel",
      "state": {
       "children": [
        "IPY_MODEL_1ac0d0f0eb9146fda2ecc829f87a3d1d",
        "IPY_MODEL_631b27cee03042c79c01a2ff71a5c251"
       ],
       "layout": "IPY_MODEL_672c3cadacc345bba8b498802e7e4cc7"
      }
     },
     "0b71506e0e474508936bf566f3af55e5": {
      "model_module": "@jupyter-widgets/base",
      "model_module_version": "1.2.0",
      "model_name": "LayoutModel",
      "state": {}
     },
     "0b86739583d3460486a478159a29b8f7": {
      "model_module": "@jupyter-widgets/controls",
      "model_module_version": "1.5.0",
      "model_name": "FloatProgressModel",
      "state": {
       "bar_style": "success",
       "layout": "IPY_MODEL_f7d9ffc5e15d4b2987969b043d0a8fbf",
       "max": 3,
       "style": "IPY_MODEL_d725e091237f4ee98aabaef03eddfb7d",
       "value": 3
      }
     },
     "0b9f6d5db94b47f6ad3d970ec4997df8": {
      "model_module": "@jupyter-widgets/controls",
      "model_module_version": "1.5.0",
      "model_name": "LinkModel",
      "state": {
       "source": [
        "IPY_MODEL_1ac0d0f0eb9146fda2ecc829f87a3d1d",
        "max"
       ],
       "target": [
        "IPY_MODEL_f637c16575fe4120842afe8cbb8a8df9",
        "max_frame"
       ]
      }
     },
     "0c3271c7344942728e5f2fb80552c3e2": {
      "model_module": "@jupyter-widgets/controls",
      "model_module_version": "1.5.0",
      "model_name": "ProgressStyleModel",
      "state": {
       "description_width": ""
      }
     },
     "0cd620cc4bc249528f6dd26bbf993dcf": {
      "model_module": "@jupyter-widgets/controls",
      "model_module_version": "1.5.0",
      "model_name": "ButtonStyleModel",
      "state": {}
     },
     "0d4bafcb8eb640e2a8bb62c98e317993": {
      "model_module": "@jupyter-widgets/base",
      "model_module_version": "1.2.0",
      "model_name": "LayoutModel",
      "state": {}
     },
     "0e772ef637fa441387c2cddcce69fac2": {
      "model_module": "@jupyter-widgets/controls",
      "model_module_version": "1.5.0",
      "model_name": "ImageModel",
      "state": {
       "layout": "IPY_MODEL_f2787fb89692462eaf50de177011c5b3",
       "width": "900.0"
      }
     },
     "0fd977b9b15a4ed9acb8aa641736981b": {
      "model_module": "@jupyter-widgets/base",
      "model_module_version": "1.2.0",
      "model_name": "LayoutModel",
      "state": {}
     },
     "100e6fdede5d479f9728e6d6eb81113d": {
      "model_module": "@jupyter-widgets/controls",
      "model_module_version": "1.5.0",
      "model_name": "DescriptionStyleModel",
      "state": {
       "description_width": ""
      }
     },
     "11064f6155384e2b88c08ce0c6ac164c": {
      "model_module": "@jupyter-widgets/controls",
      "model_module_version": "1.5.0",
      "model_name": "CheckboxModel",
      "state": {
       "description": "Show force",
       "disabled": false,
       "layout": "IPY_MODEL_da7bad432baf4928adaff12b3cbe45e7",
       "style": "IPY_MODEL_0918474b46d74edeb496365d3dda34f2",
       "value": false
      }
     },
     "11fb6505ed6f423298216bbc3f3e97b4": {
      "model_module": "@jupyter-widgets/controls",
      "model_module_version": "1.5.0",
      "model_name": "IntSliderModel",
      "state": {
       "layout": "IPY_MODEL_799e2e5115184037b09538a650bd8d70",
       "max": 2,
       "style": "IPY_MODEL_5fad2b125bf642e491c48b9f0d24abc5"
      }
     },
     "1244f28a03bc4acf963312235ded86d1": {
      "model_module": "@jupyter-widgets/base",
      "model_module_version": "1.2.0",
      "model_name": "LayoutModel",
      "state": {}
     },
     "12600bc2aa4c4fb3bbb77556127969b7": {
      "model_module": "@jupyter-widgets/base",
      "model_module_version": "1.2.0",
      "model_name": "LayoutModel",
      "state": {}
     },
     "130b7e5044a24b9dbdc304dcc95dc941": {
      "model_module": "@jupyter-widgets/base",
      "model_module_version": "1.2.0",
      "model_name": "LayoutModel",
      "state": {}
     },
     "1399403d4e754ac69f98b33f2258493f": {
      "model_module": "@jupyter-widgets/controls",
      "model_module_version": "1.5.0",
      "model_name": "PlayModel",
      "state": {
       "layout": "IPY_MODEL_e15fa14e0ac24eecbcce9b6311948507",
       "max": 0,
       "style": "IPY_MODEL_d5bdf00d0ac04e8caef606d42a425855"
      }
     },
     "14a043e9b3b34c78b457a3388f8795cd": {
      "model_module": "@jupyter-widgets/base",
      "model_module_version": "1.2.0",
      "model_name": "LayoutModel",
      "state": {}
     },
     "14da2e2da97748c689fb633a7ad33127": {
      "model_module": "@jupyter-widgets/controls",
      "model_module_version": "1.5.0",
      "model_name": "DescriptionStyleModel",
      "state": {
       "description_width": ""
      }
     },
     "153a750152064278b33559cdabb3ed1b": {
      "model_module": "@jupyter-widgets/controls",
      "model_module_version": "1.5.0",
      "model_name": "ButtonModel",
      "state": {
       "description": "Save image",
       "layout": "IPY_MODEL_b5c1e9541f564d239d3bfefce3df7e72",
       "style": "IPY_MODEL_490b17fbe63e468685fc365a39d43f8b",
       "tooltip": "Save current frame to file.\nCurrently .png and .html are supported.\nIt takes a bit time, please be patient."
      }
     },
     "15426f8705aa434aa8cb73cb8dfe7333": {
      "model_module": "@jupyter-widgets/controls",
      "model_module_version": "1.5.0",
      "model_name": "IntSliderModel",
      "state": {
       "layout": "IPY_MODEL_5f9dac04bf1b493c88a5a5357820df0b",
       "max": 2,
       "style": "IPY_MODEL_51cc409361f74857b3ee1a9f8b7d8960"
      }
     },
     "15c43a41d937450eb212f1bb946056ee": {
      "model_module": "@jupyter-widgets/controls",
      "model_module_version": "1.5.0",
      "model_name": "DescriptionStyleModel",
      "state": {
       "description_width": ""
      }
     },
     "16c3e08446d141c6bc55b35a2fade929": {
      "model_module": "@jupyter-widgets/controls",
      "model_module_version": "1.5.0",
      "model_name": "FloatProgressModel",
      "state": {
       "bar_style": "success",
       "layout": "IPY_MODEL_866fbee4f2384feeb980a531eb94d471",
       "max": 3,
       "style": "IPY_MODEL_453662966af749abb28445455924dc91",
       "value": 3
      }
     },
     "17746c9f0f5d47cf8604dea841736cad": {
      "model_module": "@jupyter-widgets/base",
      "model_module_version": "1.2.0",
      "model_name": "LayoutModel",
      "state": {}
     },
     "17ab0131462f4de894311dc6d4e6be91": {
      "model_module": "@jupyter-widgets/controls",
      "model_module_version": "1.5.0",
      "model_name": "ButtonModel",
      "state": {
       "description": "Download image",
       "layout": "IPY_MODEL_88b8ee0fc7a5419e85f0b4ba0f80ea15",
       "style": "IPY_MODEL_297bd7ffd8ff45b6a76cc032452c91c8",
       "tooltip": "Download current frame to your local PC"
      }
     },
     "191bfea87ff84569b8e1adceaceb9b6a": {
      "model_module": "@jupyter-widgets/controls",
      "model_module_version": "1.5.0",
      "model_name": "FloatProgressModel",
      "state": {
       "bar_style": "success",
       "layout": "IPY_MODEL_a62a849f73ea41f99cebeb6d87c3b57c",
       "max": 3,
       "style": "IPY_MODEL_0c3271c7344942728e5f2fb80552c3e2",
       "value": 3
      }
     },
     "1955d58d866944eb973ac952e83ddfe1": {
      "model_module": "nglview-js-widgets",
      "model_module_version": "3.0.1",
      "model_name": "NGLModel",
      "state": {
       "_camera_orientation": [
        26.65068162834567,
        0.7836570269853421,
        0.11957223155926162,
        0,
        0.38046290042577574,
        -9.116220419680223,
        -25.05268489306395,
        0,
        -0.6954594423136238,
        25.043315555928494,
        -9.123372689977913,
        0,
        -7.629499912261963,
        -4.382000209763646,
        -26.302499771118164,
        1
       ],
       "_camera_str": "orthographic",
       "_gui_theme": null,
       "_ibtn_fullscreen": "IPY_MODEL_2f3042013e40474296872508d0459c8f",
       "_igui": null,
       "_iplayer": "IPY_MODEL_99805fdb40bb42239ae247c02022ff6d",
       "_ngl_color_dict": {},
       "_ngl_coordinate_resource": {},
       "_ngl_full_stage_parameters": {
        "ambientColor": 14540253,
        "ambientIntensity": 0.2,
        "backgroundColor": "white",
        "cameraEyeSep": 0.3,
        "cameraFov": 40,
        "cameraType": "orthographic",
        "clipDist": 0,
        "clipFar": 100,
        "clipNear": 0,
        "fogFar": 100,
        "fogNear": 50,
        "hoverTimeout": 0,
        "impostor": true,
        "lightColor": 14540253,
        "lightIntensity": 1,
        "mousePreset": "default",
        "panSpeed": 1,
        "quality": "medium",
        "rotateSpeed": 2,
        "sampleLevel": 0,
        "tooltip": true,
        "workerDefault": true,
        "zoomSpeed": 1.2
       },
       "_ngl_msg_archive": [
        {
         "args": [
          {
           "binary": false,
           "data": "CRYST1   11.097   11.097   46.796  90.00  90.00  60.00 P 1\nMODEL     1\nATOM      1   Pt MOL     1       0.000   0.000  20.000  1.00  0.00          PT  \nATOM      2   Pt MOL     1       2.774   1.602  22.265  1.00  0.00          PT  \nATOM      3   Pt MOL     1       1.545   0.878  24.484  1.00  0.00          PT  \nATOM      4   Pt MOL     1       2.829  -0.046  26.749  1.00  0.00          PT  \nATOM      5   Pt MOL     1       1.387   2.403  20.000  1.00  0.00          PT  \nATOM      6   Pt MOL     1       4.162   4.004  22.265  1.00  0.00          PT  \nATOM      7   Pt MOL     1       2.684   3.062  24.677  1.00  0.00          PT  \nATOM      8   Pt MOL     1       4.139   2.409  26.653  1.00  0.00          PT  \nATOM      9   Pt MOL     1       2.774   4.805  20.000  1.00  0.00          PT  \nATOM     10   Pt MOL     1       5.549   6.407  22.265  1.00  0.00          PT  \nATOM     11   Pt MOL     1       4.101   5.791  24.529  1.00  0.00          PT  \nATOM     12   Pt MOL     1       5.443   4.888  26.674  1.00  0.00          PT  \nATOM     13   Pt MOL     1       4.162   7.208  20.000  1.00  0.00          PT  \nATOM     14   Pt MOL     1       6.936   8.810  22.265  1.00  0.00          PT  \nATOM     15   Pt MOL     1       5.537   7.979  24.383  1.00  0.00          PT  \nATOM     16   Pt MOL     1       6.864   7.162  26.901  1.00  0.00          PT  \nATOM     17   Pt MOL     1       2.774   0.000  20.000  1.00  0.00          PT  \nATOM     18   Pt MOL     1       5.549   1.602  22.265  1.00  0.00          PT  \nATOM     19   Pt MOL     1       4.265   0.894  24.447  1.00  0.00          PT  \nATOM     20   Pt MOL     1       5.518   0.033  26.893  1.00  0.00          PT  \nATOM     21   Pt MOL     1       4.162   2.403  20.000  1.00  0.00          PT  \nATOM     22   Pt MOL     1       6.936   4.004  22.265  1.00  0.00          PT  \nATOM     23   Pt MOL     1       5.542   3.304  24.567  1.00  0.00          PT  \nATOM     24   Pt MOL     1       6.871   2.439  26.950  1.00  0.00          PT  \nATOM     25   Pt MOL     1       5.549   4.805  20.000  1.00  0.00          PT  \nATOM     26   Pt MOL     1       8.323   6.407  22.265  1.00  0.00          PT  \nATOM     27   Pt MOL     1       6.945   5.407  24.509  1.00  0.00          PT  \nATOM     28   Pt MOL     1       8.359   4.953  26.744  1.00  0.00          PT  \nATOM     29   Pt MOL     1       6.936   7.208  20.000  1.00  0.00          PT  \nATOM     30   Pt MOL     1       9.710   8.810  22.265  1.00  0.00          PT  \nATOM     31   Pt MOL     1       8.333   8.106  24.460  1.00  0.00          PT  \nATOM     32   Pt MOL     1       9.677   7.169  26.649  1.00  0.00          PT  \nATOM     33   Pt MOL     1       5.549   0.000  20.000  1.00  0.00          PT  \nATOM     34   Pt MOL     1       8.323   1.602  22.265  1.00  0.00          PT  \nATOM     35   Pt MOL     1       6.902   0.721  24.514  1.00  0.00          PT  \nATOM     36   Pt MOL     1       8.363   0.189  26.813  1.00  0.00          PT  \nATOM     37   Pt MOL     1       6.936   2.403  20.000  1.00  0.00          PT  \nATOM     38   Pt MOL     1       9.710   4.004  22.265  1.00  0.00          PT  \nATOM     39   Pt MOL     1       8.304   3.234  24.527  1.00  0.00          PT  \nATOM     40   Pt MOL     1       9.593   2.517  26.871  1.00  0.00          PT  \nATOM     41   Pt MOL     1       8.323   4.805  20.000  1.00  0.00          PT  \nATOM     42   Pt MOL     1      11.097   6.407  22.265  1.00  0.00          PT  \nATOM     43   Pt MOL     1       9.611   5.550  24.540  1.00  0.00          PT  \nATOM     44   Pt MOL     1      11.047   4.650  26.803  1.00  0.00          PT  \nATOM     45   Pt MOL     1       9.710   7.208  20.000  1.00  0.00          PT  \nATOM     46   Pt MOL     1      12.485   8.810  22.265  1.00  0.00          PT  \nATOM     47   Pt MOL     1      11.179   7.886  24.553  1.00  0.00          PT  \nATOM     48   Pt MOL     1      12.615   7.047  26.814  1.00  0.00          PT  \nATOM     49   Pt MOL     1       8.323   0.000  20.000  1.00  0.00          PT  \nATOM     50   Pt MOL     1      11.097   1.602  22.265  1.00  0.00          PT  \nATOM     51   Pt MOL     1       9.735   0.836  24.463  1.00  0.00          PT  \nATOM     52   Pt MOL     1      11.121   0.029  26.724  1.00  0.00          PT  \nATOM     53   Pt MOL     1       9.710   2.403  20.000  1.00  0.00          PT  \nATOM     54   Pt MOL     1      12.485   4.004  22.265  1.00  0.00          PT  \nATOM     55   Pt MOL     1      11.213   3.121  24.627  1.00  0.00          PT  \nATOM     56   Pt MOL     1      12.526   2.485  26.985  1.00  0.00          PT  \nATOM     57   Pt MOL     1      11.097   4.805  20.000  1.00  0.00          PT  \nATOM     58   Pt MOL     1      13.872   6.407  22.265  1.00  0.00          PT  \nATOM     59   Pt MOL     1      12.512   5.689  24.532  1.00  0.00          PT  \nATOM     60   Pt MOL     1      14.017   4.779  27.068  1.00  0.00          PT  \nATOM     61   Pt MOL     1      12.485   7.208  20.000  1.00  0.00          PT  \nATOM     62   Pt MOL     1      15.259   8.810  22.265  1.00  0.00          PT  \nATOM     63   Pt MOL     1      13.919   8.002  24.446  1.00  0.00          PT  \nATOM     64   Pt MOL     1      15.107   7.163  26.881  1.00  0.00          PT  \nATOM     65    C MOL     1       8.689   5.124  31.632  1.00  0.00           C  \nATOM     66    C MOL     1       7.957   4.487  30.503  1.00  0.00           C  \nATOM     67    C MOL     1       6.613   4.472  30.544  1.00  0.00           C  \nATOM     68    C MOL     1       5.859   5.061  31.662  1.00  0.00           C  \nATOM     69    C MOL     1       5.848   3.843  29.431  1.00  0.00           C  \nATOM     70    C MOL     1       8.689   3.884  29.360  1.00  0.00           C  \nATOM     71    H MOL     1       8.596   4.441  32.504  1.00  0.00           H  \nATOM     72    H MOL     1       9.741   5.300  31.330  1.00  0.00           H  \nATOM     73    H MOL     1       8.181   6.100  31.850  1.00  0.00           H  \nATOM     74    H MOL     1       4.948   4.419  31.837  1.00  0.00           H  \nATOM     75    H MOL     1       6.419   5.110  32.605  1.00  0.00           H  \nATOM     76    H MOL     1       5.454   6.043  31.333  1.00  0.00           H  \nATOM     77    H MOL     1       5.737   4.604  28.620  1.00  0.00           H  \nATOM     78    H MOL     1       6.386   2.938  29.077  1.00  0.00           H  \nATOM     79    H MOL     1       4.848   3.502  29.753  1.00  0.00           H  \nATOM     80    H MOL     1       9.739   4.225  29.375  1.00  0.00           H  \nATOM     81    H MOL     1       8.216   4.191  28.392  1.00  0.00           H  \nATOM     82    H MOL     1       8.598   2.795  29.423  1.00  0.00           H  \nENDMDL\n",
           "type": "blob"
          }
         ],
         "kwargs": {
          "defaultRepresentation": false,
          "ext": "pdb"
         },
         "methodName": "loadFile",
         "reconstruc_color_scheme": false,
         "target": "Stage",
         "type": "call_method"
        },
        {
         "args": [
          "500px",
          "500px"
         ],
         "kwargs": {},
         "methodName": "setSize",
         "reconstruc_color_scheme": false,
         "target": "Widget",
         "type": "call_method"
        },
        {
         "args": [
          "unitcell"
         ],
         "component_index": 0,
         "kwargs": {
          "sele": "all"
         },
         "methodName": "addRepresentation",
         "reconstruc_color_scheme": false,
         "target": "compList",
         "type": "call_method"
        },
        {
         "args": [
          "spacefill"
         ],
         "component_index": 0,
         "kwargs": {
          "sele": "all"
         },
         "methodName": "addRepresentation",
         "reconstruc_color_scheme": false,
         "target": "compList",
         "type": "call_method"
        },
        {
         "args": [],
         "kwargs": {
          "cameraType": "orthographic"
         },
         "methodName": "setParameters",
         "reconstruc_color_scheme": false,
         "target": "Stage",
         "type": "call_method"
        },
        {
         "args": [
          {
           "clipDist": 0
          }
         ],
         "kwargs": {},
         "methodName": "setParameters",
         "reconstruc_color_scheme": false,
         "target": "Widget",
         "type": "call_method"
        },
        {
         "args": [
          "spacefill",
          0
         ],
         "kwargs": {
          "colorScale": "rainbow",
          "colorScheme": "element",
          "radiusScale": 0.5,
          "radiusType": "covalent"
         },
         "methodName": "updateRepresentationsByName",
         "reconstruc_color_scheme": false,
         "target": "Widget",
         "type": "call_method"
        },
        {
         "args": [
          "this._Q = [[1.0, 0.0, 0.0], [0.0, 1.0, 0.0], [0.0, 0.0, 1.0]]\n    var tooltip = document.createElement('div');\n    Object.assign(tooltip.style, {\n      display: 'none',\n      position: 'fixed',\n      zIndex: 10,\n      pointerEvents: 'none',\n      backgroundColor: 'rgba( 0, 0, 0, 0.6 )',\n      color: 'lightgrey',\n      padding: '8px',\n      fontFamily: 'sans-serif'\n    });\n    document.body.appendChild(tooltip);\n\n    var that = this;\n    this.stage.mouseControls.remove('hoverPick');\n    this.stage.signals.hovered.add(function (pickingProxy) {\n      if (pickingProxy && (pickingProxy.atom || pickingProxy.bond)) {\n        var atom = pickingProxy.atom || pickingProxy.closestBondAtom\n        var mp = pickingProxy.mouse.position\n        //tooltip.innerText = atom.element + ' i=' + atom.index + ' (' + atom.x.toFixed(2) +  ', ' + atom.y.toFixed(2) +  ', ' + atom.z.toFixed(2) + ')'\n        //var pos = that._atoms_pos[atom.index]\n        var Q = that._Q\n        var pos_x = Q[0][0] * atom.x + Q[0][1] * atom.y + Q[0][2] * atom.z \n        var pos_y = Q[1][0] * atom.x + Q[1][1] * atom.y + Q[1][2] * atom.z\n        var pos_z = Q[2][0] * atom.x + Q[2][1] * atom.y + Q[2][2] * atom.z\n        tooltip.innerText = 'i=' + atom.index + ' ' + atom.element + ' (' + pos_x.toFixed(2) +  ', ' + pos_y.toFixed(2) +  ', ' + pos_z.toFixed(2) + ')'\n        tooltip.style.bottom = window.innerHeight - mp.y + 3 + 'px'\n        tooltip.style.left = mp.x + 3 + 'px'\n        tooltip.style.display = 'block'\n      } else {\n        tooltip.style.display = 'none'\n      }\n    });\n    this.stage.tooltip = tooltip;\n    "
         ],
         "kwargs": {},
         "methodName": "executeCode",
         "reconstruc_color_scheme": false,
         "target": "Widget",
         "type": "call_method"
        },
        {
         "args": [
          "ball+stick"
         ],
         "component_index": 0,
         "kwargs": {
          "sele": "all"
         },
         "methodName": "addRepresentation",
         "reconstruc_color_scheme": false,
         "target": "compList",
         "type": "call_method"
        }
       ],
       "_ngl_original_stage_parameters": {
        "ambientColor": 14540253,
        "ambientIntensity": 0.2,
        "backgroundColor": "white",
        "cameraEyeSep": 0.3,
        "cameraFov": 40,
        "cameraType": "perspective",
        "clipDist": 10,
        "clipFar": 100,
        "clipNear": 0,
        "fogFar": 100,
        "fogNear": 50,
        "hoverTimeout": 0,
        "impostor": true,
        "lightColor": 14540253,
        "lightIntensity": 1,
        "mousePreset": "default",
        "panSpeed": 1,
        "quality": "medium",
        "rotateSpeed": 2,
        "sampleLevel": 0,
        "tooltip": true,
        "workerDefault": true,
        "zoomSpeed": 1.2
       },
       "_ngl_repr_dict": {
        "0": {
         "0": {
          "params": {
           "clipCenter": {
            "x": 0,
            "y": 0,
            "z": 0
           },
           "clipNear": 0,
           "clipRadius": 0,
           "colorMode": "hcl",
           "colorReverse": false,
           "colorScale": "",
           "colorScheme": "element",
           "colorValue": "orange",
           "defaultAssembly": "",
           "depthWrite": true,
           "diffuse": 16777215,
           "diffuseInterior": false,
           "disableImpostor": false,
           "disablePicking": false,
           "flatShaded": false,
           "interiorColor": 2236962,
           "interiorDarkening": 0,
           "lazy": false,
           "matrix": {
            "elements": [
             1,
             0,
             0,
             0,
             0,
             1,
             0,
             0,
             0,
             0,
             1,
             0,
             0,
             0,
             0,
             1
            ]
           },
           "metalness": 0,
           "opacity": 1,
           "quality": "medium",
           "radialSegments": 10,
           "radiusData": {},
           "radiusScale": 1,
           "radiusSize": 0.08544178761926524,
           "radiusType": "vdw",
           "roughness": 0.4,
           "sele": "all",
           "side": "double",
           "sphereDetail": 1,
           "useInteriorColor": true,
           "visible": true,
           "wireframe": false
          },
          "type": "unitcell"
         },
         "1": {
          "params": {
           "assembly": "default",
           "clipCenter": {
            "x": 0,
            "y": 0,
            "z": 0
           },
           "clipNear": 0,
           "clipRadius": 0,
           "colorMode": "hcl",
           "colorReverse": false,
           "colorScale": "rainbow",
           "colorScheme": "element",
           "colorValue": 9474192,
           "defaultAssembly": "",
           "depthWrite": true,
           "diffuse": 16777215,
           "diffuseInterior": false,
           "disableImpostor": false,
           "disablePicking": false,
           "flatShaded": false,
           "interiorColor": 2236962,
           "interiorDarkening": 0,
           "lazy": false,
           "matrix": {
            "elements": [
             1,
             0,
             0,
             0,
             0,
             1,
             0,
             0,
             0,
             0,
             1,
             0,
             0,
             0,
             0,
             1
            ]
           },
           "metalness": 0,
           "opacity": 1,
           "quality": "medium",
           "radiusData": {},
           "radiusScale": 0.5,
           "radiusSize": 1,
           "radiusType": "covalent",
           "roughness": 0.4,
           "sele": "all",
           "side": "double",
           "sphereDetail": 1,
           "useInteriorColor": true,
           "visible": true,
           "wireframe": false
          },
          "type": "spacefill"
         },
         "2": {
          "params": {
           "aspectRatio": 2,
           "assembly": "default",
           "bondScale": 0.4,
           "bondSpacing": 1,
           "clipCenter": {
            "x": 0,
            "y": 0,
            "z": 0
           },
           "clipNear": 0,
           "clipRadius": 0,
           "colorMode": "hcl",
           "colorReverse": false,
           "colorScale": "",
           "colorScheme": "element",
           "colorValue": 9474192,
           "cylinderOnly": false,
           "defaultAssembly": "",
           "depthWrite": true,
           "diffuse": 16777215,
           "diffuseInterior": false,
           "disableImpostor": false,
           "disablePicking": false,
           "flatShaded": false,
           "interiorColor": 2236962,
           "interiorDarkening": 0,
           "lazy": false,
           "lineOnly": false,
           "linewidth": 2,
           "matrix": {
            "elements": [
             1,
             0,
             0,
             0,
             0,
             1,
             0,
             0,
             0,
             0,
             1,
             0,
             0,
             0,
             0,
             1
            ]
           },
           "metalness": 0,
           "multipleBond": "off",
           "opacity": 1,
           "openEnded": true,
           "quality": "medium",
           "radialSegments": 10,
           "radiusData": {},
           "radiusScale": 1,
           "radiusSize": 0.15,
           "radiusType": "size",
           "roughness": 0.4,
           "sele": "all",
           "side": "double",
           "sphereDetail": 1,
           "useInteriorColor": true,
           "visible": true,
           "wireframe": false
          },
          "type": "ball+stick"
         }
        }
       },
       "_ngl_serialize": false,
       "_ngl_version": "2.0.0-dev.36",
       "_ngl_view_id": [
        "A9E1C0E7-2E91-491D-97E9-1D5519233A2D"
       ],
       "_player_dict": {},
       "_scene_position": {},
       "_scene_rotation": {},
       "_synced_model_ids": [],
       "_synced_repr_model_ids": [],
       "_view_height": "",
       "_view_width": "",
       "background": "white",
       "frame": 0,
       "gui_style": null,
       "layout": "IPY_MODEL_43e6c86be04e40db9fdf3d1f891f3ee2",
       "max_frame": 0,
       "n_components": 1,
       "picked": {}
      }
     },
     "197b1c07607346f0bc2d0e2afdb65bf8": {
      "model_module": "@jupyter-widgets/controls",
      "model_module_version": "1.5.0",
      "model_name": "SliderStyleModel",
      "state": {
       "description_width": ""
      }
     },
     "1ac0d0f0eb9146fda2ecc829f87a3d1d": {
      "model_module": "@jupyter-widgets/controls",
      "model_module_version": "1.5.0",
      "model_name": "PlayModel",
      "state": {
       "layout": "IPY_MODEL_f7cfad134f194e758b6a777da6321d66",
       "max": 2,
       "style": "IPY_MODEL_f7507cd23b7b42d8b7a1ab23e80ec982"
      }
     },
     "1c030b664c5a499089342a95c2bca710": {
      "model_module": "@jupyter-widgets/controls",
      "model_module_version": "1.5.0",
      "model_name": "DescriptionStyleModel",
      "state": {
       "description_width": ""
      }
     },
     "1cb807a2abf0468f81d27a660dcf336a": {
      "model_module": "@jupyter-widgets/controls",
      "model_module_version": "1.5.0",
      "model_name": "DropdownModel",
      "state": {
       "_options_labels": [
        " ",
        "picking",
        "random",
        "uniform",
        "atomindex",
        "residueindex",
        "chainindex",
        "modelindex",
        "sstruc",
        "element",
        "resname",
        "bfactor",
        "hydrophobicity",
        "value",
        "volume",
        "occupancy"
       ],
       "description": "Color scheme",
       "index": 9,
       "layout": "IPY_MODEL_c0794f1d0c674a75a1c0ab2eb45987ce",
       "style": "IPY_MODEL_03d223f012554d30b7d664c1056f3f0e"
      }
     },
     "1d1cf67eab6b4b6d8c8e122f283ae784": {
      "model_module": "@jupyter-widgets/base",
      "model_module_version": "1.2.0",
      "model_name": "LayoutModel",
      "state": {}
     },
     "1da2be56c2a7427f84a4473c9be8b188": {
      "model_module": "@jupyter-widgets/base",
      "model_module_version": "1.2.0",
      "model_name": "LayoutModel",
      "state": {
       "width": "34px"
      }
     },
     "1ea18113fb294614bc5d1ab0a7884320": {
      "model_module": "@jupyter-widgets/controls",
      "model_module_version": "1.5.0",
      "model_name": "FloatSliderModel",
      "state": {
       "description": "Ball size",
       "layout": "IPY_MODEL_d784402b82de40fba825a61a6d5bec77",
       "max": 1.5,
       "step": 0.01,
       "style": "IPY_MODEL_1fe9b62f5030473da4dec3c808bd1871",
       "value": 0.5
      }
     },
     "1f58c8435220458586443aa6ef5f2fa3": {
      "model_module": "@jupyter-widgets/base",
      "model_module_version": "1.2.0",
      "model_name": "LayoutModel",
      "state": {}
     },
     "1f5fec6321fe472aa73b6cafb46ac56c": {
      "model_module": "@jupyter-widgets/base",
      "model_module_version": "1.2.0",
      "model_name": "LayoutModel",
      "state": {}
     },
     "1fe9b62f5030473da4dec3c808bd1871": {
      "model_module": "@jupyter-widgets/controls",
      "model_module_version": "1.5.0",
      "model_name": "SliderStyleModel",
      "state": {
       "description_width": ""
      }
     },
     "21014cd2c78143939d2f0b0c70dbc29f": {
      "model_module": "@jupyter-widgets/base",
      "model_module_version": "1.2.0",
      "model_name": "LayoutModel",
      "state": {}
     },
     "2175ba7e1de248e49326aa46543c1810": {
      "model_module": "@jupyter-widgets/base",
      "model_module_version": "1.2.0",
      "model_name": "LayoutModel",
      "state": {}
     },
     "21cdf7c689ac4134bc97e1f65c4da975": {
      "model_module": "@jupyter-widgets/controls",
      "model_module_version": "1.5.0",
      "model_name": "DropdownModel",
      "state": {
       "_options_labels": [
        " ",
        "picking",
        "random",
        "uniform",
        "atomindex",
        "residueindex",
        "chainindex",
        "modelindex",
        "sstruc",
        "element",
        "resname",
        "bfactor",
        "hydrophobicity",
        "value",
        "volume",
        "occupancy"
       ],
       "description": "Color scheme",
       "index": 9,
       "layout": "IPY_MODEL_26721577d13e4b1385e64347ea2f5ddb",
       "style": "IPY_MODEL_499b98c130e54fb2b27ec6712d045811"
      }
     },
     "23598dfe82d8489781b1cd1206b9dbaf": {
      "model_module": "@jupyter-widgets/controls",
      "model_module_version": "1.5.0",
      "model_name": "SliderStyleModel",
      "state": {
       "description_width": ""
      }
     },
     "243182af098e4d51bdadbe8dbc3d05a8": {
      "model_module": "@jupyter-widgets/controls",
      "model_module_version": "1.5.0",
      "model_name": "LinkModel",
      "state": {
       "source": [
        "IPY_MODEL_1399403d4e754ac69f98b33f2258493f",
        "value"
       ],
       "target": [
        "IPY_MODEL_1955d58d866944eb973ac952e83ddfe1",
        "frame"
       ]
      }
     },
     "2471b5634cd64d5b9c71d7597a3681e3": {
      "model_module": "@jupyter-widgets/controls",
      "model_module_version": "1.5.0",
      "model_name": "TextModel",
      "state": {
       "description": "Filename: ",
       "layout": "IPY_MODEL_83a6129f6f90493d84b36f111a9b8378",
       "style": "IPY_MODEL_65571e5c68f4467f89ad0c72f8c3f32f",
       "value": "screenshot.png"
      }
     },
     "26721577d13e4b1385e64347ea2f5ddb": {
      "model_module": "@jupyter-widgets/base",
      "model_module_version": "1.2.0",
      "model_name": "LayoutModel",
      "state": {}
     },
     "2749a13efe2b47b88c5d65715f8db11b": {
      "model_module": "@jupyter-widgets/base",
      "model_module_version": "1.2.0",
      "model_name": "LayoutModel",
      "state": {
       "border": "0px solid black"
      }
     },
     "279d4843c23e481499344349d732a271": {
      "model_module": "@jupyter-widgets/controls",
      "model_module_version": "1.5.0",
      "model_name": "HBoxModel",
      "state": {
       "children": [
        "IPY_MODEL_428f437c182d428e9dbccd87479ba234",
        "IPY_MODEL_52a84bd23bbf4f9e8d26b0acc6add5c4"
       ],
       "layout": "IPY_MODEL_5ada54939aa5470b9d24587268ac65fe"
      }
     },
     "2890ad920050488185c30262c3d3487c": {
      "model_module": "@jupyter-widgets/controls",
      "model_module_version": "1.5.0",
      "model_name": "LinkModel",
      "state": {
       "source": [
        "IPY_MODEL_0309fb50ee7241ada4beef783240371a",
        "value"
       ],
       "target": [
        "IPY_MODEL_532c6d1afe5245ae9b018b473c5e9742",
        "value"
       ]
      }
     },
     "289db5a17704416daf7e43aa2e3ab2ea": {
      "model_module": "@jupyter-widgets/controls",
      "model_module_version": "1.5.0",
      "model_name": "HTMLModel",
      "state": {
       "layout": "IPY_MODEL_e3345c03303d4dc5b46a109bc755cd63",
       "style": "IPY_MODEL_856998a1e9f642a589b8a0020e4a9037",
       "value": "100%"
      }
     },
     "297bd7ffd8ff45b6a76cc032452c91c8": {
      "model_module": "@jupyter-widgets/controls",
      "model_module_version": "1.5.0",
      "model_name": "ButtonStyleModel",
      "state": {}
     },
     "29898c95b8ec431ca57961b8ef4a01b2": {
      "model_module": "@jupyter-widgets/controls",
      "model_module_version": "1.5.0",
      "model_name": "LinkModel",
      "state": {
       "source": [
        "IPY_MODEL_0309fb50ee7241ada4beef783240371a",
        "max"
       ],
       "target": [
        "IPY_MODEL_bde850048f46420f9423308ff9c0c3f5",
        "max_frame"
       ]
      }
     },
     "29e05721bb2e461fa81afd39389ded35": {
      "model_module": "@jupyter-widgets/base",
      "model_module_version": "1.2.0",
      "model_name": "LayoutModel",
      "state": {}
     },
     "2aa2316a6256489586b98d4d7d15483c": {
      "model_module": "@jupyter-widgets/controls",
      "model_module_version": "1.5.0",
      "model_name": "DescriptionStyleModel",
      "state": {
       "description_width": ""
      }
     },
     "2aacf5aefee543059b5913d3523eae66": {
      "model_module": "@jupyter-widgets/base",
      "model_module_version": "1.2.0",
      "model_name": "LayoutModel",
      "state": {}
     },
     "2b497f12aa10443496d548824ce9c208": {
      "model_module": "@jupyter-widgets/controls",
      "model_module_version": "1.5.0",
      "model_name": "ButtonModel",
      "state": {
       "description": "Download image",
       "layout": "IPY_MODEL_45a56e3f954046f48f0d99892a9f2174",
       "style": "IPY_MODEL_f142b3087e364bae835bfe4d15a78c28",
       "tooltip": "Download current frame to your local PC"
      }
     },
     "2c34734dfc494f0884f7478d13670984": {
      "model_module": "@jupyter-widgets/controls",
      "model_module_version": "1.5.0",
      "model_name": "HBoxModel",
      "state": {
       "children": [
        "IPY_MODEL_69e3b3be2a4d47b4847aaf2c65f46190",
        "IPY_MODEL_bd09e5c184324d4aaca5c47f1963a8a4"
       ],
       "layout": "IPY_MODEL_cfa43881515e4221b49558da8715afae"
      }
     },
     "2cbf3398980c4f7b8a7cbe2ba796a552": {
      "model_module": "@jupyter-widgets/controls",
      "model_module_version": "1.5.0",
      "model_name": "ButtonStyleModel",
      "state": {}
     },
     "2d65783310f24845866ebeb20b731ea1": {
      "model_module": "@jupyter-widgets/base",
      "model_module_version": "1.2.0",
      "model_name": "LayoutModel",
      "state": {}
     },
     "2d919b73112a4774a6ddc491b2aa4ead": {
      "model_module": "@jupyter-widgets/base",
      "model_module_version": "1.2.0",
      "model_name": "LayoutModel",
      "state": {}
     },
     "2dfa56cc19f845299309cc933045070e": {
      "model_module": "@jupyter-widgets/output",
      "model_module_version": "1.0.0",
      "model_name": "OutputModel",
      "state": {
       "layout": "IPY_MODEL_db860a7e306d447db916185cb1d3a152"
      }
     },
     "2e0f3b4ce93f41d4859d2ffbc4d870e8": {
      "model_module": "@jupyter-widgets/base",
      "model_module_version": "1.2.0",
      "model_name": "LayoutModel",
      "state": {}
     },
     "2e6d3278aeca415c88c01b51c5d3548c": {
      "model_module": "@jupyter-widgets/base",
      "model_module_version": "1.2.0",
      "model_name": "LayoutModel",
      "state": {}
     },
     "2f3042013e40474296872508d0459c8f": {
      "model_module": "@jupyter-widgets/controls",
      "model_module_version": "1.5.0",
      "model_name": "ButtonModel",
      "state": {
       "icon": "compress",
       "layout": "IPY_MODEL_7ed63c44d2294827af7cd1bb81494389",
       "style": "IPY_MODEL_3be4ca7b19724ad29f62e2b049c992a6"
      }
     },
     "2f8d609ba7d844e6912c8a02a0e88242": {
      "model_module": "@jupyter-widgets/base",
      "model_module_version": "1.2.0",
      "model_name": "LayoutModel",
      "state": {}
     },
     "30ed86694efa4d95b9be20f6a9e34554": {
      "model_module": "@jupyter-widgets/controls",
      "model_module_version": "1.5.0",
      "model_name": "LinkModel",
      "state": {
       "source": [
        "IPY_MODEL_93eed15f7f0346fbadc9ba2d050604a4",
        "value"
       ],
       "target": [
        "IPY_MODEL_432c33e006e747a6ba3ce7180bac9af9",
        "value"
       ]
      }
     },
     "3353bd1622204edaa3605b4a7e45a3b8": {
      "model_module": "@jupyter-widgets/controls",
      "model_module_version": "1.5.0",
      "model_name": "LinkModel",
      "state": {
       "source": [
        "IPY_MODEL_dc5a4c11047342f1ba1409eb8503a7ff",
        "value"
       ],
       "target": [
        "IPY_MODEL_61724767c2c7400fa99b971076b443fe",
        "frame"
       ]
      }
     },
     "346baa6d5f8444adb31f4c97b13a4b24": {
      "model_module": "@jupyter-widgets/controls",
      "model_module_version": "1.5.0",
      "model_name": "ButtonStyleModel",
      "state": {}
     },
     "34fa48bc9c544728a125efc31a9ad334": {
      "model_module": "@jupyter-widgets/controls",
      "model_module_version": "1.5.0",
      "model_name": "LinkModel",
      "state": {
       "source": [
        "IPY_MODEL_432c33e006e747a6ba3ce7180bac9af9",
        "max"
       ],
       "target": [
        "IPY_MODEL_e2de392177f944438a80890de993647a",
        "max_frame"
       ]
      }
     },
     "3511e39e709a40a7a94db3d1ee81c815": {
      "model_module": "@jupyter-widgets/base",
      "model_module_version": "1.2.0",
      "model_name": "LayoutModel",
      "state": {}
     },
     "354652d8fbf34f26ab8a1676514835ee": {
      "model_module": "@jupyter-widgets/controls",
      "model_module_version": "1.5.0",
      "model_name": "TextModel",
      "state": {
       "description": "Filename: ",
       "layout": "IPY_MODEL_bf455a346ee74847806dff009d4def5c",
       "style": "IPY_MODEL_b9df3f1b9446433380bb58cf1e152090",
       "value": "screenshot.png"
      }
     },
     "366c861b350447a497016cc8e39690c6": {
      "model_module": "@jupyter-widgets/base",
      "model_module_version": "1.2.0",
      "model_name": "LayoutModel",
      "state": {}
     },
     "379b24d6889e46eead1abd323994ae78": {
      "model_module": "@jupyter-widgets/controls",
      "model_module_version": "1.5.0",
      "model_name": "SliderStyleModel",
      "state": {
       "description_width": ""
      }
     },
     "37f6e352362a4f5fb551454854cc97dd": {
      "model_module": "@jupyter-widgets/controls",
      "model_module_version": "1.5.0",
      "model_name": "FloatProgressModel",
      "state": {
       "bar_style": "success",
       "layout": "IPY_MODEL_130b7e5044a24b9dbdc304dcc95dc941",
       "max": 3,
       "style": "IPY_MODEL_a74a91f8ce0547379ca4b6c393fe2435",
       "value": 3
      }
     },
     "380979eae28145dd876c659c6699cebd": {
      "model_module": "@jupyter-widgets/controls",
      "model_module_version": "1.5.0",
      "model_name": "HBoxModel",
      "state": {
       "children": [
        "IPY_MODEL_05fca858c2374ef59778e52c753886a5",
        "IPY_MODEL_04392612ccda4cabb771dddd378865e5"
       ],
       "layout": "IPY_MODEL_d75bf56c963048e1a83185fd87733afc"
      }
     },
     "380f5608430a4e5caac1a860adcfc085": {
      "model_module": "@jupyter-widgets/controls",
      "model_module_version": "1.5.0",
      "model_name": "HTMLModel",
      "state": {
       "layout": "IPY_MODEL_14a043e9b3b34c78b457a3388f8795cd",
       "style": "IPY_MODEL_1c030b664c5a499089342a95c2bca710",
       "value": " 3/3 [00:38&lt;00:00, 12.43s/it]"
      }
     },
     "383411d6b70d43dd95fe58e3631a1817": {
      "model_module": "@jupyter-widgets/base",
      "model_module_version": "1.2.0",
      "model_name": "LayoutModel",
      "state": {}
     },
     "389833397bbb436cb50e45df1fa3c759": {
      "model_module": "@jupyter-widgets/base",
      "model_module_version": "1.2.0",
      "model_name": "LayoutModel",
      "state": {}
     },
     "392972add61243719cd404407d0da93d": {
      "model_module": "@jupyter-widgets/base",
      "model_module_version": "1.2.0",
      "model_name": "LayoutModel",
      "state": {}
     },
     "398b569efd4746c39d875d71944f2a59": {
      "model_module": "@jupyter-widgets/base",
      "model_module_version": "1.2.0",
      "model_name": "LayoutModel",
      "state": {}
     },
     "39cfc81adde84384895ca55b51460a43": {
      "model_module": "@jupyter-widgets/base",
      "model_module_version": "1.2.0",
      "model_name": "LayoutModel",
      "state": {}
     },
     "39f3315091764fae8c52685bf3bac68e": {
      "model_module": "@jupyter-widgets/base",
      "model_module_version": "1.2.0",
      "model_name": "LayoutModel",
      "state": {
       "width": "34px"
      }
     },
     "3aa1f82af6764e72ad976000beba8d56": {
      "model_module": "@jupyter-widgets/controls",
      "model_module_version": "1.5.0",
      "model_name": "VBoxModel",
      "state": {
       "children": [
        "IPY_MODEL_f2ce98e935d24fe994998dbd72d6c4a1",
        "IPY_MODEL_a3d99e2bd3034f8083275a6df3eee784",
        "IPY_MODEL_ea0731d75db34ea7958319537aa5456c",
        "IPY_MODEL_11fb6505ed6f423298216bbc3f3e97b4",
        "IPY_MODEL_354652d8fbf34f26ab8a1676514835ee",
        "IPY_MODEL_5e4905303ca04cc49136ac5e4c8cb45a",
        "IPY_MODEL_008e088f55f14a3a9ddd8b7812fc051c",
        "IPY_MODEL_03f7bdf7991d47dfb20daf87e222ff04",
        "IPY_MODEL_8412c5a58b374740a566b96c76dae23d",
        "IPY_MODEL_a21f95a018f6442782e2b9ca1c77727e",
        "IPY_MODEL_3d23948768ca42ba9d0183761a4f6cfc"
       ],
       "layout": "IPY_MODEL_b20d0826b4394efeb73ddf9685089f8d"
      }
     },
     "3b15f6b9740e4dbe8fcd46de74be1d36": {
      "model_module": "@jupyter-widgets/controls",
      "model_module_version": "1.5.0",
      "model_name": "HBoxModel",
      "state": {
       "children": [
        "IPY_MODEL_f637c16575fe4120842afe8cbb8a8df9",
        "IPY_MODEL_3aa1f82af6764e72ad976000beba8d56"
       ],
       "layout": "IPY_MODEL_7ecce15f207943009e168aa654c024cd"
      }
     },
     "3be4ca7b19724ad29f62e2b049c992a6": {
      "model_module": "@jupyter-widgets/controls",
      "model_module_version": "1.5.0",
      "model_name": "ButtonStyleModel",
      "state": {}
     },
     "3d23948768ca42ba9d0183761a4f6cfc": {
      "model_module": "@jupyter-widgets/output",
      "model_module_version": "1.0.0",
      "model_name": "OutputModel",
      "state": {
       "layout": "IPY_MODEL_da7b967921e14809b28d1ed5f3e07df4"
      }
     },
     "3d3d3bf130514c409f649b8c096053e6": {
      "model_module": "@jupyter-widgets/controls",
      "model_module_version": "1.5.0",
      "model_name": "FloatSliderModel",
      "state": {
       "description": "Ball size",
       "layout": "IPY_MODEL_366c861b350447a497016cc8e39690c6",
       "max": 1.5,
       "step": 0.01,
       "style": "IPY_MODEL_cfddcedc353140c1908ffbccf0344f36",
       "value": 0.5
      }
     },
     "3e3c92635ef14671b4f9c2bede53986a": {
      "model_module": "@jupyter-widgets/controls",
      "model_module_version": "1.5.0",
      "model_name": "HBoxModel",
      "state": {
       "children": [
        "IPY_MODEL_c1e0faed0bbb4d8c9c120c720f5d3469",
        "IPY_MODEL_0b86739583d3460486a478159a29b8f7",
        "IPY_MODEL_eb30d5892ff44c2a9e010796245c2d82"
       ],
       "layout": "IPY_MODEL_2e6d3278aeca415c88c01b51c5d3548c"
      }
     },
     "40ecdc4ac29f4a88bf35ec9e5a321654": {
      "model_module": "@jupyter-widgets/controls",
      "model_module_version": "1.5.0",
      "model_name": "HBoxModel",
      "state": {
       "children": [
        "IPY_MODEL_93eed15f7f0346fbadc9ba2d050604a4",
        "IPY_MODEL_432c33e006e747a6ba3ce7180bac9af9"
       ],
       "layout": "IPY_MODEL_a2a89a1d4b6c44d9a4a54da94d18a9ae"
      }
     },
     "41bf19d43ce544369e27ba31ec03e4f8": {
      "model_module": "@jupyter-widgets/controls",
      "model_module_version": "1.5.0",
      "model_name": "PlayModel",
      "state": {
       "layout": "IPY_MODEL_39cfc81adde84384895ca55b51460a43",
       "max": 0,
       "style": "IPY_MODEL_863a8740deac4d09a4fb0f6e602143ec"
      }
     },
     "41c85db388a649c4978e1154daeaeb8b": {
      "model_module": "@jupyter-widgets/controls",
      "model_module_version": "1.5.0",
      "model_name": "LinkModel",
      "state": {
       "source": [
        "IPY_MODEL_93eed15f7f0346fbadc9ba2d050604a4",
        "max"
       ],
       "target": [
        "IPY_MODEL_e2de392177f944438a80890de993647a",
        "max_frame"
       ]
      }
     },
     "428f437c182d428e9dbccd87479ba234": {
      "model_module": "nglview-js-widgets",
      "model_module_version": "3.0.1",
      "model_name": "NGLModel",
      "state": {
       "_camera_orientation": [
        10.481783228970954,
        0,
        0,
        0,
        0,
        10.481783228970954,
        0,
        0,
        0,
        0,
        10.481783228970954,
        0,
        0.26649999618530273,
        -0.01100003719329834,
        0.218999981880188,
        1
       ],
       "_camera_str": "orthographic",
       "_gui_theme": null,
       "_ibtn_fullscreen": "IPY_MODEL_8c2bf5dad3d44da79be55c6684e9ef6c",
       "_igui": null,
       "_iplayer": "IPY_MODEL_81de77b82f244369a204039f9e8b34a7",
       "_ngl_color_dict": {},
       "_ngl_coordinate_resource": {},
       "_ngl_full_stage_parameters": {
        "ambientColor": 14540253,
        "ambientIntensity": 0.2,
        "backgroundColor": "white",
        "cameraEyeSep": 0.3,
        "cameraFov": 40,
        "cameraType": "orthographic",
        "clipDist": 0,
        "clipFar": 100,
        "clipNear": 0,
        "fogFar": 100,
        "fogNear": 50,
        "hoverTimeout": 0,
        "impostor": true,
        "lightColor": 14540253,
        "lightIntensity": 1,
        "mousePreset": "default",
        "panSpeed": 1,
        "quality": "medium",
        "rotateSpeed": 2,
        "sampleLevel": 0,
        "tooltip": true,
        "workerDefault": true,
        "zoomSpeed": 1.2
       },
       "_ngl_msg_archive": [
        {
         "args": [
          {
           "binary": false,
           "data": "MODEL     1\nATOM      1    C MOL     1       2.215  -0.014  -0.123  1.00  0.00           C  \nATOM      2    C MOL     1       0.723  -0.001  -0.044  1.00  0.00           C  \nATOM      3    C MOL     1      -0.009  -1.171  -0.090  1.00  0.00           C  \nATOM      4    C MOL     1      -1.388  -1.167  -0.018  1.00  0.00           C  \nATOM      5    C MOL     1      -2.101   0.010   0.104  1.00  0.00           C  \nATOM      6    C MOL     1      -1.366   1.177   0.149  1.00  0.00           C  \nATOM      7    C MOL     1       0.011   1.176   0.077  1.00  0.00           C  \nATOM      8    H MOL     1       2.568   0.314  -1.111  1.00  0.00           H  \nATOM      9    H MOL     1       2.650  -0.976   0.104  1.00  0.00           H  \nATOM     10    H MOL     1       2.616   0.702   0.673  1.00  0.00           H  \nATOM     11    H MOL     1       0.513  -2.102  -0.184  1.00  0.00           H  \nATOM     12    H MOL     1      -1.973  -2.081  -0.053  1.00  0.00           H  \nATOM     13    H MOL     1      -3.183  -0.009   0.159  1.00  0.00           H  \nATOM     14    H MOL     1      -1.870   2.124   0.244  1.00  0.00           H  \nATOM     15    H MOL     1       0.593   2.106   0.114  1.00  0.00           H  \nENDMDL\n",
           "type": "blob"
          }
         ],
         "kwargs": {
          "defaultRepresentation": false,
          "ext": "pdb"
         },
         "methodName": "loadFile",
         "reconstruc_color_scheme": false,
         "target": "Stage",
         "type": "call_method"
        },
        {
         "args": [
          "500px",
          "500px"
         ],
         "kwargs": {},
         "methodName": "setSize",
         "reconstruc_color_scheme": false,
         "target": "Widget",
         "type": "call_method"
        },
        {
         "args": [
          "unitcell"
         ],
         "component_index": 0,
         "kwargs": {
          "sele": "all"
         },
         "methodName": "addRepresentation",
         "reconstruc_color_scheme": false,
         "target": "compList",
         "type": "call_method"
        },
        {
         "args": [
          "spacefill"
         ],
         "component_index": 0,
         "kwargs": {
          "sele": "all"
         },
         "methodName": "addRepresentation",
         "reconstruc_color_scheme": false,
         "target": "compList",
         "type": "call_method"
        },
        {
         "args": [],
         "kwargs": {
          "cameraType": "orthographic"
         },
         "methodName": "setParameters",
         "reconstruc_color_scheme": false,
         "target": "Stage",
         "type": "call_method"
        },
        {
         "args": [
          {
           "clipDist": 0
          }
         ],
         "kwargs": {},
         "methodName": "setParameters",
         "reconstruc_color_scheme": false,
         "target": "Widget",
         "type": "call_method"
        },
        {
         "args": [
          "spacefill",
          0
         ],
         "kwargs": {
          "colorScale": "rainbow",
          "colorScheme": "element",
          "radiusScale": 0.5,
          "radiusType": "covalent"
         },
         "methodName": "updateRepresentationsByName",
         "reconstruc_color_scheme": false,
         "target": "Widget",
         "type": "call_method"
        },
        {
         "args": [
          "this._Q = [[1.0, 0.0, 0.0], [0.0, 1.0, 0.0], [0.0, 0.0, 1.0]]\n    var tooltip = document.createElement('div');\n    Object.assign(tooltip.style, {\n      display: 'none',\n      position: 'fixed',\n      zIndex: 10,\n      pointerEvents: 'none',\n      backgroundColor: 'rgba( 0, 0, 0, 0.6 )',\n      color: 'lightgrey',\n      padding: '8px',\n      fontFamily: 'sans-serif'\n    });\n    document.body.appendChild(tooltip);\n\n    var that = this;\n    this.stage.mouseControls.remove('hoverPick');\n    this.stage.signals.hovered.add(function (pickingProxy) {\n      if (pickingProxy && (pickingProxy.atom || pickingProxy.bond)) {\n        var atom = pickingProxy.atom || pickingProxy.closestBondAtom\n        var mp = pickingProxy.mouse.position\n        //tooltip.innerText = atom.element + ' i=' + atom.index + ' (' + atom.x.toFixed(2) +  ', ' + atom.y.toFixed(2) +  ', ' + atom.z.toFixed(2) + ')'\n        //var pos = that._atoms_pos[atom.index]\n        var Q = that._Q\n        var pos_x = Q[0][0] * atom.x + Q[0][1] * atom.y + Q[0][2] * atom.z \n        var pos_y = Q[1][0] * atom.x + Q[1][1] * atom.y + Q[1][2] * atom.z\n        var pos_z = Q[2][0] * atom.x + Q[2][1] * atom.y + Q[2][2] * atom.z\n        tooltip.innerText = 'i=' + atom.index + ' ' + atom.element + ' (' + pos_x.toFixed(2) +  ', ' + pos_y.toFixed(2) +  ', ' + pos_z.toFixed(2) + ')'\n        tooltip.style.bottom = window.innerHeight - mp.y + 3 + 'px'\n        tooltip.style.left = mp.x + 3 + 'px'\n        tooltip.style.display = 'block'\n      } else {\n        tooltip.style.display = 'none'\n      }\n    });\n    this.stage.tooltip = tooltip;\n    "
         ],
         "kwargs": {},
         "methodName": "executeCode",
         "reconstruc_color_scheme": false,
         "target": "Widget",
         "type": "call_method"
        },
        {
         "args": [
          "ball+stick"
         ],
         "component_index": 0,
         "kwargs": {
          "sele": "all"
         },
         "methodName": "addRepresentation",
         "reconstruc_color_scheme": false,
         "target": "compList",
         "type": "call_method"
        }
       ],
       "_ngl_original_stage_parameters": {
        "ambientColor": 14540253,
        "ambientIntensity": 0.2,
        "backgroundColor": "white",
        "cameraEyeSep": 0.3,
        "cameraFov": 40,
        "cameraType": "perspective",
        "clipDist": 10,
        "clipFar": 100,
        "clipNear": 0,
        "fogFar": 100,
        "fogNear": 50,
        "hoverTimeout": 0,
        "impostor": true,
        "lightColor": 14540253,
        "lightIntensity": 1,
        "mousePreset": "default",
        "panSpeed": 1,
        "quality": "medium",
        "rotateSpeed": 2,
        "sampleLevel": 0,
        "tooltip": true,
        "workerDefault": true,
        "zoomSpeed": 1.2
       },
       "_ngl_repr_dict": {
        "0": {
         "0": {
          "params": {
           "clipCenter": {
            "x": 0,
            "y": 0,
            "z": 0
           },
           "clipNear": 0,
           "clipRadius": 0,
           "colorMode": "hcl",
           "colorReverse": false,
           "colorScale": "",
           "colorScheme": "element",
           "colorValue": "orange",
           "defaultAssembly": "",
           "depthWrite": true,
           "diffuse": 16777215,
           "diffuseInterior": false,
           "disableImpostor": false,
           "disablePicking": false,
           "flatShaded": false,
           "interiorColor": 2236962,
           "interiorDarkening": 0,
           "lazy": false,
           "matrix": {
            "elements": [
             1,
             0,
             0,
             0,
             0,
             1,
             0,
             0,
             0,
             0,
             1,
             0,
             0,
             0,
             0,
             1
            ]
           },
           "metalness": 0,
           "opacity": 1,
           "quality": "medium",
           "radialSegments": 10,
           "radiusData": {},
           "radiusScale": 1,
           "radiusSize": 0.5,
           "radiusType": "vdw",
           "roughness": 0.4,
           "sele": "all",
           "side": "double",
           "sphereDetail": 1,
           "useInteriorColor": true,
           "visible": true,
           "wireframe": false
          },
          "type": "unitcell"
         },
         "1": {
          "params": {
           "assembly": "default",
           "clipCenter": {
            "x": 0,
            "y": 0,
            "z": 0
           },
           "clipNear": 0,
           "clipRadius": 0,
           "colorMode": "hcl",
           "colorReverse": false,
           "colorScale": "rainbow",
           "colorScheme": "element",
           "colorValue": 9474192,
           "defaultAssembly": "",
           "depthWrite": true,
           "diffuse": 16777215,
           "diffuseInterior": false,
           "disableImpostor": false,
           "disablePicking": false,
           "flatShaded": false,
           "interiorColor": 2236962,
           "interiorDarkening": 0,
           "lazy": false,
           "matrix": {
            "elements": [
             1,
             0,
             0,
             0,
             0,
             1,
             0,
             0,
             0,
             0,
             1,
             0,
             0,
             0,
             0,
             1
            ]
           },
           "metalness": 0,
           "opacity": 1,
           "quality": "medium",
           "radiusData": {},
           "radiusScale": 0.5,
           "radiusSize": 1,
           "radiusType": "covalent",
           "roughness": 0.4,
           "sele": "all",
           "side": "double",
           "sphereDetail": 1,
           "useInteriorColor": true,
           "visible": true,
           "wireframe": false
          },
          "type": "spacefill"
         },
         "2": {
          "params": {
           "aspectRatio": 2,
           "assembly": "default",
           "bondScale": 0.4,
           "bondSpacing": 1,
           "clipCenter": {
            "x": 0,
            "y": 0,
            "z": 0
           },
           "clipNear": 0,
           "clipRadius": 0,
           "colorMode": "hcl",
           "colorReverse": false,
           "colorScale": "",
           "colorScheme": "element",
           "colorValue": 9474192,
           "cylinderOnly": false,
           "defaultAssembly": "",
           "depthWrite": true,
           "diffuse": 16777215,
           "diffuseInterior": false,
           "disableImpostor": false,
           "disablePicking": false,
           "flatShaded": false,
           "interiorColor": 2236962,
           "interiorDarkening": 0,
           "lazy": false,
           "lineOnly": false,
           "linewidth": 2,
           "matrix": {
            "elements": [
             1,
             0,
             0,
             0,
             0,
             1,
             0,
             0,
             0,
             0,
             1,
             0,
             0,
             0,
             0,
             1
            ]
           },
           "metalness": 0,
           "multipleBond": "off",
           "opacity": 1,
           "openEnded": true,
           "quality": "medium",
           "radialSegments": 10,
           "radiusData": {},
           "radiusScale": 1,
           "radiusSize": 0.15,
           "radiusType": "size",
           "roughness": 0.4,
           "sele": "all",
           "side": "double",
           "sphereDetail": 1,
           "useInteriorColor": true,
           "visible": true,
           "wireframe": false
          },
          "type": "ball+stick"
         }
        }
       },
       "_ngl_serialize": false,
       "_ngl_version": "2.0.0-dev.36",
       "_ngl_view_id": [
        "940CF672-DCD6-4BEA-96BB-B1BF66B53E93"
       ],
       "_player_dict": {},
       "_scene_position": {},
       "_scene_rotation": {},
       "_synced_model_ids": [],
       "_synced_repr_model_ids": [],
       "_view_height": "",
       "_view_width": "",
       "background": "white",
       "frame": 0,
       "gui_style": null,
       "layout": "IPY_MODEL_89cfdffabc8d45dc9bd48722a6ff1d19",
       "max_frame": 0,
       "n_components": 1,
       "picked": {}
      }
     },
     "42c30e4b484a4144a80dfe12deb91657": {
      "model_module": "@jupyter-widgets/controls",
      "model_module_version": "1.5.0",
      "model_name": "HTMLModel",
      "state": {
       "layout": "IPY_MODEL_f64ed1f8a7114cc08587f9543cc72e7b",
       "style": "IPY_MODEL_15c43a41d937450eb212f1bb946056ee",
       "value": " 3/3 [00:18&lt;00:00,  6.02s/it]"
      }
     },
     "432c33e006e747a6ba3ce7180bac9af9": {
      "model_module": "@jupyter-widgets/controls",
      "model_module_version": "1.5.0",
      "model_name": "IntSliderModel",
      "state": {
       "layout": "IPY_MODEL_76123a30caaf4256a9761f7a9e430550",
       "max": 0,
       "style": "IPY_MODEL_798787316218494a88d7cef3ce81679c"
      }
     },
     "43657fb9a6594b1aa68f5e10a5472ac1": {
      "model_module": "@jupyter-widgets/controls",
      "model_module_version": "1.5.0",
      "model_name": "ButtonModel",
      "state": {
       "icon": "compress",
       "layout": "IPY_MODEL_1da2be56c2a7427f84a4473c9be8b188",
       "style": "IPY_MODEL_fe02c067a2434c4cbdaabdb77cca0aa2"
      }
     },
     "43e6c86be04e40db9fdf3d1f891f3ee2": {
      "model_module": "@jupyter-widgets/base",
      "model_module_version": "1.2.0",
      "model_name": "LayoutModel",
      "state": {}
     },
     "453662966af749abb28445455924dc91": {
      "model_module": "@jupyter-widgets/controls",
      "model_module_version": "1.5.0",
      "model_name": "ProgressStyleModel",
      "state": {
       "description_width": ""
      }
     },
     "45a56e3f954046f48f0d99892a9f2174": {
      "model_module": "@jupyter-widgets/base",
      "model_module_version": "1.2.0",
      "model_name": "LayoutModel",
      "state": {}
     },
     "460a650db9394f2ab0512b1882cf1db6": {
      "model_module": "@jupyter-widgets/base",
      "model_module_version": "1.2.0",
      "model_name": "LayoutModel",
      "state": {}
     },
     "46ae4f98e8b34dde8dd394e6e376fdf2": {
      "model_module": "@jupyter-widgets/controls",
      "model_module_version": "1.5.0",
      "model_name": "SliderStyleModel",
      "state": {
       "description_width": ""
      }
     },
     "4738c167d488479caaa0677c1247d993": {
      "model_module": "@jupyter-widgets/base",
      "model_module_version": "1.2.0",
      "model_name": "LayoutModel",
      "state": {}
     },
     "477cba7effee43da9b796c0186dd231d": {
      "model_module": "@jupyter-widgets/controls",
      "model_module_version": "1.5.0",
      "model_name": "CheckboxModel",
      "state": {
       "description": "Show force",
       "disabled": false,
       "layout": "IPY_MODEL_5c956a622b774072bb9a7e67c6bf54a8",
       "style": "IPY_MODEL_58c6acd78daa4d20930456a98f98e5bb",
       "value": false
      }
     },
     "4838b4952bce4cb08835a6e64b6c025b": {
      "model_module": "@jupyter-widgets/controls",
      "model_module_version": "1.5.0",
      "model_name": "LinkModel",
      "state": {
       "source": [
        "IPY_MODEL_532c6d1afe5245ae9b018b473c5e9742",
        "max"
       ],
       "target": [
        "IPY_MODEL_bde850048f46420f9423308ff9c0c3f5",
        "max_frame"
       ]
      }
     },
     "490b17fbe63e468685fc365a39d43f8b": {
      "model_module": "@jupyter-widgets/controls",
      "model_module_version": "1.5.0",
      "model_name": "ButtonStyleModel",
      "state": {}
     },
     "499b98c130e54fb2b27ec6712d045811": {
      "model_module": "@jupyter-widgets/controls",
      "model_module_version": "1.5.0",
      "model_name": "DescriptionStyleModel",
      "state": {
       "description_width": ""
      }
     },
     "4a366d7c6988439884758b87949061db": {
      "model_module": "@jupyter-widgets/controls",
      "model_module_version": "1.5.0",
      "model_name": "SliderStyleModel",
      "state": {
       "description_width": ""
      }
     },
     "4bb280531007473392ae5789835ae3dc": {
      "model_module": "@jupyter-widgets/controls",
      "model_module_version": "1.5.0",
      "model_name": "CheckboxModel",
      "state": {
       "description": "Show charge",
       "disabled": false,
       "layout": "IPY_MODEL_db20830d7b6443ebab306dc045762283",
       "style": "IPY_MODEL_d87ed4eceed546a9b0fd8b21c0129f40",
       "value": false
      }
     },
     "4c9ae20effe1482fa24ea260cc7f23c4": {
      "model_module": "@jupyter-widgets/base",
      "model_module_version": "1.2.0",
      "model_name": "LayoutModel",
      "state": {}
     },
     "4d1b5faea2184e52ad1da938009a6632": {
      "model_module": "@jupyter-widgets/controls",
      "model_module_version": "1.5.0",
      "model_name": "ButtonModel",
      "state": {
       "description": "Save image",
       "layout": "IPY_MODEL_f3db017b043541afbe121320a1ce3b07",
       "style": "IPY_MODEL_ba73183e16c744d58ba6936cbeddab4c",
       "tooltip": "Save current frame to file.\nCurrently .png and .html are supported.\nIt takes a bit time, please be patient."
      }
     },
     "4d9542b69e2147faab6c6215e9608a45": {
      "model_module": "@jupyter-widgets/controls",
      "model_module_version": "1.5.0",
      "model_name": "ButtonStyleModel",
      "state": {}
     },
     "4eaedd1eaea0481996a02a8162f831e1": {
      "model_module": "@jupyter-widgets/controls",
      "model_module_version": "1.5.0",
      "model_name": "DescriptionStyleModel",
      "state": {
       "description_width": ""
      }
     },
     "500fd3663bb945c39bbab5746300b9fe": {
      "model_module": "@jupyter-widgets/base",
      "model_module_version": "1.2.0",
      "model_name": "LayoutModel",
      "state": {}
     },
     "51a19b58edb34aac928d0cba2fbcd964": {
      "model_module": "@jupyter-widgets/controls",
      "model_module_version": "1.5.0",
      "model_name": "TextModel",
      "state": {
       "description": "Filename: ",
       "layout": "IPY_MODEL_383411d6b70d43dd95fe58e3631a1817",
       "style": "IPY_MODEL_b48fad106ba040d59eb017173d2aeeb1",
       "value": "screenshot.png"
      }
     },
     "51cc409361f74857b3ee1a9f8b7d8960": {
      "model_module": "@jupyter-widgets/controls",
      "model_module_version": "1.5.0",
      "model_name": "SliderStyleModel",
      "state": {
       "description_width": ""
      }
     },
     "52918a6782744ef692e6c3fc400e6478": {
      "model_module": "@jupyter-widgets/output",
      "model_module_version": "1.0.0",
      "model_name": "OutputModel",
      "state": {
       "layout": "IPY_MODEL_e65f1ff312564c45a81faf4169fd3072"
      }
     },
     "52a84bd23bbf4f9e8d26b0acc6add5c4": {
      "model_module": "@jupyter-widgets/controls",
      "model_module_version": "1.5.0",
      "model_name": "VBoxModel",
      "state": {
       "children": [
        "IPY_MODEL_7602f86ce4c945c888f0098f8cb4d8a9",
        "IPY_MODEL_b2e5e1467aeb40db8e85d63e86c513b7",
        "IPY_MODEL_d282be3e33784378977e1f55cae48c36",
        "IPY_MODEL_2471b5634cd64d5b9c71d7597a3681e3",
        "IPY_MODEL_a8966b270a334b11b38e30663dfbf311",
        "IPY_MODEL_cc81d1c8324a46108f9f8af90ec72240",
        "IPY_MODEL_b038ffb1aceb4b339317076845b923ea",
        "IPY_MODEL_b26e3711b9494f5ca3d14484e383a0e9",
        "IPY_MODEL_cb1b40f0dfa24d19a4ad7c1c9abe709b",
        "IPY_MODEL_60e6974ff96445fea53a0745e2b89c52"
       ],
       "layout": "IPY_MODEL_1d1cf67eab6b4b6d8c8e122f283ae784"
      }
     },
     "532c6d1afe5245ae9b018b473c5e9742": {
      "model_module": "@jupyter-widgets/controls",
      "model_module_version": "1.5.0",
      "model_name": "IntSliderModel",
      "state": {
       "layout": "IPY_MODEL_be8ec85709f44ff88618f1e173dd6c0a",
       "max": 2,
       "style": "IPY_MODEL_23598dfe82d8489781b1cd1206b9dbaf"
      }
     },
     "53ac7ce349f347a7aebc79cdec4cfc12": {
      "model_module": "@jupyter-widgets/controls",
      "model_module_version": "1.5.0",
      "model_name": "DescriptionStyleModel",
      "state": {
       "description_width": ""
      }
     },
     "548a3a396b4347fb8c2760800fbbe545": {
      "model_module": "@jupyter-widgets/controls",
      "model_module_version": "1.5.0",
      "model_name": "DescriptionStyleModel",
      "state": {
       "description_width": ""
      }
     },
     "54bb229a239a44069449fb3334a192f7": {
      "model_module": "@jupyter-widgets/controls",
      "model_module_version": "1.5.0",
      "model_name": "DropdownModel",
      "state": {
       "_options_labels": [
        " ",
        "picking",
        "random",
        "uniform",
        "atomindex",
        "residueindex",
        "chainindex",
        "modelindex",
        "sstruc",
        "element",
        "resname",
        "bfactor",
        "hydrophobicity",
        "value",
        "volume",
        "occupancy"
       ],
       "description": "Color scheme",
       "index": 9,
       "layout": "IPY_MODEL_ac50ea8c460143cdb1cc9f566ff6f43c",
       "style": "IPY_MODEL_b0b3bc64d49841ba9c473d201d9d6c90"
      }
     },
     "5589f7fa6e7c46828b164554492a9930": {
      "model_module": "@jupyter-widgets/controls",
      "model_module_version": "1.5.0",
      "model_name": "LinkModel",
      "state": {
       "source": [
        "IPY_MODEL_dc5a4c11047342f1ba1409eb8503a7ff",
        "max"
       ],
       "target": [
        "IPY_MODEL_61724767c2c7400fa99b971076b443fe",
        "max_frame"
       ]
      }
     },
     "560ee1233f7943718c892b641400e19d": {
      "model_module": "@jupyter-widgets/controls",
      "model_module_version": "1.5.0",
      "model_name": "DescriptionStyleModel",
      "state": {
       "description_width": ""
      }
     },
     "5699b9015c194e01814674a4491aaec2": {
      "model_module": "@jupyter-widgets/controls",
      "model_module_version": "1.5.0",
      "model_name": "HBoxModel",
      "state": {
       "children": [
        "IPY_MODEL_f9b7536129e54510ae1d05dccc0347b3",
        "IPY_MODEL_191bfea87ff84569b8e1adceaceb9b6a",
        "IPY_MODEL_42c30e4b484a4144a80dfe12deb91657"
       ],
       "layout": "IPY_MODEL_86719dd9ed3f497e80a262589e7faa04"
      }
     },
     "579d152d3f6c48638b91a8a83961bc3c": {
      "model_module": "@jupyter-widgets/base",
      "model_module_version": "1.2.0",
      "model_name": "LayoutModel",
      "state": {}
     },
     "57ba102e8f4a4a9fa3b0d094ad3f72b9": {
      "model_module": "@jupyter-widgets/base",
      "model_module_version": "1.2.0",
      "model_name": "LayoutModel",
      "state": {
       "width": "34px"
      }
     },
     "58c6acd78daa4d20930456a98f98e5bb": {
      "model_module": "@jupyter-widgets/controls",
      "model_module_version": "1.5.0",
      "model_name": "DescriptionStyleModel",
      "state": {
       "description_width": ""
      }
     },
     "59c18a2e3d70427fb23b789691d9abdf": {
      "model_module": "@jupyter-widgets/controls",
      "model_module_version": "1.5.0",
      "model_name": "CheckboxModel",
      "state": {
       "description": "Show charge",
       "disabled": false,
       "layout": "IPY_MODEL_fb1891b7cd2a4967b3f8c730097dfac6",
       "style": "IPY_MODEL_744667c7ccef4e2a8ce0184f20f71d1a",
       "value": false
      }
     },
     "5ada54939aa5470b9d24587268ac65fe": {
      "model_module": "@jupyter-widgets/base",
      "model_module_version": "1.2.0",
      "model_name": "LayoutModel",
      "state": {}
     },
     "5c3e92fda6284ba6b4d8470e04876221": {
      "model_module": "@jupyter-widgets/controls",
      "model_module_version": "1.5.0",
      "model_name": "IntSliderModel",
      "state": {
       "layout": "IPY_MODEL_d733fdc272f64941923fd212e6d05de8",
       "max": 2,
       "style": "IPY_MODEL_ee846644d5844a83be3a883c97b5ecbb"
      }
     },
     "5c956a622b774072bb9a7e67c6bf54a8": {
      "model_module": "@jupyter-widgets/base",
      "model_module_version": "1.2.0",
      "model_name": "LayoutModel",
      "state": {}
     },
     "5cdc7d4931324c87ad987cba822cdce9": {
      "model_module": "@jupyter-widgets/controls",
      "model_module_version": "1.5.0",
      "model_name": "HTMLModel",
      "state": {
       "layout": "IPY_MODEL_cd04559d83684fb783705a1ff182b089",
       "style": "IPY_MODEL_f4a61b1b63934426a55f4c0d60d255dc",
       "value": " 3/3 [00:23&lt;00:00,  9.05s/it]"
      }
     },
     "5e31057e73a1438b918c51e15df78a44": {
      "model_module": "@jupyter-widgets/controls",
      "model_module_version": "1.5.0",
      "model_name": "LinkModel",
      "state": {
       "source": [
        "IPY_MODEL_1ac0d0f0eb9146fda2ecc829f87a3d1d",
        "value"
       ],
       "target": [
        "IPY_MODEL_631b27cee03042c79c01a2ff71a5c251",
        "value"
       ]
      }
     },
     "5e471f99bb7d44b784b7c53b52e056e7": {
      "model_module": "@jupyter-widgets/controls",
      "model_module_version": "1.5.0",
      "model_name": "ButtonStyleModel",
      "state": {}
     },
     "5e4905303ca04cc49136ac5e4c8cb45a": {
      "model_module": "@jupyter-widgets/controls",
      "model_module_version": "1.5.0",
      "model_name": "HBoxModel",
      "state": {
       "children": [
        "IPY_MODEL_2b497f12aa10443496d548824ce9c208",
        "IPY_MODEL_cdf46da99f1b48569f6f94d082d8639e"
       ],
       "layout": "IPY_MODEL_8e08348c744e494a832f54e7837535c7"
      }
     },
     "5f9dac04bf1b493c88a5a5357820df0b": {
      "model_module": "@jupyter-widgets/base",
      "model_module_version": "1.2.0",
      "model_name": "LayoutModel",
      "state": {}
     },
     "5fad2b125bf642e491c48b9f0d24abc5": {
      "model_module": "@jupyter-widgets/controls",
      "model_module_version": "1.5.0",
      "model_name": "SliderStyleModel",
      "state": {
       "description_width": ""
      }
     },
     "60b8822909ef4849b08e2926a4f11e27": {
      "model_module": "@jupyter-widgets/base",
      "model_module_version": "1.2.0",
      "model_name": "LayoutModel",
      "state": {}
     },
     "60e6974ff96445fea53a0745e2b89c52": {
      "model_module": "@jupyter-widgets/output",
      "model_module_version": "1.0.0",
      "model_name": "OutputModel",
      "state": {
       "layout": "IPY_MODEL_eb8b4a75cb1142579f37949d3efe351f"
      }
     },
     "61724767c2c7400fa99b971076b443fe": {
      "model_module": "nglview-js-widgets",
      "model_module_version": "3.0.1",
      "model_name": "NGLModel",
      "state": {
       "_camera_orientation": [
        26.618199259649163,
        -0.8036554659057377,
        1.4494036770593708,
        0,
        1.3549054381361456,
        -2.8792677155960265,
        -26.4792223003052,
        0,
        0.9543921524522853,
        26.501681461133565,
        -2.8328749187514823,
        0,
        -7.633500099182129,
        -4.391000209376216,
        -26.413000106811523,
        1
       ],
       "_camera_str": "orthographic",
       "_gui_theme": null,
       "_ibtn_fullscreen": "IPY_MODEL_ad3f2e013ef3467ba3a613d76c378a2d",
       "_igui": null,
       "_iplayer": "IPY_MODEL_6727a342b4b44eb6805971689b4570c7",
       "_ngl_color_dict": {},
       "_ngl_coordinate_resource": {},
       "_ngl_full_stage_parameters": {
        "ambientColor": 14540253,
        "ambientIntensity": 0.2,
        "backgroundColor": "white",
        "cameraEyeSep": 0.3,
        "cameraFov": 40,
        "cameraType": "orthographic",
        "clipDist": 0,
        "clipFar": 100,
        "clipNear": 0,
        "fogFar": 100,
        "fogNear": 50,
        "hoverTimeout": 0,
        "impostor": true,
        "lightColor": 14540253,
        "lightIntensity": 1,
        "mousePreset": "default",
        "panSpeed": 1,
        "quality": "medium",
        "rotateSpeed": 2,
        "sampleLevel": 0,
        "tooltip": true,
        "workerDefault": true,
        "zoomSpeed": 1.2
       },
       "_ngl_msg_archive": [
        {
         "args": [
          {
           "binary": false,
           "data": "CRYST1   11.097   11.097   46.796  90.00  90.00  60.00 P 1\nMODEL     1\nATOM      1   Pt MOL     1       0.000   0.000  20.000  1.00  0.00          PT  \nATOM      2   Pt MOL     1       2.774   1.602  22.265  1.00  0.00          PT  \nATOM      3   Pt MOL     1       1.390   0.786  24.536  1.00  0.00          PT  \nATOM      4   Pt MOL     1       2.778  -0.021  26.850  1.00  0.00          PT  \nATOM      5   Pt MOL     1       1.387   2.403  20.000  1.00  0.00          PT  \nATOM      6   Pt MOL     1       4.162   4.004  22.265  1.00  0.00          PT  \nATOM      7   Pt MOL     1       2.775   3.195  24.527  1.00  0.00          PT  \nATOM      8   Pt MOL     1       4.154   2.373  26.821  1.00  0.00          PT  \nATOM      9   Pt MOL     1       2.774   4.805  20.000  1.00  0.00          PT  \nATOM     10   Pt MOL     1       5.549   6.407  22.265  1.00  0.00          PT  \nATOM     11   Pt MOL     1       4.167   5.595  24.535  1.00  0.00          PT  \nATOM     12   Pt MOL     1       5.548   4.786  26.847  1.00  0.00          PT  \nATOM     13   Pt MOL     1       4.162   7.208  20.000  1.00  0.00          PT  \nATOM     14   Pt MOL     1       6.936   8.810  22.265  1.00  0.00          PT  \nATOM     15   Pt MOL     1       5.551   7.996  24.533  1.00  0.00          PT  \nATOM     16   Pt MOL     1       6.944   7.194  26.845  1.00  0.00          PT  \nATOM     17   Pt MOL     1       2.774   0.000  20.000  1.00  0.00          PT  \nATOM     18   Pt MOL     1       5.549   1.602  22.265  1.00  0.00          PT  \nATOM     19   Pt MOL     1       4.163   0.782  24.530  1.00  0.00          PT  \nATOM     20   Pt MOL     1       5.551  -0.026  26.844  1.00  0.00          PT  \nATOM     21   Pt MOL     1       4.162   2.403  20.000  1.00  0.00          PT  \nATOM     22   Pt MOL     1       6.936   4.004  22.265  1.00  0.00          PT  \nATOM     23   Pt MOL     1       5.550   3.193  24.525  1.00  0.00          PT  \nATOM     24   Pt MOL     1       6.941   2.351  26.794  1.00  0.00          PT  \nATOM     25   Pt MOL     1       5.549   4.805  20.000  1.00  0.00          PT  \nATOM     26   Pt MOL     1       8.323   6.407  22.265  1.00  0.00          PT  \nATOM     27   Pt MOL     1       6.939   5.596  24.535  1.00  0.00          PT  \nATOM     28   Pt MOL     1       8.342   4.786  26.829  1.00  0.00          PT  \nATOM     29   Pt MOL     1       6.936   7.208  20.000  1.00  0.00          PT  \nATOM     30   Pt MOL     1       9.710   8.810  22.265  1.00  0.00          PT  \nATOM     31   Pt MOL     1       8.326   7.997  24.533  1.00  0.00          PT  \nATOM     32   Pt MOL     1       9.716   7.194  26.844  1.00  0.00          PT  \nATOM     33   Pt MOL     1       5.549   0.000  20.000  1.00  0.00          PT  \nATOM     34   Pt MOL     1       8.323   1.602  22.265  1.00  0.00          PT  \nATOM     35   Pt MOL     1       6.938   0.777  24.522  1.00  0.00          PT  \nATOM     36   Pt MOL     1       8.329  -0.028  26.845  1.00  0.00          PT  \nATOM     37   Pt MOL     1       6.936   2.403  20.000  1.00  0.00          PT  \nATOM     38   Pt MOL     1       9.710   4.004  22.265  1.00  0.00          PT  \nATOM     39   Pt MOL     1       8.329   3.191  24.522  1.00  0.00          PT  \nATOM     40   Pt MOL     1       9.734   2.363  26.812  1.00  0.00          PT  \nATOM     41   Pt MOL     1       8.323   4.805  20.000  1.00  0.00          PT  \nATOM     42   Pt MOL     1      11.097   6.407  22.265  1.00  0.00          PT  \nATOM     43   Pt MOL     1       9.716   5.599  24.529  1.00  0.00          PT  \nATOM     44   Pt MOL     1      11.117   4.788  26.828  1.00  0.00          PT  \nATOM     45   Pt MOL     1       9.710   7.208  20.000  1.00  0.00          PT  \nATOM     46   Pt MOL     1      12.485   8.810  22.265  1.00  0.00          PT  \nATOM     47   Pt MOL     1      11.103   7.993  24.532  1.00  0.00          PT  \nATOM     48   Pt MOL     1      12.491   7.190  26.849  1.00  0.00          PT  \nATOM     49   Pt MOL     1       8.323   0.000  20.000  1.00  0.00          PT  \nATOM     50   Pt MOL     1      11.097   1.602  22.265  1.00  0.00          PT  \nATOM     51   Pt MOL     1       9.713   0.779  24.527  1.00  0.00          PT  \nATOM     52   Pt MOL     1      11.104  -0.025  26.850  1.00  0.00          PT  \nATOM     53   Pt MOL     1       9.710   2.403  20.000  1.00  0.00          PT  \nATOM     54   Pt MOL     1      12.485   4.004  22.265  1.00  0.00          PT  \nATOM     55   Pt MOL     1      11.104   3.194  24.526  1.00  0.00          PT  \nATOM     56   Pt MOL     1      12.494   2.382  26.843  1.00  0.00          PT  \nATOM     57   Pt MOL     1      11.097   4.805  20.000  1.00  0.00          PT  \nATOM     58   Pt MOL     1      13.872   6.407  22.265  1.00  0.00          PT  \nATOM     59   Pt MOL     1      12.491   5.600  24.527  1.00  0.00          PT  \nATOM     60   Pt MOL     1      13.873   4.789  26.842  1.00  0.00          PT  \nATOM     61   Pt MOL     1      12.485   7.208  20.000  1.00  0.00          PT  \nATOM     62   Pt MOL     1      15.259   8.810  22.265  1.00  0.00          PT  \nATOM     63   Pt MOL     1      13.875   7.991  24.533  1.00  0.00          PT  \nATOM     64   Pt MOL     1      15.267   7.191  26.847  1.00  0.00          PT  \nATOM     65    C MOL     1       8.721   5.303  31.877  1.00  0.00           C  \nATOM     66    C MOL     1       7.930   4.498  30.878  1.00  0.00           C  \nATOM     67    C MOL     1       6.562   4.433  30.889  1.00  0.00           C  \nATOM     68    C MOL     1       5.713   5.155  31.897  1.00  0.00           C  \nATOM     69    C MOL     1       5.822   3.741  29.808  1.00  0.00           C  \nATOM     70    C MOL     1       8.707   3.859  29.790  1.00  0.00           C  \nATOM     71    H MOL     1       8.834   4.752  32.826  1.00  0.00           H  \nATOM     72    H MOL     1       9.733   5.502  31.501  1.00  0.00           H  \nATOM     73    H MOL     1       8.245   6.264  32.113  1.00  0.00           H  \nATOM     74    H MOL     1       4.819   4.563  32.142  1.00  0.00           H  \nATOM     75    H MOL     1       6.254   5.369  32.826  1.00  0.00           H  \nATOM     76    H MOL     1       5.350   6.114  31.491  1.00  0.00           H  \nATOM     77    H MOL     1       5.722   4.455  28.911  1.00  0.00           H  \nATOM     78    H MOL     1       6.327   2.857  29.391  1.00  0.00           H  \nATOM     79    H MOL     1       4.788   3.478  30.061  1.00  0.00           H  \nATOM     80    H MOL     1       9.794   3.927  29.909  1.00  0.00           H  \nATOM     81    H MOL     1       8.486   4.450  28.821  1.00  0.00           H  \nATOM     82    H MOL     1       8.431   2.827  29.533  1.00  0.00           H  \nENDMDL\n",
           "type": "blob"
          }
         ],
         "kwargs": {
          "defaultRepresentation": false,
          "ext": "pdb"
         },
         "methodName": "loadFile",
         "reconstruc_color_scheme": false,
         "target": "Stage",
         "type": "call_method"
        },
        {
         "args": [
          "500px",
          "500px"
         ],
         "kwargs": {},
         "methodName": "setSize",
         "reconstruc_color_scheme": false,
         "target": "Widget",
         "type": "call_method"
        },
        {
         "args": [
          "unitcell"
         ],
         "component_index": 0,
         "kwargs": {
          "sele": "all"
         },
         "methodName": "addRepresentation",
         "reconstruc_color_scheme": false,
         "target": "compList",
         "type": "call_method"
        },
        {
         "args": [
          "spacefill"
         ],
         "component_index": 0,
         "kwargs": {
          "sele": "all"
         },
         "methodName": "addRepresentation",
         "reconstruc_color_scheme": false,
         "target": "compList",
         "type": "call_method"
        },
        {
         "args": [],
         "kwargs": {
          "cameraType": "orthographic"
         },
         "methodName": "setParameters",
         "reconstruc_color_scheme": false,
         "target": "Stage",
         "type": "call_method"
        },
        {
         "args": [
          {
           "clipDist": 0
          }
         ],
         "kwargs": {},
         "methodName": "setParameters",
         "reconstruc_color_scheme": false,
         "target": "Widget",
         "type": "call_method"
        },
        {
         "args": [
          "spacefill",
          0
         ],
         "kwargs": {
          "colorScale": "rainbow",
          "colorScheme": "element",
          "radiusScale": 0.5,
          "radiusType": "covalent"
         },
         "methodName": "updateRepresentationsByName",
         "reconstruc_color_scheme": false,
         "target": "Widget",
         "type": "call_method"
        },
        {
         "args": [
          "this._Q = [[1.0, 0.0, 0.0], [0.0, 1.0, 0.0], [0.0, 0.0, 1.0]]\n    var tooltip = document.createElement('div');\n    Object.assign(tooltip.style, {\n      display: 'none',\n      position: 'fixed',\n      zIndex: 10,\n      pointerEvents: 'none',\n      backgroundColor: 'rgba( 0, 0, 0, 0.6 )',\n      color: 'lightgrey',\n      padding: '8px',\n      fontFamily: 'sans-serif'\n    });\n    document.body.appendChild(tooltip);\n\n    var that = this;\n    this.stage.mouseControls.remove('hoverPick');\n    this.stage.signals.hovered.add(function (pickingProxy) {\n      if (pickingProxy && (pickingProxy.atom || pickingProxy.bond)) {\n        var atom = pickingProxy.atom || pickingProxy.closestBondAtom\n        var mp = pickingProxy.mouse.position\n        //tooltip.innerText = atom.element + ' i=' + atom.index + ' (' + atom.x.toFixed(2) +  ', ' + atom.y.toFixed(2) +  ', ' + atom.z.toFixed(2) + ')'\n        //var pos = that._atoms_pos[atom.index]\n        var Q = that._Q\n        var pos_x = Q[0][0] * atom.x + Q[0][1] * atom.y + Q[0][2] * atom.z \n        var pos_y = Q[1][0] * atom.x + Q[1][1] * atom.y + Q[1][2] * atom.z\n        var pos_z = Q[2][0] * atom.x + Q[2][1] * atom.y + Q[2][2] * atom.z\n        tooltip.innerText = 'i=' + atom.index + ' ' + atom.element + ' (' + pos_x.toFixed(2) +  ', ' + pos_y.toFixed(2) +  ', ' + pos_z.toFixed(2) + ')'\n        tooltip.style.bottom = window.innerHeight - mp.y + 3 + 'px'\n        tooltip.style.left = mp.x + 3 + 'px'\n        tooltip.style.display = 'block'\n      } else {\n        tooltip.style.display = 'none'\n      }\n    });\n    this.stage.tooltip = tooltip;\n    "
         ],
         "kwargs": {},
         "methodName": "executeCode",
         "reconstruc_color_scheme": false,
         "target": "Widget",
         "type": "call_method"
        },
        {
         "args": [
          "ball+stick"
         ],
         "component_index": 0,
         "kwargs": {
          "sele": "all"
         },
         "methodName": "addRepresentation",
         "reconstruc_color_scheme": false,
         "target": "compList",
         "type": "call_method"
        }
       ],
       "_ngl_original_stage_parameters": {
        "ambientColor": 14540253,
        "ambientIntensity": 0.2,
        "backgroundColor": "white",
        "cameraEyeSep": 0.3,
        "cameraFov": 40,
        "cameraType": "perspective",
        "clipDist": 10,
        "clipFar": 100,
        "clipNear": 0,
        "fogFar": 100,
        "fogNear": 50,
        "hoverTimeout": 0,
        "impostor": true,
        "lightColor": 14540253,
        "lightIntensity": 1,
        "mousePreset": "default",
        "panSpeed": 1,
        "quality": "medium",
        "rotateSpeed": 2,
        "sampleLevel": 0,
        "tooltip": true,
        "workerDefault": true,
        "zoomSpeed": 1.2
       },
       "_ngl_repr_dict": {
        "0": {
         "0": {
          "params": {
           "clipCenter": {
            "x": 0,
            "y": 0,
            "z": 0
           },
           "clipNear": 0,
           "clipRadius": 0,
           "colorMode": "hcl",
           "colorReverse": false,
           "colorScale": "",
           "colorScheme": "element",
           "colorValue": "orange",
           "defaultAssembly": "",
           "depthWrite": true,
           "diffuse": 16777215,
           "diffuseInterior": false,
           "disableImpostor": false,
           "disablePicking": false,
           "flatShaded": false,
           "interiorColor": 2236962,
           "interiorDarkening": 0,
           "lazy": false,
           "matrix": {
            "elements": [
             1,
             0,
             0,
             0,
             0,
             1,
             0,
             0,
             0,
             0,
             1,
             0,
             0,
             0,
             0,
             1
            ]
           },
           "metalness": 0,
           "opacity": 1,
           "quality": "medium",
           "radialSegments": 10,
           "radiusData": {},
           "radiusScale": 1,
           "radiusSize": 0.08544178761926524,
           "radiusType": "vdw",
           "roughness": 0.4,
           "sele": "all",
           "side": "double",
           "sphereDetail": 1,
           "useInteriorColor": true,
           "visible": true,
           "wireframe": false
          },
          "type": "unitcell"
         },
         "1": {
          "params": {
           "assembly": "default",
           "clipCenter": {
            "x": 0,
            "y": 0,
            "z": 0
           },
           "clipNear": 0,
           "clipRadius": 0,
           "colorMode": "hcl",
           "colorReverse": false,
           "colorScale": "rainbow",
           "colorScheme": "element",
           "colorValue": 9474192,
           "defaultAssembly": "",
           "depthWrite": true,
           "diffuse": 16777215,
           "diffuseInterior": false,
           "disableImpostor": false,
           "disablePicking": false,
           "flatShaded": false,
           "interiorColor": 2236962,
           "interiorDarkening": 0,
           "lazy": false,
           "matrix": {
            "elements": [
             1,
             0,
             0,
             0,
             0,
             1,
             0,
             0,
             0,
             0,
             1,
             0,
             0,
             0,
             0,
             1
            ]
           },
           "metalness": 0,
           "opacity": 1,
           "quality": "medium",
           "radiusData": {},
           "radiusScale": 0.5,
           "radiusSize": 1,
           "radiusType": "covalent",
           "roughness": 0.4,
           "sele": "all",
           "side": "double",
           "sphereDetail": 1,
           "useInteriorColor": true,
           "visible": true,
           "wireframe": false
          },
          "type": "spacefill"
         },
         "2": {
          "params": {
           "aspectRatio": 2,
           "assembly": "default",
           "bondScale": 0.4,
           "bondSpacing": 1,
           "clipCenter": {
            "x": 0,
            "y": 0,
            "z": 0
           },
           "clipNear": 0,
           "clipRadius": 0,
           "colorMode": "hcl",
           "colorReverse": false,
           "colorScale": "",
           "colorScheme": "element",
           "colorValue": 9474192,
           "cylinderOnly": false,
           "defaultAssembly": "",
           "depthWrite": true,
           "diffuse": 16777215,
           "diffuseInterior": false,
           "disableImpostor": false,
           "disablePicking": false,
           "flatShaded": false,
           "interiorColor": 2236962,
           "interiorDarkening": 0,
           "lazy": false,
           "lineOnly": false,
           "linewidth": 2,
           "matrix": {
            "elements": [
             1,
             0,
             0,
             0,
             0,
             1,
             0,
             0,
             0,
             0,
             1,
             0,
             0,
             0,
             0,
             1
            ]
           },
           "metalness": 0,
           "multipleBond": "off",
           "opacity": 1,
           "openEnded": true,
           "quality": "medium",
           "radialSegments": 10,
           "radiusData": {},
           "radiusScale": 1,
           "radiusSize": 0.15,
           "radiusType": "size",
           "roughness": 0.4,
           "sele": "all",
           "side": "double",
           "sphereDetail": 1,
           "useInteriorColor": true,
           "visible": true,
           "wireframe": false
          },
          "type": "ball+stick"
         }
        }
       },
       "_ngl_serialize": false,
       "_ngl_version": "2.0.0-dev.36",
       "_ngl_view_id": [
        "27303B52-6273-4429-A8F8-437CE2E8D404"
       ],
       "_player_dict": {},
       "_scene_position": {},
       "_scene_rotation": {},
       "_synced_model_ids": [],
       "_synced_repr_model_ids": [],
       "_view_height": "",
       "_view_width": "",
       "background": "white",
       "frame": 0,
       "gui_style": null,
       "layout": "IPY_MODEL_f25c44ebb4cb4a0fabc88d65f739485d",
       "max_frame": 2,
       "n_components": 1,
       "picked": {}
      }
     },
     "61cad1fc9d02449abbd33fdfa6ac23f9": {
      "model_module": "@jupyter-widgets/controls",
      "model_module_version": "1.5.0",
      "model_name": "ButtonModel",
      "state": {
       "description": "Save image",
       "layout": "IPY_MODEL_21014cd2c78143939d2f0b0c70dbc29f",
       "style": "IPY_MODEL_0cd620cc4bc249528f6dd26bbf993dcf",
       "tooltip": "Save current frame to file.\nCurrently .png and .html are supported.\nIt takes a bit time, please be patient."
      }
     },
     "626ecb1260fb4013b765ed6a5ed3353c": {
      "model_module": "@jupyter-widgets/controls",
      "model_module_version": "1.5.0",
      "model_name": "LinkModel",
      "state": {
       "source": [
        "IPY_MODEL_41bf19d43ce544369e27ba31ec03e4f8",
        "value"
       ],
       "target": [
        "IPY_MODEL_428f437c182d428e9dbccd87479ba234",
        "frame"
       ]
      }
     },
     "631b27cee03042c79c01a2ff71a5c251": {
      "model_module": "@jupyter-widgets/controls",
      "model_module_version": "1.5.0",
      "model_name": "IntSliderModel",
      "state": {
       "layout": "IPY_MODEL_8ed27f5665084fb384541e8ce94b38f0",
       "max": 2,
       "style": "IPY_MODEL_e036a220db7a44cd97583e73854e2359"
      }
     },
     "65571e5c68f4467f89ad0c72f8c3f32f": {
      "model_module": "@jupyter-widgets/controls",
      "model_module_version": "1.5.0",
      "model_name": "DescriptionStyleModel",
      "state": {
       "description_width": ""
      }
     },
     "6727a342b4b44eb6805971689b4570c7": {
      "model_module": "@jupyter-widgets/controls",
      "model_module_version": "1.5.0",
      "model_name": "HBoxModel",
      "state": {
       "children": [
        "IPY_MODEL_dc5a4c11047342f1ba1409eb8503a7ff",
        "IPY_MODEL_76c2fbcf651e41659c8b22db4de0336f"
       ],
       "layout": "IPY_MODEL_bddd15ce195a46d29f76adab40369a40"
      }
     },
     "672c3cadacc345bba8b498802e7e4cc7": {
      "model_module": "@jupyter-widgets/base",
      "model_module_version": "1.2.0",
      "model_name": "LayoutModel",
      "state": {}
     },
     "688a03992dea4c2897396a3cd6824fce": {
      "model_module": "@jupyter-widgets/controls",
      "model_module_version": "1.5.0",
      "model_name": "HTMLModel",
      "state": {
       "layout": "IPY_MODEL_05f580fe7fb04f79938e35e95cfc7d79",
       "style": "IPY_MODEL_a9dc3156b40144b7bcbf160dd808e1d7",
       "value": " 3/3 [02:30&lt;00:00, 58.02s/it]"
      }
     },
     "69e3b3be2a4d47b4847aaf2c65f46190": {
      "model_module": "@jupyter-widgets/controls",
      "model_module_version": "1.5.0",
      "model_name": "ButtonModel",
      "state": {
       "description": "Download image",
       "layout": "IPY_MODEL_0b2e84cdf9cb4ac19b0d57ebf0ba4b84",
       "style": "IPY_MODEL_84f260b7d04e4be4ae946af88af611e2",
       "tooltip": "Download current frame to your local PC"
      }
     },
     "69f87019fa3e4eb680c1cd8bcda90ce0": {
      "model_module": "@jupyter-widgets/controls",
      "model_module_version": "1.5.0",
      "model_name": "VBoxModel",
      "state": {
       "children": [
        "IPY_MODEL_a45f7a4178474cc88cd5275f73b95b5a",
        "IPY_MODEL_1cb807a2abf0468f81d27a660dcf336a",
        "IPY_MODEL_dc2c1a51cd734fb991562331598777af",
        "IPY_MODEL_51a19b58edb34aac928d0cba2fbcd964",
        "IPY_MODEL_d02763e861744d36b28b3c8f2040ebd7",
        "IPY_MODEL_ef5567e199fc41f3a3483e184ce3937a",
        "IPY_MODEL_d15c2f9eedc84815876d8a4369648394",
        "IPY_MODEL_f3b6af078974426fbcb7172ad787be98",
        "IPY_MODEL_ca2faa41edb64866873664d551b37fc2",
        "IPY_MODEL_d616bf7643f744e28d6c4ff4cc417bef"
       ],
       "layout": "IPY_MODEL_af850e28b711487383cfb9b406cefd60"
      }
     },
     "6cc7664c9798492ab1dd9c1e4b414eba": {
      "model_module": "@jupyter-widgets/controls",
      "model_module_version": "1.5.0",
      "model_name": "HBoxModel",
      "state": {
       "children": [
        "IPY_MODEL_ef8d78f45ad244f1adb5618fee9a1428",
        "IPY_MODEL_61cad1fc9d02449abbd33fdfa6ac23f9"
       ],
       "layout": "IPY_MODEL_a50b84d368bd417d918fbeb5bb738f6b"
      }
     },
     "6dd8a5b33f6b4bd8a187d702fd17200b": {
      "model_module": "@jupyter-widgets/controls",
      "model_module_version": "1.5.0",
      "model_name": "ButtonStyleModel",
      "state": {}
     },
     "6ddb101fb5d24203a8ba96a3bc196977": {
      "model_module": "@jupyter-widgets/base",
      "model_module_version": "1.2.0",
      "model_name": "LayoutModel",
      "state": {
       "border": "0px solid black"
      }
     },
     "6f32faa8e6b94e20b0ea5a909f95ef14": {
      "model_module": "@jupyter-widgets/controls",
      "model_module_version": "1.5.0",
      "model_name": "ButtonStyleModel",
      "state": {}
     },
     "6fe6ac8884c04c4a91391565a1dbb9b6": {
      "model_module": "@jupyter-widgets/controls",
      "model_module_version": "1.5.0",
      "model_name": "TextModel",
      "state": {
       "description": "Filename: ",
       "layout": "IPY_MODEL_398b569efd4746c39d875d71944f2a59",
       "style": "IPY_MODEL_548a3a396b4347fb8c2760800fbbe545",
       "value": "screenshot.png"
      }
     },
     "70beea793789402a94aee1e6dcf4ad2f": {
      "model_module": "@jupyter-widgets/base",
      "model_module_version": "1.2.0",
      "model_name": "LayoutModel",
      "state": {}
     },
     "71d2f860b95d4853ad2d20af60877680": {
      "model_module": "@jupyter-widgets/base",
      "model_module_version": "1.2.0",
      "model_name": "LayoutModel",
      "state": {}
     },
     "7294be96b66749dfa5d830aee40d45cc": {
      "model_module": "@jupyter-widgets/controls",
      "model_module_version": "1.5.0",
      "model_name": "DescriptionStyleModel",
      "state": {
       "description_width": ""
      }
     },
     "738e1a1ff9984a6dbaf0d0de37a72f46": {
      "model_module": "@jupyter-widgets/base",
      "model_module_version": "1.2.0",
      "model_name": "LayoutModel",
      "state": {}
     },
     "73e21301923e4ba0a74026cc2efbf4e1": {
      "model_module": "@jupyter-widgets/base",
      "model_module_version": "1.2.0",
      "model_name": "LayoutModel",
      "state": {}
     },
     "744667c7ccef4e2a8ce0184f20f71d1a": {
      "model_module": "@jupyter-widgets/controls",
      "model_module_version": "1.5.0",
      "model_name": "DescriptionStyleModel",
      "state": {
       "description_width": ""
      }
     },
     "745b59aa8189408ba41a1de83b3c8601": {
      "model_module": "@jupyter-widgets/controls",
      "model_module_version": "1.5.0",
      "model_name": "ProgressStyleModel",
      "state": {
       "description_width": ""
      }
     },
     "7602f86ce4c945c888f0098f8cb4d8a9": {
      "model_module": "@jupyter-widgets/controls",
      "model_module_version": "1.5.0",
      "model_name": "DropdownModel",
      "state": {
       "_options_labels": [
        "All",
        "C",
        "H"
       ],
       "description": "Show",
       "index": 0,
       "layout": "IPY_MODEL_60b8822909ef4849b08e2926a4f11e27",
       "style": "IPY_MODEL_900e15942420477babb6578b68d22bf5"
      }
     },
     "76123a30caaf4256a9761f7a9e430550": {
      "model_module": "@jupyter-widgets/base",
      "model_module_version": "1.2.0",
      "model_name": "LayoutModel",
      "state": {}
     },
     "76c2fbcf651e41659c8b22db4de0336f": {
      "model_module": "@jupyter-widgets/controls",
      "model_module_version": "1.5.0",
      "model_name": "IntSliderModel",
      "state": {
       "layout": "IPY_MODEL_c1c5bff9f5a5439f8d049693ab7a2c6b",
       "max": 2,
       "style": "IPY_MODEL_c20120a0216c41418eb136ee1098d57a"
      }
     },
     "7705837b9104460c881c85472ca0d7e6": {
      "model_module": "@jupyter-widgets/controls",
      "model_module_version": "1.5.0",
      "model_name": "FloatSliderModel",
      "state": {
       "description": "Charge scale",
       "layout": "IPY_MODEL_ad2c13e8521140ec9bc886e763c02955",
       "step": 0.1,
       "style": "IPY_MODEL_97db677ab821425c8e9c0e07ca4590ba",
       "value": 1
      }
     },
     "77f98ed4183a4baaa29526d0d983c4a1": {
      "model_module": "@jupyter-widgets/base",
      "model_module_version": "1.2.0",
      "model_name": "LayoutModel",
      "state": {}
     },
     "7812002ffe8f465e9417c54f758daa35": {
      "model_module": "@jupyter-widgets/base",
      "model_module_version": "1.2.0",
      "model_name": "LayoutModel",
      "state": {}
     },
     "78acee52698e42d597213f041fcc9c3e": {
      "model_module": "@jupyter-widgets/base",
      "model_module_version": "1.2.0",
      "model_name": "LayoutModel",
      "state": {}
     },
     "78fab43f34784cefb1a475126804ad8f": {
      "model_module": "@jupyter-widgets/controls",
      "model_module_version": "1.5.0",
      "model_name": "TextModel",
      "state": {
       "description": "Filename: ",
       "layout": "IPY_MODEL_29e05721bb2e461fa81afd39389ded35",
       "style": "IPY_MODEL_100e6fdede5d479f9728e6d6eb81113d",
       "value": "screenshot.png"
      }
     },
     "798787316218494a88d7cef3ce81679c": {
      "model_module": "@jupyter-widgets/controls",
      "model_module_version": "1.5.0",
      "model_name": "SliderStyleModel",
      "state": {
       "description_width": ""
      }
     },
     "799e2e5115184037b09538a650bd8d70": {
      "model_module": "@jupyter-widgets/base",
      "model_module_version": "1.2.0",
      "model_name": "LayoutModel",
      "state": {}
     },
     "7a498d27772a41d48a9debfa06b19551": {
      "model_module": "@jupyter-widgets/controls",
      "model_module_version": "1.5.0",
      "model_name": "DescriptionStyleModel",
      "state": {
       "description_width": ""
      }
     },
     "7abada6147054f748f628830ed75d3cc": {
      "model_module": "@jupyter-widgets/controls",
      "model_module_version": "1.5.0",
      "model_name": "SliderStyleModel",
      "state": {
       "description_width": ""
      }
     },
     "7cb65791d10a4d55bbe9d49ea48f0277": {
      "model_module": "@jupyter-widgets/base",
      "model_module_version": "1.2.0",
      "model_name": "LayoutModel",
      "state": {}
     },
     "7ecce15f207943009e168aa654c024cd": {
      "model_module": "@jupyter-widgets/base",
      "model_module_version": "1.2.0",
      "model_name": "LayoutModel",
      "state": {}
     },
     "7ed63c44d2294827af7cd1bb81494389": {
      "model_module": "@jupyter-widgets/base",
      "model_module_version": "1.2.0",
      "model_name": "LayoutModel",
      "state": {
       "width": "34px"
      }
     },
     "7f0b081959b9486ebf1ea9ad341ba2a5": {
      "model_module": "@jupyter-widgets/controls",
      "model_module_version": "1.5.0",
      "model_name": "ImageModel",
      "state": {
       "layout": "IPY_MODEL_7fd74f613f0d4e94a639fd9242fe143e",
       "width": "900.0"
      }
     },
     "7fd74f613f0d4e94a639fd9242fe143e": {
      "model_module": "@jupyter-widgets/base",
      "model_module_version": "1.2.0",
      "model_name": "LayoutModel",
      "state": {}
     },
     "80c15f6d8be344e5aedc997dbca91640": {
      "model_module": "@jupyter-widgets/controls",
      "model_module_version": "1.5.0",
      "model_name": "LinkModel",
      "state": {
       "source": [
        "IPY_MODEL_76c2fbcf651e41659c8b22db4de0336f",
        "max"
       ],
       "target": [
        "IPY_MODEL_61724767c2c7400fa99b971076b443fe",
        "max_frame"
       ]
      }
     },
     "818f7a931614457a8a9ff449ea5c92ed": {
      "model_module": "@jupyter-widgets/controls",
      "model_module_version": "1.5.0",
      "model_name": "HBoxModel",
      "state": {
       "children": [
        "IPY_MODEL_61724767c2c7400fa99b971076b443fe",
        "IPY_MODEL_8fb985befd194365b69839edfbe84b81"
       ],
       "layout": "IPY_MODEL_a4dac77d8d6c4c53823a652a2d25ab23"
      }
     },
     "81bc1efc51c7415bbbff1e9a8193f8ca": {
      "model_module": "@jupyter-widgets/controls",
      "model_module_version": "1.5.0",
      "model_name": "DescriptionStyleModel",
      "state": {
       "description_width": ""
      }
     },
     "81ddaa85b1ed4d37af949427ac913e8e": {
      "model_module": "@jupyter-widgets/controls",
      "model_module_version": "1.5.0",
      "model_name": "IntSliderModel",
      "state": {
       "layout": "IPY_MODEL_71d2f860b95d4853ad2d20af60877680",
       "max": 0,
       "style": "IPY_MODEL_cf5b6d3e1abf4cecbafa300b0f256429"
      }
     },
     "81de77b82f244369a204039f9e8b34a7": {
      "model_module": "@jupyter-widgets/controls",
      "model_module_version": "1.5.0",
      "model_name": "HBoxModel",
      "state": {
       "children": [
        "IPY_MODEL_41bf19d43ce544369e27ba31ec03e4f8",
        "IPY_MODEL_81ddaa85b1ed4d37af949427ac913e8e"
       ],
       "layout": "IPY_MODEL_389833397bbb436cb50e45df1fa3c759"
      }
     },
     "82268b50df2e42b6b155ad3efe4bd916": {
      "model_module": "@jupyter-widgets/base",
      "model_module_version": "1.2.0",
      "model_name": "LayoutModel",
      "state": {}
     },
     "839c4498c88f427f8556af7d64ad730b": {
      "model_module": "@jupyter-widgets/controls",
      "model_module_version": "1.5.0",
      "model_name": "DropdownModel",
      "state": {
       "_options_labels": [
        " ",
        "picking",
        "random",
        "uniform",
        "atomindex",
        "residueindex",
        "chainindex",
        "modelindex",
        "sstruc",
        "element",
        "resname",
        "bfactor",
        "hydrophobicity",
        "value",
        "volume",
        "occupancy"
       ],
       "description": "Color scheme",
       "index": 9,
       "layout": "IPY_MODEL_77f98ed4183a4baaa29526d0d983c4a1",
       "style": "IPY_MODEL_0982712dc6504081a644f8968502bc02"
      }
     },
     "83a6129f6f90493d84b36f111a9b8378": {
      "model_module": "@jupyter-widgets/base",
      "model_module_version": "1.2.0",
      "model_name": "LayoutModel",
      "state": {}
     },
     "83d09e2816c04e1d8ce5d343a889eb07": {
      "model_module": "@jupyter-widgets/controls",
      "model_module_version": "1.5.0",
      "model_name": "HTMLModel",
      "state": {
       "layout": "IPY_MODEL_f97298e7fbd14a63946d5c80e600bc7b",
       "style": "IPY_MODEL_f98cc9a9fc76449e96640be65a937260",
       "value": "100%"
      }
     },
     "8412c5a58b374740a566b96c76dae23d": {
      "model_module": "@jupyter-widgets/controls",
      "model_module_version": "1.5.0",
      "model_name": "CheckboxModel",
      "state": {
       "description": "Show charge",
       "disabled": false,
       "layout": "IPY_MODEL_7812002ffe8f465e9417c54f758daa35",
       "style": "IPY_MODEL_afb16f6fcb5a4cc2bc9856f79297b21b",
       "value": false
      }
     },
     "841f75ace1c44cbcb19e92260651723a": {
      "model_module": "@jupyter-widgets/base",
      "model_module_version": "1.2.0",
      "model_name": "LayoutModel",
      "state": {}
     },
     "849ca7ef6dd34d29bd50c9abd272d3a3": {
      "model_module": "@jupyter-widgets/controls",
      "model_module_version": "1.5.0",
      "model_name": "HBoxModel",
      "state": {
       "children": [
        "IPY_MODEL_83d09e2816c04e1d8ce5d343a889eb07",
        "IPY_MODEL_37f6e352362a4f5fb551454854cc97dd",
        "IPY_MODEL_380f5608430a4e5caac1a860adcfc085"
       ],
       "layout": "IPY_MODEL_bf82f7cd694542fa931a71bc31e0bd93"
      }
     },
     "84f260b7d04e4be4ae946af88af611e2": {
      "model_module": "@jupyter-widgets/controls",
      "model_module_version": "1.5.0",
      "model_name": "ButtonStyleModel",
      "state": {}
     },
     "856998a1e9f642a589b8a0020e4a9037": {
      "model_module": "@jupyter-widgets/controls",
      "model_module_version": "1.5.0",
      "model_name": "DescriptionStyleModel",
      "state": {
       "description_width": ""
      }
     },
     "8628b9a16ecf42abad2bdc2874e5e9c0": {
      "model_module": "@jupyter-widgets/base",
      "model_module_version": "1.2.0",
      "model_name": "LayoutModel",
      "state": {}
     },
     "863a8740deac4d09a4fb0f6e602143ec": {
      "model_module": "@jupyter-widgets/controls",
      "model_module_version": "1.5.0",
      "model_name": "DescriptionStyleModel",
      "state": {
       "description_width": ""
      }
     },
     "866fbee4f2384feeb980a531eb94d471": {
      "model_module": "@jupyter-widgets/base",
      "model_module_version": "1.2.0",
      "model_name": "LayoutModel",
      "state": {}
     },
     "86719dd9ed3f497e80a262589e7faa04": {
      "model_module": "@jupyter-widgets/base",
      "model_module_version": "1.2.0",
      "model_name": "LayoutModel",
      "state": {}
     },
     "88b8ee0fc7a5419e85f0b4ba0f80ea15": {
      "model_module": "@jupyter-widgets/base",
      "model_module_version": "1.2.0",
      "model_name": "LayoutModel",
      "state": {}
     },
     "897a34dda00a4c7eac350c7e97e42df5": {
      "model_module": "@jupyter-widgets/base",
      "model_module_version": "1.2.0",
      "model_name": "LayoutModel",
      "state": {}
     },
     "89cfdffabc8d45dc9bd48722a6ff1d19": {
      "model_module": "@jupyter-widgets/base",
      "model_module_version": "1.2.0",
      "model_name": "LayoutModel",
      "state": {}
     },
     "8b860decd70547a286544c1ec489e075": {
      "model_module": "@jupyter-widgets/base",
      "model_module_version": "1.2.0",
      "model_name": "LayoutModel",
      "state": {}
     },
     "8bca11e784be4dbd8f7499d33df80d01": {
      "model_module": "@jupyter-widgets/base",
      "model_module_version": "1.2.0",
      "model_name": "LayoutModel",
      "state": {}
     },
     "8c2bf5dad3d44da79be55c6684e9ef6c": {
      "model_module": "@jupyter-widgets/controls",
      "model_module_version": "1.5.0",
      "model_name": "ButtonModel",
      "state": {
       "icon": "compress",
       "layout": "IPY_MODEL_9554a01602de495da2664a29d742fae0",
       "style": "IPY_MODEL_e370da26b7954c2798a72f2c79e59881"
      }
     },
     "8e08348c744e494a832f54e7837535c7": {
      "model_module": "@jupyter-widgets/base",
      "model_module_version": "1.2.0",
      "model_name": "LayoutModel",
      "state": {}
     },
     "8eaf406e6f854348b7cda2e18750c918": {
      "model_module": "@jupyter-widgets/controls",
      "model_module_version": "1.5.0",
      "model_name": "VBoxModel",
      "state": {
       "children": [
        "IPY_MODEL_ed408c22680648ff8dbbbcd3daaabfa8",
        "IPY_MODEL_839c4498c88f427f8556af7d64ad730b",
        "IPY_MODEL_1ea18113fb294614bc5d1ab0a7884320",
        "IPY_MODEL_78fab43f34784cefb1a475126804ad8f",
        "IPY_MODEL_380979eae28145dd876c659c6699cebd",
        "IPY_MODEL_11064f6155384e2b88c08ce0c6ac164c",
        "IPY_MODEL_090ebb8875c9420792fae5d1ca7dd1ef",
        "IPY_MODEL_c60847f3d0904fd9908b88d4e0301358",
        "IPY_MODEL_dbf7c7712e114d41a4de84c875e42ec4",
        "IPY_MODEL_2dfa56cc19f845299309cc933045070e"
       ],
       "layout": "IPY_MODEL_579d152d3f6c48638b91a8a83961bc3c"
      }
     },
     "8ec991133d9647bfac1e0b973c11c446": {
      "model_module": "@jupyter-widgets/controls",
      "model_module_version": "1.5.0",
      "model_name": "HBoxModel",
      "state": {
       "children": [
        "IPY_MODEL_bde850048f46420f9423308ff9c0c3f5",
        "IPY_MODEL_facc42bc5a374e65924610391a50d219"
       ],
       "layout": "IPY_MODEL_1244f28a03bc4acf963312235ded86d1"
      }
     },
     "8ed27f5665084fb384541e8ce94b38f0": {
      "model_module": "@jupyter-widgets/base",
      "model_module_version": "1.2.0",
      "model_name": "LayoutModel",
      "state": {}
     },
     "8fb985befd194365b69839edfbe84b81": {
      "model_module": "@jupyter-widgets/controls",
      "model_module_version": "1.5.0",
      "model_name": "VBoxModel",
      "state": {
       "children": [
        "IPY_MODEL_b7d1facefaae462792ab54011f31a6e7",
        "IPY_MODEL_54bb229a239a44069449fb3334a192f7",
        "IPY_MODEL_d5797e6aa9524e4c8ac2304d5ea6746c",
        "IPY_MODEL_5c3e92fda6284ba6b4d8470e04876221",
        "IPY_MODEL_6fe6ac8884c04c4a91391565a1dbb9b6",
        "IPY_MODEL_6cc7664c9798492ab1dd9c1e4b414eba",
        "IPY_MODEL_477cba7effee43da9b796c0186dd231d",
        "IPY_MODEL_f1f473ab4fda4bfc9beea05c00f5c2b1",
        "IPY_MODEL_4bb280531007473392ae5789835ae3dc",
        "IPY_MODEL_bd18a5a29d38489d83d502e30f2b9835",
        "IPY_MODEL_098a669d1c1740e9aebd27dafcb22d3e"
       ],
       "layout": "IPY_MODEL_9587c19efefc45c3bacb445735088028"
      }
     },
     "900e15942420477babb6578b68d22bf5": {
      "model_module": "@jupyter-widgets/controls",
      "model_module_version": "1.5.0",
      "model_name": "DescriptionStyleModel",
      "state": {
       "description_width": ""
      }
     },
     "924dcec2502444c2b8cc4a305b194900": {
      "model_module": "@jupyter-widgets/controls",
      "model_module_version": "1.5.0",
      "model_name": "DescriptionStyleModel",
      "state": {
       "description_width": ""
      }
     },
     "93eed15f7f0346fbadc9ba2d050604a4": {
      "model_module": "@jupyter-widgets/controls",
      "model_module_version": "1.5.0",
      "model_name": "PlayModel",
      "state": {
       "layout": "IPY_MODEL_98bd47dc2d4f46a98cdf731012195eec",
       "max": 0,
       "style": "IPY_MODEL_d60176ee61864a89aa36ad7e407c7601"
      }
     },
     "94f39928162b4e21bbd249d8df32688c": {
      "model_module": "@jupyter-widgets/controls",
      "model_module_version": "1.5.0",
      "model_name": "HBoxModel",
      "state": {
       "children": [
        "IPY_MODEL_289db5a17704416daf7e43aa2e3ab2ea",
        "IPY_MODEL_b9a7ccc4eb66480d8fd3c8037cbead32",
        "IPY_MODEL_688a03992dea4c2897396a3cd6824fce"
       ],
       "layout": "IPY_MODEL_2f8d609ba7d844e6912c8a02a0e88242"
      }
     },
     "9554a01602de495da2664a29d742fae0": {
      "model_module": "@jupyter-widgets/base",
      "model_module_version": "1.2.0",
      "model_name": "LayoutModel",
      "state": {
       "width": "34px"
      }
     },
     "9587c19efefc45c3bacb445735088028": {
      "model_module": "@jupyter-widgets/base",
      "model_module_version": "1.2.0",
      "model_name": "LayoutModel",
      "state": {}
     },
     "97db677ab821425c8e9c0e07ca4590ba": {
      "model_module": "@jupyter-widgets/controls",
      "model_module_version": "1.5.0",
      "model_name": "SliderStyleModel",
      "state": {
       "description_width": ""
      }
     },
     "98bd47dc2d4f46a98cdf731012195eec": {
      "model_module": "@jupyter-widgets/base",
      "model_module_version": "1.2.0",
      "model_name": "LayoutModel",
      "state": {}
     },
     "99805fdb40bb42239ae247c02022ff6d": {
      "model_module": "@jupyter-widgets/controls",
      "model_module_version": "1.5.0",
      "model_name": "HBoxModel",
      "state": {
       "children": [
        "IPY_MODEL_1399403d4e754ac69f98b33f2258493f",
        "IPY_MODEL_a56c8bc99bf74f028a771a8015557688"
       ],
       "layout": "IPY_MODEL_f109efcc01874457963ecf4e52d12eab"
      }
     },
     "99c4b88bed6c442d8261405fab0fdea8": {
      "model_module": "@jupyter-widgets/controls",
      "model_module_version": "1.5.0",
      "model_name": "SliderStyleModel",
      "state": {
       "description_width": ""
      }
     },
     "9bcc1f254495450caad2c923ba713237": {
      "model_module": "@jupyter-widgets/controls",
      "model_module_version": "1.5.0",
      "model_name": "HBoxModel",
      "state": {
       "children": [
        "IPY_MODEL_0309fb50ee7241ada4beef783240371a",
        "IPY_MODEL_532c6d1afe5245ae9b018b473c5e9742"
       ],
       "layout": "IPY_MODEL_73e21301923e4ba0a74026cc2efbf4e1"
      }
     },
     "9d2b4241f3884de390dd84a64a87426f": {
      "model_module": "@jupyter-widgets/controls",
      "model_module_version": "1.5.0",
      "model_name": "ButtonModel",
      "state": {
       "icon": "compress",
       "layout": "IPY_MODEL_39f3315091764fae8c52685bf3bac68e",
       "style": "IPY_MODEL_346baa6d5f8444adb31f4c97b13a4b24"
      }
     },
     "9de2d773325a4e5199ea9466c4cdcaf5": {
      "model_module": "@jupyter-widgets/controls",
      "model_module_version": "1.5.0",
      "model_name": "LinkModel",
      "state": {
       "source": [
        "IPY_MODEL_a56c8bc99bf74f028a771a8015557688",
        "max"
       ],
       "target": [
        "IPY_MODEL_1955d58d866944eb973ac952e83ddfe1",
        "max_frame"
       ]
      }
     },
     "9e49fbb42f7e47e0b6af568c3274740d": {
      "model_module": "@jupyter-widgets/base",
      "model_module_version": "1.2.0",
      "model_name": "LayoutModel",
      "state": {}
     },
     "a10130eb8a314e7db1f9cd1f3c104702": {
      "model_module": "@jupyter-widgets/controls",
      "model_module_version": "1.5.0",
      "model_name": "SliderStyleModel",
      "state": {
       "description_width": ""
      }
     },
     "a21f95a018f6442782e2b9ca1c77727e": {
      "model_module": "@jupyter-widgets/controls",
      "model_module_version": "1.5.0",
      "model_name": "FloatSliderModel",
      "state": {
       "description": "Charge scale",
       "layout": "IPY_MODEL_4738c167d488479caaa0677c1247d993",
       "step": 0.1,
       "style": "IPY_MODEL_e146085efecf4710b31f5583efba8830",
       "value": 1
      }
     },
     "a228e3fb88284d4b9d5da00be2045e4e": {
      "model_module": "@jupyter-widgets/base",
      "model_module_version": "1.2.0",
      "model_name": "LayoutModel",
      "state": {}
     },
     "a25b7fa0ba574a5d9033f7e06d8ea874": {
      "model_module": "@jupyter-widgets/base",
      "model_module_version": "1.2.0",
      "model_name": "LayoutModel",
      "state": {}
     },
     "a26ca4238da141f5a5da8b6af30317f5": {
      "model_module": "@jupyter-widgets/controls",
      "model_module_version": "1.5.0",
      "model_name": "DescriptionStyleModel",
      "state": {
       "description_width": ""
      }
     },
     "a2a89a1d4b6c44d9a4a54da94d18a9ae": {
      "model_module": "@jupyter-widgets/base",
      "model_module_version": "1.2.0",
      "model_name": "LayoutModel",
      "state": {}
     },
     "a36fe577f0b54662acf5191ef3af2fdf": {
      "model_module": "@jupyter-widgets/controls",
      "model_module_version": "1.5.0",
      "model_name": "LinkModel",
      "state": {
       "source": [
        "IPY_MODEL_1ac0d0f0eb9146fda2ecc829f87a3d1d",
        "value"
       ],
       "target": [
        "IPY_MODEL_f637c16575fe4120842afe8cbb8a8df9",
        "frame"
       ]
      }
     },
     "a3d2968c8c854334b0b55ba746e09613": {
      "model_module": "@jupyter-widgets/base",
      "model_module_version": "1.2.0",
      "model_name": "LayoutModel",
      "state": {}
     },
     "a3d99e2bd3034f8083275a6df3eee784": {
      "model_module": "@jupyter-widgets/controls",
      "model_module_version": "1.5.0",
      "model_name": "DropdownModel",
      "state": {
       "_options_labels": [
        " ",
        "picking",
        "random",
        "uniform",
        "atomindex",
        "residueindex",
        "chainindex",
        "modelindex",
        "sstruc",
        "element",
        "resname",
        "bfactor",
        "hydrophobicity",
        "value",
        "volume",
        "occupancy"
       ],
       "description": "Color scheme",
       "index": 9,
       "layout": "IPY_MODEL_500fd3663bb945c39bbab5746300b9fe",
       "style": "IPY_MODEL_0b0e785d32644439a56dc5439cb3b1a7"
      }
     },
     "a45f7a4178474cc88cd5275f73b95b5a": {
      "model_module": "@jupyter-widgets/controls",
      "model_module_version": "1.5.0",
      "model_name": "DropdownModel",
      "state": {
       "_options_labels": [
        "All",
        "C",
        "H",
        "Pt"
       ],
       "description": "Show",
       "index": 0,
       "layout": "IPY_MODEL_ad2f8a68cde6467cbb0508bf015e2390",
       "style": "IPY_MODEL_7a498d27772a41d48a9debfa06b19551"
      }
     },
     "a4a2727352f54ce992cf8028d368366c": {
      "model_module": "@jupyter-widgets/controls",
      "model_module_version": "1.5.0",
      "model_name": "LinkModel",
      "state": {
       "source": [
        "IPY_MODEL_81ddaa85b1ed4d37af949427ac913e8e",
        "max"
       ],
       "target": [
        "IPY_MODEL_428f437c182d428e9dbccd87479ba234",
        "max_frame"
       ]
      }
     },
     "a4dac77d8d6c4c53823a652a2d25ab23": {
      "model_module": "@jupyter-widgets/base",
      "model_module_version": "1.2.0",
      "model_name": "LayoutModel",
      "state": {}
     },
     "a50b84d368bd417d918fbeb5bb738f6b": {
      "model_module": "@jupyter-widgets/base",
      "model_module_version": "1.2.0",
      "model_name": "LayoutModel",
      "state": {}
     },
     "a56c8bc99bf74f028a771a8015557688": {
      "model_module": "@jupyter-widgets/controls",
      "model_module_version": "1.5.0",
      "model_name": "IntSliderModel",
      "state": {
       "layout": "IPY_MODEL_897a34dda00a4c7eac350c7e97e42df5",
       "max": 0,
       "style": "IPY_MODEL_379b24d6889e46eead1abd323994ae78"
      }
     },
     "a62a849f73ea41f99cebeb6d87c3b57c": {
      "model_module": "@jupyter-widgets/base",
      "model_module_version": "1.2.0",
      "model_name": "LayoutModel",
      "state": {}
     },
     "a65f605322b74ea586344e8b90c04983": {
      "model_module": "@jupyter-widgets/controls",
      "model_module_version": "1.5.0",
      "model_name": "SliderStyleModel",
      "state": {
       "description_width": ""
      }
     },
     "a72aa0b55234429cb125b12a7b5ebce2": {
      "model_module": "@jupyter-widgets/controls",
      "model_module_version": "1.5.0",
      "model_name": "LinkModel",
      "state": {
       "source": [
        "IPY_MODEL_41bf19d43ce544369e27ba31ec03e4f8",
        "value"
       ],
       "target": [
        "IPY_MODEL_81ddaa85b1ed4d37af949427ac913e8e",
        "value"
       ]
      }
     },
     "a74a91f8ce0547379ca4b6c393fe2435": {
      "model_module": "@jupyter-widgets/controls",
      "model_module_version": "1.5.0",
      "model_name": "ProgressStyleModel",
      "state": {
       "description_width": ""
      }
     },
     "a8496dd3743f482cbed3129eb7e4b31e": {
      "model_module": "@jupyter-widgets/controls",
      "model_module_version": "1.5.0",
      "model_name": "SliderStyleModel",
      "state": {
       "description_width": ""
      }
     },
     "a8966b270a334b11b38e30663dfbf311": {
      "model_module": "@jupyter-widgets/controls",
      "model_module_version": "1.5.0",
      "model_name": "HBoxModel",
      "state": {
       "children": [
        "IPY_MODEL_c6c876a395e2442ebb2963dd985d3978",
        "IPY_MODEL_153a750152064278b33559cdabb3ed1b"
       ],
       "layout": "IPY_MODEL_c5cdbb5e7ae74f2bbd157bc7457eb603"
      }
     },
     "a9456d96f8dd418dbded8d102e646f01": {
      "model_module": "@jupyter-widgets/controls",
      "model_module_version": "1.5.0",
      "model_name": "DescriptionStyleModel",
      "state": {
       "description_width": ""
      }
     },
     "a9dc3156b40144b7bcbf160dd808e1d7": {
      "model_module": "@jupyter-widgets/controls",
      "model_module_version": "1.5.0",
      "model_name": "DescriptionStyleModel",
      "state": {
       "description_width": ""
      }
     },
     "aa004568d77f44d086f6758f11e699fb": {
      "model_module": "@jupyter-widgets/base",
      "model_module_version": "1.2.0",
      "model_name": "LayoutModel",
      "state": {}
     },
     "aa344f27950f4a8cabcc57193ab91e6f": {
      "model_module": "@jupyter-widgets/base",
      "model_module_version": "1.2.0",
      "model_name": "LayoutModel",
      "state": {}
     },
     "ab942135536348ebb25cc5bf8a85bb85": {
      "model_module": "@jupyter-widgets/base",
      "model_module_version": "1.2.0",
      "model_name": "LayoutModel",
      "state": {}
     },
     "ac50ea8c460143cdb1cc9f566ff6f43c": {
      "model_module": "@jupyter-widgets/base",
      "model_module_version": "1.2.0",
      "model_name": "LayoutModel",
      "state": {}
     },
     "ac7b34e9ee684f5b965c66312a245161": {
      "model_module": "@jupyter-widgets/base",
      "model_module_version": "1.2.0",
      "model_name": "LayoutModel",
      "state": {}
     },
     "ac7ffed702a44788959df289e89d65aa": {
      "model_module": "@jupyter-widgets/base",
      "model_module_version": "1.2.0",
      "model_name": "LayoutModel",
      "state": {}
     },
     "ad2c13e8521140ec9bc886e763c02955": {
      "model_module": "@jupyter-widgets/base",
      "model_module_version": "1.2.0",
      "model_name": "LayoutModel",
      "state": {}
     },
     "ad2f8a68cde6467cbb0508bf015e2390": {
      "model_module": "@jupyter-widgets/base",
      "model_module_version": "1.2.0",
      "model_name": "LayoutModel",
      "state": {}
     },
     "ad3f2e013ef3467ba3a613d76c378a2d": {
      "model_module": "@jupyter-widgets/controls",
      "model_module_version": "1.5.0",
      "model_name": "ButtonModel",
      "state": {
       "icon": "compress",
       "layout": "IPY_MODEL_57ba102e8f4a4a9fa3b0d094ad3f72b9",
       "style": "IPY_MODEL_2cbf3398980c4f7b8a7cbe2ba796a552"
      }
     },
     "ae8b31ddb290426fa80bd7096730ffda": {
      "model_module": "@jupyter-widgets/controls",
      "model_module_version": "1.5.0",
      "model_name": "ImageModel",
      "state": {
       "layout": "IPY_MODEL_8628b9a16ecf42abad2bdc2874e5e9c0",
       "width": "900.0"
      }
     },
     "aea78c5123174280bb302d2ee345c01c": {
      "model_module": "@jupyter-widgets/controls",
      "model_module_version": "1.5.0",
      "model_name": "LinkModel",
      "state": {
       "source": [
        "IPY_MODEL_93eed15f7f0346fbadc9ba2d050604a4",
        "value"
       ],
       "target": [
        "IPY_MODEL_e2de392177f944438a80890de993647a",
        "frame"
       ]
      }
     },
     "af850e28b711487383cfb9b406cefd60": {
      "model_module": "@jupyter-widgets/base",
      "model_module_version": "1.2.0",
      "model_name": "LayoutModel",
      "state": {}
     },
     "afb16f6fcb5a4cc2bc9856f79297b21b": {
      "model_module": "@jupyter-widgets/controls",
      "model_module_version": "1.5.0",
      "model_name": "DescriptionStyleModel",
      "state": {
       "description_width": ""
      }
     },
     "b038ffb1aceb4b339317076845b923ea": {
      "model_module": "@jupyter-widgets/controls",
      "model_module_version": "1.5.0",
      "model_name": "FloatSliderModel",
      "state": {
       "description": "Force scale",
       "layout": "IPY_MODEL_17746c9f0f5d47cf8604dea841736cad",
       "step": 0.1,
       "style": "IPY_MODEL_4a366d7c6988439884758b87949061db",
       "value": 0.5
      }
     },
     "b0b3bc64d49841ba9c473d201d9d6c90": {
      "model_module": "@jupyter-widgets/controls",
      "model_module_version": "1.5.0",
      "model_name": "DescriptionStyleModel",
      "state": {
       "description_width": ""
      }
     },
     "b20d0826b4394efeb73ddf9685089f8d": {
      "model_module": "@jupyter-widgets/base",
      "model_module_version": "1.2.0",
      "model_name": "LayoutModel",
      "state": {}
     },
     "b22324f4d1dc4aa989b361d628fe5dda": {
      "model_module": "@jupyter-widgets/controls",
      "model_module_version": "1.5.0",
      "model_name": "HTMLModel",
      "state": {
       "layout": "IPY_MODEL_8b860decd70547a286544c1ec489e075",
       "style": "IPY_MODEL_81bc1efc51c7415bbbff1e9a8193f8ca",
       "value": "100%"
      }
     },
     "b26e3711b9494f5ca3d14484e383a0e9": {
      "model_module": "@jupyter-widgets/controls",
      "model_module_version": "1.5.0",
      "model_name": "CheckboxModel",
      "state": {
       "description": "Show charge",
       "disabled": false,
       "layout": "IPY_MODEL_d69eb96630c949449b529f8bc041bee2",
       "style": "IPY_MODEL_a9456d96f8dd418dbded8d102e646f01",
       "value": false
      }
     },
     "b2e5e1467aeb40db8e85d63e86c513b7": {
      "model_module": "@jupyter-widgets/controls",
      "model_module_version": "1.5.0",
      "model_name": "DropdownModel",
      "state": {
       "_options_labels": [
        " ",
        "picking",
        "random",
        "uniform",
        "atomindex",
        "residueindex",
        "chainindex",
        "modelindex",
        "sstruc",
        "element",
        "resname",
        "bfactor",
        "hydrophobicity",
        "value",
        "volume",
        "occupancy"
       ],
       "description": "Color scheme",
       "index": 9,
       "layout": "IPY_MODEL_ebc4a06c9fc54bf39762fdf676b6b01c",
       "style": "IPY_MODEL_bc2b1fee9ecf433a9860700f34bcb5a1"
      }
     },
     "b4466d6169f24c39b25d1222999ef8be": {
      "model_module": "@jupyter-widgets/controls",
      "model_module_version": "1.5.0",
      "model_name": "DescriptionStyleModel",
      "state": {
       "description_width": ""
      }
     },
     "b464c1b820a0497788cc2e6b7f1a86b6": {
      "model_module": "@jupyter-widgets/controls",
      "model_module_version": "1.5.0",
      "model_name": "SliderStyleModel",
      "state": {
       "description_width": ""
      }
     },
     "b48fad106ba040d59eb017173d2aeeb1": {
      "model_module": "@jupyter-widgets/controls",
      "model_module_version": "1.5.0",
      "model_name": "DescriptionStyleModel",
      "state": {
       "description_width": ""
      }
     },
     "b494709c97fd4f409a4919f9c50a3821": {
      "model_module": "@jupyter-widgets/base",
      "model_module_version": "1.2.0",
      "model_name": "LayoutModel",
      "state": {}
     },
     "b4cd676de8f24fabb742ba54e6da4874": {
      "model_module": "@jupyter-widgets/controls",
      "model_module_version": "1.5.0",
      "model_name": "HBoxModel",
      "state": {
       "children": [
        "IPY_MODEL_b22324f4d1dc4aa989b361d628fe5dda",
        "IPY_MODEL_16c3e08446d141c6bc55b35a2fade929",
        "IPY_MODEL_5cdc7d4931324c87ad987cba822cdce9"
       ],
       "layout": "IPY_MODEL_0b71506e0e474508936bf566f3af55e5"
      }
     },
     "b59b730b0c2944dbbf9f4f103fcee14b": {
      "model_module": "@jupyter-widgets/controls",
      "model_module_version": "1.5.0",
      "model_name": "LinkModel",
      "state": {
       "source": [
        "IPY_MODEL_631b27cee03042c79c01a2ff71a5c251",
        "max"
       ],
       "target": [
        "IPY_MODEL_f637c16575fe4120842afe8cbb8a8df9",
        "max_frame"
       ]
      }
     },
     "b5c01ecc1f8943279da91e11e1ae7881": {
      "model_module": "@jupyter-widgets/controls",
      "model_module_version": "1.5.0",
      "model_name": "DescriptionStyleModel",
      "state": {
       "description_width": ""
      }
     },
     "b5c1e9541f564d239d3bfefce3df7e72": {
      "model_module": "@jupyter-widgets/base",
      "model_module_version": "1.2.0",
      "model_name": "LayoutModel",
      "state": {}
     },
     "b61bf4d5ee5346d38894432333cfded1": {
      "model_module": "@jupyter-widgets/controls",
      "model_module_version": "1.5.0",
      "model_name": "DescriptionStyleModel",
      "state": {
       "description_width": ""
      }
     },
     "b740e9dbdd81411fadc9c4e8d464a74f": {
      "model_module": "@jupyter-widgets/base",
      "model_module_version": "1.2.0",
      "model_name": "LayoutModel",
      "state": {}
     },
     "b7d1facefaae462792ab54011f31a6e7": {
      "model_module": "@jupyter-widgets/controls",
      "model_module_version": "1.5.0",
      "model_name": "DropdownModel",
      "state": {
       "_options_labels": [
        "All",
        "C",
        "H",
        "Pt"
       ],
       "description": "Show",
       "index": 0,
       "layout": "IPY_MODEL_2175ba7e1de248e49326aa46543c1810",
       "style": "IPY_MODEL_2aa2316a6256489586b98d4d7d15483c"
      }
     },
     "b86d66d853304e8c8b1ccfb0d629a9a0": {
      "model_module": "@jupyter-widgets/base",
      "model_module_version": "1.2.0",
      "model_name": "LayoutModel",
      "state": {}
     },
     "b9a7ccc4eb66480d8fd3c8037cbead32": {
      "model_module": "@jupyter-widgets/controls",
      "model_module_version": "1.5.0",
      "model_name": "FloatProgressModel",
      "state": {
       "bar_style": "success",
       "layout": "IPY_MODEL_9e49fbb42f7e47e0b6af568c3274740d",
       "max": 3,
       "style": "IPY_MODEL_745b59aa8189408ba41a1de83b3c8601",
       "value": 3
      }
     },
     "b9df3f1b9446433380bb58cf1e152090": {
      "model_module": "@jupyter-widgets/controls",
      "model_module_version": "1.5.0",
      "model_name": "DescriptionStyleModel",
      "state": {
       "description_width": ""
      }
     },
     "ba73183e16c744d58ba6936cbeddab4c": {
      "model_module": "@jupyter-widgets/controls",
      "model_module_version": "1.5.0",
      "model_name": "ButtonStyleModel",
      "state": {}
     },
     "bc2b1fee9ecf433a9860700f34bcb5a1": {
      "model_module": "@jupyter-widgets/controls",
      "model_module_version": "1.5.0",
      "model_name": "DescriptionStyleModel",
      "state": {
       "description_width": ""
      }
     },
     "bd09e5c184324d4aaca5c47f1963a8a4": {
      "model_module": "@jupyter-widgets/controls",
      "model_module_version": "1.5.0",
      "model_name": "ButtonModel",
      "state": {
       "description": "Save image",
       "layout": "IPY_MODEL_db2f7dac0f944a228fb79a01340a563a",
       "style": "IPY_MODEL_4d9542b69e2147faab6c6215e9608a45",
       "tooltip": "Save current frame to file.\nCurrently .png and .html are supported.\nIt takes a bit time, please be patient."
      }
     },
     "bd18a5a29d38489d83d502e30f2b9835": {
      "model_module": "@jupyter-widgets/controls",
      "model_module_version": "1.5.0",
      "model_name": "FloatSliderModel",
      "state": {
       "description": "Charge scale",
       "layout": "IPY_MODEL_c438eaeaec964dcfbf8d7144971e1cc6",
       "step": 0.1,
       "style": "IPY_MODEL_7abada6147054f748f628830ed75d3cc",
       "value": 1
      }
     },
     "bddd15ce195a46d29f76adab40369a40": {
      "model_module": "@jupyter-widgets/base",
      "model_module_version": "1.2.0",
      "model_name": "LayoutModel",
      "state": {}
     },
     "bde850048f46420f9423308ff9c0c3f5": {
      "model_module": "nglview-js-widgets",
      "model_module_version": "3.0.1",
      "model_name": "NGLModel",
      "state": {
       "_camera_orientation": [
        10.425822734989396,
        0,
        0,
        0,
        0,
        10.425822734989396,
        0,
        0,
        0,
        0,
        10.425822734989396,
        0,
        0.2634999752044678,
        -0.006000041961669922,
        0.22750002145767212,
        1
       ],
       "_camera_str": "orthographic",
       "_gui_theme": null,
       "_ibtn_fullscreen": "IPY_MODEL_9d2b4241f3884de390dd84a64a87426f",
       "_igui": null,
       "_iplayer": "IPY_MODEL_9bcc1f254495450caad2c923ba713237",
       "_ngl_color_dict": {},
       "_ngl_coordinate_resource": {},
       "_ngl_full_stage_parameters": {
        "ambientColor": 14540253,
        "ambientIntensity": 0.2,
        "backgroundColor": "white",
        "cameraEyeSep": 0.3,
        "cameraFov": 40,
        "cameraType": "orthographic",
        "clipDist": 0,
        "clipFar": 100,
        "clipNear": 0,
        "fogFar": 100,
        "fogNear": 50,
        "hoverTimeout": 0,
        "impostor": true,
        "lightColor": 14540253,
        "lightIntensity": 1,
        "mousePreset": "default",
        "panSpeed": 1,
        "quality": "medium",
        "rotateSpeed": 2,
        "sampleLevel": 0,
        "tooltip": true,
        "workerDefault": true,
        "zoomSpeed": 1.2
       },
       "_ngl_msg_archive": [
        {
         "args": [
          {
           "binary": false,
           "data": "MODEL     1\nATOM      1    C MOL     1       2.225   0.000  -0.102  1.00  0.00           C  \nATOM      2    C MOL     1       0.718  -0.011  -0.038  1.00  0.00           C  \nATOM      3    C MOL     1      -0.011  -1.200  -0.092  1.00  0.00           C  \nATOM      4    C MOL     1      -1.404  -1.189  -0.021  1.00  0.00           C  \nATOM      5    C MOL     1      -2.088   0.015   0.102  1.00  0.00           C  \nATOM      6    C MOL     1      -1.374   1.211   0.149  1.00  0.00           C  \nATOM      7    C MOL     1       0.016   1.193   0.078  1.00  0.00           C  \nATOM      8    H MOL     1       2.577   0.323  -1.090  1.00  0.00           H  \nATOM      9    H MOL     1       2.645  -0.991   0.097  1.00  0.00           H  \nATOM     10    H MOL     1       2.634   0.700   0.635  1.00  0.00           H  \nATOM     11    H MOL     1       0.517  -2.145  -0.186  1.00  0.00           H  \nATOM     12    H MOL     1      -1.958  -2.122  -0.058  1.00  0.00           H  \nATOM     13    H MOL     1      -3.172   0.019   0.160  1.00  0.00           H  \nATOM     14    H MOL     1      -1.898   2.157   0.247  1.00  0.00           H  \nATOM     15    H MOL     1       0.572   2.126   0.118  1.00  0.00           H  \nENDMDL\n",
           "type": "blob"
          }
         ],
         "kwargs": {
          "defaultRepresentation": false,
          "ext": "pdb"
         },
         "methodName": "loadFile",
         "reconstruc_color_scheme": false,
         "target": "Stage",
         "type": "call_method"
        },
        {
         "args": [
          "500px",
          "500px"
         ],
         "kwargs": {},
         "methodName": "setSize",
         "reconstruc_color_scheme": false,
         "target": "Widget",
         "type": "call_method"
        },
        {
         "args": [
          "unitcell"
         ],
         "component_index": 0,
         "kwargs": {
          "sele": "all"
         },
         "methodName": "addRepresentation",
         "reconstruc_color_scheme": false,
         "target": "compList",
         "type": "call_method"
        },
        {
         "args": [
          "spacefill"
         ],
         "component_index": 0,
         "kwargs": {
          "sele": "all"
         },
         "methodName": "addRepresentation",
         "reconstruc_color_scheme": false,
         "target": "compList",
         "type": "call_method"
        },
        {
         "args": [],
         "kwargs": {
          "cameraType": "orthographic"
         },
         "methodName": "setParameters",
         "reconstruc_color_scheme": false,
         "target": "Stage",
         "type": "call_method"
        },
        {
         "args": [
          {
           "clipDist": 0
          }
         ],
         "kwargs": {},
         "methodName": "setParameters",
         "reconstruc_color_scheme": false,
         "target": "Widget",
         "type": "call_method"
        },
        {
         "args": [
          "spacefill",
          0
         ],
         "kwargs": {
          "colorScale": "rainbow",
          "colorScheme": "element",
          "radiusScale": 0.5,
          "radiusType": "covalent"
         },
         "methodName": "updateRepresentationsByName",
         "reconstruc_color_scheme": false,
         "target": "Widget",
         "type": "call_method"
        },
        {
         "args": [
          "this._Q = [[1.0, 0.0, 0.0], [0.0, 1.0, 0.0], [0.0, 0.0, 1.0]]\n    var tooltip = document.createElement('div');\n    Object.assign(tooltip.style, {\n      display: 'none',\n      position: 'fixed',\n      zIndex: 10,\n      pointerEvents: 'none',\n      backgroundColor: 'rgba( 0, 0, 0, 0.6 )',\n      color: 'lightgrey',\n      padding: '8px',\n      fontFamily: 'sans-serif'\n    });\n    document.body.appendChild(tooltip);\n\n    var that = this;\n    this.stage.mouseControls.remove('hoverPick');\n    this.stage.signals.hovered.add(function (pickingProxy) {\n      if (pickingProxy && (pickingProxy.atom || pickingProxy.bond)) {\n        var atom = pickingProxy.atom || pickingProxy.closestBondAtom\n        var mp = pickingProxy.mouse.position\n        //tooltip.innerText = atom.element + ' i=' + atom.index + ' (' + atom.x.toFixed(2) +  ', ' + atom.y.toFixed(2) +  ', ' + atom.z.toFixed(2) + ')'\n        //var pos = that._atoms_pos[atom.index]\n        var Q = that._Q\n        var pos_x = Q[0][0] * atom.x + Q[0][1] * atom.y + Q[0][2] * atom.z \n        var pos_y = Q[1][0] * atom.x + Q[1][1] * atom.y + Q[1][2] * atom.z\n        var pos_z = Q[2][0] * atom.x + Q[2][1] * atom.y + Q[2][2] * atom.z\n        tooltip.innerText = 'i=' + atom.index + ' ' + atom.element + ' (' + pos_x.toFixed(2) +  ', ' + pos_y.toFixed(2) +  ', ' + pos_z.toFixed(2) + ')'\n        tooltip.style.bottom = window.innerHeight - mp.y + 3 + 'px'\n        tooltip.style.left = mp.x + 3 + 'px'\n        tooltip.style.display = 'block'\n      } else {\n        tooltip.style.display = 'none'\n      }\n    });\n    this.stage.tooltip = tooltip;\n    "
         ],
         "kwargs": {},
         "methodName": "executeCode",
         "reconstruc_color_scheme": false,
         "target": "Widget",
         "type": "call_method"
        },
        {
         "args": [
          "ball+stick"
         ],
         "component_index": 0,
         "kwargs": {
          "sele": "all"
         },
         "methodName": "addRepresentation",
         "reconstruc_color_scheme": false,
         "target": "compList",
         "type": "call_method"
        }
       ],
       "_ngl_original_stage_parameters": {
        "ambientColor": 14540253,
        "ambientIntensity": 0.2,
        "backgroundColor": "white",
        "cameraEyeSep": 0.3,
        "cameraFov": 40,
        "cameraType": "perspective",
        "clipDist": 10,
        "clipFar": 100,
        "clipNear": 0,
        "fogFar": 100,
        "fogNear": 50,
        "hoverTimeout": 0,
        "impostor": true,
        "lightColor": 14540253,
        "lightIntensity": 1,
        "mousePreset": "default",
        "panSpeed": 1,
        "quality": "medium",
        "rotateSpeed": 2,
        "sampleLevel": 0,
        "tooltip": true,
        "workerDefault": true,
        "zoomSpeed": 1.2
       },
       "_ngl_repr_dict": {
        "0": {
         "0": {
          "params": {
           "clipCenter": {
            "x": 0,
            "y": 0,
            "z": 0
           },
           "clipNear": 0,
           "clipRadius": 0,
           "colorMode": "hcl",
           "colorReverse": false,
           "colorScale": "",
           "colorScheme": "element",
           "colorValue": "orange",
           "defaultAssembly": "",
           "depthWrite": true,
           "diffuse": 16777215,
           "diffuseInterior": false,
           "disableImpostor": false,
           "disablePicking": false,
           "flatShaded": false,
           "interiorColor": 2236962,
           "interiorDarkening": 0,
           "lazy": false,
           "matrix": {
            "elements": [
             1,
             0,
             0,
             0,
             0,
             1,
             0,
             0,
             0,
             0,
             1,
             0,
             0,
             0,
             0,
             1
            ]
           },
           "metalness": 0,
           "opacity": 1,
           "quality": "medium",
           "radialSegments": 10,
           "radiusData": {},
           "radiusScale": 1,
           "radiusSize": 0.5,
           "radiusType": "vdw",
           "roughness": 0.4,
           "sele": "all",
           "side": "double",
           "sphereDetail": 1,
           "useInteriorColor": true,
           "visible": true,
           "wireframe": false
          },
          "type": "unitcell"
         },
         "1": {
          "params": {
           "assembly": "default",
           "clipCenter": {
            "x": 0,
            "y": 0,
            "z": 0
           },
           "clipNear": 0,
           "clipRadius": 0,
           "colorMode": "hcl",
           "colorReverse": false,
           "colorScale": "rainbow",
           "colorScheme": "element",
           "colorValue": 9474192,
           "defaultAssembly": "",
           "depthWrite": true,
           "diffuse": 16777215,
           "diffuseInterior": false,
           "disableImpostor": false,
           "disablePicking": false,
           "flatShaded": false,
           "interiorColor": 2236962,
           "interiorDarkening": 0,
           "lazy": false,
           "matrix": {
            "elements": [
             1,
             0,
             0,
             0,
             0,
             1,
             0,
             0,
             0,
             0,
             1,
             0,
             0,
             0,
             0,
             1
            ]
           },
           "metalness": 0,
           "opacity": 1,
           "quality": "medium",
           "radiusData": {},
           "radiusScale": 0.5,
           "radiusSize": 1,
           "radiusType": "covalent",
           "roughness": 0.4,
           "sele": "all",
           "side": "double",
           "sphereDetail": 1,
           "useInteriorColor": true,
           "visible": true,
           "wireframe": false
          },
          "type": "spacefill"
         },
         "2": {
          "params": {
           "aspectRatio": 2,
           "assembly": "default",
           "bondScale": 0.4,
           "bondSpacing": 1,
           "clipCenter": {
            "x": 0,
            "y": 0,
            "z": 0
           },
           "clipNear": 0,
           "clipRadius": 0,
           "colorMode": "hcl",
           "colorReverse": false,
           "colorScale": "",
           "colorScheme": "element",
           "colorValue": 9474192,
           "cylinderOnly": false,
           "defaultAssembly": "",
           "depthWrite": true,
           "diffuse": 16777215,
           "diffuseInterior": false,
           "disableImpostor": false,
           "disablePicking": false,
           "flatShaded": false,
           "interiorColor": 2236962,
           "interiorDarkening": 0,
           "lazy": false,
           "lineOnly": false,
           "linewidth": 2,
           "matrix": {
            "elements": [
             1,
             0,
             0,
             0,
             0,
             1,
             0,
             0,
             0,
             0,
             1,
             0,
             0,
             0,
             0,
             1
            ]
           },
           "metalness": 0,
           "multipleBond": "off",
           "opacity": 1,
           "openEnded": true,
           "quality": "medium",
           "radialSegments": 10,
           "radiusData": {},
           "radiusScale": 1,
           "radiusSize": 0.15,
           "radiusType": "size",
           "roughness": 0.4,
           "sele": "all",
           "side": "double",
           "sphereDetail": 1,
           "useInteriorColor": true,
           "visible": true,
           "wireframe": false
          },
          "type": "ball+stick"
         }
        }
       },
       "_ngl_serialize": false,
       "_ngl_version": "2.0.0-dev.36",
       "_ngl_view_id": [
        "014C41E5-84A8-4186-820A-207193A77100"
       ],
       "_player_dict": {},
       "_scene_position": {},
       "_scene_rotation": {},
       "_synced_model_ids": [],
       "_synced_repr_model_ids": [],
       "_view_height": "",
       "_view_width": "",
       "background": "white",
       "frame": 0,
       "gui_style": null,
       "layout": "IPY_MODEL_0fd977b9b15a4ed9acb8aa641736981b",
       "max_frame": 2,
       "n_components": 1,
       "picked": {}
      }
     },
     "be8ec85709f44ff88618f1e173dd6c0a": {
      "model_module": "@jupyter-widgets/base",
      "model_module_version": "1.2.0",
      "model_name": "LayoutModel",
      "state": {}
     },
     "bf455a346ee74847806dff009d4def5c": {
      "model_module": "@jupyter-widgets/base",
      "model_module_version": "1.2.0",
      "model_name": "LayoutModel",
      "state": {}
     },
     "bf82f7cd694542fa931a71bc31e0bd93": {
      "model_module": "@jupyter-widgets/base",
      "model_module_version": "1.2.0",
      "model_name": "LayoutModel",
      "state": {}
     },
     "bfb4b2d9e1a54d7da35f894a20582536": {
      "model_module": "@jupyter-widgets/controls",
      "model_module_version": "1.5.0",
      "model_name": "DescriptionStyleModel",
      "state": {
       "description_width": ""
      }
     },
     "c0794f1d0c674a75a1c0ab2eb45987ce": {
      "model_module": "@jupyter-widgets/base",
      "model_module_version": "1.2.0",
      "model_name": "LayoutModel",
      "state": {}
     },
     "c1c5bff9f5a5439f8d049693ab7a2c6b": {
      "model_module": "@jupyter-widgets/base",
      "model_module_version": "1.2.0",
      "model_name": "LayoutModel",
      "state": {}
     },
     "c1e0faed0bbb4d8c9c120c720f5d3469": {
      "model_module": "@jupyter-widgets/controls",
      "model_module_version": "1.5.0",
      "model_name": "HTMLModel",
      "state": {
       "layout": "IPY_MODEL_3511e39e709a40a7a94db3d1ee81c815",
       "style": "IPY_MODEL_53ac7ce349f347a7aebc79cdec4cfc12",
       "value": "100%"
      }
     },
     "c20120a0216c41418eb136ee1098d57a": {
      "model_module": "@jupyter-widgets/controls",
      "model_module_version": "1.5.0",
      "model_name": "SliderStyleModel",
      "state": {
       "description_width": ""
      }
     },
     "c4264158526440b9ad6577d2c9357551": {
      "model_module": "@jupyter-widgets/controls",
      "model_module_version": "1.5.0",
      "model_name": "DescriptionStyleModel",
      "state": {
       "description_width": ""
      }
     },
     "c438eaeaec964dcfbf8d7144971e1cc6": {
      "model_module": "@jupyter-widgets/base",
      "model_module_version": "1.2.0",
      "model_name": "LayoutModel",
      "state": {}
     },
     "c5cdbb5e7ae74f2bbd157bc7457eb603": {
      "model_module": "@jupyter-widgets/base",
      "model_module_version": "1.2.0",
      "model_name": "LayoutModel",
      "state": {}
     },
     "c60847f3d0904fd9908b88d4e0301358": {
      "model_module": "@jupyter-widgets/controls",
      "model_module_version": "1.5.0",
      "model_name": "CheckboxModel",
      "state": {
       "description": "Show charge",
       "disabled": false,
       "layout": "IPY_MODEL_da9d8e15f8754fccaf475a32680859e7",
       "style": "IPY_MODEL_7294be96b66749dfa5d830aee40d45cc",
       "value": false
      }
     },
     "c6322c68ae364570b35c2e983260b87c": {
      "model_module": "@jupyter-widgets/controls",
      "model_module_version": "1.5.0",
      "model_name": "LinkModel",
      "state": {
       "source": [
        "IPY_MODEL_41bf19d43ce544369e27ba31ec03e4f8",
        "max"
       ],
       "target": [
        "IPY_MODEL_428f437c182d428e9dbccd87479ba234",
        "max_frame"
       ]
      }
     },
     "c64d3122bee8402387eacea2f5d794ab": {
      "model_module": "@jupyter-widgets/base",
      "model_module_version": "1.2.0",
      "model_name": "LayoutModel",
      "state": {}
     },
     "c6c876a395e2442ebb2963dd985d3978": {
      "model_module": "@jupyter-widgets/controls",
      "model_module_version": "1.5.0",
      "model_name": "ButtonModel",
      "state": {
       "description": "Download image",
       "layout": "IPY_MODEL_460a650db9394f2ab0512b1882cf1db6",
       "style": "IPY_MODEL_e7183a9c69cf43e087edee55a28fc827",
       "tooltip": "Download current frame to your local PC"
      }
     },
     "ca2faa41edb64866873664d551b37fc2": {
      "model_module": "@jupyter-widgets/controls",
      "model_module_version": "1.5.0",
      "model_name": "FloatSliderModel",
      "state": {
       "description": "Charge scale",
       "layout": "IPY_MODEL_ac7b34e9ee684f5b965c66312a245161",
       "step": 0.1,
       "style": "IPY_MODEL_b464c1b820a0497788cc2e6b7f1a86b6",
       "value": 1
      }
     },
     "cb1b40f0dfa24d19a4ad7c1c9abe709b": {
      "model_module": "@jupyter-widgets/controls",
      "model_module_version": "1.5.0",
      "model_name": "FloatSliderModel",
      "state": {
       "description": "Charge scale",
       "layout": "IPY_MODEL_b740e9dbdd81411fadc9c4e8d464a74f",
       "step": 0.1,
       "style": "IPY_MODEL_46ae4f98e8b34dde8dd394e6e376fdf2",
       "value": 1
      }
     },
     "cbd6beff2bf346169ac63368d863a99e": {
      "model_module": "@jupyter-widgets/controls",
      "model_module_version": "1.5.0",
      "model_name": "ImageModel",
      "state": {
       "layout": "IPY_MODEL_ffc03f52ad2e456398c2eba32285fdd4",
       "width": "900.0"
      }
     },
     "cc81d1c8324a46108f9f8af90ec72240": {
      "model_module": "@jupyter-widgets/controls",
      "model_module_version": "1.5.0",
      "model_name": "CheckboxModel",
      "state": {
       "description": "Show force",
       "disabled": false,
       "layout": "IPY_MODEL_efe1a8e13ddb4d8496e7f4fb67a1bd0d",
       "style": "IPY_MODEL_b61bf4d5ee5346d38894432333cfded1",
       "value": false
      }
     },
     "ccf97f9dc9b544bdbfb43537ddfd0eca": {
      "model_module": "@jupyter-widgets/controls",
      "model_module_version": "1.5.0",
      "model_name": "DescriptionStyleModel",
      "state": {
       "description_width": ""
      }
     },
     "cd04559d83684fb783705a1ff182b089": {
      "model_module": "@jupyter-widgets/base",
      "model_module_version": "1.2.0",
      "model_name": "LayoutModel",
      "state": {}
     },
     "cdf46da99f1b48569f6f94d082d8639e": {
      "model_module": "@jupyter-widgets/controls",
      "model_module_version": "1.5.0",
      "model_name": "ButtonModel",
      "state": {
       "description": "Save image",
       "layout": "IPY_MODEL_d98efc0e49514c678a8e5c727a36880e",
       "style": "IPY_MODEL_fa092e516e0b453c95da11d6a454012c",
       "tooltip": "Save current frame to file.\nCurrently .png and .html are supported.\nIt takes a bit time, please be patient."
      }
     },
     "cf014ecaa488405a83772728dd4284c8": {
      "model_module": "@jupyter-widgets/base",
      "model_module_version": "1.2.0",
      "model_name": "LayoutModel",
      "state": {}
     },
     "cf5b6d3e1abf4cecbafa300b0f256429": {
      "model_module": "@jupyter-widgets/controls",
      "model_module_version": "1.5.0",
      "model_name": "SliderStyleModel",
      "state": {
       "description_width": ""
      }
     },
     "cfa43881515e4221b49558da8715afae": {
      "model_module": "@jupyter-widgets/base",
      "model_module_version": "1.2.0",
      "model_name": "LayoutModel",
      "state": {}
     },
     "cfddcedc353140c1908ffbccf0344f36": {
      "model_module": "@jupyter-widgets/controls",
      "model_module_version": "1.5.0",
      "model_name": "SliderStyleModel",
      "state": {
       "description_width": ""
      }
     },
     "d02763e861744d36b28b3c8f2040ebd7": {
      "model_module": "@jupyter-widgets/controls",
      "model_module_version": "1.5.0",
      "model_name": "HBoxModel",
      "state": {
       "children": [
        "IPY_MODEL_17ab0131462f4de894311dc6d4e6be91",
        "IPY_MODEL_4d1b5faea2184e52ad1da938009a6632"
       ],
       "layout": "IPY_MODEL_aa004568d77f44d086f6758f11e699fb"
      }
     },
     "d15c2f9eedc84815876d8a4369648394": {
      "model_module": "@jupyter-widgets/controls",
      "model_module_version": "1.5.0",
      "model_name": "FloatSliderModel",
      "state": {
       "description": "Force scale",
       "layout": "IPY_MODEL_7cb65791d10a4d55bbe9d49ea48f0277",
       "step": 0.1,
       "style": "IPY_MODEL_f35dd0e7bbbe4832a1dd328a33c30510",
       "value": 0.5
      }
     },
     "d282be3e33784378977e1f55cae48c36": {
      "model_module": "@jupyter-widgets/controls",
      "model_module_version": "1.5.0",
      "model_name": "FloatSliderModel",
      "state": {
       "description": "Ball size",
       "layout": "IPY_MODEL_2d65783310f24845866ebeb20b731ea1",
       "max": 1.5,
       "step": 0.01,
       "style": "IPY_MODEL_f66c73b69c984f74907cd8b500e89979",
       "value": 0.5
      }
     },
     "d29fd45068924e68aa0a1ea6a4d6c339": {
      "model_module": "@jupyter-widgets/controls",
      "model_module_version": "1.5.0",
      "model_name": "SliderStyleModel",
      "state": {
       "description_width": ""
      }
     },
     "d5354f6ef58d4bba87b93a50b368c324": {
      "model_module": "@jupyter-widgets/controls",
      "model_module_version": "1.5.0",
      "model_name": "ImageModel",
      "state": {
       "layout": "IPY_MODEL_ab942135536348ebb25cc5bf8a85bb85",
       "width": "900.0"
      }
     },
     "d5797e6aa9524e4c8ac2304d5ea6746c": {
      "model_module": "@jupyter-widgets/controls",
      "model_module_version": "1.5.0",
      "model_name": "FloatSliderModel",
      "state": {
       "description": "Ball size",
       "layout": "IPY_MODEL_12600bc2aa4c4fb3bbb77556127969b7",
       "max": 1.5,
       "step": 0.01,
       "style": "IPY_MODEL_d29fd45068924e68aa0a1ea6a4d6c339",
       "value": 0.5
      }
     },
     "d5bdf00d0ac04e8caef606d42a425855": {
      "model_module": "@jupyter-widgets/controls",
      "model_module_version": "1.5.0",
      "model_name": "DescriptionStyleModel",
      "state": {
       "description_width": ""
      }
     },
     "d60176ee61864a89aa36ad7e407c7601": {
      "model_module": "@jupyter-widgets/controls",
      "model_module_version": "1.5.0",
      "model_name": "DescriptionStyleModel",
      "state": {
       "description_width": ""
      }
     },
     "d616bf7643f744e28d6c4ff4cc417bef": {
      "model_module": "@jupyter-widgets/output",
      "model_module_version": "1.0.0",
      "model_name": "OutputModel",
      "state": {
       "layout": "IPY_MODEL_6ddb101fb5d24203a8ba96a3bc196977"
      }
     },
     "d69eb96630c949449b529f8bc041bee2": {
      "model_module": "@jupyter-widgets/base",
      "model_module_version": "1.2.0",
      "model_name": "LayoutModel",
      "state": {}
     },
     "d725e091237f4ee98aabaef03eddfb7d": {
      "model_module": "@jupyter-widgets/controls",
      "model_module_version": "1.5.0",
      "model_name": "ProgressStyleModel",
      "state": {
       "description_width": ""
      }
     },
     "d733fdc272f64941923fd212e6d05de8": {
      "model_module": "@jupyter-widgets/base",
      "model_module_version": "1.2.0",
      "model_name": "LayoutModel",
      "state": {}
     },
     "d75bf56c963048e1a83185fd87733afc": {
      "model_module": "@jupyter-widgets/base",
      "model_module_version": "1.2.0",
      "model_name": "LayoutModel",
      "state": {}
     },
     "d784402b82de40fba825a61a6d5bec77": {
      "model_module": "@jupyter-widgets/base",
      "model_module_version": "1.2.0",
      "model_name": "LayoutModel",
      "state": {}
     },
     "d87d76c40aac4d51a5769723ff15b83f": {
      "model_module": "@jupyter-widgets/controls",
      "model_module_version": "1.5.0",
      "model_name": "LinkModel",
      "state": {
       "source": [
        "IPY_MODEL_1399403d4e754ac69f98b33f2258493f",
        "max"
       ],
       "target": [
        "IPY_MODEL_1955d58d866944eb973ac952e83ddfe1",
        "max_frame"
       ]
      }
     },
     "d87ed4eceed546a9b0fd8b21c0129f40": {
      "model_module": "@jupyter-widgets/controls",
      "model_module_version": "1.5.0",
      "model_name": "DescriptionStyleModel",
      "state": {
       "description_width": ""
      }
     },
     "d98efc0e49514c678a8e5c727a36880e": {
      "model_module": "@jupyter-widgets/base",
      "model_module_version": "1.2.0",
      "model_name": "LayoutModel",
      "state": {}
     },
     "da4a0d0ef6e447c19604a4580b031c6b": {
      "model_module": "@jupyter-widgets/base",
      "model_module_version": "1.2.0",
      "model_name": "LayoutModel",
      "state": {}
     },
     "da7b967921e14809b28d1ed5f3e07df4": {
      "model_module": "@jupyter-widgets/base",
      "model_module_version": "1.2.0",
      "model_name": "LayoutModel",
      "state": {
       "border": "0px solid black"
      }
     },
     "da7bad432baf4928adaff12b3cbe45e7": {
      "model_module": "@jupyter-widgets/base",
      "model_module_version": "1.2.0",
      "model_name": "LayoutModel",
      "state": {}
     },
     "da9d8e15f8754fccaf475a32680859e7": {
      "model_module": "@jupyter-widgets/base",
      "model_module_version": "1.2.0",
      "model_name": "LayoutModel",
      "state": {}
     },
     "db20830d7b6443ebab306dc045762283": {
      "model_module": "@jupyter-widgets/base",
      "model_module_version": "1.2.0",
      "model_name": "LayoutModel",
      "state": {}
     },
     "db2f7dac0f944a228fb79a01340a563a": {
      "model_module": "@jupyter-widgets/base",
      "model_module_version": "1.2.0",
      "model_name": "LayoutModel",
      "state": {}
     },
     "db860a7e306d447db916185cb1d3a152": {
      "model_module": "@jupyter-widgets/base",
      "model_module_version": "1.2.0",
      "model_name": "LayoutModel",
      "state": {
       "border": "0px solid black"
      }
     },
     "dbc9cadef5ac4b2ab19528ab5f201b62": {
      "model_module": "@jupyter-widgets/controls",
      "model_module_version": "1.5.0",
      "model_name": "HBoxModel",
      "state": {
       "children": [
        "IPY_MODEL_1955d58d866944eb973ac952e83ddfe1",
        "IPY_MODEL_8eaf406e6f854348b7cda2e18750c918"
       ],
       "layout": "IPY_MODEL_2aacf5aefee543059b5913d3523eae66"
      }
     },
     "dbf7c7712e114d41a4de84c875e42ec4": {
      "model_module": "@jupyter-widgets/controls",
      "model_module_version": "1.5.0",
      "model_name": "FloatSliderModel",
      "state": {
       "description": "Charge scale",
       "layout": "IPY_MODEL_a228e3fb88284d4b9d5da00be2045e4e",
       "step": 0.1,
       "style": "IPY_MODEL_a10130eb8a314e7db1f9cd1f3c104702",
       "value": 1
      }
     },
     "dc2c1a51cd734fb991562331598777af": {
      "model_module": "@jupyter-widgets/controls",
      "model_module_version": "1.5.0",
      "model_name": "FloatSliderModel",
      "state": {
       "description": "Ball size",
       "layout": "IPY_MODEL_1f5fec6321fe472aa73b6cafb46ac56c",
       "max": 1.5,
       "step": 0.01,
       "style": "IPY_MODEL_a65f605322b74ea586344e8b90c04983",
       "value": 0.5
      }
     },
     "dc5a4c11047342f1ba1409eb8503a7ff": {
      "model_module": "@jupyter-widgets/controls",
      "model_module_version": "1.5.0",
      "model_name": "PlayModel",
      "state": {
       "layout": "IPY_MODEL_c64d3122bee8402387eacea2f5d794ab",
       "max": 2,
       "style": "IPY_MODEL_560ee1233f7943718c892b641400e19d"
      }
     },
     "dd3512f6b2e74c6db510fb1699353c5b": {
      "model_module": "@jupyter-widgets/controls",
      "model_module_version": "1.5.0",
      "model_name": "SliderStyleModel",
      "state": {
       "description_width": ""
      }
     },
     "e036a220db7a44cd97583e73854e2359": {
      "model_module": "@jupyter-widgets/controls",
      "model_module_version": "1.5.0",
      "model_name": "SliderStyleModel",
      "state": {
       "description_width": ""
      }
     },
     "e0b986f08f78438db3d1a49b1a7c17bc": {
      "model_module": "@jupyter-widgets/base",
      "model_module_version": "1.2.0",
      "model_name": "LayoutModel",
      "state": {}
     },
     "e146085efecf4710b31f5583efba8830": {
      "model_module": "@jupyter-widgets/controls",
      "model_module_version": "1.5.0",
      "model_name": "SliderStyleModel",
      "state": {
       "description_width": ""
      }
     },
     "e15fa14e0ac24eecbcce9b6311948507": {
      "model_module": "@jupyter-widgets/base",
      "model_module_version": "1.2.0",
      "model_name": "LayoutModel",
      "state": {}
     },
     "e19fac471eba40ada68a20e50baa7a81": {
      "model_module": "@jupyter-widgets/controls",
      "model_module_version": "1.5.0",
      "model_name": "ButtonStyleModel",
      "state": {}
     },
     "e2de392177f944438a80890de993647a": {
      "model_module": "nglview-js-widgets",
      "model_module_version": "3.0.1",
      "model_name": "NGLModel",
      "state": {
       "_camera_orientation": [
        23.83213440668923,
        -5.9947487473066206,
        -4.992858371713865,
        0,
        -6.304298212423214,
        -5.34401146359238,
        -23.67559171737156,
        0,
        4.595810191050777,
        23.75585836326475,
        -6.585893998097388,
        0,
        -2.810999870300293,
        -4.839000225067139,
        -24.774999618530273,
        1
       ],
       "_camera_str": "orthographic",
       "_gui_theme": null,
       "_ibtn_fullscreen": "IPY_MODEL_f16a2f7fae9e48199feb06a59348efa4",
       "_igui": null,
       "_iplayer": "IPY_MODEL_40ecdc4ac29f4a88bf35ec9e5a321654",
       "_ngl_color_dict": {},
       "_ngl_coordinate_resource": {},
       "_ngl_full_stage_parameters": {
        "ambientColor": 14540253,
        "ambientIntensity": 0.2,
        "backgroundColor": "white",
        "cameraEyeSep": 0.3,
        "cameraFov": 40,
        "cameraType": "orthographic",
        "clipDist": 0,
        "clipFar": 100,
        "clipNear": 0,
        "fogFar": 100,
        "fogNear": 50,
        "hoverTimeout": 0,
        "impostor": true,
        "lightColor": 14540253,
        "lightIntensity": 1,
        "mousePreset": "default",
        "panSpeed": 1,
        "quality": "medium",
        "rotateSpeed": 2,
        "sampleLevel": 0,
        "tooltip": true,
        "workerDefault": true,
        "zoomSpeed": 1.2
       },
       "_ngl_msg_archive": [
        {
         "args": [
          {
           "binary": false,
           "data": "CRYST1   11.220   11.220   46.871  90.00  90.00 120.00 P 1\nMODEL     1\nATOM      1   Pt MOL     1       0.000   0.000  20.000  1.00  0.00          PT  \nATOM      2   Pt MOL     1       1.403   0.810  22.290  1.00  0.00          PT  \nATOM      3   Pt MOL     1       0.158   1.696  24.534  1.00  0.00          PT  \nATOM      4   Pt MOL     1       1.457   2.383  26.824  1.00  0.00          PT  \nATOM      5   Pt MOL     1      -1.403   2.429  20.000  1.00  0.00          PT  \nATOM      6   Pt MOL     1       0.000   3.239  22.290  1.00  0.00          PT  \nATOM      7   Pt MOL     1      -1.493   3.908  24.727  1.00  0.00          PT  \nATOM      8   Pt MOL     1      -0.023   4.865  26.729  1.00  0.00          PT  \nATOM      9   Pt MOL     1      -2.805   4.859  20.000  1.00  0.00          PT  \nATOM     10   Pt MOL     1      -1.403   5.668  22.290  1.00  0.00          PT  \nATOM     11   Pt MOL     1      -2.865   6.663  24.579  1.00  0.00          PT  \nATOM     12   Pt MOL     1      -1.508   7.370  26.749  1.00  0.00          PT  \nATOM     13   Pt MOL     1      -4.208   7.288  20.000  1.00  0.00          PT  \nATOM     14   Pt MOL     1      -2.805   8.098  22.290  1.00  0.00          PT  \nATOM     15   Pt MOL     1      -4.219   8.877  24.433  1.00  0.00          PT  \nATOM     16   Pt MOL     1      -2.877   9.671  26.977  1.00  0.00          PT  \nATOM     17   Pt MOL     1       2.805   0.000  20.000  1.00  0.00          PT  \nATOM     18   Pt MOL     1       4.208   0.810  22.290  1.00  0.00          PT  \nATOM     19   Pt MOL     1       2.908   1.713  24.497  1.00  0.00          PT  \nATOM     20   Pt MOL     1       4.177   2.462  26.969  1.00  0.00          PT  \nATOM     21   Pt MOL     1       1.403   2.429  20.000  1.00  0.00          PT  \nATOM     22   Pt MOL     1       2.805   3.239  22.290  1.00  0.00          PT  \nATOM     23   Pt MOL     1       1.395   4.149  24.617  1.00  0.00          PT  \nATOM     24   Pt MOL     1       2.741   4.895  27.025  1.00  0.00          PT  \nATOM     25   Pt MOL     1       0.000   4.859  20.000  1.00  0.00          PT  \nATOM     26   Pt MOL     1       1.403   5.668  22.290  1.00  0.00          PT  \nATOM     27   Pt MOL     1       0.009   6.279  24.559  1.00  0.00          PT  \nATOM     28   Pt MOL     1       1.438   7.436  26.819  1.00  0.00          PT  \nATOM     29   Pt MOL     1      -1.403   7.288  20.000  1.00  0.00          PT  \nATOM     30   Pt MOL     1       0.000   8.098  22.290  1.00  0.00          PT  \nATOM     31   Pt MOL     1      -1.393   9.004  24.510  1.00  0.00          PT  \nATOM     32   Pt MOL     1      -0.033   9.678  26.725  1.00  0.00          PT  \nATOM     33   Pt MOL     1       5.610   0.000  20.000  1.00  0.00          PT  \nATOM     34   Pt MOL     1       7.013   0.810  22.290  1.00  0.00          PT  \nATOM     35   Pt MOL     1       5.576   1.539  24.565  1.00  0.00          PT  \nATOM     36   Pt MOL     1       7.053   2.618  26.888  1.00  0.00          PT  \nATOM     37   Pt MOL     1       4.208   2.429  20.000  1.00  0.00          PT  \nATOM     38   Pt MOL     1       5.610   3.239  22.290  1.00  0.00          PT  \nATOM     39   Pt MOL     1       4.188   4.079  24.577  1.00  0.00          PT  \nATOM     40   Pt MOL     1       5.493   4.973  26.946  1.00  0.00          PT  \nATOM     41   Pt MOL     1       2.805   4.859  20.000  1.00  0.00          PT  \nATOM     42   Pt MOL     1       4.208   5.668  22.290  1.00  0.00          PT  \nATOM     43   Pt MOL     1       2.706   6.421  24.591  1.00  0.00          PT  \nATOM     44   Pt MOL     1       4.157   7.133  26.878  1.00  0.00          PT  \nATOM     45   Pt MOL     1       1.403   7.288  20.000  1.00  0.00          PT  \nATOM     46   Pt MOL     1       2.805   8.098  22.290  1.00  0.00          PT  \nATOM     47   Pt MOL     1       1.484   8.784  24.603  1.00  0.00          PT  \nATOM     48   Pt MOL     1       2.936   9.556  26.889  1.00  0.00          PT  \nATOM     49   Pt MOL     1       8.415   0.000  20.000  1.00  0.00          PT  \nATOM     50   Pt MOL     1       9.818   0.810  22.290  1.00  0.00          PT  \nATOM     51   Pt MOL     1       8.440   1.654  24.513  1.00  0.00          PT  \nATOM     52   Pt MOL     1       9.841   2.459  26.800  1.00  0.00          PT  \nATOM     53   Pt MOL     1       7.013   2.429  20.000  1.00  0.00          PT  \nATOM     54   Pt MOL     1       8.415   3.239  22.290  1.00  0.00          PT  \nATOM     55   Pt MOL     1       7.129   3.967  24.677  1.00  0.00          PT  \nATOM     56   Pt MOL     1       8.457   4.941  27.061  1.00  0.00          PT  \nATOM     57   Pt MOL     1       5.610   4.859  20.000  1.00  0.00          PT  \nATOM     58   Pt MOL     1       7.013   5.668  22.290  1.00  0.00          PT  \nATOM     59   Pt MOL     1       5.638   6.561  24.582  1.00  0.00          PT  \nATOM     60   Pt MOL     1       7.158   7.261  27.143  1.00  0.00          PT  \nATOM     61   Pt MOL     1       4.208   7.288  20.000  1.00  0.00          PT  \nATOM     62   Pt MOL     1       5.610   8.098  22.290  1.00  0.00          PT  \nATOM     63   Pt MOL     1       4.255   8.900  24.496  1.00  0.00          PT  \nATOM     64   Pt MOL     1       5.459   9.672  26.957  1.00  0.00          PT  \nATOM     65    C MOL     1       2.805   4.859  29.143  1.00  0.00           C  \nATOM     66    C MOL     1       1.489   4.754  28.999  1.00  0.00           C  \nATOM     67    H MOL     1       3.243   5.764  29.550  1.00  0.00           H  \nATOM     68    H MOL     1       3.496   4.082  28.876  1.00  0.00           H  \nATOM     69    H MOL     1       0.827   5.560  29.281  1.00  0.00           H  \nATOM     70    H MOL     1       1.059   3.847  28.592  1.00  0.00           H  \nENDMDL\n",
           "type": "blob"
          }
         ],
         "kwargs": {
          "defaultRepresentation": false,
          "ext": "pdb"
         },
         "methodName": "loadFile",
         "reconstruc_color_scheme": false,
         "target": "Stage",
         "type": "call_method"
        },
        {
         "args": [
          "500px",
          "500px"
         ],
         "kwargs": {},
         "methodName": "setSize",
         "reconstruc_color_scheme": false,
         "target": "Widget",
         "type": "call_method"
        },
        {
         "args": [
          "unitcell"
         ],
         "component_index": 0,
         "kwargs": {
          "sele": "all"
         },
         "methodName": "addRepresentation",
         "reconstruc_color_scheme": false,
         "target": "compList",
         "type": "call_method"
        },
        {
         "args": [
          "spacefill"
         ],
         "component_index": 0,
         "kwargs": {
          "sele": "all"
         },
         "methodName": "addRepresentation",
         "reconstruc_color_scheme": false,
         "target": "compList",
         "type": "call_method"
        },
        {
         "args": [],
         "kwargs": {
          "cameraType": "orthographic"
         },
         "methodName": "setParameters",
         "reconstruc_color_scheme": false,
         "target": "Stage",
         "type": "call_method"
        },
        {
         "args": [
          {
           "clipDist": 0
          }
         ],
         "kwargs": {},
         "methodName": "setParameters",
         "reconstruc_color_scheme": false,
         "target": "Widget",
         "type": "call_method"
        },
        {
         "args": [
          "spacefill",
          0
         ],
         "kwargs": {
          "colorScale": "rainbow",
          "colorScheme": "element",
          "radiusScale": 0.5,
          "radiusType": "covalent"
         },
         "methodName": "updateRepresentationsByName",
         "reconstruc_color_scheme": false,
         "target": "Widget",
         "type": "call_method"
        },
        {
         "args": [
          "this._Q = [[1.0, 0.0, 0.0], [0.0, 1.0, 0.0], [0.0, 0.0, 1.0]]\n    var tooltip = document.createElement('div');\n    Object.assign(tooltip.style, {\n      display: 'none',\n      position: 'fixed',\n      zIndex: 10,\n      pointerEvents: 'none',\n      backgroundColor: 'rgba( 0, 0, 0, 0.6 )',\n      color: 'lightgrey',\n      padding: '8px',\n      fontFamily: 'sans-serif'\n    });\n    document.body.appendChild(tooltip);\n\n    var that = this;\n    this.stage.mouseControls.remove('hoverPick');\n    this.stage.signals.hovered.add(function (pickingProxy) {\n      if (pickingProxy && (pickingProxy.atom || pickingProxy.bond)) {\n        var atom = pickingProxy.atom || pickingProxy.closestBondAtom\n        var mp = pickingProxy.mouse.position\n        //tooltip.innerText = atom.element + ' i=' + atom.index + ' (' + atom.x.toFixed(2) +  ', ' + atom.y.toFixed(2) +  ', ' + atom.z.toFixed(2) + ')'\n        //var pos = that._atoms_pos[atom.index]\n        var Q = that._Q\n        var pos_x = Q[0][0] * atom.x + Q[0][1] * atom.y + Q[0][2] * atom.z \n        var pos_y = Q[1][0] * atom.x + Q[1][1] * atom.y + Q[1][2] * atom.z\n        var pos_z = Q[2][0] * atom.x + Q[2][1] * atom.y + Q[2][2] * atom.z\n        tooltip.innerText = 'i=' + atom.index + ' ' + atom.element + ' (' + pos_x.toFixed(2) +  ', ' + pos_y.toFixed(2) +  ', ' + pos_z.toFixed(2) + ')'\n        tooltip.style.bottom = window.innerHeight - mp.y + 3 + 'px'\n        tooltip.style.left = mp.x + 3 + 'px'\n        tooltip.style.display = 'block'\n      } else {\n        tooltip.style.display = 'none'\n      }\n    });\n    this.stage.tooltip = tooltip;\n    "
         ],
         "kwargs": {},
         "methodName": "executeCode",
         "reconstruc_color_scheme": false,
         "target": "Widget",
         "type": "call_method"
        },
        {
         "args": [
          "ball+stick"
         ],
         "component_index": 0,
         "kwargs": {
          "sele": "all"
         },
         "methodName": "addRepresentation",
         "reconstruc_color_scheme": false,
         "target": "compList",
         "type": "call_method"
        }
       ],
       "_ngl_original_stage_parameters": {
        "ambientColor": 14540253,
        "ambientIntensity": 0.2,
        "backgroundColor": "white",
        "cameraEyeSep": 0.3,
        "cameraFov": 40,
        "cameraType": "perspective",
        "clipDist": 10,
        "clipFar": 100,
        "clipNear": 0,
        "fogFar": 100,
        "fogNear": 50,
        "hoverTimeout": 0,
        "impostor": true,
        "lightColor": 14540253,
        "lightIntensity": 1,
        "mousePreset": "default",
        "panSpeed": 1,
        "quality": "medium",
        "rotateSpeed": 2,
        "sampleLevel": 0,
        "tooltip": true,
        "workerDefault": true,
        "zoomSpeed": 1.2
       },
       "_ngl_repr_dict": {
        "0": {
         "0": {
          "params": {
           "clipCenter": {
            "x": 0,
            "y": 0,
            "z": 0
           },
           "clipNear": 0,
           "clipRadius": 0,
           "colorMode": "hcl",
           "colorReverse": false,
           "colorScale": "",
           "colorScheme": "element",
           "colorValue": "orange",
           "defaultAssembly": "",
           "depthWrite": true,
           "diffuse": 16777215,
           "diffuseInterior": false,
           "disableImpostor": false,
           "disablePicking": false,
           "flatShaded": false,
           "interiorColor": 2236962,
           "interiorDarkening": 0,
           "lazy": false,
           "matrix": {
            "elements": [
             1,
             0,
             0,
             0,
             0,
             1,
             0,
             0,
             0,
             0,
             1,
             0,
             0,
             0,
             0,
             1
            ]
           },
           "metalness": 0,
           "opacity": 1,
           "quality": "medium",
           "radialSegments": 10,
           "radiusData": {},
           "radiusScale": 1,
           "radiusSize": 0.08612776447024593,
           "radiusType": "vdw",
           "roughness": 0.4,
           "sele": "all",
           "side": "double",
           "sphereDetail": 1,
           "useInteriorColor": true,
           "visible": true,
           "wireframe": false
          },
          "type": "unitcell"
         },
         "1": {
          "params": {
           "assembly": "default",
           "clipCenter": {
            "x": 0,
            "y": 0,
            "z": 0
           },
           "clipNear": 0,
           "clipRadius": 0,
           "colorMode": "hcl",
           "colorReverse": false,
           "colorScale": "rainbow",
           "colorScheme": "element",
           "colorValue": 9474192,
           "defaultAssembly": "",
           "depthWrite": true,
           "diffuse": 16777215,
           "diffuseInterior": false,
           "disableImpostor": false,
           "disablePicking": false,
           "flatShaded": false,
           "interiorColor": 2236962,
           "interiorDarkening": 0,
           "lazy": false,
           "matrix": {
            "elements": [
             1,
             0,
             0,
             0,
             0,
             1,
             0,
             0,
             0,
             0,
             1,
             0,
             0,
             0,
             0,
             1
            ]
           },
           "metalness": 0,
           "opacity": 1,
           "quality": "medium",
           "radiusData": {},
           "radiusScale": 0.5,
           "radiusSize": 1,
           "radiusType": "covalent",
           "roughness": 0.4,
           "sele": "all",
           "side": "double",
           "sphereDetail": 1,
           "useInteriorColor": true,
           "visible": true,
           "wireframe": false
          },
          "type": "spacefill"
         },
         "2": {
          "params": {
           "aspectRatio": 2,
           "assembly": "default",
           "bondScale": 0.4,
           "bondSpacing": 1,
           "clipCenter": {
            "x": 0,
            "y": 0,
            "z": 0
           },
           "clipNear": 0,
           "clipRadius": 0,
           "colorMode": "hcl",
           "colorReverse": false,
           "colorScale": "",
           "colorScheme": "element",
           "colorValue": 9474192,
           "cylinderOnly": false,
           "defaultAssembly": "",
           "depthWrite": true,
           "diffuse": 16777215,
           "diffuseInterior": false,
           "disableImpostor": false,
           "disablePicking": false,
           "flatShaded": false,
           "interiorColor": 2236962,
           "interiorDarkening": 0,
           "lazy": false,
           "lineOnly": false,
           "linewidth": 2,
           "matrix": {
            "elements": [
             1,
             0,
             0,
             0,
             0,
             1,
             0,
             0,
             0,
             0,
             1,
             0,
             0,
             0,
             0,
             1
            ]
           },
           "metalness": 0,
           "multipleBond": "off",
           "opacity": 1,
           "openEnded": true,
           "quality": "medium",
           "radialSegments": 10,
           "radiusData": {},
           "radiusScale": 1,
           "radiusSize": 0.15,
           "radiusType": "size",
           "roughness": 0.4,
           "sele": "all",
           "side": "double",
           "sphereDetail": 1,
           "useInteriorColor": true,
           "visible": true,
           "wireframe": false
          },
          "type": "ball+stick"
         }
        }
       },
       "_ngl_serialize": false,
       "_ngl_version": "2.0.0-dev.36",
       "_ngl_view_id": [
        "0ACA8015-EF8D-44EA-B1C2-BAC43F633F45"
       ],
       "_player_dict": {},
       "_scene_position": {},
       "_scene_rotation": {},
       "_synced_model_ids": [],
       "_synced_repr_model_ids": [],
       "_view_height": "",
       "_view_width": "",
       "background": "white",
       "frame": 0,
       "gui_style": null,
       "layout": "IPY_MODEL_2e0f3b4ce93f41d4859d2ffbc4d870e8",
       "max_frame": 0,
       "n_components": 1,
       "picked": {}
      }
     },
     "e3345c03303d4dc5b46a109bc755cd63": {
      "model_module": "@jupyter-widgets/base",
      "model_module_version": "1.2.0",
      "model_name": "LayoutModel",
      "state": {}
     },
     "e370da26b7954c2798a72f2c79e59881": {
      "model_module": "@jupyter-widgets/controls",
      "model_module_version": "1.5.0",
      "model_name": "ButtonStyleModel",
      "state": {}
     },
     "e3b690b170874548bcd22f86babeb51b": {
      "model_module": "@jupyter-widgets/controls",
      "model_module_version": "1.5.0",
      "model_name": "LinkModel",
      "state": {
       "source": [
        "IPY_MODEL_0309fb50ee7241ada4beef783240371a",
        "value"
       ],
       "target": [
        "IPY_MODEL_bde850048f46420f9423308ff9c0c3f5",
        "frame"
       ]
      }
     },
     "e65f1ff312564c45a81faf4169fd3072": {
      "model_module": "@jupyter-widgets/base",
      "model_module_version": "1.2.0",
      "model_name": "LayoutModel",
      "state": {
       "border": "0px solid black"
      }
     },
     "e6d305995d9948fdb166b9711b3a8b7d": {
      "model_module": "@jupyter-widgets/controls",
      "model_module_version": "1.5.0",
      "model_name": "HBoxModel",
      "state": {
       "children": [
        "IPY_MODEL_e2de392177f944438a80890de993647a",
        "IPY_MODEL_69f87019fa3e4eb680c1cd8bcda90ce0"
       ],
       "layout": "IPY_MODEL_a25b7fa0ba574a5d9033f7e06d8ea874"
      }
     },
     "e7183a9c69cf43e087edee55a28fc827": {
      "model_module": "@jupyter-widgets/controls",
      "model_module_version": "1.5.0",
      "model_name": "ButtonStyleModel",
      "state": {}
     },
     "ea0731d75db34ea7958319537aa5456c": {
      "model_module": "@jupyter-widgets/controls",
      "model_module_version": "1.5.0",
      "model_name": "FloatSliderModel",
      "state": {
       "description": "Ball size",
       "layout": "IPY_MODEL_cf014ecaa488405a83772728dd4284c8",
       "max": 1.5,
       "step": 0.01,
       "style": "IPY_MODEL_05b44d6f5cc3415f9e7fe11a3f7c5cff",
       "value": 0.5
      }
     },
     "eb30d5892ff44c2a9e010796245c2d82": {
      "model_module": "@jupyter-widgets/controls",
      "model_module_version": "1.5.0",
      "model_name": "HTMLModel",
      "state": {
       "layout": "IPY_MODEL_b86d66d853304e8c8b1ccfb0d629a9a0",
       "style": "IPY_MODEL_f0e9853093e5453ca4efa9db4102f3c7",
       "value": " 3/3 [00:20&lt;00:00,  7.16s/it]"
      }
     },
     "eb5f0d082e1b4a55b8f100fa0449c9e7": {
      "model_module": "@jupyter-widgets/controls",
      "model_module_version": "1.5.0",
      "model_name": "CheckboxModel",
      "state": {
       "description": "Show force",
       "disabled": false,
       "layout": "IPY_MODEL_2d919b73112a4774a6ddc491b2aa4ead",
       "style": "IPY_MODEL_f80e1c9edc434ac68d25e0f817767a7e",
       "value": false
      }
     },
     "eb8b4a75cb1142579f37949d3efe351f": {
      "model_module": "@jupyter-widgets/base",
      "model_module_version": "1.2.0",
      "model_name": "LayoutModel",
      "state": {
       "border": "0px solid black"
      }
     },
     "ebc4a06c9fc54bf39762fdf676b6b01c": {
      "model_module": "@jupyter-widgets/base",
      "model_module_version": "1.2.0",
      "model_name": "LayoutModel",
      "state": {}
     },
     "ed408c22680648ff8dbbbcd3daaabfa8": {
      "model_module": "@jupyter-widgets/controls",
      "model_module_version": "1.5.0",
      "model_name": "DropdownModel",
      "state": {
       "_options_labels": [
        "All",
        "C",
        "H",
        "Pt"
       ],
       "description": "Show",
       "index": 0,
       "layout": "IPY_MODEL_78acee52698e42d597213f041fcc9c3e",
       "style": "IPY_MODEL_a26ca4238da141f5a5da8b6af30317f5"
      }
     },
     "ee846644d5844a83be3a883c97b5ecbb": {
      "model_module": "@jupyter-widgets/controls",
      "model_module_version": "1.5.0",
      "model_name": "SliderStyleModel",
      "state": {
       "description_width": ""
      }
     },
     "ef5567e199fc41f3a3483e184ce3937a": {
      "model_module": "@jupyter-widgets/controls",
      "model_module_version": "1.5.0",
      "model_name": "CheckboxModel",
      "state": {
       "description": "Show force",
       "disabled": false,
       "layout": "IPY_MODEL_82268b50df2e42b6b155ad3efe4bd916",
       "style": "IPY_MODEL_b4466d6169f24c39b25d1222999ef8be",
       "value": false
      }
     },
     "ef8d78f45ad244f1adb5618fee9a1428": {
      "model_module": "@jupyter-widgets/controls",
      "model_module_version": "1.5.0",
      "model_name": "ButtonModel",
      "state": {
       "description": "Download image",
       "layout": "IPY_MODEL_b494709c97fd4f409a4919f9c50a3821",
       "style": "IPY_MODEL_6f32faa8e6b94e20b0ea5a909f95ef14",
       "tooltip": "Download current frame to your local PC"
      }
     },
     "efe1a8e13ddb4d8496e7f4fb67a1bd0d": {
      "model_module": "@jupyter-widgets/base",
      "model_module_version": "1.2.0",
      "model_name": "LayoutModel",
      "state": {}
     },
     "f0e9853093e5453ca4efa9db4102f3c7": {
      "model_module": "@jupyter-widgets/controls",
      "model_module_version": "1.5.0",
      "model_name": "DescriptionStyleModel",
      "state": {
       "description_width": ""
      }
     },
     "f109efcc01874457963ecf4e52d12eab": {
      "model_module": "@jupyter-widgets/base",
      "model_module_version": "1.2.0",
      "model_name": "LayoutModel",
      "state": {}
     },
     "f142b3087e364bae835bfe4d15a78c28": {
      "model_module": "@jupyter-widgets/controls",
      "model_module_version": "1.5.0",
      "model_name": "ButtonStyleModel",
      "state": {}
     },
     "f161a91949da4dd2bf9544a59025277e": {
      "model_module": "@jupyter-widgets/controls",
      "model_module_version": "1.5.0",
      "model_name": "LinkModel",
      "state": {
       "source": [
        "IPY_MODEL_dc5a4c11047342f1ba1409eb8503a7ff",
        "value"
       ],
       "target": [
        "IPY_MODEL_76c2fbcf651e41659c8b22db4de0336f",
        "value"
       ]
      }
     },
     "f169f55fbc544c50b367dcb7378ece32": {
      "model_module": "@jupyter-widgets/base",
      "model_module_version": "1.2.0",
      "model_name": "LayoutModel",
      "state": {
       "width": "34px"
      }
     },
     "f16a2f7fae9e48199feb06a59348efa4": {
      "model_module": "@jupyter-widgets/controls",
      "model_module_version": "1.5.0",
      "model_name": "ButtonModel",
      "state": {
       "icon": "compress",
       "layout": "IPY_MODEL_f169f55fbc544c50b367dcb7378ece32",
       "style": "IPY_MODEL_e19fac471eba40ada68a20e50baa7a81"
      }
     },
     "f1f473ab4fda4bfc9beea05c00f5c2b1": {
      "model_module": "@jupyter-widgets/controls",
      "model_module_version": "1.5.0",
      "model_name": "FloatSliderModel",
      "state": {
       "description": "Force scale",
       "layout": "IPY_MODEL_8bca11e784be4dbd8f7499d33df80d01",
       "step": 0.1,
       "style": "IPY_MODEL_a8496dd3743f482cbed3129eb7e4b31e",
       "value": 0.5
      }
     },
     "f25c44ebb4cb4a0fabc88d65f739485d": {
      "model_module": "@jupyter-widgets/base",
      "model_module_version": "1.2.0",
      "model_name": "LayoutModel",
      "state": {}
     },
     "f2753999de174c45ae396232f1fa500c": {
      "model_module": "@jupyter-widgets/controls",
      "model_module_version": "1.5.0",
      "model_name": "TextModel",
      "state": {
       "description": "Filename: ",
       "layout": "IPY_MODEL_70beea793789402a94aee1e6dcf4ad2f",
       "style": "IPY_MODEL_bfb4b2d9e1a54d7da35f894a20582536",
       "value": "screenshot.png"
      }
     },
     "f2787fb89692462eaf50de177011c5b3": {
      "model_module": "@jupyter-widgets/base",
      "model_module_version": "1.2.0",
      "model_name": "LayoutModel",
      "state": {}
     },
     "f2ce98e935d24fe994998dbd72d6c4a1": {
      "model_module": "@jupyter-widgets/controls",
      "model_module_version": "1.5.0",
      "model_name": "DropdownModel",
      "state": {
       "_options_labels": [
        "All",
        "C",
        "H",
        "Pt"
       ],
       "description": "Show",
       "index": 0,
       "layout": "IPY_MODEL_f9ee426980f147b089c3418f496bb07c",
       "style": "IPY_MODEL_b5c01ecc1f8943279da91e11e1ae7881"
      }
     },
     "f35dd0e7bbbe4832a1dd328a33c30510": {
      "model_module": "@jupyter-widgets/controls",
      "model_module_version": "1.5.0",
      "model_name": "SliderStyleModel",
      "state": {
       "description_width": ""
      }
     },
     "f3b6af078974426fbcb7172ad787be98": {
      "model_module": "@jupyter-widgets/controls",
      "model_module_version": "1.5.0",
      "model_name": "CheckboxModel",
      "state": {
       "description": "Show charge",
       "disabled": false,
       "layout": "IPY_MODEL_841f75ace1c44cbcb19e92260651723a",
       "style": "IPY_MODEL_c4264158526440b9ad6577d2c9357551",
       "value": false
      }
     },
     "f3db017b043541afbe121320a1ce3b07": {
      "model_module": "@jupyter-widgets/base",
      "model_module_version": "1.2.0",
      "model_name": "LayoutModel",
      "state": {}
     },
     "f4a61b1b63934426a55f4c0d60d255dc": {
      "model_module": "@jupyter-widgets/controls",
      "model_module_version": "1.5.0",
      "model_name": "DescriptionStyleModel",
      "state": {
       "description_width": ""
      }
     },
     "f637c16575fe4120842afe8cbb8a8df9": {
      "model_module": "nglview-js-widgets",
      "model_module_version": "3.0.1",
      "model_name": "NGLModel",
      "state": {
       "_camera_orientation": [
        25.051126445855473,
        0.8478174075012129,
        0.5753227155753047,
        0,
        0.8184947812392342,
        -8.090782790198551,
        -23.71661921363739,
        0,
        -0.6163253009597822,
        23.715589098209808,
        -8.111701648731417,
        0,
        -2.7884998321533203,
        -4.860499858856201,
        -24.768500328063965,
        1
       ],
       "_camera_str": "orthographic",
       "_gui_theme": null,
       "_ibtn_fullscreen": "IPY_MODEL_43657fb9a6594b1aa68f5e10a5472ac1",
       "_igui": null,
       "_iplayer": "IPY_MODEL_0b51f2d33f42488c83822d356aa71524",
       "_ngl_color_dict": {},
       "_ngl_coordinate_resource": {},
       "_ngl_full_stage_parameters": {
        "ambientColor": 14540253,
        "ambientIntensity": 0.2,
        "backgroundColor": "white",
        "cameraEyeSep": 0.3,
        "cameraFov": 40,
        "cameraType": "orthographic",
        "clipDist": 0,
        "clipFar": 100,
        "clipNear": 0,
        "fogFar": 100,
        "fogNear": 50,
        "hoverTimeout": 0,
        "impostor": true,
        "lightColor": 14540253,
        "lightIntensity": 1,
        "mousePreset": "default",
        "panSpeed": 1,
        "quality": "medium",
        "rotateSpeed": 2,
        "sampleLevel": 0,
        "tooltip": true,
        "workerDefault": true,
        "zoomSpeed": 1.2
       },
       "_ngl_msg_archive": [
        {
         "args": [
          {
           "binary": false,
           "data": "CRYST1   11.220   11.220   46.871  90.00  90.00 120.00 P 1\nMODEL     1\nATOM      1   Pt MOL     1       0.000   0.000  20.000  1.00  0.00          PT  \nATOM      2   Pt MOL     1       1.403   0.810  22.290  1.00  0.00          PT  \nATOM      3   Pt MOL     1      -0.035   1.625  24.555  1.00  0.00          PT  \nATOM      4   Pt MOL     1       1.334   2.371  26.851  1.00  0.00          PT  \nATOM      5   Pt MOL     1      -1.403   2.429  20.000  1.00  0.00          PT  \nATOM      6   Pt MOL     1       0.000   3.239  22.290  1.00  0.00          PT  \nATOM      7   Pt MOL     1      -1.430   4.041  24.555  1.00  0.00          PT  \nATOM      8   Pt MOL     1      -0.105   4.864  26.842  1.00  0.00          PT  \nATOM      9   Pt MOL     1      -2.805   4.859  20.000  1.00  0.00          PT  \nATOM     10   Pt MOL     1      -1.403   5.668  22.290  1.00  0.00          PT  \nATOM     11   Pt MOL     1      -2.836   6.473  24.568  1.00  0.00          PT  \nATOM     12   Pt MOL     1      -1.466   7.295  26.883  1.00  0.00          PT  \nATOM     13   Pt MOL     1      -4.208   7.288  20.000  1.00  0.00          PT  \nATOM     14   Pt MOL     1      -2.805   8.098  22.290  1.00  0.00          PT  \nATOM     15   Pt MOL     1      -4.241   8.909  24.571  1.00  0.00          PT  \nATOM     16   Pt MOL     1      -2.852   9.697  26.885  1.00  0.00          PT  \nATOM     17   Pt MOL     1       2.805   0.000  20.000  1.00  0.00          PT  \nATOM     18   Pt MOL     1       4.208   0.810  22.290  1.00  0.00          PT  \nATOM     19   Pt MOL     1       2.777   1.618  24.557  1.00  0.00          PT  \nATOM     20   Pt MOL     1       4.165   2.391  26.874  1.00  0.00          PT  \nATOM     21   Pt MOL     1       1.403   2.429  20.000  1.00  0.00          PT  \nATOM     22   Pt MOL     1       2.805   3.239  22.290  1.00  0.00          PT  \nATOM     23   Pt MOL     1       1.402   4.064  24.628  1.00  0.00          PT  \nATOM     24   Pt MOL     1       2.716   4.840  27.218  1.00  0.00          PT  \nATOM     25   Pt MOL     1       0.000   4.859  20.000  1.00  0.00          PT  \nATOM     26   Pt MOL     1       1.403   5.668  22.290  1.00  0.00          PT  \nATOM     27   Pt MOL     1      -0.030   6.480  24.556  1.00  0.00          PT  \nATOM     28   Pt MOL     1       1.329   7.323  26.861  1.00  0.00          PT  \nATOM     29   Pt MOL     1      -1.403   7.288  20.000  1.00  0.00          PT  \nATOM     30   Pt MOL     1       0.000   8.098  22.290  1.00  0.00          PT  \nATOM     31   Pt MOL     1      -1.427   8.911  24.568  1.00  0.00          PT  \nATOM     32   Pt MOL     1      -0.043   9.720  26.882  1.00  0.00          PT  \nATOM     33   Pt MOL     1       5.610   0.000  20.000  1.00  0.00          PT  \nATOM     34   Pt MOL     1       7.013   0.810  22.290  1.00  0.00          PT  \nATOM     35   Pt MOL     1       5.578   1.631  24.560  1.00  0.00          PT  \nATOM     36   Pt MOL     1       6.961   2.429  26.882  1.00  0.00          PT  \nATOM     37   Pt MOL     1       4.208   2.429  20.000  1.00  0.00          PT  \nATOM     38   Pt MOL     1       5.610   3.239  22.290  1.00  0.00          PT  \nATOM     39   Pt MOL     1       4.136   4.066  24.638  1.00  0.00          PT  \nATOM     40   Pt MOL     1       5.572   4.864  26.876  1.00  0.00          PT  \nATOM     41   Pt MOL     1       2.805   4.859  20.000  1.00  0.00          PT  \nATOM     42   Pt MOL     1       4.208   5.668  22.290  1.00  0.00          PT  \nATOM     43   Pt MOL     1       2.771   6.438  24.633  1.00  0.00          PT  \nATOM     44   Pt MOL     1       4.171   7.305  26.874  1.00  0.00          PT  \nATOM     45   Pt MOL     1       1.403   7.288  20.000  1.00  0.00          PT  \nATOM     46   Pt MOL     1       2.805   8.098  22.290  1.00  0.00          PT  \nATOM     47   Pt MOL     1       1.382   8.905  24.556  1.00  0.00          PT  \nATOM     48   Pt MOL     1       2.756   9.721  26.880  1.00  0.00          PT  \nATOM     49   Pt MOL     1       8.415   0.000  20.000  1.00  0.00          PT  \nATOM     50   Pt MOL     1       9.818   0.810  22.290  1.00  0.00          PT  \nATOM     51   Pt MOL     1       8.379   1.619  24.564  1.00  0.00          PT  \nATOM     52   Pt MOL     1       9.755   2.421  26.875  1.00  0.00          PT  \nATOM     53   Pt MOL     1       7.013   2.429  20.000  1.00  0.00          PT  \nATOM     54   Pt MOL     1       8.415   3.239  22.290  1.00  0.00          PT  \nATOM     55   Pt MOL     1       6.965   4.047  24.564  1.00  0.00          PT  \nATOM     56   Pt MOL     1       8.351   4.853  26.880  1.00  0.00          PT  \nATOM     57   Pt MOL     1       5.610   4.859  20.000  1.00  0.00          PT  \nATOM     58   Pt MOL     1       7.013   5.668  22.290  1.00  0.00          PT  \nATOM     59   Pt MOL     1       5.576   6.476  24.562  1.00  0.00          PT  \nATOM     60   Pt MOL     1       6.965   7.287  26.884  1.00  0.00          PT  \nATOM     61   Pt MOL     1       4.208   7.288  20.000  1.00  0.00          PT  \nATOM     62   Pt MOL     1       5.610   8.098  22.290  1.00  0.00          PT  \nATOM     63   Pt MOL     1       4.169   8.898  24.561  1.00  0.00          PT  \nATOM     64   Pt MOL     1       5.553   9.710  26.883  1.00  0.00          PT  \nATOM     65    C MOL     1       3.279   4.877  29.305  1.00  0.00           C  \nATOM     66    C MOL     1       1.869   4.764  29.232  1.00  0.00           C  \nATOM     67    H MOL     1       3.734   5.841  29.537  1.00  0.00           H  \nATOM     68    H MOL     1       3.880   3.995  29.530  1.00  0.00           H  \nATOM     69    H MOL     1       1.239   5.639  29.400  1.00  0.00           H  \nATOM     70    H MOL     1       1.389   3.797  29.388  1.00  0.00           H  \nENDMDL\n",
           "type": "blob"
          }
         ],
         "kwargs": {
          "defaultRepresentation": false,
          "ext": "pdb"
         },
         "methodName": "loadFile",
         "reconstruc_color_scheme": false,
         "target": "Stage",
         "type": "call_method"
        },
        {
         "args": [
          "500px",
          "500px"
         ],
         "kwargs": {},
         "methodName": "setSize",
         "reconstruc_color_scheme": false,
         "target": "Widget",
         "type": "call_method"
        },
        {
         "args": [
          "unitcell"
         ],
         "component_index": 0,
         "kwargs": {
          "sele": "all"
         },
         "methodName": "addRepresentation",
         "reconstruc_color_scheme": false,
         "target": "compList",
         "type": "call_method"
        },
        {
         "args": [
          "spacefill"
         ],
         "component_index": 0,
         "kwargs": {
          "sele": "all"
         },
         "methodName": "addRepresentation",
         "reconstruc_color_scheme": false,
         "target": "compList",
         "type": "call_method"
        },
        {
         "args": [],
         "kwargs": {
          "cameraType": "orthographic"
         },
         "methodName": "setParameters",
         "reconstruc_color_scheme": false,
         "target": "Stage",
         "type": "call_method"
        },
        {
         "args": [
          {
           "clipDist": 0
          }
         ],
         "kwargs": {},
         "methodName": "setParameters",
         "reconstruc_color_scheme": false,
         "target": "Widget",
         "type": "call_method"
        },
        {
         "args": [
          "spacefill",
          0
         ],
         "kwargs": {
          "colorScale": "rainbow",
          "colorScheme": "element",
          "radiusScale": 0.5,
          "radiusType": "covalent"
         },
         "methodName": "updateRepresentationsByName",
         "reconstruc_color_scheme": false,
         "target": "Widget",
         "type": "call_method"
        },
        {
         "args": [
          "this._Q = [[1.0, 0.0, 0.0], [0.0, 1.0, 0.0], [0.0, 0.0, 1.0]]\n    var tooltip = document.createElement('div');\n    Object.assign(tooltip.style, {\n      display: 'none',\n      position: 'fixed',\n      zIndex: 10,\n      pointerEvents: 'none',\n      backgroundColor: 'rgba( 0, 0, 0, 0.6 )',\n      color: 'lightgrey',\n      padding: '8px',\n      fontFamily: 'sans-serif'\n    });\n    document.body.appendChild(tooltip);\n\n    var that = this;\n    this.stage.mouseControls.remove('hoverPick');\n    this.stage.signals.hovered.add(function (pickingProxy) {\n      if (pickingProxy && (pickingProxy.atom || pickingProxy.bond)) {\n        var atom = pickingProxy.atom || pickingProxy.closestBondAtom\n        var mp = pickingProxy.mouse.position\n        //tooltip.innerText = atom.element + ' i=' + atom.index + ' (' + atom.x.toFixed(2) +  ', ' + atom.y.toFixed(2) +  ', ' + atom.z.toFixed(2) + ')'\n        //var pos = that._atoms_pos[atom.index]\n        var Q = that._Q\n        var pos_x = Q[0][0] * atom.x + Q[0][1] * atom.y + Q[0][2] * atom.z \n        var pos_y = Q[1][0] * atom.x + Q[1][1] * atom.y + Q[1][2] * atom.z\n        var pos_z = Q[2][0] * atom.x + Q[2][1] * atom.y + Q[2][2] * atom.z\n        tooltip.innerText = 'i=' + atom.index + ' ' + atom.element + ' (' + pos_x.toFixed(2) +  ', ' + pos_y.toFixed(2) +  ', ' + pos_z.toFixed(2) + ')'\n        tooltip.style.bottom = window.innerHeight - mp.y + 3 + 'px'\n        tooltip.style.left = mp.x + 3 + 'px'\n        tooltip.style.display = 'block'\n      } else {\n        tooltip.style.display = 'none'\n      }\n    });\n    this.stage.tooltip = tooltip;\n    "
         ],
         "kwargs": {},
         "methodName": "executeCode",
         "reconstruc_color_scheme": false,
         "target": "Widget",
         "type": "call_method"
        },
        {
         "args": [
          "ball+stick"
         ],
         "component_index": 0,
         "kwargs": {
          "sele": "all"
         },
         "methodName": "addRepresentation",
         "reconstruc_color_scheme": false,
         "target": "compList",
         "type": "call_method"
        }
       ],
       "_ngl_original_stage_parameters": {
        "ambientColor": 14540253,
        "ambientIntensity": 0.2,
        "backgroundColor": "white",
        "cameraEyeSep": 0.3,
        "cameraFov": 40,
        "cameraType": "perspective",
        "clipDist": 10,
        "clipFar": 100,
        "clipNear": 0,
        "fogFar": 100,
        "fogNear": 50,
        "hoverTimeout": 0,
        "impostor": true,
        "lightColor": 14540253,
        "lightIntensity": 1,
        "mousePreset": "default",
        "panSpeed": 1,
        "quality": "medium",
        "rotateSpeed": 2,
        "sampleLevel": 0,
        "tooltip": true,
        "workerDefault": true,
        "zoomSpeed": 1.2
       },
       "_ngl_repr_dict": {
        "0": {
         "0": {
          "params": {
           "clipCenter": {
            "x": 0,
            "y": 0,
            "z": 0
           },
           "clipNear": 0,
           "clipRadius": 0,
           "colorMode": "hcl",
           "colorReverse": false,
           "colorScale": "",
           "colorScheme": "element",
           "colorValue": "orange",
           "defaultAssembly": "",
           "depthWrite": true,
           "diffuse": 16777215,
           "diffuseInterior": false,
           "disableImpostor": false,
           "disablePicking": false,
           "flatShaded": false,
           "interiorColor": 2236962,
           "interiorDarkening": 0,
           "lazy": false,
           "matrix": {
            "elements": [
             1,
             0,
             0,
             0,
             0,
             1,
             0,
             0,
             0,
             0,
             1,
             0,
             0,
             0,
             0,
             1
            ]
           },
           "metalness": 0,
           "opacity": 1,
           "quality": "medium",
           "radialSegments": 10,
           "radiusData": {},
           "radiusScale": 1,
           "radiusSize": 0.08612776447024593,
           "radiusType": "vdw",
           "roughness": 0.4,
           "sele": "all",
           "side": "double",
           "sphereDetail": 1,
           "useInteriorColor": true,
           "visible": true,
           "wireframe": false
          },
          "type": "unitcell"
         },
         "1": {
          "params": {
           "assembly": "default",
           "clipCenter": {
            "x": 0,
            "y": 0,
            "z": 0
           },
           "clipNear": 0,
           "clipRadius": 0,
           "colorMode": "hcl",
           "colorReverse": false,
           "colorScale": "rainbow",
           "colorScheme": "element",
           "colorValue": 9474192,
           "defaultAssembly": "",
           "depthWrite": true,
           "diffuse": 16777215,
           "diffuseInterior": false,
           "disableImpostor": false,
           "disablePicking": false,
           "flatShaded": false,
           "interiorColor": 2236962,
           "interiorDarkening": 0,
           "lazy": false,
           "matrix": {
            "elements": [
             1,
             0,
             0,
             0,
             0,
             1,
             0,
             0,
             0,
             0,
             1,
             0,
             0,
             0,
             0,
             1
            ]
           },
           "metalness": 0,
           "opacity": 1,
           "quality": "medium",
           "radiusData": {},
           "radiusScale": 0.5,
           "radiusSize": 1,
           "radiusType": "covalent",
           "roughness": 0.4,
           "sele": "all",
           "side": "double",
           "sphereDetail": 1,
           "useInteriorColor": true,
           "visible": true,
           "wireframe": false
          },
          "type": "spacefill"
         },
         "2": {
          "params": {
           "aspectRatio": 2,
           "assembly": "default",
           "bondScale": 0.4,
           "bondSpacing": 1,
           "clipCenter": {
            "x": 0,
            "y": 0,
            "z": 0
           },
           "clipNear": 0,
           "clipRadius": 0,
           "colorMode": "hcl",
           "colorReverse": false,
           "colorScale": "",
           "colorScheme": "element",
           "colorValue": 9474192,
           "cylinderOnly": false,
           "defaultAssembly": "",
           "depthWrite": true,
           "diffuse": 16777215,
           "diffuseInterior": false,
           "disableImpostor": false,
           "disablePicking": false,
           "flatShaded": false,
           "interiorColor": 2236962,
           "interiorDarkening": 0,
           "lazy": false,
           "lineOnly": false,
           "linewidth": 2,
           "matrix": {
            "elements": [
             1,
             0,
             0,
             0,
             0,
             1,
             0,
             0,
             0,
             0,
             1,
             0,
             0,
             0,
             0,
             1
            ]
           },
           "metalness": 0,
           "multipleBond": "off",
           "opacity": 1,
           "openEnded": true,
           "quality": "medium",
           "radialSegments": 10,
           "radiusData": {},
           "radiusScale": 1,
           "radiusSize": 0.15,
           "radiusType": "size",
           "roughness": 0.4,
           "sele": "all",
           "side": "double",
           "sphereDetail": 1,
           "useInteriorColor": true,
           "visible": true,
           "wireframe": false
          },
          "type": "ball+stick"
         }
        }
       },
       "_ngl_serialize": false,
       "_ngl_version": "2.0.0-dev.36",
       "_ngl_view_id": [
        "9B787497-4D27-4539-8D89-86E64CE098FC"
       ],
       "_player_dict": {},
       "_scene_position": {},
       "_scene_rotation": {},
       "_synced_model_ids": [],
       "_synced_repr_model_ids": [],
       "_view_height": "",
       "_view_width": "",
       "background": "white",
       "frame": 0,
       "gui_style": null,
       "layout": "IPY_MODEL_ac7ffed702a44788959df289e89d65aa",
       "max_frame": 2,
       "n_components": 1,
       "picked": {}
      }
     },
     "f64ed1f8a7114cc08587f9543cc72e7b": {
      "model_module": "@jupyter-widgets/base",
      "model_module_version": "1.2.0",
      "model_name": "LayoutModel",
      "state": {}
     },
     "f66c73b69c984f74907cd8b500e89979": {
      "model_module": "@jupyter-widgets/controls",
      "model_module_version": "1.5.0",
      "model_name": "SliderStyleModel",
      "state": {
       "description_width": ""
      }
     },
     "f7507cd23b7b42d8b7a1ab23e80ec982": {
      "model_module": "@jupyter-widgets/controls",
      "model_module_version": "1.5.0",
      "model_name": "DescriptionStyleModel",
      "state": {
       "description_width": ""
      }
     },
     "f7cfad134f194e758b6a777da6321d66": {
      "model_module": "@jupyter-widgets/base",
      "model_module_version": "1.2.0",
      "model_name": "LayoutModel",
      "state": {}
     },
     "f7d9ffc5e15d4b2987969b043d0a8fbf": {
      "model_module": "@jupyter-widgets/base",
      "model_module_version": "1.2.0",
      "model_name": "LayoutModel",
      "state": {}
     },
     "f80e1c9edc434ac68d25e0f817767a7e": {
      "model_module": "@jupyter-widgets/controls",
      "model_module_version": "1.5.0",
      "model_name": "DescriptionStyleModel",
      "state": {
       "description_width": ""
      }
     },
     "f87391204af74834a37d1abf4a3c54e9": {
      "model_module": "@jupyter-widgets/base",
      "model_module_version": "1.2.0",
      "model_name": "LayoutModel",
      "state": {}
     },
     "f884fb627e514550831fa886a4cbd3d9": {
      "model_module": "@jupyter-widgets/controls",
      "model_module_version": "1.5.0",
      "model_name": "ImageModel",
      "state": {
       "layout": "IPY_MODEL_738e1a1ff9984a6dbaf0d0de37a72f46",
       "width": "900.0"
      }
     },
     "f97298e7fbd14a63946d5c80e600bc7b": {
      "model_module": "@jupyter-widgets/base",
      "model_module_version": "1.2.0",
      "model_name": "LayoutModel",
      "state": {}
     },
     "f98cc9a9fc76449e96640be65a937260": {
      "model_module": "@jupyter-widgets/controls",
      "model_module_version": "1.5.0",
      "model_name": "DescriptionStyleModel",
      "state": {
       "description_width": ""
      }
     },
     "f9b7536129e54510ae1d05dccc0347b3": {
      "model_module": "@jupyter-widgets/controls",
      "model_module_version": "1.5.0",
      "model_name": "HTMLModel",
      "state": {
       "layout": "IPY_MODEL_f87391204af74834a37d1abf4a3c54e9",
       "style": "IPY_MODEL_ccf97f9dc9b544bdbfb43537ddfd0eca",
       "value": "100%"
      }
     },
     "f9ee426980f147b089c3418f496bb07c": {
      "model_module": "@jupyter-widgets/base",
      "model_module_version": "1.2.0",
      "model_name": "LayoutModel",
      "state": {}
     },
     "fa092e516e0b453c95da11d6a454012c": {
      "model_module": "@jupyter-widgets/controls",
      "model_module_version": "1.5.0",
      "model_name": "ButtonStyleModel",
      "state": {}
     },
     "facc42bc5a374e65924610391a50d219": {
      "model_module": "@jupyter-widgets/controls",
      "model_module_version": "1.5.0",
      "model_name": "VBoxModel",
      "state": {
       "children": [
        "IPY_MODEL_fe3933102735419d957ca062fe859818",
        "IPY_MODEL_21cdf7c689ac4134bc97e1f65c4da975",
        "IPY_MODEL_3d3d3bf130514c409f649b8c096053e6",
        "IPY_MODEL_15426f8705aa434aa8cb73cb8dfe7333",
        "IPY_MODEL_f2753999de174c45ae396232f1fa500c",
        "IPY_MODEL_2c34734dfc494f0884f7478d13670984",
        "IPY_MODEL_eb5f0d082e1b4a55b8f100fa0449c9e7",
        "IPY_MODEL_fe559629aabd4ad691be5513f1f22c98",
        "IPY_MODEL_59c18a2e3d70427fb23b789691d9abdf",
        "IPY_MODEL_7705837b9104460c881c85472ca0d7e6",
        "IPY_MODEL_52918a6782744ef692e6c3fc400e6478"
       ],
       "layout": "IPY_MODEL_e0b986f08f78438db3d1a49b1a7c17bc"
      }
     },
     "fb1891b7cd2a4967b3f8c730097dfac6": {
      "model_module": "@jupyter-widgets/base",
      "model_module_version": "1.2.0",
      "model_name": "LayoutModel",
      "state": {}
     },
     "fbbafe23a78d421bb5803444e23b2bb8": {
      "model_module": "@jupyter-widgets/controls",
      "model_module_version": "1.5.0",
      "model_name": "LinkModel",
      "state": {
       "source": [
        "IPY_MODEL_1399403d4e754ac69f98b33f2258493f",
        "value"
       ],
       "target": [
        "IPY_MODEL_a56c8bc99bf74f028a771a8015557688",
        "value"
       ]
      }
     },
     "fdfdae35abc44a52bca97dd17b4e6e60": {
      "model_module": "@jupyter-widgets/base",
      "model_module_version": "1.2.0",
      "model_name": "LayoutModel",
      "state": {}
     },
     "fe02c067a2434c4cbdaabdb77cca0aa2": {
      "model_module": "@jupyter-widgets/controls",
      "model_module_version": "1.5.0",
      "model_name": "ButtonStyleModel",
      "state": {}
     },
     "fe3933102735419d957ca062fe859818": {
      "model_module": "@jupyter-widgets/controls",
      "model_module_version": "1.5.0",
      "model_name": "DropdownModel",
      "state": {
       "_options_labels": [
        "All",
        "C",
        "H"
       ],
       "description": "Show",
       "index": 0,
       "layout": "IPY_MODEL_fdfdae35abc44a52bca97dd17b4e6e60",
       "style": "IPY_MODEL_4eaedd1eaea0481996a02a8162f831e1"
      }
     },
     "fe559629aabd4ad691be5513f1f22c98": {
      "model_module": "@jupyter-widgets/controls",
      "model_module_version": "1.5.0",
      "model_name": "FloatSliderModel",
      "state": {
       "description": "Force scale",
       "layout": "IPY_MODEL_4c9ae20effe1482fa24ea260cc7f23c4",
       "step": 0.1,
       "style": "IPY_MODEL_197b1c07607346f0bc2d0e2afdb65bf8",
       "value": 0.5
      }
     },
     "ffc03f52ad2e456398c2eba32285fdd4": {
      "model_module": "@jupyter-widgets/base",
      "model_module_version": "1.2.0",
      "model_name": "LayoutModel",
      "state": {}
     }
    },
    "version_major": 2,
    "version_minor": 0
   }
  }
 },
 "nbformat": 4,
 "nbformat_minor": 5
}
