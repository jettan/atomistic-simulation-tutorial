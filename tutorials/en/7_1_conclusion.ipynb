{
 "cells": [
  {
   "cell_type": "markdown",
   "id": "6f8198d8-7709-4d81-aa38-a1d283750e06",
   "metadata": {},
   "source": [
    "# Conclusion\n",
    "\n",
    "Thank you for your study up to this point.\n",
    "We hope that this tutorial has helped you to deepen your understanding of how atomistic simulations are performed and what can be analyzed.\n",
    "We are glad if you can proceed to your practical applications.\n",
    "\n",
    "The tutorial is in progress of writing. \n",
    "The contents will continue to be expand in the future.\n",
    "We hope to cover a broader range of topics and material areas and introduce a variety of computational methods.\n",
    "\n",
    "This tutorial focuses on learning about atomistic simulations, rather than introducing Matlantis' key features and capabilities.\n",
    "The code is intentionally written in such a way that the flow of the calculation can be grasped. <br/>\n",
    "If you use Matlantis products, you can use the libraries that can be used to more easily calculate a variety of properties as described in the \"Physical property calculation library\" section of the [Matlantis product page](https://matlantis.com/product#features)\n",
    "\n",
    "## Further reading\n",
    "\n",
    "Once you understand the content of this tutorial, you will gain a better understanding of atomistic simulation methods for state-of-the-art materials exploration as you read through the following application examples.\n",
    "\n",
    " - [Matlantis cases](https://matlantis.com/cases#calculation): Examples of calculations using Matlantis are presented.\n",
    " - [matlantis-pfcc/matlantis-contrib](https://github.com/matlantis-pfcc/matlantis-contrib): The calculation code using Matlantis is available.\n",
    " - [Matlantis related papers](https://matlantis.com/cases#used): A list of papers written using Matlantis.\n"
   ]
  }
 ],
 "metadata": {
  "kernelspec": {
   "display_name": "Python 3.8",
   "language": "python",
   "name": "python38"
  },
  "language_info": {
   "codemirror_mode": {
    "name": "ipython",
    "version": 3
   },
   "file_extension": ".py",
   "mimetype": "text/x-python",
   "name": "python",
   "nbconvert_exporter": "python",
   "pygments_lexer": "ipython3",
   "version": "3.8.13"
  },
  "widgets": {
   "application/vnd.jupyter.widget-state+json": {
    "state": {},
    "version_major": 2,
    "version_minor": 0
   }
  }
 },
 "nbformat": 4,
 "nbformat_minor": 5
}
