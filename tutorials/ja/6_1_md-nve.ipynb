{
 "cells": [
  {
   "cell_type": "markdown",
   "id": "6b6458af-d532-476e-b7eb-65d36d96ae02",
   "metadata": {},
   "source": [
    "# 分子動力学シミュレーション\n",
    "\n",
    "## TL;DR\n",
    "\n",
    "- MDシミュレーションでは古典力学の運動方程式に則った計算方法で、全ての原子の位置と速度の時間発展を露わに観察できる。\n",
    "- 時間スケールの制約があり一般的に数nsから数十nsぐらいが上限。その時間内に発現しない現象は別の計算手法を検討する必要がある。\n",
    "- MDシミュレーションには再現したい状態に応じて様々な状態（アンサンブル）があり、最も単純なアンサンブルはNVEアンサンブルという。\n",
    "- NVEアンサンブルでは全エネルギー保存則が成立し、計算精度および計算時間の観点から、時間ステップサイズを適切に設定する必要がある。\n",
    "\n",
    "\n",
    "</br>\n",
    "\n",
    "この章では系の時間発展をシミュレーションする、 **分子動力学シミュレーション（Molecular dynamics, MD）** について学びます。\n",
    "\n",
    "MDシミュレーションでは個々の原子の軌道の時間発展を露わに取り扱うシミュレーションで、古典力学の運動方程式を積分することによって計算対象である原子の座標と速度を逐次計算していく手法です。この計算手法自体は原子間に働く力やエネルギーのモデルとは独立した理論で、古くから分子シミュレーションの分野で用いられてきました。従って、理論的な背景や事例等は多くの書籍や文献が多く存在するのでそれらを確認していただければと思います。（参考文献：[1-3]） 本チュートリアルではあくまでMatlantisを使って**実践的に**これらの計算を実行するために必要な知識を習得するところが目的となっています。\n",
    "\n",
    "早速ですが具体的な事例を通して、どんなことがMDシミュレーションで観察出来るかみてみましょう。\n",
    "\n",
    " - https://wiki.fysik.dtu.dk/ase/tutorials/md/md.html"
   ]
  },
  {
   "cell_type": "markdown",
   "id": "74225efd-f5dd-4215-9f40-2525a709bad6",
   "metadata": {},
   "source": [
    "## 事前準備 - 必要なライブラリのインストール\n",
    "\n",
    "本章ではところどころ、ASE上で簡易に利用できる古典力場であるASAP3のEMT力場を利用しています。古典力場であるため精度や用途はかなり限定的ですがシンプルかつ高速で実行可能なのでチュートリアルとして事例を示すには十分な機能を持っています。ちなみにASAP3-EMTで利用可能な元素はNi、Cu、Pd、Ag、Pt、Auとこれらの合金に限定されます。インストールの仕方は以下のとおりです。"
   ]
  },
  {
   "cell_type": "code",
   "execution_count": null,
   "id": "76855978-6625-42ad-a8fc-263d7f081f05",
   "metadata": {},
   "outputs": [],
   "source": [
    "!pip install --upgrade asap3"
   ]
  },
  {
   "cell_type": "markdown",
   "id": "2e61e3b4-ae16-48c0-8a4f-834cfcbb971f",
   "metadata": {},
   "source": [
    "ASAP3-EMTに関する詳細は<a href=\"https://wiki.fysik.dtu.dk/asap/asap\">ASAPのサイト</a>をご確認ください。"
   ]
  },
  {
   "cell_type": "markdown",
   "id": "14452ac3-5055-4e75-b53c-4d5e319011cb",
   "metadata": {},
   "source": [
    "## MDシミュレーションでなにが出来るか\n",
    "\n",
    "以下の事例では金属Al構造の溶融状態をMDシミュレーションで再現しています。ご存知の通りアルミニウムは我々がよく見かける物質で工業的に非常に重要な金属であり、その特性も良く知られています。融点は660.3 °C（933.45 K）で、常圧下では幅広い温度領域で面心立方格子（face-centered cubic, fcc）構造を持ちます。以下はそのfcc-Al構造を初期温度1600 Kに過熱して熔融させる過程を示したものです。計算時間は100 psecです。"
   ]
  },
  {
   "cell_type": "markdown",
   "id": "d758229d-ae9a-43d0-93fe-4503a8cb3375",
   "metadata": {},
   "source": [
    "</br>\n",
    "<figure style=\"text-align:center\">\n",
    "  <img src=\"../assets/ch6/Fig6-1_fcc-Al_NVE_1600Kstart.png\" alt=\"fcc-Al_NVE_1600Kstart\">\n",
    "  <figcaption>Fig6-1a. Melting of fcc-Al in NVE ensemble starting at 1600 K</figcaption>\n",
    "  <figcaption>         (File: ../input/ch6/6-1_fcc-Al_NVE_1600Kstart.traj)</figcaption>\n",
    "</figure>"
   ]
  },
  {
   "cell_type": "markdown",
   "id": "d1cc926b-9a91-4602-b68e-fc9ed61504d1",
   "metadata": {},
   "source": [
    "最初はきれいにfccの結晶構造に配置されたAl原子ですが、計算が進むにつれ徐々に構造が乱れ、段々とシミュレーションセルの外側に拡散していく様子がうかがえます。このように**MDシミュレーションでは実際に原子が時間発展とともにどのような軌道を描くか詳細に観察することが可能です**。"
   ]
  },
  {
   "cell_type": "markdown",
   "id": "4fc8ad11-c26a-4016-ad7c-2ae5b6d04d2b",
   "metadata": {},
   "source": [
    "## アルミニウムの溶融シミュレーション\n",
    "\n",
    "それでは以下に、上記のfcc-Alの溶融過程を再現するのに用いたMDシミュレーションのサンプルコードを示します。今回は計算の高速化のためASAP3のEMT力場を用いています。（ユーザーのpython環境でこの力場を用いる際は始めに`pip install asap3`を実行してasap3のパッケージをインストールしてください。）以下の計算は100 psec実行しますが、数十秒ほどで計算が完了します。"
   ]
  },
  {
   "cell_type": "code",
   "execution_count": 2,
   "id": "e9eb0870-f7a5-4b9f-aadc-79c80273171b",
   "metadata": {
    "tags": []
   },
   "outputs": [
    {
     "name": "stdout",
     "output_type": "stream",
     "text": [
      "atoms =  Atoms(symbols='Al108', pbc=True, cell=[12.899999999999999, 12.899999999999999, 12.899999999999999])\n",
      "log_filename =  ./output/ch6/liquid-Al_NVE_1.0fs_test.log\n",
      "traj_filename =  ./output/ch6/liquid-Al_NVE_1.0fs_test.traj\n",
      "\n",
      "    imd     Etot(eV)    Ekin(eV)    Epot(eV)    T(K)\n",
      "     0     32.139701294     22.336120234    9.803581060   1600.00\n",
      "   1000     32.144889111     9.851785137    22.293103974   705.71\n",
      "   2000     32.144634514     10.538523047    21.606111466   754.90\n",
      "   3000     32.144643608     11.205207875    20.939435733   802.66\n",
      "   4000     32.144360371     10.628376834    21.515983537   761.34\n",
      "   5000     32.144745056     10.642859695    21.501885362   762.38\n",
      "   6000     32.144964346     9.673146214    22.471818131   692.92\n",
      "   7000     32.145003412     10.329285833    21.815717579   739.92\n",
      "   8000     32.144790609     10.798458531    21.346332078   773.52\n",
      "   9000     32.145198824     9.717769786    22.427429038   696.11\n",
      "   10000     32.144979661     9.871641249    22.273338412   707.13\n",
      "   11000     32.144876202     10.343316303    21.801559899   740.92\n",
      "   12000     32.144993729     9.071014781    23.073978949   649.78\n",
      "   13000     32.144884399     9.615342610    22.529541788   688.77\n",
      "   14000     32.144833389     10.027070827    22.117762562   718.27\n",
      "   15000     32.144621196     10.539268847    21.605352348   754.96\n",
      "   16000     32.144626765     11.053743640    21.090883125   791.81\n",
      "   17000     32.144344782     10.994105364    21.150239418   787.54\n",
      "   18000     32.144140960     11.682574217    20.461566743   836.86\n",
      "   19000     32.144493219     11.282753092    20.861740128   808.22\n",
      "   20000     32.144620243     11.021678911    21.122941332   789.51\n",
      "   21000     32.144572004     10.528263721    21.616308283   754.17\n",
      "   22000     32.144853422     10.071815410    22.073038012   721.47\n",
      "   23000     32.144606778     11.575417579    20.569189199   829.18\n",
      "   24000     32.144877568     10.336973331    21.807904236   740.47\n",
      "   25000     32.144795922     11.360248814    20.784547108   813.77\n",
      "   26000     32.144841118     9.949809548    22.195031571   712.73\n",
      "   27000     32.144434541     10.326124400    21.818310141   739.69\n",
      "   28000     32.144740173     10.553984691    21.590755481   756.01\n",
      "   29000     32.144825049     10.503967331    21.640857718   752.43\n",
      "   30000     32.144716217     11.174413776    20.970302440   800.46\n",
      "   31000     32.145292268     9.117849480    23.027442787   653.14\n",
      "   32000     32.144760180     10.088349826    22.056410354   722.66\n",
      "   33000     32.144459801     11.068906755    21.075553046   792.90\n",
      "   34000     32.144621995     10.171031207    21.973590788   728.58\n",
      "   35000     32.144700888     11.363733751    20.780967137   814.02\n",
      "   36000     32.144550709     10.653176904    21.491373805   763.12\n",
      "   37000     32.144756902     10.381793060    21.762963842   743.68\n",
      "   38000     32.144730151     10.257004183    21.887725967   734.74\n",
      "   39000     32.144781327     10.380126523    21.764654804   743.56\n",
      "   40000     32.144900626     9.716120395    22.428780230   695.99\n",
      "   41000     32.144277311     11.816934913    20.327342398   846.48\n",
      "   42000     32.144732214     10.483903392    21.660828822   750.99\n",
      "   43000     32.144234909     12.011591863    20.132643045   860.42\n",
      "   44000     32.144975889     10.557127683    21.587848207   756.24\n",
      "   45000     32.144777993     11.268795111    20.875982882   807.22\n",
      "   46000     32.144417779     11.242316416    20.902101363   805.32\n",
      "   47000     32.144748539     11.097972071    21.046776468   794.98\n",
      "   48000     32.144715016     10.685419887    21.459295128   765.43\n",
      "   49000     32.145091005     9.685290825    22.459800180   693.79\n",
      "   50000     32.144660151     11.184341544    20.960318608   801.17\n",
      "   51000     32.144902738     10.747928937    21.396973802   769.90\n",
      "   52000     32.145163772     10.593081930    21.552081842   758.81\n",
      "   53000     32.144823393     11.091951675    21.052871718   794.55\n",
      "   54000     32.145110651     10.543491337    21.601619315   755.26\n",
      "   55000     32.145089909     10.704306098    21.440783811   766.78\n",
      "   56000     32.144971397     11.003250775    21.141720621   788.19\n",
      "   57000     32.144961685     11.822987403    20.321974282   846.91\n",
      "   58000     32.145234068     10.566794373    21.578439695   756.93\n",
      "   59000     32.145382006     10.000078187    22.145303819   716.33\n",
      "   60000     32.145418293     9.846825578    22.298592715   705.36\n",
      "   61000     32.145188405     10.333914594    21.811273811   740.25\n",
      "   62000     32.145072699     10.727550676    21.417522023   768.45\n",
      "   63000     32.145171536     11.116251652    21.028919884   796.29\n",
      "   64000     32.145034329     10.619028790    21.526005538   760.67\n",
      "   65000     32.144953516     10.635215744    21.509737772   761.83\n",
      "   66000     32.145025745     10.145599740    21.999426006   726.76\n",
      "   67000     32.145164126     9.595965458    22.549198668   687.39\n",
      "   68000     32.145200107     9.649000052    22.496200055   691.19\n",
      "   69000     32.145283749     9.871641792    22.273641957   707.13\n",
      "   70000     32.144927551     10.609717496    21.535210055   760.00\n",
      "   71000     32.144951658     10.544159100    21.600792558   755.31\n",
      "   72000     32.145100877     10.154726831    21.990374046   727.41\n",
      "   73000     32.144707777     10.546472670    21.598235107   755.47\n",
      "   74000     32.144862218     10.316668026    21.828194192   739.01\n",
      "   75000     32.144806403     10.065312180    22.079494223   721.01\n",
      "   76000     32.145314242     10.206742428    21.938571815   731.14\n",
      "   77000     32.144580203     10.995857023    21.148723180   787.66\n",
      "   78000     32.145020684     9.931523677    22.213497007   711.42\n",
      "   79000     32.145054354     9.985611439    22.159442915   715.30\n",
      "   80000     32.144343492     11.346276398    20.798067095   812.77\n",
      "   81000     32.144937808     10.538805485    21.606132323   754.92\n",
      "   82000     32.144803289     10.789040395    21.355762895   772.85\n",
      "   83000     32.144754963     10.774891056    21.369863907   771.84\n",
      "   84000     32.145431604     9.008525953    23.136905650   645.31\n",
      "   85000     32.144760194     10.057425630    22.087334564   720.44\n",
      "   86000     32.144698741     10.685036611    21.459662130   765.40\n",
      "   87000     32.144540251     10.640615691    21.503924560   762.22\n",
      "   88000     32.144090376     10.314197022    21.829893354   738.84\n",
      "   89000     32.144502722     11.396688453    20.747814270   816.38\n",
      "   90000     32.144564034     11.460520590    20.684043444   820.95\n",
      "   91000     32.144473663     10.635723413    21.508750250   761.87\n",
      "   92000     32.144908536     9.629389204    22.515519332   689.78\n",
      "   93000     32.144629395     9.741495751    22.403133644   697.81\n",
      "   94000     32.144635633     9.661071297    22.483564336   692.05\n",
      "   95000     32.144676379     10.231992764    21.912683615   732.95\n",
      "   96000     32.145286282     8.958930245    23.186356037   641.75\n",
      "   97000     32.144243927     10.629861599    21.514382329   761.45\n",
      "   98000     32.144669759     10.105523781    22.039145978   723.89\n",
      "   99000     32.144610378     9.758667508    22.385942870   699.04\n",
      "   100000     32.144478686     11.325155603    20.819323083   811.25\n",
      "\n",
      "Normal termination of the MD run!\n",
      "CPU times: user 15.3 s, sys: 102 ms, total: 15.4 s\n",
      "Wall time: 16.9 s\n"
     ]
    }
   ],
   "source": [
    "%%time\n",
    "import os\n",
    "from asap3 import EMT\n",
    "calculator = EMT()\n",
    "\n",
    "from ase.build import bulk\n",
    "from ase.md.velocitydistribution import MaxwellBoltzmannDistribution,Stationary\n",
    "from ase.md.verlet import VelocityVerlet\n",
    "from ase.md import MDLogger\n",
    "from ase import units\n",
    "from time import perf_counter\n",
    "import numpy as np\n",
    "\n",
    "# Set up a fcc-Al crystal\n",
    "atoms = bulk(\"Al\",\"fcc\",a=4.3,cubic=True)\n",
    "atoms.pbc = True\n",
    "atoms *= 3\n",
    "print(\"atoms = \",atoms)\n",
    "\n",
    "# Set calculator (EMT in this case)\n",
    "atoms.calc = calculator\n",
    "\n",
    "# input parameters\n",
    "time_step    = 1.0      # MD step size in fsec\n",
    "temperature  = 1600     # Temperature in Kelvin\n",
    "num_md_steps = 100000   # Total number of MD steps\n",
    "num_interval = 1000     # Print out interval for .log and .traj\n",
    "\n",
    "# Set the momenta corresponding to the given \"temperature\"\n",
    "MaxwellBoltzmannDistribution(atoms, temperature_K=temperature,force_temp=True)\n",
    "Stationary(atoms)  # Set zero total momentum to avoid drifting\n",
    "\n",
    "# Set output filenames\n",
    "output_filename = \"./output/ch6/liquid-Al_NVE_1.0fs_test\"\n",
    "log_filename = output_filename + \".log\"\n",
    "print(\"log_filename = \",log_filename)\n",
    "traj_filename = output_filename + \".traj\"\n",
    "print(\"traj_filename = \",traj_filename)\n",
    "\n",
    "# Remove old files if they exist\n",
    "if os.path.exists(log_filename): os.remove(log_filename)\n",
    "if os.path.exists(traj_filename): os.remove(traj_filename)\n",
    "\n",
    "# Define the MD dynamics class object\n",
    "dyn = VelocityVerlet(atoms, \n",
    "                     time_step * units.fs,\n",
    "                     trajectory = traj_filename,\n",
    "                     loginterval=num_interval\n",
    "                    )  \n",
    "\n",
    "# Print statements\n",
    "def print_dyn():\n",
    "    imd = dyn.get_number_of_steps()\n",
    "    time_md = time_step*imd\n",
    "    etot  = atoms.get_total_energy()\n",
    "    ekin  = atoms.get_kinetic_energy()\n",
    "    epot  = atoms.get_potential_energy()\n",
    "    temp_K = atoms.get_temperature()\n",
    "    print(f\"   {imd: >3}     {etot:.9f}     {ekin:.9f}    {epot:.9f}   {temp_K:.2f}\")\n",
    "\n",
    "dyn.attach(print_dyn, interval=num_interval)\n",
    "\n",
    "# Set MD logger\n",
    "dyn.attach(MDLogger(dyn, atoms, log_filename, header=True, stress=False,peratom=False, mode=\"w\"), interval=num_interval)\n",
    "\n",
    "# Now run MD simulation\n",
    "print(f\"\\n    imd     Etot(eV)    Ekin(eV)    Epot(eV)    T(K)\")\n",
    "dyn.run(num_md_steps)\n",
    "\n",
    "print(\"\\nNormal termination of the MD run!\")"
   ]
  },
  {
   "cell_type": "markdown",
   "id": "8845d3ff-ff1a-40fd-8c8f-b5a9854ec95d",
   "metadata": {},
   "source": [
    "プログラムの流れはスクリプト内のコメントを見ながら流れを追っていけばだいたい理解できるとは思いますが重要なポイントのみについて解説します。\n",
    "\n",
    "\n",
    "（１）初速度分布\n",
    "\n",
    "構造作成、計算パラメーターの設定が終わったのち、各原子の初速度は指定の温度に対応した<a href=\"https://ja.wikipedia.org/wiki/%E3%83%9E%E3%82%AF%E3%82%B9%E3%82%A6%E3%82%A7%E3%83%AB%E5%88%86%E5%B8%83\">Maxwell-Boltzmann分布</a>に従う速度分布を与えます。上記コードでは、 `MaxwellBoltzmannDistribution` を用いて行っています。この方法で与えた初速度には系全体の運動量の任意性があるため、このままでは系全体がドリフトする可能性があります。なのでMaxwell-BoltzmannDistributionで初速度を与えた後に`Stationary`という関数で系全体の運動量をゼロとし、質量中心の座標を固定します。NVEの事例だけでなく、この後出てくる温度制御や圧力制御を伴うシミュレーションでも重要になります。\n",
    "\n",
    "（２）MDの実行\n",
    "\n",
    "今回は、`VelocityVerlet`というクラスを用いることで、[速度ベルレ法](https://ja.wikipedia.org/wiki/%E3%83%99%E3%83%AC%E3%81%AE%E6%96%B9%E6%B3%95)によるMDを実行しています。\n",
    "`dyn.run(num_md_steps)` の箇所で実際にMDの実行が行われています。\n",
    "今回の設定では、`time_step=1.0`として、1stepあたり1fs = $1 \\times 10^{-15}$ secの時間幅で、`num_md_steps=100000` step実行しています。\n",
    "\n",
    "（3）計算結果の記録\n",
    "\n",
    "このスクリプトには`print_dyn`という標準出力（notebook上へのデータの出力）にエネルギーや温度の値を出力する関数があります。その他にも`MDLogger`という関数があり、これは指定したLogファイルの中にエネルギー、温度、応力情報を出力します。独自に計算結果をファイル出力する機構を作っても良いですが、デフォルトで備わっているLoggerで大抵のアプリケーションに必要な情報は得られるので活用をお薦めします。\n",
    "\n",
    "MD実行後、軌跡の可視化は以下のように行なえます。"
   ]
  },
  {
   "cell_type": "code",
   "execution_count": 3,
   "id": "7237c8b8-3495-42dc-b73d-6f8df053541f",
   "metadata": {},
   "outputs": [
    {
     "data": {
      "application/vnd.jupyter.widget-view+json": {
       "model_id": "efd1634389be48c38545e7cb889ab6e3",
       "version_major": 2,
       "version_minor": 0
      },
      "text/plain": []
     },
     "metadata": {},
     "output_type": "display_data"
    },
    {
     "data": {
      "application/vnd.jupyter.widget-view+json": {
       "model_id": "e31cba738e634cefa0a9baf6f5655f78",
       "version_major": 2,
       "version_minor": 0
      },
      "text/plain": [
       "HBox(children=(NGLWidget(max_frame=100), VBox(children=(Dropdown(description='Show', options=('All', 'Al'), va…"
      ]
     },
     "metadata": {},
     "output_type": "display_data"
    }
   ],
   "source": [
    "from ase.io import Trajectory\n",
    "from pfcc_extras.visualize.view import view_ngl\n",
    "\n",
    "\n",
    "traj = Trajectory(traj_filename)\n",
    "view_ngl(traj)"
   ]
  },
  {
   "cell_type": "code",
   "execution_count": 4,
   "id": "472cb3a7-09dd-4e26-ad96-96e49e770386",
   "metadata": {},
   "outputs": [
    {
     "name": "stderr",
     "output_type": "stream",
     "text": [
      "[Parallel(n_jobs=16)]: Using backend ThreadingBackend with 16 concurrent workers.\n",
      "[Parallel(n_jobs=16)]: Done  18 tasks      | elapsed:   13.9s\n",
      "[Parallel(n_jobs=16)]: Done 101 out of 101 | elapsed:   59.4s finished\n"
     ]
    }
   ],
   "source": [
    "from pfcc_extras.visualize.povray import traj_to_apng\n",
    "from IPython.display import Image\n",
    "\n",
    "\n",
    "traj_to_apng(traj, f\"output/Fig6-1_fcc-Al_NVE_1600Kstart.png\", rotation=\"0x,0y,0z\", clean=True, n_jobs=16)\n",
    "\n",
    "# See Fig6-1a\n",
    "#Image(url=\"output/Fig6-1_fcc-Al_NVE_1600Kstart.png\")"
   ]
  },
  {
   "cell_type": "markdown",
   "id": "27506b8c-130d-4cef-9aba-a8c6dd7f7147",
   "metadata": {},
   "source": [
    "## NVEアンサンブルにおける物性値のヒストリー\n",
    "\n",
    "各原子の速度（すなわち運動量）も分かるため各種エネルギーの履歴を追うことも出来ます。例えば、以下は上のfcc-Alの溶融の際の全エネルギー（Tot.E.）、ポテンシャルエネルギー（P.E.）、運動エネルギー（K.E.）、そして温度（Temp.）の時間プロファイルです。\n"
   ]
  },
  {
   "cell_type": "code",
   "execution_count": 5,
   "id": "8c8124da-be6a-4a46-b9e7-3bc5c581ef6e",
   "metadata": {},
   "outputs": [
    {
     "data": {
      "text/html": [
       "<div>\n",
       "<style scoped>\n",
       "    .dataframe tbody tr th:only-of-type {\n",
       "        vertical-align: middle;\n",
       "    }\n",
       "\n",
       "    .dataframe tbody tr th {\n",
       "        vertical-align: top;\n",
       "    }\n",
       "\n",
       "    .dataframe thead th {\n",
       "        text-align: right;\n",
       "    }\n",
       "</style>\n",
       "<table border=\"1\" class=\"dataframe\">\n",
       "  <thead>\n",
       "    <tr style=\"text-align: right;\">\n",
       "      <th></th>\n",
       "      <th>Time[ps]</th>\n",
       "      <th>Etot[eV]</th>\n",
       "      <th>Epot[eV]</th>\n",
       "      <th>Ekin[eV]</th>\n",
       "      <th>T[K]</th>\n",
       "    </tr>\n",
       "  </thead>\n",
       "  <tbody>\n",
       "    <tr>\n",
       "      <th>0</th>\n",
       "      <td>0.0</td>\n",
       "      <td>32.140</td>\n",
       "      <td>9.804</td>\n",
       "      <td>22.336</td>\n",
       "      <td>1600.0</td>\n",
       "    </tr>\n",
       "    <tr>\n",
       "      <th>1</th>\n",
       "      <td>1.0</td>\n",
       "      <td>32.145</td>\n",
       "      <td>22.293</td>\n",
       "      <td>9.852</td>\n",
       "      <td>705.7</td>\n",
       "    </tr>\n",
       "    <tr>\n",
       "      <th>2</th>\n",
       "      <td>2.0</td>\n",
       "      <td>32.145</td>\n",
       "      <td>21.606</td>\n",
       "      <td>10.539</td>\n",
       "      <td>754.9</td>\n",
       "    </tr>\n",
       "    <tr>\n",
       "      <th>3</th>\n",
       "      <td>3.0</td>\n",
       "      <td>32.145</td>\n",
       "      <td>20.939</td>\n",
       "      <td>11.205</td>\n",
       "      <td>802.7</td>\n",
       "    </tr>\n",
       "    <tr>\n",
       "      <th>4</th>\n",
       "      <td>4.0</td>\n",
       "      <td>32.144</td>\n",
       "      <td>21.516</td>\n",
       "      <td>10.628</td>\n",
       "      <td>761.3</td>\n",
       "    </tr>\n",
       "    <tr>\n",
       "      <th>...</th>\n",
       "      <td>...</td>\n",
       "      <td>...</td>\n",
       "      <td>...</td>\n",
       "      <td>...</td>\n",
       "      <td>...</td>\n",
       "    </tr>\n",
       "    <tr>\n",
       "      <th>96</th>\n",
       "      <td>96.0</td>\n",
       "      <td>32.145</td>\n",
       "      <td>23.186</td>\n",
       "      <td>8.959</td>\n",
       "      <td>641.8</td>\n",
       "    </tr>\n",
       "    <tr>\n",
       "      <th>97</th>\n",
       "      <td>97.0</td>\n",
       "      <td>32.144</td>\n",
       "      <td>21.514</td>\n",
       "      <td>10.630</td>\n",
       "      <td>761.4</td>\n",
       "    </tr>\n",
       "    <tr>\n",
       "      <th>98</th>\n",
       "      <td>98.0</td>\n",
       "      <td>32.145</td>\n",
       "      <td>22.039</td>\n",
       "      <td>10.106</td>\n",
       "      <td>723.9</td>\n",
       "    </tr>\n",
       "    <tr>\n",
       "      <th>99</th>\n",
       "      <td>99.0</td>\n",
       "      <td>32.145</td>\n",
       "      <td>22.386</td>\n",
       "      <td>9.759</td>\n",
       "      <td>699.0</td>\n",
       "    </tr>\n",
       "    <tr>\n",
       "      <th>100</th>\n",
       "      <td>100.0</td>\n",
       "      <td>32.144</td>\n",
       "      <td>20.819</td>\n",
       "      <td>11.325</td>\n",
       "      <td>811.3</td>\n",
       "    </tr>\n",
       "  </tbody>\n",
       "</table>\n",
       "<p>101 rows × 5 columns</p>\n",
       "</div>"
      ],
      "text/plain": [
       "     Time[ps]  Etot[eV]  Epot[eV]  Ekin[eV]    T[K]\n",
       "0         0.0    32.140     9.804    22.336  1600.0\n",
       "1         1.0    32.145    22.293     9.852   705.7\n",
       "2         2.0    32.145    21.606    10.539   754.9\n",
       "3         3.0    32.145    20.939    11.205   802.7\n",
       "4         4.0    32.144    21.516    10.628   761.3\n",
       "..        ...       ...       ...       ...     ...\n",
       "96       96.0    32.145    23.186     8.959   641.8\n",
       "97       97.0    32.144    21.514    10.630   761.4\n",
       "98       98.0    32.145    22.039    10.106   723.9\n",
       "99       99.0    32.145    22.386     9.759   699.0\n",
       "100     100.0    32.144    20.819    11.325   811.3\n",
       "\n",
       "[101 rows x 5 columns]"
      ]
     },
     "execution_count": 5,
     "metadata": {},
     "output_type": "execute_result"
    }
   ],
   "source": [
    "import pandas as pd\n",
    "\n",
    "df = pd.read_csv(log_filename, delim_whitespace=True)\n",
    "df"
   ]
  },
  {
   "cell_type": "code",
   "execution_count": 6,
   "id": "4ba63de9-9ebb-49fd-85e2-88a95fe83e29",
   "metadata": {
    "tags": []
   },
   "outputs": [
    {
     "data": {
      "image/png": "[encoded data removed]",
      "text/plain": [
       "<Figure size 1000x500 with 4 Axes>"
      ]
     },
     "metadata": {},
     "output_type": "display_data"
    }
   ],
   "source": [
    "import numpy as np\n",
    "import matplotlib.pyplot as plt\n",
    "\n",
    "\n",
    "fig = plt.figure(figsize=(10, 5))\n",
    "\n",
    "#color = 'tab:grey'\n",
    "ax1 = fig.add_subplot(4, 1, 1)\n",
    "ax1.set_xticklabels([])  \n",
    "ax1.set_ylabel('Tot E (eV)')  \n",
    "ax1.set_ylim([31.,33.])\n",
    "ax1.plot(df[\"Time[ps]\"], df[\"Etot[eV]\"], color=\"blue\",alpha=0.5)\n",
    "\n",
    "ax2 = fig.add_subplot(4, 1, 2)\n",
    "ax2.set_xticklabels([])  \n",
    "ax2.set_ylabel('P.E. (eV)')  \n",
    "ax2.plot(df[\"Time[ps]\"], df[\"Epot[eV]\"], color=\"green\",alpha=0.5)\n",
    "\n",
    "ax3 = fig.add_subplot(4, 1, 3)\n",
    "ax3.set_xticklabels([])  \n",
    "ax3.set_ylabel('K.E. (eV)')  \n",
    "ax3.plot(df[\"Time[ps]\"], df[\"Ekin[eV]\"], color=\"orange\",alpha=0.5)\n",
    "\n",
    "ax4 = fig.add_subplot(4, 1, 4)\n",
    "ax4.set_xlabel('time (ps)')  \n",
    "ax4.set_ylabel('Temp. (K)')  \n",
    "ax4.plot(df[\"Time[ps]\"], df[\"T[K]\"], color=\"red\",alpha=0.5)\n",
    "ax4.set_ylim([500., 1700])\n",
    "\n",
    "fig.suptitle(\"Fig.6-1b. Time evolution of total, potential, and kinetic energies, and temperature.\", y=0)\n",
    "\n",
    "#plt.savefig(\"6-1_liquid-Al_NVE_1.0fs_test_E_vs_t.png\")  # <- Use if saving to an image file is desired\n",
    "plt.show()"
   ]
  },
  {
   "cell_type": "markdown",
   "id": "7bd9ee71-698c-4f2c-b789-9695e16e73d7",
   "metadata": {},
   "source": [
    "1-5節 でも出てきましたが、系の全エネルギー $E$ (Total energy) は、運動エネルギー $K$ (Kinetic energy)と、ポテンシャルエネルギー $V$ (Potential energy)で表されます。\n",
    "\n",
    "$$ E = K + V $$\n",
    "\n",
    "このうち、原子の運動エネルギー$K$は古典力学の表式を用い以下のように計算できます。\n",
    "\n",
    "$$ K = \\sum_{i=1}^{N} \\frac{1}{2} m_i {\\mathbf{v}}_i^2 = \\sum_{i=1}^{N} \\frac{{\\mathbf{p}}_i^2}{2 m_i}  $$\n",
    "\n",
    "ここで $m_i, \\mathbf{v}_i, \\mathbf{p}_i$ はそれぞれ各原子の質量 (mass) 、速度 (velocity)および運動量 (momenta, $\\mathbf{p}=m\\mathbf{v}$)です。ここで系の温度と運動エネルギーはほぼ同義で、以下のような関係で定義されます。\n",
    "\n",
    "\\$$ K = \\frac{3}{2} k_B T$$\n",
    "\n",
    "\n",
    "今回のケースでは初期温度を1600 Kと設定し、あとは古典力学の運動方程式に則って自然に系を時間発展させています。従って特に外力もないのでエネルギー保存則が守られ全エネルギーが数値誤差の範囲で一定に保たれます。そしてかなり早い段階で温度が低下し、運動エネルギーとポテンシャルエネルギーのそれぞれに<a href=\"https://ja.wikipedia.org/wiki/%E3%82%A8%E3%83%8D%E3%83%AB%E3%82%AE%E3%83%BC%E7%AD%89%E9%85%8D%E5%88%86%E3%81%AE%E6%B3%95%E5%89%87\">エネルギー分配則</a>が働き、最終的に温度は初期温度の半分程度に落ち着きます。自然界では実際に物質はそのようにふるまい、今回のような最もシンプルなMDシミュレーションではそういった状況を再現します。このような計算対象である系の状態分布を<a href=\"https://ja.wikipedia.org/wiki/%E3%83%9F%E3%82%AF%E3%83%AD%E3%82%AB%E3%83%8E%E3%83%8B%E3%82%AB%E3%83%AB%E3%82%A2%E3%83%B3%E3%82%B5%E3%83%B3%E3%83%96%E3%83%AB\">**NVEアンサンブル**</a>と言います。（または小正準集団アンサンブル。NVEのNは原子数、Vは体積、Eは全エネルギーが一定であることを表します。）ちなみに、ここでいう<a href=\"https://ja.wikipedia.org/wiki/%E7%B5%B1%E8%A8%88%E9%9B%86%E5%9B%A3\">アンサンブル</a>とは統計力学の考え方で物質の状態分布のことを指します。"
   ]
  },
  {
   "cell_type": "markdown",
   "id": "63f2bcfe-005f-41b9-8148-99cee3543ab0",
   "metadata": {},
   "source": [
    "## NVEアンサンブルにおけるMDシミュレーションの設定\n",
    "\n",
    "さて、上記のNVEアンサンブルのMDシミュレーションでは初期温度や計算時間のような計算条件を設定する必要があります。それ以外にも比較的自明ではないパラメーターとしてMDのタイムステップを設定する必要があります。このMDのタイムステップはどのように設定したらよいでしょうか？\n",
    "\n",
    "答えは求めている計算精度に依存します。NVEアンサンブルでは2階の常微分方程式である古典の運動方程式解くわけですが、この積分プロセスの精度がタイムステップの大きさで決まります。（積分手法の詳細については本節の最後に記載します。）タイムステップサイズを変えた時の全エネルギーがどのように変化するか見てみましょう。計算時間は仮に1 nsecとします。（古典MDなどで良く用いられる時間スケールです。）"
   ]
  },
  {
   "cell_type": "markdown",
   "id": "8aec3e9c-7d6a-4e18-a33b-8241a4943d94",
   "metadata": {},
   "source": [
    "<p>\n",
    "<figure style=\"text-align: center\">\n",
    "    <img src=\"../assets/ch6/Fig6-1_Etot_vs_dt.png\">\n",
    "    <figcaption align = \"center\">Fig.6-1c. Time evolution of the total energy with respect to time step size.</figcaption>\n",
    "</figure>\n",
    "</p>\n",
    "</br>"
   ]
  },
  {
   "cell_type": "markdown",
   "id": "0d6e7e40-ab9a-4fc4-abf6-9c3a24f9fb6c",
   "metadata": {},
   "source": [
    "\n",
    "上記はタイムステップを0.5から5.0 fsecまで変化させたときの計算結果です。本来一定であるはずの全エネルギーが、タイムステップが大きいときに時間の経過とともに大きくぶれてしまっていることが確認できます。\n",
    "\n",
    "全エネルギーの時間依存性確認のため、上記のMDシミュレーションスクリプトの`time_step` 引数を変えて実行し、そのエネルギープロファイルを比較してみてください。\n",
    "可視化にあたっては、上記Fig.6-1b の可視化コードを参考にしてください。"
   ]
  },
  {
   "cell_type": "markdown",
   "id": "9b06dd14-e6cf-4046-970a-6df55ee51cc7",
   "metadata": {},
   "source": [
    "上記の計算結果からMDのタイムステップサイズを変化し、横軸をステップサイズ、縦軸を全エネルギーの揺らぎから得られたRMSEをプロットすると以下のようになります。"
   ]
  },
  {
   "cell_type": "markdown",
   "id": "92557c6a-e65b-4087-ad0f-9590ac0ff27e",
   "metadata": {},
   "source": [
    "<p class=\"aligncenter\">\n",
    "<figure style=\"text-align: center\">\n",
    "    <img src=\"../assets/ch6/Fig6-1_Etot-RMSE_vs_dt.png\">\n",
    "    <figcaption align = \"center\">Fig.6-1d. Total energy ERMSE as a function of MD step size.</figcaption>\n",
    "</figure>\n",
    "</p>\n",
    "</br>"
   ]
  },
  {
   "cell_type": "markdown",
   "id": "e6a0fb91-f3a3-4012-8af9-209c2dfd6c50",
   "metadata": {},
   "source": [
    "縦軸は原子ひとつ辺りのエネルギーです。Log-logプロットで概ね直線上にのることが見て取れます。単位原子当たりの値にして、0.25 fsで1.2e-6 eVから5.0 fsで6e-5 fsまで変化することが分かります。この場合原子数は108原子なので、系全体で1e-4 eVから1e-3 eV変化しうることが確認できます。\n",
    "\n",
    "エネルギーの観点では時間ステップを1 fsecとすると、1 nsecのシミュレーションを100原子系で0.5 meV程度、1000原子系だと約5 meV程度の誤差が予想されます。もちろん計算したい物性などによりますが、たいていの計算では十分な精度ではないでしょうか？これが例えば計算時間を稼ぎたいからとタイムステップを5 fsecとするとほぼ一桁誤差が大きくなります。今後MD計算を活用するうえで、この計算精度がどの程度かというのは頭の片隅に止めておく必要があります。"
   ]
  },
  {
   "cell_type": "markdown",
   "id": "04f49052-1d19-429e-b937-93297244e500",
   "metadata": {},
   "source": [
    "## その他のアンサンブルとMDシミュレーション\n",
    "\n",
    "本節の最後にNVEアンサンブル以外のMDシミュレーション法について触れておきます。\n",
    "\n",
    "NVEアンサンブルのMDシミュレーションはシンプルかつパワフルな計算手法ですが、我々が一般に観察したい現象を再現するには不都合な点が多く存在します。\n",
    "NVEのシミュレーションは計算対象のセルそれそのものが全てであり、外界というものが存在しません。しかし我々が実際に観察したいミクロな世界にはそれを取り巻く環境が存在します。外部環境の温度や圧力の影響により、計算対象の状態が変化しますが、これはNVEアンサンブルの範疇では再現が出来ません。\n",
    "\n",
    "このため統計力学の世界ではcanonicalアンサンブル（NVT）、isothermal-isobaricアンサンブル（NPT）、等をはじめ様々な状態分布があり、それらを活用することで特定の条件下での計算が可能になります。次節以降ではこれらの統計力学アンサンブル下での計算方法について学びます。"
   ]
  },
  {
   "cell_type": "markdown",
   "id": "a3c4748a-0453-49f5-8af6-1bd8946dd980",
   "metadata": {},
   "source": [
    "## 参考文献"
   ]
  },
  {
   "cell_type": "markdown",
   "id": "9c4d138c-f252-41d2-8bcd-66d55282b80c",
   "metadata": {},
   "source": [
    "[1] M.P. Allen and D.J. Tildesley, \"Computer simulaiton of liquid\", 2nd Ed., Oxford University Press (2017) ISBN 978-0-19-880319-5. [DOI:10.1093/oso/9780198803195.001.0001](https://doi.org/10.1093/oso/9780198803195.001.0001)\n",
    "\n",
    "[2] D. Frenkel and B. Smit \"Understanding molecular simulation - from algorithms to applications\", 2nd Ed., Academic Press (2002) ISBN 978-0-12-267351-1. [DOI:10.1016/B978-0-12-267351-1.X5000-7](https://doi.org/10.1016/B978-0-12-267351-1.X5000-7)\n",
    "\n",
    "[3] M.E. Tuckerman, \"Statistical mechanics: Theory and molecular simulation\", Oxford University Press (2010) ISBN 978-0-19-852526-4. https://global.oup.com/academic/product/statistical-mechanics-9780198525264?q=Statistical%20mechanics:%20Theory%20and%20molecular%20simulation&cc=gb&lang=en#\n"
   ]
  }
 ],
 "metadata": {
  "kernelspec": {
   "display_name": "Python 3.8",
   "language": "python",
   "name": "python38"
  },
  "language_info": {
   "codemirror_mode": {
    "name": "ipython",
    "version": 3
   },
   "file_extension": ".py",
   "mimetype": "text/x-python",
   "name": "python",
   "nbconvert_exporter": "python",
   "pygments_lexer": "ipython3",
   "version": "3.8.13"
  },
  "toc-autonumbering": false,
  "toc-showcode": false,
  "widgets": {
   "application/vnd.jupyter.widget-state+json": {
    "state": {
     "00f08222c6444d6f8b18a385bdd2732d": {
      "model_module": "@jupyter-widgets/base",
      "model_module_version": "1.2.0",
      "model_name": "LayoutModel",
      "state": {}
     },
     "00f7ce42787f49ae9ea562c7f1a9fdf5": {
      "model_module": "@jupyter-widgets/controls",
      "model_module_version": "1.5.0",
      "model_name": "LinkModel",
      "state": {
       "source": [
        "IPY_MODEL_15c40f93ee464d83805d8dd407b8bac0",
        "max"
       ],
       "target": [
        "IPY_MODEL_ea3eaa5a9171478d8be494ead1c14ecf",
        "max_frame"
       ]
      }
     },
     "010f00974c7a425497e1d019ca009b14": {
      "model_module": "@jupyter-widgets/controls",
      "model_module_version": "1.5.0",
      "model_name": "LinkModel",
      "state": {
       "source": [
        "IPY_MODEL_eb0802c2c04c41629f9b9bcd28ff5ddf",
        "max"
       ],
       "target": [
        "IPY_MODEL_ea3eaa5a9171478d8be494ead1c14ecf",
        "max_frame"
       ]
      }
     },
     "0205dc5a648d4414a590e40d63f7f041": {
      "model_module": "@jupyter-widgets/controls",
      "model_module_version": "1.5.0",
      "model_name": "ButtonStyleModel",
      "state": {}
     },
     "11ef5ce35ca54099a9dcf6984b474979": {
      "model_module": "@jupyter-widgets/controls",
      "model_module_version": "1.5.0",
      "model_name": "DropdownModel",
      "state": {
       "_options_labels": [
        "All",
        "Al"
       ],
       "description": "Show",
       "index": 0,
       "layout": "IPY_MODEL_86a27e438b0145c8b6ef9955d1ab584a",
       "style": "IPY_MODEL_c6d25cbe8a6842e1b2ba341927e420c8"
      }
     },
     "1252862787764b6a8c307ba01c345f31": {
      "model_module": "@jupyter-widgets/base",
      "model_module_version": "1.2.0",
      "model_name": "LayoutModel",
      "state": {}
     },
     "14499eefa7604e3e8675c252cb6616ea": {
      "model_module": "@jupyter-widgets/base",
      "model_module_version": "1.2.0",
      "model_name": "LayoutModel",
      "state": {
       "width": "34px"
      }
     },
     "15c40f93ee464d83805d8dd407b8bac0": {
      "model_module": "@jupyter-widgets/controls",
      "model_module_version": "1.5.0",
      "model_name": "IntSliderModel",
      "state": {
       "layout": "IPY_MODEL_15e00d1ced8a4fb9ba08575fe64f32c6",
       "style": "IPY_MODEL_f4054517766d433c83ff45979c334938",
       "value": 100
      }
     },
     "15e00d1ced8a4fb9ba08575fe64f32c6": {
      "model_module": "@jupyter-widgets/base",
      "model_module_version": "1.2.0",
      "model_name": "LayoutModel",
      "state": {}
     },
     "16378e2ac77f45e99f5b6313ec459c18": {
      "model_module": "@jupyter-widgets/controls",
      "model_module_version": "1.5.0",
      "model_name": "ButtonStyleModel",
      "state": {}
     },
     "199f033d2f304436b9aa70602d2ac61a": {
      "model_module": "@jupyter-widgets/controls",
      "model_module_version": "1.5.0",
      "model_name": "CheckboxModel",
      "state": {
       "description": "Show charge",
       "disabled": false,
       "layout": "IPY_MODEL_7c3c1f5aa2984f1e868689cef4f74b46",
       "style": "IPY_MODEL_23c51e7a35ee4fe5ac22484cbf2d8251",
       "value": false
      }
     },
     "1b60652ae41d450b87839e9528c9abf1": {
      "model_module": "@jupyter-widgets/controls",
      "model_module_version": "1.5.0",
      "model_name": "VBoxModel",
      "state": {
       "children": [
        "IPY_MODEL_11ef5ce35ca54099a9dcf6984b474979",
        "IPY_MODEL_49af2df4cf5a41ef8cbf79f50938cec9",
        "IPY_MODEL_21c68e3288ea4545b287710d0bf84bbb",
        "IPY_MODEL_9eaa2ecbc71f4cc9b2b00d0af31b8d3f",
        "IPY_MODEL_591d395b73ce4c5b844f8a1a8240ff04",
        "IPY_MODEL_72490fb575c345b988dee01d86068ef1",
        "IPY_MODEL_7ecc5ac43c6e4dd4aaccdcbcdb5a8ad9",
        "IPY_MODEL_cc4088ed59364915b2739e62b9683d73",
        "IPY_MODEL_199f033d2f304436b9aa70602d2ac61a",
        "IPY_MODEL_f9579be0f7224db3bf4a73c85fbec1b0",
        "IPY_MODEL_20669cf55330462dad2c3d4251bb0735"
       ],
       "layout": "IPY_MODEL_adfbacb5a05a48e684870ced9e432326"
      }
     },
     "20669cf55330462dad2c3d4251bb0735": {
      "model_module": "@jupyter-widgets/output",
      "model_module_version": "1.0.0",
      "model_name": "OutputModel",
      "state": {
       "layout": "IPY_MODEL_eb1325c4494743c3b97e50761501fc48"
      }
     },
     "21c68e3288ea4545b287710d0bf84bbb": {
      "model_module": "@jupyter-widgets/controls",
      "model_module_version": "1.5.0",
      "model_name": "FloatSliderModel",
      "state": {
       "description": "Ball size",
       "layout": "IPY_MODEL_778b4abd1f5e432e955734f636fe6284",
       "max": 1.5,
       "step": 0.01,
       "style": "IPY_MODEL_37f4156d7b8048c5931baab917b9de97",
       "value": 0.5
      }
     },
     "23c51e7a35ee4fe5ac22484cbf2d8251": {
      "model_module": "@jupyter-widgets/controls",
      "model_module_version": "1.5.0",
      "model_name": "DescriptionStyleModel",
      "state": {
       "description_width": ""
      }
     },
     "26bc847407af48928d19386515e00839": {
      "model_module": "@jupyter-widgets/base",
      "model_module_version": "1.2.0",
      "model_name": "LayoutModel",
      "state": {}
     },
     "298ab5b55bea4ce68d6e6ba082e0d7f6": {
      "model_module": "@jupyter-widgets/controls",
      "model_module_version": "1.5.0",
      "model_name": "ButtonStyleModel",
      "state": {}
     },
     "33a2a66d8c6e4498bbe10e57df76e482": {
      "model_module": "@jupyter-widgets/base",
      "model_module_version": "1.2.0",
      "model_name": "LayoutModel",
      "state": {}
     },
     "36da67c120994dbe971312136c99c2cb": {
      "model_module": "@jupyter-widgets/base",
      "model_module_version": "1.2.0",
      "model_name": "LayoutModel",
      "state": {}
     },
     "37f4156d7b8048c5931baab917b9de97": {
      "model_module": "@jupyter-widgets/controls",
      "model_module_version": "1.5.0",
      "model_name": "SliderStyleModel",
      "state": {
       "description_width": ""
      }
     },
     "40dbb0751b2c427fba532c360ba299a2": {
      "model_module": "@jupyter-widgets/controls",
      "model_module_version": "1.5.0",
      "model_name": "ButtonModel",
      "state": {
       "description": "Download image",
       "layout": "IPY_MODEL_525d86ffd8ee420483575d7ca5899b90",
       "style": "IPY_MODEL_0205dc5a648d4414a590e40d63f7f041",
       "tooltip": "Download current frame to your local PC"
      }
     },
     "49af2df4cf5a41ef8cbf79f50938cec9": {
      "model_module": "@jupyter-widgets/controls",
      "model_module_version": "1.5.0",
      "model_name": "DropdownModel",
      "state": {
       "_options_labels": [
        " ",
        "picking",
        "random",
        "uniform",
        "atomindex",
        "residueindex",
        "chainindex",
        "modelindex",
        "sstruc",
        "element",
        "resname",
        "bfactor",
        "hydrophobicity",
        "value",
        "volume",
        "occupancy"
       ],
       "description": "Color scheme",
       "index": 9,
       "layout": "IPY_MODEL_57df0da70ca749d8976a3ff46fa6a768",
       "style": "IPY_MODEL_5710c56d21f04a3589a793585ec30ec6"
      }
     },
     "4b6bdacb4512412fbb97310538632141": {
      "model_module": "@jupyter-widgets/base",
      "model_module_version": "1.2.0",
      "model_name": "LayoutModel",
      "state": {}
     },
     "4ead59ee58dc48ac8a4f10f4f6850b99": {
      "model_module": "@jupyter-widgets/base",
      "model_module_version": "1.2.0",
      "model_name": "LayoutModel",
      "state": {}
     },
     "525d86ffd8ee420483575d7ca5899b90": {
      "model_module": "@jupyter-widgets/base",
      "model_module_version": "1.2.0",
      "model_name": "LayoutModel",
      "state": {}
     },
     "5710c56d21f04a3589a793585ec30ec6": {
      "model_module": "@jupyter-widgets/controls",
      "model_module_version": "1.5.0",
      "model_name": "DescriptionStyleModel",
      "state": {
       "description_width": ""
      }
     },
     "57df0da70ca749d8976a3ff46fa6a768": {
      "model_module": "@jupyter-widgets/base",
      "model_module_version": "1.2.0",
      "model_name": "LayoutModel",
      "state": {}
     },
     "591d395b73ce4c5b844f8a1a8240ff04": {
      "model_module": "@jupyter-widgets/controls",
      "model_module_version": "1.5.0",
      "model_name": "TextModel",
      "state": {
       "description": "Filename: ",
       "layout": "IPY_MODEL_8fb7c92934ee4615944f5a3c0841a250",
       "style": "IPY_MODEL_9126affc2e394eccb7be35b09b04236f",
       "value": "screenshot.png"
      }
     },
     "70b79805fa9146729b65ff626d0fd4e1": {
      "model_module": "@jupyter-widgets/base",
      "model_module_version": "1.2.0",
      "model_name": "LayoutModel",
      "state": {}
     },
     "72490fb575c345b988dee01d86068ef1": {
      "model_module": "@jupyter-widgets/controls",
      "model_module_version": "1.5.0",
      "model_name": "HBoxModel",
      "state": {
       "children": [
        "IPY_MODEL_40dbb0751b2c427fba532c360ba299a2",
        "IPY_MODEL_c857ae6712cc4529acc2346f6fdc54c3"
       ],
       "layout": "IPY_MODEL_00f08222c6444d6f8b18a385bdd2732d"
      }
     },
     "778b4abd1f5e432e955734f636fe6284": {
      "model_module": "@jupyter-widgets/base",
      "model_module_version": "1.2.0",
      "model_name": "LayoutModel",
      "state": {}
     },
     "77fb403c51b04165a8db6fce2ab65045": {
      "model_module": "@jupyter-widgets/base",
      "model_module_version": "1.2.0",
      "model_name": "LayoutModel",
      "state": {}
     },
     "7c3c1f5aa2984f1e868689cef4f74b46": {
      "model_module": "@jupyter-widgets/base",
      "model_module_version": "1.2.0",
      "model_name": "LayoutModel",
      "state": {}
     },
     "7ecc5ac43c6e4dd4aaccdcbcdb5a8ad9": {
      "model_module": "@jupyter-widgets/controls",
      "model_module_version": "1.5.0",
      "model_name": "CheckboxModel",
      "state": {
       "description": "Show force",
       "disabled": false,
       "layout": "IPY_MODEL_4ead59ee58dc48ac8a4f10f4f6850b99",
       "style": "IPY_MODEL_8052412887f24c3d8350ccdebf46f3be",
       "value": false
      }
     },
     "8052412887f24c3d8350ccdebf46f3be": {
      "model_module": "@jupyter-widgets/controls",
      "model_module_version": "1.5.0",
      "model_name": "DescriptionStyleModel",
      "state": {
       "description_width": ""
      }
     },
     "86a27e438b0145c8b6ef9955d1ab584a": {
      "model_module": "@jupyter-widgets/base",
      "model_module_version": "1.2.0",
      "model_name": "LayoutModel",
      "state": {}
     },
     "8a23c66b5d054dd49dad71acc8692d32": {
      "model_module": "@jupyter-widgets/base",
      "model_module_version": "1.2.0",
      "model_name": "LayoutModel",
      "state": {}
     },
     "8f6e2874714e4eac84dc4051451082b6": {
      "model_module": "@jupyter-widgets/controls",
      "model_module_version": "1.5.0",
      "model_name": "SliderStyleModel",
      "state": {
       "description_width": ""
      }
     },
     "8fb7c92934ee4615944f5a3c0841a250": {
      "model_module": "@jupyter-widgets/base",
      "model_module_version": "1.2.0",
      "model_name": "LayoutModel",
      "state": {}
     },
     "9126affc2e394eccb7be35b09b04236f": {
      "model_module": "@jupyter-widgets/controls",
      "model_module_version": "1.5.0",
      "model_name": "DescriptionStyleModel",
      "state": {
       "description_width": ""
      }
     },
     "928ff723483742d592089cd08b0681fc": {
      "model_module": "@jupyter-widgets/controls",
      "model_module_version": "1.5.0",
      "model_name": "ImageModel",
      "state": {
       "layout": "IPY_MODEL_36da67c120994dbe971312136c99c2cb",
       "width": "900.0"
      }
     },
     "9eaa2ecbc71f4cc9b2b00d0af31b8d3f": {
      "model_module": "@jupyter-widgets/controls",
      "model_module_version": "1.5.0",
      "model_name": "IntSliderModel",
      "state": {
       "layout": "IPY_MODEL_33a2a66d8c6e4498bbe10e57df76e482",
       "style": "IPY_MODEL_8f6e2874714e4eac84dc4051451082b6"
      }
     },
     "adfbacb5a05a48e684870ced9e432326": {
      "model_module": "@jupyter-widgets/base",
      "model_module_version": "1.2.0",
      "model_name": "LayoutModel",
      "state": {}
     },
     "bbedf9fc5df4431c96025879aafe0ad4": {
      "model_module": "@jupyter-widgets/base",
      "model_module_version": "1.2.0",
      "model_name": "LayoutModel",
      "state": {}
     },
     "bc1e45cc1b204fdaaf9d61b27be6d12a": {
      "model_module": "@jupyter-widgets/controls",
      "model_module_version": "1.5.0",
      "model_name": "LinkModel",
      "state": {
       "source": [
        "IPY_MODEL_eb0802c2c04c41629f9b9bcd28ff5ddf",
        "value"
       ],
       "target": [
        "IPY_MODEL_ea3eaa5a9171478d8be494ead1c14ecf",
        "frame"
       ]
      }
     },
     "c05e5ff74ae54a83910fc3f34678ed2a": {
      "model_module": "@jupyter-widgets/controls",
      "model_module_version": "1.5.0",
      "model_name": "LinkModel",
      "state": {
       "source": [
        "IPY_MODEL_eb0802c2c04c41629f9b9bcd28ff5ddf",
        "value"
       ],
       "target": [
        "IPY_MODEL_15c40f93ee464d83805d8dd407b8bac0",
        "value"
       ]
      }
     },
     "c6d25cbe8a6842e1b2ba341927e420c8": {
      "model_module": "@jupyter-widgets/controls",
      "model_module_version": "1.5.0",
      "model_name": "DescriptionStyleModel",
      "state": {
       "description_width": ""
      }
     },
     "c857ae6712cc4529acc2346f6fdc54c3": {
      "model_module": "@jupyter-widgets/controls",
      "model_module_version": "1.5.0",
      "model_name": "ButtonModel",
      "state": {
       "description": "Save image",
       "layout": "IPY_MODEL_8a23c66b5d054dd49dad71acc8692d32",
       "style": "IPY_MODEL_16378e2ac77f45e99f5b6313ec459c18",
       "tooltip": "Save current frame to file.\nCurrently .png and .html are supported.\nIt takes a bit time, please be patient."
      }
     },
     "c9eb3a74979441869eaae2510ba0eabc": {
      "model_module": "@jupyter-widgets/controls",
      "model_module_version": "1.5.0",
      "model_name": "HBoxModel",
      "state": {
       "children": [
        "IPY_MODEL_eb0802c2c04c41629f9b9bcd28ff5ddf",
        "IPY_MODEL_15c40f93ee464d83805d8dd407b8bac0"
       ],
       "layout": "IPY_MODEL_bbedf9fc5df4431c96025879aafe0ad4"
      }
     },
     "cc4088ed59364915b2739e62b9683d73": {
      "model_module": "@jupyter-widgets/controls",
      "model_module_version": "1.5.0",
      "model_name": "FloatSliderModel",
      "state": {
       "description": "Force scale",
       "layout": "IPY_MODEL_d59cc746ac2445b18f3152548839d65f",
       "step": 0.1,
       "style": "IPY_MODEL_e0eea97ecb3d4a7fa352eceea0641862",
       "value": 0.5
      }
     },
     "d59cc746ac2445b18f3152548839d65f": {
      "model_module": "@jupyter-widgets/base",
      "model_module_version": "1.2.0",
      "model_name": "LayoutModel",
      "state": {}
     },
     "d79d0cad41964e25a5a0fe9069e7ff73": {
      "model_module": "@jupyter-widgets/controls",
      "model_module_version": "1.5.0",
      "model_name": "ButtonModel",
      "state": {
       "icon": "compress",
       "layout": "IPY_MODEL_14499eefa7604e3e8675c252cb6616ea",
       "style": "IPY_MODEL_298ab5b55bea4ce68d6e6ba082e0d7f6"
      }
     },
     "e0eea97ecb3d4a7fa352eceea0641862": {
      "model_module": "@jupyter-widgets/controls",
      "model_module_version": "1.5.0",
      "model_name": "SliderStyleModel",
      "state": {
       "description_width": ""
      }
     },
     "e31cba738e634cefa0a9baf6f5655f78": {
      "model_module": "@jupyter-widgets/controls",
      "model_module_version": "1.5.0",
      "model_name": "HBoxModel",
      "state": {
       "children": [
        "IPY_MODEL_ea3eaa5a9171478d8be494ead1c14ecf",
        "IPY_MODEL_1b60652ae41d450b87839e9528c9abf1"
       ],
       "layout": "IPY_MODEL_26bc847407af48928d19386515e00839"
      }
     },
     "e552ee5c079b40d0aa18ce0e92c66810": {
      "model_module": "@jupyter-widgets/controls",
      "model_module_version": "1.5.0",
      "model_name": "SliderStyleModel",
      "state": {
       "description_width": ""
      }
     },
     "ea3eaa5a9171478d8be494ead1c14ecf": {
      "model_module": "nglview-js-widgets",
      "model_module_version": "3.0.1",
      "model_name": "NGLModel",
      "state": {
       "_camera_orientation": [
        23.43574784938473,
        0,
        0,
        0,
        0,
        23.43574784938473,
        0,
        0,
        0,
        0,
        23.43574784938473,
        0,
        -5.375,
        -5.375,
        -5.375,
        1
       ],
       "_camera_str": "orthographic",
       "_gui_theme": null,
       "_ibtn_fullscreen": "IPY_MODEL_d79d0cad41964e25a5a0fe9069e7ff73",
       "_igui": null,
       "_iplayer": "IPY_MODEL_c9eb3a74979441869eaae2510ba0eabc",
       "_ngl_color_dict": {},
       "_ngl_coordinate_resource": {},
       "_ngl_full_stage_parameters": {
        "ambientColor": 14540253,
        "ambientIntensity": 0.2,
        "backgroundColor": "white",
        "cameraEyeSep": 0.3,
        "cameraFov": 40,
        "cameraType": "orthographic",
        "clipDist": 0,
        "clipFar": 100,
        "clipNear": 0,
        "fogFar": 100,
        "fogNear": 50,
        "hoverTimeout": 0,
        "impostor": true,
        "lightColor": 14540253,
        "lightIntensity": 1,
        "mousePreset": "default",
        "panSpeed": 1,
        "quality": "medium",
        "rotateSpeed": 2,
        "sampleLevel": 0,
        "tooltip": true,
        "workerDefault": true,
        "zoomSpeed": 1.2
       },
       "_ngl_msg_archive": [
        {
         "args": [
          {
           "binary": false,
           "data": "CRYST1   12.900   12.900   12.900  90.00  90.00  90.00 P 1\nMODEL     1\nATOM      1   Al MOL     1       0.000   0.000   0.000  1.00  0.00          AL  \nATOM      2   Al MOL     1       0.000   2.150   2.150  1.00  0.00          AL  \nATOM      3   Al MOL     1       2.150   0.000   2.150  1.00  0.00          AL  \nATOM      4   Al MOL     1       2.150   2.150   0.000  1.00  0.00          AL  \nATOM      5   Al MOL     1       0.000   0.000   4.300  1.00  0.00          AL  \nATOM      6   Al MOL     1       0.000   2.150   6.450  1.00  0.00          AL  \nATOM      7   Al MOL     1       2.150   0.000   6.450  1.00  0.00          AL  \nATOM      8   Al MOL     1       2.150   2.150   4.300  1.00  0.00          AL  \nATOM      9   Al MOL     1       0.000   0.000   8.600  1.00  0.00          AL  \nATOM     10   Al MOL     1       0.000   2.150  10.750  1.00  0.00          AL  \nATOM     11   Al MOL     1       2.150   0.000  10.750  1.00  0.00          AL  \nATOM     12   Al MOL     1       2.150   2.150   8.600  1.00  0.00          AL  \nATOM     13   Al MOL     1       0.000   4.300   0.000  1.00  0.00          AL  \nATOM     14   Al MOL     1       0.000   6.450   2.150  1.00  0.00          AL  \nATOM     15   Al MOL     1       2.150   4.300   2.150  1.00  0.00          AL  \nATOM     16   Al MOL     1       2.150   6.450   0.000  1.00  0.00          AL  \nATOM     17   Al MOL     1       0.000   4.300   4.300  1.00  0.00          AL  \nATOM     18   Al MOL     1       0.000   6.450   6.450  1.00  0.00          AL  \nATOM     19   Al MOL     1       2.150   4.300   6.450  1.00  0.00          AL  \nATOM     20   Al MOL     1       2.150   6.450   4.300  1.00  0.00          AL  \nATOM     21   Al MOL     1       0.000   4.300   8.600  1.00  0.00          AL  \nATOM     22   Al MOL     1       0.000   6.450  10.750  1.00  0.00          AL  \nATOM     23   Al MOL     1       2.150   4.300  10.750  1.00  0.00          AL  \nATOM     24   Al MOL     1       2.150   6.450   8.600  1.00  0.00          AL  \nATOM     25   Al MOL     1       0.000   8.600   0.000  1.00  0.00          AL  \nATOM     26   Al MOL     1       0.000  10.750   2.150  1.00  0.00          AL  \nATOM     27   Al MOL     1       2.150   8.600   2.150  1.00  0.00          AL  \nATOM     28   Al MOL     1       2.150  10.750   0.000  1.00  0.00          AL  \nATOM     29   Al MOL     1       0.000   8.600   4.300  1.00  0.00          AL  \nATOM     30   Al MOL     1       0.000  10.750   6.450  1.00  0.00          AL  \nATOM     31   Al MOL     1       2.150   8.600   6.450  1.00  0.00          AL  \nATOM     32   Al MOL     1       2.150  10.750   4.300  1.00  0.00          AL  \nATOM     33   Al MOL     1       0.000   8.600   8.600  1.00  0.00          AL  \nATOM     34   Al MOL     1       0.000  10.750  10.750  1.00  0.00          AL  \nATOM     35   Al MOL     1       2.150   8.600  10.750  1.00  0.00          AL  \nATOM     36   Al MOL     1       2.150  10.750   8.600  1.00  0.00          AL  \nATOM     37   Al MOL     1       4.300   0.000   0.000  1.00  0.00          AL  \nATOM     38   Al MOL     1       4.300   2.150   2.150  1.00  0.00          AL  \nATOM     39   Al MOL     1       6.450   0.000   2.150  1.00  0.00          AL  \nATOM     40   Al MOL     1       6.450   2.150   0.000  1.00  0.00          AL  \nATOM     41   Al MOL     1       4.300   0.000   4.300  1.00  0.00          AL  \nATOM     42   Al MOL     1       4.300   2.150   6.450  1.00  0.00          AL  \nATOM     43   Al MOL     1       6.450   0.000   6.450  1.00  0.00          AL  \nATOM     44   Al MOL     1       6.450   2.150   4.300  1.00  0.00          AL  \nATOM     45   Al MOL     1       4.300   0.000   8.600  1.00  0.00          AL  \nATOM     46   Al MOL     1       4.300   2.150  10.750  1.00  0.00          AL  \nATOM     47   Al MOL     1       6.450   0.000  10.750  1.00  0.00          AL  \nATOM     48   Al MOL     1       6.450   2.150   8.600  1.00  0.00          AL  \nATOM     49   Al MOL     1       4.300   4.300   0.000  1.00  0.00          AL  \nATOM     50   Al MOL     1       4.300   6.450   2.150  1.00  0.00          AL  \nATOM     51   Al MOL     1       6.450   4.300   2.150  1.00  0.00          AL  \nATOM     52   Al MOL     1       6.450   6.450   0.000  1.00  0.00          AL  \nATOM     53   Al MOL     1       4.300   4.300   4.300  1.00  0.00          AL  \nATOM     54   Al MOL     1       4.300   6.450   6.450  1.00  0.00          AL  \nATOM     55   Al MOL     1       6.450   4.300   6.450  1.00  0.00          AL  \nATOM     56   Al MOL     1       6.450   6.450   4.300  1.00  0.00          AL  \nATOM     57   Al MOL     1       4.300   4.300   8.600  1.00  0.00          AL  \nATOM     58   Al MOL     1       4.300   6.450  10.750  1.00  0.00          AL  \nATOM     59   Al MOL     1       6.450   4.300  10.750  1.00  0.00          AL  \nATOM     60   Al MOL     1       6.450   6.450   8.600  1.00  0.00          AL  \nATOM     61   Al MOL     1       4.300   8.600   0.000  1.00  0.00          AL  \nATOM     62   Al MOL     1       4.300  10.750   2.150  1.00  0.00          AL  \nATOM     63   Al MOL     1       6.450   8.600   2.150  1.00  0.00          AL  \nATOM     64   Al MOL     1       6.450  10.750   0.000  1.00  0.00          AL  \nATOM     65   Al MOL     1       4.300   8.600   4.300  1.00  0.00          AL  \nATOM     66   Al MOL     1       4.300  10.750   6.450  1.00  0.00          AL  \nATOM     67   Al MOL     1       6.450   8.600   6.450  1.00  0.00          AL  \nATOM     68   Al MOL     1       6.450  10.750   4.300  1.00  0.00          AL  \nATOM     69   Al MOL     1       4.300   8.600   8.600  1.00  0.00          AL  \nATOM     70   Al MOL     1       4.300  10.750  10.750  1.00  0.00          AL  \nATOM     71   Al MOL     1       6.450   8.600  10.750  1.00  0.00          AL  \nATOM     72   Al MOL     1       6.450  10.750   8.600  1.00  0.00          AL  \nATOM     73   Al MOL     1       8.600   0.000   0.000  1.00  0.00          AL  \nATOM     74   Al MOL     1       8.600   2.150   2.150  1.00  0.00          AL  \nATOM     75   Al MOL     1      10.750   0.000   2.150  1.00  0.00          AL  \nATOM     76   Al MOL     1      10.750   2.150   0.000  1.00  0.00          AL  \nATOM     77   Al MOL     1       8.600   0.000   4.300  1.00  0.00          AL  \nATOM     78   Al MOL     1       8.600   2.150   6.450  1.00  0.00          AL  \nATOM     79   Al MOL     1      10.750   0.000   6.450  1.00  0.00          AL  \nATOM     80   Al MOL     1      10.750   2.150   4.300  1.00  0.00          AL  \nATOM     81   Al MOL     1       8.600   0.000   8.600  1.00  0.00          AL  \nATOM     82   Al MOL     1       8.600   2.150  10.750  1.00  0.00          AL  \nATOM     83   Al MOL     1      10.750   0.000  10.750  1.00  0.00          AL  \nATOM     84   Al MOL     1      10.750   2.150   8.600  1.00  0.00          AL  \nATOM     85   Al MOL     1       8.600   4.300   0.000  1.00  0.00          AL  \nATOM     86   Al MOL     1       8.600   6.450   2.150  1.00  0.00          AL  \nATOM     87   Al MOL     1      10.750   4.300   2.150  1.00  0.00          AL  \nATOM     88   Al MOL     1      10.750   6.450   0.000  1.00  0.00          AL  \nATOM     89   Al MOL     1       8.600   4.300   4.300  1.00  0.00          AL  \nATOM     90   Al MOL     1       8.600   6.450   6.450  1.00  0.00          AL  \nATOM     91   Al MOL     1      10.750   4.300   6.450  1.00  0.00          AL  \nATOM     92   Al MOL     1      10.750   6.450   4.300  1.00  0.00          AL  \nATOM     93   Al MOL     1       8.600   4.300   8.600  1.00  0.00          AL  \nATOM     94   Al MOL     1       8.600   6.450  10.750  1.00  0.00          AL  \nATOM     95   Al MOL     1      10.750   4.300  10.750  1.00  0.00          AL  \nATOM     96   Al MOL     1      10.750   6.450   8.600  1.00  0.00          AL  \nATOM     97   Al MOL     1       8.600   8.600   0.000  1.00  0.00          AL  \nATOM     98   Al MOL     1       8.600  10.750   2.150  1.00  0.00          AL  \nATOM     99   Al MOL     1      10.750   8.600   2.150  1.00  0.00          AL  \nATOM    100   Al MOL     1      10.750  10.750   0.000  1.00  0.00          AL  \nATOM    101   Al MOL     1       8.600   8.600   4.300  1.00  0.00          AL  \nATOM    102   Al MOL     1       8.600  10.750   6.450  1.00  0.00          AL  \nATOM    103   Al MOL     1      10.750   8.600   6.450  1.00  0.00          AL  \nATOM    104   Al MOL     1      10.750  10.750   4.300  1.00  0.00          AL  \nATOM    105   Al MOL     1       8.600   8.600   8.600  1.00  0.00          AL  \nATOM    106   Al MOL     1       8.600  10.750  10.750  1.00  0.00          AL  \nATOM    107   Al MOL     1      10.750   8.600  10.750  1.00  0.00          AL  \nATOM    108   Al MOL     1      10.750  10.750   8.600  1.00  0.00          AL  \nENDMDL\n",
           "type": "blob"
          }
         ],
         "kwargs": {
          "defaultRepresentation": false,
          "ext": "pdb"
         },
         "methodName": "loadFile",
         "reconstruc_color_scheme": false,
         "target": "Stage",
         "type": "call_method"
        },
        {
         "args": [
          "500px",
          "500px"
         ],
         "kwargs": {},
         "methodName": "setSize",
         "reconstruc_color_scheme": false,
         "target": "Widget",
         "type": "call_method"
        },
        {
         "args": [
          "unitcell"
         ],
         "component_index": 0,
         "kwargs": {
          "sele": "all"
         },
         "methodName": "addRepresentation",
         "reconstruc_color_scheme": false,
         "target": "compList",
         "type": "call_method"
        },
        {
         "args": [
          "spacefill"
         ],
         "component_index": 0,
         "kwargs": {
          "sele": "all"
         },
         "methodName": "addRepresentation",
         "reconstruc_color_scheme": false,
         "target": "compList",
         "type": "call_method"
        },
        {
         "args": [],
         "kwargs": {
          "cameraType": "orthographic"
         },
         "methodName": "setParameters",
         "reconstruc_color_scheme": false,
         "target": "Stage",
         "type": "call_method"
        },
        {
         "args": [
          {
           "clipDist": 0
          }
         ],
         "kwargs": {},
         "methodName": "setParameters",
         "reconstruc_color_scheme": false,
         "target": "Widget",
         "type": "call_method"
        },
        {
         "args": [
          "spacefill",
          0
         ],
         "kwargs": {
          "colorScale": "rainbow",
          "colorScheme": "element",
          "radiusScale": 0.5,
          "radiusType": "covalent"
         },
         "methodName": "updateRepresentationsByName",
         "reconstruc_color_scheme": false,
         "target": "Widget",
         "type": "call_method"
        },
        {
         "args": [
          "this._Q = [[1.0, 0.0, 0.0], [0.0, 1.0, 0.0], [0.0, 0.0, 1.0]]\n    var tooltip = document.createElement('div');\n    Object.assign(tooltip.style, {\n      display: 'none',\n      position: 'fixed',\n      zIndex: 10,\n      pointerEvents: 'none',\n      backgroundColor: 'rgba( 0, 0, 0, 0.6 )',\n      color: 'lightgrey',\n      padding: '8px',\n      fontFamily: 'sans-serif'\n    });\n    document.body.appendChild(tooltip);\n\n    var that = this;\n    this.stage.mouseControls.remove('hoverPick');\n    this.stage.signals.hovered.add(function (pickingProxy) {\n      if (pickingProxy && (pickingProxy.atom || pickingProxy.bond)) {\n        var atom = pickingProxy.atom || pickingProxy.closestBondAtom\n        var mp = pickingProxy.mouse.position\n        //tooltip.innerText = atom.element + ' i=' + atom.index + ' (' + atom.x.toFixed(2) +  ', ' + atom.y.toFixed(2) +  ', ' + atom.z.toFixed(2) + ')'\n        //var pos = that._atoms_pos[atom.index]\n        var Q = that._Q\n        var pos_x = Q[0][0] * atom.x + Q[0][1] * atom.y + Q[0][2] * atom.z \n        var pos_y = Q[1][0] * atom.x + Q[1][1] * atom.y + Q[1][2] * atom.z\n        var pos_z = Q[2][0] * atom.x + Q[2][1] * atom.y + Q[2][2] * atom.z\n        tooltip.innerText = 'i=' + atom.index + ' ' + atom.element + ' (' + pos_x.toFixed(2) +  ', ' + pos_y.toFixed(2) +  ', ' + pos_z.toFixed(2) + ')'\n        tooltip.style.bottom = window.innerHeight - mp.y + 3 + 'px'\n        tooltip.style.left = mp.x + 3 + 'px'\n        tooltip.style.display = 'block'\n      } else {\n        tooltip.style.display = 'none'\n      }\n    });\n    this.stage.tooltip = tooltip;\n    "
         ],
         "kwargs": {},
         "methodName": "executeCode",
         "reconstruc_color_scheme": false,
         "target": "Widget",
         "type": "call_method"
        },
        {
         "args": [
          "this._Q = [[1.0, 0.0, 0.0], [0.0, 1.0, 0.0], [0.0, 0.0, 1.0]]"
         ],
         "kwargs": {},
         "methodName": "executeCode",
         "reconstruc_color_scheme": false,
         "target": "Widget",
         "type": "call_method"
        },
        {
         "args": [
          "this._Q = [[1.0, 0.0, 0.0], [0.0, 1.0, 0.0], [0.0, 0.0, 1.0]]"
         ],
         "kwargs": {},
         "methodName": "executeCode",
         "reconstruc_color_scheme": false,
         "target": "Widget",
         "type": "call_method"
        },
        {
         "args": [
          "this._Q = [[1.0, 0.0, 0.0], [0.0, 1.0, 0.0], [0.0, 0.0, 1.0]]"
         ],
         "kwargs": {},
         "methodName": "executeCode",
         "reconstruc_color_scheme": false,
         "target": "Widget",
         "type": "call_method"
        },
        {
         "args": [
          "this._Q = [[1.0, 0.0, 0.0], [0.0, 1.0, 0.0], [0.0, 0.0, 1.0]]"
         ],
         "kwargs": {},
         "methodName": "executeCode",
         "reconstruc_color_scheme": false,
         "target": "Widget",
         "type": "call_method"
        },
        {
         "args": [
          "this._Q = [[1.0, 0.0, 0.0], [0.0, 1.0, 0.0], [0.0, 0.0, 1.0]]"
         ],
         "kwargs": {},
         "methodName": "executeCode",
         "reconstruc_color_scheme": false,
         "target": "Widget",
         "type": "call_method"
        },
        {
         "args": [
          "this._Q = [[1.0, 0.0, 0.0], [0.0, 1.0, 0.0], [0.0, 0.0, 1.0]]"
         ],
         "kwargs": {},
         "methodName": "executeCode",
         "reconstruc_color_scheme": false,
         "target": "Widget",
         "type": "call_method"
        },
        {
         "args": [
          "this._Q = [[1.0, 0.0, 0.0], [0.0, 1.0, 0.0], [0.0, 0.0, 1.0]]"
         ],
         "kwargs": {},
         "methodName": "executeCode",
         "reconstruc_color_scheme": false,
         "target": "Widget",
         "type": "call_method"
        },
        {
         "args": [
          "this._Q = [[1.0, 0.0, 0.0], [0.0, 1.0, 0.0], [0.0, 0.0, 1.0]]"
         ],
         "kwargs": {},
         "methodName": "executeCode",
         "reconstruc_color_scheme": false,
         "target": "Widget",
         "type": "call_method"
        },
        {
         "args": [
          "this._Q = [[1.0, 0.0, 0.0], [0.0, 1.0, 0.0], [0.0, 0.0, 1.0]]"
         ],
         "kwargs": {},
         "methodName": "executeCode",
         "reconstruc_color_scheme": false,
         "target": "Widget",
         "type": "call_method"
        },
        {
         "args": [
          "this._Q = [[1.0, 0.0, 0.0], [0.0, 1.0, 0.0], [0.0, 0.0, 1.0]]"
         ],
         "kwargs": {},
         "methodName": "executeCode",
         "reconstruc_color_scheme": false,
         "target": "Widget",
         "type": "call_method"
        },
        {
         "args": [
          "this._Q = [[1.0, 0.0, 0.0], [0.0, 1.0, 0.0], [0.0, 0.0, 1.0]]"
         ],
         "kwargs": {},
         "methodName": "executeCode",
         "reconstruc_color_scheme": false,
         "target": "Widget",
         "type": "call_method"
        },
        {
         "args": [
          "this._Q = [[1.0, 0.0, 0.0], [0.0, 1.0, 0.0], [0.0, 0.0, 1.0]]"
         ],
         "kwargs": {},
         "methodName": "executeCode",
         "reconstruc_color_scheme": false,
         "target": "Widget",
         "type": "call_method"
        },
        {
         "args": [
          "this._Q = [[1.0, 0.0, 0.0], [0.0, 1.0, 0.0], [0.0, 0.0, 1.0]]"
         ],
         "kwargs": {},
         "methodName": "executeCode",
         "reconstruc_color_scheme": false,
         "target": "Widget",
         "type": "call_method"
        },
        {
         "args": [
          "this._Q = [[1.0, 0.0, 0.0], [0.0, 1.0, 0.0], [0.0, 0.0, 1.0]]"
         ],
         "kwargs": {},
         "methodName": "executeCode",
         "reconstruc_color_scheme": false,
         "target": "Widget",
         "type": "call_method"
        },
        {
         "args": [
          "this._Q = [[1.0, 0.0, 0.0], [0.0, 1.0, 0.0], [0.0, 0.0, 1.0]]"
         ],
         "kwargs": {},
         "methodName": "executeCode",
         "reconstruc_color_scheme": false,
         "target": "Widget",
         "type": "call_method"
        },
        {
         "args": [
          "this._Q = [[1.0, 0.0, 0.0], [0.0, 1.0, 0.0], [0.0, 0.0, 1.0]]"
         ],
         "kwargs": {},
         "methodName": "executeCode",
         "reconstruc_color_scheme": false,
         "target": "Widget",
         "type": "call_method"
        },
        {
         "args": [
          "this._Q = [[1.0, 0.0, 0.0], [0.0, 1.0, 0.0], [0.0, 0.0, 1.0]]"
         ],
         "kwargs": {},
         "methodName": "executeCode",
         "reconstruc_color_scheme": false,
         "target": "Widget",
         "type": "call_method"
        },
        {
         "args": [
          "this._Q = [[1.0, 0.0, 0.0], [0.0, 1.0, 0.0], [0.0, 0.0, 1.0]]"
         ],
         "kwargs": {},
         "methodName": "executeCode",
         "reconstruc_color_scheme": false,
         "target": "Widget",
         "type": "call_method"
        },
        {
         "args": [
          "this._Q = [[1.0, 0.0, 0.0], [0.0, 1.0, 0.0], [0.0, 0.0, 1.0]]"
         ],
         "kwargs": {},
         "methodName": "executeCode",
         "reconstruc_color_scheme": false,
         "target": "Widget",
         "type": "call_method"
        },
        {
         "args": [
          "this._Q = [[1.0, 0.0, 0.0], [0.0, 1.0, 0.0], [0.0, 0.0, 1.0]]"
         ],
         "kwargs": {},
         "methodName": "executeCode",
         "reconstruc_color_scheme": false,
         "target": "Widget",
         "type": "call_method"
        },
        {
         "args": [
          "this._Q = [[1.0, 0.0, 0.0], [0.0, 1.0, 0.0], [0.0, 0.0, 1.0]]"
         ],
         "kwargs": {},
         "methodName": "executeCode",
         "reconstruc_color_scheme": false,
         "target": "Widget",
         "type": "call_method"
        },
        {
         "args": [
          "this._Q = [[1.0, 0.0, 0.0], [0.0, 1.0, 0.0], [0.0, 0.0, 1.0]]"
         ],
         "kwargs": {},
         "methodName": "executeCode",
         "reconstruc_color_scheme": false,
         "target": "Widget",
         "type": "call_method"
        },
        {
         "args": [
          "this._Q = [[1.0, 0.0, 0.0], [0.0, 1.0, 0.0], [0.0, 0.0, 1.0]]"
         ],
         "kwargs": {},
         "methodName": "executeCode",
         "reconstruc_color_scheme": false,
         "target": "Widget",
         "type": "call_method"
        },
        {
         "args": [
          "this._Q = [[1.0, 0.0, 0.0], [0.0, 1.0, 0.0], [0.0, 0.0, 1.0]]"
         ],
         "kwargs": {},
         "methodName": "executeCode",
         "reconstruc_color_scheme": false,
         "target": "Widget",
         "type": "call_method"
        },
        {
         "args": [
          "this._Q = [[1.0, 0.0, 0.0], [0.0, 1.0, 0.0], [0.0, 0.0, 1.0]]"
         ],
         "kwargs": {},
         "methodName": "executeCode",
         "reconstruc_color_scheme": false,
         "target": "Widget",
         "type": "call_method"
        },
        {
         "args": [
          "this._Q = [[1.0, 0.0, 0.0], [0.0, 1.0, 0.0], [0.0, 0.0, 1.0]]"
         ],
         "kwargs": {},
         "methodName": "executeCode",
         "reconstruc_color_scheme": false,
         "target": "Widget",
         "type": "call_method"
        }
       ],
       "_ngl_original_stage_parameters": {
        "ambientColor": 14540253,
        "ambientIntensity": 0.2,
        "backgroundColor": "white",
        "cameraEyeSep": 0.3,
        "cameraFov": 40,
        "cameraType": "perspective",
        "clipDist": 10,
        "clipFar": 100,
        "clipNear": 0,
        "fogFar": 100,
        "fogNear": 50,
        "hoverTimeout": 0,
        "impostor": true,
        "lightColor": 14540253,
        "lightIntensity": 1,
        "mousePreset": "default",
        "panSpeed": 1,
        "quality": "medium",
        "rotateSpeed": 2,
        "sampleLevel": 0,
        "tooltip": true,
        "workerDefault": true,
        "zoomSpeed": 1.2
       },
       "_ngl_repr_dict": {
        "0": {
         "0": {
          "params": {
           "clipCenter": {
            "x": 0,
            "y": 0,
            "z": 0
           },
           "clipNear": 0,
           "clipRadius": 0,
           "colorMode": "hcl",
           "colorReverse": false,
           "colorScale": "",
           "colorScheme": "element",
           "colorValue": "orange",
           "defaultAssembly": "",
           "depthWrite": true,
           "diffuse": 16777215,
           "diffuseInterior": false,
           "disableImpostor": false,
           "disablePicking": false,
           "flatShaded": false,
           "interiorColor": 2236962,
           "interiorDarkening": 0,
           "lazy": false,
           "matrix": {
            "elements": [
             1,
             0,
             0,
             0,
             0,
             1,
             0,
             0,
             0,
             0,
             1,
             0,
             0,
             0,
             0,
             1
            ]
           },
           "metalness": 0,
           "opacity": 1,
           "quality": "medium",
           "radialSegments": 10,
           "radiusData": {},
           "radiusScale": 1,
           "radiusSize": 0.0644999971687006,
           "radiusType": "vdw",
           "roughness": 0.4,
           "sele": "all",
           "side": "double",
           "sphereDetail": 1,
           "useInteriorColor": true,
           "visible": true,
           "wireframe": false
          },
          "type": "unitcell"
         },
         "1": {
          "params": {
           "assembly": "default",
           "clipCenter": {
            "x": 0,
            "y": 0,
            "z": 0
           },
           "clipNear": 0,
           "clipRadius": 0,
           "colorMode": "hcl",
           "colorReverse": false,
           "colorScale": "rainbow",
           "colorScheme": "element",
           "colorValue": 9474192,
           "defaultAssembly": "",
           "depthWrite": true,
           "diffuse": 16777215,
           "diffuseInterior": false,
           "disableImpostor": false,
           "disablePicking": false,
           "flatShaded": false,
           "interiorColor": 2236962,
           "interiorDarkening": 0,
           "lazy": false,
           "matrix": {
            "elements": [
             1,
             0,
             0,
             0,
             0,
             1,
             0,
             0,
             0,
             0,
             1,
             0,
             0,
             0,
             0,
             1
            ]
           },
           "metalness": 0,
           "opacity": 1,
           "quality": "medium",
           "radiusData": {},
           "radiusScale": 0.5,
           "radiusSize": 1,
           "radiusType": "covalent",
           "roughness": 0.4,
           "sele": "all",
           "side": "double",
           "sphereDetail": 1,
           "useInteriorColor": true,
           "visible": true,
           "wireframe": false
          },
          "type": "spacefill"
         }
        }
       },
       "_ngl_serialize": false,
       "_ngl_version": "2.0.0-dev.36",
       "_ngl_view_id": [
        "6BBF3B39-2207-4EC0-AFE7-E83C4B1B633E"
       ],
       "_player_dict": {},
       "_scene_position": {},
       "_scene_rotation": {},
       "_synced_model_ids": [],
       "_synced_repr_model_ids": [],
       "_view_height": "",
       "_view_width": "",
       "background": "white",
       "frame": 100,
       "gui_style": null,
       "layout": "IPY_MODEL_70b79805fa9146729b65ff626d0fd4e1",
       "max_frame": 100,
       "n_components": 1,
       "picked": {}
      }
     },
     "eb0802c2c04c41629f9b9bcd28ff5ddf": {
      "model_module": "@jupyter-widgets/controls",
      "model_module_version": "1.5.0",
      "model_name": "PlayModel",
      "state": {
       "layout": "IPY_MODEL_77fb403c51b04165a8db6fce2ab65045",
       "style": "IPY_MODEL_f656f05040f840b09c31afe7e03c7c4d",
       "value": 100
      }
     },
     "eb1325c4494743c3b97e50761501fc48": {
      "model_module": "@jupyter-widgets/base",
      "model_module_version": "1.2.0",
      "model_name": "LayoutModel",
      "state": {
       "border": "0px solid black"
      }
     },
     "efd1634389be48c38545e7cb889ab6e3": {
      "model_module": "nglview-js-widgets",
      "model_module_version": "3.0.1",
      "model_name": "ColormakerRegistryModel",
      "state": {
       "_msg_ar": [],
       "_msg_q": [],
       "_ready": true,
       "layout": "IPY_MODEL_1252862787764b6a8c307ba01c345f31"
      }
     },
     "f4054517766d433c83ff45979c334938": {
      "model_module": "@jupyter-widgets/controls",
      "model_module_version": "1.5.0",
      "model_name": "SliderStyleModel",
      "state": {
       "description_width": ""
      }
     },
     "f656f05040f840b09c31afe7e03c7c4d": {
      "model_module": "@jupyter-widgets/controls",
      "model_module_version": "1.5.0",
      "model_name": "DescriptionStyleModel",
      "state": {
       "description_width": ""
      }
     },
     "f9579be0f7224db3bf4a73c85fbec1b0": {
      "model_module": "@jupyter-widgets/controls",
      "model_module_version": "1.5.0",
      "model_name": "FloatSliderModel",
      "state": {
       "description": "Charge scale",
       "layout": "IPY_MODEL_4b6bdacb4512412fbb97310538632141",
       "step": 0.1,
       "style": "IPY_MODEL_e552ee5c079b40d0aa18ce0e92c66810",
       "value": 1
      }
     }
    },
    "version_major": 2,
    "version_minor": 0
   }
  }
 },
 "nbformat": 4,
 "nbformat_minor": 5
}
