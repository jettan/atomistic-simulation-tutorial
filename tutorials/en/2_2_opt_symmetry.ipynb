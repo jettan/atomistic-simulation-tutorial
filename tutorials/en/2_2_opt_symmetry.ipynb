{
 "cells": [
  {
   "cell_type": "markdown",
   "id": "cbf2632c-128c-4392-861f-a3fa5dd18b9e",
   "metadata": {},
   "source": [
    "# [Advanced] Structural optimization with symmetry\n",
    "\n",
    "In the previous section, we learned the most primitive application of structural optimization. In this section, we will learn how to perform structural optimization while preserving the symmetry of the system. ASE has a method to handle space groups by using the constraints class `FixSymmetry`.\n",
    "\n",
    " - [Using the spacegroup subpackage](https://databases.fysik.dtu.dk/ase/ase/spacegroup/spacegroup.html)\n",
    " - [FixSymmetry Constraints](https://wiki.fysik.dtu.dk/ase/ase/constraints.html#the-fixsymmetry-class)\n",
    "\n",
    "This section includes some advanced contents; those who wish to hurry to the next section may skip it and read it later."
   ]
  },
  {
   "cell_type": "markdown",
   "id": "80a83fd5-217f-4b50-81ef-4af6afba3797",
   "metadata": {},
   "source": [
    "## BaTiO$_3$ optimization\n",
    "\n",
    "Let us look at a concrete example before going into the details of [space groups](https://en.wikipedia.org/wiki/Space_group) and what we mean by \"symmetry\" in this section.\n",
    "\n",
    "Here we will look at a structural optimization example of a material with a [perovskite](https://en.wikipedia.org/wiki/Perovskite_(structure)) structure BaTiO$_3$ (barium titanate).\n",
    "\n",
    "BaTiO$_3$ is an artificial mineral used as a dielectric material for ceramic laminated capacitors because of its high relative permittivity. \n",
    "It takes a [tetragonal](https://en.wikipedia.org/wiki/Tetragonal_crystal_system) crystal system at room temperature. For more information, please refer to the following page.\n",
    "\n",
    " - [Barium titanate - Wikipedia](https://en.wikipedia.org/wiki/Barium_titanate)\n",
    "\n",
    "The structure file is obtained from Materials Project.\n",
    "\n",
    " - https://materialsproject.org/materials/mp-5986/\n",
    "\n"
   ]
  },
  {
   "cell_type": "markdown",
   "id": "13cc75d6-8c4d-4559-b67e-ca629cd6309c",
   "metadata": {},
   "source": [
    "Input cif file is from  \n",
    "A. Jain*, S.P. Ong*, G. Hautier, W. Chen, W.D. Richards, S. Dacek, S. Cholia, D. Gunter, D. Skinner, G. Ceder, K.A. Persson (*=equal contributions)  \n",
    "The Materials Project: A materials genome approach to accelerating materials innovation\n",
    "APL Materials, 2013, 1(1), 011002.  \n",
    "[doi:10.1063/1.4812323](http://dx.doi.org/10.1063/1.4812323)  \n",
    "[[bibtex]](https://materialsproject.org/static/docs/jain_ong2013.349ca3156250.bib)  \n",
    "Licensed under [CC BY 4.0](https://creativecommons.org/licenses/by/4.0/)  "
   ]
  },
  {
   "cell_type": "markdown",
   "id": "d2c4f787-0b75-48bf-a6bb-730c8beece5d",
   "metadata": {},
   "source": [
    "The following cells of BaTiO$_3$ with the tetragonal structure are $a = b \\neq c$, $\\alpha = \\beta = \\gamma = $ 90°.\n",
    "($a = b = c$, $\\alpha = \\beta = \\gamma = $ 90° case is called [cubic](https://en.wikipedia.org/wiki/Cubic_crystal_system))"
   ]
  },
  {
   "cell_type": "code",
   "execution_count": 1,
   "id": "f8500176-baf8-47af-9063-ca2063311501",
   "metadata": {},
   "outputs": [
    {
     "data": {
      "application/vnd.jupyter.widget-view+json": {
       "model_id": "a25aaa87ad7047ba9e5986b4c85db39f",
       "version_major": 2,
       "version_minor": 0
      },
      "text/plain": []
     },
     "metadata": {},
     "output_type": "display_data"
    },
    {
     "name": "stdout",
     "output_type": "stream",
     "text": [
      "BaTiO3 (Tetragonal): cell = [ 4.004457  4.004457  4.200636 90.       90.       90.      ]\n"
     ]
    },
    {
     "data": {
      "application/vnd.jupyter.widget-view+json": {
       "model_id": "c4206ad7aa3741bfadf94bfc21e0bcfc",
       "version_major": 2,
       "version_minor": 0
      },
      "text/plain": [
       "HBox(children=(NGLWidget(), VBox(children=(Dropdown(description='Show', options=('All', 'Ba', 'Ti', 'O'), valu…"
      ]
     },
     "metadata": {},
     "output_type": "display_data"
    }
   ],
   "source": [
    "from ase.io import read\n",
    "from pfcc_extras.visualize.view import view_ngl\n",
    "\n",
    "bto_tetra = read(\"../input/BaTiO3_mp-5986_computed.cif\")\n",
    "print(f\"BaTiO3 (Tetragonal): cell = {bto_tetra.cell.cellpar()}\")\n",
    "view_ngl(bto_tetra, representations=[])"
   ]
  },
  {
   "cell_type": "code",
   "execution_count": 2,
   "id": "68b6e3ca-149f-4496-bdf9-b73d8b86ef83",
   "metadata": {},
   "outputs": [
    {
     "data": {
      "application/vnd.jupyter.widget-view+json": {
       "model_id": "100c4a3818a9494bb0a1b57dbc5764b1",
       "version_major": 2,
       "version_minor": 0
      },
      "text/plain": [
       "HBox(children=(NGLWidget(), VBox(children=(Dropdown(description='Show', options=('All', 'Ba', 'Ti', 'O'), valu…"
      ]
     },
     "metadata": {},
     "output_type": "display_data"
    }
   ],
   "source": [
    "view_ngl(bto_tetra * (4, 4, 4), representations=[])"
   ]
  },
  {
   "cell_type": "markdown",
   "id": "e83b9ed0-ba0e-412e-95c8-be71f28a63a1",
   "metadata": {},
   "source": [
    "The `get_scaled_positions` method can be used to obtain the relative coordinates of each atom in the unit cell, rather than the absolute coordinates. (That is, a coordinate scale such that `[0, 0, 0]` is the origin and `[1, 1, 1]` is the point at the opposite end of the unit cell.)\n",
    "\n",
    "If you check the `scaled_positions` in this structure, you will see that we have taken a rounded number, such as `0` or `0.5`, for the xy coordinates."
   ]
  },
  {
   "cell_type": "code",
   "execution_count": 3,
   "id": "fb60bf89-9084-41de-83a2-11a1c9954403",
   "metadata": {},
   "outputs": [
    {
     "data": {
      "text/plain": [
       "array([[0.5     , 0.5     , 0.004136],\n",
       "       [0.      , 0.      , 0.524313],\n",
       "       [0.      , 0.5     , 0.479349],\n",
       "       [0.5     , 0.      , 0.479349],\n",
       "       [0.      , 0.      , 0.958854]])"
      ]
     },
     "execution_count": 3,
     "metadata": {},
     "output_type": "execute_result"
    }
   ],
   "source": [
    "bto_tetra.get_scaled_positions()"
   ]
  },
  {
   "cell_type": "markdown",
   "id": "a064ee5b-1978-4276-ae4d-9ee0532f1c5d",
   "metadata": {},
   "source": [
    "Let's try to optimize the structure in the following four ways for this structure,\n",
    "\n",
    " - With or without `FixSymmetry` as described in this section\n",
    " - `ExpCellFilter`'s `hydrostatic_strain` argument is `True` or `False`, which was described in the previous section."
   ]
  },
  {
   "cell_type": "code",
   "execution_count": 4,
   "id": "db05ecda-17c9-4d0d-ae0c-ce57cfe96027",
   "metadata": {},
   "outputs": [],
   "source": [
    "import pfp_api_client\n",
    "from pfp_api_client.pfp.calculators.ase_calculator import ASECalculator\n",
    "from pfp_api_client.pfp.estimator import Estimator, EstimatorCalcMode\n",
    "\n",
    "\n",
    "estimator = Estimator(calc_mode=EstimatorCalcMode.CRYSTAL, model_version=\"v3.0.0\")\n",
    "calculator = ASECalculator(estimator)"
   ]
  },
  {
   "cell_type": "markdown",
   "id": "6c12cb20-a01e-4b1c-9017-89b7a79831e0",
   "metadata": {},
   "source": [
    "Potential energy before structural optimization is"
   ]
  },
  {
   "cell_type": "code",
   "execution_count": 5,
   "id": "1b53fc66-b49e-4dd0-aa57-a94e9e06b385",
   "metadata": {},
   "outputs": [
    {
     "name": "stdout",
     "output_type": "stream",
     "text": [
      "Epot before opt: -31.542818813863008 eV\n"
     ]
    }
   ],
   "source": [
    "bto_tetra.calc = calculator\n",
    "Epot = bto_tetra.get_potential_energy()\n",
    "print(f\"Epot before opt: {Epot} eV\")"
   ]
  },
  {
   "cell_type": "code",
   "execution_count": 6,
   "id": "e3fe1612-9403-473c-8c1a-c0164177415b",
   "metadata": {},
   "outputs": [],
   "source": [
    "from ase import Atoms\n",
    "from ase.calculators.calculator import Calculator\n",
    "from ase.constraints import ExpCellFilter\n",
    "from ase.optimize import FIRE\n",
    "from ase.spacegroup.symmetrize import FixSymmetry\n",
    "\n",
    "\n",
    "def opt_with_symmetry(\n",
    "    atoms_in: Atoms,\n",
    "    calculator: Calculator,\n",
    "    fix_symmetry: bool = False,\n",
    "    hydrostatic_strain: bool = False,\n",
    ") -> Atoms:\n",
    "    atoms = atoms_in.copy()\n",
    "    atoms.calc = calculator\n",
    "    if fix_symmetry:\n",
    "        atoms.set_constraint([FixSymmetry(atoms)])\n",
    "    ecf = ExpCellFilter(atoms, hydrostatic_strain=hydrostatic_strain)\n",
    "    opt = FIRE(ecf, logfile=None)\n",
    "    opt.run(fmax=0.005)\n",
    "\n",
    "    cell_diff = (atoms.cell.cellpar() / atoms_in.cell.cellpar() - 1.0) * 100\n",
    "    print(\"Optimized Cell         :\", atoms.cell.cellpar())\n",
    "    print(\"Optimized Cell diff (%):\", cell_diff)\n",
    "    print(\"Scaled positions       :\\n\", atoms.get_scaled_positions())\n",
    "    print(f\"Epot after opt: {atoms.get_potential_energy()} eV\")\n",
    "    return atoms\n"
   ]
  },
  {
   "cell_type": "markdown",
   "id": "36a73e80-a860-4570-84aa-cbe98ada2c1d",
   "metadata": {},
   "source": [
    "### 1. No FixSymmetry, hydrostatic_strain=False\n",
    "\n",
    "The crystal axes a, b, c, $\\alpha, \\beta, \\gamma$ are all optimized independently, so you can see that the tetragonal symmetry is broken as the angles shift from 90°, although only slightly. \n",
    "The atomic coordinates are also moving freely."
   ]
  },
  {
   "cell_type": "code",
   "execution_count": 7,
   "id": "1478789c-ac7d-4ee2-a69a-0c0e6619d8f7",
   "metadata": {},
   "outputs": [
    {
     "name": "stdout",
     "output_type": "stream",
     "text": [
      "Optimized Cell         : [ 3.99934991  3.99934982  4.22621746 90.00000994 90.00000837 90.00000107]\n",
      "Optimized Cell diff (%): [-1.27535259e-01 -1.27537269e-01  6.08990103e-01  1.10453455e-05\n",
      "  9.29705164e-06  1.19096881e-06]\n",
      "Scaled positions       :\n",
      " [[4.99999920e-01 4.99999909e-01 8.53169005e-03]\n",
      " [9.99999548e-01 9.99999434e-01 5.26177450e-01]\n",
      " [1.49386373e-07 5.00000394e-01 4.77548106e-01]\n",
      " [5.00000316e-01 1.84395770e-07 4.77548103e-01]\n",
      " [6.64640304e-08 7.87764049e-08 9.56195652e-01]]\n",
      "Epot after opt: -31.54351621192014 eV\n"
     ]
    }
   ],
   "source": [
    "atoms1 = opt_with_symmetry(bto_tetra, calculator, fix_symmetry=False, hydrostatic_strain=False)"
   ]
  },
  {
   "cell_type": "markdown",
   "id": "67d0dcd3-4572-4bea-92bc-d442b7cc50e0",
   "metadata": {},
   "source": [
    "### 2. Apply FixSymmetry, hydrostatic_strain=False\n",
    "\n",
    "The tetragonal symmetry of $a = b \\neq c$, $\\alpha = \\beta = \\gamma = $ 90° is well preserved.\n",
    "Also, we can see that the `scaled_positions` of the xy-coordinates also keep a number such as `0` or `0.5` (except for very small numerical errors). <br/>\n",
    "This means that the relationship between sites imposed by the symmetry P 4 m m described below is preserved.\n",
    "This is **the desired result for this structural optimization**."
   ]
  },
  {
   "cell_type": "code",
   "execution_count": 8,
   "id": "4aac8c33-170f-4499-ad0d-11ec87d555f1",
   "metadata": {},
   "outputs": [
    {
     "name": "stdout",
     "output_type": "stream",
     "text": [
      "Optimized Cell         : [ 3.9993494   3.9993494   4.22621846 90.         90.         90.        ]\n",
      "Optimized Cell diff (%): [-0.12754789 -0.12754789  0.60901392  0.          0.          0.        ]\n",
      "Scaled positions       :\n",
      " [[5.00000000e-01 5.00000000e-01 8.53179182e-03]\n",
      " [0.00000000e+00 0.00000000e+00 5.26177512e-01]\n",
      " [5.73971851e-42 5.00000000e-01 4.77548063e-01]\n",
      " [5.00000000e-01 1.50487754e-36 4.77548063e-01]\n",
      " [0.00000000e+00 0.00000000e+00 9.56195570e-01]]\n",
      "Epot after opt: -31.543510083303296 eV\n"
     ]
    }
   ],
   "source": [
    "atoms2 = opt_with_symmetry(bto_tetra, calculator, fix_symmetry=True, hydrostatic_strain=False)"
   ]
  },
  {
   "cell_type": "markdown",
   "id": "b6f8d659-c14c-497f-a157-f1616c857e5b",
   "metadata": {},
   "source": [
    "### 3. No FixSymmetry, hydrostatic_strain=True\n",
    "\n",
    "If `hydrostatic_strain=True`, the optimization preserves the ratio of lattice lengths and angles because it applies isotropic pressure.\n",
    "As you can see in the \"Optimized Cell diff (%)\" section, the angle is still 90°, but the a, b, and c axes are all optimized with the same ratio.\n",
    "As a result, the optimization of the structure extending in the direction of the c-axis has not progressed to a minimum value. (Compared to the cases 1 and 2, the structural optimization ends with a large value of `Epot`.)\n",
    "\n",
    "Since the atomic coordinates are free to move, the `scaled_positions` of the xy-coordinates have moved from a number such as `0` or `0.5`."
   ]
  },
  {
   "cell_type": "code",
   "execution_count": 9,
   "id": "d0c5ce40-7078-4771-9d2a-354e41ca0aa4",
   "metadata": {},
   "outputs": [
    {
     "name": "stdout",
     "output_type": "stream",
     "text": [
      "Optimized Cell         : [ 4.00530277  4.00530277  4.2015232  90.         90.         90.        ]\n",
      "Optimized Cell diff (%): [0.02112064 0.02112064 0.02112064 0.         0.         0.        ]\n",
      "Scaled positions       :\n",
      " [[4.99999992e-01 5.00000004e-01 7.02002071e-03]\n",
      " [9.99999942e-01 9.99999999e-01 5.24653406e-01]\n",
      " [2.01465415e-08 4.99999999e-01 4.78119738e-01]\n",
      " [5.00000038e-01 9.99999993e-01 4.78119730e-01]\n",
      " [9.01485177e-09 5.38367868e-09 9.58088105e-01]]\n",
      "Epot after opt: -31.543333405214426 eV\n"
     ]
    }
   ],
   "source": [
    "atoms3 = opt_with_symmetry(bto_tetra, calculator, fix_symmetry=False, hydrostatic_strain=True)"
   ]
  },
  {
   "cell_type": "markdown",
   "id": "0a96db0b-ddef-4d30-ac82-63da5f0fe6c4",
   "metadata": {},
   "source": [
    "### 4. Apply FixSymmetry, hydrostatic_strain=True\n",
    "\n",
    "For cells, the results are similar to those in 3. \n",
    "The constraint of maintaining the lattice length ratio and lattice angle as `hydrostatic_strain=True` is more stringent than those imposed by only `FixSymmetry`.\n",
    "For atomic coordinates, the `FixSymmetry` constraints keep the `scaled_positions` of the xy coordinates to `0` or `0.5`."
   ]
  },
  {
   "cell_type": "code",
   "execution_count": 10,
   "id": "f609f635-05cf-4214-a155-20a989183f8c",
   "metadata": {},
   "outputs": [
    {
     "name": "stdout",
     "output_type": "stream",
     "text": [
      "Optimized Cell         : [ 4.00530315  4.00530315  4.2015236  90.         90.         90.        ]\n",
      "Optimized Cell diff (%): [0.02113023 0.02113023 0.02113023 0.         0.         0.        ]\n",
      "Scaled positions       :\n",
      " [[5.00000000e-01 5.00000000e-01 7.01995348e-03]\n",
      " [3.36311631e-44 1.23314265e-42 5.24653379e-01]\n",
      " [0.00000000e+00 5.00000000e-01 4.78119772e-01]\n",
      " [5.00000000e-01 3.47522019e-43 4.78119772e-01]\n",
      " [0.00000000e+00 1.12103877e-44 9.58088123e-01]]\n",
      "Epot after opt: -31.543335242781215 eV\n"
     ]
    }
   ],
   "source": [
    "atoms4 = opt_with_symmetry(bto_tetra, calculator, fix_symmetry=True, hydrostatic_strain=True)"
   ]
  },
  {
   "cell_type": "markdown",
   "id": "2a9b4752-b844-4f40-a907-42ce195c495d",
   "metadata": {},
   "source": [
    "### Summary\n",
    "\n",
    "The results can be summarized as the below table.\n",
    "\n",
    "| Case | `FixSymmetry` | `hydtrostatic_strain` | Result |\n",
    "|:------|:------:|:---------:|:---------|\n",
    "| 1 |  | | Cell angles, etc., change slightly because symmetry is not taken into account. |\n",
    "| 2 | ✓ |  | <b>The desired result.</b>Structural optimization can be performed while maintaining the symmetry of a tetragonal crystal. <br/> The relationship between the atomic coordinate sites is also properly constrained. |\n",
    "| 3 |  | ✓ | Since all a, b, and c axes are optimized in the same ratio, the structural optimization in the c-axis direction is not sufficient. <br/> Atomic coordinates also move freely. |\n",
    "| 4 | ✓ | ✓ | Cell is similar to 3. The relationship of sites in atomic coordinates is subject to constraints. |\n",
    "\n",
    "**The symmetry is a \"lattice vector & equivalent site relationship\" (a=b, α=β=γ=90°, etc.)**, and using `FixSymmetry` allows structural optimization to be performed while preserving this symmetry. \n",
    "More precisely, structural optimization is performed only with displacements that preserve the **space group** to which the initial structure belongs.\n",
    "In the following, we will explain the definition of symmetry, i.e., the space group."
   ]
  },
  {
   "cell_type": "markdown",
   "id": "cb133d6d-666a-4dd5-b792-4c41d55d07a8",
   "metadata": {},
   "source": [
    "## Space group (spacegroup)\n",
    "\n",
    "It is known that there are a total of **230 types** of patterns that can be taken by crystal structures that take regular pattern in three-dimensional space with periodic boundary conditions, which are called space groups. All crystals belong to one of the 230 space groups.\n",
    "\n",
    " - [Space group](https://en.wikipedia.org/wiki/Space_group)\n",
    "\n",
    "For a list of 230 species of space groups, you can check the following sites\n",
    "\n",
    " - [High-Resolution Space Group Diagrams and Tables](http://img.chem.ucl.ac.uk/sgp/large/sgp.htm)\n",
    "\n",
    "\n",
    "The space group of `atoms` can be specified by using `get_spacegroup` in ASE."
   ]
  },
  {
   "cell_type": "markdown",
   "id": "83daf427-2722-45cd-9426-e4c118990c3b",
   "metadata": {},
   "source": [
    "[Note]\n",
    "\n",
    "The library `spglib` is used internally in the `get_spacegroup` method. <br/>\n",
    "`spglib` is a library that determines the space group from unit cell and atomic coordinate information.\n",
    "\n",
    " - [Spglib Document](https://spglib.github.io/spglib/)\n",
    " - [github](https://github.com/spglib/spglib)\n",
    " - \"`Spglib`: a software library for crystal symmetry search\", Atsushi Togo and Isao Tanaka, https://arxiv.org/abs/1808.01590\n"
   ]
  },
  {
   "cell_type": "markdown",
   "id": "f36f2d1f-8d49-464d-bd63-c7a38c81b536",
   "metadata": {},
   "source": [
    "Let's determine the space group for this BaTiO3 tetragonal structure."
   ]
  },
  {
   "cell_type": "code",
   "execution_count": 11,
   "id": "f8b7d233-fa2b-4ba5-a9b0-f80ad84d95ab",
   "metadata": {},
   "outputs": [
    {
     "data": {
      "text/plain": [
       "Spacegroup(99, setting=1)"
      ]
     },
     "execution_count": 11,
     "metadata": {},
     "output_type": "execute_result"
    }
   ],
   "source": [
    "from ase.spacegroup import get_spacegroup\n",
    "\n",
    "sg = get_spacegroup(bto_tetra)\n",
    "sg"
   ]
  },
  {
   "cell_type": "markdown",
   "id": "a2417e7f-5720-40f0-a22a-82c970a24a4c",
   "metadata": {},
   "source": [
    "The following information can be obtained from the `Spacegroup` class, \n",
    "\n",
    " - `no`: Number of space group\n",
    " - `symbol`: [Hermann-Mauguin](https://en.wikipedia.org/wiki/Hermann%E2%80%93Mauguin_notation) notation. (Note that [Schoenflies](https://en.wikipedia.org/wiki/Schoenflies_notation) is the another famous notation.)\n",
    " - `lattice`: Lattice type. `P` is simple lattice, `I` body centered, `F` face centered, etc.\n",
    " - `scaled_primitive_cell`: Standardized primitive cell.\n",
    " - `reciprocal_cell`: Reciprocal cell."
   ]
  },
  {
   "cell_type": "code",
   "execution_count": 12,
   "id": "50abac4a-e5d4-4d8e-bee7-aa9e796bdbc8",
   "metadata": {},
   "outputs": [
    {
     "data": {
      "text/plain": [
       "ase.spacegroup.spacegroup.Spacegroup"
      ]
     },
     "execution_count": 12,
     "metadata": {},
     "output_type": "execute_result"
    }
   ],
   "source": [
    "type(sg)"
   ]
  },
  {
   "cell_type": "code",
   "execution_count": 13,
   "id": "775ade43-4542-491f-aab7-7e48d3875d4a",
   "metadata": {},
   "outputs": [
    {
     "name": "stdout",
     "output_type": "stream",
     "text": [
      "no      :  99\n",
      "symbol  :  P 4 m m\n",
      "lattice :  P\n",
      "scaled_primitive_cell: \n",
      " [[1. 0. 0.]\n",
      " [0. 1. 0.]\n",
      " [0. 0. 1.]]\n",
      "reciprocal_cell      : \n",
      " [[1 0 0]\n",
      " [0 1 0]\n",
      " [0 0 1]]\n"
     ]
    }
   ],
   "source": [
    "print(\"no      : \", sg.no)\n",
    "print(\"symbol  : \", sg.symbol)\n",
    "print(\"lattice : \", sg.lattice)\n",
    "print(\"scaled_primitive_cell: \\n\", sg.scaled_primitive_cell)\n",
    "print(\"reciprocal_cell      : \\n\", sg.reciprocal_cell)"
   ]
  },
  {
   "cell_type": "markdown",
   "id": "fce8bb6d-724e-445a-b684-902cd371b702",
   "metadata": {},
   "source": [
    "This BaTiO$_3$ structure was determined to be the 99th `P 4 m m` space group.\n",
    "\n",
    " - P4mm: http://img.chem.ucl.ac.uk/sgp/large/099az1.htm\n",
    "\n",
    "The space group specifies the possible symmetry operations (such as translation, rotation, mirror image flips, and glide) that do not change its crystal structure. <br/>\n",
    "The details of the theory of space group, including how to read symbols, are out of the scope of this tutorial. Please refer to the references at the end of this document for those who wish to learn more.\n",
    "\n",
    "In this tutorial, we will try to give an intuitive explanation of what space groups are by visualizing them.\n",
    "`P 4 m m` is a space group with 4-fold rotational symmetry (invariant to transformations that rotate it 90 degrees along the z-axis) and mirror-reversal symmetry with respect to the xz-plane and yz-plane.\n",
    "\n",
    "For a given atomic configuration, the \"equivalent sites\" imposed by this symmetry can be calculated with the method `equivalent_lattice_points`.\n",
    "Let us calculate and display the equivalent sites for a point (`[0.3, 0.1, 0.6]`) as follows."
   ]
  },
  {
   "cell_type": "code",
   "execution_count": 14,
   "id": "5bce760d-d610-4564-85e4-9d07c2a0086c",
   "metadata": {},
   "outputs": [
    {
     "name": "stdout",
     "output_type": "stream",
     "text": [
      "sites [[0.3 0.1 0.6]\n",
      " [0.7 0.9 0.6]\n",
      " [0.9 0.3 0.6]\n",
      " [0.1 0.7 0.6]\n",
      " [0.3 0.9 0.6]\n",
      " [0.7 0.1 0.6]\n",
      " [0.9 0.7 0.6]\n",
      " [0.1 0.3 0.6]]\n"
     ]
    },
    {
     "data": {
      "application/vnd.jupyter.widget-view+json": {
       "model_id": "fa3430ffc0af4e47b6a64f03fa05c180",
       "version_major": 2,
       "version_minor": 0
      },
      "text/plain": [
       "HBox(children=(NGLWidget(), VBox(children=(Dropdown(description='Show', options=('All', 'C'), value='All'), Dr…"
      ]
     },
     "metadata": {},
     "output_type": "display_data"
    }
   ],
   "source": [
    "sites, kinds = sg.equivalent_sites([[0.3, 0.1, 0.6]])\n",
    "print(\"sites\", sites)\n",
    "\n",
    "p4mm_atoms = Atoms(symbols=\"C8\", scaled_positions=sites, cell=[5, 5, 5], pbc=True)\n",
    "view_ngl(p4mm_atoms)"
   ]
  },
  {
   "cell_type": "markdown",
   "id": "0c4b53ce-6d9d-43ce-8f76-26f955ed6fa9",
   "metadata": {},
   "source": [
    "Thus, we can see that a total of 8 points are listed as equivalent sites, including points obtained by rotating 90 degrees along the z-axis from `[0.3, 0.1, 0.6]` and by performing a mirror image flip from those points to the xz-plane/yz-plane.\n",
    "\n",
    "Let us look again at the structure of BaTiO$_3$."
   ]
  },
  {
   "cell_type": "code",
   "execution_count": 15,
   "id": "a7f34962-f21f-42c9-a3ff-ac1030f3a7ef",
   "metadata": {},
   "outputs": [
    {
     "data": {
      "application/vnd.jupyter.widget-view+json": {
       "model_id": "1370f55947d6482c83e187bbd22549cd",
       "version_major": 2,
       "version_minor": 0
      },
      "text/plain": [
       "HBox(children=(NGLWidget(), VBox(children=(Dropdown(description='Show', options=('All', 'Ba', 'Ti', 'O'), valu…"
      ]
     },
     "metadata": {},
     "output_type": "display_data"
    }
   ],
   "source": [
    "view_ngl(bto_tetra)"
   ]
  },
  {
   "cell_type": "code",
   "execution_count": 16,
   "id": "57852d8d-7094-4c63-8977-af8a521fe4ad",
   "metadata": {},
   "outputs": [
    {
     "data": {
      "image/png": "[encoded data removed]",
      "text/plain": [
       "<Figure size 400x400 with 1 Axes>"
      ]
     },
     "metadata": {},
     "output_type": "display_data"
    }
   ],
   "source": [
    "from pfcc_extras.visualize.ase import view_ase_atoms\n",
    "\n",
    "view_ase_atoms(bto_tetra, figsize=(4, 4), title=\"BaTiO3 tetragonal atoms\", scale=100, rotation=\"0x,0y,0z\")"
   ]
  },
  {
   "cell_type": "markdown",
   "id": "b3084063-d9ad-4270-b711-1f73201e911e",
   "metadata": {},
   "source": [
    "As for the BaTiO$_3$ structure in this case:\n",
    "\n",
    "For Ba at `index=0`, Ti at `index=1`, and O at `index=4`, the only equivalent site is themselves since they move to the same location after rotation or mirror image inversion, except for a unit cell shift.\n",
    "The O structures at `index 2` and `3` are found to be equivalent sites to each other due to 4-fold rotational symmetry."
   ]
  },
  {
   "cell_type": "code",
   "execution_count": 17,
   "id": "f8239bda-0ddf-4de6-b388-3cc4ed10e711",
   "metadata": {},
   "outputs": [
    {
     "name": "stdout",
     "output_type": "stream",
     "text": [
      "0 Ba (array([[0.5     , 0.5     , 0.004136]]), [0])\n",
      "1 Ti (array([[0.      , 0.      , 0.524313]]), [0])\n",
      "2 O (array([[0.      , 0.5     , 0.479349],\n",
      "       [0.5     , 0.      , 0.479349]]), [0, 0])\n",
      "3 O (array([[0.5     , 0.      , 0.479349],\n",
      "       [0.      , 0.5     , 0.479349]]), [0, 0])\n",
      "4 O (array([[0.      , 0.      , 0.958854]]), [0])\n"
     ]
    }
   ],
   "source": [
    "spos = bto_tetra.get_scaled_positions()\n",
    "symbols = bto_tetra.symbols\n",
    "\n",
    "for i in range(len(spos)):\n",
    "    print(i, symbols[i], sg.equivalent_sites(spos[i]))    "
   ]
  },
  {
   "cell_type": "markdown",
   "id": "b38312bf-1701-447e-83a4-e29a3542dd4b",
   "metadata": {},
   "source": [
    "Finally, we will try to determine the space group for each of the four structures after structural optimization in this tutorial.\n",
    "\n",
    "The `symprec` argument of the `get_spacegroup` method allows you to set a tolerance for the shift of each atom's coordinates when making the symmetry determination.\n",
    "In this case, the default value of `symprec=1e-5` resulted in `P 4 m m`, so we set a strictly smaller value to determine the space group."
   ]
  },
  {
   "cell_type": "code",
   "execution_count": 18,
   "id": "74421e53-6a00-4829-863d-e64c372d7fb6",
   "metadata": {},
   "outputs": [
    {
     "name": "stdout",
     "output_type": "stream",
     "text": [
      "atoms1:  P 1\n",
      "atoms2:  P 4 m m\n",
      "atoms3:  P 1\n",
      "atoms4:  P 4 m m\n"
     ]
    }
   ],
   "source": [
    "symprec = 1e-10\n",
    "\n",
    "print(\"atoms1: \", get_spacegroup(atoms1, symprec=symprec).symbol)\n",
    "print(\"atoms2: \", get_spacegroup(atoms2, symprec=symprec).symbol)\n",
    "print(\"atoms3: \", get_spacegroup(atoms3, symprec=symprec).symbol)\n",
    "print(\"atoms4: \", get_spacegroup(atoms4, symprec=symprec).symbol)"
   ]
  },
  {
   "cell_type": "markdown",
   "id": "fb26b4fd-d5ed-4012-b8f3-b9098f9f4d1c",
   "metadata": {},
   "source": [
    "Thus, `atoms2` and `atoms4` with `FixSymmetry` are `P 4 m m` **preserving the space group**, but\n",
    "`atoms1` and `atoms3` have broken the space group and are now at `P 1`, which is the least symmetric.\n",
    "\n",
    " - 1  P1  : http://img.chem.ucl.ac.uk/sgp/large/001az1.htm\n",
    " - 99 P4mm: http://img.chem.ucl.ac.uk/sgp/large/099az1.htm"
   ]
  },
  {
   "cell_type": "markdown",
   "id": "3d979b8e-5e64-4b13-9f46-14ec60089a27",
   "metadata": {},
   "source": [
    "## Bravais lattice\n",
    "\n",
    "Now that we have explained the space group, we will explain a related concept, the Bravais lattice.\n",
    "\n",
    " - [Crystal structure - Wikipedia](https://en.wikipedia.org/wiki/Crystal_structure)\n",
    " - [Bravais lattice - Wikipedia](https://en.wikipedia.org/wiki/Bravais_lattice)\n",
    " - https://wiki.fysik.dtu.dk/ase/ase/lattice.html\n",
    " \n",
    "The space group is a symmetry that depends on both the cell and atomic configuration of the atoms, whereas the Bravais lattice is determined from the cells only.\n",
    "Bravais lattices are known to be one of the following **14 types**.\n",
    "These 14 types are also illustrated in the Wikipedia link above."
   ]
  },
  {
   "cell_type": "code",
   "execution_count": 19,
   "id": "4e0dabe7-bccc-45d6-82c7-5726a975e321",
   "metadata": {},
   "outputs": [
    {
     "name": "stdout",
     "output_type": "stream",
     "text": [
      " 1. CUB: primitive cubic , cubic\n",
      " 2. FCC: face-centred cubic , cubic\n",
      " 3. BCC: body-centred cubic , cubic\n",
      " 4. TET: primitive tetragonal , tetragonal\n",
      " 5. BCT: body-centred tetragonal , tetragonal\n",
      " 6. HEX: primitive hexagonal , hexagonal\n",
      " 7. RHL: primitive rhombohedral , hexagonal\n",
      " 8. ORC: primitive orthorhombic , orthorhombic\n",
      " 9. ORCF: face-centred orthorhombic , orthorhombic\n",
      "10. ORCI: body-centred orthorhombic , orthorhombic\n",
      "11. ORCC: base-centred orthorhombic , orthorhombic\n",
      "12. MCL : primitive monoclinic , monoclinic\n",
      "13. MCLC: base-centred monoclinic , monoclinic\n",
      "14. TRI : primitive triclinic , triclinic\n"
     ]
    }
   ],
   "source": [
    "from ase.lattice import CUB, FCC, BCC, TET, BCT, HEX, RHL, ORC, ORCF, ORCI, ORCC, MCL, MCLC, TRI\n",
    "\n",
    "print(\" 1. CUB:\", CUB.longname, \",\", CUB.crystal_family)\n",
    "print(\" 2. FCC:\", FCC.longname, \",\", FCC.crystal_family)\n",
    "print(\" 3. BCC:\", BCC.longname, \",\", BCC.crystal_family)\n",
    "print(\" 4. TET:\", TET.longname, \",\", TET.crystal_family)\n",
    "print(\" 5. BCT:\", BCT.longname, \",\", BCT.crystal_family)\n",
    "print(\" 6. HEX:\", HEX.longname, \",\", HEX.crystal_family)\n",
    "print(\" 7. RHL:\", RHL.longname, \",\", RHL.crystal_family)\n",
    "print(\" 8. ORC:\", ORC.longname, \",\", ORC.crystal_family)\n",
    "print(\" 9. ORCF:\", ORCF.longname, \",\", ORCF.crystal_family)\n",
    "print(\"10. ORCI:\", ORCI.longname, \",\", ORCI.crystal_family)\n",
    "print(\"11. ORCC:\", ORCC.longname, \",\", ORCC.crystal_family)\n",
    "print(\"12. MCL :\", MCL.longname, \",\", MCL.crystal_family)\n",
    "print(\"13. MCLC:\", MCLC.longname, \",\", MCLC.crystal_family)\n",
    "print(\"14. TRI :\", TRI.longname, \",\", TRI.crystal_family)"
   ]
  },
  {
   "cell_type": "markdown",
   "id": "3f029d39-ad14-4df8-aba6-50f7f910ece7",
   "metadata": {},
   "source": [
    "In ASE, the `get_bravais_lattice` method can be used to determine the bravais lattice."
   ]
  },
  {
   "cell_type": "code",
   "execution_count": 20,
   "id": "b9ed68d5-016f-438e-b9d9-b2c286777fad",
   "metadata": {},
   "outputs": [
    {
     "data": {
      "text/plain": [
       "TET(a=4.0044570000000003773, c=4.2006360000000002586)"
      ]
     },
     "execution_count": 20,
     "metadata": {},
     "output_type": "execute_result"
    }
   ],
   "source": [
    "bto_tetra.cell.get_bravais_lattice()"
   ]
  },
  {
   "cell_type": "markdown",
   "id": "ddc6bb6c-6477-40bc-88df-39c494c3b25f",
   "metadata": {
    "tags": []
   },
   "source": [
    "For the tetragonal BaTiO3 structure, TET was obtained as expected.\n",
    "\n",
    "It is important to note that the cell must be a primitive cell.\n",
    "\n",
    "When you create a Fe BCC structure and use `get_bravais_lattice`, if you specify a unit cell, it returns BCC as expected, but if we made a structure with cubic unit cell with `cubic=True`, CUB is returned."
   ]
  },
  {
   "cell_type": "code",
   "execution_count": 21,
   "id": "5003fd2a-4864-475e-b54f-17baf7a1b4b4",
   "metadata": {},
   "outputs": [
    {
     "data": {
      "image/png": "[encoded data removed]",
      "text/plain": [
       "<Figure size 400x400 with 1 Axes>"
      ]
     },
     "metadata": {},
     "output_type": "display_data"
    }
   ],
   "source": [
    "from ase.build import bulk\n",
    "from pfcc_extras.visualize.ase import view_ase_atoms\n",
    "\n",
    "fe_bcc = bulk(\"Fe\")\n",
    "view_ase_atoms(fe_bcc, figsize=(4, 4), title=\"Fe BCC atoms\", scale=100, rotation=\"0x,0y,0z\")"
   ]
  },
  {
   "cell_type": "code",
   "execution_count": 22,
   "id": "352e0a28-f401-4221-9a6e-48c7bf540047",
   "metadata": {},
   "outputs": [],
   "source": [
    "# view_ngl(fe_bcc)"
   ]
  },
  {
   "cell_type": "code",
   "execution_count": 23,
   "id": "10b73c14-29e4-46b6-9956-cf7c18f4edb9",
   "metadata": {},
   "outputs": [
    {
     "name": "stdout",
     "output_type": "stream",
     "text": [
      "fe_bcc Bravais lattice: BCC(a=2.87)\n",
      "fe_bcc cell           : Cell([[-1.435, 1.435, 1.435], [1.435, -1.435, 1.435], [1.435, 1.435, -1.435]])\n"
     ]
    }
   ],
   "source": [
    "print(\"fe_bcc Bravais lattice:\", fe_bcc.cell.get_bravais_lattice())\n",
    "print(\"fe_bcc cell           :\", fe_bcc.cell)"
   ]
  },
  {
   "cell_type": "code",
   "execution_count": 24,
   "id": "d8df02e5-4fb4-416a-a0f0-30f132e97bc1",
   "metadata": {},
   "outputs": [
    {
     "data": {
      "image/png": "[encoded data removed]",
      "text/plain": [
       "<Figure size 400x400 with 1 Axes>"
      ]
     },
     "metadata": {},
     "output_type": "display_data"
    }
   ],
   "source": [
    "fe_cubic = bulk(\"Fe\", cubic=True)\n",
    "view_ase_atoms(fe_cubic, figsize=(4, 4), title=\"Fe BCC cubic=True\", scale=100, rotation=\"0x,0y,0z\")"
   ]
  },
  {
   "cell_type": "code",
   "execution_count": 25,
   "id": "97681d3c-90e8-4153-980f-e71490ff8353",
   "metadata": {},
   "outputs": [],
   "source": [
    "# view_ngl(fe_cubic)"
   ]
  },
  {
   "cell_type": "code",
   "execution_count": 26,
   "id": "d6c7d713-2aa9-4fe7-917c-61f3e35460c1",
   "metadata": {},
   "outputs": [
    {
     "name": "stdout",
     "output_type": "stream",
     "text": [
      "fe_cubic Bravais lattice: CUB(a=2.87)\n",
      "fe_cubic cell           : Cell([2.87, 2.87, 2.87])\n"
     ]
    }
   ],
   "source": [
    "print(\"fe_cubic Bravais lattice:\", fe_cubic.cell.get_bravais_lattice())\n",
    "print(\"fe_cubic cell           :\", fe_cubic.cell)"
   ]
  },
  {
   "cell_type": "markdown",
   "id": "c60e780c-b566-4c74-b424-81d60835a1f2",
   "metadata": {},
   "source": [
    "## Reference\n",
    "\n",
    "If you would like to learn more about space groups, the following reference will be helpful.\n",
    "\n",
    " - \"Space Groups for Solid State Scientists\", Michael Glazer and Gerald Burns."
   ]
  }
 ],
 "metadata": {
  "kernelspec": {
   "display_name": "Python 3.8",
   "language": "python",
   "name": "python38"
  },
  "language_info": {
   "codemirror_mode": {
    "name": "ipython",
    "version": 3
   },
   "file_extension": ".py",
   "mimetype": "text/x-python",
   "name": "python",
   "nbconvert_exporter": "python",
   "pygments_lexer": "ipython3",
   "version": "3.8.13"
  },
  "widgets": {
   "application/vnd.jupyter.widget-state+json": {
    "state": {
     "00b12f39b0c549c19a0e5b5e5f656fe6": {
      "model_module": "@jupyter-widgets/base",
      "model_module_version": "1.2.0",
      "model_name": "LayoutModel",
      "state": {}
     },
     "036beff6937440ab97914ac753ebde0b": {
      "model_module": "@jupyter-widgets/base",
      "model_module_version": "1.2.0",
      "model_name": "LayoutModel",
      "state": {}
     },
     "03ba62cd4b7f4f1e8bcb98025f8cd792": {
      "model_module": "@jupyter-widgets/base",
      "model_module_version": "1.2.0",
      "model_name": "LayoutModel",
      "state": {}
     },
     "0611540b299449c39c9b066b132c7f6c": {
      "model_module": "@jupyter-widgets/controls",
      "model_module_version": "1.5.0",
      "model_name": "DescriptionStyleModel",
      "state": {
       "description_width": ""
      }
     },
     "076a373417c84d3ab0bb3afa00cc9c0d": {
      "model_module": "@jupyter-widgets/controls",
      "model_module_version": "1.5.0",
      "model_name": "DescriptionStyleModel",
      "state": {
       "description_width": ""
      }
     },
     "0ac2ec57e6df4c5394f6c45dbef12179": {
      "model_module": "@jupyter-widgets/base",
      "model_module_version": "1.2.0",
      "model_name": "LayoutModel",
      "state": {}
     },
     "0b448dd24d8f4164989a57ef55eaeb10": {
      "model_module": "@jupyter-widgets/controls",
      "model_module_version": "1.5.0",
      "model_name": "TextModel",
      "state": {
       "description": "Filename: ",
       "layout": "IPY_MODEL_0f10fed8db0d4594ac6470c98eb11d6f",
       "style": "IPY_MODEL_41d631b2b0b04aaea9f6976f8ed1786f",
       "value": "screenshot.png"
      }
     },
     "0cd701aa2a0546429b10fb26b3272896": {
      "model_module": "@jupyter-widgets/controls",
      "model_module_version": "1.5.0",
      "model_name": "ButtonStyleModel",
      "state": {}
     },
     "0db4bfa5ccb040da8dca99a4ac91d5d0": {
      "model_module": "@jupyter-widgets/controls",
      "model_module_version": "1.5.0",
      "model_name": "SliderStyleModel",
      "state": {
       "description_width": ""
      }
     },
     "0df51236dc4f4b5485e494efd8250105": {
      "model_module": "@jupyter-widgets/controls",
      "model_module_version": "1.5.0",
      "model_name": "LinkModel",
      "state": {
       "source": [
        "IPY_MODEL_25c67ff625424016a46df8b9eb723f46",
        "max"
       ],
       "target": [
        "IPY_MODEL_7535ac6aa8924c109b059ad989e96fb3",
        "max_frame"
       ]
      }
     },
     "0e27ad5199b6478eb2f41d9cf96f0327": {
      "model_module": "@jupyter-widgets/controls",
      "model_module_version": "1.5.0",
      "model_name": "FloatSliderModel",
      "state": {
       "description": "Force scale",
       "layout": "IPY_MODEL_f452775e7a734b31ba1c72b73434782f",
       "step": 0.1,
       "style": "IPY_MODEL_9d8ec3fe40cf463d898b34d79d0bcf30",
       "value": 0.5
      }
     },
     "0f10fed8db0d4594ac6470c98eb11d6f": {
      "model_module": "@jupyter-widgets/base",
      "model_module_version": "1.2.0",
      "model_name": "LayoutModel",
      "state": {}
     },
     "100c4a3818a9494bb0a1b57dbc5764b1": {
      "model_module": "@jupyter-widgets/controls",
      "model_module_version": "1.5.0",
      "model_name": "HBoxModel",
      "state": {
       "children": [
        "IPY_MODEL_2f182067b0814253b01b102c5a356d79",
        "IPY_MODEL_1373488aa52447118a0ac725e05c9d70"
       ],
       "layout": "IPY_MODEL_4c96375c3c98441b86b068f4b19ebb38"
      }
     },
     "10162797ce9e4ca5bf10e247005d6004": {
      "model_module": "@jupyter-widgets/controls",
      "model_module_version": "1.5.0",
      "model_name": "DescriptionStyleModel",
      "state": {
       "description_width": ""
      }
     },
     "1018fbc2ca7b42c6894919edcb168401": {
      "model_module": "@jupyter-widgets/controls",
      "model_module_version": "1.5.0",
      "model_name": "LinkModel",
      "state": {
       "source": [
        "IPY_MODEL_54b330a168e44f2ab9eac391ff55380f",
        "max"
       ],
       "target": [
        "IPY_MODEL_2f182067b0814253b01b102c5a356d79",
        "max_frame"
       ]
      }
     },
     "11f7bf20155a412d8b704d330d0f3c32": {
      "model_module": "@jupyter-widgets/base",
      "model_module_version": "1.2.0",
      "model_name": "LayoutModel",
      "state": {}
     },
     "1370f55947d6482c83e187bbd22549cd": {
      "model_module": "@jupyter-widgets/controls",
      "model_module_version": "1.5.0",
      "model_name": "HBoxModel",
      "state": {
       "children": [
        "IPY_MODEL_2eaac4d65c1440a99b9c973b3ca1d7c6",
        "IPY_MODEL_cccfd253081b43a4a254af94c6e084f9"
       ],
       "layout": "IPY_MODEL_f70416f975d94240b93aea8373efb526"
      }
     },
     "1373488aa52447118a0ac725e05c9d70": {
      "model_module": "@jupyter-widgets/controls",
      "model_module_version": "1.5.0",
      "model_name": "VBoxModel",
      "state": {
       "children": [
        "IPY_MODEL_a2af7ba1e8b3470695b2a43b26bece39",
        "IPY_MODEL_3f8568a0379b4c8aaa49ddc1a1714b41",
        "IPY_MODEL_352d13381a484c289bb0c13a029c41e8",
        "IPY_MODEL_0b448dd24d8f4164989a57ef55eaeb10",
        "IPY_MODEL_78450402f55b461eb55241366d4a0fa6",
        "IPY_MODEL_9a9e6bc2e39d454aade1269dc8b51f3f",
        "IPY_MODEL_0e27ad5199b6478eb2f41d9cf96f0327",
        "IPY_MODEL_e82732a18c014369955192b5c3095bef",
        "IPY_MODEL_77738b62e9d841a49e52057b9936b4f8",
        "IPY_MODEL_b991d6b52d3e43df83c251795f0bb414"
       ],
       "layout": "IPY_MODEL_798607b0c946452f84779d67720342c4"
      }
     },
     "152739d7f6f94ce7be93784c85f8b21e": {
      "model_module": "@jupyter-widgets/controls",
      "model_module_version": "1.5.0",
      "model_name": "ButtonModel",
      "state": {
       "description": "Save image",
       "layout": "IPY_MODEL_a31f1d87d1614bf6bbe727d40bd82bc5",
       "style": "IPY_MODEL_50005df72ece4d21a0361560e904bbdd",
       "tooltip": "Save current frame to file.\nCurrently .png and .html are supported.\nIt takes a bit time, please be patient."
      }
     },
     "15dcd50362a642cc955a9fa8c41261f6": {
      "model_module": "@jupyter-widgets/controls",
      "model_module_version": "1.5.0",
      "model_name": "DescriptionStyleModel",
      "state": {
       "description_width": ""
      }
     },
     "1c931adea79146418c3636e97d39d750": {
      "model_module": "@jupyter-widgets/controls",
      "model_module_version": "1.5.0",
      "model_name": "DescriptionStyleModel",
      "state": {
       "description_width": ""
      }
     },
     "1ca23bb86ad64b6c8af1dc75db6506fe": {
      "model_module": "@jupyter-widgets/controls",
      "model_module_version": "1.5.0",
      "model_name": "HBoxModel",
      "state": {
       "children": [
        "IPY_MODEL_25c67ff625424016a46df8b9eb723f46",
        "IPY_MODEL_230e9fb1576f484e96d60c92eae8728d"
       ],
       "layout": "IPY_MODEL_91f8ec12227649d49db7fb0558994f0b"
      }
     },
     "1cbf534beed4468b979098bf9b47070d": {
      "model_module": "@jupyter-widgets/controls",
      "model_module_version": "1.5.0",
      "model_name": "SliderStyleModel",
      "state": {
       "description_width": ""
      }
     },
     "1d3f8345646c4f6cab8eef434347e740": {
      "model_module": "@jupyter-widgets/controls",
      "model_module_version": "1.5.0",
      "model_name": "LinkModel",
      "state": {
       "source": [
        "IPY_MODEL_26132b1852414d19a7cc50931814c3bd",
        "value"
       ],
       "target": [
        "IPY_MODEL_54b330a168e44f2ab9eac391ff55380f",
        "value"
       ]
      }
     },
     "1e223ffc114f4861a234274927147b1c": {
      "model_module": "@jupyter-widgets/base",
      "model_module_version": "1.2.0",
      "model_name": "LayoutModel",
      "state": {}
     },
     "218f7a4b61154b0f9f30b0ee025c04cb": {
      "model_module": "@jupyter-widgets/controls",
      "model_module_version": "1.5.0",
      "model_name": "ButtonStyleModel",
      "state": {}
     },
     "230e9fb1576f484e96d60c92eae8728d": {
      "model_module": "@jupyter-widgets/controls",
      "model_module_version": "1.5.0",
      "model_name": "IntSliderModel",
      "state": {
       "layout": "IPY_MODEL_0ac2ec57e6df4c5394f6c45dbef12179",
       "max": 0,
       "style": "IPY_MODEL_6e8660163b5a4640a3b05c6988dc11fd"
      }
     },
     "2313df5985d94af8a1fa021c868a8bfd": {
      "model_module": "@jupyter-widgets/controls",
      "model_module_version": "1.5.0",
      "model_name": "PlayModel",
      "state": {
       "layout": "IPY_MODEL_43362efeb7ac43fd89d7824b47dc04c6",
       "max": 0,
       "style": "IPY_MODEL_0611540b299449c39c9b066b132c7f6c"
      }
     },
     "23f59dfb80484053a8aceb73d221fc53": {
      "model_module": "@jupyter-widgets/base",
      "model_module_version": "1.2.0",
      "model_name": "LayoutModel",
      "state": {}
     },
     "242958666c7a472198be36c66b96ac8d": {
      "model_module": "@jupyter-widgets/controls",
      "model_module_version": "1.5.0",
      "model_name": "DropdownModel",
      "state": {
       "_options_labels": [
        "All",
        "Ba",
        "Ti",
        "O"
       ],
       "description": "Show",
       "index": 0,
       "layout": "IPY_MODEL_587585e5c7e8477ea0aef5dc62a39da6",
       "style": "IPY_MODEL_7cc77a6302f642d2b6705ceeb6fb77dc"
      }
     },
     "245edc30ba23427da5d551e89a8761da": {
      "model_module": "@jupyter-widgets/controls",
      "model_module_version": "1.5.0",
      "model_name": "FloatSliderModel",
      "state": {
       "description": "Force scale",
       "layout": "IPY_MODEL_03ba62cd4b7f4f1e8bcb98025f8cd792",
       "step": 0.1,
       "style": "IPY_MODEL_2a2ef7c2e2d64f8fbbc26c88c652f075",
       "value": 0.5
      }
     },
     "248f02fc56d64ad9ac633df6f9dd86cd": {
      "model_module": "@jupyter-widgets/base",
      "model_module_version": "1.2.0",
      "model_name": "LayoutModel",
      "state": {}
     },
     "2582d2a4d7b840a39563f9d076d35615": {
      "model_module": "@jupyter-widgets/controls",
      "model_module_version": "1.5.0",
      "model_name": "HBoxModel",
      "state": {
       "children": [
        "IPY_MODEL_82b8880248d142298299cdb0835d44cf",
        "IPY_MODEL_31fed38bfa7f45e6a9671fd83faf9af8"
       ],
       "layout": "IPY_MODEL_f49dc2ede5c04b7d945413df338be7ed"
      }
     },
     "25c67ff625424016a46df8b9eb723f46": {
      "model_module": "@jupyter-widgets/controls",
      "model_module_version": "1.5.0",
      "model_name": "PlayModel",
      "state": {
       "layout": "IPY_MODEL_747d574b18194d35916db9d089b6b609",
       "max": 0,
       "style": "IPY_MODEL_5d3e78ee91d446019cb9e47d7a570c0e"
      }
     },
     "26132b1852414d19a7cc50931814c3bd": {
      "model_module": "@jupyter-widgets/controls",
      "model_module_version": "1.5.0",
      "model_name": "PlayModel",
      "state": {
       "layout": "IPY_MODEL_85bc61c4f8064cc8af02eb4d1e3274aa",
       "max": 0,
       "style": "IPY_MODEL_3ab4702b946948dc8439df2e067da971"
      }
     },
     "278a23fa31fe40fda46bb8b8b39d6c9d": {
      "model_module": "@jupyter-widgets/output",
      "model_module_version": "1.0.0",
      "model_name": "OutputModel",
      "state": {
       "layout": "IPY_MODEL_917ed6f05718442bb6fd36302ba24b9f"
      }
     },
     "283ca5c35153454b87ea3f6de3880b93": {
      "model_module": "@jupyter-widgets/controls",
      "model_module_version": "1.5.0",
      "model_name": "IntSliderModel",
      "state": {
       "layout": "IPY_MODEL_b2986cf3e1bb4c0f8ff3f3cf7da628ba",
       "max": 0,
       "style": "IPY_MODEL_1cbf534beed4468b979098bf9b47070d"
      }
     },
     "28e952006ee84f518eba34fd026c41b4": {
      "model_module": "@jupyter-widgets/controls",
      "model_module_version": "1.5.0",
      "model_name": "DescriptionStyleModel",
      "state": {
       "description_width": ""
      }
     },
     "2a2ef7c2e2d64f8fbbc26c88c652f075": {
      "model_module": "@jupyter-widgets/controls",
      "model_module_version": "1.5.0",
      "model_name": "SliderStyleModel",
      "state": {
       "description_width": ""
      }
     },
     "2e891048fd824414ad36e30beba51fc5": {
      "model_module": "nglview-js-widgets",
      "model_module_version": "3.0.1",
      "model_name": "NGLModel",
      "state": {
       "_camera_orientation": [
        10.454888917603084,
        0,
        0,
        0,
        0,
        10.454888917603084,
        0,
        0,
        0,
        0,
        10.454888917603084,
        0,
        -2.5,
        -2.5,
        -3,
        1
       ],
       "_camera_str": "orthographic",
       "_gui_theme": null,
       "_ibtn_fullscreen": "IPY_MODEL_651d2547cf1547ae87011d616febfd60",
       "_igui": null,
       "_iplayer": "IPY_MODEL_2582d2a4d7b840a39563f9d076d35615",
       "_ngl_color_dict": {},
       "_ngl_coordinate_resource": {},
       "_ngl_full_stage_parameters": {
        "ambientColor": 14540253,
        "ambientIntensity": 0.2,
        "backgroundColor": "white",
        "cameraEyeSep": 0.3,
        "cameraFov": 40,
        "cameraType": "orthographic",
        "clipDist": 0,
        "clipFar": 100,
        "clipNear": 0,
        "fogFar": 100,
        "fogNear": 50,
        "hoverTimeout": 0,
        "impostor": true,
        "lightColor": 14540253,
        "lightIntensity": 1,
        "mousePreset": "default",
        "panSpeed": 1,
        "quality": "medium",
        "rotateSpeed": 2,
        "sampleLevel": 0,
        "tooltip": true,
        "workerDefault": true,
        "zoomSpeed": 1.2
       },
       "_ngl_msg_archive": [
        {
         "args": [
          {
           "binary": false,
           "data": "CRYST1    5.000    5.000    5.000  90.00  90.00  90.00 P 1\nMODEL     1\nATOM      1    C MOL     1       1.500   0.500   3.000  1.00  0.00           C  \nATOM      2    C MOL     1       3.500   4.500   3.000  1.00  0.00           C  \nATOM      3    C MOL     1       4.500   1.500   3.000  1.00  0.00           C  \nATOM      4    C MOL     1       0.500   3.500   3.000  1.00  0.00           C  \nATOM      5    C MOL     1       1.500   4.500   3.000  1.00  0.00           C  \nATOM      6    C MOL     1       3.500   0.500   3.000  1.00  0.00           C  \nATOM      7    C MOL     1       4.500   3.500   3.000  1.00  0.00           C  \nATOM      8    C MOL     1       0.500   1.500   3.000  1.00  0.00           C  \nENDMDL\n",
           "type": "blob"
          }
         ],
         "kwargs": {
          "defaultRepresentation": false,
          "ext": "pdb"
         },
         "methodName": "loadFile",
         "reconstruc_color_scheme": false,
         "target": "Stage",
         "type": "call_method"
        },
        {
         "args": [
          "500px",
          "500px"
         ],
         "kwargs": {},
         "methodName": "setSize",
         "reconstruc_color_scheme": false,
         "target": "Widget",
         "type": "call_method"
        },
        {
         "args": [
          "unitcell"
         ],
         "component_index": 0,
         "kwargs": {
          "sele": "all"
         },
         "methodName": "addRepresentation",
         "reconstruc_color_scheme": false,
         "target": "compList",
         "type": "call_method"
        },
        {
         "args": [
          "spacefill"
         ],
         "component_index": 0,
         "kwargs": {
          "sele": "all"
         },
         "methodName": "addRepresentation",
         "reconstruc_color_scheme": false,
         "target": "compList",
         "type": "call_method"
        },
        {
         "args": [],
         "kwargs": {
          "cameraType": "orthographic"
         },
         "methodName": "setParameters",
         "reconstruc_color_scheme": false,
         "target": "Stage",
         "type": "call_method"
        },
        {
         "args": [
          {
           "clipDist": 0
          }
         ],
         "kwargs": {},
         "methodName": "setParameters",
         "reconstruc_color_scheme": false,
         "target": "Widget",
         "type": "call_method"
        },
        {
         "args": [
          "spacefill",
          0
         ],
         "kwargs": {
          "colorScale": "rainbow",
          "colorScheme": "element",
          "radiusScale": 0.5,
          "radiusType": "covalent"
         },
         "methodName": "updateRepresentationsByName",
         "reconstruc_color_scheme": false,
         "target": "Widget",
         "type": "call_method"
        },
        {
         "args": [
          "this._Q = [[1.0, 0.0, 0.0], [0.0, 1.0, 0.0], [0.0, 0.0, 1.0]]\n    var tooltip = document.createElement('div');\n    Object.assign(tooltip.style, {\n      display: 'none',\n      position: 'fixed',\n      zIndex: 10,\n      pointerEvents: 'none',\n      backgroundColor: 'rgba( 0, 0, 0, 0.6 )',\n      color: 'lightgrey',\n      padding: '8px',\n      fontFamily: 'sans-serif'\n    });\n    document.body.appendChild(tooltip);\n\n    var that = this;\n    this.stage.mouseControls.remove('hoverPick');\n    this.stage.signals.hovered.add(function (pickingProxy) {\n      if (pickingProxy && (pickingProxy.atom || pickingProxy.bond)) {\n        var atom = pickingProxy.atom || pickingProxy.closestBondAtom\n        var mp = pickingProxy.mouse.position\n        //tooltip.innerText = atom.element + ' i=' + atom.index + ' (' + atom.x.toFixed(2) +  ', ' + atom.y.toFixed(2) +  ', ' + atom.z.toFixed(2) + ')'\n        //var pos = that._atoms_pos[atom.index]\n        var Q = that._Q\n        var pos_x = Q[0][0] * atom.x + Q[0][1] * atom.y + Q[0][2] * atom.z \n        var pos_y = Q[1][0] * atom.x + Q[1][1] * atom.y + Q[1][2] * atom.z\n        var pos_z = Q[2][0] * atom.x + Q[2][1] * atom.y + Q[2][2] * atom.z\n        tooltip.innerText = 'i=' + atom.index + ' ' + atom.element + ' (' + pos_x.toFixed(2) +  ', ' + pos_y.toFixed(2) +  ', ' + pos_z.toFixed(2) + ')'\n        tooltip.style.bottom = window.innerHeight - mp.y + 3 + 'px'\n        tooltip.style.left = mp.x + 3 + 'px'\n        tooltip.style.display = 'block'\n      } else {\n        tooltip.style.display = 'none'\n      }\n    });\n    this.stage.tooltip = tooltip;\n    "
         ],
         "kwargs": {},
         "methodName": "executeCode",
         "reconstruc_color_scheme": false,
         "target": "Widget",
         "type": "call_method"
        }
       ],
       "_ngl_original_stage_parameters": {
        "ambientColor": 14540253,
        "ambientIntensity": 0.2,
        "backgroundColor": "white",
        "cameraEyeSep": 0.3,
        "cameraFov": 40,
        "cameraType": "perspective",
        "clipDist": 10,
        "clipFar": 100,
        "clipNear": 0,
        "fogFar": 100,
        "fogNear": 50,
        "hoverTimeout": 0,
        "impostor": true,
        "lightColor": 14540253,
        "lightIntensity": 1,
        "mousePreset": "default",
        "panSpeed": 1,
        "quality": "medium",
        "rotateSpeed": 2,
        "sampleLevel": 0,
        "tooltip": true,
        "workerDefault": true,
        "zoomSpeed": 1.2
       },
       "_ngl_repr_dict": {
        "0": {
         "0": {
          "params": {
           "clipCenter": {
            "x": 0,
            "y": 0,
            "z": 0
           },
           "clipNear": 0,
           "clipRadius": 0,
           "colorMode": "hcl",
           "colorReverse": false,
           "colorScale": "",
           "colorScheme": "element",
           "colorValue": "orange",
           "defaultAssembly": "",
           "depthWrite": true,
           "diffuse": 16777215,
           "diffuseInterior": false,
           "disableImpostor": false,
           "disablePicking": false,
           "flatShaded": false,
           "interiorColor": 2236962,
           "interiorDarkening": 0,
           "lazy": false,
           "matrix": {
            "elements": [
             1,
             0,
             0,
             0,
             0,
             1,
             0,
             0,
             0,
             0,
             1,
             0,
             0,
             0,
             0,
             1
            ]
           },
           "metalness": 0,
           "opacity": 1,
           "quality": "medium",
           "radialSegments": 10,
           "radiusData": {},
           "radiusScale": 1,
           "radiusSize": 0.024999998902597128,
           "radiusType": "vdw",
           "roughness": 0.4,
           "sele": "all",
           "side": "double",
           "sphereDetail": 1,
           "useInteriorColor": true,
           "visible": true,
           "wireframe": false
          },
          "type": "unitcell"
         },
         "1": {
          "params": {
           "assembly": "default",
           "clipCenter": {
            "x": 0,
            "y": 0,
            "z": 0
           },
           "clipNear": 0,
           "clipRadius": 0,
           "colorMode": "hcl",
           "colorReverse": false,
           "colorScale": "rainbow",
           "colorScheme": "element",
           "colorValue": 9474192,
           "defaultAssembly": "",
           "depthWrite": true,
           "diffuse": 16777215,
           "diffuseInterior": false,
           "disableImpostor": false,
           "disablePicking": false,
           "flatShaded": false,
           "interiorColor": 2236962,
           "interiorDarkening": 0,
           "lazy": false,
           "matrix": {
            "elements": [
             1,
             0,
             0,
             0,
             0,
             1,
             0,
             0,
             0,
             0,
             1,
             0,
             0,
             0,
             0,
             1
            ]
           },
           "metalness": 0,
           "opacity": 1,
           "quality": "medium",
           "radiusData": {},
           "radiusScale": 0.5,
           "radiusSize": 1,
           "radiusType": "covalent",
           "roughness": 0.4,
           "sele": "all",
           "side": "double",
           "sphereDetail": 1,
           "useInteriorColor": true,
           "visible": true,
           "wireframe": false
          },
          "type": "spacefill"
         }
        }
       },
       "_ngl_serialize": false,
       "_ngl_version": "2.0.0-dev.36",
       "_ngl_view_id": [
        "548AF7D4-953C-4B17-8D21-B59B3134F6E8"
       ],
       "_player_dict": {},
       "_scene_position": {},
       "_scene_rotation": {},
       "_synced_model_ids": [],
       "_synced_repr_model_ids": [],
       "_view_height": "",
       "_view_width": "",
       "background": "white",
       "frame": 0,
       "gui_style": null,
       "layout": "IPY_MODEL_5726a52de35346f18ddb6a28fe65b521",
       "max_frame": 0,
       "n_components": 1,
       "picked": {}
      }
     },
     "2eaac4d65c1440a99b9c973b3ca1d7c6": {
      "model_module": "nglview-js-widgets",
      "model_module_version": "3.0.1",
      "model_name": "NGLModel",
      "state": {
       "_camera_orientation": [
        8.875215641435828,
        0.5282300309402717,
        0.7495258446300518,
        0,
        0.7157998151011611,
        0.5671963827978485,
        -8.875595052016822,
        0,
        -0.5731025929593265,
        8.888730501995063,
        0.5218161747104287,
        0,
        -1.0010000467300415,
        -1.0010000467300415,
        -2.0224999394267797,
        1
       ],
       "_camera_str": "orthographic",
       "_gui_theme": null,
       "_ibtn_fullscreen": "IPY_MODEL_396fe752f66c41feaf9c02ba25c25360",
       "_igui": null,
       "_iplayer": "IPY_MODEL_9418b572acb94a2d90c8e07a827cd843",
       "_ngl_color_dict": {},
       "_ngl_coordinate_resource": {},
       "_ngl_full_stage_parameters": {
        "ambientColor": 14540253,
        "ambientIntensity": 0.2,
        "backgroundColor": "white",
        "cameraEyeSep": 0.3,
        "cameraFov": 40,
        "cameraType": "orthographic",
        "clipDist": 0,
        "clipFar": 100,
        "clipNear": 0,
        "fogFar": 100,
        "fogNear": 50,
        "hoverTimeout": 0,
        "impostor": true,
        "lightColor": 14540253,
        "lightIntensity": 1,
        "mousePreset": "default",
        "panSpeed": 1,
        "quality": "medium",
        "rotateSpeed": 2,
        "sampleLevel": 0,
        "tooltip": true,
        "workerDefault": true,
        "zoomSpeed": 1.2
       },
       "_ngl_msg_archive": [
        {
         "args": [
          {
           "binary": false,
           "data": "CRYST1    4.004    4.004    4.201  90.00  90.00  90.00 P 1\nMODEL     1\nATOM      1   Ba MOL     1       2.002   2.002   0.017  1.00  0.00          BA  \nATOM      2   Ti MOL     1       0.000   0.000   2.202  1.00  0.00          TI  \nATOM      3    O MOL     1       0.000   2.002   2.014  1.00  0.00           O  \nATOM      4    O MOL     1       2.002   0.000   2.014  1.00  0.00           O  \nATOM      5    O MOL     1       0.000   0.000   4.028  1.00  0.00           O  \nENDMDL\n",
           "type": "blob"
          }
         ],
         "kwargs": {
          "defaultRepresentation": false,
          "ext": "pdb"
         },
         "methodName": "loadFile",
         "reconstruc_color_scheme": false,
         "target": "Stage",
         "type": "call_method"
        },
        {
         "args": [
          "500px",
          "500px"
         ],
         "kwargs": {},
         "methodName": "setSize",
         "reconstruc_color_scheme": false,
         "target": "Widget",
         "type": "call_method"
        },
        {
         "args": [
          "unitcell"
         ],
         "component_index": 0,
         "kwargs": {
          "sele": "all"
         },
         "methodName": "addRepresentation",
         "reconstruc_color_scheme": false,
         "target": "compList",
         "type": "call_method"
        },
        {
         "args": [
          "spacefill"
         ],
         "component_index": 0,
         "kwargs": {
          "sele": "all"
         },
         "methodName": "addRepresentation",
         "reconstruc_color_scheme": false,
         "target": "compList",
         "type": "call_method"
        },
        {
         "args": [],
         "kwargs": {
          "cameraType": "orthographic"
         },
         "methodName": "setParameters",
         "reconstruc_color_scheme": false,
         "target": "Stage",
         "type": "call_method"
        },
        {
         "args": [
          {
           "clipDist": 0
          }
         ],
         "kwargs": {},
         "methodName": "setParameters",
         "reconstruc_color_scheme": false,
         "target": "Widget",
         "type": "call_method"
        },
        {
         "args": [
          "spacefill",
          0
         ],
         "kwargs": {
          "colorScale": "rainbow",
          "colorScheme": "element",
          "radiusScale": 0.5,
          "radiusType": "covalent"
         },
         "methodName": "updateRepresentationsByName",
         "reconstruc_color_scheme": false,
         "target": "Widget",
         "type": "call_method"
        },
        {
         "args": [
          "this._Q = [[1.0, 0.0, 0.0], [0.0, 1.0, 0.0], [0.0, 0.0, 1.0]]\n    var tooltip = document.createElement('div');\n    Object.assign(tooltip.style, {\n      display: 'none',\n      position: 'fixed',\n      zIndex: 10,\n      pointerEvents: 'none',\n      backgroundColor: 'rgba( 0, 0, 0, 0.6 )',\n      color: 'lightgrey',\n      padding: '8px',\n      fontFamily: 'sans-serif'\n    });\n    document.body.appendChild(tooltip);\n\n    var that = this;\n    this.stage.mouseControls.remove('hoverPick');\n    this.stage.signals.hovered.add(function (pickingProxy) {\n      if (pickingProxy && (pickingProxy.atom || pickingProxy.bond)) {\n        var atom = pickingProxy.atom || pickingProxy.closestBondAtom\n        var mp = pickingProxy.mouse.position\n        //tooltip.innerText = atom.element + ' i=' + atom.index + ' (' + atom.x.toFixed(2) +  ', ' + atom.y.toFixed(2) +  ', ' + atom.z.toFixed(2) + ')'\n        //var pos = that._atoms_pos[atom.index]\n        var Q = that._Q\n        var pos_x = Q[0][0] * atom.x + Q[0][1] * atom.y + Q[0][2] * atom.z \n        var pos_y = Q[1][0] * atom.x + Q[1][1] * atom.y + Q[1][2] * atom.z\n        var pos_z = Q[2][0] * atom.x + Q[2][1] * atom.y + Q[2][2] * atom.z\n        tooltip.innerText = 'i=' + atom.index + ' ' + atom.element + ' (' + pos_x.toFixed(2) +  ', ' + pos_y.toFixed(2) +  ', ' + pos_z.toFixed(2) + ')'\n        tooltip.style.bottom = window.innerHeight - mp.y + 3 + 'px'\n        tooltip.style.left = mp.x + 3 + 'px'\n        tooltip.style.display = 'block'\n      } else {\n        tooltip.style.display = 'none'\n      }\n    });\n    this.stage.tooltip = tooltip;\n    "
         ],
         "kwargs": {},
         "methodName": "executeCode",
         "reconstruc_color_scheme": false,
         "target": "Widget",
         "type": "call_method"
        }
       ],
       "_ngl_original_stage_parameters": {
        "ambientColor": 14540253,
        "ambientIntensity": 0.2,
        "backgroundColor": "white",
        "cameraEyeSep": 0.3,
        "cameraFov": 40,
        "cameraType": "perspective",
        "clipDist": 10,
        "clipFar": 100,
        "clipNear": 0,
        "fogFar": 100,
        "fogNear": 50,
        "hoverTimeout": 0,
        "impostor": true,
        "lightColor": 14540253,
        "lightIntensity": 1,
        "mousePreset": "default",
        "panSpeed": 1,
        "quality": "medium",
        "rotateSpeed": 2,
        "sampleLevel": 0,
        "tooltip": true,
        "workerDefault": true,
        "zoomSpeed": 1.2
       },
       "_ngl_repr_dict": {
        "0": {
         "0": {
          "params": {
           "clipCenter": {
            "x": 0,
            "y": 0,
            "z": 0
           },
           "clipNear": 0,
           "clipRadius": 0,
           "colorMode": "hcl",
           "colorReverse": false,
           "colorScale": "",
           "colorScheme": "element",
           "colorValue": "orange",
           "defaultAssembly": "",
           "depthWrite": true,
           "diffuse": 16777215,
           "diffuseInterior": false,
           "disableImpostor": false,
           "disablePicking": false,
           "flatShaded": false,
           "interiorColor": 2236962,
           "interiorDarkening": 0,
           "lazy": false,
           "matrix": {
            "elements": [
             1,
             0,
             0,
             0,
             0,
             1,
             0,
             0,
             0,
             0,
             1,
             0,
             0,
             0,
             0,
             1
            ]
           },
           "metalness": 0,
           "opacity": 1,
           "quality": "medium",
           "radialSegments": 10,
           "radiusData": {},
           "radiusScale": 1,
           "radiusSize": 0.020343090211896044,
           "radiusType": "vdw",
           "roughness": 0.4,
           "sele": "all",
           "side": "double",
           "sphereDetail": 1,
           "useInteriorColor": true,
           "visible": true,
           "wireframe": false
          },
          "type": "unitcell"
         },
         "1": {
          "params": {
           "assembly": "default",
           "clipCenter": {
            "x": 0,
            "y": 0,
            "z": 0
           },
           "clipNear": 0,
           "clipRadius": 0,
           "colorMode": "hcl",
           "colorReverse": false,
           "colorScale": "rainbow",
           "colorScheme": "element",
           "colorValue": 9474192,
           "defaultAssembly": "",
           "depthWrite": true,
           "diffuse": 16777215,
           "diffuseInterior": false,
           "disableImpostor": false,
           "disablePicking": false,
           "flatShaded": false,
           "interiorColor": 2236962,
           "interiorDarkening": 0,
           "lazy": false,
           "matrix": {
            "elements": [
             1,
             0,
             0,
             0,
             0,
             1,
             0,
             0,
             0,
             0,
             1,
             0,
             0,
             0,
             0,
             1
            ]
           },
           "metalness": 0,
           "opacity": 1,
           "quality": "medium",
           "radiusData": {},
           "radiusScale": 0.5,
           "radiusSize": 1,
           "radiusType": "covalent",
           "roughness": 0.4,
           "sele": "all",
           "side": "double",
           "sphereDetail": 1,
           "useInteriorColor": true,
           "visible": true,
           "wireframe": false
          },
          "type": "spacefill"
         }
        }
       },
       "_ngl_serialize": false,
       "_ngl_version": "2.0.0-dev.36",
       "_ngl_view_id": [
        "253ED39A-F1FE-4709-9361-639108F94448"
       ],
       "_player_dict": {},
       "_scene_position": {},
       "_scene_rotation": {},
       "_synced_model_ids": [],
       "_synced_repr_model_ids": [],
       "_view_height": "",
       "_view_width": "",
       "background": "white",
       "frame": 0,
       "gui_style": null,
       "layout": "IPY_MODEL_248f02fc56d64ad9ac633df6f9dd86cd",
       "max_frame": 0,
       "n_components": 1,
       "picked": {}
      }
     },
     "2ee0aa2912ed4512a0b4008b25d6e294": {
      "model_module": "@jupyter-widgets/controls",
      "model_module_version": "1.5.0",
      "model_name": "TextModel",
      "state": {
       "description": "Filename: ",
       "layout": "IPY_MODEL_4490de781e404c759516a5439db8b80a",
       "style": "IPY_MODEL_63310e3fe47244bda50051900d4fb760",
       "value": "screenshot.png"
      }
     },
     "2f182067b0814253b01b102c5a356d79": {
      "model_module": "nglview-js-widgets",
      "model_module_version": "3.0.1",
      "model_name": "NGLModel",
      "state": {
       "_camera_orientation": [
        29.765027160202912,
        0,
        0,
        0,
        0,
        29.765027160202912,
        0,
        0,
        0,
        0,
        29.765027160202912,
        0,
        -7.007999897003174,
        -7.007999897003174,
        -8.323499580845237,
        1
       ],
       "_camera_str": "orthographic",
       "_gui_theme": null,
       "_ibtn_fullscreen": "IPY_MODEL_77a42b14e87f47478a5e928bc24bb599",
       "_igui": null,
       "_iplayer": "IPY_MODEL_ec3bc571ad4c4bd6b09dbd9515c3bb0e",
       "_ngl_color_dict": {},
       "_ngl_coordinate_resource": {},
       "_ngl_full_stage_parameters": {
        "ambientColor": 14540253,
        "ambientIntensity": 0.2,
        "backgroundColor": "white",
        "cameraEyeSep": 0.3,
        "cameraFov": 40,
        "cameraType": "orthographic",
        "clipDist": 0,
        "clipFar": 100,
        "clipNear": 0,
        "fogFar": 100,
        "fogNear": 50,
        "hoverTimeout": 0,
        "impostor": true,
        "lightColor": 14540253,
        "lightIntensity": 1,
        "mousePreset": "default",
        "panSpeed": 1,
        "quality": "medium",
        "rotateSpeed": 2,
        "sampleLevel": 0,
        "tooltip": true,
        "workerDefault": true,
        "zoomSpeed": 1.2
       },
       "_ngl_msg_archive": [
        {
         "args": [
          {
           "binary": false,
           "data": "CRYST1   16.018   16.018   16.803  90.00  90.00  90.00 P 1\nMODEL     1\nATOM      1   Ba MOL     1       2.002   2.002   0.017  1.00  0.00          BA  \nATOM      2   Ti MOL     1       0.000   0.000   2.202  1.00  0.00          TI  \nATOM      3    O MOL     1       0.000   2.002   2.014  1.00  0.00           O  \nATOM      4    O MOL     1       2.002   0.000   2.014  1.00  0.00           O  \nATOM      5    O MOL     1       0.000   0.000   4.028  1.00  0.00           O  \nATOM      6   Ba MOL     1       2.002   2.002   4.218  1.00  0.00          BA  \nATOM      7   Ti MOL     1       0.000   0.000   6.403  1.00  0.00          TI  \nATOM      8    O MOL     1       0.000   2.002   6.214  1.00  0.00           O  \nATOM      9    O MOL     1       2.002   0.000   6.214  1.00  0.00           O  \nATOM     10    O MOL     1       0.000   0.000   8.228  1.00  0.00           O  \nATOM     11   Ba MOL     1       2.002   2.002   8.419  1.00  0.00          BA  \nATOM     12   Ti MOL     1       0.000   0.000  10.604  1.00  0.00          TI  \nATOM     13    O MOL     1       0.000   2.002  10.415  1.00  0.00           O  \nATOM     14    O MOL     1       2.002   0.000  10.415  1.00  0.00           O  \nATOM     15    O MOL     1       0.000   0.000  12.429  1.00  0.00           O  \nATOM     16   Ba MOL     1       2.002   2.002  12.619  1.00  0.00          BA  \nATOM     17   Ti MOL     1       0.000   0.000  14.804  1.00  0.00          TI  \nATOM     18    O MOL     1       0.000   2.002  14.615  1.00  0.00           O  \nATOM     19    O MOL     1       2.002   0.000  14.615  1.00  0.00           O  \nATOM     20    O MOL     1       0.000   0.000  16.630  1.00  0.00           O  \nATOM     21   Ba MOL     1       2.002   6.007   0.017  1.00  0.00          BA  \nATOM     22   Ti MOL     1       0.000   4.004   2.202  1.00  0.00          TI  \nATOM     23    O MOL     1       0.000   6.007   2.014  1.00  0.00           O  \nATOM     24    O MOL     1       2.002   4.004   2.014  1.00  0.00           O  \nATOM     25    O MOL     1       0.000   4.004   4.028  1.00  0.00           O  \nATOM     26   Ba MOL     1       2.002   6.007   4.218  1.00  0.00          BA  \nATOM     27   Ti MOL     1       0.000   4.004   6.403  1.00  0.00          TI  \nATOM     28    O MOL     1       0.000   6.007   6.214  1.00  0.00           O  \nATOM     29    O MOL     1       2.002   4.004   6.214  1.00  0.00           O  \nATOM     30    O MOL     1       0.000   4.004   8.228  1.00  0.00           O  \nATOM     31   Ba MOL     1       2.002   6.007   8.419  1.00  0.00          BA  \nATOM     32   Ti MOL     1       0.000   4.004  10.604  1.00  0.00          TI  \nATOM     33    O MOL     1       0.000   6.007  10.415  1.00  0.00           O  \nATOM     34    O MOL     1       2.002   4.004  10.415  1.00  0.00           O  \nATOM     35    O MOL     1       0.000   4.004  12.429  1.00  0.00           O  \nATOM     36   Ba MOL     1       2.002   6.007  12.619  1.00  0.00          BA  \nATOM     37   Ti MOL     1       0.000   4.004  14.804  1.00  0.00          TI  \nATOM     38    O MOL     1       0.000   6.007  14.615  1.00  0.00           O  \nATOM     39    O MOL     1       2.002   4.004  14.615  1.00  0.00           O  \nATOM     40    O MOL     1       0.000   4.004  16.630  1.00  0.00           O  \nATOM     41   Ba MOL     1       2.002  10.011   0.017  1.00  0.00          BA  \nATOM     42   Ti MOL     1       0.000   8.009   2.202  1.00  0.00          TI  \nATOM     43    O MOL     1       0.000  10.011   2.014  1.00  0.00           O  \nATOM     44    O MOL     1       2.002   8.009   2.014  1.00  0.00           O  \nATOM     45    O MOL     1       0.000   8.009   4.028  1.00  0.00           O  \nATOM     46   Ba MOL     1       2.002  10.011   4.218  1.00  0.00          BA  \nATOM     47   Ti MOL     1       0.000   8.009   6.403  1.00  0.00          TI  \nATOM     48    O MOL     1       0.000  10.011   6.214  1.00  0.00           O  \nATOM     49    O MOL     1       2.002   8.009   6.214  1.00  0.00           O  \nATOM     50    O MOL     1       0.000   8.009   8.228  1.00  0.00           O  \nATOM     51   Ba MOL     1       2.002  10.011   8.419  1.00  0.00          BA  \nATOM     52   Ti MOL     1       0.000   8.009  10.604  1.00  0.00          TI  \nATOM     53    O MOL     1       0.000  10.011  10.415  1.00  0.00           O  \nATOM     54    O MOL     1       2.002   8.009  10.415  1.00  0.00           O  \nATOM     55    O MOL     1       0.000   8.009  12.429  1.00  0.00           O  \nATOM     56   Ba MOL     1       2.002  10.011  12.619  1.00  0.00          BA  \nATOM     57   Ti MOL     1       0.000   8.009  14.804  1.00  0.00          TI  \nATOM     58    O MOL     1       0.000  10.011  14.615  1.00  0.00           O  \nATOM     59    O MOL     1       2.002   8.009  14.615  1.00  0.00           O  \nATOM     60    O MOL     1       0.000   8.009  16.630  1.00  0.00           O  \nATOM     61   Ba MOL     1       2.002  14.016   0.017  1.00  0.00          BA  \nATOM     62   Ti MOL     1       0.000  12.013   2.202  1.00  0.00          TI  \nATOM     63    O MOL     1       0.000  14.016   2.014  1.00  0.00           O  \nATOM     64    O MOL     1       2.002  12.013   2.014  1.00  0.00           O  \nATOM     65    O MOL     1       0.000  12.013   4.028  1.00  0.00           O  \nATOM     66   Ba MOL     1       2.002  14.016   4.218  1.00  0.00          BA  \nATOM     67   Ti MOL     1       0.000  12.013   6.403  1.00  0.00          TI  \nATOM     68    O MOL     1       0.000  14.016   6.214  1.00  0.00           O  \nATOM     69    O MOL     1       2.002  12.013   6.214  1.00  0.00           O  \nATOM     70    O MOL     1       0.000  12.013   8.228  1.00  0.00           O  \nATOM     71   Ba MOL     1       2.002  14.016   8.419  1.00  0.00          BA  \nATOM     72   Ti MOL     1       0.000  12.013  10.604  1.00  0.00          TI  \nATOM     73    O MOL     1       0.000  14.016  10.415  1.00  0.00           O  \nATOM     74    O MOL     1       2.002  12.013  10.415  1.00  0.00           O  \nATOM     75    O MOL     1       0.000  12.013  12.429  1.00  0.00           O  \nATOM     76   Ba MOL     1       2.002  14.016  12.619  1.00  0.00          BA  \nATOM     77   Ti MOL     1       0.000  12.013  14.804  1.00  0.00          TI  \nATOM     78    O MOL     1       0.000  14.016  14.615  1.00  0.00           O  \nATOM     79    O MOL     1       2.002  12.013  14.615  1.00  0.00           O  \nATOM     80    O MOL     1       0.000  12.013  16.630  1.00  0.00           O  \nATOM     81   Ba MOL     1       6.007   2.002   0.017  1.00  0.00          BA  \nATOM     82   Ti MOL     1       4.004   0.000   2.202  1.00  0.00          TI  \nATOM     83    O MOL     1       4.004   2.002   2.014  1.00  0.00           O  \nATOM     84    O MOL     1       6.007   0.000   2.014  1.00  0.00           O  \nATOM     85    O MOL     1       4.004   0.000   4.028  1.00  0.00           O  \nATOM     86   Ba MOL     1       6.007   2.002   4.218  1.00  0.00          BA  \nATOM     87   Ti MOL     1       4.004   0.000   6.403  1.00  0.00          TI  \nATOM     88    O MOL     1       4.004   2.002   6.214  1.00  0.00           O  \nATOM     89    O MOL     1       6.007   0.000   6.214  1.00  0.00           O  \nATOM     90    O MOL     1       4.004   0.000   8.228  1.00  0.00           O  \nATOM     91   Ba MOL     1       6.007   2.002   8.419  1.00  0.00          BA  \nATOM     92   Ti MOL     1       4.004   0.000  10.604  1.00  0.00          TI  \nATOM     93    O MOL     1       4.004   2.002  10.415  1.00  0.00           O  \nATOM     94    O MOL     1       6.007   0.000  10.415  1.00  0.00           O  \nATOM     95    O MOL     1       4.004   0.000  12.429  1.00  0.00           O  \nATOM     96   Ba MOL     1       6.007   2.002  12.619  1.00  0.00          BA  \nATOM     97   Ti MOL     1       4.004   0.000  14.804  1.00  0.00          TI  \nATOM     98    O MOL     1       4.004   2.002  14.615  1.00  0.00           O  \nATOM     99    O MOL     1       6.007   0.000  14.615  1.00  0.00           O  \nATOM    100    O MOL     1       4.004   0.000  16.630  1.00  0.00           O  \nATOM    101   Ba MOL     1       6.007   6.007   0.017  1.00  0.00          BA  \nATOM    102   Ti MOL     1       4.004   4.004   2.202  1.00  0.00          TI  \nATOM    103    O MOL     1       4.004   6.007   2.014  1.00  0.00           O  \nATOM    104    O MOL     1       6.007   4.004   2.014  1.00  0.00           O  \nATOM    105    O MOL     1       4.004   4.004   4.028  1.00  0.00           O  \nATOM    106   Ba MOL     1       6.007   6.007   4.218  1.00  0.00          BA  \nATOM    107   Ti MOL     1       4.004   4.004   6.403  1.00  0.00          TI  \nATOM    108    O MOL     1       4.004   6.007   6.214  1.00  0.00           O  \nATOM    109    O MOL     1       6.007   4.004   6.214  1.00  0.00           O  \nATOM    110    O MOL     1       4.004   4.004   8.228  1.00  0.00           O  \nATOM    111   Ba MOL     1       6.007   6.007   8.419  1.00  0.00          BA  \nATOM    112   Ti MOL     1       4.004   4.004  10.604  1.00  0.00          TI  \nATOM    113    O MOL     1       4.004   6.007  10.415  1.00  0.00           O  \nATOM    114    O MOL     1       6.007   4.004  10.415  1.00  0.00           O  \nATOM    115    O MOL     1       4.004   4.004  12.429  1.00  0.00           O  \nATOM    116   Ba MOL     1       6.007   6.007  12.619  1.00  0.00          BA  \nATOM    117   Ti MOL     1       4.004   4.004  14.804  1.00  0.00          TI  \nATOM    118    O MOL     1       4.004   6.007  14.615  1.00  0.00           O  \nATOM    119    O MOL     1       6.007   4.004  14.615  1.00  0.00           O  \nATOM    120    O MOL     1       4.004   4.004  16.630  1.00  0.00           O  \nATOM    121   Ba MOL     1       6.007  10.011   0.017  1.00  0.00          BA  \nATOM    122   Ti MOL     1       4.004   8.009   2.202  1.00  0.00          TI  \nATOM    123    O MOL     1       4.004  10.011   2.014  1.00  0.00           O  \nATOM    124    O MOL     1       6.007   8.009   2.014  1.00  0.00           O  \nATOM    125    O MOL     1       4.004   8.009   4.028  1.00  0.00           O  \nATOM    126   Ba MOL     1       6.007  10.011   4.218  1.00  0.00          BA  \nATOM    127   Ti MOL     1       4.004   8.009   6.403  1.00  0.00          TI  \nATOM    128    O MOL     1       4.004  10.011   6.214  1.00  0.00           O  \nATOM    129    O MOL     1       6.007   8.009   6.214  1.00  0.00           O  \nATOM    130    O MOL     1       4.004   8.009   8.228  1.00  0.00           O  \nATOM    131   Ba MOL     1       6.007  10.011   8.419  1.00  0.00          BA  \nATOM    132   Ti MOL     1       4.004   8.009  10.604  1.00  0.00          TI  \nATOM    133    O MOL     1       4.004  10.011  10.415  1.00  0.00           O  \nATOM    134    O MOL     1       6.007   8.009  10.415  1.00  0.00           O  \nATOM    135    O MOL     1       4.004   8.009  12.429  1.00  0.00           O  \nATOM    136   Ba MOL     1       6.007  10.011  12.619  1.00  0.00          BA  \nATOM    137   Ti MOL     1       4.004   8.009  14.804  1.00  0.00          TI  \nATOM    138    O MOL     1       4.004  10.011  14.615  1.00  0.00           O  \nATOM    139    O MOL     1       6.007   8.009  14.615  1.00  0.00           O  \nATOM    140    O MOL     1       4.004   8.009  16.630  1.00  0.00           O  \nATOM    141   Ba MOL     1       6.007  14.016   0.017  1.00  0.00          BA  \nATOM    142   Ti MOL     1       4.004  12.013   2.202  1.00  0.00          TI  \nATOM    143    O MOL     1       4.004  14.016   2.014  1.00  0.00           O  \nATOM    144    O MOL     1       6.007  12.013   2.014  1.00  0.00           O  \nATOM    145    O MOL     1       4.004  12.013   4.028  1.00  0.00           O  \nATOM    146   Ba MOL     1       6.007  14.016   4.218  1.00  0.00          BA  \nATOM    147   Ti MOL     1       4.004  12.013   6.403  1.00  0.00          TI  \nATOM    148    O MOL     1       4.004  14.016   6.214  1.00  0.00           O  \nATOM    149    O MOL     1       6.007  12.013   6.214  1.00  0.00           O  \nATOM    150    O MOL     1       4.004  12.013   8.228  1.00  0.00           O  \nATOM    151   Ba MOL     1       6.007  14.016   8.419  1.00  0.00          BA  \nATOM    152   Ti MOL     1       4.004  12.013  10.604  1.00  0.00          TI  \nATOM    153    O MOL     1       4.004  14.016  10.415  1.00  0.00           O  \nATOM    154    O MOL     1       6.007  12.013  10.415  1.00  0.00           O  \nATOM    155    O MOL     1       4.004  12.013  12.429  1.00  0.00           O  \nATOM    156   Ba MOL     1       6.007  14.016  12.619  1.00  0.00          BA  \nATOM    157   Ti MOL     1       4.004  12.013  14.804  1.00  0.00          TI  \nATOM    158    O MOL     1       4.004  14.016  14.615  1.00  0.00           O  \nATOM    159    O MOL     1       6.007  12.013  14.615  1.00  0.00           O  \nATOM    160    O MOL     1       4.004  12.013  16.630  1.00  0.00           O  \nATOM    161   Ba MOL     1      10.011   2.002   0.017  1.00  0.00          BA  \nATOM    162   Ti MOL     1       8.009   0.000   2.202  1.00  0.00          TI  \nATOM    163    O MOL     1       8.009   2.002   2.014  1.00  0.00           O  \nATOM    164    O MOL     1      10.011   0.000   2.014  1.00  0.00           O  \nATOM    165    O MOL     1       8.009   0.000   4.028  1.00  0.00           O  \nATOM    166   Ba MOL     1      10.011   2.002   4.218  1.00  0.00          BA  \nATOM    167   Ti MOL     1       8.009   0.000   6.403  1.00  0.00          TI  \nATOM    168    O MOL     1       8.009   2.002   6.214  1.00  0.00           O  \nATOM    169    O MOL     1      10.011   0.000   6.214  1.00  0.00           O  \nATOM    170    O MOL     1       8.009   0.000   8.228  1.00  0.00           O  \nATOM    171   Ba MOL     1      10.011   2.002   8.419  1.00  0.00          BA  \nATOM    172   Ti MOL     1       8.009   0.000  10.604  1.00  0.00          TI  \nATOM    173    O MOL     1       8.009   2.002  10.415  1.00  0.00           O  \nATOM    174    O MOL     1      10.011   0.000  10.415  1.00  0.00           O  \nATOM    175    O MOL     1       8.009   0.000  12.429  1.00  0.00           O  \nATOM    176   Ba MOL     1      10.011   2.002  12.619  1.00  0.00          BA  \nATOM    177   Ti MOL     1       8.009   0.000  14.804  1.00  0.00          TI  \nATOM    178    O MOL     1       8.009   2.002  14.615  1.00  0.00           O  \nATOM    179    O MOL     1      10.011   0.000  14.615  1.00  0.00           O  \nATOM    180    O MOL     1       8.009   0.000  16.630  1.00  0.00           O  \nATOM    181   Ba MOL     1      10.011   6.007   0.017  1.00  0.00          BA  \nATOM    182   Ti MOL     1       8.009   4.004   2.202  1.00  0.00          TI  \nATOM    183    O MOL     1       8.009   6.007   2.014  1.00  0.00           O  \nATOM    184    O MOL     1      10.011   4.004   2.014  1.00  0.00           O  \nATOM    185    O MOL     1       8.009   4.004   4.028  1.00  0.00           O  \nATOM    186   Ba MOL     1      10.011   6.007   4.218  1.00  0.00          BA  \nATOM    187   Ti MOL     1       8.009   4.004   6.403  1.00  0.00          TI  \nATOM    188    O MOL     1       8.009   6.007   6.214  1.00  0.00           O  \nATOM    189    O MOL     1      10.011   4.004   6.214  1.00  0.00           O  \nATOM    190    O MOL     1       8.009   4.004   8.228  1.00  0.00           O  \nATOM    191   Ba MOL     1      10.011   6.007   8.419  1.00  0.00          BA  \nATOM    192   Ti MOL     1       8.009   4.004  10.604  1.00  0.00          TI  \nATOM    193    O MOL     1       8.009   6.007  10.415  1.00  0.00           O  \nATOM    194    O MOL     1      10.011   4.004  10.415  1.00  0.00           O  \nATOM    195    O MOL     1       8.009   4.004  12.429  1.00  0.00           O  \nATOM    196   Ba MOL     1      10.011   6.007  12.619  1.00  0.00          BA  \nATOM    197   Ti MOL     1       8.009   4.004  14.804  1.00  0.00          TI  \nATOM    198    O MOL     1       8.009   6.007  14.615  1.00  0.00           O  \nATOM    199    O MOL     1      10.011   4.004  14.615  1.00  0.00           O  \nATOM    200    O MOL     1       8.009   4.004  16.630  1.00  0.00           O  \nATOM    201   Ba MOL     1      10.011  10.011   0.017  1.00  0.00          BA  \nATOM    202   Ti MOL     1       8.009   8.009   2.202  1.00  0.00          TI  \nATOM    203    O MOL     1       8.009  10.011   2.014  1.00  0.00           O  \nATOM    204    O MOL     1      10.011   8.009   2.014  1.00  0.00           O  \nATOM    205    O MOL     1       8.009   8.009   4.028  1.00  0.00           O  \nATOM    206   Ba MOL     1      10.011  10.011   4.218  1.00  0.00          BA  \nATOM    207   Ti MOL     1       8.009   8.009   6.403  1.00  0.00          TI  \nATOM    208    O MOL     1       8.009  10.011   6.214  1.00  0.00           O  \nATOM    209    O MOL     1      10.011   8.009   6.214  1.00  0.00           O  \nATOM    210    O MOL     1       8.009   8.009   8.228  1.00  0.00           O  \nATOM    211   Ba MOL     1      10.011  10.011   8.419  1.00  0.00          BA  \nATOM    212   Ti MOL     1       8.009   8.009  10.604  1.00  0.00          TI  \nATOM    213    O MOL     1       8.009  10.011  10.415  1.00  0.00           O  \nATOM    214    O MOL     1      10.011   8.009  10.415  1.00  0.00           O  \nATOM    215    O MOL     1       8.009   8.009  12.429  1.00  0.00           O  \nATOM    216   Ba MOL     1      10.011  10.011  12.619  1.00  0.00          BA  \nATOM    217   Ti MOL     1       8.009   8.009  14.804  1.00  0.00          TI  \nATOM    218    O MOL     1       8.009  10.011  14.615  1.00  0.00           O  \nATOM    219    O MOL     1      10.011   8.009  14.615  1.00  0.00           O  \nATOM    220    O MOL     1       8.009   8.009  16.630  1.00  0.00           O  \nATOM    221   Ba MOL     1      10.011  14.016   0.017  1.00  0.00          BA  \nATOM    222   Ti MOL     1       8.009  12.013   2.202  1.00  0.00          TI  \nATOM    223    O MOL     1       8.009  14.016   2.014  1.00  0.00           O  \nATOM    224    O MOL     1      10.011  12.013   2.014  1.00  0.00           O  \nATOM    225    O MOL     1       8.009  12.013   4.028  1.00  0.00           O  \nATOM    226   Ba MOL     1      10.011  14.016   4.218  1.00  0.00          BA  \nATOM    227   Ti MOL     1       8.009  12.013   6.403  1.00  0.00          TI  \nATOM    228    O MOL     1       8.009  14.016   6.214  1.00  0.00           O  \nATOM    229    O MOL     1      10.011  12.013   6.214  1.00  0.00           O  \nATOM    230    O MOL     1       8.009  12.013   8.228  1.00  0.00           O  \nATOM    231   Ba MOL     1      10.011  14.016   8.419  1.00  0.00          BA  \nATOM    232   Ti MOL     1       8.009  12.013  10.604  1.00  0.00          TI  \nATOM    233    O MOL     1       8.009  14.016  10.415  1.00  0.00           O  \nATOM    234    O MOL     1      10.011  12.013  10.415  1.00  0.00           O  \nATOM    235    O MOL     1       8.009  12.013  12.429  1.00  0.00           O  \nATOM    236   Ba MOL     1      10.011  14.016  12.619  1.00  0.00          BA  \nATOM    237   Ti MOL     1       8.009  12.013  14.804  1.00  0.00          TI  \nATOM    238    O MOL     1       8.009  14.016  14.615  1.00  0.00           O  \nATOM    239    O MOL     1      10.011  12.013  14.615  1.00  0.00           O  \nATOM    240    O MOL     1       8.009  12.013  16.630  1.00  0.00           O  \nATOM    241   Ba MOL     1      14.016   2.002   0.017  1.00  0.00          BA  \nATOM    242   Ti MOL     1      12.013   0.000   2.202  1.00  0.00          TI  \nATOM    243    O MOL     1      12.013   2.002   2.014  1.00  0.00           O  \nATOM    244    O MOL     1      14.016   0.000   2.014  1.00  0.00           O  \nATOM    245    O MOL     1      12.013   0.000   4.028  1.00  0.00           O  \nATOM    246   Ba MOL     1      14.016   2.002   4.218  1.00  0.00          BA  \nATOM    247   Ti MOL     1      12.013   0.000   6.403  1.00  0.00          TI  \nATOM    248    O MOL     1      12.013   2.002   6.214  1.00  0.00           O  \nATOM    249    O MOL     1      14.016   0.000   6.214  1.00  0.00           O  \nATOM    250    O MOL     1      12.013   0.000   8.228  1.00  0.00           O  \nATOM    251   Ba MOL     1      14.016   2.002   8.419  1.00  0.00          BA  \nATOM    252   Ti MOL     1      12.013   0.000  10.604  1.00  0.00          TI  \nATOM    253    O MOL     1      12.013   2.002  10.415  1.00  0.00           O  \nATOM    254    O MOL     1      14.016   0.000  10.415  1.00  0.00           O  \nATOM    255    O MOL     1      12.013   0.000  12.429  1.00  0.00           O  \nATOM    256   Ba MOL     1      14.016   2.002  12.619  1.00  0.00          BA  \nATOM    257   Ti MOL     1      12.013   0.000  14.804  1.00  0.00          TI  \nATOM    258    O MOL     1      12.013   2.002  14.615  1.00  0.00           O  \nATOM    259    O MOL     1      14.016   0.000  14.615  1.00  0.00           O  \nATOM    260    O MOL     1      12.013   0.000  16.630  1.00  0.00           O  \nATOM    261   Ba MOL     1      14.016   6.007   0.017  1.00  0.00          BA  \nATOM    262   Ti MOL     1      12.013   4.004   2.202  1.00  0.00          TI  \nATOM    263    O MOL     1      12.013   6.007   2.014  1.00  0.00           O  \nATOM    264    O MOL     1      14.016   4.004   2.014  1.00  0.00           O  \nATOM    265    O MOL     1      12.013   4.004   4.028  1.00  0.00           O  \nATOM    266   Ba MOL     1      14.016   6.007   4.218  1.00  0.00          BA  \nATOM    267   Ti MOL     1      12.013   4.004   6.403  1.00  0.00          TI  \nATOM    268    O MOL     1      12.013   6.007   6.214  1.00  0.00           O  \nATOM    269    O MOL     1      14.016   4.004   6.214  1.00  0.00           O  \nATOM    270    O MOL     1      12.013   4.004   8.228  1.00  0.00           O  \nATOM    271   Ba MOL     1      14.016   6.007   8.419  1.00  0.00          BA  \nATOM    272   Ti MOL     1      12.013   4.004  10.604  1.00  0.00          TI  \nATOM    273    O MOL     1      12.013   6.007  10.415  1.00  0.00           O  \nATOM    274    O MOL     1      14.016   4.004  10.415  1.00  0.00           O  \nATOM    275    O MOL     1      12.013   4.004  12.429  1.00  0.00           O  \nATOM    276   Ba MOL     1      14.016   6.007  12.619  1.00  0.00          BA  \nATOM    277   Ti MOL     1      12.013   4.004  14.804  1.00  0.00          TI  \nATOM    278    O MOL     1      12.013   6.007  14.615  1.00  0.00           O  \nATOM    279    O MOL     1      14.016   4.004  14.615  1.00  0.00           O  \nATOM    280    O MOL     1      12.013   4.004  16.630  1.00  0.00           O  \nATOM    281   Ba MOL     1      14.016  10.011   0.017  1.00  0.00          BA  \nATOM    282   Ti MOL     1      12.013   8.009   2.202  1.00  0.00          TI  \nATOM    283    O MOL     1      12.013  10.011   2.014  1.00  0.00           O  \nATOM    284    O MOL     1      14.016   8.009   2.014  1.00  0.00           O  \nATOM    285    O MOL     1      12.013   8.009   4.028  1.00  0.00           O  \nATOM    286   Ba MOL     1      14.016  10.011   4.218  1.00  0.00          BA  \nATOM    287   Ti MOL     1      12.013   8.009   6.403  1.00  0.00          TI  \nATOM    288    O MOL     1      12.013  10.011   6.214  1.00  0.00           O  \nATOM    289    O MOL     1      14.016   8.009   6.214  1.00  0.00           O  \nATOM    290    O MOL     1      12.013   8.009   8.228  1.00  0.00           O  \nATOM    291   Ba MOL     1      14.016  10.011   8.419  1.00  0.00          BA  \nATOM    292   Ti MOL     1      12.013   8.009  10.604  1.00  0.00          TI  \nATOM    293    O MOL     1      12.013  10.011  10.415  1.00  0.00           O  \nATOM    294    O MOL     1      14.016   8.009  10.415  1.00  0.00           O  \nATOM    295    O MOL     1      12.013   8.009  12.429  1.00  0.00           O  \nATOM    296   Ba MOL     1      14.016  10.011  12.619  1.00  0.00          BA  \nATOM    297   Ti MOL     1      12.013   8.009  14.804  1.00  0.00          TI  \nATOM    298    O MOL     1      12.013  10.011  14.615  1.00  0.00           O  \nATOM    299    O MOL     1      14.016   8.009  14.615  1.00  0.00           O  \nATOM    300    O MOL     1      12.013   8.009  16.630  1.00  0.00           O  \nATOM    301   Ba MOL     1      14.016  14.016   0.017  1.00  0.00          BA  \nATOM    302   Ti MOL     1      12.013  12.013   2.202  1.00  0.00          TI  \nATOM    303    O MOL     1      12.013  14.016   2.014  1.00  0.00           O  \nATOM    304    O MOL     1      14.016  12.013   2.014  1.00  0.00           O  \nATOM    305    O MOL     1      12.013  12.013   4.028  1.00  0.00           O  \nATOM    306   Ba MOL     1      14.016  14.016   4.218  1.00  0.00          BA  \nATOM    307   Ti MOL     1      12.013  12.013   6.403  1.00  0.00          TI  \nATOM    308    O MOL     1      12.013  14.016   6.214  1.00  0.00           O  \nATOM    309    O MOL     1      14.016  12.013   6.214  1.00  0.00           O  \nATOM    310    O MOL     1      12.013  12.013   8.228  1.00  0.00           O  \nATOM    311   Ba MOL     1      14.016  14.016   8.419  1.00  0.00          BA  \nATOM    312   Ti MOL     1      12.013  12.013  10.604  1.00  0.00          TI  \nATOM    313    O MOL     1      12.013  14.016  10.415  1.00  0.00           O  \nATOM    314    O MOL     1      14.016  12.013  10.415  1.00  0.00           O  \nATOM    315    O MOL     1      12.013  12.013  12.429  1.00  0.00           O  \nATOM    316   Ba MOL     1      14.016  14.016  12.619  1.00  0.00          BA  \nATOM    317   Ti MOL     1      12.013  12.013  14.804  1.00  0.00          TI  \nATOM    318    O MOL     1      12.013  14.016  14.615  1.00  0.00           O  \nATOM    319    O MOL     1      14.016  12.013  14.615  1.00  0.00           O  \nATOM    320    O MOL     1      12.013  12.013  16.630  1.00  0.00           O  \nENDMDL\n",
           "type": "blob"
          }
         ],
         "kwargs": {
          "defaultRepresentation": false,
          "ext": "pdb"
         },
         "methodName": "loadFile",
         "reconstruc_color_scheme": false,
         "target": "Stage",
         "type": "call_method"
        },
        {
         "args": [
          "500px",
          "500px"
         ],
         "kwargs": {},
         "methodName": "setSize",
         "reconstruc_color_scheme": false,
         "target": "Widget",
         "type": "call_method"
        },
        {
         "args": [
          "unitcell"
         ],
         "component_index": 0,
         "kwargs": {
          "sele": "all"
         },
         "methodName": "addRepresentation",
         "reconstruc_color_scheme": false,
         "target": "compList",
         "type": "call_method"
        },
        {
         "args": [
          "spacefill"
         ],
         "component_index": 0,
         "kwargs": {
          "sele": "all"
         },
         "methodName": "addRepresentation",
         "reconstruc_color_scheme": false,
         "target": "compList",
         "type": "call_method"
        },
        {
         "args": [],
         "kwargs": {
          "cameraType": "orthographic"
         },
         "methodName": "setParameters",
         "reconstruc_color_scheme": false,
         "target": "Stage",
         "type": "call_method"
        },
        {
         "args": [
          {
           "clipDist": 0
          }
         ],
         "kwargs": {},
         "methodName": "setParameters",
         "reconstruc_color_scheme": false,
         "target": "Widget",
         "type": "call_method"
        },
        {
         "args": [
          "spacefill",
          0
         ],
         "kwargs": {
          "colorScale": "rainbow",
          "colorScheme": "element",
          "radiusScale": 0.5,
          "radiusType": "covalent"
         },
         "methodName": "updateRepresentationsByName",
         "reconstruc_color_scheme": false,
         "target": "Widget",
         "type": "call_method"
        },
        {
         "args": [
          "this._Q = [[1.0, 0.0, 0.0], [0.0, 1.0, 0.0], [0.0, 0.0, 1.0]]\n    var tooltip = document.createElement('div');\n    Object.assign(tooltip.style, {\n      display: 'none',\n      position: 'fixed',\n      zIndex: 10,\n      pointerEvents: 'none',\n      backgroundColor: 'rgba( 0, 0, 0, 0.6 )',\n      color: 'lightgrey',\n      padding: '8px',\n      fontFamily: 'sans-serif'\n    });\n    document.body.appendChild(tooltip);\n\n    var that = this;\n    this.stage.mouseControls.remove('hoverPick');\n    this.stage.signals.hovered.add(function (pickingProxy) {\n      if (pickingProxy && (pickingProxy.atom || pickingProxy.bond)) {\n        var atom = pickingProxy.atom || pickingProxy.closestBondAtom\n        var mp = pickingProxy.mouse.position\n        //tooltip.innerText = atom.element + ' i=' + atom.index + ' (' + atom.x.toFixed(2) +  ', ' + atom.y.toFixed(2) +  ', ' + atom.z.toFixed(2) + ')'\n        //var pos = that._atoms_pos[atom.index]\n        var Q = that._Q\n        var pos_x = Q[0][0] * atom.x + Q[0][1] * atom.y + Q[0][2] * atom.z \n        var pos_y = Q[1][0] * atom.x + Q[1][1] * atom.y + Q[1][2] * atom.z\n        var pos_z = Q[2][0] * atom.x + Q[2][1] * atom.y + Q[2][2] * atom.z\n        tooltip.innerText = 'i=' + atom.index + ' ' + atom.element + ' (' + pos_x.toFixed(2) +  ', ' + pos_y.toFixed(2) +  ', ' + pos_z.toFixed(2) + ')'\n        tooltip.style.bottom = window.innerHeight - mp.y + 3 + 'px'\n        tooltip.style.left = mp.x + 3 + 'px'\n        tooltip.style.display = 'block'\n      } else {\n        tooltip.style.display = 'none'\n      }\n    });\n    this.stage.tooltip = tooltip;\n    "
         ],
         "kwargs": {},
         "methodName": "executeCode",
         "reconstruc_color_scheme": false,
         "target": "Widget",
         "type": "call_method"
        }
       ],
       "_ngl_original_stage_parameters": {
        "ambientColor": 14540253,
        "ambientIntensity": 0.2,
        "backgroundColor": "white",
        "cameraEyeSep": 0.3,
        "cameraFov": 40,
        "cameraType": "perspective",
        "clipDist": 10,
        "clipFar": 100,
        "clipNear": 0,
        "fogFar": 100,
        "fogNear": 50,
        "hoverTimeout": 0,
        "impostor": true,
        "lightColor": 14540253,
        "lightIntensity": 1,
        "mousePreset": "default",
        "panSpeed": 1,
        "quality": "medium",
        "rotateSpeed": 2,
        "sampleLevel": 0,
        "tooltip": true,
        "workerDefault": true,
        "zoomSpeed": 1.2
       },
       "_ngl_repr_dict": {
        "0": {
         "0": {
          "params": {
           "clipCenter": {
            "x": 0,
            "y": 0,
            "z": 0
           },
           "clipNear": 0,
           "clipRadius": 0,
           "colorMode": "hcl",
           "colorReverse": false,
           "colorScale": "",
           "colorScheme": "element",
           "colorValue": "orange",
           "defaultAssembly": "",
           "depthWrite": true,
           "diffuse": 16777215,
           "diffuseInterior": false,
           "disableImpostor": false,
           "disablePicking": false,
           "flatShaded": false,
           "interiorColor": 2236962,
           "interiorDarkening": 0,
           "lazy": false,
           "matrix": {
            "elements": [
             1,
             0,
             0,
             0,
             0,
             1,
             0,
             0,
             0,
             0,
             1,
             0,
             0,
             0,
             0,
             1
            ]
           },
           "metalness": 0,
           "opacity": 1,
           "quality": "medium",
           "radialSegments": 10,
           "radiusData": {},
           "radiusScale": 1,
           "radiusSize": 0.08137752064937105,
           "radiusType": "vdw",
           "roughness": 0.4,
           "sele": "all",
           "side": "double",
           "sphereDetail": 1,
           "useInteriorColor": true,
           "visible": true,
           "wireframe": false
          },
          "type": "unitcell"
         },
         "1": {
          "params": {
           "assembly": "default",
           "clipCenter": {
            "x": 0,
            "y": 0,
            "z": 0
           },
           "clipNear": 0,
           "clipRadius": 0,
           "colorMode": "hcl",
           "colorReverse": false,
           "colorScale": "rainbow",
           "colorScheme": "element",
           "colorValue": 9474192,
           "defaultAssembly": "",
           "depthWrite": true,
           "diffuse": 16777215,
           "diffuseInterior": false,
           "disableImpostor": false,
           "disablePicking": false,
           "flatShaded": false,
           "interiorColor": 2236962,
           "interiorDarkening": 0,
           "lazy": false,
           "matrix": {
            "elements": [
             1,
             0,
             0,
             0,
             0,
             1,
             0,
             0,
             0,
             0,
             1,
             0,
             0,
             0,
             0,
             1
            ]
           },
           "metalness": 0,
           "opacity": 1,
           "quality": "medium",
           "radiusData": {},
           "radiusScale": 0.5,
           "radiusSize": 1,
           "radiusType": "covalent",
           "roughness": 0.4,
           "sele": "all",
           "side": "double",
           "sphereDetail": 1,
           "useInteriorColor": true,
           "visible": true,
           "wireframe": false
          },
          "type": "spacefill"
         }
        }
       },
       "_ngl_serialize": false,
       "_ngl_version": "2.0.0-dev.36",
       "_ngl_view_id": [
        "B5ABE013-1FD6-4E14-A108-5F8738F64F5A"
       ],
       "_player_dict": {},
       "_scene_position": {},
       "_scene_rotation": {},
       "_synced_model_ids": [],
       "_synced_repr_model_ids": [],
       "_view_height": "",
       "_view_width": "",
       "background": "white",
       "frame": 0,
       "gui_style": null,
       "layout": "IPY_MODEL_cbc46682e5e54dbf8578d7d374c233ad",
       "max_frame": 0,
       "n_components": 1,
       "picked": {}
      }
     },
     "2f97fa7ad6ad43929ca3563383033043": {
      "model_module": "@jupyter-widgets/base",
      "model_module_version": "1.2.0",
      "model_name": "LayoutModel",
      "state": {}
     },
     "2fb1ce5943c648dc9e3c3561552c6b36": {
      "model_module": "@jupyter-widgets/controls",
      "model_module_version": "1.5.0",
      "model_name": "DropdownModel",
      "state": {
       "_options_labels": [
        "All",
        "Ba",
        "Ti",
        "O"
       ],
       "description": "Show",
       "index": 0,
       "layout": "IPY_MODEL_b9098791995c441588fe36772ab362c7",
       "style": "IPY_MODEL_15dcd50362a642cc955a9fa8c41261f6"
      }
     },
     "2ff6eb683e40431ca3d85be53445b90f": {
      "model_module": "@jupyter-widgets/controls",
      "model_module_version": "1.5.0",
      "model_name": "ButtonStyleModel",
      "state": {}
     },
     "31fed38bfa7f45e6a9671fd83faf9af8": {
      "model_module": "@jupyter-widgets/controls",
      "model_module_version": "1.5.0",
      "model_name": "IntSliderModel",
      "state": {
       "layout": "IPY_MODEL_c84689e40085476d8167b9928aa4bbff",
       "max": 0,
       "style": "IPY_MODEL_84f9c29a066a47d8b14425a3c6095220"
      }
     },
     "32aa7e33ac2c4f869a164a222fa7768e": {
      "model_module": "@jupyter-widgets/controls",
      "model_module_version": "1.5.0",
      "model_name": "ButtonModel",
      "state": {
       "description": "Download image",
       "layout": "IPY_MODEL_60e68cf92a4c4e89a9266a8f416b88d5",
       "style": "IPY_MODEL_4f1b3d9955544c06ad53665e40a21a80",
       "tooltip": "Download current frame to your local PC"
      }
     },
     "34081a0fddf34e2194a272090eec48a1": {
      "model_module": "@jupyter-widgets/base",
      "model_module_version": "1.2.0",
      "model_name": "LayoutModel",
      "state": {}
     },
     "352d13381a484c289bb0c13a029c41e8": {
      "model_module": "@jupyter-widgets/controls",
      "model_module_version": "1.5.0",
      "model_name": "FloatSliderModel",
      "state": {
       "description": "Ball size",
       "layout": "IPY_MODEL_8c6e30d6ca4f4b179e9258002559d2b2",
       "max": 1.5,
       "step": 0.01,
       "style": "IPY_MODEL_e81dc2d217234c61b94fa64681ca63cd",
       "value": 0.5
      }
     },
     "37513bb7943f4ab180903f9272368a60": {
      "model_module": "@jupyter-widgets/base",
      "model_module_version": "1.2.0",
      "model_name": "LayoutModel",
      "state": {}
     },
     "396fe752f66c41feaf9c02ba25c25360": {
      "model_module": "@jupyter-widgets/controls",
      "model_module_version": "1.5.0",
      "model_name": "ButtonModel",
      "state": {
       "icon": "compress",
       "layout": "IPY_MODEL_703e2491fcb74a908e8aa9db355bbf7a",
       "style": "IPY_MODEL_4455a8395481495b941003cf517df0d3"
      }
     },
     "3a30f535165049bf8a6bfb9c056cc5ed": {
      "model_module": "@jupyter-widgets/controls",
      "model_module_version": "1.5.0",
      "model_name": "DescriptionStyleModel",
      "state": {
       "description_width": ""
      }
     },
     "3ab4702b946948dc8439df2e067da971": {
      "model_module": "@jupyter-widgets/controls",
      "model_module_version": "1.5.0",
      "model_name": "DescriptionStyleModel",
      "state": {
       "description_width": ""
      }
     },
     "3cea824f83cd4170857153206767d440": {
      "model_module": "@jupyter-widgets/controls",
      "model_module_version": "1.5.0",
      "model_name": "FloatSliderModel",
      "state": {
       "description": "Charge scale",
       "layout": "IPY_MODEL_92e0707a759e41cba745e4c39f6e90a3",
       "step": 0.1,
       "style": "IPY_MODEL_cb34602ca40a41b999f9fe277bd7941e",
       "value": 1
      }
     },
     "3f8568a0379b4c8aaa49ddc1a1714b41": {
      "model_module": "@jupyter-widgets/controls",
      "model_module_version": "1.5.0",
      "model_name": "DropdownModel",
      "state": {
       "_options_labels": [
        " ",
        "picking",
        "random",
        "uniform",
        "atomindex",
        "residueindex",
        "chainindex",
        "modelindex",
        "sstruc",
        "element",
        "resname",
        "bfactor",
        "hydrophobicity",
        "value",
        "volume",
        "occupancy"
       ],
       "description": "Color scheme",
       "index": 9,
       "layout": "IPY_MODEL_a3425f835e06427b85b9a684501b1d56",
       "style": "IPY_MODEL_1c931adea79146418c3636e97d39d750"
      }
     },
     "40498b530b604ba08a22ca7ca25b4124": {
      "model_module": "@jupyter-widgets/base",
      "model_module_version": "1.2.0",
      "model_name": "LayoutModel",
      "state": {
       "border": "0px solid black"
      }
     },
     "409607bc09394b36bd3f97bf8ac88474": {
      "model_module": "@jupyter-widgets/controls",
      "model_module_version": "1.5.0",
      "model_name": "DescriptionStyleModel",
      "state": {
       "description_width": ""
      }
     },
     "416bb28418a64fdcb057e20c565b0774": {
      "model_module": "@jupyter-widgets/controls",
      "model_module_version": "1.5.0",
      "model_name": "ButtonStyleModel",
      "state": {}
     },
     "41d631b2b0b04aaea9f6976f8ed1786f": {
      "model_module": "@jupyter-widgets/controls",
      "model_module_version": "1.5.0",
      "model_name": "DescriptionStyleModel",
      "state": {
       "description_width": ""
      }
     },
     "42a78e82c572427bb832d95d6c7e8361": {
      "model_module": "@jupyter-widgets/controls",
      "model_module_version": "1.5.0",
      "model_name": "ButtonModel",
      "state": {
       "description": "Download image",
       "layout": "IPY_MODEL_fee93c3fdc1f4c009189155c7b1f329f",
       "style": "IPY_MODEL_44d5cb7b8b2541a9a0c865b8919f835b",
       "tooltip": "Download current frame to your local PC"
      }
     },
     "43362efeb7ac43fd89d7824b47dc04c6": {
      "model_module": "@jupyter-widgets/base",
      "model_module_version": "1.2.0",
      "model_name": "LayoutModel",
      "state": {}
     },
     "433b614b1ff140b7bedc4f3f656e97c9": {
      "model_module": "@jupyter-widgets/controls",
      "model_module_version": "1.5.0",
      "model_name": "HBoxModel",
      "state": {
       "children": [
        "IPY_MODEL_32aa7e33ac2c4f869a164a222fa7768e",
        "IPY_MODEL_9313f10d51994345bfc61677b5025d7e"
       ],
       "layout": "IPY_MODEL_ccc33ab9b37d4dec9702a751c024ef2f"
      }
     },
     "4455a8395481495b941003cf517df0d3": {
      "model_module": "@jupyter-widgets/controls",
      "model_module_version": "1.5.0",
      "model_name": "ButtonStyleModel",
      "state": {}
     },
     "4490de781e404c759516a5439db8b80a": {
      "model_module": "@jupyter-widgets/base",
      "model_module_version": "1.2.0",
      "model_name": "LayoutModel",
      "state": {}
     },
     "44d5cb7b8b2541a9a0c865b8919f835b": {
      "model_module": "@jupyter-widgets/controls",
      "model_module_version": "1.5.0",
      "model_name": "ButtonStyleModel",
      "state": {}
     },
     "47d05a6a34394d399654dd57d408cfb3": {
      "model_module": "@jupyter-widgets/base",
      "model_module_version": "1.2.0",
      "model_name": "LayoutModel",
      "state": {}
     },
     "488a7b5725754fda8fefaf29648804f0": {
      "model_module": "@jupyter-widgets/controls",
      "model_module_version": "1.5.0",
      "model_name": "DescriptionStyleModel",
      "state": {
       "description_width": ""
      }
     },
     "4be6bd14288343a789ddf740cb926b6c": {
      "model_module": "@jupyter-widgets/base",
      "model_module_version": "1.2.0",
      "model_name": "LayoutModel",
      "state": {}
     },
     "4bed5593973841ea8ff45ed6acc6b45c": {
      "model_module": "@jupyter-widgets/controls",
      "model_module_version": "1.5.0",
      "model_name": "FloatSliderModel",
      "state": {
       "description": "Force scale",
       "layout": "IPY_MODEL_f6533fb55a5b4a67af4d4e9bf99c35ba",
       "step": 0.1,
       "style": "IPY_MODEL_0db4bfa5ccb040da8dca99a4ac91d5d0",
       "value": 0.5
      }
     },
     "4c96375c3c98441b86b068f4b19ebb38": {
      "model_module": "@jupyter-widgets/base",
      "model_module_version": "1.2.0",
      "model_name": "LayoutModel",
      "state": {}
     },
     "4de9ad3967be463ebd22566ac5267d4c": {
      "model_module": "@jupyter-widgets/controls",
      "model_module_version": "1.5.0",
      "model_name": "LinkModel",
      "state": {
       "source": [
        "IPY_MODEL_82b8880248d142298299cdb0835d44cf",
        "value"
       ],
       "target": [
        "IPY_MODEL_2e891048fd824414ad36e30beba51fc5",
        "frame"
       ]
      }
     },
     "4e3bf4a692764d0a9301fa0bbfb40f9e": {
      "model_module": "@jupyter-widgets/controls",
      "model_module_version": "1.5.0",
      "model_name": "ButtonModel",
      "state": {
       "description": "Save image",
       "layout": "IPY_MODEL_f12af01fa6044d4fa3bb0f95e428448b",
       "style": "IPY_MODEL_416bb28418a64fdcb057e20c565b0774",
       "tooltip": "Save current frame to file.\nCurrently .png and .html are supported.\nIt takes a bit time, please be patient."
      }
     },
     "4f1b3d9955544c06ad53665e40a21a80": {
      "model_module": "@jupyter-widgets/controls",
      "model_module_version": "1.5.0",
      "model_name": "ButtonStyleModel",
      "state": {}
     },
     "4f2ea5141f21402789f624ae538ea185": {
      "model_module": "@jupyter-widgets/base",
      "model_module_version": "1.2.0",
      "model_name": "LayoutModel",
      "state": {}
     },
     "50005df72ece4d21a0361560e904bbdd": {
      "model_module": "@jupyter-widgets/controls",
      "model_module_version": "1.5.0",
      "model_name": "ButtonStyleModel",
      "state": {}
     },
     "515d1d84dcda487f84454f285125d383": {
      "model_module": "@jupyter-widgets/base",
      "model_module_version": "1.2.0",
      "model_name": "LayoutModel",
      "state": {
       "width": "34px"
      }
     },
     "524925ed023d4e639531a28020e9d4dc": {
      "model_module": "@jupyter-widgets/base",
      "model_module_version": "1.2.0",
      "model_name": "LayoutModel",
      "state": {}
     },
     "5303bed96624449c996a48a2d65e21db": {
      "model_module": "@jupyter-widgets/controls",
      "model_module_version": "1.5.0",
      "model_name": "TextModel",
      "state": {
       "description": "Filename: ",
       "layout": "IPY_MODEL_92876259a4154a9eb8fd60fbf14de122",
       "style": "IPY_MODEL_488a7b5725754fda8fefaf29648804f0",
       "value": "screenshot.png"
      }
     },
     "530c7fed03b449899435277a7e0c63a5": {
      "model_module": "@jupyter-widgets/base",
      "model_module_version": "1.2.0",
      "model_name": "LayoutModel",
      "state": {}
     },
     "54b330a168e44f2ab9eac391ff55380f": {
      "model_module": "@jupyter-widgets/controls",
      "model_module_version": "1.5.0",
      "model_name": "IntSliderModel",
      "state": {
       "layout": "IPY_MODEL_df520522c733422aa2bbbc4ad83d03ec",
       "max": 0,
       "style": "IPY_MODEL_79bc70d7ed76451eafe95e7d114f2648"
      }
     },
     "553bba14312948eca4cc4f43c88023b2": {
      "model_module": "@jupyter-widgets/controls",
      "model_module_version": "1.5.0",
      "model_name": "CheckboxModel",
      "state": {
       "description": "Show charge",
       "disabled": false,
       "layout": "IPY_MODEL_34081a0fddf34e2194a272090eec48a1",
       "style": "IPY_MODEL_90f3c9f8553a4b31bf686b16de353d7a",
       "value": false
      }
     },
     "570f149de891445d999f19babbb341b2": {
      "model_module": "@jupyter-widgets/controls",
      "model_module_version": "1.5.0",
      "model_name": "VBoxModel",
      "state": {
       "children": [
        "IPY_MODEL_c7269162d30c40f8a1682f7debcf946b",
        "IPY_MODEL_713119c3e78f4d0ba2c578b15a60a3dc",
        "IPY_MODEL_8b9ebf72cb3644b6a843d7152a5d2654",
        "IPY_MODEL_805cfe0ea9384337bc67fd9aae64c9b8",
        "IPY_MODEL_97c06985befc40e6be505854acf0bf49",
        "IPY_MODEL_ae282a2014cd49ae92c5c0ba0e237f82",
        "IPY_MODEL_4bed5593973841ea8ff45ed6acc6b45c",
        "IPY_MODEL_87a1482fb7b14d1da3fc1d70acf44d46",
        "IPY_MODEL_3cea824f83cd4170857153206767d440",
        "IPY_MODEL_b5605ccaa14c4c478e6299ba1837deda"
       ],
       "layout": "IPY_MODEL_c53807ccce4b4fcbaefc5b443043448c"
      }
     },
     "5726a52de35346f18ddb6a28fe65b521": {
      "model_module": "@jupyter-widgets/base",
      "model_module_version": "1.2.0",
      "model_name": "LayoutModel",
      "state": {}
     },
     "57879547c5e045c0b6660fe150a58cb0": {
      "model_module": "@jupyter-widgets/base",
      "model_module_version": "1.2.0",
      "model_name": "LayoutModel",
      "state": {}
     },
     "57d4a1d4e7f945d7838d500b05d9775a": {
      "model_module": "@jupyter-widgets/controls",
      "model_module_version": "1.5.0",
      "model_name": "SliderStyleModel",
      "state": {
       "description_width": ""
      }
     },
     "58623da18bef4da4a96424de44f661af": {
      "model_module": "@jupyter-widgets/controls",
      "model_module_version": "1.5.0",
      "model_name": "SliderStyleModel",
      "state": {
       "description_width": ""
      }
     },
     "587585e5c7e8477ea0aef5dc62a39da6": {
      "model_module": "@jupyter-widgets/base",
      "model_module_version": "1.2.0",
      "model_name": "LayoutModel",
      "state": {}
     },
     "59ebc801717140149df45d858354a998": {
      "model_module": "@jupyter-widgets/controls",
      "model_module_version": "1.5.0",
      "model_name": "DescriptionStyleModel",
      "state": {
       "description_width": ""
      }
     },
     "5b54504e89f744eba9ded8f6f16b5a61": {
      "model_module": "@jupyter-widgets/controls",
      "model_module_version": "1.5.0",
      "model_name": "SliderStyleModel",
      "state": {
       "description_width": ""
      }
     },
     "5bba56752fd54a3fbc41262539416ea9": {
      "model_module": "@jupyter-widgets/controls",
      "model_module_version": "1.5.0",
      "model_name": "VBoxModel",
      "state": {
       "children": [
        "IPY_MODEL_2fb1ce5943c648dc9e3c3561552c6b36",
        "IPY_MODEL_c7c75473c4f14d448c4bcb8cf6ba82d6",
        "IPY_MODEL_6c2fd8fc662a48fe8c7b83bcdf005b82",
        "IPY_MODEL_2ee0aa2912ed4512a0b4008b25d6e294",
        "IPY_MODEL_bcb6507e58504944b0a61988ec7dc73e",
        "IPY_MODEL_f72e941530bb4bc4b44df4098533cfc3",
        "IPY_MODEL_74795a97141f4d5dbec465992a8c800c",
        "IPY_MODEL_e628dfc70dec493b8a4b723a1eb87a85",
        "IPY_MODEL_d112d744753f4caca440e9d17a29e881",
        "IPY_MODEL_278a23fa31fe40fda46bb8b8b39d6c9d"
       ],
       "layout": "IPY_MODEL_820e42581a644e8bba434219abcaaa44"
      }
     },
     "5d2c59103dfc476f9e5919ea8771ce81": {
      "model_module": "@jupyter-widgets/controls",
      "model_module_version": "1.5.0",
      "model_name": "LinkModel",
      "state": {
       "source": [
        "IPY_MODEL_26132b1852414d19a7cc50931814c3bd",
        "max"
       ],
       "target": [
        "IPY_MODEL_2f182067b0814253b01b102c5a356d79",
        "max_frame"
       ]
      }
     },
     "5d3e78ee91d446019cb9e47d7a570c0e": {
      "model_module": "@jupyter-widgets/controls",
      "model_module_version": "1.5.0",
      "model_name": "DescriptionStyleModel",
      "state": {
       "description_width": ""
      }
     },
     "5ed58f55bffa4e219633e82d17cc78b5": {
      "model_module": "@jupyter-widgets/base",
      "model_module_version": "1.2.0",
      "model_name": "LayoutModel",
      "state": {}
     },
     "5f1a12a6b9444fd68903f42065cdfd38": {
      "model_module": "@jupyter-widgets/controls",
      "model_module_version": "1.5.0",
      "model_name": "LinkModel",
      "state": {
       "source": [
        "IPY_MODEL_2313df5985d94af8a1fa021c868a8bfd",
        "value"
       ],
       "target": [
        "IPY_MODEL_283ca5c35153454b87ea3f6de3880b93",
        "value"
       ]
      }
     },
     "6046b74875fc466fba77cc5bc6e64638": {
      "model_module": "@jupyter-widgets/base",
      "model_module_version": "1.2.0",
      "model_name": "LayoutModel",
      "state": {}
     },
     "60e68cf92a4c4e89a9266a8f416b88d5": {
      "model_module": "@jupyter-widgets/base",
      "model_module_version": "1.2.0",
      "model_name": "LayoutModel",
      "state": {}
     },
     "63310e3fe47244bda50051900d4fb760": {
      "model_module": "@jupyter-widgets/controls",
      "model_module_version": "1.5.0",
      "model_name": "DescriptionStyleModel",
      "state": {
       "description_width": ""
      }
     },
     "651d2547cf1547ae87011d616febfd60": {
      "model_module": "@jupyter-widgets/controls",
      "model_module_version": "1.5.0",
      "model_name": "ButtonModel",
      "state": {
       "icon": "compress",
       "layout": "IPY_MODEL_804e8011cfd9473591502d6879db6aef",
       "style": "IPY_MODEL_c1e782f7d7e749648a1e283a68028738"
      }
     },
     "6628a717702548f494c2f0ea56e18f70": {
      "model_module": "@jupyter-widgets/controls",
      "model_module_version": "1.5.0",
      "model_name": "LinkModel",
      "state": {
       "source": [
        "IPY_MODEL_2313df5985d94af8a1fa021c868a8bfd",
        "value"
       ],
       "target": [
        "IPY_MODEL_2eaac4d65c1440a99b9c973b3ca1d7c6",
        "frame"
       ]
      }
     },
     "681dc9c71e42453eb709b4d2b4a9ac96": {
      "model_module": "@jupyter-widgets/controls",
      "model_module_version": "1.5.0",
      "model_name": "DescriptionStyleModel",
      "state": {
       "description_width": ""
      }
     },
     "6c2fd8fc662a48fe8c7b83bcdf005b82": {
      "model_module": "@jupyter-widgets/controls",
      "model_module_version": "1.5.0",
      "model_name": "FloatSliderModel",
      "state": {
       "description": "Ball size",
       "layout": "IPY_MODEL_47d05a6a34394d399654dd57d408cfb3",
       "max": 1.5,
       "step": 0.01,
       "style": "IPY_MODEL_ccdbef5e70b94fca81ef0d8f11d23f7c",
       "value": 0.5
      }
     },
     "6c9f1ae1a9284054b51eef627937434b": {
      "model_module": "@jupyter-widgets/controls",
      "model_module_version": "1.5.0",
      "model_name": "ButtonStyleModel",
      "state": {}
     },
     "6da28ecba0814acfb14f8b772e801565": {
      "model_module": "@jupyter-widgets/base",
      "model_module_version": "1.2.0",
      "model_name": "LayoutModel",
      "state": {}
     },
     "6e8660163b5a4640a3b05c6988dc11fd": {
      "model_module": "@jupyter-widgets/controls",
      "model_module_version": "1.5.0",
      "model_name": "SliderStyleModel",
      "state": {
       "description_width": ""
      }
     },
     "6f001a2db4eb44d0b623f8334d37adc6": {
      "model_module": "@jupyter-widgets/controls",
      "model_module_version": "1.5.0",
      "model_name": "FloatSliderModel",
      "state": {
       "description": "Ball size",
       "layout": "IPY_MODEL_cb1a77ed990c4afc8a786ae046d1f7ad",
       "max": 1.5,
       "step": 0.01,
       "style": "IPY_MODEL_58623da18bef4da4a96424de44f661af",
       "value": 0.5
      }
     },
     "6f2e61c263f24fb680fa407f90d4168f": {
      "model_module": "@jupyter-widgets/controls",
      "model_module_version": "1.5.0",
      "model_name": "LinkModel",
      "state": {
       "source": [
        "IPY_MODEL_2313df5985d94af8a1fa021c868a8bfd",
        "max"
       ],
       "target": [
        "IPY_MODEL_2eaac4d65c1440a99b9c973b3ca1d7c6",
        "max_frame"
       ]
      }
     },
     "6f5148a5752d44c8949f62a387924bf3": {
      "model_module": "@jupyter-widgets/base",
      "model_module_version": "1.2.0",
      "model_name": "LayoutModel",
      "state": {}
     },
     "703e2491fcb74a908e8aa9db355bbf7a": {
      "model_module": "@jupyter-widgets/base",
      "model_module_version": "1.2.0",
      "model_name": "LayoutModel",
      "state": {
       "width": "34px"
      }
     },
     "713119c3e78f4d0ba2c578b15a60a3dc": {
      "model_module": "@jupyter-widgets/controls",
      "model_module_version": "1.5.0",
      "model_name": "DropdownModel",
      "state": {
       "_options_labels": [
        " ",
        "picking",
        "random",
        "uniform",
        "atomindex",
        "residueindex",
        "chainindex",
        "modelindex",
        "sstruc",
        "element",
        "resname",
        "bfactor",
        "hydrophobicity",
        "value",
        "volume",
        "occupancy"
       ],
       "description": "Color scheme",
       "index": 9,
       "layout": "IPY_MODEL_00b12f39b0c549c19a0e5b5e5f656fe6",
       "style": "IPY_MODEL_3a30f535165049bf8a6bfb9c056cc5ed"
      }
     },
     "74795a97141f4d5dbec465992a8c800c": {
      "model_module": "@jupyter-widgets/controls",
      "model_module_version": "1.5.0",
      "model_name": "FloatSliderModel",
      "state": {
       "description": "Force scale",
       "layout": "IPY_MODEL_7fc8ebae6b1a43b4a88b102e205ca2d6",
       "step": 0.1,
       "style": "IPY_MODEL_fddf8b73a88c4351ab2b16373e29a58d",
       "value": 0.5
      }
     },
     "747d574b18194d35916db9d089b6b609": {
      "model_module": "@jupyter-widgets/base",
      "model_module_version": "1.2.0",
      "model_name": "LayoutModel",
      "state": {}
     },
     "7535ac6aa8924c109b059ad989e96fb3": {
      "model_module": "nglview-js-widgets",
      "model_module_version": "3.0.1",
      "model_name": "NGLModel",
      "state": {
       "_camera_orientation": [
        7.93360035776314,
        0,
        0,
        0,
        0,
        7.93360035776314,
        0,
        0,
        0,
        0,
        7.93360035776314,
        0,
        -1.0010000467300415,
        -1.0010000467300415,
        -2.0224999394267797,
        1
       ],
       "_camera_str": "orthographic",
       "_gui_theme": null,
       "_ibtn_fullscreen": "IPY_MODEL_879467e9ecad4872a080d9b7b55d8fa8",
       "_igui": null,
       "_iplayer": "IPY_MODEL_1ca23bb86ad64b6c8af1dc75db6506fe",
       "_ngl_color_dict": {},
       "_ngl_coordinate_resource": {},
       "_ngl_full_stage_parameters": {
        "ambientColor": 14540253,
        "ambientIntensity": 0.2,
        "backgroundColor": "white",
        "cameraEyeSep": 0.3,
        "cameraFov": 40,
        "cameraType": "orthographic",
        "clipDist": 0,
        "clipFar": 100,
        "clipNear": 0,
        "fogFar": 100,
        "fogNear": 50,
        "hoverTimeout": 0,
        "impostor": true,
        "lightColor": 14540253,
        "lightIntensity": 1,
        "mousePreset": "default",
        "panSpeed": 1,
        "quality": "medium",
        "rotateSpeed": 2,
        "sampleLevel": 0,
        "tooltip": true,
        "workerDefault": true,
        "zoomSpeed": 1.2
       },
       "_ngl_msg_archive": [
        {
         "args": [
          {
           "binary": false,
           "data": "CRYST1    4.004    4.004    4.201  90.00  90.00  90.00 P 1\nMODEL     1\nATOM      1   Ba MOL     1       2.002   2.002   0.017  1.00  0.00          BA  \nATOM      2   Ti MOL     1       0.000   0.000   2.202  1.00  0.00          TI  \nATOM      3    O MOL     1       0.000   2.002   2.014  1.00  0.00           O  \nATOM      4    O MOL     1       2.002   0.000   2.014  1.00  0.00           O  \nATOM      5    O MOL     1       0.000   0.000   4.028  1.00  0.00           O  \nENDMDL\n",
           "type": "blob"
          }
         ],
         "kwargs": {
          "defaultRepresentation": false,
          "ext": "pdb"
         },
         "methodName": "loadFile",
         "reconstruc_color_scheme": false,
         "target": "Stage",
         "type": "call_method"
        },
        {
         "args": [
          "500px",
          "500px"
         ],
         "kwargs": {},
         "methodName": "setSize",
         "reconstruc_color_scheme": false,
         "target": "Widget",
         "type": "call_method"
        },
        {
         "args": [
          "unitcell"
         ],
         "component_index": 0,
         "kwargs": {
          "sele": "all"
         },
         "methodName": "addRepresentation",
         "reconstruc_color_scheme": false,
         "target": "compList",
         "type": "call_method"
        },
        {
         "args": [
          "spacefill"
         ],
         "component_index": 0,
         "kwargs": {
          "sele": "all"
         },
         "methodName": "addRepresentation",
         "reconstruc_color_scheme": false,
         "target": "compList",
         "type": "call_method"
        },
        {
         "args": [],
         "kwargs": {
          "cameraType": "orthographic"
         },
         "methodName": "setParameters",
         "reconstruc_color_scheme": false,
         "target": "Stage",
         "type": "call_method"
        },
        {
         "args": [
          {
           "clipDist": 0
          }
         ],
         "kwargs": {},
         "methodName": "setParameters",
         "reconstruc_color_scheme": false,
         "target": "Widget",
         "type": "call_method"
        },
        {
         "args": [
          "spacefill",
          0
         ],
         "kwargs": {
          "colorScale": "rainbow",
          "colorScheme": "element",
          "radiusScale": 0.5,
          "radiusType": "covalent"
         },
         "methodName": "updateRepresentationsByName",
         "reconstruc_color_scheme": false,
         "target": "Widget",
         "type": "call_method"
        },
        {
         "args": [
          "this._Q = [[1.0, 0.0, 0.0], [0.0, 1.0, 0.0], [0.0, 0.0, 1.0]]\n    var tooltip = document.createElement('div');\n    Object.assign(tooltip.style, {\n      display: 'none',\n      position: 'fixed',\n      zIndex: 10,\n      pointerEvents: 'none',\n      backgroundColor: 'rgba( 0, 0, 0, 0.6 )',\n      color: 'lightgrey',\n      padding: '8px',\n      fontFamily: 'sans-serif'\n    });\n    document.body.appendChild(tooltip);\n\n    var that = this;\n    this.stage.mouseControls.remove('hoverPick');\n    this.stage.signals.hovered.add(function (pickingProxy) {\n      if (pickingProxy && (pickingProxy.atom || pickingProxy.bond)) {\n        var atom = pickingProxy.atom || pickingProxy.closestBondAtom\n        var mp = pickingProxy.mouse.position\n        //tooltip.innerText = atom.element + ' i=' + atom.index + ' (' + atom.x.toFixed(2) +  ', ' + atom.y.toFixed(2) +  ', ' + atom.z.toFixed(2) + ')'\n        //var pos = that._atoms_pos[atom.index]\n        var Q = that._Q\n        var pos_x = Q[0][0] * atom.x + Q[0][1] * atom.y + Q[0][2] * atom.z \n        var pos_y = Q[1][0] * atom.x + Q[1][1] * atom.y + Q[1][2] * atom.z\n        var pos_z = Q[2][0] * atom.x + Q[2][1] * atom.y + Q[2][2] * atom.z\n        tooltip.innerText = 'i=' + atom.index + ' ' + atom.element + ' (' + pos_x.toFixed(2) +  ', ' + pos_y.toFixed(2) +  ', ' + pos_z.toFixed(2) + ')'\n        tooltip.style.bottom = window.innerHeight - mp.y + 3 + 'px'\n        tooltip.style.left = mp.x + 3 + 'px'\n        tooltip.style.display = 'block'\n      } else {\n        tooltip.style.display = 'none'\n      }\n    });\n    this.stage.tooltip = tooltip;\n    "
         ],
         "kwargs": {},
         "methodName": "executeCode",
         "reconstruc_color_scheme": false,
         "target": "Widget",
         "type": "call_method"
        }
       ],
       "_ngl_original_stage_parameters": {
        "ambientColor": 14540253,
        "ambientIntensity": 0.2,
        "backgroundColor": "white",
        "cameraEyeSep": 0.3,
        "cameraFov": 40,
        "cameraType": "perspective",
        "clipDist": 10,
        "clipFar": 100,
        "clipNear": 0,
        "fogFar": 100,
        "fogNear": 50,
        "hoverTimeout": 0,
        "impostor": true,
        "lightColor": 14540253,
        "lightIntensity": 1,
        "mousePreset": "default",
        "panSpeed": 1,
        "quality": "medium",
        "rotateSpeed": 2,
        "sampleLevel": 0,
        "tooltip": true,
        "workerDefault": true,
        "zoomSpeed": 1.2
       },
       "_ngl_repr_dict": {
        "0": {
         "0": {
          "params": {
           "clipCenter": {
            "x": 0,
            "y": 0,
            "z": 0
           },
           "clipNear": 0,
           "clipRadius": 0,
           "colorMode": "hcl",
           "colorReverse": false,
           "colorScale": "",
           "colorScheme": "element",
           "colorValue": "orange",
           "defaultAssembly": "",
           "depthWrite": true,
           "diffuse": 16777215,
           "diffuseInterior": false,
           "disableImpostor": false,
           "disablePicking": false,
           "flatShaded": false,
           "interiorColor": 2236962,
           "interiorDarkening": 0,
           "lazy": false,
           "matrix": {
            "elements": [
             1,
             0,
             0,
             0,
             0,
             1,
             0,
             0,
             0,
             0,
             1,
             0,
             0,
             0,
             0,
             1
            ]
           },
           "metalness": 0,
           "opacity": 1,
           "quality": "medium",
           "radialSegments": 10,
           "radiusData": {},
           "radiusScale": 1,
           "radiusSize": 0.020343090211896044,
           "radiusType": "vdw",
           "roughness": 0.4,
           "sele": "all",
           "side": "double",
           "sphereDetail": 1,
           "useInteriorColor": true,
           "visible": true,
           "wireframe": false
          },
          "type": "unitcell"
         },
         "1": {
          "params": {
           "assembly": "default",
           "clipCenter": {
            "x": 0,
            "y": 0,
            "z": 0
           },
           "clipNear": 0,
           "clipRadius": 0,
           "colorMode": "hcl",
           "colorReverse": false,
           "colorScale": "rainbow",
           "colorScheme": "element",
           "colorValue": 9474192,
           "defaultAssembly": "",
           "depthWrite": true,
           "diffuse": 16777215,
           "diffuseInterior": false,
           "disableImpostor": false,
           "disablePicking": false,
           "flatShaded": false,
           "interiorColor": 2236962,
           "interiorDarkening": 0,
           "lazy": false,
           "matrix": {
            "elements": [
             1,
             0,
             0,
             0,
             0,
             1,
             0,
             0,
             0,
             0,
             1,
             0,
             0,
             0,
             0,
             1
            ]
           },
           "metalness": 0,
           "opacity": 1,
           "quality": "medium",
           "radiusData": {},
           "radiusScale": 0.5,
           "radiusSize": 1,
           "radiusType": "covalent",
           "roughness": 0.4,
           "sele": "all",
           "side": "double",
           "sphereDetail": 1,
           "useInteriorColor": true,
           "visible": true,
           "wireframe": false
          },
          "type": "spacefill"
         }
        }
       },
       "_ngl_serialize": false,
       "_ngl_version": "2.0.0-dev.36",
       "_ngl_view_id": [
        "137F3232-6502-4564-9F94-ACEDE90FDCFF"
       ],
       "_player_dict": {},
       "_scene_position": {},
       "_scene_rotation": {},
       "_synced_model_ids": [],
       "_synced_repr_model_ids": [],
       "_view_height": "",
       "_view_width": "",
       "background": "white",
       "frame": 0,
       "gui_style": null,
       "layout": "IPY_MODEL_37513bb7943f4ab180903f9272368a60",
       "max_frame": 0,
       "n_components": 1,
       "picked": {}
      }
     },
     "764c357eba294d6190f73f320da26bcc": {
      "model_module": "@jupyter-widgets/controls",
      "model_module_version": "1.5.0",
      "model_name": "SliderStyleModel",
      "state": {
       "description_width": ""
      }
     },
     "77738b62e9d841a49e52057b9936b4f8": {
      "model_module": "@jupyter-widgets/controls",
      "model_module_version": "1.5.0",
      "model_name": "FloatSliderModel",
      "state": {
       "description": "Charge scale",
       "layout": "IPY_MODEL_5ed58f55bffa4e219633e82d17cc78b5",
       "step": 0.1,
       "style": "IPY_MODEL_5b54504e89f744eba9ded8f6f16b5a61",
       "value": 1
      }
     },
     "77a42b14e87f47478a5e928bc24bb599": {
      "model_module": "@jupyter-widgets/controls",
      "model_module_version": "1.5.0",
      "model_name": "ButtonModel",
      "state": {
       "icon": "compress",
       "layout": "IPY_MODEL_e73c45de871948a7abb12d3c7e155545",
       "style": "IPY_MODEL_2ff6eb683e40431ca3d85be53445b90f"
      }
     },
     "78450402f55b461eb55241366d4a0fa6": {
      "model_module": "@jupyter-widgets/controls",
      "model_module_version": "1.5.0",
      "model_name": "HBoxModel",
      "state": {
       "children": [
        "IPY_MODEL_42a78e82c572427bb832d95d6c7e8361",
        "IPY_MODEL_152739d7f6f94ce7be93784c85f8b21e"
       ],
       "layout": "IPY_MODEL_9dac4882f3be4cb5add896157308b5c7"
      }
     },
     "7970c921c3244b66a443b4a943dc1c0d": {
      "model_module": "@jupyter-widgets/base",
      "model_module_version": "1.2.0",
      "model_name": "LayoutModel",
      "state": {}
     },
     "798607b0c946452f84779d67720342c4": {
      "model_module": "@jupyter-widgets/base",
      "model_module_version": "1.2.0",
      "model_name": "LayoutModel",
      "state": {}
     },
     "79bc70d7ed76451eafe95e7d114f2648": {
      "model_module": "@jupyter-widgets/controls",
      "model_module_version": "1.5.0",
      "model_name": "SliderStyleModel",
      "state": {
       "description_width": ""
      }
     },
     "7af6e53db06f458885eca7899fe3a1b4": {
      "model_module": "@jupyter-widgets/controls",
      "model_module_version": "1.5.0",
      "model_name": "CheckboxModel",
      "state": {
       "description": "Show force",
       "disabled": false,
       "layout": "IPY_MODEL_6046b74875fc466fba77cc5bc6e64638",
       "style": "IPY_MODEL_10162797ce9e4ca5bf10e247005d6004",
       "value": false
      }
     },
     "7cc77a6302f642d2b6705ceeb6fb77dc": {
      "model_module": "@jupyter-widgets/controls",
      "model_module_version": "1.5.0",
      "model_name": "DescriptionStyleModel",
      "state": {
       "description_width": ""
      }
     },
     "7f3471a704fd4331a4779157f173dd23": {
      "model_module": "@jupyter-widgets/controls",
      "model_module_version": "1.5.0",
      "model_name": "LinkModel",
      "state": {
       "source": [
        "IPY_MODEL_82b8880248d142298299cdb0835d44cf",
        "max"
       ],
       "target": [
        "IPY_MODEL_2e891048fd824414ad36e30beba51fc5",
        "max_frame"
       ]
      }
     },
     "7fc8ebae6b1a43b4a88b102e205ca2d6": {
      "model_module": "@jupyter-widgets/base",
      "model_module_version": "1.2.0",
      "model_name": "LayoutModel",
      "state": {}
     },
     "804e8011cfd9473591502d6879db6aef": {
      "model_module": "@jupyter-widgets/base",
      "model_module_version": "1.2.0",
      "model_name": "LayoutModel",
      "state": {
       "width": "34px"
      }
     },
     "805cfe0ea9384337bc67fd9aae64c9b8": {
      "model_module": "@jupyter-widgets/controls",
      "model_module_version": "1.5.0",
      "model_name": "TextModel",
      "state": {
       "description": "Filename: ",
       "layout": "IPY_MODEL_7970c921c3244b66a443b4a943dc1c0d",
       "style": "IPY_MODEL_fb80ddf983684a038c39e89ab2395cbe",
       "value": "screenshot.png"
      }
     },
     "80a8adb846534b46837f2bc280bc393b": {
      "model_module": "@jupyter-widgets/controls",
      "model_module_version": "1.5.0",
      "model_name": "DescriptionStyleModel",
      "state": {
       "description_width": ""
      }
     },
     "80f8f4b469744046ae34401fcbca78a6": {
      "model_module": "@jupyter-widgets/base",
      "model_module_version": "1.2.0",
      "model_name": "LayoutModel",
      "state": {
       "border": "0px solid black"
      }
     },
     "820e42581a644e8bba434219abcaaa44": {
      "model_module": "@jupyter-widgets/base",
      "model_module_version": "1.2.0",
      "model_name": "LayoutModel",
      "state": {}
     },
     "82b8880248d142298299cdb0835d44cf": {
      "model_module": "@jupyter-widgets/controls",
      "model_module_version": "1.5.0",
      "model_name": "PlayModel",
      "state": {
       "layout": "IPY_MODEL_be2576c1b18041f5b3403366077c8137",
       "max": 0,
       "style": "IPY_MODEL_80a8adb846534b46837f2bc280bc393b"
      }
     },
     "8343ba55dbf3456b9bae9e689fdfd739": {
      "model_module": "@jupyter-widgets/base",
      "model_module_version": "1.2.0",
      "model_name": "LayoutModel",
      "state": {}
     },
     "84f9c29a066a47d8b14425a3c6095220": {
      "model_module": "@jupyter-widgets/controls",
      "model_module_version": "1.5.0",
      "model_name": "SliderStyleModel",
      "state": {
       "description_width": ""
      }
     },
     "854b8a3b4a104db295141180bf1cf031": {
      "model_module": "@jupyter-widgets/base",
      "model_module_version": "1.2.0",
      "model_name": "LayoutModel",
      "state": {}
     },
     "85bc61c4f8064cc8af02eb4d1e3274aa": {
      "model_module": "@jupyter-widgets/base",
      "model_module_version": "1.2.0",
      "model_name": "LayoutModel",
      "state": {}
     },
     "879467e9ecad4872a080d9b7b55d8fa8": {
      "model_module": "@jupyter-widgets/controls",
      "model_module_version": "1.5.0",
      "model_name": "ButtonModel",
      "state": {
       "icon": "compress",
       "layout": "IPY_MODEL_515d1d84dcda487f84454f285125d383",
       "style": "IPY_MODEL_218f7a4b61154b0f9f30b0ee025c04cb"
      }
     },
     "87a1482fb7b14d1da3fc1d70acf44d46": {
      "model_module": "@jupyter-widgets/controls",
      "model_module_version": "1.5.0",
      "model_name": "CheckboxModel",
      "state": {
       "description": "Show charge",
       "disabled": false,
       "layout": "IPY_MODEL_8343ba55dbf3456b9bae9e689fdfd739",
       "style": "IPY_MODEL_681dc9c71e42453eb709b4d2b4a9ac96",
       "value": false
      }
     },
     "8b9ebf72cb3644b6a843d7152a5d2654": {
      "model_module": "@jupyter-widgets/controls",
      "model_module_version": "1.5.0",
      "model_name": "FloatSliderModel",
      "state": {
       "description": "Ball size",
       "layout": "IPY_MODEL_ca9bf0aeec2742d393f9174a23935b0d",
       "max": 1.5,
       "step": 0.01,
       "style": "IPY_MODEL_764c357eba294d6190f73f320da26bcc",
       "value": 0.5
      }
     },
     "8c6e30d6ca4f4b179e9258002559d2b2": {
      "model_module": "@jupyter-widgets/base",
      "model_module_version": "1.2.0",
      "model_name": "LayoutModel",
      "state": {}
     },
     "8caddf1829754271bf7cf8f60b2e6563": {
      "model_module": "@jupyter-widgets/controls",
      "model_module_version": "1.5.0",
      "model_name": "ImageModel",
      "state": {
       "layout": "IPY_MODEL_8cb460b646344446b25cf96fb8bb9f0f",
       "width": "900.0"
      }
     },
     "8cb460b646344446b25cf96fb8bb9f0f": {
      "model_module": "@jupyter-widgets/base",
      "model_module_version": "1.2.0",
      "model_name": "LayoutModel",
      "state": {}
     },
     "8f49f5c37b554cb49870591576e02dae": {
      "model_module": "@jupyter-widgets/controls",
      "model_module_version": "1.5.0",
      "model_name": "DescriptionStyleModel",
      "state": {
       "description_width": ""
      }
     },
     "8f55f7e9e61a4ce7a95de45056c84804": {
      "model_module": "@jupyter-widgets/controls",
      "model_module_version": "1.5.0",
      "model_name": "ButtonStyleModel",
      "state": {}
     },
     "904002ae8ba246359df7590f64299750": {
      "model_module": "@jupyter-widgets/controls",
      "model_module_version": "1.5.0",
      "model_name": "SliderStyleModel",
      "state": {
       "description_width": ""
      }
     },
     "90f3c9f8553a4b31bf686b16de353d7a": {
      "model_module": "@jupyter-widgets/controls",
      "model_module_version": "1.5.0",
      "model_name": "DescriptionStyleModel",
      "state": {
       "description_width": ""
      }
     },
     "917ed6f05718442bb6fd36302ba24b9f": {
      "model_module": "@jupyter-widgets/base",
      "model_module_version": "1.2.0",
      "model_name": "LayoutModel",
      "state": {
       "border": "0px solid black"
      }
     },
     "91ef4ccbfbf84bc5a9c78c7f727b58a3": {
      "model_module": "@jupyter-widgets/controls",
      "model_module_version": "1.5.0",
      "model_name": "DescriptionStyleModel",
      "state": {
       "description_width": ""
      }
     },
     "91f8ec12227649d49db7fb0558994f0b": {
      "model_module": "@jupyter-widgets/base",
      "model_module_version": "1.2.0",
      "model_name": "LayoutModel",
      "state": {}
     },
     "92876259a4154a9eb8fd60fbf14de122": {
      "model_module": "@jupyter-widgets/base",
      "model_module_version": "1.2.0",
      "model_name": "LayoutModel",
      "state": {}
     },
     "92e0707a759e41cba745e4c39f6e90a3": {
      "model_module": "@jupyter-widgets/base",
      "model_module_version": "1.2.0",
      "model_name": "LayoutModel",
      "state": {}
     },
     "9313f10d51994345bfc61677b5025d7e": {
      "model_module": "@jupyter-widgets/controls",
      "model_module_version": "1.5.0",
      "model_name": "ButtonModel",
      "state": {
       "description": "Save image",
       "layout": "IPY_MODEL_e814cc0267774294acf7e9688cd3dbc2",
       "style": "IPY_MODEL_6c9f1ae1a9284054b51eef627937434b",
       "tooltip": "Save current frame to file.\nCurrently .png and .html are supported.\nIt takes a bit time, please be patient."
      }
     },
     "9418b572acb94a2d90c8e07a827cd843": {
      "model_module": "@jupyter-widgets/controls",
      "model_module_version": "1.5.0",
      "model_name": "HBoxModel",
      "state": {
       "children": [
        "IPY_MODEL_2313df5985d94af8a1fa021c868a8bfd",
        "IPY_MODEL_283ca5c35153454b87ea3f6de3880b93"
       ],
       "layout": "IPY_MODEL_94ad39ed34ad4ceda8fbe146403fed28"
      }
     },
     "94ad39ed34ad4ceda8fbe146403fed28": {
      "model_module": "@jupyter-widgets/base",
      "model_module_version": "1.2.0",
      "model_name": "LayoutModel",
      "state": {}
     },
     "97c06985befc40e6be505854acf0bf49": {
      "model_module": "@jupyter-widgets/controls",
      "model_module_version": "1.5.0",
      "model_name": "HBoxModel",
      "state": {
       "children": [
        "IPY_MODEL_f3db12f6862d497e85a04fb5d0ecf6c4",
        "IPY_MODEL_4e3bf4a692764d0a9301fa0bbfb40f9e"
       ],
       "layout": "IPY_MODEL_1e223ffc114f4861a234274927147b1c"
      }
     },
     "9848b8d8dbe84e4198919e343aaf19a0": {
      "model_module": "@jupyter-widgets/controls",
      "model_module_version": "1.5.0",
      "model_name": "ButtonModel",
      "state": {
       "description": "Save image",
       "layout": "IPY_MODEL_11f7bf20155a412d8b704d330d0f3c32",
       "style": "IPY_MODEL_0cd701aa2a0546429b10fb26b3272896",
       "tooltip": "Save current frame to file.\nCurrently .png and .html are supported.\nIt takes a bit time, please be patient."
      }
     },
     "9a9e6bc2e39d454aade1269dc8b51f3f": {
      "model_module": "@jupyter-widgets/controls",
      "model_module_version": "1.5.0",
      "model_name": "CheckboxModel",
      "state": {
       "description": "Show force",
       "disabled": false,
       "layout": "IPY_MODEL_036beff6937440ab97914ac753ebde0b",
       "style": "IPY_MODEL_076a373417c84d3ab0bb3afa00cc9c0d",
       "value": false
      }
     },
     "9d0de8aa877f42dc9d4ce29a256d7229": {
      "model_module": "@jupyter-widgets/base",
      "model_module_version": "1.2.0",
      "model_name": "LayoutModel",
      "state": {}
     },
     "9d8ec3fe40cf463d898b34d79d0bcf30": {
      "model_module": "@jupyter-widgets/controls",
      "model_module_version": "1.5.0",
      "model_name": "SliderStyleModel",
      "state": {
       "description_width": ""
      }
     },
     "9dac4882f3be4cb5add896157308b5c7": {
      "model_module": "@jupyter-widgets/base",
      "model_module_version": "1.2.0",
      "model_name": "LayoutModel",
      "state": {}
     },
     "a25aaa87ad7047ba9e5986b4c85db39f": {
      "model_module": "nglview-js-widgets",
      "model_module_version": "3.0.1",
      "model_name": "ColormakerRegistryModel",
      "state": {
       "_msg_ar": [],
       "_msg_q": [],
       "_ready": true,
       "layout": "IPY_MODEL_be393c954d9e446b813c5a97b2d92a86"
      }
     },
     "a2af7ba1e8b3470695b2a43b26bece39": {
      "model_module": "@jupyter-widgets/controls",
      "model_module_version": "1.5.0",
      "model_name": "DropdownModel",
      "state": {
       "_options_labels": [
        "All",
        "Ba",
        "Ti",
        "O"
       ],
       "description": "Show",
       "index": 0,
       "layout": "IPY_MODEL_cff05248937445d7b17add30b1650e36",
       "style": "IPY_MODEL_28e952006ee84f518eba34fd026c41b4"
      }
     },
     "a31f1d87d1614bf6bbe727d40bd82bc5": {
      "model_module": "@jupyter-widgets/base",
      "model_module_version": "1.2.0",
      "model_name": "LayoutModel",
      "state": {}
     },
     "a3425f835e06427b85b9a684501b1d56": {
      "model_module": "@jupyter-widgets/base",
      "model_module_version": "1.2.0",
      "model_name": "LayoutModel",
      "state": {}
     },
     "a43ad81067f8425db26f0238a8e27924": {
      "model_module": "@jupyter-widgets/base",
      "model_module_version": "1.2.0",
      "model_name": "LayoutModel",
      "state": {}
     },
     "a63e2121b6984956b7452b32a9325e47": {
      "model_module": "@jupyter-widgets/base",
      "model_module_version": "1.2.0",
      "model_name": "LayoutModel",
      "state": {}
     },
     "a864d132487f4070b1efe385fe4b1c95": {
      "model_module": "@jupyter-widgets/controls",
      "model_module_version": "1.5.0",
      "model_name": "ImageModel",
      "state": {
       "layout": "IPY_MODEL_e5669aa476c5487a98a650fef8663675",
       "width": "900.0"
      }
     },
     "ae282a2014cd49ae92c5c0ba0e237f82": {
      "model_module": "@jupyter-widgets/controls",
      "model_module_version": "1.5.0",
      "model_name": "CheckboxModel",
      "state": {
       "description": "Show force",
       "disabled": false,
       "layout": "IPY_MODEL_a63e2121b6984956b7452b32a9325e47",
       "style": "IPY_MODEL_e3d302588b38492c8be09a590520b31c",
       "value": false
      }
     },
     "b2986cf3e1bb4c0f8ff3f3cf7da628ba": {
      "model_module": "@jupyter-widgets/base",
      "model_module_version": "1.2.0",
      "model_name": "LayoutModel",
      "state": {}
     },
     "b5605ccaa14c4c478e6299ba1837deda": {
      "model_module": "@jupyter-widgets/output",
      "model_module_version": "1.0.0",
      "model_name": "OutputModel",
      "state": {
       "layout": "IPY_MODEL_fc76ee13e5ee45579fc10bf4cbecdc84"
      }
     },
     "b8f58ebe6f6142718242a2396cf84f9d": {
      "model_module": "@jupyter-widgets/base",
      "model_module_version": "1.2.0",
      "model_name": "LayoutModel",
      "state": {}
     },
     "b8f605816cc24c20b9a92760425c8363": {
      "model_module": "@jupyter-widgets/controls",
      "model_module_version": "1.5.0",
      "model_name": "LinkModel",
      "state": {
       "source": [
        "IPY_MODEL_26132b1852414d19a7cc50931814c3bd",
        "value"
       ],
       "target": [
        "IPY_MODEL_2f182067b0814253b01b102c5a356d79",
        "frame"
       ]
      }
     },
     "b9098791995c441588fe36772ab362c7": {
      "model_module": "@jupyter-widgets/base",
      "model_module_version": "1.2.0",
      "model_name": "LayoutModel",
      "state": {}
     },
     "b991d6b52d3e43df83c251795f0bb414": {
      "model_module": "@jupyter-widgets/output",
      "model_module_version": "1.0.0",
      "model_name": "OutputModel",
      "state": {
       "layout": "IPY_MODEL_40498b530b604ba08a22ca7ca25b4124"
      }
     },
     "b9d0d7c6a3d4495d999e024642b18b3b": {
      "model_module": "@jupyter-widgets/controls",
      "model_module_version": "1.5.0",
      "model_name": "LinkModel",
      "state": {
       "source": [
        "IPY_MODEL_283ca5c35153454b87ea3f6de3880b93",
        "max"
       ],
       "target": [
        "IPY_MODEL_2eaac4d65c1440a99b9c973b3ca1d7c6",
        "max_frame"
       ]
      }
     },
     "bc350ace09bc44ccac402d2419ea8d08": {
      "model_module": "@jupyter-widgets/controls",
      "model_module_version": "1.5.0",
      "model_name": "LinkModel",
      "state": {
       "source": [
        "IPY_MODEL_25c67ff625424016a46df8b9eb723f46",
        "value"
       ],
       "target": [
        "IPY_MODEL_230e9fb1576f484e96d60c92eae8728d",
        "value"
       ]
      }
     },
     "bcb6507e58504944b0a61988ec7dc73e": {
      "model_module": "@jupyter-widgets/controls",
      "model_module_version": "1.5.0",
      "model_name": "HBoxModel",
      "state": {
       "children": [
        "IPY_MODEL_e5dc207799b8440dbfae555c78768e04",
        "IPY_MODEL_9848b8d8dbe84e4198919e343aaf19a0"
       ],
       "layout": "IPY_MODEL_854b8a3b4a104db295141180bf1cf031"
      }
     },
     "be2576c1b18041f5b3403366077c8137": {
      "model_module": "@jupyter-widgets/base",
      "model_module_version": "1.2.0",
      "model_name": "LayoutModel",
      "state": {}
     },
     "be393c954d9e446b813c5a97b2d92a86": {
      "model_module": "@jupyter-widgets/base",
      "model_module_version": "1.2.0",
      "model_name": "LayoutModel",
      "state": {}
     },
     "bf2df3acd63e454696a143ab03a76c8a": {
      "model_module": "@jupyter-widgets/controls",
      "model_module_version": "1.5.0",
      "model_name": "LinkModel",
      "state": {
       "source": [
        "IPY_MODEL_230e9fb1576f484e96d60c92eae8728d",
        "max"
       ],
       "target": [
        "IPY_MODEL_7535ac6aa8924c109b059ad989e96fb3",
        "max_frame"
       ]
      }
     },
     "c1e782f7d7e749648a1e283a68028738": {
      "model_module": "@jupyter-widgets/controls",
      "model_module_version": "1.5.0",
      "model_name": "ButtonStyleModel",
      "state": {}
     },
     "c4206ad7aa3741bfadf94bfc21e0bcfc": {
      "model_module": "@jupyter-widgets/controls",
      "model_module_version": "1.5.0",
      "model_name": "HBoxModel",
      "state": {
       "children": [
        "IPY_MODEL_7535ac6aa8924c109b059ad989e96fb3",
        "IPY_MODEL_5bba56752fd54a3fbc41262539416ea9"
       ],
       "layout": "IPY_MODEL_cef3659727214dd498ad390ace97e155"
      }
     },
     "c53807ccce4b4fcbaefc5b443043448c": {
      "model_module": "@jupyter-widgets/base",
      "model_module_version": "1.2.0",
      "model_name": "LayoutModel",
      "state": {}
     },
     "c6cad0c8ed1e48f5b2300ce4781bdc07": {
      "model_module": "@jupyter-widgets/controls",
      "model_module_version": "1.5.0",
      "model_name": "DropdownModel",
      "state": {
       "_options_labels": [
        " ",
        "picking",
        "random",
        "uniform",
        "atomindex",
        "residueindex",
        "chainindex",
        "modelindex",
        "sstruc",
        "element",
        "resname",
        "bfactor",
        "hydrophobicity",
        "value",
        "volume",
        "occupancy"
       ],
       "description": "Color scheme",
       "index": 9,
       "layout": "IPY_MODEL_6da28ecba0814acfb14f8b772e801565",
       "style": "IPY_MODEL_409607bc09394b36bd3f97bf8ac88474"
      }
     },
     "c7269162d30c40f8a1682f7debcf946b": {
      "model_module": "@jupyter-widgets/controls",
      "model_module_version": "1.5.0",
      "model_name": "DropdownModel",
      "state": {
       "_options_labels": [
        "All",
        "C"
       ],
       "description": "Show",
       "index": 0,
       "layout": "IPY_MODEL_2f97fa7ad6ad43929ca3563383033043",
       "style": "IPY_MODEL_59ebc801717140149df45d858354a998"
      }
     },
     "c7c75473c4f14d448c4bcb8cf6ba82d6": {
      "model_module": "@jupyter-widgets/controls",
      "model_module_version": "1.5.0",
      "model_name": "DropdownModel",
      "state": {
       "_options_labels": [
        " ",
        "picking",
        "random",
        "uniform",
        "atomindex",
        "residueindex",
        "chainindex",
        "modelindex",
        "sstruc",
        "element",
        "resname",
        "bfactor",
        "hydrophobicity",
        "value",
        "volume",
        "occupancy"
       ],
       "description": "Color scheme",
       "index": 9,
       "layout": "IPY_MODEL_d4543e9b6b874a61bba70889da0f86e7",
       "style": "IPY_MODEL_8f49f5c37b554cb49870591576e02dae"
      }
     },
     "c84689e40085476d8167b9928aa4bbff": {
      "model_module": "@jupyter-widgets/base",
      "model_module_version": "1.2.0",
      "model_name": "LayoutModel",
      "state": {}
     },
     "ca9bf0aeec2742d393f9174a23935b0d": {
      "model_module": "@jupyter-widgets/base",
      "model_module_version": "1.2.0",
      "model_name": "LayoutModel",
      "state": {}
     },
     "caf5fe5d4f294adbae2a5e93e321e4ea": {
      "model_module": "@jupyter-widgets/controls",
      "model_module_version": "1.5.0",
      "model_name": "FloatSliderModel",
      "state": {
       "description": "Charge scale",
       "layout": "IPY_MODEL_e440f85806524c1fbee37bc591f8cb2a",
       "step": 0.1,
       "style": "IPY_MODEL_904002ae8ba246359df7590f64299750",
       "value": 1
      }
     },
     "cb1a77ed990c4afc8a786ae046d1f7ad": {
      "model_module": "@jupyter-widgets/base",
      "model_module_version": "1.2.0",
      "model_name": "LayoutModel",
      "state": {}
     },
     "cb34602ca40a41b999f9fe277bd7941e": {
      "model_module": "@jupyter-widgets/controls",
      "model_module_version": "1.5.0",
      "model_name": "SliderStyleModel",
      "state": {
       "description_width": ""
      }
     },
     "cbc46682e5e54dbf8578d7d374c233ad": {
      "model_module": "@jupyter-widgets/base",
      "model_module_version": "1.2.0",
      "model_name": "LayoutModel",
      "state": {}
     },
     "ccc33ab9b37d4dec9702a751c024ef2f": {
      "model_module": "@jupyter-widgets/base",
      "model_module_version": "1.2.0",
      "model_name": "LayoutModel",
      "state": {}
     },
     "cccfd253081b43a4a254af94c6e084f9": {
      "model_module": "@jupyter-widgets/controls",
      "model_module_version": "1.5.0",
      "model_name": "VBoxModel",
      "state": {
       "children": [
        "IPY_MODEL_242958666c7a472198be36c66b96ac8d",
        "IPY_MODEL_c6cad0c8ed1e48f5b2300ce4781bdc07",
        "IPY_MODEL_6f001a2db4eb44d0b623f8334d37adc6",
        "IPY_MODEL_5303bed96624449c996a48a2d65e21db",
        "IPY_MODEL_433b614b1ff140b7bedc4f3f656e97c9",
        "IPY_MODEL_7af6e53db06f458885eca7899fe3a1b4",
        "IPY_MODEL_245edc30ba23427da5d551e89a8761da",
        "IPY_MODEL_553bba14312948eca4cc4f43c88023b2",
        "IPY_MODEL_caf5fe5d4f294adbae2a5e93e321e4ea",
        "IPY_MODEL_ff51f198b2d64b858d8da8aadaee041f"
       ],
       "layout": "IPY_MODEL_4be6bd14288343a789ddf740cb926b6c"
      }
     },
     "ccdbef5e70b94fca81ef0d8f11d23f7c": {
      "model_module": "@jupyter-widgets/controls",
      "model_module_version": "1.5.0",
      "model_name": "SliderStyleModel",
      "state": {
       "description_width": ""
      }
     },
     "cef3659727214dd498ad390ace97e155": {
      "model_module": "@jupyter-widgets/base",
      "model_module_version": "1.2.0",
      "model_name": "LayoutModel",
      "state": {}
     },
     "cff05248937445d7b17add30b1650e36": {
      "model_module": "@jupyter-widgets/base",
      "model_module_version": "1.2.0",
      "model_name": "LayoutModel",
      "state": {}
     },
     "d112d744753f4caca440e9d17a29e881": {
      "model_module": "@jupyter-widgets/controls",
      "model_module_version": "1.5.0",
      "model_name": "FloatSliderModel",
      "state": {
       "description": "Charge scale",
       "layout": "IPY_MODEL_524925ed023d4e639531a28020e9d4dc",
       "step": 0.1,
       "style": "IPY_MODEL_57d4a1d4e7f945d7838d500b05d9775a",
       "value": 1
      }
     },
     "d4543e9b6b874a61bba70889da0f86e7": {
      "model_module": "@jupyter-widgets/base",
      "model_module_version": "1.2.0",
      "model_name": "LayoutModel",
      "state": {}
     },
     "df3c8330c9e6485e80951e24b77e51c8": {
      "model_module": "@jupyter-widgets/base",
      "model_module_version": "1.2.0",
      "model_name": "LayoutModel",
      "state": {}
     },
     "df520522c733422aa2bbbc4ad83d03ec": {
      "model_module": "@jupyter-widgets/base",
      "model_module_version": "1.2.0",
      "model_name": "LayoutModel",
      "state": {}
     },
     "e1158811e17241f5a34c8d338e75633c": {
      "model_module": "@jupyter-widgets/controls",
      "model_module_version": "1.5.0",
      "model_name": "LinkModel",
      "state": {
       "source": [
        "IPY_MODEL_82b8880248d142298299cdb0835d44cf",
        "value"
       ],
       "target": [
        "IPY_MODEL_31fed38bfa7f45e6a9671fd83faf9af8",
        "value"
       ]
      }
     },
     "e3d302588b38492c8be09a590520b31c": {
      "model_module": "@jupyter-widgets/controls",
      "model_module_version": "1.5.0",
      "model_name": "DescriptionStyleModel",
      "state": {
       "description_width": ""
      }
     },
     "e440f85806524c1fbee37bc591f8cb2a": {
      "model_module": "@jupyter-widgets/base",
      "model_module_version": "1.2.0",
      "model_name": "LayoutModel",
      "state": {}
     },
     "e504f8d32c204bb29099b4fdf4b83225": {
      "model_module": "@jupyter-widgets/controls",
      "model_module_version": "1.5.0",
      "model_name": "DescriptionStyleModel",
      "state": {
       "description_width": ""
      }
     },
     "e5669aa476c5487a98a650fef8663675": {
      "model_module": "@jupyter-widgets/base",
      "model_module_version": "1.2.0",
      "model_name": "LayoutModel",
      "state": {}
     },
     "e5b2a649f8804fa6a44bc16b97e7c32e": {
      "model_module": "@jupyter-widgets/controls",
      "model_module_version": "1.5.0",
      "model_name": "ButtonStyleModel",
      "state": {}
     },
     "e5dc207799b8440dbfae555c78768e04": {
      "model_module": "@jupyter-widgets/controls",
      "model_module_version": "1.5.0",
      "model_name": "ButtonModel",
      "state": {
       "description": "Download image",
       "layout": "IPY_MODEL_4f2ea5141f21402789f624ae538ea185",
       "style": "IPY_MODEL_8f55f7e9e61a4ce7a95de45056c84804",
       "tooltip": "Download current frame to your local PC"
      }
     },
     "e628dfc70dec493b8a4b723a1eb87a85": {
      "model_module": "@jupyter-widgets/controls",
      "model_module_version": "1.5.0",
      "model_name": "CheckboxModel",
      "state": {
       "description": "Show charge",
       "disabled": false,
       "layout": "IPY_MODEL_23f59dfb80484053a8aceb73d221fc53",
       "style": "IPY_MODEL_e504f8d32c204bb29099b4fdf4b83225",
       "value": false
      }
     },
     "e73c45de871948a7abb12d3c7e155545": {
      "model_module": "@jupyter-widgets/base",
      "model_module_version": "1.2.0",
      "model_name": "LayoutModel",
      "state": {
       "width": "34px"
      }
     },
     "e80cd4f2048e4ff09d680394c9d7c3e1": {
      "model_module": "@jupyter-widgets/controls",
      "model_module_version": "1.5.0",
      "model_name": "DescriptionStyleModel",
      "state": {
       "description_width": ""
      }
     },
     "e814cc0267774294acf7e9688cd3dbc2": {
      "model_module": "@jupyter-widgets/base",
      "model_module_version": "1.2.0",
      "model_name": "LayoutModel",
      "state": {}
     },
     "e81dc2d217234c61b94fa64681ca63cd": {
      "model_module": "@jupyter-widgets/controls",
      "model_module_version": "1.5.0",
      "model_name": "SliderStyleModel",
      "state": {
       "description_width": ""
      }
     },
     "e82732a18c014369955192b5c3095bef": {
      "model_module": "@jupyter-widgets/controls",
      "model_module_version": "1.5.0",
      "model_name": "CheckboxModel",
      "state": {
       "description": "Show charge",
       "disabled": false,
       "layout": "IPY_MODEL_b8f58ebe6f6142718242a2396cf84f9d",
       "style": "IPY_MODEL_91ef4ccbfbf84bc5a9c78c7f727b58a3",
       "value": false
      }
     },
     "ec3bc571ad4c4bd6b09dbd9515c3bb0e": {
      "model_module": "@jupyter-widgets/controls",
      "model_module_version": "1.5.0",
      "model_name": "HBoxModel",
      "state": {
       "children": [
        "IPY_MODEL_26132b1852414d19a7cc50931814c3bd",
        "IPY_MODEL_54b330a168e44f2ab9eac391ff55380f"
       ],
       "layout": "IPY_MODEL_a43ad81067f8425db26f0238a8e27924"
      }
     },
     "f12af01fa6044d4fa3bb0f95e428448b": {
      "model_module": "@jupyter-widgets/base",
      "model_module_version": "1.2.0",
      "model_name": "LayoutModel",
      "state": {}
     },
     "f152483c3f3341bf849b498e601a3e14": {
      "model_module": "@jupyter-widgets/controls",
      "model_module_version": "1.5.0",
      "model_name": "LinkModel",
      "state": {
       "source": [
        "IPY_MODEL_31fed38bfa7f45e6a9671fd83faf9af8",
        "max"
       ],
       "target": [
        "IPY_MODEL_2e891048fd824414ad36e30beba51fc5",
        "max_frame"
       ]
      }
     },
     "f371729f01924e4e81d2e1448fa6a464": {
      "model_module": "@jupyter-widgets/controls",
      "model_module_version": "1.5.0",
      "model_name": "LinkModel",
      "state": {
       "source": [
        "IPY_MODEL_25c67ff625424016a46df8b9eb723f46",
        "value"
       ],
       "target": [
        "IPY_MODEL_7535ac6aa8924c109b059ad989e96fb3",
        "frame"
       ]
      }
     },
     "f3db12f6862d497e85a04fb5d0ecf6c4": {
      "model_module": "@jupyter-widgets/controls",
      "model_module_version": "1.5.0",
      "model_name": "ButtonModel",
      "state": {
       "description": "Download image",
       "layout": "IPY_MODEL_9d0de8aa877f42dc9d4ce29a256d7229",
       "style": "IPY_MODEL_e5b2a649f8804fa6a44bc16b97e7c32e",
       "tooltip": "Download current frame to your local PC"
      }
     },
     "f452775e7a734b31ba1c72b73434782f": {
      "model_module": "@jupyter-widgets/base",
      "model_module_version": "1.2.0",
      "model_name": "LayoutModel",
      "state": {}
     },
     "f49dc2ede5c04b7d945413df338be7ed": {
      "model_module": "@jupyter-widgets/base",
      "model_module_version": "1.2.0",
      "model_name": "LayoutModel",
      "state": {}
     },
     "f6533fb55a5b4a67af4d4e9bf99c35ba": {
      "model_module": "@jupyter-widgets/base",
      "model_module_version": "1.2.0",
      "model_name": "LayoutModel",
      "state": {}
     },
     "f70416f975d94240b93aea8373efb526": {
      "model_module": "@jupyter-widgets/base",
      "model_module_version": "1.2.0",
      "model_name": "LayoutModel",
      "state": {}
     },
     "f72e941530bb4bc4b44df4098533cfc3": {
      "model_module": "@jupyter-widgets/controls",
      "model_module_version": "1.5.0",
      "model_name": "CheckboxModel",
      "state": {
       "description": "Show force",
       "disabled": false,
       "layout": "IPY_MODEL_530c7fed03b449899435277a7e0c63a5",
       "style": "IPY_MODEL_e80cd4f2048e4ff09d680394c9d7c3e1",
       "value": false
      }
     },
     "f768108450524c3c81ca634b2cd6477c": {
      "model_module": "@jupyter-widgets/controls",
      "model_module_version": "1.5.0",
      "model_name": "ImageModel",
      "state": {
       "layout": "IPY_MODEL_57879547c5e045c0b6660fe150a58cb0",
       "width": "900.0"
      }
     },
     "f8ddaa8a1400418cb7b4e4b26b95eab0": {
      "model_module": "@jupyter-widgets/controls",
      "model_module_version": "1.5.0",
      "model_name": "ImageModel",
      "state": {
       "layout": "IPY_MODEL_df3c8330c9e6485e80951e24b77e51c8",
       "width": "900.0"
      }
     },
     "fa3430ffc0af4e47b6a64f03fa05c180": {
      "model_module": "@jupyter-widgets/controls",
      "model_module_version": "1.5.0",
      "model_name": "HBoxModel",
      "state": {
       "children": [
        "IPY_MODEL_2e891048fd824414ad36e30beba51fc5",
        "IPY_MODEL_570f149de891445d999f19babbb341b2"
       ],
       "layout": "IPY_MODEL_6f5148a5752d44c8949f62a387924bf3"
      }
     },
     "fb80ddf983684a038c39e89ab2395cbe": {
      "model_module": "@jupyter-widgets/controls",
      "model_module_version": "1.5.0",
      "model_name": "DescriptionStyleModel",
      "state": {
       "description_width": ""
      }
     },
     "fc76ee13e5ee45579fc10bf4cbecdc84": {
      "model_module": "@jupyter-widgets/base",
      "model_module_version": "1.2.0",
      "model_name": "LayoutModel",
      "state": {
       "border": "0px solid black"
      }
     },
     "fddf8b73a88c4351ab2b16373e29a58d": {
      "model_module": "@jupyter-widgets/controls",
      "model_module_version": "1.5.0",
      "model_name": "SliderStyleModel",
      "state": {
       "description_width": ""
      }
     },
     "fee93c3fdc1f4c009189155c7b1f329f": {
      "model_module": "@jupyter-widgets/base",
      "model_module_version": "1.2.0",
      "model_name": "LayoutModel",
      "state": {}
     },
     "ff51f198b2d64b858d8da8aadaee041f": {
      "model_module": "@jupyter-widgets/output",
      "model_module_version": "1.0.0",
      "model_name": "OutputModel",
      "state": {
       "layout": "IPY_MODEL_80f8f4b469744046ae34401fcbca78a6"
      }
     }
    },
    "version_major": 2,
    "version_minor": 0
   }
  }
 },
 "nbformat": 4,
 "nbformat_minor": 5
}
